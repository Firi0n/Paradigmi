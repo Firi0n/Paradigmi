{
 "cells": [
  {
   "cell_type": "markdown",
   "id": "9e1a7c66",
   "metadata": {},
   "source": [
    "# Tipi di dato astratti in OCaml\n",
    "\n",
    "## Esempio di uso dei moduli\n",
    "\n",
    "OCaml consente di definire tipi di dato astratti tramite il meccanismo dei moduli.\n",
    "\n",
    "Vediamo la definizione di un tipo di dato astratto `BOOL` che imita il funzionamento dei booleani, con valori `yes` e `no` e un'operazione `choose` simile ad un `if`.\n",
    "\n",
    "Il tipo di dato astratto sarà definito dalla sua **segnatura** (o **firma**, o **signature**). La segnatura elenca le componenti del tipo di dato astratto (valori e operazioni) con i loro tipi, in modo parametrico rispetto al tipo della sua rappresentazione (`t` in questo esempio) che sarà istanziato successivamente, in fase di implementazione."
   ]
  },
  {
   "cell_type": "code",
   "execution_count": 27,
   "id": "3879dd50",
   "metadata": {},
   "outputs": [
    {
     "data": {
      "text/plain": [
       "module type BOOL =\n",
       "  sig type t val yes : t val no : t val choose : t -> 'a -> 'a -> 'a end\n"
      ]
     },
     "execution_count": 27,
     "metadata": {},
     "output_type": "execute_result"
    }
   ],
   "source": [
    "module type BOOL = sig\n",
    "    type t\n",
    "    val yes: t\n",
    "    val no: t\n",
    "    val choose: t -> 'a -> 'a -> 'a \n",
    "end;;"
   ]
  },
  {
   "cell_type": "markdown",
   "id": "b15557e9",
   "metadata": {},
   "source": [
    "La segnatura di per sé non è utilizzabile, ma descrive precisamente quello che il tipo di dato **è** e **può fare** (che è tutto quello che serve a un programmatore per poterlo usare). Non viene invece descritta la rappresentazione del tipo, ossia la struttura dati (di tipo `t`) usata per implementare il tipo definito. Questa informazione non è necessaria al programmatore che dovrà utilizzare questo nuovo tipo di dato.\n",
    "\n",
    "Un'**implementazione** di un tipo di dato astratto deve andare a definire la rappresentazione del dato e le funzioni che realizzano le operazioni, come specificato dalla segnatura. Spesso, usando meccanismi di compilazione separata, l'implementazione è in un file separato e non è visibile al programmatore che la utilizza. \n",
    "\n",
    "Ad esempio, il modulo `M1` implementa il tipo di dato astratto `BOOL` usando un valore di tipo `unit option` come rappresentazione."
   ]
  },
  {
   "cell_type": "code",
   "execution_count": 28,
   "id": "24ac2552",
   "metadata": {},
   "outputs": [
    {
     "data": {
      "text/plain": [
       "module M1 : BOOL\n"
      ]
     },
     "execution_count": 28,
     "metadata": {},
     "output_type": "execute_result"
    }
   ],
   "source": [
    "module M1 : BOOL = struct\n",
    "    type t = unit option\n",
    "    let yes = Some ()\n",
    "    let no = None\n",
    "    let choose v ifyes ifno =\n",
    "        match v with\n",
    "        | Some () -> ifyes\n",
    "        | None -> ifno\n",
    "end ;;"
   ]
  },
  {
   "cell_type": "markdown",
   "id": "8207e7c4",
   "metadata": {},
   "source": [
    "Data un'implementazione, il programmatore la può utilizzare secondo quanto specificato dalla segnatura, usando la dot notation per riferire ai nomi definiti nel modulo. Si noti che l'interprete nasconde la rappresentazione del valore (indicando `<abstr>` al posto di, ad esempio, `Some ()`)."
   ]
  },
  {
   "cell_type": "code",
   "execution_count": 30,
   "id": "c830967e",
   "metadata": {},
   "outputs": [
    {
     "data": {
      "text/plain": [
       "val x : M1.t = <abstr>\n"
      ]
     },
     "execution_count": 30,
     "metadata": {},
     "output_type": "execute_result"
    },
    {
     "data": {
      "text/plain": [
       "val y : M1.t = <abstr>\n"
      ]
     },
     "execution_count": 30,
     "metadata": {},
     "output_type": "execute_result"
    },
    {
     "data": {
      "text/plain": [
       "- : int = 3\n"
      ]
     },
     "execution_count": 30,
     "metadata": {},
     "output_type": "execute_result"
    }
   ],
   "source": [
    "let x = M1.yes ;;\n",
    "let y = M1.no ;;\n",
    "M1.choose x 3 4 ;;"
   ]
  },
  {
   "cell_type": "markdown",
   "id": "74d4ff27",
   "metadata": {},
   "source": [
    "È possibile specificare più di una implementazione per lo stesso tipo di dato astratto. Implementazioni diverse tipicamente useranno rappresentazioni diverse, con vantaggi diversi. Ad esempio, se stiamo descrivendo il tipo di dato astratto di un insieme di interi, in certi casi potrà essere conveniente usare come rappresentazione interna una lista di interi (per rendere efficiente l'inserimento di nuovi elementi) mentre in altri casi potrà essere più conveniente usare un albero (per rendere più efficiente la ricerca di un elemento).\n",
    "\n",
    "In questo esempio, implementiamo una versione di `BOOL` in cui i valori sono rappresentati come interi."
   ]
  },
  {
   "cell_type": "code",
   "execution_count": 31,
   "id": "b679daa1",
   "metadata": {},
   "outputs": [
    {
     "data": {
      "text/plain": [
       "module M2 : BOOL\n"
      ]
     },
     "execution_count": 31,
     "metadata": {},
     "output_type": "execute_result"
    }
   ],
   "source": [
    "module M2 : BOOL = struct\n",
    "    type t = int\n",
    "    let yes = 1\n",
    "    let no = 0\n",
    "    let choose b ifyes ifno =\n",
    "        if b=1 then\n",
    "            ifyes\n",
    "        else\n",
    "            ifno\n",
    "end ;;"
   ]
  },
  {
   "cell_type": "markdown",
   "id": "cc70e943",
   "metadata": {},
   "source": [
    "Le due implementazioni di `BOOL` sono del tutto equivalente dal punto di vista dell'uso, in quanto implementano lo stesso tipo di dato astratto. Corrispondono però a tipi concreti diversi, e i loro valori non sono confrontabili."
   ]
  },
  {
   "cell_type": "code",
   "execution_count": 33,
   "id": "fa746cfe",
   "metadata": {},
   "outputs": [
    {
     "data": {
      "text/plain": [
       "val x : M1.t = <abstr>\n"
      ]
     },
     "execution_count": 33,
     "metadata": {},
     "output_type": "execute_result"
    },
    {
     "data": {
      "text/plain": [
       "val y : M2.t = <abstr>\n"
      ]
     },
     "execution_count": 33,
     "metadata": {},
     "output_type": "execute_result"
    },
    {
     "ename": "error",
     "evalue": "compile_error",
     "output_type": "error",
     "traceback": [
      "File \"[33]\", line 3, characters 4-5:\n3 | x = y ;;\n        ^\nError: This expression has type M2.t but an expression was expected of type\n         M1.t\n"
     ]
    }
   ],
   "source": [
    "let x = M1.yes ;;\n",
    "let y = M2.yes ;;\n",
    "x = y ;;"
   ]
  },
  {
   "cell_type": "markdown",
   "id": "12a8069f",
   "metadata": {},
   "source": [
    "Ultima osservazione, tramite la direttiva `open` è possibile dire una volta per tutte che si utilizzerà un certo modulo, e questo consentirà di usare tutti i nomi in esso definiti senza bisogno di usare la dot notation (cioè, `open` importa il *name space* del modulo). "
   ]
  },
  {
   "cell_type": "code",
   "execution_count": 35,
   "id": "d4e54fed",
   "metadata": {},
   "outputs": [
    {
     "data": {
      "text/plain": [
       "val x : M2.t = <abstr>\n"
      ]
     },
     "execution_count": 35,
     "metadata": {},
     "output_type": "execute_result"
    },
    {
     "data": {
      "text/plain": [
       "- : int = 3\n"
      ]
     },
     "execution_count": 35,
     "metadata": {},
     "output_type": "execute_result"
    }
   ],
   "source": [
    "open M2 ;;\n",
    "let x = yes;;\n",
    "choose x 3 4 ;;"
   ]
  },
  {
   "cell_type": "markdown",
   "id": "d1c444e6",
   "metadata": {},
   "source": [
    "In questo modo, cambiando sostituendo semplicemente `M1` con `M2` nella direttiva `open`, il programma continua a funzionare sebbene ovunque verrà utilizzata l'altra implementazione del tipo di dato astratto."
   ]
  }
 ],
 "metadata": {
  "kernelspec": {
   "display_name": "OCaml default",
   "language": "OCaml",
   "name": "ocaml-jupyter"
  },
  "language_info": {
   "codemirror_mode": "text/x-ocaml",
   "file_extension": ".ml",
   "mimetype": "text/x-ocaml",
   "name": "OCaml",
   "nbconverter_exporter": null,
   "pygments_lexer": "OCaml",
   "version": "4.08.1"
  }
 },
 "nbformat": 4,
 "nbformat_minor": 5
}
