{
 "cells": [
  {
   "cell_type": "markdown",
   "id": "83e519df",
   "metadata": {},
   "source": [
    "**Esercizio 1.** Che tipo hanno le seguenti espressioni?\n",
    "\n",
    "1\n",
    "```ocaml\n",
    "let f x y =\n",
    "  match (x 10) with\n",
    "    | true -> y\n",
    "    | false -> [];;\n",
    "```\n",
    "2\n",
    "```ocaml\n",
    "let rec g x =\n",
    "  match x with\n",
    "    | [] -> 0\n",
    "    | y::ys -> 1 + g ys;;\n",
    "```\n",
    "3\n",
    "```ocaml\n",
    "let h x y =\n",
    "  let (w, z) = y true in\n",
    "    if w then z::x else x;;\n",
    "```\n",
    "4\n",
    "```ocaml\n",
    "fun x -> fun y -> if x then y [] else [0]\n",
    "```\n",
    "5\n",
    "```ocaml\n",
    "(fun x -> fun y -> if x then y [] else [0]) (true)\n",
    "```\n",
    "6\n",
    "```ocaml\n",
    "List.for_all (fun x -> x = 3)\n",
    "```\n",
    "\n",
    "Per l'espressione 6 è utile ricordare il tipo di `List.for_all` (che si può ottenere anche dall'interprete).\n",
    "```ocaml\n",
    "List.for_all : ('a -> bool) -> 'a list -> bool\n",
    "```"
   ]
  },
  {
   "cell_type": "markdown",
   "id": "00ba97a7",
   "metadata": {},
   "source": [
    "In classe abbiamo fatto 1 e 3, lo svolgimento è nel pdf `soluzioni` in questa cartella."
   ]
  },
  {
   "cell_type": "code",
   "execution_count": null,
   "id": "50ae354b",
   "metadata": {},
   "outputs": [],
   "source": []
  },
  {
   "cell_type": "markdown",
   "id": "6deb5ae3",
   "metadata": {},
   "source": [
    "**Esercizio 2.** Scrivere una funzione `sort` che prende una lista di elementi di qualunque tipo e restituisce una lista con gli stessi elementi ordinati in modo crescente. (Suggerimento: possono essere utili le funzioni `min` e `remove` degli esercizi precedenti)."
   ]
  },
  {
   "cell_type": "code",
   "execution_count": 1,
   "id": "8b363047",
   "metadata": {},
   "outputs": [
    {
     "data": {
      "text/plain": [
       "val remove_rec : 'a -> 'a list -> 'a list = <fun>\n"
      ]
     },
     "execution_count": 1,
     "metadata": {},
     "output_type": "execute_result"
    },
    {
     "data": {
      "text/plain": [
       "val min_lis : int list -> int = <fun>\n"
      ]
     },
     "execution_count": 1,
     "metadata": {},
     "output_type": "execute_result"
    },
    {
     "data": {
      "text/plain": [
       "val sort : int list -> int list = <fun>\n"
      ]
     },
     "execution_count": 1,
     "metadata": {},
     "output_type": "execute_result"
    },
    {
     "data": {
      "text/plain": [
       "- : int list = [1; 1; 2; 3; 10; 100]\n"
      ]
     },
     "execution_count": 1,
     "metadata": {},
     "output_type": "execute_result"
    }
   ],
   "source": [
    "let rec remove_rec x lis =\n",
    "  match lis with\n",
    "    | [] -> []\n",
    "    | y::lis' -> if (y=x) then lis' else y::(remove_rec x lis');;\n",
    "\n",
    "let min_lis lis =\n",
    "  let minimum x y = if x<y then x else y\n",
    "  in\n",
    "    if (lis = []) then 0 else List.fold_left minimum (List.hd lis) lis;;\n",
    "\n",
    "\n",
    "let rec sort lis = if lis = [] then [] else\n",
    "  let global_min = min_lis lis in\n",
    "  global_min::(sort (remove_rec global_min lis));;\n",
    "\n",
    "sort [3; 10; 1; 2; 1; 100];;"
   ]
  }
 ],
 "metadata": {
  "kernelspec": {
   "display_name": "OCaml default",
   "language": "OCaml",
   "name": "ocaml-jupyter"
  },
  "language_info": {
   "codemirror_mode": "text/x-ocaml",
   "file_extension": ".ml",
   "mimetype": "text/x-ocaml",
   "name": "OCaml",
   "nbconverter_exporter": null,
   "pygments_lexer": "OCaml",
   "version": "4.08.1"
  }
 },
 "nbformat": 4,
 "nbformat_minor": 5
}
