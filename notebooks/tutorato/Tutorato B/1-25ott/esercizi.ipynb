{
 "cells": [
  {
   "cell_type": "markdown",
   "id": "62d6d26b",
   "metadata": {},
   "source": [
    "# Esercizio 1\n",
    "\n",
    "Estendere MiniCaml con un costrutto `Test p f1 f2` che calcola `f1 p` ed `f2 p`. Se esattamente uno è vero ritorna `True`, altrimenti errore (`raise (RuntimeError \"test fallito\")`)."
   ]
  },
  {
   "cell_type": "markdown",
   "id": "c63af03d",
   "metadata": {},
   "source": [
    "### Sintassi"
   ]
  },
  {
   "cell_type": "code",
   "execution_count": 1,
   "id": "70a065a6",
   "metadata": {},
   "outputs": [
    {
     "data": {
      "text/plain": [
       "type ide = string\n"
      ]
     },
     "execution_count": 1,
     "metadata": {},
     "output_type": "execute_result"
    },
    {
     "data": {
      "text/plain": [
       "type tname = TInt | TBool | TString | TClosure | TRecClosure | TUnBound\n"
      ]
     },
     "execution_count": 1,
     "metadata": {},
     "output_type": "execute_result"
    },
    {
     "data": {
      "text/plain": [
       "type exp =\n",
       "    EInt of int\n",
       "  | CstTrue\n",
       "  | CstFalse\n",
       "  | EString of string\n",
       "  | Den of ide\n",
       "  | Sum of exp * exp\n",
       "  | Diff of exp * exp\n",
       "  | Prod of exp * exp\n",
       "  | Div of exp * exp\n",
       "  | IsZero of exp\n",
       "  | Eq of exp * exp\n",
       "  | LessThan of exp * exp\n",
       "  | GreaterThan of exp * exp\n",
       "  | And of exp * exp\n",
       "  | Or of exp * exp\n",
       "  | Not of exp\n",
       "  | IfThenElse of exp * exp * exp\n",
       "  | Let of ide * exp * exp\n",
       "  | Letrec of ide * ide * exp * exp\n",
       "  | Fun of ide * exp\n",
       "  | Apply of exp * exp\n",
       "  | Test of exp * exp * exp\n"
      ]
     },
     "execution_count": 1,
     "metadata": {},
     "output_type": "execute_result"
    }
   ],
   "source": [
    "(* Identificatori *)\n",
    "type ide = string;;\n",
    "\n",
    "(* I tipi *)\n",
    "type tname =  TInt | TBool | TString | TClosure | TRecClosure | TUnBound\n",
    "\n",
    "(* Abstract Expressions = espressioni nella sintassi astratta, \n",
    "   compongono l'Albero di Sintassi Astratta *)\n",
    "type exp = \n",
    "    | EInt of int\n",
    "    | CstTrue \n",
    "    | CstFalse\n",
    "    | EString of string\n",
    "    | Den of ide\n",
    "    (* Operatori binari da interi a interi*)\n",
    "    | Sum of exp * exp\n",
    "    | Diff of exp * exp\n",
    "    | Prod of exp * exp\n",
    "    | Div of exp * exp\n",
    "    (* Operatori da interi a booleani *)\n",
    "    | IsZero of exp\n",
    "    | Eq of exp * exp\n",
    "    | LessThan of exp*exp\n",
    "    | GreaterThan of exp*exp\n",
    "    (* Operatori su booleani *)\n",
    "    | And of exp*exp\n",
    "    | Or of exp*exp\n",
    "    | Not of exp\n",
    "    (* Controllo del flusso, funzioni *)\n",
    "    | IfThenElse of exp * exp * exp\n",
    "    | Let of ide * exp * exp\n",
    "    | Letrec of ide * ide  * exp * exp\n",
    "    | Fun of ide * exp\n",
    "    | Apply of exp * exp\n",
    "    (* Costrutto test *)\n",
    "    | Test of exp * exp * exp\n"
   ]
  },
  {
   "cell_type": "markdown",
   "id": "34cdc1ca",
   "metadata": {},
   "source": [
    "### Valori esprimibili"
   ]
  },
  {
   "cell_type": "code",
   "execution_count": 2,
   "id": "07696d59",
   "metadata": {},
   "outputs": [
    {
     "data": {
      "text/plain": [
       "type 't env = ide -> 't\n"
      ]
     },
     "execution_count": 2,
     "metadata": {},
     "output_type": "execute_result"
    },
    {
     "data": {
      "text/plain": [
       "type evT =\n",
       "    Int of int\n",
       "  | Bool of bool\n",
       "  | String of string\n",
       "  | Closure of ide * exp * evT env\n",
       "  | RecClosure of ide * ide * exp * evT env\n",
       "  | UnBound\n"
      ]
     },
     "execution_count": 2,
     "metadata": {},
     "output_type": "execute_result"
    },
    {
     "data": {
      "text/plain": [
       "val emptyenv : 'a -> evT = <fun>\n"
      ]
     },
     "execution_count": 2,
     "metadata": {},
     "output_type": "execute_result"
    },
    {
     "data": {
      "text/plain": [
       "val bind : evT env -> ide -> evT -> ide -> evT = <fun>\n"
      ]
     },
     "execution_count": 2,
     "metadata": {},
     "output_type": "execute_result"
    }
   ],
   "source": [
    "(* Ambiente polimorfo *)\n",
    "type 't env = ide -> 't\n",
    "\n",
    "(* Evaluation types = tipi  esprimibili *)\n",
    "type evT = \n",
    "    | Int of int \n",
    "    | Bool of bool \n",
    "    | String of string \n",
    "    | Closure of ide * exp * evT env \n",
    "    | RecClosure of ide * ide * exp * evT env\n",
    "    | UnBound\n",
    "\n",
    "(* Ambiente vuoto *)\n",
    "let emptyenv = function x -> UnBound\n",
    "\n",
    "(* Binding fra una stringa x e un valore primitivo evT *)\n",
    "let bind (s: evT env) (x: ide) (v: evT) = \n",
    "    function (i: ide) -> if (i = x) then v else (s i)"
   ]
  },
  {
   "cell_type": "markdown",
   "id": "794c7f3e",
   "metadata": {},
   "source": [
    "### Typechecking"
   ]
  },
  {
   "cell_type": "code",
   "execution_count": 3,
   "id": "fefec77a",
   "metadata": {},
   "outputs": [
    {
     "data": {
      "text/plain": [
       "val getType : evT -> tname = <fun>\n"
      ]
     },
     "execution_count": 3,
     "metadata": {},
     "output_type": "execute_result"
    },
    {
     "data": {
      "text/plain": [
       "val typecheck : tname * evT -> bool = <fun>\n"
      ]
     },
     "execution_count": 3,
     "metadata": {},
     "output_type": "execute_result"
    }
   ],
   "source": [
    "(* Funzione da evT a tname che associa a ogni valore il suo descrittore di tipo  *)\n",
    "let getType (x: evT) : tname =\n",
    "    match x with\n",
    "    | Int(n) -> TInt\n",
    "    | Bool(b) -> TBool\n",
    "    | String(s) -> TString\n",
    "    | Closure(i,e,en) -> TClosure\n",
    "    | RecClosure(i,j,e,en) -> TRecClosure\n",
    "    | UnBound -> TUnBound\n",
    "\n",
    "(* Type-checking *)\n",
    "let typecheck ((x, y) : (tname*evT)) = \n",
    "    match x with\n",
    "    | TInt -> (match y with \n",
    "               | Int(u) -> true\n",
    "               | _ -> false\n",
    "               )\n",
    "    | TBool -> (match y with \n",
    "                | Bool(u) -> true\n",
    "                | _ -> false\n",
    "                )\n",
    "    | TString -> (match y with\n",
    "                 | String(u) -> true\n",
    "                 | _ -> false\n",
    "                 )\n",
    "    | TClosure -> (match y with\n",
    "                   | Closure(i,e,n) -> true\n",
    "                   | _ -> false\n",
    "                   )\n",
    "    | TRecClosure -> (match y with\n",
    "                     | RecClosure(i,j,e,n) -> true\n",
    "                     | _ -> false\n",
    "                     )\n",
    "    |TUnBound -> (match y with\n",
    "                 | UnBound -> true\n",
    "                 | _ -> false\n",
    "                 )"
   ]
  },
  {
   "cell_type": "markdown",
   "id": "4009a1db",
   "metadata": {},
   "source": [
    "### Eval"
   ]
  },
  {
   "cell_type": "code",
   "execution_count": 4,
   "id": "8f5537e1",
   "metadata": {},
   "outputs": [
    {
     "data": {
      "text/plain": [
       "exception RuntimeError of string\n"
      ]
     },
     "execution_count": 4,
     "metadata": {},
     "output_type": "execute_result"
    },
    {
     "data": {
      "text/plain": [
       "val is_zero : evT -> evT = <fun>\n"
      ]
     },
     "execution_count": 4,
     "metadata": {},
     "output_type": "execute_result"
    },
    {
     "data": {
      "text/plain": [
       "val int_eq : evT * evT -> evT = <fun>\n"
      ]
     },
     "execution_count": 4,
     "metadata": {},
     "output_type": "execute_result"
    },
    {
     "data": {
      "text/plain": [
       "val int_plus : evT * evT -> evT = <fun>\n"
      ]
     },
     "execution_count": 4,
     "metadata": {},
     "output_type": "execute_result"
    },
    {
     "data": {
      "text/plain": [
       "val int_sub : evT * evT -> evT = <fun>\n"
      ]
     },
     "execution_count": 4,
     "metadata": {},
     "output_type": "execute_result"
    },
    {
     "data": {
      "text/plain": [
       "val int_times : evT * evT -> evT = <fun>\n"
      ]
     },
     "execution_count": 4,
     "metadata": {},
     "output_type": "execute_result"
    },
    {
     "data": {
      "text/plain": [
       "val int_div : evT * evT -> evT = <fun>\n"
      ]
     },
     "execution_count": 4,
     "metadata": {},
     "output_type": "execute_result"
    },
    {
     "data": {
      "text/plain": [
       "val less_than : evT * evT -> evT = <fun>\n"
      ]
     },
     "execution_count": 4,
     "metadata": {},
     "output_type": "execute_result"
    },
    {
     "data": {
      "text/plain": [
       "val greater_than : evT * evT -> evT = <fun>\n"
      ]
     },
     "execution_count": 4,
     "metadata": {},
     "output_type": "execute_result"
    },
    {
     "data": {
      "text/plain": [
       "val bool_and : evT * evT -> evT = <fun>\n"
      ]
     },
     "execution_count": 4,
     "metadata": {},
     "output_type": "execute_result"
    },
    {
     "data": {
      "text/plain": [
       "val bool_or : evT * evT -> evT = <fun>\n"
      ]
     },
     "execution_count": 4,
     "metadata": {},
     "output_type": "execute_result"
    },
    {
     "data": {
      "text/plain": [
       "val bool_not : evT -> evT = <fun>\n"
      ]
     },
     "execution_count": 4,
     "metadata": {},
     "output_type": "execute_result"
    }
   ],
   "source": [
    "(* Errori a runtime *)\n",
    "exception RuntimeError of string\n",
    "\n",
    "(* PRIMITIVE del linguaggio *)\n",
    "\n",
    "(* Controlla se un numero è zero *)\n",
    "let is_zero(x) = match (typecheck(TInt,x),x) with\n",
    "    | (true, Int(v)) -> Bool(v = 0)\n",
    "    | (_, _) -> raise ( RuntimeError \"Wrong type\")\n",
    "\n",
    "(* Uguaglianza fra interi *)\n",
    "let int_eq(x,y) =   \n",
    "    match (typecheck(TInt,x), typecheck(TInt,y), x, y) with\n",
    "    | (true, true, Int(v), Int(w)) -> Bool(v = w)\n",
    "    | (_,_,_,_) -> raise ( RuntimeError \"Wrong type\")\n",
    "\n",
    "(* Somma fra interi *)\t   \n",
    "let int_plus(x, y) = \n",
    "    match(typecheck(TInt,x), typecheck(TInt,y), x, y) with\n",
    "    | (true, true, Int(v), Int(w)) -> Int(v + w)\n",
    "    | (_,_,_,_) -> raise ( RuntimeError \"Wrong type\")\n",
    "\n",
    "(* Differenza fra interi *)\n",
    "let int_sub(x, y) = \n",
    "    match(typecheck(TInt,x), typecheck(TInt,y), x, y) with\n",
    "    | (true, true, Int(v), Int(w)) -> Int(v - w)\n",
    "    | (_,_,_,_) -> raise ( RuntimeError \"Wrong type\")\n",
    "\n",
    "(* Prodotto fra interi *)\n",
    "let int_times(x, y) =\n",
    "    match(typecheck(TInt,x), typecheck(TInt,y), x, y) with\n",
    "    | (true, true, Int(v), Int(w)) -> Int(v * w)\n",
    "    | (_,_,_,_) -> raise ( RuntimeError \"Wrong type\")\n",
    "    \n",
    "(* Divisione fra interi *)\n",
    "let int_div(x, y) =\n",
    "    match(typecheck(TInt,x), typecheck(TInt,y), x, y) with\n",
    "    | (true, true, Int(v), Int(w)) -> \n",
    "                    if w<>0 then Int(v / w)\n",
    "                            else raise (RuntimeError \"Division by zero\")\n",
    "    | (_,_,_,_) -> raise ( RuntimeError \"Wrong type\")\n",
    "\n",
    "(* Operazioni di confronto *)\n",
    "let less_than(x, y) = \n",
    "    match (typecheck(TInt,x), typecheck(TInt,y), x, y) with\n",
    "    | (true, true, Int(v), Int(w)) -> Bool(v < w)\n",
    "    | (_,_,_,_) -> raise ( RuntimeError \"Wrong type\")\n",
    "\n",
    "let greater_than(x, y) = \n",
    "    match (typecheck(TInt,x), typecheck(TInt,y), x, y) with\n",
    "    | (true, true, Int(v), Int(w)) -> Bool(v > w)\n",
    "    | (_,_,_,_) -> raise ( RuntimeError \"Wrong type\")\n",
    "\n",
    "(* Operazioni logiche *)\n",
    "let bool_and(x,y) = \n",
    "    match (typecheck(TBool,x), typecheck(TBool,y), x, y) with\n",
    "    | (true, true, Bool(v), Bool(w)) -> Bool(v && w)\n",
    "    | (_,_,_,_) -> raise ( RuntimeError \"Wrong type\")\n",
    "\n",
    "let bool_or(x,y) = \n",
    "    match (typecheck(TBool,x), typecheck(TBool,y), x, y) with\n",
    "    | (true, true, Bool(v), Bool(w)) -> Bool(v || w)\n",
    "    | (_,_,_,_) -> raise ( RuntimeError \"Wrong type\")\n",
    "\n",
    "let bool_not(x) = \n",
    "    match (typecheck(TBool,x), x) with\n",
    "    | (true, Bool(v)) -> Bool(not(v))\n",
    "    | (_,_) -> raise ( RuntimeError \"Wrong type\")"
   ]
  },
  {
   "cell_type": "code",
   "execution_count": 5,
   "id": "7241706b",
   "metadata": {},
   "outputs": [
    {
     "data": {
      "text/plain": [
       "val eval : exp -> evT env -> evT = <fun>\n"
      ]
     },
     "execution_count": 5,
     "metadata": {},
     "output_type": "execute_result"
    }
   ],
   "source": [
    "(* Interprete *)\n",
    "let rec eval (e:exp) (s:evT env) : evT = \n",
    "    match e with\n",
    "    | EInt(n) -> Int(n)\n",
    "    | CstTrue -> Bool(true)\n",
    "    | CstFalse -> Bool(false)\n",
    "    | EString(s) -> String(s)\n",
    "    | Den(i) -> (s i)\n",
    "\n",
    "    | Prod(e1,e2) -> int_times((eval e1 s), (eval e2 s))\n",
    "    | Sum(e1, e2) -> int_plus((eval e1 s), (eval e2 s))\n",
    "    | Diff(e1, e2) -> int_sub((eval e1 s), (eval e2 s))\n",
    "    | Div(e1, e2) -> int_div((eval e1 s), (eval e2 s))\n",
    "\n",
    "    | IsZero(e1) -> is_zero (eval e1 s)\n",
    "    | Eq(e1, e2) -> int_eq((eval e1 s), (eval e2 s))\n",
    "    | LessThan(e1, e2) -> less_than((eval e1 s),(eval e2 s))\n",
    "    | GreaterThan(e1, e2) -> greater_than((eval e1 s),(eval e2 s))\n",
    "\n",
    "    | And(e1, e2) -> bool_and((eval e1 s),(eval e2 s))\n",
    "    | Or(e1, e2) -> bool_or((eval e1 s),(eval e2 s))\n",
    "    | Not(e1) -> bool_not(eval e1 s)\n",
    "\n",
    "    | IfThenElse(e1,e2,e3) -> \n",
    "        let g = eval e1 s in \n",
    "            (match (typecheck(TBool,g),g) with\n",
    "            |(true, Bool(true)) -> eval e2 s\n",
    "            |(true, Bool(false)) -> eval e3 s\n",
    "            |(_,_) -> raise ( RuntimeError \"Wrong type\")\n",
    "            )\n",
    "    | Let(i, e, ebody) -> eval ebody (bind s i (eval e s))\n",
    "    | Fun(arg, ebody) -> Closure(arg,ebody,s)\n",
    "    | Letrec(f, arg, fBody, leBody) ->\n",
    "        let benv = bind (s) (f) (RecClosure(f, arg, fBody,s)) in\n",
    "            eval leBody benv\n",
    "    | Apply(eF, eArg) ->\n",
    "        let fclosure = eval eF s in \n",
    "            (match fclosure with \n",
    "            | Closure(arg, fbody, fDecEnv) -> \n",
    "                let aVal = eval eArg s in \n",
    "                let aenv = bind fDecEnv arg aVal in \n",
    "                eval fbody aenv \n",
    "            | RecClosure(f, arg, fbody, fDecEnv) -> \n",
    "                let aVal = eval eArg s in\n",
    "                let rEnv = bind fDecEnv f fclosure in\n",
    "                let aenv = bind rEnv arg aVal in \n",
    "                eval fbody aenv\n",
    "            | _ -> raise ( RuntimeError \"Wrong type\")\n",
    "            )\n",
    "    (* Nuovo costrutto Test *)\n",
    "    | Test(p, f1, f2) ->\n",
    "        let r1 = eval (Apply(f1, p)) s in\n",
    "        let r2 = eval (Apply(f2, p)) s in\n",
    "        (match typecheck(TBool,r1), typecheck(TBool,r2), r1, r2 with\n",
    "        | true, true, Bool(true), Bool(false) -> Bool(true)\n",
    "        | true, true, Bool(false), Bool(true) -> Bool(true)\n",
    "(*      | true, true, Bool(false), Bool(false) -> raise ( RuntimeError \"Test fallito\")\n",
    "        | true, true, Bool(true), Bool(true) -> raise ( RuntimeError \"Test fallito\") *)\n",
    "        | true, true, _, _ -> raise ( RuntimeError \"Test fallito\")\n",
    "(*      | false, _, _, _ -> raise ( RuntimeError \"Wrong type\")\n",
    "        | _, false, _, _ -> raise ( RuntimeError \"Wrong type\") *)\n",
    "        | _ -> raise ( RuntimeError \"Wrong type\")\n",
    "        )\n",
    "(*\n",
    "    | Test(p, f1, f2) ->\n",
    "        (match eval p s with\n",
    "        | Closure(pArg, pBody, pEnv) ->\n",
    "            (match eval f1 s, eval f2 s with\n",
    "            | Closure(f1Arg, f1Body, f1Env), Closure(f2Arg, f2Body, f2Env) ->\n",
    "                eval Apply(f1, p) s\n",
    "            )\n",
    "        )*)\n"
   ]
  },
  {
   "cell_type": "markdown",
   "id": "c7f4cc90",
   "metadata": {},
   "source": [
    "# Esercizio 2"
   ]
  },
  {
   "cell_type": "markdown",
   "id": "861027db",
   "metadata": {},
   "source": [
    "Scrivere una funzione ricorsiva somma_positivi che, data una lista lis di interi, restituisce\n",
    "\n",
    "la somma degli elementi positivi. Ad esempio, somma_positivi [3;0;-1;2;-4] restituisce 5."
   ]
  },
  {
   "cell_type": "code",
   "execution_count": 6,
   "id": "c8937a61",
   "metadata": {
    "scrolled": false
   },
   "outputs": [
    {
     "data": {
      "text/plain": [
       "val l1 : int list = [1; 2; 3; 4; 5]\n"
      ]
     },
     "execution_count": 6,
     "metadata": {},
     "output_type": "execute_result"
    },
    {
     "data": {
      "text/plain": [
       "val somma : int list -> int = <fun>\n"
      ]
     },
     "execution_count": 6,
     "metadata": {},
     "output_type": "execute_result"
    },
    {
     "data": {
      "text/plain": [
       "- : int = 15\n"
      ]
     },
     "execution_count": 6,
     "metadata": {},
     "output_type": "execute_result"
    },
    {
     "data": {
      "text/plain": [
       "- : int = 0\n"
      ]
     },
     "execution_count": 6,
     "metadata": {},
     "output_type": "execute_result"
    },
    {
     "data": {
      "text/plain": [
       "val somma_positivi : int list -> int = <fun>\n"
      ]
     },
     "execution_count": 6,
     "metadata": {},
     "output_type": "execute_result"
    },
    {
     "data": {
      "text/plain": [
       "- : int = 5\n"
      ]
     },
     "execution_count": 6,
     "metadata": {},
     "output_type": "execute_result"
    },
    {
     "data": {
      "text/plain": [
       "val somma_positivi2 : int list -> int = <fun>\n"
      ]
     },
     "execution_count": 6,
     "metadata": {},
     "output_type": "execute_result"
    },
    {
     "data": {
      "text/plain": [
       "- : int = 5\n"
      ]
     },
     "execution_count": 6,
     "metadata": {},
     "output_type": "execute_result"
    },
    {
     "data": {
      "text/plain": [
       "val somma_positivi3 : int list -> int = <fun>\n"
      ]
     },
     "execution_count": 6,
     "metadata": {},
     "output_type": "execute_result"
    },
    {
     "data": {
      "text/plain": [
       "- : int = 5\n"
      ]
     },
     "execution_count": 6,
     "metadata": {},
     "output_type": "execute_result"
    },
    {
     "data": {
      "text/plain": [
       "- : ('a -> 'b -> 'a) -> 'a -> 'b list -> 'a = <fun>\n"
      ]
     },
     "execution_count": 6,
     "metadata": {},
     "output_type": "execute_result"
    },
    {
     "data": {
      "text/plain": [
       "- : ('a -> 'b -> 'b) -> 'a list -> 'b -> 'b = <fun>\n"
      ]
     },
     "execution_count": 6,
     "metadata": {},
     "output_type": "execute_result"
    }
   ],
   "source": [
    "let l1 = [1; 2; 3; 4; 5];;\n",
    "\n",
    "let somma lis =\n",
    "    List.fold_left (fun x -> fun y -> x + y) 0 lis;;\n",
    "\n",
    "somma l1;;\n",
    "somma [3;0;-1;2;-4];;\n",
    "\n",
    "let somma_positivi lis =\n",
    "    List.fold_left (fun x -> fun y -> if y > 0 then x + y else x) 0 lis;;\n",
    "\n",
    "somma_positivi [3;0;-1;2;-4];;\n",
    "\n",
    "let somma_positivi2 lis =\n",
    "    somma (List.filter (fun x -> x > 0) lis);;\n",
    "\n",
    "somma_positivi2 [3;0;-1;2;-4];;\n",
    "\n",
    "\n",
    "let somma_positivi3 lis =\n",
    "    List.fold_right (fun y -> fun x -> if y > 0 then x + y else x) lis 0;;\n",
    "\n",
    "somma_positivi3 [3;0;-1;2;-4];;\n",
    "\n",
    "List.fold_left;;\n",
    "List.fold_right;;"
   ]
  },
  {
   "cell_type": "markdown",
   "id": "dd83069e",
   "metadata": {},
   "source": [
    "**Fold, graficamente:**\n",
    "segue una rappresentazione grafica di `fold_left` e `fold_right`. `z` è il valore iniziale dell'accumulatore, e `f` è la funzione che prende l'accumulatore corrente e lo \"fonde\" con un elemento della lista per creare il nuovo accumulatore. Fonte: [pagina su fold di HaskellWiki](https://wiki.haskell.org/Fold)\n",
    "\n",
    "![Fold left](fold-left.png \"Fold left\")\n",
    "\n",
    "![Fold right](fold-right.png \"Fold right\")"
   ]
  }
 ],
 "metadata": {
  "kernelspec": {
   "display_name": "OCaml default",
   "language": "OCaml",
   "name": "ocaml-jupyter"
  },
  "language_info": {
   "codemirror_mode": "text/x-ocaml",
   "file_extension": ".ml",
   "mimetype": "text/x-ocaml",
   "name": "OCaml",
   "nbconverter_exporter": null,
   "pygments_lexer": "OCaml",
   "version": "4.08.1"
  }
 },
 "nbformat": 4,
 "nbformat_minor": 5
}
