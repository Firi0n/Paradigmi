{
 "cells": [
  {
   "cell_type": "markdown",
   "id": "160ba69f",
   "metadata": {},
   "source": [
    "## Esercizio\n",
    "\n",
    "Estendere il linguaggio MiniCaml e l’implementazione dell’interprete con il nuovo costrutto condizionale `On G1 -> E1 | G2 -> E2`. `G1` e `G2` sono le guardie, e vengono valutate a dei booleani. In base ai loro valori, valuta l'espressione `E1` o `E2` corrispondente alla guardia `true`."
   ]
  },
  {
   "cell_type": "markdown",
   "id": "471fa07e",
   "metadata": {},
   "source": [
    "Semantica operazionale big step (non deterministica):\n",
    "\n",
    "$$\n",
    "\\frac{G_1 \\rightarrow_{bs} \\mbox{true} \\quad E_1 \\rightarrow_{bs} v}{\\mbox{on } G_1 ; E_1 | G_2 ; E_2 \\rightarrow_{bs} v}\n",
    "$$\n",
    "\n",
    "$$\n",
    "\\frac{G_2 \\rightarrow_{bs} \\mbox{true} \\quad E_2 \\rightarrow_{bs} v}{\\mbox{on } G_1 ; E_1 | G_2 ; E_2 \\rightarrow_{bs} v}\n",
    "$$\n",
    "\n",
    "Per renderla deterministica (come scegliere la strategia call-by-value o call-by-name nel lambda calcolo), sostituiamo la seconda regola con:\n",
    "\n",
    "$$\n",
    "\\frac{G_1 \\rightarrow_{bs} \\mbox{false} \\quad G_2 \\rightarrow_{bs} \\mbox{true} \\quad E_2 \\rightarrow_{bs} v}{\\mbox{on } G_1 ; E_1 | G_2 ; E_2 \\rightarrow_{bs} v}\n",
    "$$\n",
    "\n",
    "che obbliga la prima guardia ad essere false. In questo modo, se entrambe le guardie sono true si può applicare solo la prima regola, che valuta $E_1$.\n",
    "\n",
    "\n",
    "Semantica operazionale small step (non deterministica):\n",
    "\n",
    "$$\n",
    "\\frac{G_1 \\rightarrow_{ss} \\mbox{true}}{\\mbox{on } G_1 ; E_1 | G_2 ; E_2 \\rightarrow_{ss} E_1}\n",
    "$$\n",
    "\n",
    "$$\n",
    "\\frac{G_2 \\rightarrow_{ss} \\mbox{true}}{\\mbox{on } G_1 ; E_1 | G_2 ; E_2 \\rightarrow_{ss} E_2}\n",
    "$$"
   ]
  },
  {
   "cell_type": "markdown",
   "id": "8f2bbacc",
   "metadata": {},
   "source": [
    "Classifichiamo gli oggetti di interesse in tre categorie:\n",
    "- Espressioni (o sintassi) MiniCaml (tipo `exp`)\n",
    "- Valori MiniCaml (tipo `evT`)\n",
    "- Valori OCaml"
   ]
  },
  {
   "cell_type": "markdown",
   "id": "fbb697da",
   "metadata": {},
   "source": [
    "Il costrutto `On` è un'espressione. Non ci servono invece nuovi valori MiniCaml."
   ]
  },
  {
   "cell_type": "markdown",
   "id": "d345f92d",
   "metadata": {},
   "source": [
    "### Espressioni"
   ]
  },
  {
   "cell_type": "code",
   "execution_count": 1,
   "id": "71d0de0c",
   "metadata": {
    "scrolled": false
   },
   "outputs": [
    {
     "data": {
      "text/plain": [
       "type ide = string\n"
      ]
     },
     "execution_count": 1,
     "metadata": {},
     "output_type": "execute_result"
    },
    {
     "data": {
      "text/plain": [
       "type tname = TInt | TBool | TString | TClosure | TRecClosure | TUnBound\n"
      ]
     },
     "execution_count": 1,
     "metadata": {},
     "output_type": "execute_result"
    },
    {
     "data": {
      "text/plain": [
       "type exp =\n",
       "    EInt of int\n",
       "  | CstTrue\n",
       "  | CstFalse\n",
       "  | EString of string\n",
       "  | Den of ide\n",
       "  | Sum of exp * exp\n",
       "  | Diff of exp * exp\n",
       "  | Prod of exp * exp\n",
       "  | Div of exp * exp\n",
       "  | IsZero of exp\n",
       "  | Eq of exp * exp\n",
       "  | LessThan of exp * exp\n",
       "  | GreaterThan of exp * exp\n",
       "  | And of exp * exp\n",
       "  | Or of exp * exp\n",
       "  | Not of exp\n",
       "  | IfThenElse of exp * exp * exp\n",
       "  | Let of ide * exp * exp\n",
       "  | Letrec of ide * ide * exp * exp\n",
       "  | Fun of ide * exp\n",
       "  | Apply of exp * exp\n",
       "  | On of exp * exp * exp * exp\n"
      ]
     },
     "execution_count": 1,
     "metadata": {},
     "output_type": "execute_result"
    }
   ],
   "source": [
    "(* Identificatori *)\n",
    "type ide = string;;\n",
    "\n",
    "(* I tipi *)\n",
    "type tname =  TInt | TBool | TString | TClosure | TRecClosure | TUnBound\n",
    "\n",
    "(* Abstract Expressions = espressioni nella sintassi astratta, \n",
    "   compongono l'Albero di Sintassi Astratta *)\n",
    "type exp = \n",
    "    | EInt of int\n",
    "    | CstTrue \n",
    "    | CstFalse\n",
    "    | EString of string\n",
    "    | Den of ide\n",
    "    (* Operatori binari da interi a interi*)\n",
    "    | Sum of exp * exp\n",
    "    | Diff of exp * exp\n",
    "    | Prod of exp * exp\n",
    "    | Div of exp * exp\n",
    "    (* Operatori da interi a booleani *)\n",
    "    | IsZero of exp\n",
    "    | Eq of exp * exp\n",
    "    | LessThan of exp*exp\n",
    "    | GreaterThan of exp*exp\n",
    "    (* Operatori su booleani *)\n",
    "    | And of exp*exp\n",
    "    | Or of exp*exp\n",
    "    | Not of exp\n",
    "    (* Controllo del flusso, funzioni *)\n",
    "    | IfThenElse of exp * exp * exp\n",
    "    | Let of ide * exp * exp\n",
    "    | Letrec of ide * ide  * exp * exp\n",
    "    | Fun of ide * exp\n",
    "    | Apply of exp * exp\n",
    "    (* Costrutto On *)\n",
    "    | On of exp * exp * exp * exp\n",
    "    (* ForEach\n",
    "    | ForEach of exp list * exp\n",
    "    *)\n",
    ";;"
   ]
  },
  {
   "cell_type": "markdown",
   "id": "5c9f6a38",
   "metadata": {},
   "source": [
    "### Tipi esprimibili"
   ]
  },
  {
   "cell_type": "code",
   "execution_count": 2,
   "id": "1ec87828",
   "metadata": {
    "scrolled": true
   },
   "outputs": [
    {
     "data": {
      "text/plain": [
       "type 't env = ide -> 't\n"
      ]
     },
     "execution_count": 2,
     "metadata": {},
     "output_type": "execute_result"
    },
    {
     "data": {
      "text/plain": [
       "type evT =\n",
       "    Int of int\n",
       "  | Bool of bool\n",
       "  | String of string\n",
       "  | Closure of ide * exp * evT env\n",
       "  | RecClosure of ide * ide * exp * evT env\n",
       "  | UnBound\n"
      ]
     },
     "execution_count": 2,
     "metadata": {},
     "output_type": "execute_result"
    },
    {
     "data": {
      "text/plain": [
       "val emptyenv : 'a -> evT = <fun>\n"
      ]
     },
     "execution_count": 2,
     "metadata": {},
     "output_type": "execute_result"
    },
    {
     "data": {
      "text/plain": [
       "val bind : evT env -> ide -> evT -> ide -> evT = <fun>\n"
      ]
     },
     "execution_count": 2,
     "metadata": {},
     "output_type": "execute_result"
    }
   ],
   "source": [
    "(* Ambiente polimorfo *)\n",
    "type 't env = ide -> 't\n",
    "\n",
    "(* Evaluation types = tipi  esprimibili *)\n",
    "type evT = \n",
    "    | Int of int  \n",
    "    | Bool of bool \n",
    "    | String of string \n",
    "    | Closure of ide * exp * evT env\n",
    "    | RecClosure of ide * ide * exp * evT env\n",
    "    | UnBound\n",
    "\n",
    "(* Ambiente vuoto *)\n",
    "let emptyenv = function x -> UnBound\n",
    "\n",
    "(* Binding fra una stringa x e un valore primitivo evT *)\n",
    "let bind (s: evT env) (x: ide) (v: evT) = \n",
    "    function (i: ide) -> if (i = x) then v else (s i)"
   ]
  },
  {
   "cell_type": "markdown",
   "id": "8dd293c2",
   "metadata": {},
   "source": [
    "### Typechecking"
   ]
  },
  {
   "cell_type": "code",
   "execution_count": 3,
   "id": "a036e90a",
   "metadata": {},
   "outputs": [
    {
     "data": {
      "text/plain": [
       "val getType : evT -> tname = <fun>\n"
      ]
     },
     "execution_count": 3,
     "metadata": {},
     "output_type": "execute_result"
    },
    {
     "data": {
      "text/plain": [
       "val typecheck : tname * evT -> bool = <fun>\n"
      ]
     },
     "execution_count": 3,
     "metadata": {},
     "output_type": "execute_result"
    }
   ],
   "source": [
    "(* Funzione da evT a tname che associa a ogni valore il suo descrittore di tipo  *)\n",
    "let getType (x: evT) : tname =\n",
    "    match x with\n",
    "    | Int(n) -> TInt\n",
    "    | Bool(b) -> TBool\n",
    "    | String(s) -> TString\n",
    "    | Closure(i,e,en) -> TClosure\n",
    "    | RecClosure(i,j,e,en) -> TRecClosure\n",
    "    | UnBound -> TUnBound\n",
    "\n",
    "(* Type-checking *)\n",
    "let typecheck ((x, y) : (tname*evT)) = \n",
    "    match x with\n",
    "    | TInt -> (match y with \n",
    "               | Int(u) -> true\n",
    "               | _ -> false\n",
    "               )\n",
    "    | TBool -> (match y with \n",
    "                | Bool(u) -> true\n",
    "                | _ -> false\n",
    "                )\n",
    "    | TString -> (match y with\n",
    "                 | String(u) -> true\n",
    "                 | _ -> false\n",
    "                 )\n",
    "    | TClosure -> (match y with\n",
    "                   | Closure(i,e,n) -> true\n",
    "                   | _ -> false\n",
    "                   )\n",
    "    | TRecClosure -> (match y with\n",
    "                     | RecClosure(i,j,e,n) -> true\n",
    "                     | _ -> false\n",
    "                     )\n",
    "    | TUnBound -> (match y with\n",
    "                 | UnBound -> true\n",
    "                 | _ -> false\n",
    "                 )\n",
    "    "
   ]
  },
  {
   "cell_type": "markdown",
   "id": "b83d7b9d",
   "metadata": {},
   "source": [
    "### Interprete"
   ]
  },
  {
   "cell_type": "code",
   "execution_count": 4,
   "id": "720e7150",
   "metadata": {},
   "outputs": [
    {
     "data": {
      "text/plain": [
       "exception RuntimeError of string\n"
      ]
     },
     "execution_count": 4,
     "metadata": {},
     "output_type": "execute_result"
    },
    {
     "data": {
      "text/plain": [
       "val is_zero : evT -> evT = <fun>\n"
      ]
     },
     "execution_count": 4,
     "metadata": {},
     "output_type": "execute_result"
    },
    {
     "data": {
      "text/plain": [
       "val int_eq : evT * evT -> evT = <fun>\n"
      ]
     },
     "execution_count": 4,
     "metadata": {},
     "output_type": "execute_result"
    },
    {
     "data": {
      "text/plain": [
       "val int_plus : evT * evT -> evT = <fun>\n"
      ]
     },
     "execution_count": 4,
     "metadata": {},
     "output_type": "execute_result"
    },
    {
     "data": {
      "text/plain": [
       "val int_sub : evT * evT -> evT = <fun>\n"
      ]
     },
     "execution_count": 4,
     "metadata": {},
     "output_type": "execute_result"
    },
    {
     "data": {
      "text/plain": [
       "val int_times : evT * evT -> evT = <fun>\n"
      ]
     },
     "execution_count": 4,
     "metadata": {},
     "output_type": "execute_result"
    },
    {
     "data": {
      "text/plain": [
       "val int_div : evT * evT -> evT = <fun>\n"
      ]
     },
     "execution_count": 4,
     "metadata": {},
     "output_type": "execute_result"
    },
    {
     "data": {
      "text/plain": [
       "val less_than : evT * evT -> evT = <fun>\n"
      ]
     },
     "execution_count": 4,
     "metadata": {},
     "output_type": "execute_result"
    },
    {
     "data": {
      "text/plain": [
       "val greater_than : evT * evT -> evT = <fun>\n"
      ]
     },
     "execution_count": 4,
     "metadata": {},
     "output_type": "execute_result"
    },
    {
     "data": {
      "text/plain": [
       "val bool_and : evT * evT -> evT = <fun>\n"
      ]
     },
     "execution_count": 4,
     "metadata": {},
     "output_type": "execute_result"
    },
    {
     "data": {
      "text/plain": [
       "val bool_or : evT * evT -> evT = <fun>\n"
      ]
     },
     "execution_count": 4,
     "metadata": {},
     "output_type": "execute_result"
    },
    {
     "data": {
      "text/plain": [
       "val bool_not : evT -> evT = <fun>\n"
      ]
     },
     "execution_count": 4,
     "metadata": {},
     "output_type": "execute_result"
    }
   ],
   "source": [
    "(* Errori a runtime *)\n",
    "exception RuntimeError of string\n",
    "\n",
    "(* PRIMITIVE del linguaggio *)\n",
    "\n",
    "(* Controlla se un numero è zero *)\n",
    "let is_zero(x) = match (typecheck(TInt,x),x) with\n",
    "    | (true, Int(v)) -> Bool(v = 0)\n",
    "    | (_, _) -> raise ( RuntimeError \"Wrong type\")\n",
    "\n",
    "(* Uguaglianza fra interi *)\n",
    "let int_eq(x,y) =   \n",
    "    match (typecheck(TInt,x), typecheck(TInt,y), x, y) with\n",
    "    | (true, true, Int(v), Int(w)) -> Bool(v = w)\n",
    "    | (_,_,_,_) -> raise ( RuntimeError \"Wrong type\")\n",
    "\n",
    "(* Somma fra interi *)\t   \n",
    "let int_plus(x, y) = \n",
    "    match(typecheck(TInt,x), typecheck(TInt,y), x, y) with\n",
    "    | (true, true, Int(v), Int(w)) -> Int(v + w)\n",
    "    | (_,_,_,_) -> raise ( RuntimeError \"Wrong type\")\n",
    "\n",
    "(* Differenza fra interi *)\n",
    "let int_sub(x, y) = \n",
    "    match(typecheck(TInt,x), typecheck(TInt,y), x, y) with\n",
    "    | (true, true, Int(v), Int(w)) -> Int(v - w)\n",
    "    | (_,_,_,_) -> raise ( RuntimeError \"Wrong type\")\n",
    "\n",
    "(* Prodotto fra interi *)\n",
    "let int_times(x, y) =\n",
    "    match(typecheck(TInt,x), typecheck(TInt,y), x, y) with\n",
    "    | (true, true, Int(v), Int(w)) -> Int(v * w)\n",
    "    | (_,_,_,_) -> raise ( RuntimeError \"Wrong type\")\n",
    "    \n",
    "(* Divisione fra interi *)\n",
    "let int_div(x, y) =\n",
    "    match(typecheck(TInt,x), typecheck(TInt,y), x, y) with\n",
    "    | (true, true, Int(v), Int(w)) -> \n",
    "                    if w<>0 then Int(v / w)\n",
    "                            else raise (RuntimeError \"Division by zero\")\n",
    "    | (_,_,_,_) -> raise ( RuntimeError \"Wrong type\")\n",
    "\n",
    "(* Operazioni di confronto *)\n",
    "let less_than(x, y) = \n",
    "    match (typecheck(TInt,x), typecheck(TInt,y), x, y) with\n",
    "    | (true, true, Int(v), Int(w)) -> Bool(v < w)\n",
    "    | (_,_,_,_) -> raise ( RuntimeError \"Wrong type\")\n",
    "\n",
    "let greater_than(x, y) = \n",
    "    match (typecheck(TInt,x), typecheck(TInt,y), x, y) with\n",
    "    | (true, true, Int(v), Int(w)) -> Bool(v > w)\n",
    "    | (_,_,_,_) -> raise ( RuntimeError \"Wrong type\")\n",
    "\n",
    "(* Operazioni logiche *)\n",
    "let bool_and(x,y) = \n",
    "    match (typecheck(TBool,x), typecheck(TBool,y), x, y) with\n",
    "    | (true, true, Bool(v), Bool(w)) -> Bool(v && w)\n",
    "    | (_,_,_,_) -> raise ( RuntimeError \"Wrong type\")\n",
    "\n",
    "let bool_or(x,y) = \n",
    "    match (typecheck(TBool,x), typecheck(TBool,y), x, y) with\n",
    "    | (true, true, Bool(v), Bool(w)) -> Bool(v || w)\n",
    "    | (_,_,_,_) -> raise ( RuntimeError \"Wrong type\")\n",
    "\n",
    "let bool_not(x) = \n",
    "    match (typecheck(TBool,x), x) with\n",
    "    | (true, Bool(v)) -> Bool(not(v))\n",
    "    | (_,_) -> raise ( RuntimeError \"Wrong type\")"
   ]
  },
  {
   "cell_type": "code",
   "execution_count": 5,
   "id": "35687d4a",
   "metadata": {},
   "outputs": [
    {
     "data": {
      "text/plain": [
       "val eval : exp -> evT env -> evT = <fun>\n"
      ]
     },
     "execution_count": 5,
     "metadata": {},
     "output_type": "execute_result"
    }
   ],
   "source": [
    "(* Interprete *)\n",
    "let rec eval (e:exp) (s:evT env) : evT = \n",
    "    match e with\n",
    "    | EInt(n) -> Int(n)\n",
    "    | CstTrue -> Bool(true)\n",
    "    | CstFalse -> Bool(false)\n",
    "    | EString(s) -> String(s)\n",
    "    | Den(i) -> (s i)\n",
    "\n",
    "    | Prod(e1,e2) -> int_times((eval e1 s), (eval e2 s))\n",
    "    | Sum(e1, e2) -> int_plus((eval e1 s), (eval e2 s))\n",
    "    | Diff(e1, e2) -> int_sub((eval e1 s), (eval e2 s))\n",
    "    | Div(e1, e2) -> int_div((eval e1 s), (eval e2 s))\n",
    "\n",
    "    | IsZero(e1) -> is_zero (eval e1 s)\n",
    "    | Eq(e1, e2) -> int_eq((eval e1 s), (eval e2 s))\n",
    "    | LessThan(e1, e2) -> less_than((eval e1 s),(eval e2 s))\n",
    "    | GreaterThan(e1, e2) -> greater_than((eval e1 s),(eval e2 s))\n",
    "\n",
    "    | And(e1, e2) -> bool_and((eval e1 s),(eval e2 s))\n",
    "    | Or(e1, e2) -> bool_or((eval e1 s),(eval e2 s))\n",
    "    | Not(e1) -> bool_not(eval e1 s)\n",
    "\n",
    "    | IfThenElse(e1,e2,e3) -> \n",
    "        let g = eval e1 s in \n",
    "            (match (typecheck(TBool,g),g) with\n",
    "            |(true, Bool(true)) -> eval e2 s\n",
    "            |(true, Bool(false)) -> eval e3 s\n",
    "            |(_,_) -> raise ( RuntimeError \"Wrong type\")\n",
    "            )\n",
    "    | Let(i, e, ebody) -> eval ebody (bind s i (eval e s))\n",
    "    | Fun(arg, ebody) -> Closure(arg,ebody,s)\n",
    "    | Letrec(f, arg, fBody, leBody) ->\n",
    "        let benv = bind (s) (f) (RecClosure(f, arg, fBody,s)) in\n",
    "            eval leBody benv\n",
    "    | Apply(eF, eArg) ->\n",
    "        let fclosure = eval eF s in \n",
    "            (match fclosure with \n",
    "            | Closure(arg, fbody, fDecEnv) -> \n",
    "                let aVal = eval eArg s in \n",
    "                let aenv = bind fDecEnv arg aVal in \n",
    "                eval fbody aenv \n",
    "            | RecClosure(f, arg, fbody, fDecEnv) -> \n",
    "                let aVal = eval eArg s in\n",
    "                let rEnv = bind fDecEnv f fclosure in\n",
    "                let aenv = bind rEnv arg aVal in \n",
    "                eval fbody aenv\n",
    "            | _ -> raise ( RuntimeError \"Wrong type\")\n",
    "            )\n",
    "    (* On *)\n",
    "    | On(eg1, e1, eg2, e2) ->\n",
    "        (* eg1, e1, eg2, e2 : exp sono ESPRESSIONI MiniCaml *)\n",
    "        let vg1: evT = eval eg1 s in\n",
    "        let vg2: evT = eval eg2 s in\n",
    "        (* vg1, vg2 sono VALORI MiniCaml *)\n",
    "        (match vg1, vg2 with\n",
    "        | Bool(true), Bool(_) -> eval e1 s\n",
    "        | Bool(false), Bool(true) -> eval e2 s\n",
    "        | Bool(false), Bool(false) -> raise ( RuntimeError \"Both guards are false\")\n",
    "        | _, _ -> raise ( RuntimeError \"Wrong type\")\n",
    "        )\n",
    "        (*\n",
    "        (match typecheck(TBool, vg1), typecheck(TBool, vg2), vg1, vg2 with\n",
    "        | true, true, Bool(true), Bool(_) -> ...\n",
    "        | true, true, Bool(false), Bool(true) -> ...\n",
    "        | true, true, _, _ -> raise ( RuntimeError \"Both guards are false\")\n",
    "        | _, _, _, _ -> raise ( RuntimeError \"Wrong type\")\n",
    "        )\n",
    "        *)\n",
    "    (* ForEach \n",
    "    | ForEach(elist, efun) -> (* elist : exp list *)\n",
    "        let vlist = List.map (fun e -> eval e s) elist in \n",
    "        if (* controllo che tutti i vlist siano Int *) then\n",
    "            let fclosure = eval efun s in\n",
    "            (match fclosure with\n",
    "            | Closure(fx, fbody, fenv) ->\n",
    "                let newvlist = List.map (fun v ->\n",
    "                    let newenv = bind fenv fx v in\n",
    "                    eval fbody newenv\n",
    "                ) vlist in\n",
    "                Int (List.fold_left (fun v acc -> match v with\n",
    "                    | Int(n) -> acc + n\n",
    "                    | _ -> failwith(\"Type error\") ) 0 newvlist)\n",
    "            )\n",
    "        else\n",
    "            failwith \"Type error\"\n",
    "    *)"
   ]
  },
  {
   "cell_type": "code",
   "execution_count": 6,
   "id": "cd469df1",
   "metadata": {
    "scrolled": true
   },
   "outputs": [
    {
     "data": {
      "text/plain": [
       "val test1 : exp = On (CstFalse, EInt 10, CstFalse, EInt 4)\n"
      ]
     },
     "execution_count": 6,
     "metadata": {},
     "output_type": "execute_result"
    },
    {
     "ename": "error",
     "evalue": "runtime_error",
     "output_type": "error",
     "traceback": [
      "\u001b[31mException: RuntimeError \"Both guards are false\".\nRaised at file \"[5]\", line 59, characters 44-83\nCalled from file \"toplevel/toploop.ml\", line 208, characters 17-27\n\u001b[0m"
     ]
    }
   ],
   "source": [
    "let test1 = On(\n",
    "    CstFalse, EInt 10,\n",
    "    CstFalse, EInt 4\n",
    ");;\n",
    "\n",
    "eval test1 emptyenv;;"
   ]
  },
  {
   "cell_type": "code",
   "execution_count": 7,
   "id": "b48375ba",
   "metadata": {
    "scrolled": true
   },
   "outputs": [
    {
     "data": {
      "text/plain": [
       "val test2 : exp = On (EInt 3, EInt 10, CstFalse, EInt 4)\n"
      ]
     },
     "execution_count": 7,
     "metadata": {},
     "output_type": "execute_result"
    },
    {
     "ename": "error",
     "evalue": "runtime_error",
     "output_type": "error",
     "traceback": [
      "\u001b[31mException: RuntimeError \"Wrong type\".\nRaised at file \"[5]\", line 60, characters 24-52\nCalled from file \"toplevel/toploop.ml\", line 208, characters 17-27\n\u001b[0m"
     ]
    }
   ],
   "source": [
    "let test2 = On(\n",
    "    EInt 3, EInt 10,\n",
    "    CstFalse, EInt 4\n",
    ");;\n",
    "\n",
    "eval test2 emptyenv;;"
   ]
  },
  {
   "cell_type": "markdown",
   "id": "a4e421fa",
   "metadata": {},
   "source": [
    "## Esercizio\n",
    "\n",
    "Definire un interprete per il linguaggio MiniPixel\n",
    "```\n",
    "Pixel             p ::= < r, g, b >      dove r, g, b ∈ {0, 1, . . . , 255}\n",
    "Identificatori    I ::= . . .\n",
    "Espressioni       e ::= I | p | lighten e | darken e | let I = e1 in e2\n",
    "```"
   ]
  },
  {
   "cell_type": "code",
   "execution_count": 8,
   "id": "dffcce70",
   "metadata": {},
   "outputs": [
    {
     "data": {
      "text/plain": [
       "type ide = string\n"
      ]
     },
     "execution_count": 8,
     "metadata": {},
     "output_type": "execute_result"
    },
    {
     "data": {
      "text/plain": [
       "type exp =\n",
       "    Den of ide\n",
       "  | EPixel of int * int * int\n",
       "  | Lighten of exp\n",
       "  | Darken of exp\n",
       "  | Let of ide * exp * exp\n"
      ]
     },
     "execution_count": 8,
     "metadata": {},
     "output_type": "execute_result"
    },
    {
     "data": {
      "text/plain": [
       "type 't env = ide -> 't\n"
      ]
     },
     "execution_count": 8,
     "metadata": {},
     "output_type": "execute_result"
    },
    {
     "data": {
      "text/plain": [
       "type evT = Pixel of int * int * int | UnBound\n"
      ]
     },
     "execution_count": 8,
     "metadata": {},
     "output_type": "execute_result"
    },
    {
     "data": {
      "text/plain": [
       "val emptyenv : 'a -> evT = <fun>\n"
      ]
     },
     "execution_count": 8,
     "metadata": {},
     "output_type": "execute_result"
    },
    {
     "data": {
      "text/plain": [
       "val bind : evT env -> ide -> evT -> ide -> evT = <fun>\n"
      ]
     },
     "execution_count": 8,
     "metadata": {},
     "output_type": "execute_result"
    },
    {
     "data": {
      "text/plain": [
       "val eval : exp -> evT env -> evT = <fun>\n"
      ]
     },
     "execution_count": 8,
     "metadata": {},
     "output_type": "execute_result"
    }
   ],
   "source": [
    "type ide = string;;\n",
    "\n",
    "(* Sintassi del nostro linguaggio: espressioni *)\n",
    "type exp =\n",
    "    | Den of ide\n",
    "    | EPixel of int * int * int\n",
    "    | Lighten of exp\n",
    "    | Darken of exp\n",
    "    | Let of ide * exp * exp;;\n",
    "\n",
    "type 't env = ide -> 't;;\n",
    "\n",
    "(* Valori del linguaggio *)\n",
    "type evT =\n",
    "    | Pixel of int * int * int\n",
    "    | UnBound;;\n",
    "\n",
    "let emptyenv = fun x -> UnBound;;\n",
    "\n",
    "(* Binding fra una stringa x e un valore primitivo evT *)\n",
    "let bind (s: evT env) (x: ide) (v: evT) = \n",
    "    function (i: ide) -> if (i = x) then v else (s i)\n",
    "\n",
    "let rec eval (e: exp) (s: evT env) : evT =\n",
    "    match e with\n",
    "    | Den(x) -> s x\n",
    "    | EPixel(r, g, b) -> Pixel(r, g, b)\n",
    "    | Lighten(e) ->\n",
    "        let v: evT = eval e s in\n",
    "        (match v with\n",
    "        | Pixel(r, g, b) -> Pixel(r+1, g+1, b+1)\n",
    "        | _ -> failwith \"Errore: UnBound\"\n",
    "        )\n",
    "    | Darken(e) ->\n",
    "        let v = eval e s in\n",
    "        (match v with\n",
    "        | Pixel(r, g, b) -> Pixel(r-1, g-1, b-1)\n",
    "        | _ -> failwith \"Errore: UnBound\"\n",
    "        )\n",
    "    | Let(x, e1, ebody) ->\n",
    "        let v: evT = eval e1 s in\n",
    "        let newenv = bind s x v in\n",
    "        eval ebody newenv;;"
   ]
  },
  {
   "cell_type": "code",
   "execution_count": 9,
   "id": "e26227c2",
   "metadata": {},
   "outputs": [
    {
     "data": {
      "text/plain": [
       "val incr : int -> int = <fun>\n"
      ]
     },
     "execution_count": 9,
     "metadata": {},
     "output_type": "execute_result"
    },
    {
     "data": {
      "text/plain": [
       "val decr : int -> int = <fun>\n"
      ]
     },
     "execution_count": 9,
     "metadata": {},
     "output_type": "execute_result"
    },
    {
     "data": {
      "text/plain": [
       "val eval : exp -> evT env -> evT = <fun>\n"
      ]
     },
     "execution_count": 9,
     "metadata": {},
     "output_type": "execute_result"
    }
   ],
   "source": [
    "let incr x = if x = 255 then 255 else x + 1;;\n",
    "let decr x = if x = 0 then 0 else x - 1;;\n",
    "\n",
    "let rec eval (e: exp) (s: evT env) : evT =\n",
    "    match e with\n",
    "    | Den(x) -> s x\n",
    "    | EPixel(r, g, b) -> \n",
    "        if 0 <= r && r <= 255 && 0 <= g && g <= 255 && 0 <= b && b <= 255 then\n",
    "            Pixel(r, g, b)\n",
    "        else\n",
    "            failwith \"Invalid constant\"\n",
    "    | Lighten(e) ->\n",
    "        let v: evT = eval e s in\n",
    "        (match v with\n",
    "        | Pixel(r, g, b) -> Pixel(incr r, incr g, incr b)\n",
    "        | _ -> failwith \"Errore: UnBound\"\n",
    "        )\n",
    "    | Darken(e) ->\n",
    "        let v = eval e s in\n",
    "        (match v with\n",
    "        | Pixel(r, g, b) -> Pixel(decr r, decr g, decr b)\n",
    "        | _ -> failwith \"Errore: UnBound\"\n",
    "        )\n",
    "    | Let(x, e1, ebody) ->\n",
    "        let v: evT = eval e1 s in\n",
    "        let newenv = bind s x v in\n",
    "        eval ebody newenv;;"
   ]
  },
  {
   "cell_type": "code",
   "execution_count": 10,
   "id": "62d748ee",
   "metadata": {},
   "outputs": [
    {
     "data": {
      "text/plain": [
       "val test1 : exp = Let (\"x\", Darken (EPixel (255, 0, 128)), Lighten (Den \"x\"))\n"
      ]
     },
     "execution_count": 10,
     "metadata": {},
     "output_type": "execute_result"
    },
    {
     "data": {
      "text/plain": [
       "- : evT = Pixel (255, 1, 128)\n"
      ]
     },
     "execution_count": 10,
     "metadata": {},
     "output_type": "execute_result"
    }
   ],
   "source": [
    "let test1 = Let (\n",
    "    \"x\",\n",
    "    Darken (EPixel (255, 0, 128)),\n",
    "    Lighten (Den \"x\")\n",
    ");;\n",
    "\n",
    "eval test1 emptyenv;;"
   ]
  }
 ],
 "metadata": {
  "kernelspec": {
   "display_name": "OCaml default",
   "language": "OCaml",
   "name": "ocaml-jupyter"
  },
  "language_info": {
   "codemirror_mode": "text/x-ocaml",
   "file_extension": ".ml",
   "mimetype": "text/x-ocaml",
   "name": "OCaml",
   "nbconverter_exporter": null,
   "pygments_lexer": "OCaml",
   "version": "4.08.1"
  }
 },
 "nbformat": 4,
 "nbformat_minor": 5
}
