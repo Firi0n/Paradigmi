{
 "cells": [
  {
   "cell_type": "markdown",
   "id": "160ba69f",
   "metadata": {},
   "source": [
    "## Esercizio\n",
    "\n",
    "Estendere il linguaggio MiniCaml e l’implementazione dell’interprete con il nuovo tipo di dato “lista di interi” con le seguenti operazioni (già in sintassi astratta):\n",
    "* `Empty` descrive una lista di interi vuota\n",
    "* `Cons(e1,e2)`, dove e1 descrive un intero e e2 una lista, produce la lista ottenuta aggiungendo l’intero\n",
    "descritto da e1 in testa alla lista descritta da e2\n",
    "* `Length(e)`, dove e descrive una lista, calcola la lunghezza di tale lista\n",
    "* `SumAll(e)`, dove e descrive una lista, calcola la somma degli elementi di tale lista"
   ]
  },
  {
   "cell_type": "markdown",
   "id": "8f2bbacc",
   "metadata": {},
   "source": [
    "Dividiamo tutti gli \"oggetti\" di interesse in tre categorie:\n",
    "- Espressioni (o sintassi) MiniCaml (tipo `exp`)\n",
    "- Valori MiniCaml (tipo `evT`)\n",
    "- Valori OCaml\n",
    "\n",
    "Creare un nuovo _valore_ MiniCaml (lista di interi).\n",
    "\n",
    "Creare nuove _espressioni_ MiniCaml (Empty, Cons, Length, SumAll).\n",
    "\n",
    "Utilizzare i _valori OCaml_ `int list` per rappresentare il nuovo valore MiniCaml (lista di interi)."
   ]
  },
  {
   "cell_type": "markdown",
   "id": "fbb697da",
   "metadata": {},
   "source": [
    "Estendiamo MiniCaml anche con le Bifun"
   ]
  },
  {
   "cell_type": "markdown",
   "id": "7974a921",
   "metadata": {},
   "source": [
    "Creare nuove _espressioni_ MiniCaml (`Bifun`, `BiApply`)\n",
    "\n",
    "Creare nuovi _valori_ MiniCaml (`BiClosure`)"
   ]
  },
  {
   "cell_type": "markdown",
   "id": "d345f92d",
   "metadata": {},
   "source": [
    "### Espressioni"
   ]
  },
  {
   "cell_type": "code",
   "execution_count": 1,
   "id": "71d0de0c",
   "metadata": {
    "scrolled": false
   },
   "outputs": [
    {
     "data": {
      "text/plain": [
       "type ide = string\n"
      ]
     },
     "execution_count": 1,
     "metadata": {},
     "output_type": "execute_result"
    },
    {
     "data": {
      "text/plain": [
       "type tname =\n",
       "    TInt\n",
       "  | TBool\n",
       "  | TString\n",
       "  | TClosure\n",
       "  | TRecClosure\n",
       "  | TUnBound\n",
       "  | TListInt\n",
       "  | TBiClosure\n"
      ]
     },
     "execution_count": 1,
     "metadata": {},
     "output_type": "execute_result"
    },
    {
     "data": {
      "text/plain": [
       "type exp =\n",
       "    EInt of int\n",
       "  | CstTrue\n",
       "  | CstFalse\n",
       "  | EString of string\n",
       "  | Den of ide\n",
       "  | Sum of exp * exp\n",
       "  | Diff of exp * exp\n",
       "  | Prod of exp * exp\n",
       "  | Div of exp * exp\n",
       "  | IsZero of exp\n",
       "  | Eq of exp * exp\n",
       "  | LessThan of exp * exp\n",
       "  | GreaterThan of exp * exp\n",
       "  | And of exp * exp\n",
       "  | Or of exp * exp\n",
       "  | Not of exp\n",
       "  | IfThenElse of exp * exp * exp\n",
       "  | Let of ide * exp * exp\n",
       "  | Letrec of ide * ide * exp * exp\n",
       "  | Fun of ide * exp\n",
       "  | Apply of exp * exp\n",
       "  | Empty\n",
       "  | Cons of exp * exp\n",
       "  | Length of exp\n",
       "  | SumAll of exp\n",
       "  | Bifun of ide * ide * exp\n",
       "  | BiApply of exp * exp * exp\n"
      ]
     },
     "execution_count": 1,
     "metadata": {},
     "output_type": "execute_result"
    }
   ],
   "source": [
    "(* Identificatori *)\n",
    "type ide = string;;\n",
    "\n",
    "(* I tipi *)\n",
    "type tname =  TInt | TBool | TString | TClosure | TRecClosure | TUnBound | TListInt | TBiClosure\n",
    "\n",
    "(* Abstract Expressions = espressioni nella sintassi astratta, \n",
    "   compongono l'Albero di Sintassi Astratta *)\n",
    "type exp = \n",
    "    | EInt of int\n",
    "    | CstTrue \n",
    "    | CstFalse\n",
    "    | EString of string\n",
    "    | Den of ide\n",
    "    (* Operatori binari da interi a interi*)\n",
    "    | Sum of exp * exp\n",
    "    | Diff of exp * exp\n",
    "    | Prod of exp * exp\n",
    "    | Div of exp * exp\n",
    "    (* Operatori da interi a booleani *)\n",
    "    | IsZero of exp\n",
    "    | Eq of exp * exp\n",
    "    | LessThan of exp*exp\n",
    "    | GreaterThan of exp*exp\n",
    "    (* Operatori su booleani *)\n",
    "    | And of exp*exp\n",
    "    | Or of exp*exp\n",
    "    | Not of exp\n",
    "    (* Controllo del flusso, funzioni *)\n",
    "    | IfThenElse of exp * exp * exp\n",
    "    | Let of ide * exp * exp\n",
    "    | Letrec of ide * ide  * exp * exp\n",
    "    | Fun of ide * exp\n",
    "    | Apply of exp * exp\n",
    "    (* Liste di Interi *)\n",
    "    | Empty\n",
    "    | Cons of exp * exp\n",
    "    | Length of exp\n",
    "    | SumAll of exp\n",
    "    (* Bifun *)\n",
    "    | Bifun of ide * ide * exp\n",
    "    | BiApply of exp * exp * exp\n",
    ";;"
   ]
  },
  {
   "cell_type": "markdown",
   "id": "5c9f6a38",
   "metadata": {},
   "source": [
    "### Tipi esprimibili"
   ]
  },
  {
   "cell_type": "code",
   "execution_count": 2,
   "id": "1ec87828",
   "metadata": {
    "scrolled": true
   },
   "outputs": [
    {
     "data": {
      "text/plain": [
       "type 't env = ide -> 't\n"
      ]
     },
     "execution_count": 2,
     "metadata": {},
     "output_type": "execute_result"
    },
    {
     "data": {
      "text/plain": [
       "type evT =\n",
       "    Int of int\n",
       "  | Bool of bool\n",
       "  | String of string\n",
       "  | Closure of ide * exp * evT env\n",
       "  | RecClosure of ide * ide * exp * evT env\n",
       "  | UnBound\n",
       "  | ListInt of int list\n",
       "  | Biclosure of ide * ide * exp * evT env\n"
      ]
     },
     "execution_count": 2,
     "metadata": {},
     "output_type": "execute_result"
    },
    {
     "data": {
      "text/plain": [
       "val emptyenv : 'a -> evT = <fun>\n"
      ]
     },
     "execution_count": 2,
     "metadata": {},
     "output_type": "execute_result"
    },
    {
     "data": {
      "text/plain": [
       "val bind : evT env -> ide -> evT -> ide -> evT = <fun>\n"
      ]
     },
     "execution_count": 2,
     "metadata": {},
     "output_type": "execute_result"
    }
   ],
   "source": [
    "(* Ambiente polimorfo *)\n",
    "type 't env = ide -> 't\n",
    "\n",
    "(* Evaluation types = tipi  esprimibili *)\n",
    "type evT = \n",
    "    | Int of int  \n",
    "    | Bool of bool \n",
    "    | String of string \n",
    "    | Closure of ide * exp * evT env\n",
    "    | RecClosure of ide * ide * exp * evT env\n",
    "    | UnBound\n",
    "    (* TListInt *)\n",
    "    | ListInt of int list\n",
    "    (* TBiclosure *)\n",
    "    | Biclosure of ide * ide * exp * evT env\n",
    "\n",
    "(* Ambiente vuoto *)\n",
    "let emptyenv = function x -> UnBound\n",
    "\n",
    "(* Binding fra una stringa x e un valore primitivo evT *)\n",
    "let bind (s: evT env) (x: ide) (v: evT) = \n",
    "    function (i: ide) -> if (i = x) then v else (s i)"
   ]
  },
  {
   "cell_type": "markdown",
   "id": "8dd293c2",
   "metadata": {},
   "source": [
    "### Typechecking"
   ]
  },
  {
   "cell_type": "code",
   "execution_count": 3,
   "id": "a036e90a",
   "metadata": {},
   "outputs": [
    {
     "name": "stderr",
     "output_type": "stream",
     "text": [
      "File \"[3]\", line 3, characters 4-218:\n",
      " 3 | ....match x with\n",
      " 4 |     | Int(n) -> TInt\n",
      " 5 |     | Bool(b) -> TBool\n",
      " 6 |     | String(s) -> TString\n",
      " 7 |     | Closure(i,e,en) -> TClosure\n",
      " 8 |     | RecClosure(i,j,e,en) -> TRecClosure\n",
      " 9 |     | UnBound -> TUnBound\n",
      "10 |     | ListInt(_) -> TListInt\n",
      "Warning 8: this pattern-matching is not exhaustive.\n",
      "Here is an example of a case that is not matched:\n",
      "Biclosure (_, _, _, _)\n"
     ]
    },
    {
     "data": {
      "text/plain": [
       "val getType : evT -> tname = <fun>\n"
      ]
     },
     "execution_count": 3,
     "metadata": {},
     "output_type": "execute_result"
    },
    {
     "name": "stderr",
     "output_type": "stream",
     "text": [
      "File \"[3]\", line 14, characters 4-857:\n",
      "14 | ....match x with\n",
      "15 |     | TInt -> (match y with \n",
      "16 |                | Int(u) -> true\n",
      "17 |                | _ -> false\n",
      "18 |                )\n",
      "...\n",
      "39 |     | TListInt -> (match y with\n",
      "40 |                  | ListInt(_) -> true\n",
      "41 |                  | _ -> false\n",
      "42 |                  )\n",
      "Warning 8: this pattern-matching is not exhaustive.\n",
      "Here is an example of a case that is not matched:\n",
      "TBiClosure\n"
     ]
    },
    {
     "data": {
      "text/plain": [
       "val typecheck : tname * evT -> bool = <fun>\n"
      ]
     },
     "execution_count": 3,
     "metadata": {},
     "output_type": "execute_result"
    }
   ],
   "source": [
    "(* Funzione da evT a tname che associa a ogni valore il suo descrittore di tipo  *)\n",
    "let getType (x: evT) : tname =\n",
    "    match x with\n",
    "    | Int(n) -> TInt\n",
    "    | Bool(b) -> TBool\n",
    "    | String(s) -> TString\n",
    "    | Closure(i,e,en) -> TClosure\n",
    "    | RecClosure(i,j,e,en) -> TRecClosure\n",
    "    | UnBound -> TUnBound\n",
    "    | ListInt(_) -> TListInt\n",
    "\n",
    "(* Type-checking *)\n",
    "let typecheck ((x, y) : (tname*evT)) = \n",
    "    match x with\n",
    "    | TInt -> (match y with \n",
    "               | Int(u) -> true\n",
    "               | _ -> false\n",
    "               )\n",
    "    | TBool -> (match y with \n",
    "                | Bool(u) -> true\n",
    "                | _ -> false\n",
    "                )\n",
    "    | TString -> (match y with\n",
    "                 | String(u) -> true\n",
    "                 | _ -> false\n",
    "                 )\n",
    "    | TClosure -> (match y with\n",
    "                   | Closure(i,e,n) -> true\n",
    "                   | _ -> false\n",
    "                   )\n",
    "    | TRecClosure -> (match y with\n",
    "                     | RecClosure(i,j,e,n) -> true\n",
    "                     | _ -> false\n",
    "                     )\n",
    "    | TUnBound -> (match y with\n",
    "                 | UnBound -> true\n",
    "                 | _ -> false\n",
    "                 )\n",
    "    | TListInt -> (match y with\n",
    "                 | ListInt(_) -> true\n",
    "                 | _ -> false\n",
    "                 )\n",
    "    "
   ]
  },
  {
   "cell_type": "markdown",
   "id": "b83d7b9d",
   "metadata": {},
   "source": [
    "### Interprete"
   ]
  },
  {
   "cell_type": "code",
   "execution_count": 4,
   "id": "720e7150",
   "metadata": {},
   "outputs": [
    {
     "data": {
      "text/plain": [
       "exception RuntimeError of string\n"
      ]
     },
     "execution_count": 4,
     "metadata": {},
     "output_type": "execute_result"
    },
    {
     "data": {
      "text/plain": [
       "val is_zero : evT -> evT = <fun>\n"
      ]
     },
     "execution_count": 4,
     "metadata": {},
     "output_type": "execute_result"
    },
    {
     "data": {
      "text/plain": [
       "val int_eq : evT * evT -> evT = <fun>\n"
      ]
     },
     "execution_count": 4,
     "metadata": {},
     "output_type": "execute_result"
    },
    {
     "data": {
      "text/plain": [
       "val int_plus : evT * evT -> evT = <fun>\n"
      ]
     },
     "execution_count": 4,
     "metadata": {},
     "output_type": "execute_result"
    },
    {
     "data": {
      "text/plain": [
       "val int_sub : evT * evT -> evT = <fun>\n"
      ]
     },
     "execution_count": 4,
     "metadata": {},
     "output_type": "execute_result"
    },
    {
     "data": {
      "text/plain": [
       "val int_times : evT * evT -> evT = <fun>\n"
      ]
     },
     "execution_count": 4,
     "metadata": {},
     "output_type": "execute_result"
    },
    {
     "data": {
      "text/plain": [
       "val int_div : evT * evT -> evT = <fun>\n"
      ]
     },
     "execution_count": 4,
     "metadata": {},
     "output_type": "execute_result"
    },
    {
     "data": {
      "text/plain": [
       "val less_than : evT * evT -> evT = <fun>\n"
      ]
     },
     "execution_count": 4,
     "metadata": {},
     "output_type": "execute_result"
    },
    {
     "data": {
      "text/plain": [
       "val greater_than : evT * evT -> evT = <fun>\n"
      ]
     },
     "execution_count": 4,
     "metadata": {},
     "output_type": "execute_result"
    },
    {
     "data": {
      "text/plain": [
       "val bool_and : evT * evT -> evT = <fun>\n"
      ]
     },
     "execution_count": 4,
     "metadata": {},
     "output_type": "execute_result"
    },
    {
     "data": {
      "text/plain": [
       "val bool_or : evT * evT -> evT = <fun>\n"
      ]
     },
     "execution_count": 4,
     "metadata": {},
     "output_type": "execute_result"
    },
    {
     "data": {
      "text/plain": [
       "val bool_not : evT -> evT = <fun>\n"
      ]
     },
     "execution_count": 4,
     "metadata": {},
     "output_type": "execute_result"
    }
   ],
   "source": [
    "(* Errori a runtime *)\n",
    "exception RuntimeError of string\n",
    "\n",
    "(* PRIMITIVE del linguaggio *)\n",
    "\n",
    "(* Controlla se un numero è zero *)\n",
    "let is_zero(x) = match (typecheck(TInt,x),x) with\n",
    "    | (true, Int(v)) -> Bool(v = 0)\n",
    "    | (_, _) -> raise ( RuntimeError \"Wrong type\")\n",
    "\n",
    "(* Uguaglianza fra interi *)\n",
    "let int_eq(x,y) =   \n",
    "    match (typecheck(TInt,x), typecheck(TInt,y), x, y) with\n",
    "    | (true, true, Int(v), Int(w)) -> Bool(v = w)\n",
    "    | (_,_,_,_) -> raise ( RuntimeError \"Wrong type\")\n",
    "\n",
    "(* Somma fra interi *)\t   \n",
    "let int_plus(x, y) = \n",
    "    match(typecheck(TInt,x), typecheck(TInt,y), x, y) with\n",
    "    | (true, true, Int(v), Int(w)) -> Int(v + w)\n",
    "    | (_,_,_,_) -> raise ( RuntimeError \"Wrong type\")\n",
    "\n",
    "(* Differenza fra interi *)\n",
    "let int_sub(x, y) = \n",
    "    match(typecheck(TInt,x), typecheck(TInt,y), x, y) with\n",
    "    | (true, true, Int(v), Int(w)) -> Int(v - w)\n",
    "    | (_,_,_,_) -> raise ( RuntimeError \"Wrong type\")\n",
    "\n",
    "(* Prodotto fra interi *)\n",
    "let int_times(x, y) =\n",
    "    match(typecheck(TInt,x), typecheck(TInt,y), x, y) with\n",
    "    | (true, true, Int(v), Int(w)) -> Int(v * w)\n",
    "    | (_,_,_,_) -> raise ( RuntimeError \"Wrong type\")\n",
    "    \n",
    "(* Divisione fra interi *)\n",
    "let int_div(x, y) =\n",
    "    match(typecheck(TInt,x), typecheck(TInt,y), x, y) with\n",
    "    | (true, true, Int(v), Int(w)) -> \n",
    "                    if w<>0 then Int(v / w)\n",
    "                            else raise (RuntimeError \"Division by zero\")\n",
    "    | (_,_,_,_) -> raise ( RuntimeError \"Wrong type\")\n",
    "\n",
    "(* Operazioni di confronto *)\n",
    "let less_than(x, y) = \n",
    "    match (typecheck(TInt,x), typecheck(TInt,y), x, y) with\n",
    "    | (true, true, Int(v), Int(w)) -> Bool(v < w)\n",
    "    | (_,_,_,_) -> raise ( RuntimeError \"Wrong type\")\n",
    "\n",
    "let greater_than(x, y) = \n",
    "    match (typecheck(TInt,x), typecheck(TInt,y), x, y) with\n",
    "    | (true, true, Int(v), Int(w)) -> Bool(v > w)\n",
    "    | (_,_,_,_) -> raise ( RuntimeError \"Wrong type\")\n",
    "\n",
    "(* Operazioni logiche *)\n",
    "let bool_and(x,y) = \n",
    "    match (typecheck(TBool,x), typecheck(TBool,y), x, y) with\n",
    "    | (true, true, Bool(v), Bool(w)) -> Bool(v && w)\n",
    "    | (_,_,_,_) -> raise ( RuntimeError \"Wrong type\")\n",
    "\n",
    "let bool_or(x,y) = \n",
    "    match (typecheck(TBool,x), typecheck(TBool,y), x, y) with\n",
    "    | (true, true, Bool(v), Bool(w)) -> Bool(v || w)\n",
    "    | (_,_,_,_) -> raise ( RuntimeError \"Wrong type\")\n",
    "\n",
    "let bool_not(x) = \n",
    "    match (typecheck(TBool,x), x) with\n",
    "    | (true, Bool(v)) -> Bool(not(v))\n",
    "    | (_,_) -> raise ( RuntimeError \"Wrong type\")"
   ]
  },
  {
   "cell_type": "code",
   "execution_count": 5,
   "id": "38a4bc59",
   "metadata": {},
   "outputs": [
    {
     "data": {
      "text/plain": [
       "val sum : int list -> int = <fun>\n"
      ]
     },
     "execution_count": 5,
     "metadata": {},
     "output_type": "execute_result"
    },
    {
     "data": {
      "text/plain": [
       "val sum : int list -> int = <fun>\n"
      ]
     },
     "execution_count": 5,
     "metadata": {},
     "output_type": "execute_result"
    }
   ],
   "source": [
    "let sum (l: int list) : int =\n",
    "  List.fold_left (+) 0 l;;\n",
    "\n",
    "let rec sum (l: int list) : int =\n",
    "    match l with\n",
    "    | [] -> 0\n",
    "    | x::xs -> x + sum xs;;"
   ]
  },
  {
   "cell_type": "code",
   "execution_count": 6,
   "id": "35687d4a",
   "metadata": {},
   "outputs": [
    {
     "data": {
      "text/plain": [
       "val eval : exp -> evT env -> evT = <fun>\n"
      ]
     },
     "execution_count": 6,
     "metadata": {},
     "output_type": "execute_result"
    }
   ],
   "source": [
    "(* Interprete *)\n",
    "let rec eval (e:exp) (s:evT env) : evT = \n",
    "    match e with\n",
    "    | EInt(n) -> Int(n)\n",
    "    | CstTrue -> Bool(true)\n",
    "    | CstFalse -> Bool(false)\n",
    "    | EString(s) -> String(s)\n",
    "    | Den(i) -> (s i)\n",
    "\n",
    "    | Prod(e1,e2) -> int_times((eval e1 s), (eval e2 s))\n",
    "    | Sum(e1, e2) -> int_plus((eval e1 s), (eval e2 s))\n",
    "    | Diff(e1, e2) -> int_sub((eval e1 s), (eval e2 s))\n",
    "    | Div(e1, e2) -> int_div((eval e1 s), (eval e2 s))\n",
    "\n",
    "    | IsZero(e1) -> is_zero (eval e1 s)\n",
    "    | Eq(e1, e2) -> int_eq((eval e1 s), (eval e2 s))\n",
    "    | LessThan(e1, e2) -> less_than((eval e1 s),(eval e2 s))\n",
    "    | GreaterThan(e1, e2) -> greater_than((eval e1 s),(eval e2 s))\n",
    "\n",
    "    | And(e1, e2) -> bool_and((eval e1 s),(eval e2 s))\n",
    "    | Or(e1, e2) -> bool_or((eval e1 s),(eval e2 s))\n",
    "    | Not(e1) -> bool_not(eval e1 s)\n",
    "\n",
    "    | IfThenElse(e1,e2,e3) -> \n",
    "        let g = eval e1 s in \n",
    "            (match (typecheck(TBool,g),g) with\n",
    "            |(true, Bool(true)) -> eval e2 s\n",
    "            |(true, Bool(false)) -> eval e3 s\n",
    "            |(_,_) -> raise ( RuntimeError \"Wrong type\")\n",
    "            )\n",
    "    | Let(i, e, ebody) -> eval ebody (bind s i (eval e s))\n",
    "    | Fun(arg, ebody) -> Closure(arg,ebody,s)\n",
    "    | Letrec(f, arg, fBody, leBody) ->\n",
    "        let benv = bind (s) (f) (RecClosure(f, arg, fBody,s)) in\n",
    "            eval leBody benv\n",
    "    | Apply(eF, eArg) ->\n",
    "        let fclosure = eval eF s in \n",
    "            (match fclosure with \n",
    "            | Closure(arg, fbody, fDecEnv) -> \n",
    "                let aVal = eval eArg s in \n",
    "                let aenv = bind fDecEnv arg aVal in \n",
    "                eval fbody aenv \n",
    "            | RecClosure(f, arg, fbody, fDecEnv) -> \n",
    "                let aVal = eval eArg s in\n",
    "                let rEnv = bind fDecEnv f fclosure in\n",
    "                let aenv = bind rEnv arg aVal in \n",
    "                eval fbody aenv\n",
    "            | _ -> raise ( RuntimeError \"Wrong type\")\n",
    "            )\n",
    "    (* ListInt *)\n",
    "    | Empty -> ListInt([])\n",
    "    | Length(e) -> (* e: exp *)\n",
    "        let (l: evT) = eval e s in\n",
    "        (match typecheck(TListInt, l), l with\n",
    "        | true, ListInt(locaml) -> Int (List.length locaml)\n",
    "        | _ -> raise ( RuntimeError \"Wrong type\")\n",
    "        )\n",
    "    | SumAll(e) ->\n",
    "        let l = eval e s in\n",
    "        (match typecheck(TListInt, l), l with\n",
    "        | true, ListInt(locaml) -> Int (sum locaml)\n",
    "        | _ -> raise ( RuntimeError \"Wrong type\")\n",
    "        )\n",
    "    | Cons(e1, e2) ->\n",
    "        let x = eval e1 s in\n",
    "        let l = eval e2 s in\n",
    "        (match x, l with\n",
    "        | Int(a), ListInt(locaml) -> ListInt(a::locaml)\n",
    "        | _ -> raise ( RuntimeError \"Wrong type\")\n",
    "        )\n",
    "    (* Bifun *)\n",
    "    | Bifun(x, y, body) -> Biclosure(x, y, body, s)\n",
    "    | BiApply(efun, ex, ey) ->\n",
    "        let fclosure = eval efun s in\n",
    "        (match fclosure with\n",
    "        | Biclosure(argx, argy, body, fEnv) ->\n",
    "            let xval = eval ex s in\n",
    "            let yval = eval ey s in\n",
    "            let env1 = bind fEnv argx xval in\n",
    "            let env2 = bind env1 argy yval in\n",
    "                eval body env2\n",
    "        | _ -> raise ( RuntimeError \"Wrong type\")\n",
    "        )\n"
   ]
  },
  {
   "cell_type": "code",
   "execution_count": 7,
   "id": "cd469df1",
   "metadata": {
    "scrolled": true
   },
   "outputs": [
    {
     "data": {
      "text/plain": [
       "val test1 : exp = SumAll (Cons (EInt 1, Cons (EInt 2, Empty)))\n"
      ]
     },
     "execution_count": 7,
     "metadata": {},
     "output_type": "execute_result"
    },
    {
     "data": {
      "text/plain": [
       "- : evT = Int 3\n"
      ]
     },
     "execution_count": 7,
     "metadata": {},
     "output_type": "execute_result"
    }
   ],
   "source": [
    "let test1 = SumAll(Cons(EInt(1),Cons(EInt(2),Empty)));;\n",
    "\n",
    "eval test1 emptyenv;;"
   ]
  },
  {
   "cell_type": "code",
   "execution_count": 8,
   "id": "0ddcab81",
   "metadata": {},
   "outputs": [
    {
     "data": {
      "text/plain": [
       "val test2 : exp =\n",
       "  Let (\"somma\", Bifun (\"x\", \"y\", Sum (Den \"x\", Den \"y\")),\n",
       "   BiApply (Den \"somma\", EInt 3, EInt 2))\n"
      ]
     },
     "execution_count": 8,
     "metadata": {},
     "output_type": "execute_result"
    },
    {
     "data": {
      "text/plain": [
       "- : evT = Int 5\n"
      ]
     },
     "execution_count": 8,
     "metadata": {},
     "output_type": "execute_result"
    }
   ],
   "source": [
    "let test2 = Let(\n",
    "    \"somma\",\n",
    "    Bifun(\"x\", \"y\", Sum(Den \"x\", Den \"y\")),\n",
    "    BiApply (Den \"somma\", EInt 3, EInt 2)\n",
    ");;\n",
    "\n",
    "eval test2 emptyenv;;"
   ]
  }
 ],
 "metadata": {
  "kernelspec": {
   "display_name": "OCaml default",
   "language": "OCaml",
   "name": "ocaml-jupyter"
  },
  "language_info": {
   "codemirror_mode": "text/x-ocaml",
   "file_extension": ".ml",
   "mimetype": "text/x-ocaml",
   "name": "OCaml",
   "nbconverter_exporter": null,
   "pygments_lexer": "OCaml",
   "version": "4.08.1"
  }
 },
 "nbformat": 4,
 "nbformat_minor": 5
}
