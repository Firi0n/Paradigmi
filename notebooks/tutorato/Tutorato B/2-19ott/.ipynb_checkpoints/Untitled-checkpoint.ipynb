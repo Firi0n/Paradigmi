{
 "cells": [
  {
   "cell_type": "markdown",
   "id": "28db9445",
   "metadata": {},
   "source": [
    "Che tipo hanno le seguenti espressioni? Cercare di inferirlo a mente (o su carta) e poi controllare se la risposta è corretta facendo valutare l'espressione all'interprete:\n",
    "\n",
    "1. `fun x -> fun y -> x y y`\n",
    "2. `(fun x -> 2. , fun x -> x 2.)`\n",
    "3. `fun x -> fun y -> if x=true then y 2 else y 1`\n",
    "4. `(fun x -> fun y -> if x=true then y 2 else y 1)(false)(fun x -> x+1)`"
   ]
  },
  {
   "cell_type": "code",
   "execution_count": null,
   "id": "b68ce048",
   "metadata": {},
   "outputs": [],
   "source": []
  },
  {
   "cell_type": "markdown",
   "id": "c11d40c3",
   "metadata": {},
   "source": [
    "**Esercizio 2.10.** Scrivere una funzione (o meglio, un predicato) `set` che prende una lista e verifica (restituendo `true` o `false`) se i suoi elementi sono tutti diversi tra loro, cioè se la lista è una corretta rappresentazione di un insieme. La funzione deve avere tipo `'a -> bool`, in modo da poter essere essere applicata ad insiemi con elementi di qualunque tipo."
   ]
  },
  {
   "cell_type": "code",
   "execution_count": 6,
   "id": "e5d9726c",
   "metadata": {},
   "outputs": [
    {
     "data": {
      "text/plain": [
       "val set1 : 'a list -> bool = <fun>\n"
      ]
     },
     "execution_count": 6,
     "metadata": {},
     "output_type": "execute_result"
    },
    {
     "data": {
      "text/plain": [
       "val set2 : 'a list -> bool = <fun>\n"
      ]
     },
     "execution_count": 6,
     "metadata": {},
     "output_type": "execute_result"
    },
    {
     "data": {
      "text/plain": [
       "- : bool = true\n"
      ]
     },
     "execution_count": 6,
     "metadata": {},
     "output_type": "execute_result"
    },
    {
     "data": {
      "text/plain": [
       "- : bool = false\n"
      ]
     },
     "execution_count": 6,
     "metadata": {},
     "output_type": "execute_result"
    },
    {
     "data": {
      "text/plain": [
       "- : bool = true\n"
      ]
     },
     "execution_count": 6,
     "metadata": {},
     "output_type": "execute_result"
    },
    {
     "data": {
      "text/plain": [
       "- : bool = false\n"
      ]
     },
     "execution_count": 6,
     "metadata": {},
     "output_type": "execute_result"
    }
   ],
   "source": [
    "(* Questa soluzione ordina la lista, poi controlla che non ci siano due elementi uguali consecutivi\n",
    " * Questa soluzione è più efficiente (O(n * log n), il costo dell'ordinamento) ma richiede che sia\n",
    " * possibile ordinare gli elementi della lista (non è sempre vero, dipende dal tipo).\n",
    " *)\n",
    "let set1 lista =\n",
    "  let rec no_dupl hd tl = match tl with\n",
    "    | [] -> true\n",
    "    | x::xs -> if hd = x then false else no_dupl x xs\n",
    "    in\n",
    "  match List.stable_sort compare lista with\n",
    "    | [] -> true\n",
    "    | hd::tl -> no_dupl hd tl;;\n",
    "\n",
    "(* Questa soluzione cerca, per ogni elemento della lista, se è presente nella coda della lista.\n",
    " * Basta controllare la coda perché, se fosse presente prima, sarebbe esso stesso nella coda\n",
    " * dell'elemento uguale precedente.\n",
    " * Questa soluzione è meno efficiente (O(n^2)) ma richiede solo di poter controllare l'uguaglianza\n",
    " * di due elementi della lista (che è un requisito più debole dell'ordinamento).\n",
    " *)\n",
    "let rec set2 lista =\n",
    "  match lista with\n",
    "    | [] -> true\n",
    "    | x::xs -> if List.exists (fun y -> y = x) xs then false else set2 xs;;\n",
    "\n",
    "\n",
    "set1 [1; 2; 3];;\n",
    "set1 [1; 2; 1];;\n",
    "\n",
    "set2 [1; 2; 3];;\n",
    "set2 [1; 2; 1];;"
   ]
  },
  {
   "cell_type": "markdown",
   "id": "00b856d4",
   "metadata": {},
   "source": [
    "**Esercizio 2.11.** Un multi-insieme (o multiset) estende il concetto di insieme consentendo la possibilità di avere più occorrenze dello stesso elemento. Un multiset può essere definito come una lista di coppie `(x,n)` in cui `x` è l'elemento considerato e `n` è il numero di occorrenze di quell'elemento. Scrivere una funzione `multiset` che, data una lista di coppie di tipo `'a*int`, verifica se è una corretta rappresentazione di un multiset (contentente coppie che sono tutte diverse tra loro nel primo elemento). "
   ]
  },
  {
   "cell_type": "code",
   "execution_count": 10,
   "id": "6f2fa0e5",
   "metadata": {},
   "outputs": [
    {
     "data": {
      "text/plain": [
       "val fst : 'a * 'b -> 'a = <fun>\n"
      ]
     },
     "execution_count": 10,
     "metadata": {},
     "output_type": "execute_result"
    },
    {
     "data": {
      "text/plain": [
       "val multiset1 : ('a * 'b) list -> bool = <fun>\n"
      ]
     },
     "execution_count": 10,
     "metadata": {},
     "output_type": "execute_result"
    },
    {
     "data": {
      "text/plain": [
       "- : bool = true\n"
      ]
     },
     "execution_count": 10,
     "metadata": {},
     "output_type": "execute_result"
    },
    {
     "data": {
      "text/plain": [
       "- : bool = false\n"
      ]
     },
     "execution_count": 10,
     "metadata": {},
     "output_type": "execute_result"
    }
   ],
   "source": [
    "let fst (a, b) = a;;\n",
    "\n",
    "(* multiset prende in input una lista di coppie, e deve verificare se la lista formata dai primi\n",
    " * elementi di ogni coppia nella lista di partenza è un set.\n",
    " * Questa prima implementazione usa una funzione ausiliaria per costruire questa seconda lista,\n",
    " * su cui poi applica la funzione set dell'esercizio precedente.\n",
    " * La scelta di set1 piuttosto che set2 è arbitraria, e porta pro e contro descritti precedentemente. \n",
    " *)\n",
    "let multiset1 bag =\n",
    "  let rec prima_coppia cose =\n",
    "    match cose with\n",
    "      | [] -> []\n",
    "      | x::xs -> fst x::prima_coppia xs\n",
    "    in\n",
    "  set1 (prima_coppia bag);;\n",
    "\n",
    "(* prima_coppia sta applicando la funzione fst ad ogni elemento della lista. Questo pattern è\n",
    " * esattamente una List.map, quindi usiamo questa funzione higher-order per definire prima_coppia.\n",
    " *)\n",
    "let multiset2 bag =\n",
    "  let prima_coppia cose = List.map fst cose in\n",
    "  set1 (prima_coppia bag);;\n",
    "\n",
    "(* o più semplicemente *)\n",
    "let multiset3 bag = set1 (List.map fst bag);;\n",
    "\n",
    "multiset1 [('a', 10); ('b', 3)];;\n",
    "multiset1 [('a', 10); ('a', 3)];;\n",
    "\n",
    "multiset2 [('a', 10); ('b', 3)];;\n",
    "multiset2 [('a', 10); ('a', 3)];;"
   ]
  },
  {
   "cell_type": "markdown",
   "id": "87b98cd9",
   "metadata": {},
   "source": [
    "**Esercizio 2.1.** Scrivere una funzione `genera_lista` che prende un intero positivo `n` e restituisce una lista contenente la lista `[1; 2; ... n]`. Nel caso in cui `n` sia minore o uguale di zero restituisce la lista vuota."
   ]
  },
  {
   "cell_type": "code",
   "execution_count": 16,
   "id": "dd302b28",
   "metadata": {},
   "outputs": [
    {
     "data": {
      "text/plain": [
       "val genera_lista1 : int -> int list = <fun>\n"
      ]
     },
     "execution_count": 16,
     "metadata": {},
     "output_type": "execute_result"
    },
    {
     "data": {
      "text/plain": [
       "val genera_lista2 : int -> int list = <fun>\n"
      ]
     },
     "execution_count": 16,
     "metadata": {},
     "output_type": "execute_result"
    },
    {
     "data": {
      "text/plain": [
       "val genera_lista3 : int -> int list = <fun>\n"
      ]
     },
     "execution_count": 16,
     "metadata": {},
     "output_type": "execute_result"
    },
    {
     "data": {
      "text/plain": [
       "- : int list = [1; 2; 3; 4]\n"
      ]
     },
     "execution_count": 16,
     "metadata": {},
     "output_type": "execute_result"
    },
    {
     "data": {
      "text/plain": [
       "- : int list = [1; 2; 3; 4]\n"
      ]
     },
     "execution_count": 16,
     "metadata": {},
     "output_type": "execute_result"
    },
    {
     "data": {
      "text/plain": [
       "- : int list = [1; 2; 3; 4]\n"
      ]
     },
     "execution_count": 16,
     "metadata": {},
     "output_type": "execute_result"
    }
   ],
   "source": [
    "let genera_lista1 n =\n",
    "  let rec aux n =\n",
    "    match n with\n",
    "      | 0 -> []\n",
    "      | x -> x::aux (x - 1)\n",
    "    in\n",
    "  List.rev (aux n);;\n",
    "\n",
    "let rec genera_lista2 n =\n",
    "  match n with\n",
    "    | 0 -> []\n",
    "    | n -> genera_lista2 (n-1) @ [n];;\n",
    "\n",
    "let genera_lista3 n =\n",
    "  let rec counter n c = if c <= n then c::counter n (c+1) else [] in\n",
    "  counter n 1;;\n",
    "\n",
    "genera_lista1 4;;\n",
    "genera_lista2 4;;\n",
    "genera_lista3 4;;"
   ]
  },
  {
   "cell_type": "markdown",
   "id": "e3c3c396",
   "metadata": {},
   "source": [
    "**Esercizio 2.2.** Scrivere una funzione `media` che prende una lista di interi e calcola la media dei suoi elementi. Farlo senza ricorsione esplicita, ma usando funzioni higher-order."
   ]
  },
  {
   "cell_type": "code",
   "execution_count": 29,
   "id": "3a87187f",
   "metadata": {},
   "outputs": [
    {
     "data": {
      "text/plain": [
       "- : ('a -> 'b -> 'a) -> 'a -> 'b list -> 'a = <fun>\n"
      ]
     },
     "execution_count": 29,
     "metadata": {},
     "output_type": "execute_result"
    },
    {
     "data": {
      "text/plain": [
       "- : ('a -> 'b -> 'b) -> 'a list -> 'b -> 'b = <fun>\n"
      ]
     },
     "execution_count": 29,
     "metadata": {},
     "output_type": "execute_result"
    }
   ],
   "source": [
    "List.fold_left;;\n",
    "List.fold_right;;"
   ]
  },
  {
   "cell_type": "code",
   "execution_count": 31,
   "id": "3f7c67fd",
   "metadata": {},
   "outputs": [
    {
     "data": {
      "text/plain": [
       "val rapporto : int * int -> float = <fun>\n"
      ]
     },
     "execution_count": 31,
     "metadata": {},
     "output_type": "execute_result"
    },
    {
     "data": {
      "text/plain": [
       "val media_sum : int list -> float = <fun>\n"
      ]
     },
     "execution_count": 31,
     "metadata": {},
     "output_type": "execute_result"
    },
    {
     "data": {
      "text/plain": [
       "val sum : int list -> int = <fun>\n"
      ]
     },
     "execution_count": 31,
     "metadata": {},
     "output_type": "execute_result"
    },
    {
     "data": {
      "text/plain": [
       "val media_aux_rec : int list -> float = <fun>\n"
      ]
     },
     "execution_count": 31,
     "metadata": {},
     "output_type": "execute_result"
    },
    {
     "data": {
      "text/plain": [
       "val media_aux : int list -> float = <fun>\n"
      ]
     },
     "execution_count": 31,
     "metadata": {},
     "output_type": "execute_result"
    },
    {
     "data": {
      "text/plain": [
       "val media_aux2 : int list -> float = <fun>\n"
      ]
     },
     "execution_count": 31,
     "metadata": {},
     "output_type": "execute_result"
    },
    {
     "data": {
      "text/plain": [
       "- : float = 4.33333333333333304\n"
      ]
     },
     "execution_count": 31,
     "metadata": {},
     "output_type": "execute_result"
    }
   ],
   "source": [
    "(* Semplice utility per calcolare il rapporto di una coppia di interi (la usiamo più volte sotto) *)\n",
    "let rapporto (sum, len) =  float_of_int sum /. float_of_int len;;\n",
    "\n",
    "(* Definiamo la media come la somma diviso la lunghezza della lista. Per calcolare\n",
    " * la somma, usiamo un fold.\n",
    " *)\n",
    "let media_sum lista =\n",
    "  let sum list = List.fold_right (+) list 0 in\n",
    "  rapporto (sum lista, List.length lista);;\n",
    "\n",
    "(* Somma si può definire anche con fold_left *)\n",
    "let sum list = List.fold_left (+) 0 list;;\n",
    "\n",
    "\n",
    "(* Implementazione ricorsiva con una funzione ausiliaria che calcola sum e length scorrendo\n",
    " * la lista una sola volta. Messa qui per il confronto con la versione higher-order.\n",
    " *)\n",
    "let media_aux_rec lista =\n",
    "  let rec aux (sum, len) list =\n",
    "    match list with\n",
    "      | [] -> (sum, len)\n",
    "      | x::xs -> aux (sum + x, len + 1) xs\n",
    "    in\n",
    "  rapporto (aux (0, 0) lista);;\n",
    "\n",
    "(* Concettualmente stessa implementazione di prima, ma aux è definita usando fold invece che\n",
    " * ricorsione esplicita\n",
    " *)\n",
    "let media_aux list =\n",
    "  let aux list =\n",
    "    List.fold_left (fun (sum, len) elem -> (sum + elem, len + 1)) (0, 0) list in\n",
    "  rapporto (aux list);;\n",
    "\n",
    "(* o più semplicemente *)\n",
    "let media_aux2 list =\n",
    "  rapporto (List.fold_left (fun (sum, len) elem -> (sum + elem, len + 1)) (0, 0) list);;\n",
    "\n",
    "media_sum [1; 2; 10];;"
   ]
  },
  {
   "cell_type": "markdown",
   "id": "21847500",
   "metadata": {},
   "source": [
    "Che tipo ha l'espressione `List.fold_left (+) 0`?"
   ]
  },
  {
   "cell_type": "code",
   "execution_count": null,
   "id": "34a00543",
   "metadata": {},
   "outputs": [],
   "source": []
  },
  {
   "cell_type": "markdown",
   "id": "9b1626c4",
   "metadata": {},
   "source": [
    "**Esercizio bonus**\n",
    "\n",
    "Date le due definizioni\n",
    "```ocaml\n",
    "let sum lista = List.fold_left (+) 0 lista;;\n",
    "let sum = List.fold_left (+) 0;;\n",
    "```\n",
    "la prima prende un parametro (quindi è una funzione), mentre la seconda no. Tuttavia, sono due definizioni equivalenti. Com'è possibile?\n",
    "\n",
    "*Hint*: quanti argomenti prende `List.fold_left`?"
   ]
  },
  {
   "cell_type": "code",
   "execution_count": null,
   "id": "7de7c324",
   "metadata": {},
   "outputs": [],
   "source": []
  }
 ],
 "metadata": {
  "kernelspec": {
   "display_name": "OCaml default",
   "language": "OCaml",
   "name": "ocaml-jupyter"
  },
  "language_info": {
   "codemirror_mode": "text/x-ocaml",
   "file_extension": ".ml",
   "mimetype": "text/x-ocaml",
   "name": "OCaml",
   "nbconverter_exporter": null,
   "pygments_lexer": "OCaml",
   "version": "4.08.1"
  }
 },
 "nbformat": 4,
 "nbformat_minor": 5
}
