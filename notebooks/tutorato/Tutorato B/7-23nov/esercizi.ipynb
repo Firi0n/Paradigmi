{
 "cells": [
  {
   "cell_type": "markdown",
   "id": "62d6d26b",
   "metadata": {},
   "source": [
    "Regole della semantica operazionale\n",
    "\n",
    "$$\n",
    "\\frac{G_1 \\rightarrow_{bs} \\mbox{true} \\quad E_1 \\rightarrow_{bs} v}{\\mbox{on } G1 ; E1 | G2 ; E2 \\rightarrow_{bs} v}\n",
    "$$\n",
    "\n",
    "$$\n",
    "\\frac{G_2 \\rightarrow_{bs} \\mbox{true} \\quad E_2 \\rightarrow_{bs} v}{\\mbox{on } G1 ; E1 | G2 ; E2 \\rightarrow_{bs} v}\n",
    "$$"
   ]
  },
  {
   "cell_type": "markdown",
   "id": "c63af03d",
   "metadata": {},
   "source": [
    "### Sintassi"
   ]
  },
  {
   "cell_type": "code",
   "execution_count": 1,
   "id": "70a065a6",
   "metadata": {},
   "outputs": [
    {
     "data": {
      "text/plain": [
       "type ide = string\n"
      ]
     },
     "execution_count": 1,
     "metadata": {},
     "output_type": "execute_result"
    },
    {
     "data": {
      "text/plain": [
       "type tname = TInt | TBool | TString | TClosure | TRecClosure | TUnBound\n"
      ]
     },
     "execution_count": 1,
     "metadata": {},
     "output_type": "execute_result"
    },
    {
     "data": {
      "text/plain": [
       "type exp =\n",
       "    EInt of int\n",
       "  | CstTrue\n",
       "  | CstFalse\n",
       "  | EString of string\n",
       "  | Den of ide\n",
       "  | Sum of exp * exp\n",
       "  | Diff of exp * exp\n",
       "  | Prod of exp * exp\n",
       "  | Div of exp * exp\n",
       "  | IsZero of exp\n",
       "  | Eq of exp * exp\n",
       "  | LessThan of exp * exp\n",
       "  | GreaterThan of exp * exp\n",
       "  | And of exp * exp\n",
       "  | Or of exp * exp\n",
       "  | Not of exp\n",
       "  | IfThenElse of exp * exp * exp\n",
       "  | Let of ide * exp * exp\n",
       "  | Letrec of ide * ide * exp * exp\n",
       "  | Fun of ide * exp\n",
       "  | Apply of exp * exp\n",
       "  | On of exp * exp * exp * exp\n"
      ]
     },
     "execution_count": 1,
     "metadata": {},
     "output_type": "execute_result"
    }
   ],
   "source": [
    "(* Identificatori *)\n",
    "type ide = string;;\n",
    "\n",
    "(* I tipi *)\n",
    "type tname =  TInt | TBool | TString | TClosure | TRecClosure | TUnBound\n",
    "\n",
    "(* Abstract Expressions = espressioni nella sintassi astratta, \n",
    "   compongono l'Albero di Sintassi Astratta *)\n",
    "type exp = \n",
    "    | EInt of int\n",
    "    | CstTrue \n",
    "    | CstFalse\n",
    "    | EString of string\n",
    "    | Den of ide\n",
    "    (* Operatori binari da interi a interi*)\n",
    "    | Sum of exp * exp\n",
    "    | Diff of exp * exp\n",
    "    | Prod of exp * exp\n",
    "    | Div of exp * exp\n",
    "    (* Operatori da interi a booleani *)\n",
    "    | IsZero of exp\n",
    "    | Eq of exp * exp\n",
    "    | LessThan of exp*exp\n",
    "    | GreaterThan of exp*exp\n",
    "    (* Operatori su booleani *)\n",
    "    | And of exp*exp\n",
    "    | Or of exp*exp\n",
    "    | Not of exp\n",
    "    (* Controllo del flusso, funzioni *)\n",
    "    | IfThenElse of exp * exp * exp\n",
    "    | Let of ide * exp * exp\n",
    "    | Letrec of ide * ide  * exp * exp\n",
    "    | Fun of ide * exp\n",
    "    | Apply of exp * exp\n",
    "    (* Costrutto on *)\n",
    "    | On of exp * exp * exp * exp\n"
   ]
  },
  {
   "cell_type": "markdown",
   "id": "34cdc1ca",
   "metadata": {},
   "source": [
    "### Valori esprimibili"
   ]
  },
  {
   "cell_type": "code",
   "execution_count": 2,
   "id": "07696d59",
   "metadata": {},
   "outputs": [
    {
     "data": {
      "text/plain": [
       "type 't env = ide -> 't\n"
      ]
     },
     "execution_count": 2,
     "metadata": {},
     "output_type": "execute_result"
    },
    {
     "data": {
      "text/plain": [
       "type evT =\n",
       "    Int of int\n",
       "  | Bool of bool\n",
       "  | String of string\n",
       "  | Closure of ide * exp * evT env\n",
       "  | RecClosure of ide * ide * exp * evT env\n",
       "  | UnBound\n"
      ]
     },
     "execution_count": 2,
     "metadata": {},
     "output_type": "execute_result"
    },
    {
     "data": {
      "text/plain": [
       "val emptyenv : 'a -> evT = <fun>\n"
      ]
     },
     "execution_count": 2,
     "metadata": {},
     "output_type": "execute_result"
    },
    {
     "data": {
      "text/plain": [
       "val bind : evT env -> ide -> evT -> ide -> evT = <fun>\n"
      ]
     },
     "execution_count": 2,
     "metadata": {},
     "output_type": "execute_result"
    }
   ],
   "source": [
    "(* Ambiente polimorfo *)\n",
    "type 't env = ide -> 't\n",
    "\n",
    "(* Evaluation types = tipi  esprimibili *)\n",
    "type evT = \n",
    "    | Int of int \n",
    "    | Bool of bool \n",
    "    | String of string \n",
    "    | Closure of ide * exp * evT env \n",
    "    | RecClosure of ide * ide * exp * evT env\n",
    "    | UnBound\n",
    "\n",
    "(* Ambiente vuoto *)\n",
    "let emptyenv = function x -> UnBound\n",
    "\n",
    "(* Binding fra una stringa x e un valore primitivo evT *)\n",
    "let bind (s: evT env) (x: ide) (v: evT) = \n",
    "    function (i: ide) -> if (i = x) then v else (s i)"
   ]
  },
  {
   "cell_type": "markdown",
   "id": "794c7f3e",
   "metadata": {},
   "source": [
    "### Typechecking"
   ]
  },
  {
   "cell_type": "code",
   "execution_count": 3,
   "id": "fefec77a",
   "metadata": {},
   "outputs": [
    {
     "data": {
      "text/plain": [
       "val getType : evT -> tname = <fun>\n"
      ]
     },
     "execution_count": 3,
     "metadata": {},
     "output_type": "execute_result"
    },
    {
     "data": {
      "text/plain": [
       "val typecheck : tname * evT -> bool = <fun>\n"
      ]
     },
     "execution_count": 3,
     "metadata": {},
     "output_type": "execute_result"
    }
   ],
   "source": [
    "(* Funzione da evT a tname che associa a ogni valore il suo descrittore di tipo  *)\n",
    "let getType (x: evT) : tname =\n",
    "    match x with\n",
    "    | Int(n) -> TInt\n",
    "    | Bool(b) -> TBool\n",
    "    | String(s) -> TString\n",
    "    | Closure(i,e,en) -> TClosure\n",
    "    | RecClosure(i,j,e,en) -> TRecClosure\n",
    "    | UnBound -> TUnBound\n",
    "\n",
    "(* Type-checking *)\n",
    "let typecheck ((x, y) : (tname*evT)) = \n",
    "    match x with\n",
    "    | TInt -> (match y with \n",
    "               | Int(u) -> true\n",
    "               | _ -> false\n",
    "               )\n",
    "    | TBool -> (match y with \n",
    "                | Bool(u) -> true\n",
    "                | _ -> false\n",
    "                )\n",
    "    | TString -> (match y with\n",
    "                 | String(u) -> true\n",
    "                 | _ -> false\n",
    "                 )\n",
    "    | TClosure -> (match y with\n",
    "                   | Closure(i,e,n) -> true\n",
    "                   | _ -> false\n",
    "                   )\n",
    "    | TRecClosure -> (match y with\n",
    "                     | RecClosure(i,j,e,n) -> true\n",
    "                     | _ -> false\n",
    "                     )\n",
    "    |TUnBound -> (match y with\n",
    "                 | UnBound -> true\n",
    "                 | _ -> false\n",
    "                 )"
   ]
  },
  {
   "cell_type": "markdown",
   "id": "4009a1db",
   "metadata": {},
   "source": [
    "### Eval"
   ]
  },
  {
   "cell_type": "code",
   "execution_count": 4,
   "id": "8f5537e1",
   "metadata": {},
   "outputs": [
    {
     "data": {
      "text/plain": [
       "exception RuntimeError of string\n"
      ]
     },
     "execution_count": 4,
     "metadata": {},
     "output_type": "execute_result"
    },
    {
     "data": {
      "text/plain": [
       "val is_zero : evT -> evT = <fun>\n"
      ]
     },
     "execution_count": 4,
     "metadata": {},
     "output_type": "execute_result"
    },
    {
     "data": {
      "text/plain": [
       "val int_eq : evT * evT -> evT = <fun>\n"
      ]
     },
     "execution_count": 4,
     "metadata": {},
     "output_type": "execute_result"
    },
    {
     "data": {
      "text/plain": [
       "val int_plus : evT * evT -> evT = <fun>\n"
      ]
     },
     "execution_count": 4,
     "metadata": {},
     "output_type": "execute_result"
    },
    {
     "data": {
      "text/plain": [
       "val int_sub : evT * evT -> evT = <fun>\n"
      ]
     },
     "execution_count": 4,
     "metadata": {},
     "output_type": "execute_result"
    },
    {
     "data": {
      "text/plain": [
       "val int_times : evT * evT -> evT = <fun>\n"
      ]
     },
     "execution_count": 4,
     "metadata": {},
     "output_type": "execute_result"
    },
    {
     "data": {
      "text/plain": [
       "val int_div : evT * evT -> evT = <fun>\n"
      ]
     },
     "execution_count": 4,
     "metadata": {},
     "output_type": "execute_result"
    },
    {
     "data": {
      "text/plain": [
       "val less_than : evT * evT -> evT = <fun>\n"
      ]
     },
     "execution_count": 4,
     "metadata": {},
     "output_type": "execute_result"
    },
    {
     "data": {
      "text/plain": [
       "val greater_than : evT * evT -> evT = <fun>\n"
      ]
     },
     "execution_count": 4,
     "metadata": {},
     "output_type": "execute_result"
    },
    {
     "data": {
      "text/plain": [
       "val bool_and : evT * evT -> evT = <fun>\n"
      ]
     },
     "execution_count": 4,
     "metadata": {},
     "output_type": "execute_result"
    },
    {
     "data": {
      "text/plain": [
       "val bool_or : evT * evT -> evT = <fun>\n"
      ]
     },
     "execution_count": 4,
     "metadata": {},
     "output_type": "execute_result"
    },
    {
     "data": {
      "text/plain": [
       "val bool_not : evT -> evT = <fun>\n"
      ]
     },
     "execution_count": 4,
     "metadata": {},
     "output_type": "execute_result"
    }
   ],
   "source": [
    "(* Errori a runtime *)\n",
    "exception RuntimeError of string\n",
    "\n",
    "(* PRIMITIVE del linguaggio *)\n",
    "\n",
    "(* Controlla se un numero è zero *)\n",
    "let is_zero(x) = match (typecheck(TInt,x),x) with\n",
    "    | (true, Int(v)) -> Bool(v = 0)\n",
    "    | (_, _) -> raise ( RuntimeError \"Wrong type\")\n",
    "\n",
    "(* Uguaglianza fra interi *)\n",
    "let int_eq(x,y) =   \n",
    "    match (typecheck(TInt,x), typecheck(TInt,y), x, y) with\n",
    "    | (true, true, Int(v), Int(w)) -> Bool(v = w)\n",
    "    | (_,_,_,_) -> raise ( RuntimeError \"Wrong type\")\n",
    "\n",
    "(* Somma fra interi *)\t   \n",
    "let int_plus(x, y) = \n",
    "    match(typecheck(TInt,x), typecheck(TInt,y), x, y) with\n",
    "    | (true, true, Int(v), Int(w)) -> Int(v + w)\n",
    "    | (_,_,_,_) -> raise ( RuntimeError \"Wrong type\")\n",
    "\n",
    "(* Differenza fra interi *)\n",
    "let int_sub(x, y) = \n",
    "    match(typecheck(TInt,x), typecheck(TInt,y), x, y) with\n",
    "    | (true, true, Int(v), Int(w)) -> Int(v - w)\n",
    "    | (_,_,_,_) -> raise ( RuntimeError \"Wrong type\")\n",
    "\n",
    "(* Prodotto fra interi *)\n",
    "let int_times(x, y) =\n",
    "    match(typecheck(TInt,x), typecheck(TInt,y), x, y) with\n",
    "    | (true, true, Int(v), Int(w)) -> Int(v * w)\n",
    "    | (_,_,_,_) -> raise ( RuntimeError \"Wrong type\")\n",
    "    \n",
    "(* Divisione fra interi *)\n",
    "let int_div(x, y) =\n",
    "    match(typecheck(TInt,x), typecheck(TInt,y), x, y) with\n",
    "    | (true, true, Int(v), Int(w)) -> \n",
    "                    if w<>0 then Int(v / w)\n",
    "                            else raise (RuntimeError \"Division by zero\")\n",
    "    | (_,_,_,_) -> raise ( RuntimeError \"Wrong type\")\n",
    "\n",
    "(* Operazioni di confronto *)\n",
    "let less_than(x, y) = \n",
    "    match (typecheck(TInt,x), typecheck(TInt,y), x, y) with\n",
    "    | (true, true, Int(v), Int(w)) -> Bool(v < w)\n",
    "    | (_,_,_,_) -> raise ( RuntimeError \"Wrong type\")\n",
    "\n",
    "let greater_than(x, y) = \n",
    "    match (typecheck(TInt,x), typecheck(TInt,y), x, y) with\n",
    "    | (true, true, Int(v), Int(w)) -> Bool(v > w)\n",
    "    | (_,_,_,_) -> raise ( RuntimeError \"Wrong type\")\n",
    "\n",
    "(* Operazioni logiche *)\n",
    "let bool_and(x,y) = \n",
    "    match (typecheck(TBool,x), typecheck(TBool,y), x, y) with\n",
    "    | (true, true, Bool(v), Bool(w)) -> Bool(v && w)\n",
    "    | (_,_,_,_) -> raise ( RuntimeError \"Wrong type\")\n",
    "\n",
    "let bool_or(x,y) = \n",
    "    match (typecheck(TBool,x), typecheck(TBool,y), x, y) with\n",
    "    | (true, true, Bool(v), Bool(w)) -> Bool(v || w)\n",
    "    | (_,_,_,_) -> raise ( RuntimeError \"Wrong type\")\n",
    "\n",
    "let bool_not(x) = \n",
    "    match (typecheck(TBool,x), x) with\n",
    "    | (true, Bool(v)) -> Bool(not(v))\n",
    "    | (_,_) -> raise ( RuntimeError \"Wrong type\")"
   ]
  },
  {
   "cell_type": "code",
   "execution_count": 19,
   "id": "7241706b",
   "metadata": {},
   "outputs": [
    {
     "data": {
      "text/plain": [
       "val eval : exp -> evT env -> evT = <fun>\n"
      ]
     },
     "execution_count": 19,
     "metadata": {},
     "output_type": "execute_result"
    }
   ],
   "source": [
    "(* Interprete *)\n",
    "let rec eval (e:exp) (s:evT env) : evT = \n",
    "    match e with\n",
    "    | EInt(n) -> Int(n)\n",
    "    | CstTrue -> Bool(true)\n",
    "    | CstFalse -> Bool(false)\n",
    "    | EString(s) -> String(s)\n",
    "    | Den(i) -> (s i)\n",
    "\n",
    "    | Prod(e1,e2) -> int_times((eval e1 s), (eval e2 s))\n",
    "    | Sum(e1, e2) -> int_plus((eval e1 s), (eval e2 s))\n",
    "    | Diff(e1, e2) -> int_sub((eval e1 s), (eval e2 s))\n",
    "    | Div(e1, e2) -> int_div((eval e1 s), (eval e2 s))\n",
    "\n",
    "    | IsZero(e1) -> is_zero (eval e1 s)\n",
    "    | Eq(e1, e2) -> int_eq((eval e1 s), (eval e2 s))\n",
    "    | LessThan(e1, e2) -> less_than((eval e1 s),(eval e2 s))\n",
    "    | GreaterThan(e1, e2) -> greater_than((eval e1 s),(eval e2 s))\n",
    "\n",
    "    | And(e1, e2) -> bool_and((eval e1 s),(eval e2 s))\n",
    "    | Or(e1, e2) -> bool_or((eval e1 s),(eval e2 s))\n",
    "    | Not(e1) -> bool_not(eval e1 s)\n",
    "\n",
    "    | IfThenElse(e1,e2,e3) -> \n",
    "        let g = eval e1 s in \n",
    "            (match (typecheck(TBool,g),g) with\n",
    "            |(true, Bool(true)) -> eval e2 s\n",
    "            |(true, Bool(false)) -> eval e3 s\n",
    "            |(_,_) -> raise ( RuntimeError \"Wrong type\")\n",
    "            )\n",
    "    | Let(i, e, ebody) -> eval ebody (bind s i (eval e s))\n",
    "    | Fun(arg, ebody) -> Closure(arg,ebody,s)\n",
    "    | Letrec(f, arg, fBody, leBody) ->\n",
    "        let benv = bind (s) (f) (RecClosure(f, arg, fBody,s)) in\n",
    "            eval leBody benv\n",
    "    | Apply(eF, eArg) ->\n",
    "        let fclosure = eval eF s in \n",
    "            (match fclosure with \n",
    "            | Closure(arg, fbody, fDecEnv) -> \n",
    "                let aVal = eval eArg s in \n",
    "                let aenv = bind fDecEnv arg aVal in \n",
    "                eval fbody aenv \n",
    "            | RecClosure(f, arg, fbody, fDecEnv) -> \n",
    "                let aVal = eval eArg s in\n",
    "                let rEnv = bind fDecEnv f fclosure in\n",
    "                let aenv = bind rEnv arg aVal in \n",
    "                eval fbody aenv\n",
    "            | _ -> raise ( RuntimeError \"Wrong type\")\n",
    "            )\n",
    "    (* Nuovo costrutto On *)\n",
    "(*    | On(g1, e1, g2, e2) ->\n",
    "        let boolg1 = eval g1 s in\n",
    "            match (typecheck(TBool, boolg1), boolg1) with\n",
    "                | (true, Bool(true)) -> eval e1 s\n",
    "                | (true, Bool(false)) -> (\n",
    "                    let boolg2 = eval g2 s in\n",
    "                        match (typecheck(TBool, boolg2), boolg2) with\n",
    "                            | (true, Bool(true)) -> eval e2 s\n",
    "                            | (true, Bool(false)) -> raise (RuntimeError \"on: entrambi false\")\n",
    "                            | (false,  _) -> raise (RuntimeError \"wrong type\")\n",
    "                            | (true, _) -> raise (RuntimeError \"typecheck is bugged\")\n",
    "                )\n",
    "                | (false,  _) -> raise (RuntimeError \"wrong type\")\n",
    "                | (true, _) -> raise (RuntimeError \"typecheck is bugged\")\n",
    "*)\n",
    "    | On(g1, e1, g2, e2) ->\n",
    "        let boolg1 = eval g1 s in let boolg2 = eval g2 s in\n",
    "            match (typecheck(TBool, boolg1), typecheck(TBool, boolg2), boolg1, boolg2) with\n",
    "                | (false, _, _, _) -> raise (RuntimeError \"wrong type\")\n",
    "                | (_, false, _, _) -> raise (RuntimeError \"wrong type\")\n",
    "                | (true, true, Bool(true), _) -> eval e1 s\n",
    "                | (true, true, Bool(false), Bool(true)) -> eval e2 s\n",
    "                | (true, true, Bool(false), Bool(false)) -> raise (RuntimeError \"on: entrambi false\")\n",
    "                | (true, true, _, _) -> raise (RuntimeError \"typecheck is bugged\")\n"
   ]
  },
  {
   "cell_type": "code",
   "execution_count": 18,
   "id": "8a02c5d3",
   "metadata": {},
   "outputs": [
    {
     "data": {
      "text/plain": [
       "val test : exp = On (CstTrue, EInt 2, CstTrue, EInt 10)\n"
      ]
     },
     "execution_count": 18,
     "metadata": {},
     "output_type": "execute_result"
    },
    {
     "data": {
      "text/plain": [
       "- : evT = Int 2\n"
      ]
     },
     "execution_count": 18,
     "metadata": {},
     "output_type": "execute_result"
    }
   ],
   "source": [
    "let test = On(CstTrue, EInt(2), CstTrue, EInt(10));;\n",
    "eval test emptyenv;;"
   ]
  },
  {
   "cell_type": "code",
   "execution_count": null,
   "id": "81ceaaae",
   "metadata": {},
   "outputs": [],
   "source": [
    "Let(i, e, ebody) (* let i = e in ebody *)\n",
    "Fun(arg, gbody) (* fun arg -> gbody *)\n",
    "\n",
    "Letrec(f, arg, fBody, leBody) (* let f arg = fBody in leBody *)\n",
    "\n",
    "Letrec(f, arg, fBody, leBody) ~ Let(f, Fun(arg, fBody), leBody)"
   ]
  },
  {
   "cell_type": "markdown",
   "id": "760b6cc5",
   "metadata": {},
   "source": [
    "## Es 3 testo d'esame 2\n",
    "Assumendo il seguente tipo di dato che descrive alberi binari di interi:\n",
    "```\n",
    "type btree =\n",
    "| Void\n",
    "| Node of int * btree * btree\n",
    "```\n",
    "si definisca, usando i costrutti di programmazione funzionale di OCaml, una funzione count con tipo\n",
    "```\n",
    "count : btree -> (btree -> bool) -> int\n",
    "```\n",
    "tale che `(count bt p)` restituisca il numero dei nodi in bt i cui **figli** soddisfano il predicato p."
   ]
  },
  {
   "cell_type": "code",
   "execution_count": 24,
   "id": "8651b924",
   "metadata": {},
   "outputs": [
    {
     "data": {
      "text/plain": [
       "type btree = Void | Node of int * btree * btree\n"
      ]
     },
     "execution_count": 24,
     "metadata": {},
     "output_type": "execute_result"
    },
    {
     "data": {
      "text/plain": [
       "val count : btree -> (btree -> bool) -> int = <fun>\n"
      ]
     },
     "execution_count": 24,
     "metadata": {},
     "output_type": "execute_result"
    }
   ],
   "source": [
    "type btree =\n",
    "| Void\n",
    "| Node of int * btree * btree;;\n",
    "\n",
    "\n",
    "let rec count bt p =\n",
    "    match bt with\n",
    "        | Void -> 0\n",
    "        | Node(n, btl, btr) -> (if p btl && p btr then 1 else 0) + count btl p + count btr p;;"
   ]
  },
  {
   "cell_type": "code",
   "execution_count": 28,
   "id": "5bb09b8e",
   "metadata": {},
   "outputs": [
    {
     "data": {
      "text/plain": [
       "val positivo : btree -> bool = <fun>\n"
      ]
     },
     "execution_count": 28,
     "metadata": {},
     "output_type": "execute_result"
    },
    {
     "data": {
      "text/plain": [
       "val bt : btree =\n",
       "  Node (3, Node (5, Void, Void),\n",
       "   Node (4, Node (6, Void, Void), Node (8, Void, Void)))\n"
      ]
     },
     "execution_count": 28,
     "metadata": {},
     "output_type": "execute_result"
    },
    {
     "data": {
      "text/plain": [
       "- : int = 2\n"
      ]
     },
     "execution_count": 28,
     "metadata": {},
     "output_type": "execute_result"
    },
    {
     "data": {
      "text/plain": [
       "- : int = 33\n"
      ]
     },
     "execution_count": 28,
     "metadata": {},
     "output_type": "execute_result"
    }
   ],
   "source": [
    "let positivo x =\n",
    "match x with\n",
    "| Void -> false\n",
    "| Node (i,_,_) -> i>0;;\n",
    "\n",
    "let bt =\n",
    "Node (3,\n",
    "Node (5,Void,Void),\n",
    "Node (4,\n",
    "Node(6,Void,Void),\n",
    "Node(8,Void,Void)\n",
    ")\n",
    ");;\n",
    "\n",
    "count bt positivo;;\n",
    "\n",
    "4+4+7+18;;"
   ]
  }
 ],
 "metadata": {
  "kernelspec": {
   "display_name": "OCaml default",
   "language": "OCaml",
   "name": "ocaml-jupyter"
  },
  "language_info": {
   "codemirror_mode": "text/x-ocaml",
   "file_extension": ".ml",
   "mimetype": "text/x-ocaml",
   "name": "OCaml",
   "nbconverter_exporter": null,
   "pygments_lexer": "OCaml",
   "version": "4.08.1"
  }
 },
 "nbformat": 4,
 "nbformat_minor": 5
}
