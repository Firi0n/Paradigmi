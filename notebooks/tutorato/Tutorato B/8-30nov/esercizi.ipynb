{
 "cells": [
  {
   "cell_type": "markdown",
   "id": "93c1c733",
   "metadata": {},
   "source": [
    "# Linguaggio pixel\n",
    "\n",
    "Si consideri il nucleo di un semplice linguaggio di programmazione funzionale, la cui sintassi è descritta da\n",
    "\n",
    "_Pixel_ $p ::= \\langle r, g, b \\rangle \\text{ dove } r, g, b \\in \\{0, 1, . . . , 255\\}$\n",
    "\n",
    "_Identificatori_ $I ::= \\dots$\n",
    "\n",
    "_Espressioni_ $e ::= I | p | \\text{lighten } e | \\text{darken } e | \\text{let } I = e_1 \\text{ in } e_2$\n",
    "\n",
    "Intuitivamente, un pixel è un tipo di dato che contiene tre valori interi compresi tra 0 e 255 (il primo valore codifica red, il secondo green e il terzo blue).\n",
    "L'espressione `lighten` produce come risultato un pixel dove ogni componente del pixel passato come argomento viene incrementato di 1. L'incremento del valore 255 produce 255. L'espressione `darken` produce come risultato un pixel dove ogni componente del pixel passato come argomento viene diminuito di 1. Il decremento del valore 0 produce 0.\n",
    "\n",
    "Si definisca l’interprete del linguaggio utilizzando OCaml come linguaggio di implementazione."
   ]
  },
  {
   "cell_type": "markdown",
   "id": "03b0490e",
   "metadata": {},
   "source": [
    "### Tipi e sintassi"
   ]
  },
  {
   "cell_type": "code",
   "execution_count": null,
   "id": "0796bc53",
   "metadata": {},
   "outputs": [],
   "source": []
  },
  {
   "cell_type": "markdown",
   "id": "7c6e231f",
   "metadata": {},
   "source": [
    "### Valori esprimibili e type checking"
   ]
  },
  {
   "cell_type": "code",
   "execution_count": null,
   "id": "2cf1931f",
   "metadata": {},
   "outputs": [],
   "source": []
  },
  {
   "cell_type": "markdown",
   "id": "983936d2",
   "metadata": {},
   "source": [
    "### Interprete"
   ]
  },
  {
   "cell_type": "code",
   "execution_count": null,
   "id": "fe45b38e",
   "metadata": {},
   "outputs": [],
   "source": []
  },
  {
   "cell_type": "code",
   "execution_count": 26,
   "id": "9b37f490",
   "metadata": {},
   "outputs": [
    {
     "data": {
      "text/plain": [
       "- : evT = Pixel {r = 11; b = 151; g = 212}\n"
      ]
     },
     "execution_count": 26,
     "metadata": {},
     "output_type": "execute_result"
    }
   ],
   "source": [
    "eval (Lighten (EPixel {r=10; b=150; g=211})) emptyenv;;"
   ]
  },
  {
   "cell_type": "markdown",
   "id": "29ed505d",
   "metadata": {},
   "source": [
    "## Funzioni\n",
    "\n",
    "Estendiamo il linguaggio con la possibilità di definire funzioni (unarie):\n",
    "\n",
    "_Espressioni_ $e ::= \\dots | \\text{fun } e_1 e_2 | \\text{apply } e_1 e_2$"
   ]
  },
  {
   "cell_type": "code",
   "execution_count": null,
   "id": "675c94ee",
   "metadata": {},
   "outputs": [],
   "source": []
  }
 ],
 "metadata": {
  "kernelspec": {
   "display_name": "OCaml default",
   "language": "OCaml",
   "name": "ocaml-jupyter"
  },
  "language_info": {
   "codemirror_mode": "text/x-ocaml",
   "file_extension": ".ml",
   "mimetype": "text/x-ocaml",
   "name": "OCaml",
   "nbconverter_exporter": null,
   "pygments_lexer": "OCaml",
   "version": "4.08.1"
  }
 },
 "nbformat": 4,
 "nbformat_minor": 5
}
