{
 "cells": [
  {
   "cell_type": "markdown",
   "id": "e983cd90",
   "metadata": {},
   "source": [
    "## Esercizio\n",
    "\n",
    "Esercizio 3 dell'esame di settembre 2023. Dato il tipo di dato `colored_tree`, definire due funzioni\n",
    "```\n",
    "color_tree_lists : colored_tree -> int list * int list * int list\n",
    "color_forest_lists : colored_tree list -> int list * int list * int list\n",
    "```\n",
    "\n",
    "`color_tree_lists` deve restiture tre liste, una con tutti i valori nei nodi neri, una con tutti i valori nei nodi rossi e una con tutti i valori nei nodi verdi.\n",
    "`color_forest_lists` fa la stessa cosa, ma a partire di una lista di alberi: la prima lista contiene quindi tutti i valori nei nodi neri di tutti gli alberi nella lista di input, e così via."
   ]
  },
  {
   "cell_type": "code",
   "execution_count": 1,
   "id": "89617054",
   "metadata": {},
   "outputs": [
    {
     "data": {
      "text/plain": [
       "type colored_tree =\n",
       "    BlackNode of int * colored_tree * colored_tree\n",
       "  | RedNode of int * colored_tree * colored_tree\n",
       "  | GreenLeaf of int\n"
      ]
     },
     "execution_count": 1,
     "metadata": {},
     "output_type": "execute_result"
    }
   ],
   "source": [
    "type colored_tree =\n",
    "    | BlackNode of int * colored_tree * colored_tree\n",
    "    | RedNode of int * colored_tree * colored_tree\n",
    "    | GreenLeaf of int;;"
   ]
  },
  {
   "cell_type": "code",
   "execution_count": 2,
   "id": "e1a93315",
   "metadata": {},
   "outputs": [
    {
     "data": {
      "text/plain": [
       "val color_tree_lists : colored_tree -> int list * int list * int list = <fun>\n"
      ]
     },
     "execution_count": 2,
     "metadata": {},
     "output_type": "execute_result"
    },
    {
     "data": {
      "text/plain": [
       "val ct : colored_tree =\n",
       "  BlackNode (10,\n",
       "   RedNode (5, BlackNode (2, GreenLeaf 1, GreenLeaf 2), GreenLeaf 4),\n",
       "   GreenLeaf 2)\n"
      ]
     },
     "execution_count": 2,
     "metadata": {},
     "output_type": "execute_result"
    },
    {
     "data": {
      "text/plain": [
       "- : int list * int list * int list = ([10; 2], [5], [1; 2; 4; 2])\n"
      ]
     },
     "execution_count": 2,
     "metadata": {},
     "output_type": "execute_result"
    }
   ],
   "source": [
    "let rec color_tree_lists ctree =\n",
    "  match ctree with\n",
    "  | GreenLeaf n -> ([], [], [n])\n",
    "  | BlackNode (n, ltree, rtree) ->\n",
    "      let (lbnodes, lrnodes, lgnodes) = color_tree_lists ltree in\n",
    "      let (rbnodes, rrnodes, rgnodes) = color_tree_lists rtree in\n",
    "      ([n]@lbnodes@rbnodes, lrnodes@rrnodes, lgnodes@rgnodes)\n",
    "  | RedNode (n, ltree, rtree) ->\n",
    "      let (lbnodes, lrnodes, lgnodes) = color_tree_lists ltree in\n",
    "      let (rbnodes, rrnodes, rgnodes) = color_tree_lists rtree in\n",
    "      (lbnodes@rbnodes, [n]@lrnodes@rrnodes, lgnodes@rgnodes);;\n",
    "\n",
    "let ct = BlackNode (10,\n",
    "    RedNode (5,\n",
    "        BlackNode (2,\n",
    "            GreenLeaf 1,\n",
    "            GreenLeaf 2),\n",
    "        GreenLeaf 4),\n",
    "    GreenLeaf 2);;\n",
    "color_tree_lists ct;;"
   ]
  },
  {
   "cell_type": "code",
   "execution_count": 3,
   "id": "ec7a809e",
   "metadata": {},
   "outputs": [
    {
     "data": {
      "text/plain": [
       "val color_forest_lists : colored_tree list -> int list * int list * int list =\n",
       "  <fun>\n"
      ]
     },
     "execution_count": 3,
     "metadata": {},
     "output_type": "execute_result"
    },
    {
     "data": {
      "text/plain": [
       "- : int list * int list * int list =\n",
       "([10; 2; 10; 2], [5; 5], [1; 2; 4; 2; 1; 2; 4; 2])\n"
      ]
     },
     "execution_count": 3,
     "metadata": {},
     "output_type": "execute_result"
    }
   ],
   "source": [
    "let color_forest_lists (ctrees : colored_tree list) =\n",
    "  let rec aux (ctrees : colored_tree list) (partial_res : int list * int list * int list) =\n",
    "    let (bns, rns, gns) = partial_res in\n",
    "    match ctrees with\n",
    "    | [] -> partial_res\n",
    "    | ctree::rest -> let (bn, rn, gn) = color_tree_lists ctree in\n",
    "      aux rest (bn@bns, rn@rns, gn@gns)\n",
    "  in\n",
    "  aux ctrees ([], [], []);;\n",
    "\n",
    "color_forest_lists [ct; ct];;"
   ]
  },
  {
   "cell_type": "code",
   "execution_count": 4,
   "id": "a64f4128",
   "metadata": {},
   "outputs": [
    {
     "data": {
      "text/plain": [
       "- : ('a -> 'b -> 'a) -> 'a -> 'b list -> 'a = <fun>\n"
      ]
     },
     "execution_count": 4,
     "metadata": {},
     "output_type": "execute_result"
    },
    {
     "data": {
      "text/plain": [
       "val color_forest_lists : colored_tree list -> int list * int list * int list =\n",
       "  <fun>\n"
      ]
     },
     "execution_count": 4,
     "metadata": {},
     "output_type": "execute_result"
    },
    {
     "data": {
      "text/plain": [
       "- : int list * int list * int list =\n",
       "([10; 2; 10; 2], [5; 5], [1; 2; 4; 2; 1; 2; 4; 2])\n"
      ]
     },
     "execution_count": 4,
     "metadata": {},
     "output_type": "execute_result"
    },
    {
     "data": {
      "text/plain": [
       "val color_forest_lists : colored_tree list -> int list * int list * int list =\n",
       "  <fun>\n"
      ]
     },
     "execution_count": 4,
     "metadata": {},
     "output_type": "execute_result"
    },
    {
     "data": {
      "text/plain": [
       "- : int list * int list * int list =\n",
       "([10; 2; 10; 2], [5; 5], [1; 2; 4; 2; 1; 2; 4; 2])\n"
      ]
     },
     "execution_count": 4,
     "metadata": {},
     "output_type": "execute_result"
    }
   ],
   "source": [
    "List.fold_left;;\n",
    "\n",
    "let color_forest_lists (ctrees : colored_tree list) =\n",
    "  List.fold_left (fun partial_res ctree ->\n",
    "      let (bns, rns, gns) = partial_res in\n",
    "      let (bn, rn, gn) = color_tree_lists ctree in\n",
    "        (bn@bns, rn@rns, gn@gns)\n",
    "    ) ([], [], []) ctrees;;\n",
    "\n",
    "color_forest_lists [ct; ct];;\n",
    "\n",
    "let color_forest_lists (ctrees : colored_tree list) =\n",
    "  let tmp = List.map color_tree_lists ctrees in\n",
    "  List.fold_left (fun partial_res nodes_triple ->\n",
    "      let (bns, rns, gns) = partial_res in\n",
    "      let (bn, rn, gn) = nodes_triple in\n",
    "        (bn@bns, rn@rns, gn@gns)\n",
    "    ) ([], [], []) tmp;;\n",
    "\n",
    "color_forest_lists [ct; ct];;"
   ]
  },
  {
   "cell_type": "markdown",
   "id": "160ba69f",
   "metadata": {},
   "source": [
    "## Esercizio\n",
    "\n",
    "Esercizio 4 dell'esame di settembre 2023. Estendere MiniCaml con collezioni di interi `IntCollection` e due operazioni `Union` e `Exists`.\n",
    "\n",
    "Come tutti gli esercizi dell'interprete, procediamo in 4 passaggi."
   ]
  },
  {
   "cell_type": "markdown",
   "id": "d345f92d",
   "metadata": {},
   "source": [
    "### Espressioni"
   ]
  },
  {
   "cell_type": "code",
   "execution_count": 5,
   "id": "71d0de0c",
   "metadata": {},
   "outputs": [
    {
     "data": {
      "text/plain": [
       "type ide = string\n"
      ]
     },
     "execution_count": 5,
     "metadata": {},
     "output_type": "execute_result"
    },
    {
     "data": {
      "text/plain": [
       "type tname =\n",
       "    TInt\n",
       "  | TBool\n",
       "  | TString\n",
       "  | TClosure\n",
       "  | TRecClosure\n",
       "  | TUnBound\n",
       "  | TIntCollection\n"
      ]
     },
     "execution_count": 5,
     "metadata": {},
     "output_type": "execute_result"
    },
    {
     "data": {
      "text/plain": [
       "type exp =\n",
       "    EInt of int\n",
       "  | CstTrue\n",
       "  | CstFalse\n",
       "  | EString of string\n",
       "  | Den of ide\n",
       "  | Sum of exp * exp\n",
       "  | Diff of exp * exp\n",
       "  | Prod of exp * exp\n",
       "  | Div of exp * exp\n",
       "  | IsZero of exp\n",
       "  | Eq of exp * exp\n",
       "  | LessThan of exp * exp\n",
       "  | GreaterThan of exp * exp\n",
       "  | And of exp * exp\n",
       "  | Or of exp * exp\n",
       "  | Not of exp\n",
       "  | IfThenElse of exp * exp * exp\n",
       "  | Let of ide * exp * exp\n",
       "  | Letrec of ide * ide * exp * exp\n",
       "  | Fun of ide * exp\n",
       "  | Apply of exp * exp\n",
       "  | Collection of exp list\n",
       "  | Union of exp * exp\n",
       "  | Exists of exp * exp\n"
      ]
     },
     "execution_count": 5,
     "metadata": {},
     "output_type": "execute_result"
    }
   ],
   "source": [
    "(* Identificatori *)\n",
    "type ide = string;;\n",
    "\n",
    "(* I tipi *)\n",
    "type tname =  TInt | TBool | TString | TClosure | TRecClosure | TUnBound | TIntCollection\n",
    "\n",
    "(* Abstract Expressions = espressioni nella sintassi astratta, \n",
    "   compongono l'Albero di Sintassi Astratta *)\n",
    "type exp = \n",
    "    | EInt of int\n",
    "    | CstTrue \n",
    "    | CstFalse\n",
    "    | EString of string\n",
    "    | Den of ide\n",
    "    (* Operatori binari da interi a interi*)\n",
    "    | Sum of exp * exp\n",
    "    | Diff of exp * exp\n",
    "    | Prod of exp * exp\n",
    "    | Div of exp * exp\n",
    "    (* Operatori da interi a booleani *)\n",
    "    | IsZero of exp\n",
    "    | Eq of exp * exp\n",
    "    | LessThan of exp*exp\n",
    "    | GreaterThan of exp*exp\n",
    "    (* Operatori su booleani *)\n",
    "    | And of exp*exp\n",
    "    | Or of exp*exp\n",
    "    | Not of exp\n",
    "    (* Controllo del flusso, funzioni *)\n",
    "    | IfThenElse of exp * exp * exp\n",
    "    | Let of ide * exp * exp\n",
    "    | Letrec of ide * ide  * exp * exp\n",
    "    | Fun of ide * exp\n",
    "    | Apply of exp * exp\n",
    "    (* Costrutto Collection *)\n",
    "    | Collection of exp list\n",
    "    | Union of exp * exp\n",
    "    | Exists of exp * exp\n",
    ";;"
   ]
  },
  {
   "cell_type": "markdown",
   "id": "5c9f6a38",
   "metadata": {},
   "source": [
    "### Tipi esprimibili"
   ]
  },
  {
   "cell_type": "code",
   "execution_count": 6,
   "id": "1ec87828",
   "metadata": {},
   "outputs": [
    {
     "data": {
      "text/plain": [
       "type 't env = ide -> 't\n"
      ]
     },
     "execution_count": 6,
     "metadata": {},
     "output_type": "execute_result"
    },
    {
     "data": {
      "text/plain": [
       "type evT =\n",
       "    Int of int\n",
       "  | Bool of bool\n",
       "  | String of string\n",
       "  | Closure of ide * exp * evT env\n",
       "  | RecClosure of ide * ide * exp * evT env\n",
       "  | UnBound\n",
       "  | IntCollection of int list\n"
      ]
     },
     "execution_count": 6,
     "metadata": {},
     "output_type": "execute_result"
    },
    {
     "data": {
      "text/plain": [
       "val emptyenv : 'a -> evT = <fun>\n"
      ]
     },
     "execution_count": 6,
     "metadata": {},
     "output_type": "execute_result"
    },
    {
     "data": {
      "text/plain": [
       "val bind : evT env -> ide -> evT -> ide -> evT = <fun>\n"
      ]
     },
     "execution_count": 6,
     "metadata": {},
     "output_type": "execute_result"
    }
   ],
   "source": [
    "(* Ambiente polimorfo *)\n",
    "type 't env = ide -> 't\n",
    "\n",
    "(* Evaluation types = tipi  esprimibili *)\n",
    "type evT = \n",
    "    | Int of int \n",
    "    | Bool of bool \n",
    "    | String of string \n",
    "    | Closure of ide * exp * evT env \n",
    "    | RecClosure of ide * ide * exp * evT env\n",
    "    | UnBound\n",
    "    | IntCollection of int list\n",
    "\n",
    "(* Ambiente vuoto *)\n",
    "let emptyenv = function x -> UnBound\n",
    "\n",
    "(* Binding fra una stringa x e un valore primitivo evT *)\n",
    "let bind (s: evT env) (x: ide) (v: evT) = \n",
    "    function (i: ide) -> if (i = x) then v else (s i)"
   ]
  },
  {
   "cell_type": "markdown",
   "id": "8dd293c2",
   "metadata": {},
   "source": [
    "### Typechecking"
   ]
  },
  {
   "cell_type": "code",
   "execution_count": 7,
   "id": "a036e90a",
   "metadata": {},
   "outputs": [
    {
     "data": {
      "text/plain": [
       "val getType : evT -> tname = <fun>\n"
      ]
     },
     "execution_count": 7,
     "metadata": {},
     "output_type": "execute_result"
    },
    {
     "data": {
      "text/plain": [
       "val typecheck : tname * evT -> bool = <fun>\n"
      ]
     },
     "execution_count": 7,
     "metadata": {},
     "output_type": "execute_result"
    }
   ],
   "source": [
    "(* Funzione da evT a tname che associa a ogni valore il suo descrittore di tipo  *)\n",
    "let getType (x: evT) : tname =\n",
    "    match x with\n",
    "    | Int(n) -> TInt\n",
    "    | Bool(b) -> TBool\n",
    "    | String(s) -> TString\n",
    "    | Closure(i,e,en) -> TClosure\n",
    "    | RecClosure(i,j,e,en) -> TRecClosure\n",
    "    | UnBound -> TUnBound\n",
    "    | IntCollection(_) -> TIntCollection\n",
    "\n",
    "(* Type-checking *)\n",
    "let typecheck ((x, y) : (tname*evT)) = \n",
    "    match x with\n",
    "    | TInt -> (match y with \n",
    "               | Int(u) -> true\n",
    "               | _ -> false\n",
    "               )\n",
    "    | TBool -> (match y with \n",
    "                | Bool(u) -> true\n",
    "                | _ -> false\n",
    "                )\n",
    "    | TString -> (match y with\n",
    "                 | String(u) -> true\n",
    "                 | _ -> false\n",
    "                 )\n",
    "    | TClosure -> (match y with\n",
    "                   | Closure(i,e,n) -> true\n",
    "                   | _ -> false\n",
    "                   )\n",
    "    | TRecClosure -> (match y with\n",
    "                     | RecClosure(i,j,e,n) -> true\n",
    "                     | _ -> false\n",
    "                     )\n",
    "    | TUnBound -> (match y with\n",
    "                 | UnBound -> true\n",
    "                 | _ -> false\n",
    "                 )\n",
    "    | TIntCollection -> (match y with\n",
    "                 | IntCollection(_) -> true\n",
    "                 | _ -> false\n",
    "                 )"
   ]
  },
  {
   "cell_type": "markdown",
   "id": "b83d7b9d",
   "metadata": {},
   "source": [
    "### Interprete"
   ]
  },
  {
   "cell_type": "code",
   "execution_count": 8,
   "id": "720e7150",
   "metadata": {},
   "outputs": [
    {
     "data": {
      "text/plain": [
       "exception RuntimeError of string\n"
      ]
     },
     "execution_count": 8,
     "metadata": {},
     "output_type": "execute_result"
    },
    {
     "data": {
      "text/plain": [
       "val is_zero : evT -> evT = <fun>\n"
      ]
     },
     "execution_count": 8,
     "metadata": {},
     "output_type": "execute_result"
    },
    {
     "data": {
      "text/plain": [
       "val int_eq : evT * evT -> evT = <fun>\n"
      ]
     },
     "execution_count": 8,
     "metadata": {},
     "output_type": "execute_result"
    },
    {
     "data": {
      "text/plain": [
       "val int_plus : evT * evT -> evT = <fun>\n"
      ]
     },
     "execution_count": 8,
     "metadata": {},
     "output_type": "execute_result"
    },
    {
     "data": {
      "text/plain": [
       "val int_sub : evT * evT -> evT = <fun>\n"
      ]
     },
     "execution_count": 8,
     "metadata": {},
     "output_type": "execute_result"
    },
    {
     "data": {
      "text/plain": [
       "val int_times : evT * evT -> evT = <fun>\n"
      ]
     },
     "execution_count": 8,
     "metadata": {},
     "output_type": "execute_result"
    },
    {
     "data": {
      "text/plain": [
       "val int_div : evT * evT -> evT = <fun>\n"
      ]
     },
     "execution_count": 8,
     "metadata": {},
     "output_type": "execute_result"
    },
    {
     "data": {
      "text/plain": [
       "val less_than : evT * evT -> evT = <fun>\n"
      ]
     },
     "execution_count": 8,
     "metadata": {},
     "output_type": "execute_result"
    },
    {
     "data": {
      "text/plain": [
       "val greater_than : evT * evT -> evT = <fun>\n"
      ]
     },
     "execution_count": 8,
     "metadata": {},
     "output_type": "execute_result"
    },
    {
     "data": {
      "text/plain": [
       "val bool_and : evT * evT -> evT = <fun>\n"
      ]
     },
     "execution_count": 8,
     "metadata": {},
     "output_type": "execute_result"
    },
    {
     "data": {
      "text/plain": [
       "val bool_or : evT * evT -> evT = <fun>\n"
      ]
     },
     "execution_count": 8,
     "metadata": {},
     "output_type": "execute_result"
    },
    {
     "data": {
      "text/plain": [
       "val bool_not : evT -> evT = <fun>\n"
      ]
     },
     "execution_count": 8,
     "metadata": {},
     "output_type": "execute_result"
    }
   ],
   "source": [
    "(* Errori a runtime *)\n",
    "exception RuntimeError of string\n",
    "\n",
    "(* PRIMITIVE del linguaggio *)\n",
    "\n",
    "(* Controlla se un numero è zero *)\n",
    "let is_zero(x) = match (typecheck(TInt,x),x) with\n",
    "    | (true, Int(v)) -> Bool(v = 0)\n",
    "    | (_, _) -> raise ( RuntimeError \"Wrong type\")\n",
    "\n",
    "(* Uguaglianza fra interi *)\n",
    "let int_eq(x,y) =   \n",
    "    match (typecheck(TInt,x), typecheck(TInt,y), x, y) with\n",
    "    | (true, true, Int(v), Int(w)) -> Bool(v = w)\n",
    "    | (_,_,_,_) -> raise ( RuntimeError \"Wrong type\")\n",
    "\n",
    "(* Somma fra interi *)\t   \n",
    "let int_plus(x, y) = \n",
    "    match(typecheck(TInt,x), typecheck(TInt,y), x, y) with\n",
    "    | (true, true, Int(v), Int(w)) -> Int(v + w)\n",
    "    | (_,_,_,_) -> raise ( RuntimeError \"Wrong type\")\n",
    "\n",
    "(* Differenza fra interi *)\n",
    "let int_sub(x, y) = \n",
    "    match(typecheck(TInt,x), typecheck(TInt,y), x, y) with\n",
    "    | (true, true, Int(v), Int(w)) -> Int(v - w)\n",
    "    | (_,_,_,_) -> raise ( RuntimeError \"Wrong type\")\n",
    "\n",
    "(* Prodotto fra interi *)\n",
    "let int_times(x, y) =\n",
    "    match(typecheck(TInt,x), typecheck(TInt,y), x, y) with\n",
    "    | (true, true, Int(v), Int(w)) -> Int(v * w)\n",
    "    | (_,_,_,_) -> raise ( RuntimeError \"Wrong type\")\n",
    "    \n",
    "(* Divisione fra interi *)\n",
    "let int_div(x, y) =\n",
    "    match(typecheck(TInt,x), typecheck(TInt,y), x, y) with\n",
    "    | (true, true, Int(v), Int(w)) -> \n",
    "                    if w<>0 then Int(v / w)\n",
    "                            else raise (RuntimeError \"Division by zero\")\n",
    "    | (_,_,_,_) -> raise ( RuntimeError \"Wrong type\")\n",
    "\n",
    "(* Operazioni di confronto *)\n",
    "let less_than(x, y) = \n",
    "    match (typecheck(TInt,x), typecheck(TInt,y), x, y) with\n",
    "    | (true, true, Int(v), Int(w)) -> Bool(v < w)\n",
    "    | (_,_,_,_) -> raise ( RuntimeError \"Wrong type\")\n",
    "\n",
    "let greater_than(x, y) = \n",
    "    match (typecheck(TInt,x), typecheck(TInt,y), x, y) with\n",
    "    | (true, true, Int(v), Int(w)) -> Bool(v > w)\n",
    "    | (_,_,_,_) -> raise ( RuntimeError \"Wrong type\")\n",
    "\n",
    "(* Operazioni logiche *)\n",
    "let bool_and(x,y) = \n",
    "    match (typecheck(TBool,x), typecheck(TBool,y), x, y) with\n",
    "    | (true, true, Bool(v), Bool(w)) -> Bool(v && w)\n",
    "    | (_,_,_,_) -> raise ( RuntimeError \"Wrong type\")\n",
    "\n",
    "let bool_or(x,y) = \n",
    "    match (typecheck(TBool,x), typecheck(TBool,y), x, y) with\n",
    "    | (true, true, Bool(v), Bool(w)) -> Bool(v || w)\n",
    "    | (_,_,_,_) -> raise ( RuntimeError \"Wrong type\")\n",
    "\n",
    "let bool_not(x) = \n",
    "    match (typecheck(TBool,x), x) with\n",
    "    | (true, Bool(v)) -> Bool(not(v))\n",
    "    | (_,_) -> raise ( RuntimeError \"Wrong type\")"
   ]
  },
  {
   "cell_type": "code",
   "execution_count": 11,
   "id": "35687d4a",
   "metadata": {},
   "outputs": [
    {
     "ename": "error",
     "evalue": "compile_error",
     "output_type": "error",
     "traceback": [
      "File \"[11]\", line 76, characters 53-78:\n76 |             Bool (List.length (List.filter (fun v -> eval (Apply(EInt 3, v)) s) l) <> 0)\n                                                          ^^^^^^^^^^^^^^^^^^^^^^^^^\nError: This expression has type evT but an expression was expected of type\n         bool\n"
     ]
    }
   ],
   "source": [
    "(* Interprete *)\n",
    "let rec eval (e:exp) (s:evT env) : evT = \n",
    "    match e with\n",
    "    | EInt(n) -> Int(n)\n",
    "    | CstTrue -> Bool(true)\n",
    "    | CstFalse -> Bool(false)\n",
    "    | EString(s) -> String(s)\n",
    "    | Den(i) -> (s i)\n",
    "\n",
    "    | Prod(e1,e2) -> int_times((eval e1 s), (eval e2 s))\n",
    "    | Sum(e1, e2) -> int_plus((eval e1 s), (eval e2 s))\n",
    "    | Diff(e1, e2) -> int_sub((eval e1 s), (eval e2 s))\n",
    "    | Div(e1, e2) -> int_div((eval e1 s), (eval e2 s))\n",
    "\n",
    "    | IsZero(e1) -> is_zero (eval e1 s)\n",
    "    | Eq(e1, e2) -> int_eq((eval e1 s), (eval e2 s))\n",
    "    | LessThan(e1, e2) -> less_than((eval e1 s),(eval e2 s))\n",
    "    | GreaterThan(e1, e2) -> greater_than((eval e1 s),(eval e2 s))\n",
    "\n",
    "    | And(e1, e2) -> bool_and((eval e1 s),(eval e2 s))\n",
    "    | Or(e1, e2) -> bool_or((eval e1 s),(eval e2 s))\n",
    "    | Not(e1) -> bool_not(eval e1 s)\n",
    "\n",
    "    | IfThenElse(e1,e2,e3) -> \n",
    "        let g = eval e1 s in \n",
    "            (match (typecheck(TBool,g),g) with\n",
    "            |(true, Bool(true)) -> eval e2 s\n",
    "            |(true, Bool(false)) -> eval e3 s\n",
    "            |(_,_) -> raise ( RuntimeError \"Wrong type\")\n",
    "            )\n",
    "    | Let(i, e, ebody) -> eval ebody (bind s i (eval e s))\n",
    "    | Fun(arg, ebody) -> Closure(arg,ebody,s)\n",
    "    | Letrec(f, arg, fBody, leBody) ->\n",
    "        let benv = bind (s) (f) (RecClosure(f, arg, fBody,s)) in\n",
    "            eval leBody benv\n",
    "    | Apply(eF, eArg) ->\n",
    "        let fclosure = eval eF s in \n",
    "            (match fclosure with \n",
    "            | Closure(arg, fbody, fDecEnv) -> \n",
    "                let aVal = eval eArg s in \n",
    "                let aenv = bind fDecEnv arg aVal in \n",
    "                eval fbody aenv \n",
    "            | RecClosure(f, arg, fbody, fDecEnv) -> \n",
    "                let aVal = eval eArg s in\n",
    "                let rEnv = bind fDecEnv f fclosure in\n",
    "                let aenv = bind rEnv arg aVal in \n",
    "                eval fbody aenv\n",
    "            | _ -> raise ( RuntimeError \"Wrong type\")\n",
    "            )\n",
    "    (* Nuovo costrutto IntCollection *)\n",
    "    | Collection (elist) ->\n",
    "        let val_list : evT list = List.map (fun e -> eval e s) elist in\n",
    "        (* Collection ([Bool true]) *)\n",
    "        if List.length val_list <> List.length (List.filter (fun v -> typecheck (TInt, v)) val_list) then\n",
    "            raise ( RuntimeError \"Wrong type\")\n",
    "        else\n",
    "            let int_list = List.map (fun v -> match v with\n",
    "                | Int n -> n\n",
    "                | _ -> failwith \"Impossibile\"\n",
    "            ) val_list\n",
    "            in IntCollection int_list\n",
    "    | Union(ec1, ec2) ->\n",
    "        let c1 = eval ec1 s in\n",
    "        let c2 = eval ec2 s in\n",
    "        (* Union (Bool true, Bool false)*)\n",
    "        (match (typecheck(TIntCollection,c1), typecheck(TIntCollection,c2), c1, c2) with\n",
    "        | true, true, IntCollection(l1), IntCollection(l2) -> IntCollection(l1@l2)\n",
    "        | _, _, _, _ -> raise ( RuntimeError \"Wrong type\")\n",
    "        )\n",
    "    | Exists(eP, eC) ->\n",
    "        let p = eval eP s in\n",
    "        let c = eval eC s in\n",
    "        (match (typecheck(TClosure,p), typecheck(TIntCollection,c), p, c) with\n",
    "        | true, true, _, IntCollection(l) ->\n",
    "            (* Questa riga non funziona davvero perché usa valori OCaml quando\n",
    "             * servirebbero dei valori MiniCaml e viceversa, però l'intuizione\n",
    "             * è questa\n",
    "             *)\n",
    "            Bool (List.length (List.filter (fun v -> eval (Apply(p, v)) s) l) <> 0)\n",
    "        | _ -> raise ( RuntimeError \"Wrong type\")\n",
    "        )\n"
   ]
  }
 ],
 "metadata": {
  "kernelspec": {
   "display_name": "OCaml default",
   "language": "OCaml",
   "name": "ocaml-jupyter"
  },
  "language_info": {
   "codemirror_mode": "text/x-ocaml",
   "file_extension": ".ml",
   "mimetype": "text/x-ocaml",
   "name": "OCaml",
   "nbconverter_exporter": null,
   "pygments_lexer": "OCaml",
   "version": "4.08.1"
  }
 },
 "nbformat": 4,
 "nbformat_minor": 5
}
