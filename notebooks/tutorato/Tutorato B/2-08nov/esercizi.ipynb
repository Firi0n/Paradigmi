{
 "cells": [
  {
   "cell_type": "markdown",
   "id": "21e65441",
   "metadata": {},
   "source": [
    "## Esercizio\n",
    "(esercizio 2.2 dell'esercitazione del 31 ottobre)\n",
    "\n",
    "Scrivere una funzione `flat : btree -> int list list` che restituisca una lista contenente le liste di valori presenti ad ogni livello di profondità dell’albero."
   ]
  },
  {
   "cell_type": "code",
   "execution_count": 1,
   "id": "4529e8c9",
   "metadata": {
    "scrolled": true
   },
   "outputs": [
    {
     "data": {
      "text/plain": [
       "type btree = Void | Node of int * btree * btree\n"
      ]
     },
     "execution_count": 1,
     "metadata": {},
     "output_type": "execute_result"
    },
    {
     "data": {
      "text/plain": [
       "val bt : btree =\n",
       "  Node (3, Node (5, Node (1, Void, Void), Void),\n",
       "   Node (-4, Node (6, Void, Void), Node (8, Void, Void)))\n"
      ]
     },
     "execution_count": 1,
     "metadata": {},
     "output_type": "execute_result"
    }
   ],
   "source": [
    "type btree =\n",
    "| Void\n",
    "| Node of int * btree * btree;;\n",
    "\n",
    "let bt = Node (3,\n",
    "  Node (5,\n",
    "    Node(1,Void,Void),\n",
    "    Void\n",
    "  ),\n",
    "  Node (-4,\n",
    "    Node(6,Void,Void),\n",
    "    Node(8,Void,Void)\n",
    "  )\n",
    ");;"
   ]
  },
  {
   "cell_type": "code",
   "execution_count": 2,
   "id": "ad65a3f3",
   "metadata": {},
   "outputs": [
    {
     "data": {
      "text/plain": [
       "val aux : 'a list list -> 'a list list -> 'a list list = <fun>\n"
      ]
     },
     "execution_count": 2,
     "metadata": {},
     "output_type": "execute_result"
    },
    {
     "data": {
      "text/plain": [
       "- : int list list = [[5; -4]; [1; 6; 8]]\n"
      ]
     },
     "execution_count": 2,
     "metadata": {},
     "output_type": "execute_result"
    },
    {
     "data": {
      "text/plain": [
       "val flat : btree -> int list list = <fun>\n"
      ]
     },
     "execution_count": 2,
     "metadata": {},
     "output_type": "execute_result"
    },
    {
     "data": {
      "text/plain": [
       "- : int list list = [[3]; [5; -4]; [1; 6; 8]]\n"
      ]
     },
     "execution_count": 2,
     "metadata": {},
     "output_type": "execute_result"
    }
   ],
   "source": [
    "(*     l1 = [ [5]    ; [1]     ]\n",
    "       l2 = [ [-4]   ; [6;8]   ]\n",
    "aux l1 l2 = [ [5;-4] ; [1;6;8] ]\n",
    "*)\n",
    "\n",
    "let rec aux l1 l2 =\n",
    "  match l1, l2 with\n",
    "    | [], _ -> l2\n",
    "    | _, [] -> l1\n",
    "    | (x::xs), (y::ys) -> (x@y)::(aux xs ys);;\n",
    "\n",
    "aux [[5]; [1]] [[-4]; [6;8]];;\n",
    "\n",
    "let rec flat bt =\n",
    "  match bt with\n",
    "    | Void -> []\n",
    "    (* | Node (v, Void, Void) -> [v] *)\n",
    "    | Node (v, lt, rt) -> let ll = flat lt in let rl = flat rt in\n",
    "        [v]::(aux ll rl);;\n",
    "\n",
    "flat bt;;"
   ]
  },
  {
   "cell_type": "markdown",
   "id": "f223b994",
   "metadata": {},
   "source": [
    "## Esercizio\n",
    "(esercizio 3 esame dicembre 2021)"
   ]
  },
  {
   "cell_type": "code",
   "execution_count": 3,
   "id": "682d682a",
   "metadata": {},
   "outputs": [
    {
     "data": {
      "text/plain": [
       "type 'a mset_lst = 'a list\n"
      ]
     },
     "execution_count": 3,
     "metadata": {},
     "output_type": "execute_result"
    },
    {
     "data": {
      "text/plain": [
       "type 'a mset_map = ('a * int) list\n"
      ]
     },
     "execution_count": 3,
     "metadata": {},
     "output_type": "execute_result"
    }
   ],
   "source": [
    "type 'a mset_lst = 'a list;;\n",
    "type 'a mset_map = ('a * int) list;;"
   ]
  },
  {
   "cell_type": "code",
   "execution_count": 4,
   "id": "8f04896c",
   "metadata": {},
   "outputs": [
    {
     "data": {
      "text/plain": [
       "val mult_lst : 'a mset_lst -> 'a -> int = <fun>\n"
      ]
     },
     "execution_count": 4,
     "metadata": {},
     "output_type": "execute_result"
    },
    {
     "data": {
      "text/plain": [
       "- : int = 3\n"
      ]
     },
     "execution_count": 4,
     "metadata": {},
     "output_type": "execute_result"
    },
    {
     "data": {
      "text/plain": [
       "val mult_map : 'a mset_map -> 'a -> int = <fun>\n"
      ]
     },
     "execution_count": 4,
     "metadata": {},
     "output_type": "execute_result"
    },
    {
     "data": {
      "text/plain": [
       "- : int = 3\n"
      ]
     },
     "execution_count": 4,
     "metadata": {},
     "output_type": "execute_result"
    },
    {
     "data": {
      "text/plain": [
       "val contained : 'a -> ('a * 'b) list -> bool = <fun>\n"
      ]
     },
     "execution_count": 4,
     "metadata": {},
     "output_type": "execute_result"
    },
    {
     "data": {
      "text/plain": [
       "val remove : 'a -> ('a * int) list -> int * ('a * int) list = <fun>\n"
      ]
     },
     "execution_count": 4,
     "metadata": {},
     "output_type": "execute_result"
    },
    {
     "data": {
      "text/plain": [
       "- : int * (char * int) list = (2, [('a', 3); ('c', 1)])\n"
      ]
     },
     "execution_count": 4,
     "metadata": {},
     "output_type": "execute_result"
    },
    {
     "data": {
      "text/plain": [
       "val sum : ('a * int) list -> ('a * int) list -> ('a * int) list = <fun>\n"
      ]
     },
     "execution_count": 4,
     "metadata": {},
     "output_type": "execute_result"
    },
    {
     "data": {
      "text/plain": [
       "val fst : 'a * 'b -> 'a = <fun>\n"
      ]
     },
     "execution_count": 4,
     "metadata": {},
     "output_type": "execute_result"
    },
    {
     "data": {
      "text/plain": [
       "val sum : 'a mset_map -> 'a mset_map -> ('a * int) list = <fun>\n"
      ]
     },
     "execution_count": 4,
     "metadata": {},
     "output_type": "execute_result"
    },
    {
     "data": {
      "text/plain": [
       "- : (char * int) list = [('a', 2); ('b', 7); ('c', 1)]\n"
      ]
     },
     "execution_count": 4,
     "metadata": {},
     "output_type": "execute_result"
    }
   ],
   "source": [
    "(* Calcola la molteplicità di e nel multiset m, rappresentato come mset_lst *)\n",
    "let rec mult_lst (m : 'a mset_lst) (e: 'a) =\n",
    "  match m with\n",
    "    | [] -> 0\n",
    "    | x::xs -> if x = e then 1 + mult_lst xs e else mult_lst xs e;;\n",
    "\n",
    "(*\n",
    "Con funzioni higher-order\n",
    "\n",
    "let mult_lst (m : 'a mset_lst) (e: 'a) =\n",
    "  List.len (List.filter (fun x -> x = e) m)\n",
    "  \n",
    "  List.foldl (fun acc x -> if x = e then 1 + acc else acc) 0 m\n",
    "*)\n",
    "\n",
    "mult_lst [2;4;3;2;2;3] 2;;\n",
    "\n",
    "(* Calcola la molteplicità di e nel multiset m, rappresentato come mset_map *)\n",
    "let rec mult_map (m: 'a mset_map) e = \n",
    "  match m with\n",
    "    | [] -> 0\n",
    "    | (x, n)::rest -> if x = e then n else mult_map rest e;;\n",
    "\n",
    "(*\n",
    "Con funzioni higher-order\n",
    "let mult_map m e =\n",
    "  match List.find (fun (x, n) -> x = e) m with\n",
    "    | (_, n) -> n\n",
    "\n",
    "*)\n",
    "\n",
    "mult_map [('a',3);('c',1);('b',2)] 'a'\n",
    "\n",
    "let rec contained e l =\n",
    "  match l with\n",
    "    | [] -> false\n",
    "    | (x, _)::rest -> if x = e then true else contained e rest;;\n",
    "\n",
    "let rec remove (e : 'a) (l : ('a * int) list) =\n",
    "  match l with\n",
    "    | [] -> (0, [])\n",
    "    | (x, n)::rest -> if x = e then (n, rest) else\n",
    "        let (m, rest') = remove e rest in (m, ((x, n)::rest'));;\n",
    "\n",
    "remove 'b' [('a',3);('c',1);('b',2)];;\n",
    "\n",
    "(* Unione di multiset *)\n",
    "let sum m1 m2 =\n",
    "  let rec aux partial_result m =\n",
    "    match m with\n",
    "      | [] -> partial_result\n",
    "      | (x, n)::rest -> if contained x partial_result\n",
    "        then\n",
    "          let (m, partial_res') = remove x partial_result in\n",
    "          aux ((x, n + m)::partial_res') rest\n",
    "        else\n",
    "          aux ((x, n)::partial_result) rest\n",
    "  in\n",
    "    aux (aux [] m1) m2;;\n",
    "\n",
    "let fst (x, _) = x\n",
    "\n",
    "let sum m1 m2 =\n",
    "  (* prende ['a'; 'b'] dalla prima lista e poi ci concatena la seconda lista a cui toglie i duplicati\n",
    "     applica una List.map (fun x -> (x, mult_map m1 x + mult_map m2 x))\n",
    "  *)\n",
    "  let tmp1 = List.map fst m1 in\n",
    "  let tmp = tmp1@(List.filter (fun x -> not (List.mem x tmp1)) (List.map fst m2)) in\n",
    "  List.map (fun x -> (x, mult_map m1 x + mult_map m2 x)) tmp;;\n",
    "\n",
    "sum [('a',2);('b',3)] [('b',4);('c',1)];;"
   ]
  },
  {
   "cell_type": "markdown",
   "id": "2dc57225",
   "metadata": {},
   "source": [
    "## Esercizio\n",
    "(esercizio 4 dell'esame di giugno 2022)\n",
    "\n",
    "Estendere MiniCaml con un costrutto cfun.\n",
    "\n",
    "Come tutti gli esercizi dell'interprete, procediamo in 4 passaggi."
   ]
  },
  {
   "cell_type": "markdown",
   "id": "1edf49ed",
   "metadata": {},
   "source": [
    "### Espressioni"
   ]
  },
  {
   "cell_type": "code",
   "execution_count": 5,
   "id": "1a34c893",
   "metadata": {},
   "outputs": [
    {
     "data": {
      "text/plain": [
       "type ide = string\n"
      ]
     },
     "execution_count": 5,
     "metadata": {},
     "output_type": "execute_result"
    },
    {
     "data": {
      "text/plain": [
       "type tname =\n",
       "    TInt\n",
       "  | TBool\n",
       "  | TString\n",
       "  | TClosure\n",
       "  | TRecClosure\n",
       "  | TCfun\n",
       "  | TUnBound\n"
      ]
     },
     "execution_count": 5,
     "metadata": {},
     "output_type": "execute_result"
    },
    {
     "data": {
      "text/plain": [
       "type exp =\n",
       "    EInt of int\n",
       "  | CstTrue\n",
       "  | CstFalse\n",
       "  | EString of string\n",
       "  | Den of ide\n",
       "  | Sum of exp * exp\n",
       "  | Diff of exp * exp\n",
       "  | Prod of exp * exp\n",
       "  | Div of exp * exp\n",
       "  | IsZero of exp\n",
       "  | Eq of exp * exp\n",
       "  | LessThan of exp * exp\n",
       "  | GreaterThan of exp * exp\n",
       "  | And of exp * exp\n",
       "  | Or of exp * exp\n",
       "  | Not of exp\n",
       "  | IfThenElse of exp * exp * exp\n",
       "  | Let of ide * exp * exp\n",
       "  | Letrec of ide * ide * exp * exp\n",
       "  | Fun of ide * exp\n",
       "  | Apply of exp * exp\n",
       "  | ECfun of ide * exp * ide * exp * ide * exp\n"
      ]
     },
     "execution_count": 5,
     "metadata": {},
     "output_type": "execute_result"
    }
   ],
   "source": [
    "(* Identificatori *)\n",
    "type ide = string;;\n",
    "\n",
    "(* I tipi *)\n",
    "type tname =  TInt | TBool | TString | TClosure | TRecClosure | TCfun | TUnBound\n",
    "\n",
    "(* Abstract Expressions = espressioni nella sintassi astratta, \n",
    "   compongono l'Albero di Sintassi Astratta *)\n",
    "type exp = \n",
    "    | EInt of int\n",
    "    | CstTrue \n",
    "    | CstFalse\n",
    "    | EString of string\n",
    "    | Den of ide\n",
    "    (* Operatori binari da interi a interi*)\n",
    "    | Sum of exp * exp\n",
    "    | Diff of exp * exp\n",
    "    | Prod of exp * exp\n",
    "    | Div of exp * exp\n",
    "    (* Operatori da interi a booleani *)\n",
    "    | IsZero of exp\n",
    "    | Eq of exp * exp\n",
    "    | LessThan of exp*exp\n",
    "    | GreaterThan of exp*exp\n",
    "    (* Operatori su booleani *)\n",
    "    | And of exp*exp\n",
    "    | Or of exp*exp\n",
    "    | Not of exp\n",
    "    (* Controllo del flusso, funzioni *)\n",
    "    | IfThenElse of exp * exp * exp\n",
    "    | Let of ide * exp * exp\n",
    "    | Letrec of ide * ide  * exp * exp\n",
    "    | Fun of ide * exp\n",
    "    | Apply of exp * exp\n",
    "    (* Costrutto cfun *)\n",
    "    | ECfun of ide * exp * ide * exp * ide * exp\n"
   ]
  },
  {
   "cell_type": "markdown",
   "id": "c2220a19",
   "metadata": {},
   "source": [
    "### Valori esprimibili"
   ]
  },
  {
   "cell_type": "code",
   "execution_count": 6,
   "id": "1045a556",
   "metadata": {
    "scrolled": true
   },
   "outputs": [
    {
     "data": {
      "text/plain": [
       "type 't env = ide -> 't\n"
      ]
     },
     "execution_count": 6,
     "metadata": {},
     "output_type": "execute_result"
    },
    {
     "data": {
      "text/plain": [
       "type evT =\n",
       "    Int of int\n",
       "  | Bool of bool\n",
       "  | String of string\n",
       "  | Closure of ide * exp * evT env\n",
       "  | RecClosure of ide * ide * exp * evT env\n",
       "  | CFun of ide * exp * ide * exp * ide * exp * evT env\n",
       "  | UnBound\n"
      ]
     },
     "execution_count": 6,
     "metadata": {},
     "output_type": "execute_result"
    },
    {
     "data": {
      "text/plain": [
       "val emptyenv : 'a -> evT = <fun>\n"
      ]
     },
     "execution_count": 6,
     "metadata": {},
     "output_type": "execute_result"
    },
    {
     "data": {
      "text/plain": [
       "val bind : evT env -> ide -> evT -> ide -> evT = <fun>\n"
      ]
     },
     "execution_count": 6,
     "metadata": {},
     "output_type": "execute_result"
    }
   ],
   "source": [
    "(* Ambiente polimorfo *)\n",
    "type 't env = ide -> 't\n",
    "\n",
    "(* Evaluation types = tipi  esprimibili *)\n",
    "type evT = \n",
    "    | Int of int \n",
    "    | Bool of bool \n",
    "    | String of string \n",
    "    | Closure of ide * exp * evT env \n",
    "    | RecClosure of ide * ide * exp * evT env\n",
    "    | CFun of ide * exp * ide * exp * ide * exp * evT env\n",
    "    | UnBound\n",
    "\n",
    "(* Ambiente vuoto *)\n",
    "let emptyenv = function x -> UnBound\n",
    "\n",
    "(* Binding fra una stringa x e un valore primitivo evT *)\n",
    "let bind (s: evT env) (x: ide) (v: evT) = \n",
    "    function (i: ide) -> if (i = x) then v else (s i)"
   ]
  },
  {
   "cell_type": "markdown",
   "id": "3674a260",
   "metadata": {},
   "source": [
    "### Typechecking"
   ]
  },
  {
   "cell_type": "code",
   "execution_count": 7,
   "id": "d2cc4ad3",
   "metadata": {},
   "outputs": [
    {
     "data": {
      "text/plain": [
       "val getType : evT -> tname = <fun>\n"
      ]
     },
     "execution_count": 7,
     "metadata": {},
     "output_type": "execute_result"
    },
    {
     "data": {
      "text/plain": [
       "val typecheck : tname * evT -> bool = <fun>\n"
      ]
     },
     "execution_count": 7,
     "metadata": {},
     "output_type": "execute_result"
    }
   ],
   "source": [
    "(* Funzione da evT a tname che associa a ogni valore il suo descrittore di tipo  *)\n",
    "let getType (x: evT) : tname =\n",
    "    match x with\n",
    "    | Int(n) -> TInt\n",
    "    | Bool(b) -> TBool\n",
    "    | String(s) -> TString\n",
    "    | Closure(i,e,en) -> TClosure\n",
    "    | RecClosure(i,j,e,en) -> TRecClosure\n",
    "    | CFun(_,_,_,_,_,_,_) -> TCfun\n",
    "    | UnBound -> TUnBound\n",
    "\n",
    "(* Type-checking *)\n",
    "let typecheck ((x, y) : (tname*evT)) = \n",
    "    match x with\n",
    "    | TInt -> (match y with \n",
    "               | Int(u) -> true\n",
    "               | _ -> false\n",
    "               )\n",
    "    | TBool -> (match y with \n",
    "                | Bool(u) -> true\n",
    "                | _ -> false\n",
    "                )\n",
    "    | TString -> (match y with\n",
    "                 | String(u) -> true\n",
    "                 | _ -> false\n",
    "                 )\n",
    "    | TClosure -> (match y with\n",
    "                   | Closure(i,e,n) -> true\n",
    "                   | _ -> false\n",
    "                   )\n",
    "    | TRecClosure -> (match y with\n",
    "                     | RecClosure(i,j,e,n) -> true\n",
    "                     | _ -> false\n",
    "                     )\n",
    "    | TCfun -> (match y with\n",
    "                | CFun(_,_,_,_,_,_,_) -> true\n",
    "                | _ -> false\n",
    "                )\n",
    "    |TUnBound -> (match y with\n",
    "                 | UnBound -> true\n",
    "                 | _ -> false\n",
    "                 )"
   ]
  },
  {
   "cell_type": "markdown",
   "id": "36becc1d",
   "metadata": {},
   "source": [
    "### Interprete"
   ]
  },
  {
   "cell_type": "code",
   "execution_count": 8,
   "id": "e32e1efb",
   "metadata": {},
   "outputs": [
    {
     "data": {
      "text/plain": [
       "exception RuntimeError of string\n"
      ]
     },
     "execution_count": 8,
     "metadata": {},
     "output_type": "execute_result"
    },
    {
     "data": {
      "text/plain": [
       "val is_zero : evT -> evT = <fun>\n"
      ]
     },
     "execution_count": 8,
     "metadata": {},
     "output_type": "execute_result"
    },
    {
     "data": {
      "text/plain": [
       "val int_eq : evT * evT -> evT = <fun>\n"
      ]
     },
     "execution_count": 8,
     "metadata": {},
     "output_type": "execute_result"
    },
    {
     "data": {
      "text/plain": [
       "val int_plus : evT * evT -> evT = <fun>\n"
      ]
     },
     "execution_count": 8,
     "metadata": {},
     "output_type": "execute_result"
    },
    {
     "data": {
      "text/plain": [
       "val int_sub : evT * evT -> evT = <fun>\n"
      ]
     },
     "execution_count": 8,
     "metadata": {},
     "output_type": "execute_result"
    },
    {
     "data": {
      "text/plain": [
       "val int_times : evT * evT -> evT = <fun>\n"
      ]
     },
     "execution_count": 8,
     "metadata": {},
     "output_type": "execute_result"
    },
    {
     "data": {
      "text/plain": [
       "val int_div : evT * evT -> evT = <fun>\n"
      ]
     },
     "execution_count": 8,
     "metadata": {},
     "output_type": "execute_result"
    },
    {
     "data": {
      "text/plain": [
       "val less_than : evT * evT -> evT = <fun>\n"
      ]
     },
     "execution_count": 8,
     "metadata": {},
     "output_type": "execute_result"
    },
    {
     "data": {
      "text/plain": [
       "val greater_than : evT * evT -> evT = <fun>\n"
      ]
     },
     "execution_count": 8,
     "metadata": {},
     "output_type": "execute_result"
    },
    {
     "data": {
      "text/plain": [
       "val bool_and : evT * evT -> evT = <fun>\n"
      ]
     },
     "execution_count": 8,
     "metadata": {},
     "output_type": "execute_result"
    },
    {
     "data": {
      "text/plain": [
       "val bool_or : evT * evT -> evT = <fun>\n"
      ]
     },
     "execution_count": 8,
     "metadata": {},
     "output_type": "execute_result"
    },
    {
     "data": {
      "text/plain": [
       "val bool_not : evT -> evT = <fun>\n"
      ]
     },
     "execution_count": 8,
     "metadata": {},
     "output_type": "execute_result"
    }
   ],
   "source": [
    "(* Errori a runtime *)\n",
    "exception RuntimeError of string\n",
    "\n",
    "(* PRIMITIVE del linguaggio *)\n",
    "\n",
    "(* Controlla se un numero è zero *)\n",
    "let is_zero(x) = match (typecheck(TInt,x),x) with\n",
    "    | (true, Int(v)) -> Bool(v = 0)\n",
    "    | (_, _) -> raise ( RuntimeError \"Wrong type\")\n",
    "\n",
    "(* Uguaglianza fra interi *)\n",
    "let int_eq(x,y) =   \n",
    "    match (typecheck(TInt,x), typecheck(TInt,y), x, y) with\n",
    "    | (true, true, Int(v), Int(w)) -> Bool(v = w)\n",
    "    | (_,_,_,_) -> raise ( RuntimeError \"Wrong type\")\n",
    "\n",
    "(* Somma fra interi *)\t   \n",
    "let int_plus(x, y) = \n",
    "    match(typecheck(TInt,x), typecheck(TInt,y), x, y) with\n",
    "    | (true, true, Int(v), Int(w)) -> Int(v + w)\n",
    "    | (_,_,_,_) -> raise ( RuntimeError \"Wrong type\")\n",
    "\n",
    "(* Differenza fra interi *)\n",
    "let int_sub(x, y) = \n",
    "    match(typecheck(TInt,x), typecheck(TInt,y), x, y) with\n",
    "    | (true, true, Int(v), Int(w)) -> Int(v - w)\n",
    "    | (_,_,_,_) -> raise ( RuntimeError \"Wrong type\")\n",
    "\n",
    "(* Prodotto fra interi *)\n",
    "let int_times(x, y) =\n",
    "    match(typecheck(TInt,x), typecheck(TInt,y), x, y) with\n",
    "    | (true, true, Int(v), Int(w)) -> Int(v * w)\n",
    "    | (_,_,_,_) -> raise ( RuntimeError \"Wrong type\")\n",
    "    \n",
    "(* Divisione fra interi *)\n",
    "let int_div(x, y) =\n",
    "    match(typecheck(TInt,x), typecheck(TInt,y), x, y) with\n",
    "    | (true, true, Int(v), Int(w)) -> \n",
    "                    if w<>0 then Int(v / w)\n",
    "                            else raise (RuntimeError \"Division by zero\")\n",
    "    | (_,_,_,_) -> raise ( RuntimeError \"Wrong type\")\n",
    "\n",
    "(* Operazioni di confronto *)\n",
    "let less_than(x, y) = \n",
    "    match (typecheck(TInt,x), typecheck(TInt,y), x, y) with\n",
    "    | (true, true, Int(v), Int(w)) -> Bool(v < w)\n",
    "    | (_,_,_,_) -> raise ( RuntimeError \"Wrong type\")\n",
    "\n",
    "let greater_than(x, y) = \n",
    "    match (typecheck(TInt,x), typecheck(TInt,y), x, y) with\n",
    "    | (true, true, Int(v), Int(w)) -> Bool(v > w)\n",
    "    | (_,_,_,_) -> raise ( RuntimeError \"Wrong type\")\n",
    "\n",
    "(* Operazioni logiche *)\n",
    "let bool_and(x,y) = \n",
    "    match (typecheck(TBool,x), typecheck(TBool,y), x, y) with\n",
    "    | (true, true, Bool(v), Bool(w)) -> Bool(v && w)\n",
    "    | (_,_,_,_) -> raise ( RuntimeError \"Wrong type\")\n",
    "\n",
    "let bool_or(x,y) = \n",
    "    match (typecheck(TBool,x), typecheck(TBool,y), x, y) with\n",
    "    | (true, true, Bool(v), Bool(w)) -> Bool(v || w)\n",
    "    | (_,_,_,_) -> raise ( RuntimeError \"Wrong type\")\n",
    "\n",
    "let bool_not(x) = \n",
    "    match (typecheck(TBool,x), x) with\n",
    "    | (true, Bool(v)) -> Bool(not(v))\n",
    "    | (_,_) -> raise ( RuntimeError \"Wrong type\")"
   ]
  },
  {
   "cell_type": "code",
   "execution_count": 9,
   "id": "1928ecb1",
   "metadata": {},
   "outputs": [
    {
     "data": {
      "text/plain": [
       "val eval : exp -> evT env -> evT = <fun>\n"
      ]
     },
     "execution_count": 9,
     "metadata": {},
     "output_type": "execute_result"
    }
   ],
   "source": [
    "(* Interprete *)\n",
    "let rec eval (e:exp) (s:evT env) : evT = \n",
    "    match e with\n",
    "    | EInt(n) -> Int(n)\n",
    "    | CstTrue -> Bool(true)\n",
    "    | CstFalse -> Bool(false)\n",
    "    | EString(s) -> String(s)\n",
    "    | Den(i) -> (s i)\n",
    "\n",
    "    | Prod(e1,e2) -> int_times((eval e1 s), (eval e2 s))\n",
    "    | Sum(e1, e2) -> int_plus((eval e1 s), (eval e2 s))\n",
    "    | Diff(e1, e2) -> int_sub((eval e1 s), (eval e2 s))\n",
    "    | Div(e1, e2) -> int_div((eval e1 s), (eval e2 s))\n",
    "\n",
    "    | IsZero(e1) -> is_zero (eval e1 s)\n",
    "    | Eq(e1, e2) -> int_eq((eval e1 s), (eval e2 s))\n",
    "    | LessThan(e1, e2) -> less_than((eval e1 s),(eval e2 s))\n",
    "    | GreaterThan(e1, e2) -> greater_than((eval e1 s),(eval e2 s))\n",
    "\n",
    "    | And(e1, e2) -> bool_and((eval e1 s),(eval e2 s))\n",
    "    | Or(e1, e2) -> bool_or((eval e1 s),(eval e2 s))\n",
    "    | Not(e1) -> bool_not(eval e1 s)\n",
    "\n",
    "    | IfThenElse(e1,e2,e3) -> \n",
    "        let g = eval e1 s in \n",
    "            (match (typecheck(TBool,g),g) with\n",
    "            |(true, Bool(true)) -> eval e2 s\n",
    "            |(true, Bool(false)) -> eval e3 s\n",
    "            |(_,_) -> raise ( RuntimeError \"Wrong type\")\n",
    "            )\n",
    "    | Let(i, e, ebody) -> eval ebody (bind s i (eval e s))\n",
    "    | Fun(arg, ebody) -> Closure(arg,ebody,s)\n",
    "    | Letrec(f, arg, fBody, leBody) ->\n",
    "        let benv = bind (s) (f) (RecClosure(f, arg, fBody,s)) in\n",
    "            eval leBody benv\n",
    "    | Apply(eF, eArg) ->\n",
    "        let fclosure = eval eF s in \n",
    "            (match fclosure with \n",
    "            | Closure(arg, fbody, fDecEnv) -> \n",
    "                let aVal = eval eArg s in \n",
    "                let aenv = bind fDecEnv arg aVal in \n",
    "                eval fbody aenv \n",
    "            | RecClosure(f, arg, fbody, fDecEnv) -> \n",
    "                let aVal = eval eArg s in\n",
    "                let rEnv = bind fDecEnv f fclosure in\n",
    "                let aenv = bind rEnv arg aVal in \n",
    "                eval fbody aenv\n",
    "            (* Nuovo caso Apply(CFun, exp) *)\n",
    "            | CFun(px, pBody, f1x, f1Body, f2x, f2Body, cclosure) ->\n",
    "                let argVal = eval eArg s in\n",
    "                let pEnv = bind cclosure px argVal in\n",
    "                let guard = eval pBody pEnv in\n",
    "                (match (typecheck(TBool,guard), guard) with\n",
    "                | (true, Bool(true)) ->\n",
    "                  let f1Env = bind cclosure f1x argVal in\n",
    "                    eval f1Body f1Env\n",
    "                | (true, Bool(false)) ->\n",
    "                  let f2Env = bind cclosure f2x argVal in\n",
    "                    eval f2Body f2Env\n",
    "                | (_, _) -> raise ( RuntimeError \"Wrong type\")\n",
    "                )\n",
    "            | _ -> raise ( RuntimeError \"Wrong type\")\n",
    "            )\n",
    "    (* Nuovo costrutto ECfun *)\n",
    "    | ECfun(px, pBody, f1x, f1Body, f2x, f2Body) ->\n",
    "        CFun(px, pBody, f1x, f1Body, f2x, f2Body, s)"
   ]
  },
  {
   "cell_type": "code",
   "execution_count": 10,
   "id": "ac35ef62",
   "metadata": {},
   "outputs": [
    {
     "data": {
      "text/plain": [
       "val exp1 : exp =\n",
       "  Apply\n",
       "   (ECfun (\"x\", GreaterThan (Den \"x\", EInt 0), \"y\", Sum (Den \"y\", EInt 1),\n",
       "     \"z\", Sum (Den \"z\", EInt 10)),\n",
       "   EInt (-20))\n"
      ]
     },
     "execution_count": 10,
     "metadata": {},
     "output_type": "execute_result"
    },
    {
     "data": {
      "text/plain": [
       "- : evT = Int (-10)\n"
      ]
     },
     "execution_count": 10,
     "metadata": {},
     "output_type": "execute_result"
    }
   ],
   "source": [
    "let exp1 = Apply(\n",
    "    ECfun (\n",
    "        \"x\", GreaterThan (Den \"x\", EInt 0),\n",
    "        \"y\", Sum (Den \"y\", EInt 1),\n",
    "        \"z\", Sum (Den \"z\", EInt 10)\n",
    "    ),\n",
    "    EInt (-20)\n",
    ");;\n",
    "\n",
    "eval exp1 emptyenv;;"
   ]
  }
 ],
 "metadata": {
  "kernelspec": {
   "display_name": "OCaml default",
   "language": "OCaml",
   "name": "ocaml-jupyter"
  },
  "language_info": {
   "codemirror_mode": "text/x-ocaml",
   "file_extension": ".ml",
   "mimetype": "text/x-ocaml",
   "name": "OCaml",
   "nbconverter_exporter": null,
   "pygments_lexer": "OCaml",
   "version": "4.08.1"
  }
 },
 "nbformat": 4,
 "nbformat_minor": 5
}
