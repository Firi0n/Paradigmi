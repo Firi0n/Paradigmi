{
 "cells": [
  {
   "cell_type": "markdown",
   "id": "ec3af858",
   "metadata": {},
   "source": [
    "Definiamo il tipo delle espressioni aritmetiche."
   ]
  },
  {
   "cell_type": "code",
   "execution_count": 1,
   "id": "97d345c2",
   "metadata": {},
   "outputs": [
    {
     "data": {
      "text/plain": [
       "type aexp =\n",
       "    Num of int\n",
       "  | Plus of aexp * aexp\n",
       "  | Neg of aexp\n",
       "  | Times of aexp * aexp\n",
       "  | Div of aexp * aexp\n"
      ]
     },
     "execution_count": 1,
     "metadata": {},
     "output_type": "execute_result"
    }
   ],
   "source": [
    "type aexp =\n",
    "  | Num of int            (* number literal *)\n",
    "  | Plus of aexp * aexp   (* sum *)\n",
    "  | Neg of aexp           (* unary negation *)\n",
    "  | Times of aexp * aexp  (* product *)\n",
    "  | Div of aexp * aexp    (* division *)\n",
    "  ;;"
   ]
  },
  {
   "cell_type": "markdown",
   "id": "9f875036",
   "metadata": {},
   "source": [
    "Vogliamo implementare un valutatore di espressioni aritmetiche con gestione \"safe\" degli errori. Definiamo il tipo di ritorno del valutatore come"
   ]
  },
  {
   "cell_type": "code",
   "execution_count": 2,
   "id": "578dca14",
   "metadata": {},
   "outputs": [
    {
     "data": {
      "text/plain": [
       "type result = Right of int | Error of string\n"
      ]
     },
     "execution_count": 2,
     "metadata": {},
     "output_type": "execute_result"
    }
   ],
   "source": [
    "type result =\n",
    "  | Right of int\n",
    "  | Error of string;;"
   ]
  },
  {
   "cell_type": "markdown",
   "id": "4269e5ec",
   "metadata": {},
   "source": [
    "Un valore di tipo `Right` rappresenta un'esecuzione corretta, mentre un `Error` indica che qualcosa è andato storto durante la valutazione.\n",
    "\n",
    "Scrivere la funzione `eval` con questo effetto. Per ora, l'unico errore possibile è una divisione per zero."
   ]
  },
  {
   "cell_type": "code",
   "execution_count": null,
   "id": "49d357cc",
   "metadata": {},
   "outputs": [],
   "source": []
  },
  {
   "cell_type": "markdown",
   "id": "0aa8fc81",
   "metadata": {},
   "source": [
    "Vogliamo estendere il comportamento in caso di errore in modo che riporti alcune informazioni aggiuntive. Definiamo un record per gli errori invece di una semplice stringa: vogliamo anche sapere l'espressione che ha causato l'errore, e il valore calcolato per i suoi parametri."
   ]
  },
  {
   "cell_type": "code",
   "execution_count": 3,
   "id": "af63deb7",
   "metadata": {},
   "outputs": [
    {
     "data": {
      "text/plain": [
       "type error = { msg : string; expr : aexp; args : int list; }\n"
      ]
     },
     "execution_count": 3,
     "metadata": {},
     "output_type": "execute_result"
    },
    {
     "data": {
      "text/plain": [
       "type result = Right of int | Error of error\n"
      ]
     },
     "execution_count": 3,
     "metadata": {},
     "output_type": "execute_result"
    }
   ],
   "source": [
    "type error = {\n",
    "    msg: string;   (* Il messaggio di errore *)\n",
    "    expr: aexp;    (* L'espressione che ha causato l'errore *)\n",
    "    args: int list;   (* Valori dei sottoalberi dell'espressione *)\n",
    "};;\n",
    "\n",
    "type result =\n",
    "  | Right of int\n",
    "  | Error of error;;"
   ]
  },
  {
   "cell_type": "markdown",
   "id": "9088982d",
   "metadata": {},
   "source": [
    "Per esempio, se l'espressione di errore è\n",
    "```ocaml\n",
    "Div ((Neg (Num 3)), (Times (Num 10, Num 0)))\n",
    "```\n",
    "il corrispondente record di errore dev'essere\n",
    "```ocaml\n",
    "{ msg = \"Division by zero\"; expr = Div ((Neg (Num 3)), (Times (Num 10, Num 0))); args = [3; 0] }\n",
    "```\n",
    "dato che gli \"argomenti\" della divisione sono `3` e `0`."
   ]
  },
  {
   "cell_type": "markdown",
   "id": "f855e6b6",
   "metadata": {},
   "source": [
    "Aggiornare la funzione `eval` per calcolare l'errore strutturato"
   ]
  },
  {
   "cell_type": "code",
   "execution_count": null,
   "id": "e7aa2c67",
   "metadata": {},
   "outputs": [],
   "source": []
  },
  {
   "cell_type": "markdown",
   "id": "d4c734b0",
   "metadata": {},
   "source": [
    "Definiamo ora una funzione `print_error` per stampare l'errore: deve produrre una stringa che contenga il messaggio di errore, il tipo di operazione che ha causato l'errore (indicato nel nodo root di `expr`) e i suoi parametri. Per esempio, per l'errore di prima si deve stampare\n",
    "\"Division by zero: applying Div to 3 and 0\""
   ]
  },
  {
   "cell_type": "code",
   "execution_count": null,
   "id": "ebb66d99",
   "metadata": {},
   "outputs": [],
   "source": []
  },
  {
   "cell_type": "markdown",
   "id": "e75409ba",
   "metadata": {},
   "source": [
    "Aggiungere alla funzione `eval` un minimo e massimo valore per gli interi (costanti fissate). Se in qualunque momento la valutazione di espressione produce un valore fuori dai due estremi, bisogna invece ritornare un appropriato errore."
   ]
  },
  {
   "cell_type": "code",
   "execution_count": 4,
   "id": "05b6a6ac",
   "metadata": {},
   "outputs": [
    {
     "data": {
      "text/plain": [
       "val maxint : int = 100\n"
      ]
     },
     "execution_count": 4,
     "metadata": {},
     "output_type": "execute_result"
    },
    {
     "data": {
      "text/plain": [
       "val minint : int = -100\n"
      ]
     },
     "execution_count": 4,
     "metadata": {},
     "output_type": "execute_result"
    }
   ],
   "source": [
    "let maxint = 100;;\n",
    "let minint = -100;;"
   ]
  }
 ],
 "metadata": {
  "kernelspec": {
   "display_name": "OCaml default",
   "language": "OCaml",
   "name": "ocaml-jupyter"
  },
  "language_info": {
   "codemirror_mode": "text/x-ocaml",
   "file_extension": ".ml",
   "mimetype": "text/x-ocaml",
   "name": "OCaml",
   "nbconverter_exporter": null,
   "pygments_lexer": "OCaml",
   "version": "4.08.1"
  }
 },
 "nbformat": 4,
 "nbformat_minor": 5
}
