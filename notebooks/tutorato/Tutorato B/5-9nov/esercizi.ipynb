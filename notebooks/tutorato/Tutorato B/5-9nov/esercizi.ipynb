{
 "cells": [
  {
   "cell_type": "markdown",
   "id": "ec3af858",
   "metadata": {},
   "source": [
    "Definiamo il tipo delle espressioni aritmetiche."
   ]
  },
  {
   "cell_type": "code",
   "execution_count": 1,
   "id": "97d345c2",
   "metadata": {},
   "outputs": [
    {
     "data": {
      "text/plain": [
       "type aexp =\n",
       "    Num of int\n",
       "  | Plus of aexp * aexp\n",
       "  | Neg of aexp\n",
       "  | Times of aexp * aexp\n",
       "  | Div of aexp * aexp\n"
      ]
     },
     "execution_count": 1,
     "metadata": {},
     "output_type": "execute_result"
    }
   ],
   "source": [
    "type aexp =\n",
    "  | Num of int            (* number literal *)\n",
    "  | Plus of aexp * aexp   (* sum *)\n",
    "  | Neg of aexp           (* unary negation *)\n",
    "  | Times of aexp * aexp  (* product *)\n",
    "  | Div of aexp * aexp    (* division *)\n",
    "  ;;"
   ]
  },
  {
   "cell_type": "markdown",
   "id": "9f875036",
   "metadata": {},
   "source": [
    "Vogliamo implementare un valutatore di espressioni aritmetiche con gestione \"safe\" degli errori. Definiamo il tipo di ritorno del valutatore come"
   ]
  },
  {
   "cell_type": "code",
   "execution_count": 2,
   "id": "578dca14",
   "metadata": {},
   "outputs": [
    {
     "data": {
      "text/plain": [
       "type result = Right of int | Error of string\n"
      ]
     },
     "execution_count": 2,
     "metadata": {},
     "output_type": "execute_result"
    }
   ],
   "source": [
    "type result =\n",
    "  | Right of int\n",
    "  | Error of string;;"
   ]
  },
  {
   "cell_type": "markdown",
   "id": "4269e5ec",
   "metadata": {},
   "source": [
    "Un valore di tipo `Right` rappresenta un'esecuzione corretta, mentre un `Error` indica che qualcosa è andato storto durante la valutazione.\n",
    "\n",
    "Scrivere la funzione `eval` con questo effetto. Per ora, l'unico errore possibile è una divisione per zero."
   ]
  },
  {
   "cell_type": "code",
   "execution_count": 3,
   "id": "49d357cc",
   "metadata": {},
   "outputs": [
    {
     "data": {
      "text/plain": [
       "val controlla_errori : (int -> int -> int) -> result -> result -> result =\n",
       "  <fun>\n"
      ]
     },
     "execution_count": 3,
     "metadata": {},
     "output_type": "execute_result"
    },
    {
     "data": {
      "text/plain": [
       "val eval : aexp -> result = <fun>\n"
      ]
     },
     "execution_count": 3,
     "metadata": {},
     "output_type": "execute_result"
    }
   ],
   "source": [
    "let controlla_errori (f: int -> int -> int) (op1: result) (op2: result) : result =\n",
    "  match op1, op2 with\n",
    "    | Right n1, Right n2 -> Right (f n1 n2)\n",
    "    | Error s1, Right _ -> Error (\"nel primo addendo: \" ^ s1)\n",
    "    | Right _, Error s2 -> Error (\"nel secondo addendo: \" ^ s2)\n",
    "    | Error s1, Error s2 -> Error (\"tutto sbagliato: \" ^ s1 ^ \" \" ^ s2);;\n",
    "\n",
    "let rec eval (e: aexp) : result =\n",
    "  match e with\n",
    "    | Num n -> Right n\n",
    "    | Plus (e1, e2) -> controlla_errori (+) (eval e1) (eval e2)\n",
    "    | Neg e1 -> (match eval e1 with\n",
    "      | Right n1 -> Right (-n1)\n",
    "      | Error s1 -> Error s1\n",
    "      )\n",
    "    | Times (e1, e2) -> controlla_errori (fun a b -> a * b) (eval e1) (eval e2)\n",
    "    | Div (e1, e2) -> (match eval e1, eval e2 with\n",
    "      | Right n1, Right 0 -> Error \"divisione per zero\"\n",
    "      | op1, op2 -> controlla_errori (/) op1 op2);;"
   ]
  },
  {
   "cell_type": "code",
   "execution_count": 4,
   "id": "1437c995",
   "metadata": {},
   "outputs": [
    {
     "data": {
      "text/plain": [
       "val test : aexp = Plus (Num 10, Div (Num 10, Num 0))\n"
      ]
     },
     "execution_count": 4,
     "metadata": {},
     "output_type": "execute_result"
    },
    {
     "data": {
      "text/plain": [
       "val test2 : aexp = Div (Plus (Num 10, Num 10), Num 0)\n"
      ]
     },
     "execution_count": 4,
     "metadata": {},
     "output_type": "execute_result"
    },
    {
     "data": {
      "text/plain": [
       "- : result = Error \"nel secondo addendo: divisione per zero\"\n"
      ]
     },
     "execution_count": 4,
     "metadata": {},
     "output_type": "execute_result"
    },
    {
     "data": {
      "text/plain": [
       "- : result = Error \"divisione per zero\"\n"
      ]
     },
     "execution_count": 4,
     "metadata": {},
     "output_type": "execute_result"
    }
   ],
   "source": [
    "let test = Plus (Num 10, Div (Num 10, Num 0));;  (* 10 + (10 / 0) *)\n",
    "let test2 = Div (Plus (Num 10, Num 10), Num 0);; (* (10 + 10) / 0 *)\n",
    "eval test;;\n",
    "eval test2;;"
   ]
  },
  {
   "cell_type": "markdown",
   "id": "0aa8fc81",
   "metadata": {},
   "source": [
    "Vogliamo estendere il comportamento in caso di errore in modo che riporti alcune informazioni aggiuntive. Definiamo un record per gli errori invece di una semplice stringa: vogliamo anche sapere l'espressione che ha causato l'errore, e il valore calcolato per i suoi parametri."
   ]
  },
  {
   "cell_type": "code",
   "execution_count": 5,
   "id": "af63deb7",
   "metadata": {},
   "outputs": [
    {
     "data": {
      "text/plain": [
       "type error = { msg : string; expr : aexp; args : int list; }\n"
      ]
     },
     "execution_count": 5,
     "metadata": {},
     "output_type": "execute_result"
    },
    {
     "data": {
      "text/plain": [
       "type result = Right of int | Error of error\n"
      ]
     },
     "execution_count": 5,
     "metadata": {},
     "output_type": "execute_result"
    }
   ],
   "source": [
    "type error = {\n",
    "    msg: string;      (* Il messaggio di errore *)\n",
    "    expr: aexp;       (* L'espressione che ha causato l'errore *)\n",
    "    args: int list;   (* Valori dei sottoalberi dell'espressione *)\n",
    "};;\n",
    "\n",
    "type result =\n",
    "  | Right of int\n",
    "  | Error of error;;  (* non è più string *)"
   ]
  },
  {
   "cell_type": "markdown",
   "id": "9088982d",
   "metadata": {},
   "source": [
    "Per esempio, se l'espressione di errore è\n",
    "```ocaml\n",
    "Div ((Neg (Num 3)), (Times (Num 10, Num 0)))\n",
    "(* (-3) / (10 * 0) *)\n",
    "```\n",
    "il corrispondente record di errore dev'essere\n",
    "```ocaml\n",
    "{ msg = \"Division by zero\"; expr = Div ((Neg (Num 3)), (Times (Num 10, Num 0))); args = [-3; 0] }\n",
    "```\n",
    "dato che gli \"argomenti\" della divisione sono `-3` e `0`."
   ]
  },
  {
   "cell_type": "markdown",
   "id": "f855e6b6",
   "metadata": {},
   "source": [
    "Aggiornare la funzione `eval` per calcolare l'errore strutturato"
   ]
  },
  {
   "cell_type": "code",
   "execution_count": 6,
   "id": "e7aa2c67",
   "metadata": {
    "scrolled": true
   },
   "outputs": [
    {
     "data": {
      "text/plain": [
       "val controlla_errori : (int -> int -> int) -> result -> result -> result =\n",
       "  <fun>\n"
      ]
     },
     "execution_count": 6,
     "metadata": {},
     "output_type": "execute_result"
    },
    {
     "data": {
      "text/plain": [
       "val eval : aexp -> result = <fun>\n"
      ]
     },
     "execution_count": 6,
     "metadata": {},
     "output_type": "execute_result"
    }
   ],
   "source": [
    "let controlla_errori (f: int -> int -> int) (op1: result) (op2: result) : result =\n",
    "  match op1, op2 with\n",
    "    | Right n1, Right n2 -> Right (f n1 n2)\n",
    "    | Error err1, _ -> Error err1\n",
    "    | Right _, Error err2 -> Error err2;;\n",
    "\n",
    "let rec eval (e: aexp) : result =\n",
    "  match e with\n",
    "    | Num n -> Right n\n",
    "    | Plus (e1, e2) -> controlla_errori (+) (eval e1) (eval e2)\n",
    "    | Neg e1 -> (match eval e1 with\n",
    "      | Right n1 -> Right (-n1)\n",
    "      | Error err1 -> Error err1\n",
    "      )\n",
    "    | Times (e1, e2) -> controlla_errori (fun a b -> a * b) (eval e1) (eval e2)\n",
    "    | Div (e1, e2) -> (match eval e1, eval e2 with\n",
    "      | Right n1, Right 0 -> Error {\n",
    "          msg=\"divisione per zero\";\n",
    "          expr=Div (e1, e2);\n",
    "          args=[n1; 0]\n",
    "        }\n",
    "      | op1, op2 -> controlla_errori (/) op1 op2);;"
   ]
  },
  {
   "cell_type": "code",
   "execution_count": 7,
   "id": "f7d301fb",
   "metadata": {},
   "outputs": [
    {
     "data": {
      "text/plain": [
       "val test : aexp = Div (Neg (Num 3), Times (Num 10, Num 0))\n"
      ]
     },
     "execution_count": 7,
     "metadata": {},
     "output_type": "execute_result"
    },
    {
     "data": {
      "text/plain": [
       "val test2 : aexp = Neg (Div (Neg (Num 3), Times (Num 10, Num 0)))\n"
      ]
     },
     "execution_count": 7,
     "metadata": {},
     "output_type": "execute_result"
    },
    {
     "data": {
      "text/plain": [
       "- : result =\n",
       "Error\n",
       " {msg = \"divisione per zero\";\n",
       "  expr = Div (Neg (Num 3), Times (Num 10, Num 0)); args = [-3; 0]}\n"
      ]
     },
     "execution_count": 7,
     "metadata": {},
     "output_type": "execute_result"
    },
    {
     "data": {
      "text/plain": [
       "- : result =\n",
       "Error\n",
       " {msg = \"divisione per zero\";\n",
       "  expr = Div (Neg (Num 3), Times (Num 10, Num 0)); args = [-3; 0]}\n"
      ]
     },
     "execution_count": 7,
     "metadata": {},
     "output_type": "execute_result"
    }
   ],
   "source": [
    "let test = Div ((Neg (Num 3)), (Times (Num 10, Num 0)));; (* (-3) / (10 * 0) *)\n",
    "let test2 = Neg (test);; (* -((-3) / (10 * 0)) *)\n",
    "\n",
    "eval test;;\n",
    "eval test2;;"
   ]
  },
  {
   "cell_type": "markdown",
   "id": "d4c734b0",
   "metadata": {},
   "source": [
    "Definiamo ora una funzione `print_error` per stampare l'errore: deve produrre una stringa che contenga il messaggio di errore, il tipo di operazione che ha causato l'errore (indicato nel nodo root di `expr`) e i suoi parametri. Per esempio, per l'errore di prima si deve stampare\n",
    "\"Division by zero: applying Div to 3 and 0\""
   ]
  },
  {
   "cell_type": "code",
   "execution_count": 8,
   "id": "ebb66d99",
   "metadata": {},
   "outputs": [
    {
     "data": {
      "text/plain": [
       "val print_aexp : aexp -> string = <fun>\n"
      ]
     },
     "execution_count": 8,
     "metadata": {},
     "output_type": "execute_result"
    },
    {
     "data": {
      "text/plain": [
       "val print_list : int list -> string = <fun>\n"
      ]
     },
     "execution_count": 8,
     "metadata": {},
     "output_type": "execute_result"
    },
    {
     "data": {
      "text/plain": [
       "val print_error : error -> string = <fun>\n"
      ]
     },
     "execution_count": 8,
     "metadata": {},
     "output_type": "execute_result"
    }
   ],
   "source": [
    "let rec print_aexp (e: aexp) : string =\n",
    "  match e with\n",
    "    | Num n -> string_of_int n\n",
    "    | Plus (e1, e2) -> \"(\" ^ print_aexp e1 ^ \" + \" ^ print_aexp e2 ^ \")\"\n",
    "    | Neg e1 -> \"-\" ^ print_aexp e1 ^ \"\"\n",
    "    | Times (e1, e2) -> \"(\" ^ print_aexp e1 ^ \" * \" ^ print_aexp e2 ^ \")\"\n",
    "    | Div (e1, e2) -> \"(\" ^ print_aexp e1 ^ \" / \" ^ print_aexp e2 ^ \")\";;\n",
    "\n",
    "let print_list (l: int list) : string =\n",
    "  List.fold_left (fun acc elem -> acc ^ elem ^ \", \") \"\" (List.map string_of_int l)\n",
    "\n",
    "let print_error (err: error) : string =\n",
    "  err.msg ^ \" nell'espressione \" ^ print_aexp err.expr ^ \". Le sottoespressioni valutano a \" ^ print_list err.args;;"
   ]
  },
  {
   "cell_type": "code",
   "execution_count": 9,
   "id": "70966bd0",
   "metadata": {},
   "outputs": [
    {
     "data": {
      "text/plain": [
       "val test3 : aexp = Plus (Num 4, Div (Neg (Num 3), Times (Num 10, Num 0)))\n"
      ]
     },
     "execution_count": 9,
     "metadata": {},
     "output_type": "execute_result"
    },
    {
     "data": {
      "text/plain": [
       "- : string = \"(4 + (-3 / (10 * 0)))\"\n"
      ]
     },
     "execution_count": 9,
     "metadata": {},
     "output_type": "execute_result"
    },
    {
     "data": {
      "text/plain": [
       "- : string =\n",
       "\"divisione per zero nell'espressione (-3 / (10 * 0)). Le sottoespressioni valutano a -3, 0, \"\n"
      ]
     },
     "execution_count": 9,
     "metadata": {},
     "output_type": "execute_result"
    }
   ],
   "source": [
    "let test3 = Plus (Num 4, test);;\n",
    "\n",
    "print_aexp test3;;\n",
    "\n",
    "(* Serve questo match perché (eval test3) è di tipo result, e l'interprete non sa\n",
    " * che in realtà è un Error err\n",
    " *)\n",
    "match eval test3 with\n",
    "  | Error err -> print_error err\n",
    "  | Right _ -> \"\";;"
   ]
  },
  {
   "cell_type": "markdown",
   "id": "e75409ba",
   "metadata": {},
   "source": [
    "Aggiungere alla funzione `eval` un minimo e massimo valore per gli interi (costanti fissate). Se in qualunque momento la valutazione di espressione produce un valore fuori dai due estremi, bisogna invece ritornare un appropriato errore."
   ]
  },
  {
   "cell_type": "code",
   "execution_count": 10,
   "id": "05b6a6ac",
   "metadata": {},
   "outputs": [
    {
     "data": {
      "text/plain": [
       "val maxint : int = 100\n"
      ]
     },
     "execution_count": 10,
     "metadata": {},
     "output_type": "execute_result"
    },
    {
     "data": {
      "text/plain": [
       "val minint : int = -100\n"
      ]
     },
     "execution_count": 10,
     "metadata": {},
     "output_type": "execute_result"
    }
   ],
   "source": [
    "let maxint = 100;;\n",
    "let minint = -100;;"
   ]
  }
 ],
 "metadata": {
  "kernelspec": {
   "display_name": "OCaml default",
   "language": "OCaml",
   "name": "ocaml-jupyter"
  },
  "language_info": {
   "codemirror_mode": "text/x-ocaml",
   "file_extension": ".ml",
   "mimetype": "text/x-ocaml",
   "name": "OCaml",
   "nbconverter_exporter": null,
   "pygments_lexer": "OCaml",
   "version": "4.08.1"
  }
 },
 "nbformat": 4,
 "nbformat_minor": 5
}
