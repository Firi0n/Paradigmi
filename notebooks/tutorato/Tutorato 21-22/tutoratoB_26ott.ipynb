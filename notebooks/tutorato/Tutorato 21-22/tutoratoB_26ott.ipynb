{
 "cells": [
  {
   "cell_type": "markdown",
   "id": "0b6c9f7c",
   "metadata": {},
   "source": [
    "Vediamo le soluzioni di alcuni esercizi richiesti dagli studenti."
   ]
  },
  {
   "cell_type": "markdown",
   "id": "d0f6569d",
   "metadata": {},
   "source": [
    "### **Esercizio 2.1.**\n",
    "Scrivere una funzione `genera_lista` che prende un intero positivo `n` e restituisce una lista contenente la lista `[1; 2; ... n]`. Nel caso in cui `n` sia minore o uguale di zero restituisce la lista vuota."
   ]
  },
  {
   "cell_type": "code",
   "execution_count": 2,
   "id": "94c03c05",
   "metadata": {},
   "outputs": [
    {
     "data": {
      "text/plain": [
       "val genera_lista : int -> int list = <fun>\n"
      ]
     },
     "execution_count": 2,
     "metadata": {},
     "output_type": "execute_result"
    },
    {
     "data": {
      "text/plain": [
       "val genera_lista2 : int -> int list = <fun>\n"
      ]
     },
     "execution_count": 2,
     "metadata": {},
     "output_type": "execute_result"
    },
    {
     "data": {
      "text/plain": [
       "val genera_lista3 : int -> int list = <fun>\n"
      ]
     },
     "execution_count": 2,
     "metadata": {},
     "output_type": "execute_result"
    },
    {
     "data": {
      "text/plain": [
       "- : int list = [1; 2; 3; 4; 5; 6; 7; 8; 9; 10]\n"
      ]
     },
     "execution_count": 2,
     "metadata": {},
     "output_type": "execute_result"
    },
    {
     "data": {
      "text/plain": [
       "- : int list = [10; 9; 8; 7; 6; 5; 4; 3; 2; 1]\n"
      ]
     },
     "execution_count": 2,
     "metadata": {},
     "output_type": "execute_result"
    },
    {
     "data": {
      "text/plain": [
       "- : int list = [1; 2; 3; 4; 5; 6; 7; 8; 9; 10]\n"
      ]
     },
     "execution_count": 2,
     "metadata": {},
     "output_type": "execute_result"
    }
   ],
   "source": [
    "(*Per generare una lista in maniera ricorsiva, bisogna individuare quale sia il sottoproblema su cui\n",
    "  chiamarsi ricorsivamente: in questo caso, per generare una lista [1; .. n] è necessario prima\n",
    "  generare una lista [1; .. n-1]*)\n",
    "let rec genera_lista n =\n",
    "    if n <= 0\n",
    "        then [] (*caso base*)\n",
    "    else\n",
    "        genera_lista(n-1)@[n] (*caso induttivo*)\n",
    "\n",
    "\n",
    "(*La funzione precedente fa uso dell'operatore @, che ha complessità lineare, \n",
    "  quindi la funzione così definita ha complessità quadratica. Usando l'operatore\n",
    "  ::, che ha complessità costante, si ottiene però una lista \"al rovescio\", dall'elemento\n",
    "  n fino all'elemento 1.*)\n",
    "let rec genera_lista2 n =\n",
    "    if n <= 0 then [] \n",
    "    else n::genera_lista2(n-1)\n",
    "  \n",
    "(*Per ottenere una lista orientata correttamente, ma mantenedo la complessità lineare di genera_lista2,\n",
    "  è necessario usare una funzione ausiliaria, il cui codice è esattamente quello di genera_lista2.\n",
    "  genera_lista3 non dovrà far altro che invertire il risultato della funzione aux.*)\n",
    "let genera_lista3 n = \n",
    "    let rec aux n = \n",
    "        if n <= 0 then []\n",
    "        else n::aux (n-1)\n",
    "    in\n",
    "    List.rev (aux n);;\n",
    "        \n",
    "genera_lista 10;;\n",
    "genera_lista2 10;;\n",
    "genera_lista3 10;;"
   ]
  },
  {
   "cell_type": "markdown",
   "id": "4a6bbe30",
   "metadata": {},
   "source": [
    "### **Esercizio 2.6.**\n",
    "Scrivere una funzione `ord` che prende una lista e verifica (restituendo `true` o `false`) se i suoi elementi sono ordinati in modo crescente."
   ]
  },
  {
   "cell_type": "code",
   "execution_count": 1,
   "id": "01dd488f",
   "metadata": {},
   "outputs": [
    {
     "data": {
      "text/plain": [
       "val ord : 'a list -> bool = <fun>\n"
      ]
     },
     "execution_count": 1,
     "metadata": {},
     "output_type": "execute_result"
    }
   ],
   "source": [
    "(*Per scrivere la funzione ord in maniera ricorsiva, bisogna effettuare pattern matching \n",
    "  sui primi **due** elementi della lista.*)\n",
    "let rec ord list = match list with\n",
    "    |[] -> true\n",
    "    |[x] -> true\n",
    "    |x::(y::tail as rest) -> (x <= y) && ord (rest);;"
   ]
  },
  {
   "cell_type": "markdown",
   "id": "c7b459e4",
   "metadata": {},
   "source": [
    "Per scrivere la funzione sfruttando le funzioni di ordine superiore, possiamo usare la `fold_left` con una apposita funzione `f`. Va ricordato che `f` prende in input due argomenti, l'accumulatore e l'attuale elemento della lista, e restituisce in output un nuovo accumulatore. Come spesso accade, l'accumulatore è il risultato parziale che stiamo calcolando: la funzione `f`, chiamata sull'elemento n-esimo, riceve il risultato calcolato sui primi n-1 elementi, esegue delle operazioni in base all'elemento n-esimo, e restituisce il risultato calcolato sui primi n elementi.\n",
    " \n",
    "In questo caso, il risultato parziale altro non è che un valore booleano che vale inizialmente `true`, e rimane `true` solo se l'elemento n-esimo è maggiore dell'elemento (n-1)-esimo, altrimenti diventa `false`, e rimarrà `false` per tutte le chiamate di f successive.\n",
    "\n",
    "Quando `f` deve calcolare il nuovo risultato sull'elemento n-esimo, però, necessita anche dell'informazione sull'esemento (n-1)-esimo, quello visitato precedentemente. L'unico modo per conservare questa informazione fra una chiamata e l'altra di `f`, è conservarlo all'interno dell'acccumulatore. L'accumulatore dovrà quindi contenere due informazioni, da aggiornare con ogni chiamata di `f`:\n",
    "- Il risultato parziale fin'ora calcolato\n",
    "- L'elemento visitato precedentemente, da confrontare con quello corrente\n",
    "\n",
    "Il valore iniziale dell'accumulatore deve essere anche esso una coppia di un booleano e un elemento della lista. Poichè la prima chiamata di `f` confronterà `curr` (il primo elemento)  con `prev` (il valore iniziale), come valore iniziale possiamo scegliere il primo elemento stesso, in maniera tale che `curr>=prev` restituisca sicuramente `true`.\n",
    "\n",
    "Vale la pena notare che le variabili che cambiano fra le diverse chiamate di `f`, cioè `curr`, `prev` e `result`, sono esattamente le variabili che cambierebbero scrivendo un ciclo for in un qualsiasi linguaggio imperativo: `f` è il corpo del for, che viene eseguito uguale a ogni iterazione, gli argomenti di `f` sono lo stato che muta fra una iterazione e l'altra, e `fold_left` corrisponde al costrutto for in se, che itera più volte lo stesso codice.\n",
    "\n",
    "Il risultato di questa operazione di fold_l sarà una coppia, (così come il valore iniziale dell'accumulatore e il  valore di ritorno di `f`). Dei due valori contenuti nel risultato della fold_r, solo il primo è utile, il secondo può essere scartato. "
   ]
  },
  {
   "cell_type": "code",
   "execution_count": null,
   "id": "823e0bef",
   "metadata": {},
   "outputs": [],
   "source": [
    "let ord2 list = \n",
    "    let f (result, prev) curr = \n",
    "        if (curr >= prev) && result\n",
    "            then (true, curr) \n",
    "            else (false, curr)\n",
    "    in\n",
    "    let res, _ = List.fold_left f (true, List.hd list) list in\n",
    "    res;;"
   ]
  },
  {
   "cell_type": "markdown",
   "id": "6b609cfb",
   "metadata": {},
   "source": [
    "Se volessimo scrivere la funzione `ord` utilizzando `fold_right` e non `fold_left`, l'algoritmo è molto simile, ma è necessario utilizzare l'ultimo elemento della lista (e non il primo) come accumulatore iniziale."
   ]
  },
  {
   "cell_type": "code",
   "execution_count": 2,
   "id": "82a2be23",
   "metadata": {},
   "outputs": [
    {
     "data": {
      "text/plain": [
       "val ord2 : 'a list -> bool = <fun>\n"
      ]
     },
     "execution_count": 2,
     "metadata": {},
     "output_type": "execute_result"
    },
    {
     "data": {
      "text/plain": [
       "val ord3 : 'a list -> bool = <fun>\n"
      ]
     },
     "execution_count": 2,
     "metadata": {},
     "output_type": "execute_result"
    },
    {
     "data": {
      "text/plain": [
       "val l : int list = [1; 3; 5; 2; 5]\n"
      ]
     },
     "execution_count": 2,
     "metadata": {},
     "output_type": "execute_result"
    },
    {
     "data": {
      "text/plain": [
       "- : bool = false\n"
      ]
     },
     "execution_count": 2,
     "metadata": {},
     "output_type": "execute_result"
    },
    {
     "data": {
      "text/plain": [
       "- : bool = false\n"
      ]
     },
     "execution_count": 2,
     "metadata": {},
     "output_type": "execute_result"
    },
    {
     "data": {
      "text/plain": [
       "- : bool = false\n"
      ]
     },
     "execution_count": 2,
     "metadata": {},
     "output_type": "execute_result"
    }
   ],
   "source": [
    "let ord3 list = \n",
    "    let last_element = List.hd (List.rev list) in\n",
    "     let res, _ = List.fold_right (\n",
    "        fun curr (output, prev) -> if (curr <= prev) && output\n",
    "                                        then (true, curr) \n",
    "                                        else (false, curr)\n",
    "    ) list (true, last_element) in\n",
    "    res;;\n",
    "\n",
    "\n",
    "let l = [1;3;5;2;5;];;\n",
    "ord l;;\n",
    "ord2 l;;\n",
    "ord3 l;;"
   ]
  }
 ],
 "metadata": {
  "kernelspec": {
   "display_name": "OCaml default",
   "language": "OCaml",
   "name": "ocaml-jupyter"
  },
  "language_info": {
   "codemirror_mode": "text/x-ocaml",
   "file_extension": ".ml",
   "mimetype": "text/x-ocaml",
   "name": "OCaml",
   "nbconverter_exporter": null,
   "pygments_lexer": "OCaml",
   "version": "4.08.1"
  }
 },
 "nbformat": 4,
 "nbformat_minor": 5
}
