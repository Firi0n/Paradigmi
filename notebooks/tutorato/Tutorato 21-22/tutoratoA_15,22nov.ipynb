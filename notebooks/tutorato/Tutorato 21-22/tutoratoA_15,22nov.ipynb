{
 "cells": [
  {
   "cell_type": "markdown",
   "id": "56a459da",
   "metadata": {},
   "source": [
    "## MiniCaml con Insiemi\n",
    "\n",
    "Vogliamo estendere l'interprete visto a lezione, implementando un costrutto che permetta di formare **insiemi di elementi dello stesso tipo**. Un insieme è una sequenza di elementi **senza duplicati**, e può contenere unicamente **interi, booleani e stringhe**. Esempi di espressioni in questo linguaggio esteso potrebbero essere:\n",
    "```\n",
    "{int: 1, 2, 3, 4};;\n",
    "\n",
    "{int:};;\n",
    "\n",
    "{int: 4};;\n",
    "\n",
    "let A = {int: 1, 2, 3, 4} in \n",
    "    insert(6, A);;\n",
    "\n",
    "let A = {string: \"hello\", \"world\", \"from\", \"MiniCaml\" } in\n",
    "    if (\"hi\" in A) then 0 else 1\n",
    "\n",
    "let A = {string: \"hello\", \"world\", \"from\", \"MiniCaml\" } in\n",
    "let B = {string: \"hi\" \"world\"} in\n",
    "    intersection A B\n",
    "```"
   ]
  },
  {
   "cell_type": "markdown",
   "id": "e0d15b64",
   "metadata": {},
   "source": [
    "### Es 1: Albero della sintassi astratta\n",
    "\n",
    "Estendere l'AST di MiniCaml con un **nuovo tipo** e le seguenti **nuove espressioni**:\n",
    "1. Espressioni per **costruire insiemi** (composti unicamente con interi, booleani e stringhe):\n",
    "    - una per l'insieme vuoto (di un certo tipo) \n",
    "    - una per l'insieme singoletto contenente un dato elemento (di un certo tipo) \n",
    "    - e una per l'insieme contenente una data sequenza di elementi distinti (tutti di un certo tipo)\n",
    "    \n",
    "    __NOTA:__ Ogni insieme, anche se vuoto, mantiene sempre l'informazione sul tipo di elementi che può contenere. Quindi le espressioni `{int:}` e `{string:}` dovranno essere di tipi diversi...\n",
    "\n",
    "\n",
    "2. Un **operatore unario** su insiemi:\n",
    "    - `isEmpty`, che restituisca true solo se l'insieme è vuoto\n",
    "\n",
    "\n",
    "3. **Operatori fra insiemi ed elementi**:\n",
    "    - `Insert`, tale che `insert x A` resituisca $A \\cup \\{x\\}$\n",
    "    - `Remove`, tale che `remove x A` restituisca $A \\setminus \\{x\\}$\n",
    "    - `Member`, tale che `member x A` restituisca `true` sse $x \\in A$\n",
    "\n",
    "\n",
    "4. **Operatori binari** su insiemi:\n",
    "    - `Union`, tale che `union A B` restituisca $A \\cup B$\n",
    "    - `Intersection`, tale che `intersection A B` restituisca $A \\cap B$\n",
    "    - `Subset`, tale che `subset A B` restituisca `true` sse $A \\subset B$"
   ]
  },
  {
   "cell_type": "markdown",
   "id": "6d1e1293",
   "metadata": {},
   "source": [
    "#### Soluzione:\n",
    "\n",
    "Nel definire un nuovo tipo per gli insiemi, non possiamo aggiungere  a `tname` un semplice costruttore `TSet`, poichè un insieme di interi non è un insieme di stringhe e viceversa. Dobbiamo quindi creare un tipo che sia **parametrico rispetto a un altro tipo**. `TSet` è infatti un *type constructor*, ovvero una sorta di \"funzione\" che, preso in input un tipo, restituisce un nuovo tipo. Lo stesso meccanismo è presente in Ocaml con *type constructors* come `list` e `option`. \n",
    "\n",
    "Dobbiamo quindi estendere `tname` con un costruttore che contenga un altro tname, ad esempio `TSet of tname`. Così facendo, però, potremmo rappresentare anche tipi che non vogliamo all'interno di MiniCaml, come `TSet(TClosure)`, ovvero il tipo \"insieme di funzioni\" (vogliamo solo insiemi di interi, booleani e stringhe). Una possibile soluzione è lasciare `TSet of tname`, e controllare più avanti, nella fase di typechecking e valutazione, che siano formati solo insiemi del giusto tipo. La soluzione che vedremo, invece, è estendere `tname` con `TSet of tsub`, dove `tsub` è un nuovo variant type (*in Ocaml*) che ha un sottoinsieme dei costruttori presenti in `tname`.\n",
    "\n",
    "Questa soluzione ha un vantaggio rispetto all'altra: fa uso del typechecking di Ocaml, per il quale sarà *sintatticamente* impossibile costruire un tipo `TSet(TClosure)`, senza dover riempire di if la parte semantica, e rischiare di dimenticarsene qualcuno. Uno svantaggio è che ora ci sono due diverse concezioni di `TInt`, quella dentro `tname` e quella dentro `tsub`, quando invece per il l'utente di MiniCaml esiste un solo tipo intero. Ci occuperemo di questa particolarità più avanti.\n",
    "\n",
    "Definito il nuovo tipo, è immediato definire i nuovi nodi dell'AST, ricordandosi che ogni insieme, anche vuoto, deve contenere sempre l'informazione sul tipo degli elementi contenuti."
   ]
  },
  {
   "cell_type": "code",
   "execution_count": 1,
   "id": "1c2ace39",
   "metadata": {},
   "outputs": [
    {
     "data": {
      "text/plain": [
       "type ide = string\n"
      ]
     },
     "execution_count": 1,
     "metadata": {},
     "output_type": "execute_result"
    },
    {
     "data": {
      "text/plain": [
       "type tsub = TInt | TBool | TString\n"
      ]
     },
     "execution_count": 1,
     "metadata": {},
     "output_type": "execute_result"
    },
    {
     "data": {
      "text/plain": [
       "type tname =\n",
       "    TInt\n",
       "  | TBool\n",
       "  | TString\n",
       "  | TClosure\n",
       "  | TRecClosure\n",
       "  | TUnBound\n",
       "  | TSet of tsub\n"
      ]
     },
     "execution_count": 1,
     "metadata": {},
     "output_type": "execute_result"
    },
    {
     "data": {
      "text/plain": [
       "type exp =\n",
       "    EInt of int\n",
       "  | CstTrue\n",
       "  | CstFalse\n",
       "  | EString of string\n",
       "  | Den of ide\n",
       "  | Sum of exp * exp\n",
       "  | Diff of exp * exp\n",
       "  | Prod of exp * exp\n",
       "  | Div of exp * exp\n",
       "  | IsZero of exp\n",
       "  | Eq of exp * exp\n",
       "  | LessThan of exp * exp\n",
       "  | GreaterThan of exp * exp\n",
       "  | And of exp * exp\n",
       "  | Or of exp * exp\n",
       "  | Not of exp\n",
       "  | IfThenElse of exp * exp * exp\n",
       "  | Let of ide * exp * exp\n",
       "  | Letrec of ide * ide * exp * exp\n",
       "  | Fun of ide * exp\n",
       "  | Apply of exp * exp\n",
       "  | Empty of tsub\n",
       "  | Singleton of tsub * exp\n",
       "  | Of of tsub * exp list\n",
       "  | IsEmpty of exp\n",
       "  | Insert of exp * exp\n",
       "  | Remove of exp * exp\n",
       "  | Member of exp * exp\n",
       "  | Union of exp * exp\n",
       "  | Intersection of exp * exp\n",
       "  | IsSubset of exp * exp\n"
      ]
     },
     "execution_count": 1,
     "metadata": {},
     "output_type": "execute_result"
    }
   ],
   "source": [
    "(* Identificatori *)\n",
    "type ide = string;;\n",
    "\n",
    "(* I tipi *)\n",
    "type tsub =  TInt | TBool | TString;;\n",
    "type tname =  TInt | TBool | TString | TClosure | TRecClosure | TUnBound | TSet of tsub;;\n",
    "\n",
    "(* Abstract Expressions = espressioni nella sintassi astratta, \n",
    "   compongono l'Albero di Sintassi Astratta *)\n",
    "type exp = \n",
    "    | EInt of int\n",
    "    | CstTrue \n",
    "    | CstFalse\n",
    "    | EString of string\n",
    "    | Den of ide\n",
    "    (* Operatori binari da interi a interi*)\n",
    "    | Sum of exp * exp\n",
    "    | Diff of exp * exp\n",
    "    | Prod of exp * exp\n",
    "    | Div of exp * exp\n",
    "    (* Operatori da interi a booleani *)\n",
    "    | IsZero of exp\n",
    "    | Eq of exp * exp\n",
    "    | LessThan of exp*exp\n",
    "    | GreaterThan of exp*exp\n",
    "    (* Operatori su booleani *)\n",
    "    | And of exp*exp\n",
    "    | Or of exp*exp\n",
    "    | Not of exp\n",
    "    (* Controllo del flusso, funzioni *)\n",
    "    | IfThenElse of exp * exp * exp\n",
    "    | Let of ide * exp * exp\n",
    "    | Letrec of ide * ide  * exp * exp\n",
    "    | Fun of ide * exp\n",
    "    | Apply of exp * exp\n",
    "    (* costruttori di insiemi *)\n",
    "    (**)\n",
    "    | Empty of tsub (*formalizza il caso {int: }*)\n",
    "    | Singleton of tsub*exp (*formalizza il caso {int: 3}*)\n",
    "    | Of of tsub*exp list (*formalizza il caso {int: 3, 1, 4}*)\n",
    "    (*operatori*)\n",
    "    |IsEmpty of exp\n",
    "    |Insert of exp*exp\n",
    "    |Remove of exp*exp\n",
    "    |Member of exp*exp\n",
    "    |Union of exp*exp\n",
    "    |Intersection of exp*exp \n",
    "    |IsSubset of exp*exp "
   ]
  },
  {
   "cell_type": "markdown",
   "id": "6fc6c4bf",
   "metadata": {},
   "source": [
    "### Es 2: Tipi esprimibili\n",
    "\n",
    "Estendere i tipi esprimibili e la funzione `getType` per comprendere anche i valori insieme."
   ]
  },
  {
   "cell_type": "markdown",
   "id": "cf261cba",
   "metadata": {},
   "source": [
    "#### Soluzione:\n",
    "\n",
    "Nell'estendere `evT`, va fatta una importante scelta implementativa: come rappresentare un valore semantico \"insieme\". Gli interi di Minicaml possono essere implementati come interi in Ocaml, e similmente le stringhe e così via. Non essendoci una struttura dati nativa degli insiemi in Ocaml, dobbiamo scegliere noi che struttura dati utilizzare. La scelta più semplice (ma non computazionalmente ottimale) è una lista non ordinata, ma si potrebbero usare anche liste ordinate, hashmap, BST e simili. Passare da una implementazione all'altra dovrebbe avere effetto solo su `evT` e sulle primitive che manipolano oggetti di tipo `evT`, il resto del codice sulla sintassi o sulla valutazione rimarrebbe identico."
   ]
  },
  {
   "cell_type": "code",
   "execution_count": 2,
   "id": "3f94324f",
   "metadata": {},
   "outputs": [
    {
     "data": {
      "text/plain": [
       "type 't env = ide -> 't\n"
      ]
     },
     "execution_count": 2,
     "metadata": {},
     "output_type": "execute_result"
    },
    {
     "data": {
      "text/plain": [
       "type evT =\n",
       "    Int of int\n",
       "  | Bool of bool\n",
       "  | String of string\n",
       "  | Closure of ide * exp * evT env\n",
       "  | RecClosure of ide * ide * exp * evT env\n",
       "  | Set of tsub * evT list\n",
       "  | UnBound\n"
      ]
     },
     "execution_count": 2,
     "metadata": {},
     "output_type": "execute_result"
    },
    {
     "data": {
      "text/plain": [
       "val emptyenv : 'a -> evT = <fun>\n"
      ]
     },
     "execution_count": 2,
     "metadata": {},
     "output_type": "execute_result"
    },
    {
     "data": {
      "text/plain": [
       "val bind : evT env -> ide -> evT -> ide -> evT = <fun>\n"
      ]
     },
     "execution_count": 2,
     "metadata": {},
     "output_type": "execute_result"
    },
    {
     "data": {
      "text/plain": [
       "val getType : evT -> tname = <fun>\n"
      ]
     },
     "execution_count": 2,
     "metadata": {},
     "output_type": "execute_result"
    }
   ],
   "source": [
    "(* Ambiente polimorfo *)\n",
    "type 't env = ide -> 't\n",
    "\n",
    "(* Evaluation types = tipi  esprimibili *)\n",
    "type evT = \n",
    "    | Int of int \n",
    "    | Bool of bool \n",
    "    | String of string \n",
    "    | Closure of ide * exp * evT env \n",
    "    | RecClosure of ide * ide * exp * evT env\n",
    "    | Set of tsub*(evT list)\n",
    "    | UnBound\n",
    "\n",
    "(* Ambiente vuoto *)\n",
    "let emptyenv = function x -> UnBound\n",
    "\n",
    "(* Binding fra una stringa x e un valore primitivo evT *)\n",
    "let bind (s: evT env) (x: ide) (v: evT) = \n",
    "    function (i: ide) -> if (i = x) then v else (s i)\n",
    "\n",
    "(* Funzione da evT a tname che associa a ogni valore il suo descrittore di tipo  *)\n",
    "let getType (x: evT) : tname =\n",
    "    match x with\n",
    "    | Int(_) -> TInt\n",
    "    | Bool(_) -> TBool\n",
    "    | String(_) -> TString\n",
    "    | Closure(i,e,en) -> TClosure\n",
    "    | RecClosure(i,j,e,en) -> TRecClosure\n",
    "    | Set(t, _) -> TSet(t)\n",
    "    | UnBound -> TUnBound"
   ]
  },
  {
   "cell_type": "markdown",
   "id": "c2a62fb8",
   "metadata": {},
   "source": [
    "### Es 3: Typechecking\n",
    "\n",
    "Estendere la funzione di typechecking in maniera tale che `typecheck(TSet, v)` restituisca `true` se e solo se `v` è un valore di tipo `TSet`, cioè è un insieme di valori, e tutti gli elementi contenuti in `v` sono del tipo adeguato.\n",
    "\n",
    "NOTA: Può essere utile scrivere una funzione ```upcast: tsub -> tname```."
   ]
  },
  {
   "cell_type": "markdown",
   "id": "fe58a1e9",
   "metadata": {},
   "source": [
    "#### Soluzione:\n",
    "\n",
    "Se vogliamo assicurarci che un valore `Set(t', l) : evT` sia di tipo `TSet(t')`, dobbiamo assicurarci che\n",
    " 1. `t' = t`, perché un set di interi non può in nessun caso essere di tipo \"set di stringhe\"\n",
    " 2. tutti gli elementi in `l` siano di tipo `t`. Qui compare però una peculiartià: a ogni elemento `v` dentro `l` posso associare il suo tipo con la funzione `gettype: evT -> tname`, ma dentro il tipo `TSet(t)`, `t` non è un `tname`, ma un `tsub`! Cioè mi devo assicurare che, per ogni `v` in `l`, `gettype v = t`, ma `getype v` e `t` sono incomparabili, per Ocaml. Dobbiamo quindi definire una funzione `upcast: tsub -> tname`, che effettui l'ovvia conversione, così da poter verificare che, per ogni `v` in `l`, `getype v = upcast t`.\n",
    " \n",
    "     Upcast non è una funzione che ha alcuna valenza semantica, perchè in MiniCaml c'è una sola nozione di \"tipo intero\", è solo una peculiarità della nostra implementazione.\n",
    " "
   ]
  },
  {
   "cell_type": "code",
   "execution_count": 4,
   "id": "4cc93c01",
   "metadata": {},
   "outputs": [
    {
     "data": {
      "text/plain": [
       "exception RuntimeError of string\n"
      ]
     },
     "execution_count": 4,
     "metadata": {},
     "output_type": "execute_result"
    },
    {
     "data": {
      "text/plain": [
       "val upcast : tsub -> tname = <fun>\n"
      ]
     },
     "execution_count": 4,
     "metadata": {},
     "output_type": "execute_result"
    },
    {
     "data": {
      "text/plain": [
       "val typecheck : tname * evT -> bool = <fun>\n"
      ]
     },
     "execution_count": 4,
     "metadata": {},
     "output_type": "execute_result"
    }
   ],
   "source": [
    "(* Errori a runtime *)\n",
    "exception RuntimeError of string\n",
    "\n",
    "let (upcast: tsub -> tname) = function\n",
    "      TInt -> TInt\n",
    "    | TBool -> TBool\n",
    "    | TString -> TString\n",
    "    \n",
    "\n",
    "(* Type-checking *)\n",
    "let typecheck ((x, y) : (tname*evT)) = \n",
    "    match x with\n",
    "    | TInt -> (match y with \n",
    "               | Int(u) -> true\n",
    "               | _ -> false\n",
    "               )\n",
    "    | TBool -> (match y with \n",
    "                | Bool(u) -> true\n",
    "                | _ -> false\n",
    "                )\n",
    "    | TString -> (match y with\n",
    "                 | String(u) -> true\n",
    "                 | _ -> false\n",
    "                 )\n",
    "    | TClosure -> (match y with\n",
    "                   | Closure(i,e,n) -> true\n",
    "                   | _ -> false\n",
    "                   )\n",
    "    | TRecClosure -> (match y with\n",
    "                     | RecClosure(i,j,e,n) -> true\n",
    "                     | _ -> false\n",
    "                     )\n",
    "    | TUnBound -> (match y with\n",
    "                 | UnBound -> true\n",
    "                 | _ -> false\n",
    "                 )\n",
    "    |TSet(t) -> (match y with\n",
    "                | Set(t', list) -> t = t' && List.for_all (fun x -> getType x = upcast t) list\n",
    "                | _ -> false)\n",
    "                "
   ]
  },
  {
   "cell_type": "markdown",
   "id": "ecc18e24",
   "metadata": {},
   "source": [
    "### Utilities\n",
    "\n",
    "Seguono alcune utilities sulle liste, già implementate."
   ]
  },
  {
   "cell_type": "code",
   "execution_count": 5,
   "id": "8f4b4928",
   "metadata": {},
   "outputs": [
    {
     "data": {
      "text/plain": [
       "val list_contains : 'a list -> 'a -> bool = <fun>\n"
      ]
     },
     "execution_count": 5,
     "metadata": {},
     "output_type": "execute_result"
    },
    {
     "data": {
      "text/plain": [
       "val checkNotEquals : 'a list -> bool = <fun>\n"
      ]
     },
     "execution_count": 5,
     "metadata": {},
     "output_type": "execute_result"
    },
    {
     "data": {
      "text/plain": [
       "val is_contained : 'a list -> 'a list -> bool = <fun>\n"
      ]
     },
     "execution_count": 5,
     "metadata": {},
     "output_type": "execute_result"
    },
    {
     "data": {
      "text/plain": [
       "val list_remove : 'a list -> 'a -> 'a list = <fun>\n"
      ]
     },
     "execution_count": 5,
     "metadata": {},
     "output_type": "execute_result"
    }
   ],
   "source": [
    "(* UTILITIES per le primitive del linguaggio (NON sono primitive!) *)\n",
    "\n",
    "(* Controlla se una lista contiene o meno l'elemento dato *)\n",
    "let rec list_contains l x = match l with\n",
    "    | [] -> false\n",
    "    | p::q -> if x = p then true else list_contains q x\n",
    "\n",
    "(* Controlla che una lista non abbia elementi ripetuti *)\n",
    "let rec checkNotEquals l = match l with\n",
    "    | [] -> true\n",
    "    | p::q -> if (not(list_contains q p)) then checkNotEquals q else false \n",
    "\n",
    "(* Requires: l1 ed l2 non hanno elementi ripetuti al loro interno\n",
    "Controlla se tutti gli elementi di l1 sono contenuti in l2 o meno *)\n",
    "let rec is_contained l1 l2 = match l1 with\n",
    "    | [] -> true\n",
    "    | p::q -> if (list_contains l2 p) then (is_contained q l2) else false\n",
    "\n",
    "(* Rimuove l'elemento x dalla lista l se presente, dà errore altrimenti *)\n",
    "let rec list_remove l x = match l with\n",
    "    | [] -> raise ( RuntimeError \"\")\n",
    "    | p::q -> if (p = x) then q else p::(list_remove q x)"
   ]
  },
  {
   "cell_type": "markdown",
   "id": "4ef1f15e",
   "metadata": {},
   "source": [
    "### Es 4: Primitive\n",
    "\n",
    "Implementare le primitive per gli insiemi, quali\n",
    "- Creazione\n",
    "- Inserzione, rimozione e appartenenza\n",
    "- ```is_subset``` e ```is_empty```\n",
    "- Unione intersezione"
   ]
  },
  {
   "cell_type": "markdown",
   "id": "7902efc4",
   "metadata": {},
   "source": [
    "#### Soluzione:\n",
    "\n",
    "Le primitive sono le operazioni che la macchina virtuale è capace di compiere, e il processo di valutazione (la fnzione `eval`) associa a ogni espressione sintattica un valore, componendo insieme più primitive. Lo stesso approccio avviene nel processore, che carica dalla memoria un'istruzione, la decodifica, e sceglie quali primtive (implimentate dalla ALU) eseguire per produrre un risultato.\n",
    "\n",
    "\n",
    "Dobbiamo sostanzialmente implementare una primitiva per ogni costrutto semantico definito dentro exp, avvalendoci delel funzioni di utilities. Tutte le primitive accettano un certo numero di parametri (i.e. operandi), ne fanno il typechecking, e poi resituiscono il risultato."
   ]
  },
  {
   "cell_type": "code",
   "execution_count": 9,
   "id": "c2146bd1",
   "metadata": {},
   "outputs": [
    {
     "data": {
      "text/plain": [
       "val is_zero : evT -> evT = <fun>\n"
      ]
     },
     "execution_count": 9,
     "metadata": {},
     "output_type": "execute_result"
    },
    {
     "data": {
      "text/plain": [
       "val int_eq : evT * evT -> evT = <fun>\n"
      ]
     },
     "execution_count": 9,
     "metadata": {},
     "output_type": "execute_result"
    },
    {
     "data": {
      "text/plain": [
       "val int_plus : evT * evT -> evT = <fun>\n"
      ]
     },
     "execution_count": 9,
     "metadata": {},
     "output_type": "execute_result"
    },
    {
     "data": {
      "text/plain": [
       "val int_sub : evT * evT -> evT = <fun>\n"
      ]
     },
     "execution_count": 9,
     "metadata": {},
     "output_type": "execute_result"
    },
    {
     "data": {
      "text/plain": [
       "val int_times : evT * evT -> evT = <fun>\n"
      ]
     },
     "execution_count": 9,
     "metadata": {},
     "output_type": "execute_result"
    },
    {
     "data": {
      "text/plain": [
       "val int_div : evT * evT -> evT = <fun>\n"
      ]
     },
     "execution_count": 9,
     "metadata": {},
     "output_type": "execute_result"
    },
    {
     "data": {
      "text/plain": [
       "val less_than : evT * evT -> evT = <fun>\n"
      ]
     },
     "execution_count": 9,
     "metadata": {},
     "output_type": "execute_result"
    },
    {
     "data": {
      "text/plain": [
       "val greater_than : evT * evT -> evT = <fun>\n"
      ]
     },
     "execution_count": 9,
     "metadata": {},
     "output_type": "execute_result"
    },
    {
     "data": {
      "text/plain": [
       "val bool_and : evT * evT -> evT = <fun>\n"
      ]
     },
     "execution_count": 9,
     "metadata": {},
     "output_type": "execute_result"
    },
    {
     "data": {
      "text/plain": [
       "val bool_or : evT * evT -> evT = <fun>\n"
      ]
     },
     "execution_count": 9,
     "metadata": {},
     "output_type": "execute_result"
    },
    {
     "data": {
      "text/plain": [
       "val bool_not : evT -> evT = <fun>\n"
      ]
     },
     "execution_count": 9,
     "metadata": {},
     "output_type": "execute_result"
    },
    {
     "data": {
      "text/plain": [
       "val new_empty : tsub -> evT = <fun>\n"
      ]
     },
     "execution_count": 9,
     "metadata": {},
     "output_type": "execute_result"
    },
    {
     "data": {
      "text/plain": [
       "val new_singleton : tsub * evT -> evT = <fun>\n"
      ]
     },
     "execution_count": 9,
     "metadata": {},
     "output_type": "execute_result"
    },
    {
     "data": {
      "text/plain": [
       "val new_of : tsub * evT list -> evT = <fun>\n"
      ]
     },
     "execution_count": 9,
     "metadata": {},
     "output_type": "execute_result"
    },
    {
     "data": {
      "text/plain": [
       "val set_contains : evT * evT -> evT = <fun>\n"
      ]
     },
     "execution_count": 9,
     "metadata": {},
     "output_type": "execute_result"
    },
    {
     "data": {
      "text/plain": [
       "val set_insert : evT * evT -> evT = <fun>\n"
      ]
     },
     "execution_count": 9,
     "metadata": {},
     "output_type": "execute_result"
    },
    {
     "data": {
      "text/plain": [
       "val set_remove : evT * evT -> evT = <fun>\n"
      ]
     },
     "execution_count": 9,
     "metadata": {},
     "output_type": "execute_result"
    },
    {
     "data": {
      "text/plain": [
       "val is_empty : evT -> evT = <fun>\n"
      ]
     },
     "execution_count": 9,
     "metadata": {},
     "output_type": "execute_result"
    },
    {
     "data": {
      "text/plain": [
       "val set_is_subset : evT * evT -> evT = <fun>\n"
      ]
     },
     "execution_count": 9,
     "metadata": {},
     "output_type": "execute_result"
    },
    {
     "data": {
      "text/plain": [
       "val set_intersection : evT * evT -> evT = <fun>\n"
      ]
     },
     "execution_count": 9,
     "metadata": {},
     "output_type": "execute_result"
    },
    {
     "data": {
      "text/plain": [
       "val set_union : evT * evT -> evT = <fun>\n"
      ]
     },
     "execution_count": 9,
     "metadata": {},
     "output_type": "execute_result"
    }
   ],
   "source": [
    "(* PRIMITIVE del linguaggio *)\n",
    "\n",
    "(* Controlla se un numero è zero *)\n",
    "let is_zero(x) = match (typecheck(TInt,x),x) with\n",
    "    | (true, Int(v)) -> Bool(v = 0)\n",
    "    | (_, _) -> raise ( RuntimeError \"Wrong type\")\n",
    "\n",
    "(* Uguaglianza fra interi *)\n",
    "let int_eq(x,y) =   \n",
    "    match (typecheck(TInt,x), typecheck(TInt,y), x, y) with\n",
    "    | (true, true, Int(v), Int(w)) -> Bool(v = w)\n",
    "    | (_,_,_,_) -> raise ( RuntimeError \"Wrong type\")\n",
    "\n",
    "(* Somma fra interi *)\t   \n",
    "let int_plus(x, y) = \n",
    "    match(typecheck(TInt,x), typecheck(TInt,y), x, y) with\n",
    "    | (true, true, Int(v), Int(w)) -> Int(v + w)\n",
    "    | (_,_,_,_) -> raise ( RuntimeError \"Wrong type\")\n",
    "\n",
    "(* Differenza fra interi *)\n",
    "let int_sub(x, y) = \n",
    "    match(typecheck(TInt,x), typecheck(TInt,y), x, y) with\n",
    "    | (true, true, Int(v), Int(w)) -> Int(v - w)\n",
    "    | (_,_,_,_) -> raise ( RuntimeError \"Wrong type\")\n",
    "\n",
    "(* Prodotto fra interi *)\n",
    "let int_times(x, y) =\n",
    "    match(typecheck(TInt,x), typecheck(TInt,y), x, y) with\n",
    "    | (true, true, Int(v), Int(w)) -> Int(v * w)\n",
    "    | (_,_,_,_) -> raise ( RuntimeError \"Wrong type\")\n",
    "\n",
    "(* Divisione fra interi *)\n",
    "let int_div(x, y) =\n",
    "    match(typecheck(TInt,x), typecheck(TInt,y), x, y) with\n",
    "    | (true, true, Int(v), Int(w)) -> \n",
    "                    if w<>0 then Int(v / w)\n",
    "                            else raise (RuntimeError \"Division by zero\")\n",
    "    | (_,_,_,_) -> raise ( RuntimeError \"Wrong type\")\n",
    "\n",
    "(* Operazioni di confronto *)\n",
    "let less_than(x, y) = \n",
    "    match (typecheck(TInt,x), typecheck(TInt,y), x, y) with\n",
    "    | (true, true, Int(v), Int(w)) -> Bool(v < w)\n",
    "    | (_,_,_,_) -> raise ( RuntimeError \"Wrong type\")\n",
    "\n",
    "let greater_than(x, y) = \n",
    "    match (typecheck(TInt,x), typecheck(TInt,y), x, y) with\n",
    "    | (true, true, Int(v), Int(w)) -> Bool(v > w)\n",
    "    | (_,_,_,_) -> raise ( RuntimeError \"Wrong type\")\n",
    "\n",
    "(* Operazioni logiche *)\n",
    "let bool_and(x,y) = \n",
    "    match (typecheck(TBool,x), typecheck(TBool,y), x, y) with\n",
    "    | (true, true, Bool(v), Bool(w)) -> Bool(v && w)\n",
    "    | (_,_,_,_) -> raise ( RuntimeError \"Wrong type\")\n",
    "\n",
    "let bool_or(x,y) = \n",
    "    match (typecheck(TBool,x), typecheck(TBool,y), x, y) with\n",
    "    | (true, true, Bool(v), Bool(w)) -> Bool(v || w)\n",
    "    | (_,_,_,_) -> raise ( RuntimeError \"Wrong type\")\n",
    "\n",
    "let bool_not(x) = \n",
    "    match (typecheck(TBool,x), x) with\n",
    "    | (true, Bool(v)) -> Bool(not(v))\n",
    "    | (_,_) -> raise ( RuntimeError \"Wrong type\")\n",
    "    \n",
    "(* Crea un nuovo insieme vuoto *)\n",
    "let new_empty (t : tsub) = Set(t, [])\n",
    "\n",
    "(* Crea un nuovo insieme con un solo elemento *)\n",
    "let new_singleton ((t, e) : (tsub*evT)) =\n",
    "    (*Nel typechecking, dobbiamo assicurarci che e sia di tipo t, \n",
    "      ma e e t sono incomparabili, per questo motivo vanno confrontati e e upcast t*)\n",
    "    if typecheck(upcast t, e) then Set(t, [e])\n",
    "    else raise ( RuntimeError \"Wrong type\")\n",
    "\n",
    "(* Crea un nuovo insieme partendo da una lista di elementi. *)\n",
    "let new_of ((t , l) : (tsub*(evT list))) = \n",
    "    if checkNotEquals l \n",
    "        then \n",
    "            (*l'operazione corretta sarebbe di fare il typecheck di ogni elemento di l,\n",
    "              con una List.forall, e poi costruire il set Set(t, l). In questo caso facciamo \n",
    "              l'operazione equivalente, prima costruiamo il set, e poi facciamo il \n",
    "              typechecking*)\n",
    "            let s = Set(t, l) in\n",
    "            if typecheck(TSet(t), s) then s\n",
    "            else raise ( RuntimeError \"Wrong type\")\n",
    "    else raise ( RuntimeError \"Duplicated elements\")\n",
    "\n",
    "\n",
    "\n",
    "(* Verifica se un insieme contiene un elemento dato *)\n",
    "let set_contains(s, v) = \n",
    "    match s with\n",
    "    |Set(t, l) -> \n",
    "        if typecheck(TSet(t), s) && typecheck(upcast t, v)\n",
    "        then Bool(list_contains l v)\n",
    "        else raise ( RuntimeError \"Wrong type\")\n",
    "    |_ -> raise ( RuntimeError \"Wrong type\")\n",
    "\n",
    "(* Inserisce un elemento in un insieme *)\n",
    "let set_insert(s, v) = \n",
    "    match s with\n",
    "    |Set(t, l) -> \n",
    "        if typecheck(TSet(t), s) && typecheck(upcast t, v)\n",
    "        (*se v appartiene a s, restituisco s inalterato, altrimenti restituisco s U {v}*)\n",
    "        then if list_contains l v \n",
    "                then Set(t, l)\n",
    "                else Set(t, v::l)\n",
    "        else raise ( RuntimeError \"Wrong type\")\n",
    "    |_ -> raise ( RuntimeError \"Wrong type\")\n",
    "\n",
    "\n",
    "(* Rimuove un elemento da un insieme *)\n",
    "let set_remove(s, v) = \n",
    "    match s with\n",
    "    |Set(t, l) -> \n",
    "        if typecheck(TSet(t), s) && typecheck(upcast t, v)\n",
    "        then Set(t, list_remove l v)\n",
    "        else raise ( RuntimeError \"Wrong type\")\n",
    "    |_ -> raise ( RuntimeError \"Wrong type\")\n",
    "\n",
    "\n",
    "\n",
    "(* Verifica se un insieme è vuoto *)\n",
    "let is_empty (s : evT) = \n",
    "    (*andrebbe, come nelle altre primitive, fatto prima il typechecking\n",
    "      ma la funzione è così banale che lo saltiamo. Don't do this at home.*)\n",
    "    match s with\n",
    "     Set(_, []) -> Bool(true) (*se è un set vuoto, restituisco true*)\n",
    "    |Set(_, _) -> Bool(false) (*se è un set non vuoto, restituisco false*)\n",
    "    |_ -> raise ( RuntimeError \"Wrong type\") (*se non è un set, errore*)\n",
    "\n",
    "(* Verifica se un insieme è sottoinsieme di un altro insieme *)\n",
    "let set_is_subset (s1, s2) = \n",
    "    match s1, s2 with\n",
    "    | Set(t1, l1), Set(t2, l2) -> \n",
    "        if typecheck(TSet(t1), s1) && typecheck(TSet(t1), s2)\n",
    "            then Bool(is_contained l1 l2)\n",
    "            else raise ( RuntimeError \"Wrong type\")\n",
    "    | _ -> raise ( RuntimeError \"Wrong type\")\n",
    "\n",
    "\n",
    "(* Restituisce l'intersezione fra due sottoinsiemi*)\n",
    "let set_intersection(s1, s2) = \n",
    "    let rec list_intersection(l1,l2) = match l1 with\n",
    "        |[] -> []\n",
    "        |h::tl -> if list_contains l2 h then h::list_intersection(tl,l2) else list_intersection(tl,l2)\n",
    "    in match s1, s2 with\n",
    "    |Set(t1, l1), Set(t2, l2) -> \n",
    "        if typecheck(TSet(t1), s1) && typecheck(TSet(t1), s2)\n",
    "        then Set(t1, list_intersection(l1, l2))\n",
    "        else raise ( RuntimeError \"Wrong type\")\n",
    "    |_ -> raise ( RuntimeError \"Wrong type\")\n",
    "    \n",
    "(* Restituisce l'unione fra due sottoinsiemi*)\n",
    "let set_union(s1, s2) = \n",
    "    let rec list_union(l1, l2) = match l1 with\n",
    "        |[] -> l2\n",
    "        |h::tl -> if list_contains l2 h then list_union(tl,l2) else h::list_union(tl, l2)\n",
    "    in match s1, s2 with\n",
    "    |Set(t1, l1), Set(t2, l2) -> \n",
    "        if typecheck(TSet(t1), s1) && typecheck(TSet(t1), s2)\n",
    "        then Set(t1, list_union(l1, l2))\n",
    "        else raise ( RuntimeError \"Wrong type\")\n",
    "    |_ -> raise ( RuntimeError \"Wrong type\")"
   ]
  },
  {
   "cell_type": "markdown",
   "id": "fd030855",
   "metadata": {},
   "source": [
    "### Es 6: Interprete\n",
    "\n",
    "Completare la funzione eval, facendo pattern matching dei nuovi casi definiti dentro exp, e associandoli alle primitive definite precedentemente."
   ]
  },
  {
   "cell_type": "markdown",
   "id": "661b43da",
   "metadata": {},
   "source": [
    "#### Soluzione:\n",
    "\n",
    "La funzione `eval` è compie una semplice visita post-order dell'albero: per ogni nodo, valuta ricorsivamente i sottoalberi, e poi combina il risultato con una primitiva."
   ]
  },
  {
   "cell_type": "code",
   "execution_count": 11,
   "id": "34edd2de",
   "metadata": {},
   "outputs": [
    {
     "data": {
      "text/plain": [
       "val eval : exp -> evT env -> evT = <fun>\n"
      ]
     },
     "execution_count": 11,
     "metadata": {},
     "output_type": "execute_result"
    }
   ],
   "source": [
    "(* Interprete *)\n",
    "let rec eval (e:exp) (s:evT env) : evT = \n",
    "    match e with\n",
    "    | EInt(n) -> Int(n)\n",
    "    | CstTrue -> Bool(true)\n",
    "    | CstFalse -> Bool(false)\n",
    "    | EString(s) -> String(s)\n",
    "    | Den(i) -> (s i)\n",
    "\n",
    "    | Prod(e1,e2) -> int_times((eval e1 s), (eval e2 s))\n",
    "    | Sum(e1, e2) -> int_plus((eval e1 s), (eval e2 s))\n",
    "    | Diff(e1, e2) -> int_sub((eval e1 s), (eval e2 s))\n",
    "    | Div(e1, e2) -> int_div((eval e1 s), (eval e2 s))\n",
    "\n",
    "    | IsZero(e1) -> is_zero (eval e1 s)\n",
    "    | Eq(e1, e2) -> int_eq((eval e1 s), (eval e2 s))\n",
    "    | LessThan(e1, e2) -> less_than((eval e1 s),(eval e2 s))\n",
    "    | GreaterThan(e1, e2) -> greater_than((eval e1 s),(eval e2 s))\n",
    "\n",
    "    | And(e1, e2) -> bool_and((eval e1 s),(eval e2 s))\n",
    "    | Or(e1, e2) -> bool_or((eval e1 s),(eval e2 s))\n",
    "    | Not(e1) -> bool_not(eval e1 s)\n",
    "\n",
    "    | IfThenElse(e1,e2,e3) -> \n",
    "        let g = eval e1 s in \n",
    "            (match (typecheck(TBool,g),g) with\n",
    "            |(true, Bool(true)) -> eval e2 s\n",
    "            |(true, Bool(false)) -> eval e3 s\n",
    "            |(_,_) -> raise ( RuntimeError \"Wrong type\")\n",
    "            )\n",
    "    | Let(i, e, ebody) -> eval ebody (bind s i (eval e s))\n",
    "    | Fun(arg, ebody) -> Closure(arg,ebody,s)\n",
    "    | Letrec(f, arg, fBody, leBody) ->\n",
    "        let benv = bind (s) (f) (RecClosure(f, arg, fBody,s)) in\n",
    "            eval leBody benv\n",
    "    | Apply(eF, eArg) ->\n",
    "        let fclosure = eval eF s in \n",
    "            (match fclosure with \n",
    "            | Closure(arg, fbody, fDecEnv) -> \n",
    "                let aVal = eval eArg s in \n",
    "                let aenv = bind fDecEnv arg aVal in \n",
    "                eval fbody aenv \n",
    "            | RecClosure(f, arg, fbody, fDecEnv) -> \n",
    "                let aVal = eval eArg s in\n",
    "                let rEnv = bind fDecEnv f fclosure in\n",
    "                let aenv = bind rEnv arg aVal in \n",
    "                eval fbody aenv\n",
    "            | _ -> raise ( RuntimeError \"Wrong type\")\n",
    "            )  \n",
    "    | Empty(t) -> new_empty t\n",
    "    | Singleton(t, e) -> \n",
    "        let v = eval e s in \n",
    "        new_singleton(t, v)\n",
    "    | Of(t, e_list) ->\n",
    "        let v_list = List.map (fun e -> eval e s) e_list\n",
    "        in new_of(t, v_list)\n",
    "    (*operatori*)\n",
    "    |IsEmpty e -> \n",
    "        let v = eval e s in \n",
    "        is_empty v\n",
    "    |Insert(e1, e2) ->\n",
    "        let v1 = eval e1 s in\n",
    "        let v2 = eval e2 s in \n",
    "        set_insert(v1, v2)\n",
    "    |Remove(e1, e2) -> \n",
    "        let v1 = eval e1 s in\n",
    "        let v2 = eval e2 s in \n",
    "        set_remove(v1, v2)\n",
    "    |Member(e1, e2) -> \n",
    "        let v1 = eval e1 s in\n",
    "        let v2 = eval e2 s in \n",
    "        set_contains(v1, v2)\n",
    "    |Union(e1, e2) -> \n",
    "        let v1 = eval e1 s in\n",
    "        let v2 = eval e2 s in \n",
    "        set_union(v1, v2)\n",
    "    |Intersection(e1, e2) -> \n",
    "        let v1 = eval e1 s in\n",
    "        let v2 = eval e2 s in \n",
    "        set_intersection(v1, v2)\n",
    "    |IsSubset(e1, e2) -> \n",
    "        let v1 = eval e1 s in\n",
    "        let v2 = eval e2 s in \n",
    "        set_is_subset(v1, v2)\n"
   ]
  },
  {
   "cell_type": "code",
   "execution_count": 14,
   "id": "f40c3b10",
   "metadata": {},
   "outputs": [
    {
     "data": {
      "text/plain": [
       "val e1 : exp =\n",
       "  Of (TString, [EString \"Hello\"; EString \"World\"; EString \"from Minicaml\"])\n"
      ]
     },
     "execution_count": 14,
     "metadata": {},
     "output_type": "execute_result"
    },
    {
     "data": {
      "text/plain": [
       "val e2 : exp = Of (TString, [EString \"Hello\"; EString \"World\"])\n"
      ]
     },
     "execution_count": 14,
     "metadata": {},
     "output_type": "execute_result"
    },
    {
     "data": {
      "text/plain": [
       "val e3 : exp =\n",
       "  Let (\"s\",\n",
       "   Intersection\n",
       "    (Of (TString,\n",
       "      [EString \"Hello\"; EString \"World\"; EString \"from Minicaml\"]),\n",
       "    Of (TString, [EString \"Hello\"; EString \"World\"])),\n",
       "   Member (Den \"s\", EString \"Hello\"))\n"
      ]
     },
     "execution_count": 14,
     "metadata": {},
     "output_type": "execute_result"
    },
    {
     "data": {
      "text/plain": [
       "- : evT = Bool true\n"
      ]
     },
     "execution_count": 14,
     "metadata": {},
     "output_type": "execute_result"
    }
   ],
   "source": [
    "let e1 = Of(TString, [EString(\"Hello\"); EString(\"World\"); EString(\"from Minicaml\"); ]);;\n",
    "let e2 = Of(TString, [EString(\"Hello\"); EString(\"World\");]);;\n",
    "let e3 = Let(\"s\", Intersection(e1, e2), Member(Den(\"s\"), EString(\"Hello\")));;\n",
    "(*let s = Intersection({string: \"hello\", \"world\", \"from Minicaml\"},{string: \"hello\", \"world\"}) in\n",
    "  Member(s, \"hello\")*)\n",
    "\n",
    "eval e3 emptyenv;;"
   ]
  }
 ],
 "metadata": {
  "kernelspec": {
   "display_name": "OCaml default",
   "language": "OCaml",
   "name": "ocaml-jupyter"
  },
  "language_info": {
   "codemirror_mode": "text/x-ocaml",
   "file_extension": ".ml",
   "mimetype": "text/x-ocaml",
   "name": "OCaml",
   "nbconverter_exporter": null,
   "pygments_lexer": "OCaml",
   "version": "4.08.1"
  },
  "rise": {
   "enable_chalkboard": true,
   "scroll": true
  }
 },
 "nbformat": 4,
 "nbformat_minor": 5
}
