{
 "cells": [
  {
   "cell_type": "markdown",
   "id": "b6b208de",
   "metadata": {},
   "source": [
    "## MiniCaml con Record\n",
    "\n",
    "Vogliamo estendere l'interprete di MiniCaml per implementare dei **record immutabili**. Ogni record può contenere un numero finito di **label distinte**, e a ogni label è associato un valore.\n",
    "\n",
    "Un esempio di sintassi concreta potrebbe essere:\n",
    "```\n",
    "{id=123, name=\"Gabriele\"};;\n",
    "\n",
    "{id=123, name=\"Gabriele\"}.id;;\n",
    "\n",
    "let r = {id=123, name=\"Gabriele\"} in\n",
    "    r.id\n",
    "\n",
    "let r = {id=123+5, name=\"Gabriele\"} in\n",
    "    r with {surname=\"Tedeschi\"}\n",
    "    \n",
    "let r = {id=123, name=\"Gabriele\"} in\n",
    "let r2 = r with {id=\"456\"} in\n",
    "    r.id //mi aspetto come risultato 123\n",
    "    \n",
    "```"
   ]
  },
  {
   "cell_type": "markdown",
   "id": "d9946ebe",
   "metadata": {},
   "source": [
    "### Es 1: \n",
    "\n",
    "Estendere l'AST di MiniCaml con un **nuovo tipo** e le seguenti **nuove espressioni**:\n",
    "1. Un'espressione per **costruire un record**: \n",
    "\n",
    "2. Un operatore per **accedere ai campi del record**\n",
    "\n",
    "4. Un **operatore with**, per estendere un record con un nuovo campo, o aggiornare un campo esistente.\n",
    "\n",
    "**NOTA**: i record, come in Ocaml, sono immutabili."
   ]
  },
  {
   "cell_type": "markdown",
   "id": "e0d15b64",
   "metadata": {},
   "source": [
    "### Albero della sintassi astratta"
   ]
  },
  {
   "cell_type": "code",
   "execution_count": 6,
   "id": "5863c548",
   "metadata": {},
   "outputs": [
    {
     "data": {
      "text/plain": [
       "type ide = string\n"
      ]
     },
     "execution_count": 6,
     "metadata": {},
     "output_type": "execute_result"
    },
    {
     "data": {
      "text/plain": [
       "type tname =\n",
       "    TInt\n",
       "  | TBool\n",
       "  | TString\n",
       "  | TClosure\n",
       "  | TRecClosure\n",
       "  | TUnBound\n",
       "  | TRecord\n"
      ]
     },
     "execution_count": 6,
     "metadata": {},
     "output_type": "execute_result"
    },
    {
     "data": {
      "text/plain": [
       "type exp =\n",
       "    EInt of int\n",
       "  | CstTrue\n",
       "  | CstFalse\n",
       "  | EString of string\n",
       "  | Den of ide\n",
       "  | Sum of exp * exp\n",
       "  | Diff of exp * exp\n",
       "  | Prod of exp * exp\n",
       "  | Div of exp * exp\n",
       "  | IsZero of exp\n",
       "  | Eq of exp * exp\n",
       "  | LessThan of exp * exp\n",
       "  | GreaterThan of exp * exp\n",
       "  | And of exp * exp\n",
       "  | Or of exp * exp\n",
       "  | Not of exp\n",
       "  | IfThenElse of exp * exp * exp\n",
       "  | Let of ide * exp * exp\n",
       "  | Letrec of ide * ide * exp * exp\n",
       "  | Fun of ide * exp\n",
       "  | Apply of exp * exp\n",
       "  | BuildRecord of (ide * exp) list\n",
       "  | Project of exp * ide\n",
       "  | With of exp * ide * exp\n"
      ]
     },
     "execution_count": 6,
     "metadata": {},
     "output_type": "execute_result"
    }
   ],
   "source": [
    "(* Identificatori *)\n",
    "type ide = string;;\n",
    "\n",
    "(* I tipi *)\n",
    "type tname =  TInt | TBool | TString | TClosure | TRecClosure | TUnBound | TRecord\n",
    "\n",
    "(* Abstract Expressions = espressioni nella sintassi astratta, \n",
    "   compongono l'Albero di Sintassi Astratta *)\n",
    "type exp = \n",
    "    | EInt of int\n",
    "    | CstTrue \n",
    "    | CstFalse\n",
    "    | EString of string\n",
    "    | Den of ide\n",
    "    (* Operatori binari da interi a interi*)\n",
    "    | Sum of exp * exp\n",
    "    | Diff of exp * exp\n",
    "    | Prod of exp * exp\n",
    "    | Div of exp * exp\n",
    "    (* Operatori da interi a booleani *)\n",
    "    | IsZero of exp\n",
    "    | Eq of exp * exp\n",
    "    | LessThan of exp*exp\n",
    "    | GreaterThan of exp*exp\n",
    "    (* Operatori su booleani *)\n",
    "    | And of exp*exp\n",
    "    | Or of exp*exp\n",
    "    | Not of exp\n",
    "    (* Controllo del flusso, funzioni *)\n",
    "    | IfThenElse of exp * exp * exp\n",
    "    | Let of ide * exp * exp\n",
    "    | Letrec of ide * ide  * exp * exp\n",
    "    | Fun of ide * exp\n",
    "    | Apply of exp * exp\n",
    "    (* records*)\n",
    "    | BuildRecord of (ide*exp) list (*come in {id=123, name=\"Gabriele\"}*)\n",
    "    (*il primo campo di Project, che ci aspettiamo essere un record, a livello sintattico\n",
    "      può essere qualsiasi espressione. Sicuramente espressioni come 15.name o \"MiniCaml\".id \n",
    "      sono semanticamente sbagliate, ma sono sintatticamente corrette.\n",
    "      Se scrivessimo Project of ((ide*exp) list)* ide, potremmo formalizzare espressioni come \n",
    "      {id=123, name=\"Gabriele\"}.id, ma non potremmo formalizzare \n",
    "           let r = {id=123, name=\"Gabriele\"} in\n",
    "            r.id\n",
    "      Visto che anche l'espressione foo(5).id potrebbe essere semanticamente corretta, a seconda di\n",
    "      cosa restituisce foo, è evidente che a livello sintattico non possiamo fare alcuna restrizione\n",
    "      sul primo campo di Project, e dobbiamo quindi definirlo come exp*ide.*)\n",
    "    | Project of exp*ide            (* come in {id=123, name=\"Gabriele\"}.id *)\n",
    "    (*Per il primo campo di With vale tutto quanto detto sopra come per Project. Inoltre, viene da\n",
    "      chiedersi se non sia meglio dichiarare With come exp*((ide*exp) list), per poter formalizzare\n",
    "      espressioni come:\n",
    "          {id=123} with surname=\"Tedeschi\", name=\"Gabriele\"\n",
    "      In realtà, quando si progetta un interprete, si cerca di mantenere l'AST il più semplice\n",
    "      possibile, nel nostro caso è quindi preferibile lasciare with come exp*ide*exp. Per formalizzare\n",
    "      l'espressione di sopra, possiamo esprimerla come due with annidiati, ovvero \n",
    "          ({id=123} with surname=\"Tedeschi\") with name=\"Gabriele\"\n",
    "      Questo è un esempio di syntactic sugaring, ovvero implementare feature del linguaggio come \n",
    "      semplici shortcut di feature più semplici.*)\n",
    "    | With of exp*ide*exp           (* come in {id=123, name=\"Gabriele\"} with surname=\"Tedeschi\" *)"
   ]
  },
  {
   "cell_type": "markdown",
   "id": "af998a25",
   "metadata": {},
   "source": [
    "## Es 2:\n",
    "\n",
    "Estendere i tipi esprimibili per poter rappresentare un valore record, e aggiornare `getType` e `typecheck` di conseguenza."
   ]
  },
  {
   "cell_type": "markdown",
   "id": "698e7859",
   "metadata": {},
   "source": [
    "### Ambiente"
   ]
  },
  {
   "cell_type": "code",
   "execution_count": 7,
   "id": "3f94324f",
   "metadata": {},
   "outputs": [
    {
     "data": {
      "text/plain": [
       "type 't env = ide -> 't\n"
      ]
     },
     "execution_count": 7,
     "metadata": {},
     "output_type": "execute_result"
    },
    {
     "data": {
      "text/plain": [
       "type evT =\n",
       "    Int of int\n",
       "  | Bool of bool\n",
       "  | String of string\n",
       "  | Closure of ide * exp * evT env\n",
       "  | RecClosure of ide * ide * exp * evT env\n",
       "  | UnBound\n",
       "  | Record of (ide * evT) list\n"
      ]
     },
     "execution_count": 7,
     "metadata": {},
     "output_type": "execute_result"
    },
    {
     "data": {
      "text/plain": [
       "val emptyenv : 'a -> evT = <fun>\n"
      ]
     },
     "execution_count": 7,
     "metadata": {},
     "output_type": "execute_result"
    },
    {
     "data": {
      "text/plain": [
       "val bind : evT env -> ide -> evT -> ide -> evT = <fun>\n"
      ]
     },
     "execution_count": 7,
     "metadata": {},
     "output_type": "execute_result"
    },
    {
     "data": {
      "text/plain": [
       "val getType : evT -> tname = <fun>\n"
      ]
     },
     "execution_count": 7,
     "metadata": {},
     "output_type": "execute_result"
    },
    {
     "data": {
      "text/plain": [
       "val typecheck : tname * evT -> bool = <fun>\n"
      ]
     },
     "execution_count": 7,
     "metadata": {},
     "output_type": "execute_result"
    }
   ],
   "source": [
    "(* Ambiente polimorfo *)\n",
    "type 't env = ide -> 't\n",
    "\n",
    "(* Evaluation types = tipi  esprimibili *)\n",
    "type evT = \n",
    "    | Int of int \n",
    "    | Bool of bool \n",
    "    | String of string \n",
    "    | Closure of ide * exp * evT env \n",
    "    | RecClosure of ide * ide * exp * evT env\n",
    "    | UnBound\n",
    "    (*scegliamo di implementare i record come liste, ma si potrebbe implementarli anche\n",
    "      come hashmap, BST e così via.*)\n",
    "    | Record of (ide*evT) list \n",
    "    \n",
    "(* Ambiente vuoto *)\n",
    "let emptyenv = function x -> UnBound\n",
    "\n",
    "(* Binding fra una stringa x e un valore primitivo evT *)\n",
    "let bind (s: evT env) (x: ide) (v: evT) = \n",
    "    function (i: ide) -> if (i = x) then v else (s i)\n",
    "\n",
    "(* Funzione da evT a tname che associa a ogni valore il suo descrittore di tipo  *)\n",
    "let getType (x: evT) : tname =\n",
    "    match x with\n",
    "    | Int(n) -> TInt\n",
    "    | Bool(b) -> TBool\n",
    "    | String(s) -> TString\n",
    "    | Closure(i,e,en) -> TClosure\n",
    "    | RecClosure(i,j,e,en) -> TRecClosure\n",
    "    | UnBound -> TUnBound\n",
    "    | Record _ -> TRecord\n",
    "\n",
    "(* Type-checking *)\n",
    "let typecheck ((x, y) : (tname*evT)) = \n",
    "    match x with\n",
    "    | TInt -> (match y with \n",
    "               | Int(u) -> true\n",
    "               | _ -> false\n",
    "               )\n",
    "    | TBool -> (match y with \n",
    "                | Bool(u) -> true\n",
    "                | _ -> false\n",
    "                )\n",
    "    | TString -> (match y with\n",
    "                 | String(u) -> true\n",
    "                 | _ -> false\n",
    "                 )\n",
    "    | TClosure -> (match y with\n",
    "                   | Closure(i,e,n) -> true\n",
    "                   | _ -> false\n",
    "                   )\n",
    "    | TRecClosure -> (match y with\n",
    "                     | RecClosure(i,j,e,n) -> true\n",
    "                     | _ -> false\n",
    "                     )\n",
    "    |TUnBound -> (match y with\n",
    "                 | UnBound -> true\n",
    "                 | _ -> false\n",
    "                 )\n",
    "    |TRecord -> ( match y with\n",
    "                 | Record _ -> true\n",
    "                 |_ -> false\n",
    "                )\n",
    "    "
   ]
  },
  {
   "cell_type": "markdown",
   "id": "9e9fbc6a",
   "metadata": {},
   "source": [
    "## Es 3: \n",
    "\n",
    "Implementare le primitive per la **creazione** di record, l'**accesso** e l'**update** di un campo. Dopo di ciò, terminare la funzione `eval` usando le primitive appena definite. "
   ]
  },
  {
   "cell_type": "markdown",
   "id": "d652fdb4",
   "metadata": {},
   "source": [
    "### Utilities\n",
    "\n",
    "Seguono delle utilities su *association lists*, ovvero liste di coppie chiave-valore. Possono essere utili per implementare le primitive."
   ]
  },
  {
   "cell_type": "code",
   "execution_count": 8,
   "id": "1a7aed03",
   "metadata": {},
   "outputs": [
    {
     "data": {
      "text/plain": [
       "val list_contains_label : ('a * 'b) list -> 'a -> bool = <fun>\n"
      ]
     },
     "execution_count": 8,
     "metadata": {},
     "output_type": "execute_result"
    },
    {
     "data": {
      "text/plain": [
       "val check_distinct : ('a * 'b) list -> bool = <fun>\n"
      ]
     },
     "execution_count": 8,
     "metadata": {},
     "output_type": "execute_result"
    },
    {
     "data": {
      "text/plain": [
       "val update : ('a * 'b) list -> 'a -> 'b -> ('a * 'b) list = <fun>\n"
      ]
     },
     "execution_count": 8,
     "metadata": {},
     "output_type": "execute_result"
    },
    {
     "data": {
      "text/plain": [
       "val insert_element : ('a * 'b) list -> 'a * 'b -> ('a * 'b) list = <fun>\n"
      ]
     },
     "execution_count": 8,
     "metadata": {},
     "output_type": "execute_result"
    }
   ],
   "source": [
    "(* UTILITIES per le primitive del linguaggio (NON sono primitive!) *)\n",
    "\n",
    "(* Controlla se una lista contiene o meno la label data *)\n",
    "let rec list_contains_label list label = \n",
    "    List.exists (fun (l, _ ) -> l = label) list\n",
    "\n",
    "(* Controlla che una lista non abbia label ripetute *)\n",
    "let rec check_distinct l = match l with\n",
    "    | [] -> true\n",
    "    | (l, _)::tl -> if (not(list_contains_label tl l)) then check_distinct tl else false \n",
    "\n",
    "(* Aggiorna una lista eliminando l'associazione (label, oldV)\n",
    "  e sostituendola con l'associazione (label, v)*)\n",
    "let rec update list label v = match list with\n",
    "    |[] -> []\n",
    "    |(l, oldV)::tl -> if l = label then (l, v)::tl\n",
    "                      else (l, oldV)::(update tl label v) \n",
    "\n",
    "(*Inserisce (o aggiorna) un elemento v associato a label*)\n",
    "let insert_element list (label, v) = \n",
    "    if list_contains_label list label\n",
    "        then update list label v\n",
    "        else list@[(label, v)]"
   ]
  },
  {
   "cell_type": "markdown",
   "id": "492d7385",
   "metadata": {},
   "source": [
    "### Primitive"
   ]
  },
  {
   "cell_type": "code",
   "execution_count": 14,
   "id": "5d10233c",
   "metadata": {},
   "outputs": [
    {
     "data": {
      "text/plain": [
       "exception RuntimeError of string\n"
      ]
     },
     "execution_count": 14,
     "metadata": {},
     "output_type": "execute_result"
    },
    {
     "data": {
      "text/plain": [
       "val is_zero : evT -> evT = <fun>\n"
      ]
     },
     "execution_count": 14,
     "metadata": {},
     "output_type": "execute_result"
    },
    {
     "data": {
      "text/plain": [
       "val int_eq : evT * evT -> evT = <fun>\n"
      ]
     },
     "execution_count": 14,
     "metadata": {},
     "output_type": "execute_result"
    },
    {
     "data": {
      "text/plain": [
       "val int_plus : evT * evT -> evT = <fun>\n"
      ]
     },
     "execution_count": 14,
     "metadata": {},
     "output_type": "execute_result"
    },
    {
     "data": {
      "text/plain": [
       "val int_sub : evT * evT -> evT = <fun>\n"
      ]
     },
     "execution_count": 14,
     "metadata": {},
     "output_type": "execute_result"
    },
    {
     "data": {
      "text/plain": [
       "val int_times : evT * evT -> evT = <fun>\n"
      ]
     },
     "execution_count": 14,
     "metadata": {},
     "output_type": "execute_result"
    },
    {
     "data": {
      "text/plain": [
       "val int_div : evT * evT -> evT = <fun>\n"
      ]
     },
     "execution_count": 14,
     "metadata": {},
     "output_type": "execute_result"
    },
    {
     "data": {
      "text/plain": [
       "val less_than : evT * evT -> evT = <fun>\n"
      ]
     },
     "execution_count": 14,
     "metadata": {},
     "output_type": "execute_result"
    },
    {
     "data": {
      "text/plain": [
       "val greater_than : evT * evT -> evT = <fun>\n"
      ]
     },
     "execution_count": 14,
     "metadata": {},
     "output_type": "execute_result"
    },
    {
     "data": {
      "text/plain": [
       "val bool_and : evT * evT -> evT = <fun>\n"
      ]
     },
     "execution_count": 14,
     "metadata": {},
     "output_type": "execute_result"
    },
    {
     "data": {
      "text/plain": [
       "val bool_or : evT * evT -> evT = <fun>\n"
      ]
     },
     "execution_count": 14,
     "metadata": {},
     "output_type": "execute_result"
    },
    {
     "data": {
      "text/plain": [
       "val bool_not : evT -> evT = <fun>\n"
      ]
     },
     "execution_count": 14,
     "metadata": {},
     "output_type": "execute_result"
    },
    {
     "data": {
      "text/plain": [
       "val build_record : (ide * evT) list -> evT = <fun>\n"
      ]
     },
     "execution_count": 14,
     "metadata": {},
     "output_type": "execute_result"
    },
    {
     "data": {
      "text/plain": [
       "val get_field : evT * ide -> evT = <fun>\n"
      ]
     },
     "execution_count": 14,
     "metadata": {},
     "output_type": "execute_result"
    },
    {
     "data": {
      "text/plain": [
       "val insert_field : evT * ide * evT -> evT = <fun>\n"
      ]
     },
     "execution_count": 14,
     "metadata": {},
     "output_type": "execute_result"
    }
   ],
   "source": [
    "(* Errori a runtime *)\n",
    "exception RuntimeError of string\n",
    "\n",
    "(* PRIMITIVE del linguaggio *)\n",
    "\n",
    "(* Controlla se un numero è zero *)\n",
    "let is_zero(x) = match (typecheck(TInt,x),x) with\n",
    "    | (true, Int(v)) -> Bool(v = 0)\n",
    "    | (_, _) -> raise ( RuntimeError \"Wrong type\")\n",
    "\n",
    "(* Uguaglianza fra interi *)\n",
    "let int_eq(x,y) =   \n",
    "    match (typecheck(TInt,x), typecheck(TInt,y), x, y) with\n",
    "    | (true, true, Int(v), Int(w)) -> Bool(v = w)\n",
    "    | (_,_,_,_) -> raise ( RuntimeError \"Wrong type\")\n",
    "\n",
    "(* Somma fra interi *)\t   \n",
    "let int_plus(x, y) = \n",
    "    match(typecheck(TInt,x), typecheck(TInt,y), x, y) with\n",
    "    | (true, true, Int(v), Int(w)) -> Int(v + w)\n",
    "    | (_,_,_,_) -> raise ( RuntimeError \"Wrong type\")\n",
    "\n",
    "(* Differenza fra interi *)\n",
    "let int_sub(x, y) = \n",
    "    match(typecheck(TInt,x), typecheck(TInt,y), x, y) with\n",
    "    | (true, true, Int(v), Int(w)) -> Int(v - w)\n",
    "    | (_,_,_,_) -> raise ( RuntimeError \"Wrong type\")\n",
    "\n",
    "(* Prodotto fra interi *)\n",
    "let int_times(x, y) =\n",
    "    match(typecheck(TInt,x), typecheck(TInt,y), x, y) with\n",
    "    | (true, true, Int(v), Int(w)) -> Int(v * w)\n",
    "    | (_,_,_,_) -> raise ( RuntimeError \"Wrong type\")\n",
    "\n",
    "(* Divisione fra interi *)\n",
    "let int_div(x, y) =\n",
    "    match(typecheck(TInt,x), typecheck(TInt,y), x, y) with\n",
    "    | (true, true, Int(v), Int(w)) -> \n",
    "                    if w<>0 then Int(v / w)\n",
    "                            else raise (RuntimeError \"Division by zero\")\n",
    "    | (_,_,_,_) -> raise ( RuntimeError \"Wrong type\")\n",
    "\n",
    "(* Operazioni di confronto *)\n",
    "let less_than(x, y) = \n",
    "    match (typecheck(TInt,x), typecheck(TInt,y), x, y) with\n",
    "    | (true, true, Int(v), Int(w)) -> Bool(v < w)\n",
    "    | (_,_,_,_) -> raise ( RuntimeError \"Wrong type\")\n",
    "\n",
    "let greater_than(x, y) = \n",
    "    match (typecheck(TInt,x), typecheck(TInt,y), x, y) with\n",
    "    | (true, true, Int(v), Int(w)) -> Bool(v > w)\n",
    "    | (_,_,_,_) -> raise ( RuntimeError \"Wrong type\")\n",
    "\n",
    "(* Operazioni logiche *)\n",
    "let bool_and(x,y) = \n",
    "    match (typecheck(TBool,x), typecheck(TBool,y), x, y) with\n",
    "    | (true, true, Bool(v), Bool(w)) -> Bool(v && w)\n",
    "    | (_,_,_,_) -> raise ( RuntimeError \"Wrong type\")\n",
    "\n",
    "let bool_or(x,y) = \n",
    "    match (typecheck(TBool,x), typecheck(TBool,y), x, y) with\n",
    "    | (true, true, Bool(v), Bool(w)) -> Bool(v || w)\n",
    "    | (_,_,_,_) -> raise ( RuntimeError \"Wrong type\")\n",
    "\n",
    "let bool_not(x) = \n",
    "    match (typecheck(TBool,x), x) with\n",
    "    | (true, Bool(v)) -> Bool(not(v))\n",
    "    | (_,_) -> raise ( RuntimeError \"Wrong type\")\n",
    "    \n",
    "(* Crea un nuovo record partendo da una lista di elementi. *)\n",
    "let build_record (l: (ide*evT) list) = \n",
    "    if check_distinct l then Record(l)   \n",
    "    else raise ( RuntimeError \"Duplicated values!\")\n",
    "\n",
    "\n",
    "(* Restituisce il contenuto di un campo di un record*)\n",
    "let get_field ((r, label): evT*ide) = \n",
    "    match (typecheck(TRecord,r), r) with\n",
    "    | true, Record(l) -> \n",
    "        (match List.assoc_opt label l with\n",
    "            |Some(v) -> v\n",
    "            |None -> raise (RuntimeError \"Non existent label\")\n",
    "          )\n",
    "    | _ -> raise ( RuntimeError \"Wrong type\")\n",
    "\n",
    "\n",
    "let insert_field ((r, label, v): evT*ide*evT) =\n",
    "   match (typecheck(TRecord,r), r) with\n",
    "    | true, Record(l) -> \n",
    "        Record(insert_element l (label, v))   \n",
    "    | _ -> raise ( RuntimeError \"Wrong type\")\n",
    "\n",
    "    "
   ]
  },
  {
   "cell_type": "markdown",
   "id": "17235680",
   "metadata": {},
   "source": [
    "### Interprete"
   ]
  },
  {
   "cell_type": "code",
   "execution_count": 15,
   "id": "d4b51bc8",
   "metadata": {},
   "outputs": [
    {
     "data": {
      "text/plain": [
       "val eval : exp -> evT env -> evT = <fun>\n"
      ]
     },
     "execution_count": 15,
     "metadata": {},
     "output_type": "execute_result"
    }
   ],
   "source": [
    "(* Interprete *)\n",
    "let rec eval (e:exp) (s:evT env) : evT = \n",
    "    match e with\n",
    "    | EInt(n) -> Int(n)\n",
    "    | CstTrue -> Bool(true)\n",
    "    | CstFalse -> Bool(false)\n",
    "    | EString(s) -> String(s)\n",
    "    | Den(i) -> (s i)\n",
    "\n",
    "    | Prod(e1,e2) -> int_times((eval e1 s), (eval e2 s))\n",
    "    | Sum(e1, e2) -> int_plus((eval e1 s), (eval e2 s))\n",
    "    | Diff(e1, e2) -> int_sub((eval e1 s), (eval e2 s))\n",
    "    | Div(e1, e2) -> int_div((eval e1 s), (eval e2 s))\n",
    "\n",
    "    | IsZero(e1) -> is_zero (eval e1 s)\n",
    "    | Eq(e1, e2) -> int_eq((eval e1 s), (eval e2 s))\n",
    "    | LessThan(e1, e2) -> less_than((eval e1 s),(eval e2 s))\n",
    "    | GreaterThan(e1, e2) -> greater_than((eval e1 s),(eval e2 s))\n",
    "\n",
    "    | And(e1, e2) -> bool_and((eval e1 s),(eval e2 s))\n",
    "    | Or(e1, e2) -> bool_or((eval e1 s),(eval e2 s))\n",
    "    | Not(e1) -> bool_not(eval e1 s)\n",
    "\n",
    "    | IfThenElse(e1,e2,e3) -> \n",
    "        let g = eval e1 s in \n",
    "            (match (typecheck(TBool,g),g) with\n",
    "            |(true, Bool(true)) -> eval e2 s\n",
    "            |(true, Bool(false)) -> eval e3 s\n",
    "            |(_,_) -> raise ( RuntimeError \"Wrong type\")\n",
    "            )\n",
    "    | Let(i, e, ebody) -> eval ebody (bind s i (eval e s))\n",
    "    | Fun(arg, ebody) -> Closure(arg,ebody,s)\n",
    "    | Letrec(f, arg, fBody, leBody) ->\n",
    "        let benv = bind (s) (f) (RecClosure(f, arg, fBody,s)) in\n",
    "            eval leBody benv\n",
    "    | Apply(eF, eArg) ->\n",
    "        let fclosure = eval eF s in \n",
    "            (match fclosure with \n",
    "            | Closure(arg, fbody, fDecEnv) -> \n",
    "                let aVal = eval eArg s in \n",
    "                let aenv = bind fDecEnv arg aVal in \n",
    "                eval fbody aenv \n",
    "            | RecClosure(f, arg, fbody, fDecEnv) -> \n",
    "                let aVal = eval eArg s in\n",
    "                let rEnv = bind fDecEnv f fclosure in\n",
    "                let aenv = bind rEnv arg aVal in \n",
    "                eval fbody aenv\n",
    "            | _ -> raise ( RuntimeError \"Wrong type\")\n",
    "            )\n",
    "    (*La funzione di eval deve, come sempre, valutare ricorsivamente\n",
    "      le sottoespressioni di e, per poi restituire la valutazione di \n",
    "      e intera, spesso combinando i valori delle sottoespressioni con \n",
    "      una primitiva*)\n",
    "    | Project(e, l) -> \n",
    "        let r = eval e s in\n",
    "        get_field(r, l)\n",
    "    | With(e1, label, e2) -> \n",
    "        let v1 = eval e1 s in\n",
    "        let v2 = eval e2 s in\n",
    "        insert_field(v1, label, v2)\n",
    "    (* Nel caso di buildRecord, non ci sono solo 1 o 2 sottoalberi, \n",
    "      ma una lista non limitata di sottoalberi (per la precisione, \n",
    "      una lista non limitata di coppie ide*exp). Dobbiamo valutare\n",
    "      singolarmente ogni exp nella lista, e ottenere una lista di\n",
    "      coppie ide*evT. Questo è quindi un tipico caso d'uso della \n",
    "      funzione List.map, che processa ogni elemento di una lista\n",
    "      in maniera indipendente dagli altri, e restituisce la lista\n",
    "      dei risultati.*)\n",
    "    | BuildRecord label_exp_list -> \n",
    "        let f (label, e) = (label, eval e s) in\n",
    "        let label_value_list = List.map f label_exp_list in\n",
    "        build_record label_value_list"
   ]
  },
  {
   "cell_type": "markdown",
   "id": "3cb7a1f8",
   "metadata": {},
   "source": [
    "Esempio:"
   ]
  },
  {
   "cell_type": "code",
   "execution_count": 16,
   "id": "d3908293",
   "metadata": {},
   "outputs": [
    {
     "data": {
      "text/plain": [
       "val e1 : exp =\n",
       "  BuildRecord\n",
       "   [(\"id\", Prod (EInt 123, EInt 10)); (\"name\", EString \"Gabriele\")]\n"
      ]
     },
     "execution_count": 16,
     "metadata": {},
     "output_type": "execute_result"
    },
    {
     "data": {
      "text/plain": [
       "val e2 : exp = With (Den \"r\", \"surname\", EString \"Tedeschi\")\n"
      ]
     },
     "execution_count": 16,
     "metadata": {},
     "output_type": "execute_result"
    },
    {
     "data": {
      "text/plain": [
       "val e3 : exp = With (Den \"r2\", \"id\", EInt 456)\n"
      ]
     },
     "execution_count": 16,
     "metadata": {},
     "output_type": "execute_result"
    },
    {
     "data": {
      "text/plain": [
       "val e4 : exp =\n",
       "  Let (\"r2\", With (Den \"r\", \"surname\", EString \"Tedeschi\"),\n",
       "   With (Den \"r2\", \"id\", EInt 456))\n"
      ]
     },
     "execution_count": 16,
     "metadata": {},
     "output_type": "execute_result"
    },
    {
     "data": {
      "text/plain": [
       "val e5 : exp =\n",
       "  Let (\"r\",\n",
       "   BuildRecord\n",
       "    [(\"id\", Prod (EInt 123, EInt 10)); (\"name\", EString \"Gabriele\")],\n",
       "   Let (\"r2\", With (Den \"r\", \"surname\", EString \"Tedeschi\"),\n",
       "    With (Den \"r2\", \"id\", EInt 456)))\n"
      ]
     },
     "execution_count": 16,
     "metadata": {},
     "output_type": "execute_result"
    },
    {
     "data": {
      "text/plain": [
       "- : evT =\n",
       "Record\n",
       " [(\"id\", Int 456); (\"name\", String \"Gabriele\");\n",
       "  (\"surname\", String \"Tedeschi\")]\n"
      ]
     },
     "execution_count": 16,
     "metadata": {},
     "output_type": "execute_result"
    }
   ],
   "source": [
    "let e1 = BuildRecord([(\"id\", Prod(EInt(123), EInt(10))); (\"name\", EString(\"Gabriele\"))]);;\n",
    "let e2 = With(Den(\"r\"), \"surname\", EString(\"Tedeschi\"));;\n",
    "let e3 = With(Den(\"r2\"), \"id\", EInt(456));;\n",
    "let e4 = Let(\"r2\", e2, e3);;\n",
    "let e5 = Let(\"r\", e1, e4);;\n",
    "(*let r = {id=123*10, name=\"Gabriele\"} in\n",
    "  let r2 = r with surname=\"Tedeschi\" in\n",
    "  r2 with id=456 *)\n",
    "\n",
    "eval e5 emptyenv;;"
   ]
  }
 ],
 "metadata": {
  "kernelspec": {
   "display_name": "OCaml default",
   "language": "OCaml",
   "name": "ocaml-jupyter"
  },
  "language_info": {
   "codemirror_mode": "text/x-ocaml",
   "file_extension": ".ml",
   "mimetype": "text/x-ocaml",
   "name": "OCaml",
   "nbconverter_exporter": null,
   "pygments_lexer": "OCaml",
   "version": "4.08.1"
  },
  "rise": {
   "enable_chalkboard": true,
   "scroll": true
  }
 },
 "nbformat": 4,
 "nbformat_minor": 5
}
