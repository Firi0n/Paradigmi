{
 "cells": [
  {
   "cell_type": "markdown",
   "id": "93c1c733",
   "metadata": {},
   "source": [
    "# Linguaggio pixel\n",
    "\n",
    "Si consideri il nucleo di un semplice linguaggio di programmazione funzionale, la cui sintassi è descritta da\n",
    "\n",
    "_Pixel_ $p ::= \\langle r, g, b \\rangle \\text{ dove } r, g, b \\in \\{0, 1, . . . , 255\\}$\n",
    "\n",
    "_Identificatori_ $I ::= \\dots$\n",
    "\n",
    "_Espressioni_ $e ::= I | p | \\text{lighten } e | \\text{darken } e | \\text{let } I = e_1 \\text{ in } e_2$\n",
    "\n",
    "Intuitivamente, un pixel è un tipo di dato che contiene tre valori interi compresi tra 0 e 255 (il primo valore codifica red, il secondo green e il terzo blue).\n",
    "L'espressione `lighten` produce come risultato un pixel dove ogni componente del pixel passato come argomento viene incrementato di 1. L'incremento del valore 255 produce 255. L'espressione `darken` produce come risultato un pixel dove ogni componente del pixel passato come argomento viene diminuito di 1. Il decremento del valore 0 produce 0.\n",
    "\n",
    "Si definisca l’interprete del linguaggio utilizzando OCaml come linguaggio di implementazione."
   ]
  },
  {
   "cell_type": "markdown",
   "id": "03b0490e",
   "metadata": {},
   "source": [
    "### Tipi e sintassi"
   ]
  },
  {
   "cell_type": "code",
   "execution_count": 1,
   "id": "dac27793",
   "metadata": {},
   "outputs": [
    {
     "data": {
      "text/plain": [
       "type pixel = int * int * int\n"
      ]
     },
     "execution_count": 1,
     "metadata": {},
     "output_type": "execute_result"
    },
    {
     "data": {
      "text/plain": [
       "val getr : 'a * 'b * 'c -> 'a = <fun>\n"
      ]
     },
     "execution_count": 1,
     "metadata": {},
     "output_type": "execute_result"
    },
    {
     "data": {
      "text/plain": [
       "val getg : 'a * 'b * 'c -> 'b = <fun>\n"
      ]
     },
     "execution_count": 1,
     "metadata": {},
     "output_type": "execute_result"
    },
    {
     "data": {
      "text/plain": [
       "val getb : 'a * 'b * 'c -> 'c = <fun>\n"
      ]
     },
     "execution_count": 1,
     "metadata": {},
     "output_type": "execute_result"
    },
    {
     "data": {
      "text/plain": [
       "val checkPixel : pixel -> bool = <fun>\n"
      ]
     },
     "execution_count": 1,
     "metadata": {},
     "output_type": "execute_result"
    }
   ],
   "source": [
    "type pixel = int * int * int;;\n",
    "\n",
    "let getr (r, _, _) = r;;\n",
    "let getg (_, g, _) = g;;\n",
    "let getb (_, _, b) = b;;\n",
    "\n",
    "let checkPixel ((r, g, b): pixel) = 0 <= r && r < 256 && 0 <= g && g < 256 && 0 <= b && b < 256;;"
   ]
  },
  {
   "cell_type": "code",
   "execution_count": 2,
   "id": "0796bc53",
   "metadata": {},
   "outputs": [
    {
     "data": {
      "text/plain": [
       "type tname = TPixel | TUnbound\n"
      ]
     },
     "execution_count": 2,
     "metadata": {},
     "output_type": "execute_result"
    },
    {
     "data": {
      "text/plain": [
       "type ide = string\n"
      ]
     },
     "execution_count": 2,
     "metadata": {},
     "output_type": "execute_result"
    },
    {
     "data": {
      "text/plain": [
       "type expr =\n",
       "    Ide of ide\n",
       "  | P of pixel\n",
       "  | Lighten of expr\n",
       "  | Darken of expr\n",
       "  | Let of ide * expr * expr\n"
      ]
     },
     "execution_count": 2,
     "metadata": {},
     "output_type": "execute_result"
    }
   ],
   "source": [
    "type tname = TPixel | TUnbound;;\n",
    "\n",
    "type ide = string;;\n",
    "\n",
    "type expr =\n",
    "  | Ide of ide\n",
    "  | P of pixel\n",
    "  | Lighten of expr\n",
    "  | Darken of expr\n",
    "  | Let of ide * expr * expr;;"
   ]
  },
  {
   "cell_type": "markdown",
   "id": "7c6e231f",
   "metadata": {},
   "source": [
    "### Valori esprimibili e type checking"
   ]
  },
  {
   "cell_type": "code",
   "execution_count": 3,
   "id": "2cf1931f",
   "metadata": {},
   "outputs": [
    {
     "data": {
      "text/plain": [
       "type evT = Pixel of pixel | Unbound\n"
      ]
     },
     "execution_count": 3,
     "metadata": {},
     "output_type": "execute_result"
    },
    {
     "data": {
      "text/plain": [
       "val typecheck : tname -> evT -> bool = <fun>\n"
      ]
     },
     "execution_count": 3,
     "metadata": {},
     "output_type": "execute_result"
    }
   ],
   "source": [
    "type evT =\n",
    "  | Pixel of pixel\n",
    "  | Unbound;;\n",
    "\n",
    "let typecheck (t: tname) (v: evT): bool =\n",
    "  match t, v with\n",
    "    | TPixel, Pixel(p) -> checkPixel p\n",
    "    | TUnbound, Unbound -> true\n",
    "    | _, _ -> false;;"
   ]
  },
  {
   "cell_type": "markdown",
   "id": "983936d2",
   "metadata": {},
   "source": [
    "### Interprete"
   ]
  },
  {
   "cell_type": "code",
   "execution_count": 4,
   "id": "849aebf4",
   "metadata": {},
   "outputs": [
    {
     "data": {
      "text/plain": [
       "type env = ide -> evT\n"
      ]
     },
     "execution_count": 4,
     "metadata": {},
     "output_type": "execute_result"
    },
    {
     "data": {
      "text/plain": [
       "val emptyenv : env = <fun>\n"
      ]
     },
     "execution_count": 4,
     "metadata": {},
     "output_type": "execute_result"
    },
    {
     "data": {
      "text/plain": [
       "val bind : env -> ide -> evT -> env = <fun>\n"
      ]
     },
     "execution_count": 4,
     "metadata": {},
     "output_type": "execute_result"
    }
   ],
   "source": [
    "type env = ide -> evT;;\n",
    "\n",
    "let emptyenv: env = fun x -> Unbound;;\n",
    "\n",
    "(* Estende l'ambiente s, aggiungendo il legame dell'identificatore x al valore v,\n",
    " * eventualmente nascondendo un legame precedente.\n",
    " *)\n",
    "let bind (s: env) (x: ide) (v: evT): env = fun i -> if i = x then v else s i;;"
   ]
  },
  {
   "cell_type": "code",
   "execution_count": 5,
   "id": "fe45b38e",
   "metadata": {},
   "outputs": [
    {
     "data": {
      "text/plain": [
       "val incrChannel : int -> int = <fun>\n"
      ]
     },
     "execution_count": 5,
     "metadata": {},
     "output_type": "execute_result"
    },
    {
     "data": {
      "text/plain": [
       "val decrChannel : int -> int = <fun>\n"
      ]
     },
     "execution_count": 5,
     "metadata": {},
     "output_type": "execute_result"
    },
    {
     "data": {
      "text/plain": [
       "exception Err of string\n"
      ]
     },
     "execution_count": 5,
     "metadata": {},
     "output_type": "execute_result"
    },
    {
     "data": {
      "text/plain": [
       "val eval : expr -> env -> evT = <fun>\n"
      ]
     },
     "execution_count": 5,
     "metadata": {},
     "output_type": "execute_result"
    }
   ],
   "source": [
    "let incrChannel n = if n = 255 then 255 else n + 1;;\n",
    "\n",
    "let decrChannel n = if n = 0 then 0 else n - 1;;\n",
    "\n",
    "exception Err of string\n",
    "\n",
    "let rec eval (e: expr) (s: env): evT =\n",
    "  match e with\n",
    "    | Ide(x) -> s x\n",
    "    | P(p) -> if checkPixel p then Pixel(p) else raise (Err \"errore: non è un pixel\")\n",
    "    | Lighten(e) ->\n",
    "      let res = eval e s in\n",
    "        if typecheck TPixel res then\n",
    "          match res with\n",
    "            | Pixel(p) -> Pixel (incrChannel (getr p), incrChannel (getg p), incrChannel (getb p))\n",
    "            | _ -> raise (Err \"il typecheck è buggato\")\n",
    "        else\n",
    "          raise (Err \"errore: non è un pixel\")\n",
    "    | Darken(e) ->\n",
    "      let res = eval e s in\n",
    "        if typecheck TPixel res then\n",
    "          match res with\n",
    "            | Pixel(p) -> Pixel (decrChannel (getr p), decrChannel (getg p), decrChannel (getb p))\n",
    "            | _ -> raise (Err \"il typecheck è buggato\")\n",
    "        else\n",
    "          raise (Err \"errore: non è un pixel\")\n",
    "    | Let(x, e1, e2) -> eval e2 (bind s x (eval e1 s));;"
   ]
  },
  {
   "cell_type": "code",
   "execution_count": 6,
   "id": "9b37f490",
   "metadata": {},
   "outputs": [
    {
     "data": {
      "text/plain": [
       "- : evT = Pixel (11, 152, 255)\n"
      ]
     },
     "execution_count": 6,
     "metadata": {},
     "output_type": "execute_result"
    }
   ],
   "source": [
    "eval (Lighten (P (10, 151, 255))) emptyenv;;"
   ]
  },
  {
   "cell_type": "markdown",
   "id": "29ed505d",
   "metadata": {},
   "source": [
    "## Funzioni\n",
    "\n",
    "Estendiamo il linguaggio con la possibilità di definire funzioni unarie e non ricorsive:\n",
    "\n",
    "_Espressioni_ $e ::= \\dots | \\text{fun } I\\, e | \\text{apply } e_1 e_2$"
   ]
  },
  {
   "cell_type": "code",
   "execution_count": 7,
   "id": "675c94ee",
   "metadata": {},
   "outputs": [
    {
     "data": {
      "text/plain": [
       "type tname = TPixel | TClosure | TUnbound\n"
      ]
     },
     "execution_count": 7,
     "metadata": {},
     "output_type": "execute_result"
    },
    {
     "data": {
      "text/plain": [
       "type ide = string\n"
      ]
     },
     "execution_count": 7,
     "metadata": {},
     "output_type": "execute_result"
    },
    {
     "data": {
      "text/plain": [
       "type expr =\n",
       "    Ide of ide\n",
       "  | P of pixel\n",
       "  | Lighten of expr\n",
       "  | Darken of expr\n",
       "  | Let of ide * expr * expr\n",
       "  | Fun of ide * expr\n",
       "  | Apply of expr * expr\n"
      ]
     },
     "execution_count": 7,
     "metadata": {},
     "output_type": "execute_result"
    }
   ],
   "source": [
    "type tname = TPixel | TClosure | TUnbound;;\n",
    "\n",
    "type ide = string;;\n",
    "\n",
    "type expr =\n",
    "  | Ide of ide\n",
    "  | P of pixel\n",
    "  | Lighten of expr\n",
    "  | Darken of expr\n",
    "  | Let of ide * expr * expr\n",
    "  | Fun of ide * expr\n",
    "  | Apply of expr * expr;;"
   ]
  },
  {
   "cell_type": "code",
   "execution_count": 8,
   "id": "ed4aaf95",
   "metadata": {},
   "outputs": [
    {
     "data": {
      "text/plain": [
       "type evT = Pixel of pixel | Closure of ide * expr * env | Unbound\n",
       "and env = ide -> evT\n"
      ]
     },
     "execution_count": 8,
     "metadata": {},
     "output_type": "execute_result"
    },
    {
     "data": {
      "text/plain": [
       "val typecheck : tname -> evT -> bool = <fun>\n"
      ]
     },
     "execution_count": 8,
     "metadata": {},
     "output_type": "execute_result"
    }
   ],
   "source": [
    "type evT =\n",
    "  | Pixel of pixel\n",
    "  | Closure of ide * expr * env\n",
    "  | Unbound\n",
    "and\n",
    "  env = ide -> evT;;\n",
    "\n",
    "let typecheck (t: tname) (v: evT): bool =\n",
    "  match t, v with\n",
    "    | TPixel, Pixel(p) -> checkPixel p\n",
    "    | TUnbound, Unbound -> true\n",
    "    | TClosure, Closure(_, _, _) -> true\n",
    "    | _, _ -> false;;"
   ]
  },
  {
   "cell_type": "code",
   "execution_count": 9,
   "id": "3db8adba",
   "metadata": {},
   "outputs": [
    {
     "data": {
      "text/plain": [
       "val emptyenv : env = <fun>\n"
      ]
     },
     "execution_count": 9,
     "metadata": {},
     "output_type": "execute_result"
    },
    {
     "data": {
      "text/plain": [
       "val bind : env -> ide -> evT -> env = <fun>\n"
      ]
     },
     "execution_count": 9,
     "metadata": {},
     "output_type": "execute_result"
    }
   ],
   "source": [
    "let emptyenv: env = fun x -> Unbound;;\n",
    "\n",
    "(* Estende l'ambiente s, aggiungendo il legame dell'identificatore x al valore v,\n",
    " * eventualmente nascondendo un legame precedente.\n",
    " *)\n",
    "let bind (s: env) (x: ide) (v: evT): env = fun i -> if i = x then v else s i;;"
   ]
  },
  {
   "cell_type": "code",
   "execution_count": 10,
   "id": "2a9dd25a",
   "metadata": {},
   "outputs": [
    {
     "data": {
      "text/plain": [
       "val incrChannel : int -> int = <fun>\n"
      ]
     },
     "execution_count": 10,
     "metadata": {},
     "output_type": "execute_result"
    },
    {
     "data": {
      "text/plain": [
       "val decrChannel : int -> int = <fun>\n"
      ]
     },
     "execution_count": 10,
     "metadata": {},
     "output_type": "execute_result"
    },
    {
     "data": {
      "text/plain": [
       "exception Err of string\n"
      ]
     },
     "execution_count": 10,
     "metadata": {},
     "output_type": "execute_result"
    },
    {
     "data": {
      "text/plain": [
       "val eval : expr -> env -> evT = <fun>\n"
      ]
     },
     "execution_count": 10,
     "metadata": {},
     "output_type": "execute_result"
    }
   ],
   "source": [
    "let incrChannel n = if n = 255 then 255 else n + 1;;\n",
    "\n",
    "let decrChannel n = if n = 0 then 0 else n - 1;;\n",
    "\n",
    "exception Err of string\n",
    "\n",
    "let rec eval (e: expr) (s: env): evT =\n",
    "  match e with\n",
    "    | Ide(x) -> s x\n",
    "    | P(p) -> if checkPixel p then Pixel(p) else raise (Err \"errore: non è un pixel\")\n",
    "    | Lighten(e) ->\n",
    "      let res = eval e s in\n",
    "        if typecheck TPixel res then\n",
    "          match res with\n",
    "            | Pixel(p) -> Pixel (incrChannel (getr p), incrChannel (getg p), incrChannel (getb p))\n",
    "            | _ -> raise (Err \"il typecheck è buggato\")\n",
    "        else\n",
    "          raise (Err \"errore: non è un pixel\")\n",
    "    | Darken(e) ->\n",
    "      let res = eval e s in\n",
    "        if typecheck TPixel res then\n",
    "          match res with\n",
    "            | Pixel(p) -> Pixel (decrChannel (getr p), decrChannel (getg p), decrChannel (getb p))\n",
    "            | _ -> raise (Err \"il typecheck è buggato\")\n",
    "        else\n",
    "          raise (Err \"errore: non è un pixel\")\n",
    "    | Let(x, e1, e2) -> eval e2 (bind s x (eval e1 s))\n",
    "    (* Definizione di funzione *)\n",
    "    | Fun(x, e) -> Closure(x, e, s)\n",
    "    (* Applicazione di funzione *)\n",
    "    | Apply(e1, e2) ->\n",
    "      let f = eval e1 s in\n",
    "        if typecheck TClosure f then\n",
    "          match f with\n",
    "            | Closure(formalArg, body, closureEnv) ->\n",
    "              let actualArg = eval e2 s in\n",
    "                let snew = bind closureEnv formalArg actualArg in\n",
    "                  eval body snew\n",
    "            | _ -> raise (Err \"il typecheck è buggato\")\n",
    "        else\n",
    "          raise (Err \"errore: non è una funzione\");;"
   ]
  },
  {
   "cell_type": "code",
   "execution_count": 11,
   "id": "926024af",
   "metadata": {},
   "outputs": [
    {
     "data": {
      "text/plain": [
       "val myexpr : expr = Fun (\"x\", Lighten (Ide \"x\"))\n"
      ]
     },
     "execution_count": 11,
     "metadata": {},
     "output_type": "execute_result"
    },
    {
     "data": {
      "text/plain": [
       "- : evT = Pixel (1, 1, 1)\n"
      ]
     },
     "execution_count": 11,
     "metadata": {},
     "output_type": "execute_result"
    },
    {
     "data": {
      "text/plain": [
       "- : evT = Pixel (11, 21, 31)\n"
      ]
     },
     "execution_count": 11,
     "metadata": {},
     "output_type": "execute_result"
    }
   ],
   "source": [
    "let myexpr = Fun (\"x\", Lighten (Ide \"x\"));;\n",
    "(*\n",
    "let f = fun x -> lighten x in\n",
    "  f (Pixel <0, 0, 0>)\n",
    "*)\n",
    "eval (Let(\"f\", myexpr, Apply(Ide \"f\", P (0, 0, 0)))) emptyenv;;\n",
    "\n",
    "(*\n",
    "(fun x -> lighten x) (Pixel <10, 20, 30>)\n",
    "*)\n",
    "eval (Apply(myexpr, P (10, 20, 30))) emptyenv;;"
   ]
  }
 ],
 "metadata": {
  "kernelspec": {
   "display_name": "OCaml default",
   "language": "OCaml",
   "name": "ocaml-jupyter"
  },
  "language_info": {
   "codemirror_mode": "text/x-ocaml",
   "file_extension": ".ml",
   "mimetype": "text/x-ocaml",
   "name": "OCaml",
   "nbconverter_exporter": null,
   "pygments_lexer": "OCaml",
   "version": "4.08.1"
  }
 },
 "nbformat": 4,
 "nbformat_minor": 5
}
