{
 "cells": [
  {
   "cell_type": "markdown",
   "id": "f412b417",
   "metadata": {},
   "source": [
    "## MiniCaml con liste\n",
    "\n",
    "Vogliamo estendere l'interprete di MiniCaml per implementare le **liste**, che si comportano come quelle di OCaml."
   ]
  },
  {
   "cell_type": "markdown",
   "id": "2e1aa06c",
   "metadata": {},
   "source": [
    "### Es 1: Albero della sintassi astratta\n",
    "\n",
    "Estendere l'AST di MiniCaml con un **nuovo tipo** e le seguenti **nuove espressioni**:\n",
    "1. Espressione per **costruire liste** (composte unicamente con interi, booleani e stringhe):\n",
    "    - la lista vuota (di un certo tipo) \n",
    "    \n",
    "    __NOTA:__ Ogni lista, anche se vuota, mantiene sempre l'informazione sul tipo di elementi che può contenere. Quindi le espressioni `[int:]` e `[string:]` dovranno essere di tipi diversi...\n",
    "\n",
    "\n",
    "2. Alcuni **operatori unari** su liste:\n",
    "    - `cons`, che aggiunga un elemento in testa\n",
    "    - `is_empty`, che controlla se la lista è vuota\n",
    "    - `head` e `tail`\n",
    "\n",
    "\n",
    "3. **Operatori fra liste**:\n",
    "    - `append`, che concateni due liste"
   ]
  },
  {
   "cell_type": "code",
   "execution_count": 2,
   "id": "91c7737b",
   "metadata": {},
   "outputs": [
    {
     "data": {
      "text/plain": [
       "type ide = string\n"
      ]
     },
     "execution_count": 2,
     "metadata": {},
     "output_type": "execute_result"
    },
    {
     "data": {
      "text/plain": [
       "type tname =\n",
       "    TInt\n",
       "  | TBool\n",
       "  | TString\n",
       "  | TClosure\n",
       "  | TRecClosure\n",
       "  | TUnBound\n",
       "  | TList of tname\n"
      ]
     },
     "execution_count": 2,
     "metadata": {},
     "output_type": "execute_result"
    },
    {
     "data": {
      "text/plain": [
       "type exp =\n",
       "    EInt of int\n",
       "  | CstTrue\n",
       "  | CstFalse\n",
       "  | EString of string\n",
       "  | Den of ide\n",
       "  | Sum of exp * exp\n",
       "  | Diff of exp * exp\n",
       "  | Prod of exp * exp\n",
       "  | Div of exp * exp\n",
       "  | IsZero of exp\n",
       "  | Eq of exp * exp\n",
       "  | LessThan of exp * exp\n",
       "  | GreaterThan of exp * exp\n",
       "  | And of exp * exp\n",
       "  | Or of exp * exp\n",
       "  | Not of exp\n",
       "  | IfThenElse of exp * exp * exp\n",
       "  | Let of ide * exp * exp\n",
       "  | Letrec of ide * ide * exp * exp\n",
       "  | Fun of ide * exp\n",
       "  | Apply of exp * exp\n",
       "  | EmptyList of tname\n",
       "  | Cons of exp * exp\n",
       "  | IsEmpty of exp\n",
       "  | Head of exp\n",
       "  | Tail of exp\n",
       "  | Append of exp * exp\n"
      ]
     },
     "execution_count": 2,
     "metadata": {},
     "output_type": "execute_result"
    }
   ],
   "source": [
    "(* Identificatori *)\n",
    "type ide = string;;\n",
    "\n",
    "(* I tipi *)\n",
    "type tname =  TInt | TBool | TString | TClosure | TRecClosure | TUnBound | TList of tname;;\n",
    "\n",
    "(* Abstract Expressions = espressioni nella sintassi astratta, \n",
    "   compongono l'Albero di Sintassi Astratta *)\n",
    "type exp = \n",
    "    | EInt of int\n",
    "    | CstTrue \n",
    "    | CstFalse\n",
    "    | EString of string\n",
    "    | Den of ide\n",
    "    (* Operatori binari da interi a interi*)\n",
    "    | Sum of exp * exp\n",
    "    | Diff of exp * exp\n",
    "    | Prod of exp * exp\n",
    "    | Div of exp * exp\n",
    "    (* Operatori da interi a booleani *)\n",
    "    | IsZero of exp\n",
    "    | Eq of exp * exp\n",
    "    | LessThan of exp*exp\n",
    "    | GreaterThan of exp*exp\n",
    "    (* Operatori su booleani *)\n",
    "    | And of exp*exp\n",
    "    | Or of exp*exp\n",
    "    | Not of exp\n",
    "    (* Controllo del flusso, funzioni *)\n",
    "    | IfThenElse of exp * exp * exp\n",
    "    | Let of ide * exp * exp\n",
    "    | Letrec of ide * ide  * exp * exp\n",
    "    | Fun of ide * exp\n",
    "    | Apply of exp * exp\n",
    "    (* Espressioni delle liste *)\n",
    "    | EmptyList of tname\n",
    "    | Cons of exp * exp\n",
    "    | IsEmpty of exp\n",
    "    | Head of exp\n",
    "    | Tail of exp\n",
    "    | Append of exp * exp"
   ]
  },
  {
   "cell_type": "markdown",
   "id": "a534b11a",
   "metadata": {},
   "source": [
    "### Es 2: Valori esprimibili\n",
    "\n",
    "Estendere i valori esprimibili e la funzione `getType` per comprendere anche i valori liste."
   ]
  },
  {
   "cell_type": "code",
   "execution_count": 3,
   "id": "7a64590d",
   "metadata": {},
   "outputs": [
    {
     "data": {
      "text/plain": [
       "type 't env = ide -> 't\n"
      ]
     },
     "execution_count": 3,
     "metadata": {},
     "output_type": "execute_result"
    },
    {
     "data": {
      "text/plain": [
       "type evT =\n",
       "    Int of int\n",
       "  | Bool of bool\n",
       "  | String of string\n",
       "  | Closure of ide * exp * evT env\n",
       "  | RecClosure of ide * ide * exp * evT env\n",
       "  | UnBound\n",
       "  | MiniList of tname * evT list\n"
      ]
     },
     "execution_count": 3,
     "metadata": {},
     "output_type": "execute_result"
    },
    {
     "data": {
      "text/plain": [
       "val emptyenv : 'a -> evT = <fun>\n"
      ]
     },
     "execution_count": 3,
     "metadata": {},
     "output_type": "execute_result"
    },
    {
     "data": {
      "text/plain": [
       "val bind : evT env -> ide -> evT -> ide -> evT = <fun>\n"
      ]
     },
     "execution_count": 3,
     "metadata": {},
     "output_type": "execute_result"
    },
    {
     "data": {
      "text/plain": [
       "val getType : evT -> tname = <fun>\n"
      ]
     },
     "execution_count": 3,
     "metadata": {},
     "output_type": "execute_result"
    }
   ],
   "source": [
    "(* Ambiente polimorfo *)\n",
    "type 't env = ide -> 't\n",
    "\n",
    "(* Evaluation types = tipi  esprimibili *)\n",
    "type evT = \n",
    "    | Int of int\n",
    "    | Bool of bool \n",
    "    | String of string \n",
    "    | Closure of ide * exp * evT env \n",
    "    | RecClosure of ide * ide * exp * evT env\n",
    "    | UnBound\n",
    "    (* Nuovo valore lista *)\n",
    "    | MiniList of tname * evT list\n",
    "\n",
    "(* Ambiente vuoto *)\n",
    "let emptyenv = function x -> UnBound\n",
    "\n",
    "(* Binding fra una stringa x e un valore primitivo evT *)\n",
    "let bind (s: evT env) (x: ide) (v: evT) = \n",
    "    function (i: ide) -> if (i = x) then v else (s i)\n",
    "\n",
    "(* Funzione da evT a tname che associa a ogni valore il suo descrittore di tipo  *)\n",
    "let getType (x: evT) : tname =\n",
    "    match x with\n",
    "    | Int(n) -> TInt\n",
    "    | Bool(b) -> TBool\n",
    "    | String(s) -> TString\n",
    "    | Closure(i,e,en) -> TClosure\n",
    "    | RecClosure(i,j,e,en) -> TRecClosure\n",
    "    | UnBound -> TUnBound\n",
    "    (* Nuovo tipo lista *)\n",
    "    | MiniList(t, _) -> TList t"
   ]
  },
  {
   "cell_type": "markdown",
   "id": "bb6fded4",
   "metadata": {},
   "source": [
    "### Es 3: Typechecking\n",
    "\n",
    "Estendere la funzione di typechecking in maniera tale che `typecheck(TList, v)` restituisca `true` se e solo se `v` è un valore di tipo `TList`, cioè è una lista di valori, e tutti gli elementi contenuti in `v` sono del tipo adeguato."
   ]
  },
  {
   "cell_type": "code",
   "execution_count": 4,
   "id": "a1dcc931",
   "metadata": {},
   "outputs": [
    {
     "data": {
      "text/plain": [
       "val typecheck : tname * evT -> bool = <fun>\n"
      ]
     },
     "execution_count": 4,
     "metadata": {},
     "output_type": "execute_result"
    }
   ],
   "source": [
    "(* Type-checking: true iff v has type t *)\n",
    "let rec typecheck ((t, v) : (tname * evT)) =\n",
    "    match t with\n",
    "    | TInt -> (match v with \n",
    "               | Int(_) -> true\n",
    "               | _ -> false\n",
    "               )\n",
    "    | TBool -> (match v with \n",
    "                | Bool(_) -> true\n",
    "                | _ -> false\n",
    "                )\n",
    "    | TString -> (match v with\n",
    "                 | String(_) -> true\n",
    "                 | _ -> false\n",
    "                 )\n",
    "    | TClosure -> (match v with\n",
    "                   | Closure(i,e,n) -> true\n",
    "                   | _ -> false\n",
    "                   )\n",
    "    | TRecClosure -> (match v with\n",
    "                     | RecClosure(i,j,e,n) -> true\n",
    "                     | _ -> false\n",
    "                     )\n",
    "    |TUnBound -> (match v with\n",
    "                 | UnBound -> true\n",
    "                 | _ -> false\n",
    "                 )\n",
    "    | TList(u) -> (match v with\n",
    "                  | MiniList(u', vals) ->\n",
    "                      if u <> u' || u' = TUnBound then false else\n",
    "                          List.for_all (fun v -> typecheck (u, v)) vals\n",
    "                  | _ -> false\n",
    "                  );;"
   ]
  },
  {
   "cell_type": "code",
   "execution_count": 5,
   "id": "fe9ccd43",
   "metadata": {},
   "outputs": [
    {
     "data": {
      "text/plain": [
       "val listaVal : evT = MiniList (TInt, [Int 3; Int 5; Bool true])\n"
      ]
     },
     "execution_count": 5,
     "metadata": {},
     "output_type": "execute_result"
    },
    {
     "data": {
      "text/plain": [
       "- : bool = false\n"
      ]
     },
     "execution_count": 5,
     "metadata": {},
     "output_type": "execute_result"
    },
    {
     "data": {
      "text/plain": [
       "val lista2 : evT = MiniList (TUnBound, [UnBound])\n"
      ]
     },
     "execution_count": 5,
     "metadata": {},
     "output_type": "execute_result"
    },
    {
     "data": {
      "text/plain": [
       "- : bool = false\n"
      ]
     },
     "execution_count": 5,
     "metadata": {},
     "output_type": "execute_result"
    }
   ],
   "source": [
    "let listaVal = MiniList (TInt, [Int(3); Int(5); Bool(true)]);;\n",
    "typecheck (TList(TInt), listaVal);;\n",
    "\n",
    "let lista2 = MiniList (TUnBound, [UnBound]);;\n",
    "typecheck (TList(TUnBound), lista2);;"
   ]
  },
  {
   "cell_type": "markdown",
   "id": "ed6c716f",
   "metadata": {},
   "source": [
    "### Es 4: Primitive\n",
    "\n",
    "Implementare le primitive per le liste"
   ]
  },
  {
   "cell_type": "code",
   "execution_count": 6,
   "id": "a5cf68ba",
   "metadata": {},
   "outputs": [
    {
     "data": {
      "text/plain": [
       "exception RuntimeError of string\n"
      ]
     },
     "execution_count": 6,
     "metadata": {},
     "output_type": "execute_result"
    },
    {
     "data": {
      "text/plain": [
       "val is_zero : evT -> evT = <fun>\n"
      ]
     },
     "execution_count": 6,
     "metadata": {},
     "output_type": "execute_result"
    },
    {
     "data": {
      "text/plain": [
       "val int_eq : evT * evT -> evT = <fun>\n"
      ]
     },
     "execution_count": 6,
     "metadata": {},
     "output_type": "execute_result"
    },
    {
     "data": {
      "text/plain": [
       "val int_plus : evT * evT -> evT = <fun>\n"
      ]
     },
     "execution_count": 6,
     "metadata": {},
     "output_type": "execute_result"
    },
    {
     "data": {
      "text/plain": [
       "val int_sub : evT * evT -> evT = <fun>\n"
      ]
     },
     "execution_count": 6,
     "metadata": {},
     "output_type": "execute_result"
    },
    {
     "data": {
      "text/plain": [
       "val int_times : evT * evT -> evT = <fun>\n"
      ]
     },
     "execution_count": 6,
     "metadata": {},
     "output_type": "execute_result"
    },
    {
     "data": {
      "text/plain": [
       "val int_div : evT * evT -> evT = <fun>\n"
      ]
     },
     "execution_count": 6,
     "metadata": {},
     "output_type": "execute_result"
    },
    {
     "data": {
      "text/plain": [
       "val less_than : evT * evT -> evT = <fun>\n"
      ]
     },
     "execution_count": 6,
     "metadata": {},
     "output_type": "execute_result"
    },
    {
     "data": {
      "text/plain": [
       "val greater_than : evT * evT -> evT = <fun>\n"
      ]
     },
     "execution_count": 6,
     "metadata": {},
     "output_type": "execute_result"
    },
    {
     "data": {
      "text/plain": [
       "val bool_and : evT * evT -> evT = <fun>\n"
      ]
     },
     "execution_count": 6,
     "metadata": {},
     "output_type": "execute_result"
    },
    {
     "data": {
      "text/plain": [
       "val bool_or : evT * evT -> evT = <fun>\n"
      ]
     },
     "execution_count": 6,
     "metadata": {},
     "output_type": "execute_result"
    },
    {
     "data": {
      "text/plain": [
       "val bool_not : evT -> evT = <fun>\n"
      ]
     },
     "execution_count": 6,
     "metadata": {},
     "output_type": "execute_result"
    },
    {
     "data": {
      "text/plain": [
       "val list_empty : tname -> evT = <fun>\n"
      ]
     },
     "execution_count": 6,
     "metadata": {},
     "output_type": "execute_result"
    },
    {
     "data": {
      "text/plain": [
       "val list_cons : evT -> evT -> evT = <fun>\n"
      ]
     },
     "execution_count": 6,
     "metadata": {},
     "output_type": "execute_result"
    },
    {
     "data": {
      "text/plain": [
       "val list_is_empty : evT -> evT = <fun>\n"
      ]
     },
     "execution_count": 6,
     "metadata": {},
     "output_type": "execute_result"
    },
    {
     "data": {
      "text/plain": [
       "val list_head : evT -> evT = <fun>\n"
      ]
     },
     "execution_count": 6,
     "metadata": {},
     "output_type": "execute_result"
    },
    {
     "data": {
      "text/plain": [
       "val list_tail : evT -> evT = <fun>\n"
      ]
     },
     "execution_count": 6,
     "metadata": {},
     "output_type": "execute_result"
    },
    {
     "data": {
      "text/plain": [
       "val list_append : evT -> evT -> evT = <fun>\n"
      ]
     },
     "execution_count": 6,
     "metadata": {},
     "output_type": "execute_result"
    }
   ],
   "source": [
    "(* Errori a runtime *)\n",
    "exception RuntimeError of string\n",
    "\n",
    "(* PRIMITIVE del linguaggio *)\n",
    "\n",
    "(* Controlla se un numero è zero *)\n",
    "let is_zero(x) = match (typecheck(TInt,x),x) with\n",
    "    | (true, Int(v)) -> Bool(v = 0)\n",
    "    | (_, _) -> raise ( RuntimeError \"Wrong type\")\n",
    "\n",
    "(* Uguaglianza fra interi *)\n",
    "let int_eq(x,y) =   \n",
    "    match (typecheck(TInt,x), typecheck(TInt,y), x, y) with\n",
    "    | (true, true, Int(v), Int(w)) -> Bool(v = w)\n",
    "    | (_,_,_,_) -> raise ( RuntimeError \"Wrong type\")\n",
    "\n",
    "(* Somma fra interi *)\t   \n",
    "let int_plus(x, y) = \n",
    "    match(typecheck(TInt,x), typecheck(TInt,y), x, y) with\n",
    "    | (true, true, Int(v), Int(w)) -> Int(v + w)\n",
    "    | (_,_,_,_) -> raise ( RuntimeError \"Wrong type\")\n",
    "\n",
    "(* Differenza fra interi *)\n",
    "let int_sub(x, y) = \n",
    "    match(typecheck(TInt,x), typecheck(TInt,y), x, y) with\n",
    "    | (true, true, Int(v), Int(w)) -> Int(v - w)\n",
    "    | (_,_,_,_) -> raise ( RuntimeError \"Wrong type\")\n",
    "\n",
    "(* Prodotto fra interi *)\n",
    "let int_times(x, y) =\n",
    "    match(typecheck(TInt,x), typecheck(TInt,y), x, y) with\n",
    "    | (true, true, Int(v), Int(w)) -> Int(v * w)\n",
    "    | (_,_,_,_) -> raise ( RuntimeError \"Wrong type\")\n",
    "    \n",
    "(* Divisione fra interi *)\n",
    "let int_div(x, y) =\n",
    "    match(typecheck(TInt,x), typecheck(TInt,y), x, y) with\n",
    "    | (true, true, Int(v), Int(w)) -> \n",
    "                    if w<>0 then Int(v / w)\n",
    "                            else raise (RuntimeError \"Division by zero\")\n",
    "    | (_,_,_,_) -> raise ( RuntimeError \"Wrong type\")\n",
    "\n",
    "(* Operazioni di confronto *)\n",
    "let less_than(x, y) = \n",
    "    match (typecheck(TInt,x), typecheck(TInt,y), x, y) with\n",
    "    | (true, true, Int(v), Int(w)) -> Bool(v < w)\n",
    "    | (_,_,_,_) -> raise ( RuntimeError \"Wrong type\")\n",
    "\n",
    "let greater_than(x, y) = \n",
    "    match (typecheck(TInt,x), typecheck(TInt,y), x, y) with\n",
    "    | (true, true, Int(v), Int(w)) -> Bool(v > w)\n",
    "    | (_,_,_,_) -> raise ( RuntimeError \"Wrong type\")\n",
    "\n",
    "(* Operazioni logiche *)\n",
    "let bool_and(x,y) = \n",
    "    match (typecheck(TBool,x), typecheck(TBool,y), x, y) with\n",
    "    | (true, true, Bool(v), Bool(w)) -> Bool(v && w)\n",
    "    | (_,_,_,_) -> raise ( RuntimeError \"Wrong type\")\n",
    "\n",
    "let bool_or(x,y) = \n",
    "    match (typecheck(TBool,x), typecheck(TBool,y), x, y) with\n",
    "    | (true, true, Bool(v), Bool(w)) -> Bool(v || w)\n",
    "    | (_,_,_,_) -> raise ( RuntimeError \"Wrong type\")\n",
    "\n",
    "let bool_not(x) = \n",
    "    match (typecheck(TBool,x), x) with\n",
    "    | (true, Bool(v)) -> Bool(not(v))\n",
    "    | (_,_) -> raise ( RuntimeError \"Wrong type\")\n",
    "    \n",
    "(* Costrutti per le liste *)\n",
    "let list_empty t = MiniList (t, []);;\n",
    "\n",
    "let list_cons (h: evT) (l: evT) =\n",
    "  let htype = getType h in\n",
    "    match (typecheck (TList(htype), l), l) with\n",
    "      | (true, MiniList(htype, vals)) -> MiniList(htype, h::vals)\n",
    "      | (_, _) -> raise ( RuntimeError \"Wrong type\");;\n",
    "    (*if typecheck (TList(htype), l) then\n",
    "        match l with\n",
    "          | MiniList(htype, vals) -> MiniList(htype, h::vals)\n",
    "          | _ -> raise ( RuntimeError \"Wrong type\")\n",
    "      else\n",
    "        raise ( RuntimeError \"Wrong type\")*)\n",
    "\n",
    "let list_is_empty (l: evT) =\n",
    "  match l with\n",
    "    | MiniList(t, []) -> Bool(true)\n",
    "    | MiniList(t, vals) -> Bool(false)\n",
    "    | _ -> raise ( RuntimeError \"Wrong type\");;\n",
    "\n",
    "let list_head (l: evT) =\n",
    "  match l with\n",
    "    | MiniList(_, []) -> raise ( RuntimeError \"Head of empty list\")\n",
    "    | MiniList(_, (v::_)) -> v\n",
    "    | _ -> raise ( RuntimeError \"Wrong type\");;\n",
    "\n",
    "let list_tail (l: evT) =\n",
    "  match l with\n",
    "    | MiniList(_, []) -> raise ( RuntimeError \"Tail of empty list\")\n",
    "    | MiniList(t, (_::vs)) -> MiniList(t, vs)\n",
    "    | _ -> raise ( RuntimeError \"Wrong type\");;\n",
    "\n",
    "let list_append (l1: evT) (l2: evT) =\n",
    "  match l1, l2 with\n",
    "    | MiniList(t1, vals1), MiniList(t2, vals2) ->\n",
    "      if typecheck (TList(t1), l1) && typecheck (TList(t1), l2) then\n",
    "        MiniList (t1, vals1 @ vals2)\n",
    "      else\n",
    "        raise ( RuntimeError \"Wrong type\")\n",
    "    | _, _ -> raise ( RuntimeError \"Wrong type\");;\n"
   ]
  },
  {
   "cell_type": "markdown",
   "id": "fa44e4d8",
   "metadata": {},
   "source": [
    "### Es 5: Interprete\n",
    "\n",
    "Completare la funzione eval, facendo pattern matching dei nuovi casi definiti dentro exp, e associandoli alle primitive definite precedentemente."
   ]
  },
  {
   "cell_type": "code",
   "execution_count": 7,
   "id": "6a448da9",
   "metadata": {},
   "outputs": [
    {
     "data": {
      "text/plain": [
       "val eval : exp -> evT env -> evT = <fun>\n"
      ]
     },
     "execution_count": 7,
     "metadata": {},
     "output_type": "execute_result"
    }
   ],
   "source": [
    "(* Interprete *)\n",
    "let rec eval (e:exp) (s:evT env) : evT = \n",
    "    match e with\n",
    "    | EInt(n) -> Int(n)\n",
    "    | CstTrue -> Bool(true)\n",
    "    | CstFalse -> Bool(false)\n",
    "    | EString(s) -> String(s)\n",
    "    | Den(i) -> (s i)\n",
    "\n",
    "    | Prod(e1,e2) -> int_times((eval e1 s), (eval e2 s))\n",
    "    | Sum(e1, e2) -> int_plus((eval e1 s), (eval e2 s))\n",
    "    | Diff(e1, e2) -> int_sub((eval e1 s), (eval e2 s))\n",
    "    | Div(e1, e2) -> int_div((eval e1 s), (eval e2 s))\n",
    "\n",
    "    | IsZero(e1) -> is_zero (eval e1 s)\n",
    "    | Eq(e1, e2) -> int_eq((eval e1 s), (eval e2 s))\n",
    "    | LessThan(e1, e2) -> less_than((eval e1 s),(eval e2 s))\n",
    "    | GreaterThan(e1, e2) -> greater_than((eval e1 s),(eval e2 s))\n",
    "\n",
    "    | And(e1, e2) -> bool_and((eval e1 s),(eval e2 s))\n",
    "    | Or(e1, e2) -> bool_or((eval e1 s),(eval e2 s))\n",
    "    | Not(e1) -> bool_not(eval e1 s)\n",
    "\n",
    "    | IfThenElse(e1,e2,e3) -> \n",
    "        let g = eval e1 s in \n",
    "            (match (typecheck(TBool,g),g) with\n",
    "            |(true, Bool(true)) -> eval e2 s\n",
    "            |(true, Bool(false)) -> eval e3 s\n",
    "            |(_,_) -> raise ( RuntimeError \"Wrong type\")\n",
    "            )\n",
    "    | Let(i, e, ebody) -> eval ebody (bind s i (eval e s))\n",
    "    | Fun(arg, ebody) -> Closure(arg,ebody,s)\n",
    "    | Letrec(f, arg, fBody, leBody) ->\n",
    "        let benv = bind (s) (f) (RecClosure(f, arg, fBody,s)) in\n",
    "            eval leBody benv\n",
    "    | Apply(eF, eArg) ->\n",
    "        let fclosure = eval eF s in \n",
    "            (match fclosure with \n",
    "            | Closure(arg, fbody, fDecEnv) -> \n",
    "                let aVal = eval eArg s in \n",
    "                let aenv = bind fDecEnv arg aVal in \n",
    "                eval fbody aenv \n",
    "            | RecClosure(f, arg, fbody, fDecEnv) -> \n",
    "                let aVal = eval eArg s in\n",
    "                let rEnv = bind fDecEnv f fclosure in\n",
    "                let aenv = bind rEnv arg aVal in \n",
    "                eval fbody aenv\n",
    "            | _ -> raise ( RuntimeError \"Wrong type\")\n",
    "            )\n",
    "    (* Eval delle liste *)\n",
    "    | EmptyList(t) -> list_empty t\n",
    "    | Cons(e1, e2) -> list_cons (eval e1 s) (eval e2 s)\n",
    "    | IsEmpty(e) -> list_is_empty (eval e s)\n",
    "    | Head(e) -> list_head (eval e s)\n",
    "    | Tail(e) -> list_tail (eval e s)\n",
    "    | Append(e1, e2) -> list_append (eval e1 s) (eval e2 s);;"
   ]
  },
  {
   "cell_type": "code",
   "execution_count": 14,
   "id": "f34d7e99",
   "metadata": {},
   "outputs": [
    {
     "data": {
      "text/plain": [
       "val expr : exp =\n",
       "  Letrec (\"sum\", \"list\",\n",
       "   IfThenElse (IsEmpty (Den \"list\"), EInt 0,\n",
       "    Sum (Head (Den \"list\"), Apply (Den \"sum\", Tail (Den \"list\")))),\n",
       "   Apply (Den \"sum\",\n",
       "    Cons (EInt 3, Cons (EInt 10, Cons (EInt (-2), EmptyList TInt)))))\n"
      ]
     },
     "execution_count": 14,
     "metadata": {},
     "output_type": "execute_result"
    },
    {
     "data": {
      "text/plain": [
       "- : evT = Int 11\n"
      ]
     },
     "execution_count": 14,
     "metadata": {},
     "output_type": "execute_result"
    }
   ],
   "source": [
    "let expr = Letrec(\"sum\", \"list\",\n",
    "   IfThenElse(IsEmpty(Den \"list\"), EInt 0, Sum( Head (Den \"list\"), Apply(Den \"sum\", Tail (Den \"list\")))),\n",
    "   Apply(Den \"sum\", Cons(EInt 3, Cons(EInt 10, Cons (EInt (-2), EmptyList (TInt))))));;\n",
    "\n",
    "eval expr emptyenv;;"
   ]
  }
 ],
 "metadata": {
  "kernelspec": {
   "display_name": "OCaml default",
   "language": "OCaml",
   "name": "ocaml-jupyter"
  },
  "language_info": {
   "codemirror_mode": "text/x-ocaml",
   "file_extension": ".ml",
   "mimetype": "text/x-ocaml",
   "name": "OCaml",
   "nbconverter_exporter": null,
   "pygments_lexer": "OCaml",
   "version": "4.08.1"
  }
 },
 "nbformat": 4,
 "nbformat_minor": 5
}
