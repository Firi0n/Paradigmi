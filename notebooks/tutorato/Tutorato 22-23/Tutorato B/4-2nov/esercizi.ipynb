{
 "cells": [
  {
   "cell_type": "markdown",
   "id": "5978c067",
   "metadata": {},
   "source": [
    "Per gli esercizi successivi, può essere utile il link alla [documentazione di OCaml del modulo List](https://v2.ocaml.org/api/List.html). Ricordiamo comunque che le funzioni higher-order viste a lezione sono\n",
    "* `List.exists`\n",
    "* `List.for_all`\n",
    "* `List.map`\n",
    "* `List.filter`\n",
    "* `List.fold_left`\n",
    "* `List.fold_right`\n",
    "\n",
    "Altre funzioni del modulo `List` che potrebbero servire sono\n",
    "* `List.length`\n",
    "* `List.hd` (head)\n",
    "* `List.tl` (tail)\n",
    "* `List.rev` (reverse)\n",
    "* `List.find` (trova il primo elemento che soddisfa un predicato)"
   ]
  },
  {
   "cell_type": "markdown",
   "id": "f401e0ee",
   "metadata": {},
   "source": [
    "**Esercizio 2.** Scrivere una funzione `zip list1 list2` che, date due liste, formi una lista con le coppie di elementi corrispondenti di `list1` e `list2`. Si deve fermare non appena una delle due liste non ha più elementi.\n",
    "\n",
    "Per esempio, `zip [1; 2; 3; 4; 5] ['a'; 'b'; 'c']` deve calcolare `[(1, 'a'); (2, 'b'); (3, 'c')]`."
   ]
  },
  {
   "cell_type": "code",
   "execution_count": 1,
   "id": "6ec50368",
   "metadata": {},
   "outputs": [
    {
     "data": {
      "text/plain": [
       "val zip1 : 'a list -> 'b list -> ('a * 'b) list = <fun>\n"
      ]
     },
     "execution_count": 1,
     "metadata": {},
     "output_type": "execute_result"
    },
    {
     "data": {
      "text/plain": [
       "val zip2 : 'a list -> 'b list -> ('a * 'b) list = <fun>\n"
      ]
     },
     "execution_count": 1,
     "metadata": {},
     "output_type": "execute_result"
    },
    {
     "data": {
      "text/plain": [
       "val zip3 : 'a list -> 'b list -> ('a * 'b) list = <fun>\n"
      ]
     },
     "execution_count": 1,
     "metadata": {},
     "output_type": "execute_result"
    },
    {
     "data": {
      "text/plain": [
       "- : (int * char) list = [(1, 'a'); (2, 'b'); (3, 'c')]\n"
      ]
     },
     "execution_count": 1,
     "metadata": {},
     "output_type": "execute_result"
    },
    {
     "data": {
      "text/plain": [
       "- : (int * char) list = [(1, 'a'); (2, 'b'); (3, 'c')]\n"
      ]
     },
     "execution_count": 1,
     "metadata": {},
     "output_type": "execute_result"
    },
    {
     "data": {
      "text/plain": [
       "- : (int * char) list = [(1, 'a'); (2, 'b'); (3, 'c')]\n"
      ]
     },
     "execution_count": 1,
     "metadata": {},
     "output_type": "execute_result"
    }
   ],
   "source": [
    "(* Soluzione 1: usiamo il pattern matching per destrutturare le due liste *)\n",
    "let rec zip1 list1 list2 =\n",
    "  match list1 with\n",
    "    | [] -> []\n",
    "    | x::xs -> match list2 with\n",
    "      | [] -> []\n",
    "      | y::ys -> (x, y)::zip1 xs ys;;\n",
    "\n",
    "(* Soluzione 2: come per la soluzione precedente, ma uniamo i due pattern matching\n",
    " * in uno solo sulla coppia\n",
    " *)\n",
    "let rec zip2 list1 list2 =\n",
    "  match list1, list2 with\n",
    "    | [], _ -> []\n",
    "    | _, [] -> []\n",
    "    | x::xs, y::ys -> (x, y)::zip2 xs ys;;\n",
    "\n",
    "(* Soluzione 3: invece del pattern matching, usiamo un if per controllare se le liste\n",
    " * sono vuote, poi List.hd e List.tl per estrarre testa e coda delle liste\n",
    " *)\n",
    "let rec zip3 list1 list2 =\n",
    "  if list1 = [] || list2 = []\n",
    "  then []\n",
    "  else (List.hd list1, List.hd list2)::zip3 (List.tl list1) (List.tl list2);;\n",
    "\n",
    "zip1 [1; 2; 3; 4; 5] ['a'; 'b'; 'c'];;\n",
    "zip2 [1; 2; 3; 4; 5] ['a'; 'b'; 'c'];;\n",
    "zip3 [1; 2; 3; 4; 5] ['a'; 'b'; 'c'];;"
   ]
  },
  {
   "cell_type": "markdown",
   "id": "3cc9651b",
   "metadata": {},
   "source": [
    "**Esercizio 3.** Scrivere, __possibilmente__ senza ricorsione esplicita, una funzione `enumerate list` che, data una lista, ritorni una lista di coppie che associano ad ogni elemento della lista originale il suo indice.\n",
    "\n",
    "Per esempio, `enumerate ['a'; 'b'; 'c']` deve calcolare `[(0, 'a'); (1, 'b'); (2, 'c')]`."
   ]
  },
  {
   "cell_type": "code",
   "execution_count": 2,
   "id": "3fa1fad2",
   "metadata": {},
   "outputs": [
    {
     "data": {
      "text/plain": [
       "val snd : 'a * 'b -> 'b = <fun>\n"
      ]
     },
     "execution_count": 2,
     "metadata": {},
     "output_type": "execute_result"
    },
    {
     "data": {
      "text/plain": [
       "val enumerate1 : 'a list -> (int * 'a) list = <fun>\n"
      ]
     },
     "execution_count": 2,
     "metadata": {},
     "output_type": "execute_result"
    },
    {
     "data": {
      "text/plain": [
       "- : (int * char) list = [(0, 'a'); (1, 'b'); (2, 'c')]\n"
      ]
     },
     "execution_count": 2,
     "metadata": {},
     "output_type": "execute_result"
    },
    {
     "data": {
      "text/plain": [
       "val lista_num : int -> int list = <fun>\n"
      ]
     },
     "execution_count": 2,
     "metadata": {},
     "output_type": "execute_result"
    },
    {
     "data": {
      "text/plain": [
       "val enumerate2 : 'a list -> (int * 'a) list = <fun>\n"
      ]
     },
     "execution_count": 2,
     "metadata": {},
     "output_type": "execute_result"
    },
    {
     "data": {
      "text/plain": [
       "- : (int * char) list = [(0, 'a'); (1, 'b'); (2, 'c')]\n"
      ]
     },
     "execution_count": 2,
     "metadata": {},
     "output_type": "execute_result"
    },
    {
     "data": {
      "text/plain": [
       "- : (int * char) list = [(0, 'a'); (1, 'b'); (2, 'c')]\n"
      ]
     },
     "execution_count": 2,
     "metadata": {},
     "output_type": "execute_result"
    }
   ],
   "source": [
    "let snd (a, b) = b;;\n",
    "\n",
    "(* Soluzione 1: usiamo fold_left per creare la nuova lista. Questo è un pattern ricorrente,\n",
    " * e si sviluppa in questo modo. Per prima cosa, ricordiamo il tipo\n",
    " * List.fold_left :: ('a -> 'b -> 'a) -> 'a -> 'b list -> 'a\n",
    " * Questo significa che il tipo di ritorno di fold_left è quello dell'accumulatore:\n",
    " * quindi l'accumulatore deve essere una lista (visto che il nostro risultato dev'essere una\n",
    " * lista). D'altra parte, nell'accumulatore vogliamo anche tenere l'informazione su qual'è\n",
    " * l'indice dell'elemento corrente, che è un intero.\n",
    " * Per conciliare queste due necessità, usiamo come accumulatore una coppia (count, new_list)\n",
    " * in cui il primo elemento è il contatore e il secondo è la lista che stiamo costruendo. In\n",
    " * questo modo, ci basta aumentare il contatore di 1 ogni volta che esaminiamo un elemento,\n",
    " * e aggiungere alla lista che stiamo creando la nuova coppia (count, elem).\n",
    " * Alla fine, questo ci produce una coppia (lunghezza della lista, nuova lista). Visto che\n",
    " * come risultato ci interessa solo la nuova list, utiliziamo snd per estrarre solo il secondo\n",
    " * elemento della coppia.\n",
    " *)\n",
    "let enumerate1 list =\n",
    "  snd (List.fold_left (fun (count, new_list) elem -> (count + 1, new_list@[(count, elem)])) (0, []) list);;\n",
    "\n",
    "enumerate1 ['a'; 'b'; 'c'];;\n",
    "\n",
    "(* Soluzione 2: definiamo una funzione ausiliaria per crearci una lista dei numeri da 0 a\n",
    " * (n - 1), e poi usiamo zip (esercizio precedente) per zippare insieme la lista iniziale\n",
    " * e quella con gli indici corrispondenti\n",
    " *)\n",
    "let lista_num n =\n",
    "  let rec aux i = if i < n then i::aux (i + 1) else []\n",
    "  in aux 0;;\n",
    "\n",
    "let enumerate2 list = zip1 (lista_num (List.length list)) list;;\n",
    "\n",
    "enumerate1 ['a'; 'b'; 'c'];;\n",
    "enumerate2 ['a'; 'b'; 'c'];;"
   ]
  },
  {
   "cell_type": "markdown",
   "id": "3ea9a15e",
   "metadata": {},
   "source": [
    "**Esercizio extra**: implementare `mapi` (già presente nella libreria `List` di OCaml). Questa funzione deve avere tipo `mapi : (int -> 'a -> 'b) -> 'a list -> 'b list`. `mapi` si comporta come `map`, con l'unica differenza che la funzione prende come argomento, oltre all'elemento della lista, anche il suo indice."
   ]
  },
  {
   "cell_type": "code",
   "execution_count": 3,
   "id": "4e7f2024",
   "metadata": {},
   "outputs": [
    {
     "data": {
      "text/plain": [
       "val mapi : (int * 'a -> 'b) -> 'a list -> 'b list = <fun>\n"
      ]
     },
     "execution_count": 3,
     "metadata": {},
     "output_type": "execute_result"
    }
   ],
   "source": [
    "let mapi f list =\n",
    "  List.map f (enumerate1 list);;"
   ]
  },
  {
   "cell_type": "markdown",
   "id": "07ea8b55",
   "metadata": {},
   "source": [
    "**Esercizio 4.** Scrivere, __possibilmente__ senza ricorsione esplicita, una funzione `every n list` che prenda dalla lista `list` solo gli elementi con indice multiplo di `n`. Ricordare che gli indici partono da 0.\n",
    "\n",
    "Per esempio, `every 3 [0; 1; 2; 3; 4; 5; 6; 7; 8; 9]` deve calcolare `[0; 3; 6; 9]`."
   ]
  },
  {
   "cell_type": "code",
   "execution_count": 4,
   "id": "ef073b60",
   "metadata": {},
   "outputs": [
    {
     "data": {
      "text/plain": [
       "val snd : 'a * 'b -> 'b = <fun>\n"
      ]
     },
     "execution_count": 4,
     "metadata": {},
     "output_type": "execute_result"
    },
    {
     "data": {
      "text/plain": [
       "val every1 : int -> 'a list -> 'a list = <fun>\n"
      ]
     },
     "execution_count": 4,
     "metadata": {},
     "output_type": "execute_result"
    },
    {
     "data": {
      "text/plain": [
       "val every2 : int -> 'a list -> 'a list = <fun>\n"
      ]
     },
     "execution_count": 4,
     "metadata": {},
     "output_type": "execute_result"
    },
    {
     "data": {
      "text/plain": [
       "- : int list = [0; 3; 6; 9]\n"
      ]
     },
     "execution_count": 4,
     "metadata": {},
     "output_type": "execute_result"
    },
    {
     "data": {
      "text/plain": [
       "- : char list = ['a'; 'd']\n"
      ]
     },
     "execution_count": 4,
     "metadata": {},
     "output_type": "execute_result"
    }
   ],
   "source": [
    "let snd (a, b) = b;;\n",
    "\n",
    "(* Soluzione 1: usiamo fold_left come nella soluzione 1 dell'esercizio precedente.\n",
    " * L'accumulatore è una coppia (count, new_list). Se il contatore (che ci dice l'indice\n",
    " * dell'elemento corrente) è multiplo di n, aggiungiamo l'elemento alla lista,\n",
    " * altrimenti la teniamo invariata. Alla fine usiamo snd per prendere solo la nuova\n",
    " * lista e scartare il contatore.\n",
    " *)\n",
    "let every1 n list =\n",
    "  snd (\n",
    "    List.fold_left (\n",
    "      fun (count, new_list) elem -> if count mod n = 0 then (count + 1, new_list@[elem]) else (count + 1, new_list)\n",
    "    ) (0, []) list\n",
    "  );;\n",
    "\n",
    "(* Soluzione 2: definiamo every n list usando funzioni higher-order.\n",
    " * Per prima cosa, usiamo enumerate per associare ad ogni elemento della lista il suo indice.\n",
    " * Poi usiamo filter per tenere solo gli elementi con indice multiplo di n.\n",
    " * Infine, usiamo map per buttare via gli indici.\n",
    " *)\n",
    "let every2 n list =\n",
    "  List.map snd (List.filter (fun (i, _) -> i mod n = 0) (enumerate1 list));;\n",
    "\n",
    "every1 3 [0; 1; 2; 3; 4; 5; 6; 7; 8; 9];;\n",
    "every1 3 ['a'; 'b'; 'c'; 'd'];;"
   ]
  },
  {
   "cell_type": "markdown",
   "id": "62b7bdba",
   "metadata": {},
   "source": [
    "**Esercizio 5.** Scrivere, __possibilmente__ senza ricorsione esplicita, una funzione `no_dupl list` che ritorni `false` se la lista `list` contiene due elementi _consecutivi_ uguali, pensata come lista circolare (quindi anche il primo e l'ultimo devono essere diversi)."
   ]
  },
  {
   "cell_type": "code",
   "execution_count": 5,
   "id": "4cd9082e",
   "metadata": {},
   "outputs": [
    {
     "data": {
      "text/plain": [
       "val no_dupl1 : 'a list -> bool = <fun>\n"
      ]
     },
     "execution_count": 5,
     "metadata": {},
     "output_type": "execute_result"
    },
    {
     "data": {
      "text/plain": [
       "val no_dupl2 : 'a list -> bool = <fun>\n"
      ]
     },
     "execution_count": 5,
     "metadata": {},
     "output_type": "execute_result"
    },
    {
     "data": {
      "text/plain": [
       "- : bool = false\n"
      ]
     },
     "execution_count": 5,
     "metadata": {},
     "output_type": "execute_result"
    },
    {
     "data": {
      "text/plain": [
       "- : bool = true\n"
      ]
     },
     "execution_count": 5,
     "metadata": {},
     "output_type": "execute_result"
    }
   ],
   "source": [
    "(* Soluzione 1: usiamo fold_right. Di nuovo, il pattern è lo stesso degli esercizi\n",
    " * precedenti: vogliamo calcolare il booleano che ci dice se ci sono due elementi consecutivi\n",
    " * uguali, ma non possiamo farlo analizzando un singolo elemento alla volta: ci serve anche\n",
    " * l'informazione sull'elemento successivo (perché usiamo fold_right, quindi scorriamo la\n",
    " * lista al contrario).\n",
    " * Procediamo quindi come prima: l'accumulatore è una coppia (elemento successivo, risultato\n",
    " * parziale), da cui possiamo facilmente calcolare il nuovo elemento successivo (che è elem,\n",
    " * ovvero l'elemento che stiamo processando adesso - ovvero il successore del prossimo\n",
    " * elemento che analizzeremo) e il risultato paziale (se i due elementi sono uguali false,\n",
    " * altrimenti dobbiamo semplicemente passare avanti il risultato parziale precedente, perché\n",
    " * potremmo aver già trovato una coppia di elementi consecutivi uguali prima).\n",
    " * Come sempre, concludiamo con snd per prendere solo il risultato e scartare l'informazione\n",
    " * aggiuntiva che ci serviva solo per il calcolo.\n",
    " *)\n",
    "let no_dupl1 list =\n",
    "  snd (\n",
    "    List.fold_right (\n",
    "      fun elem (succ, res) -> if elem = succ then (elem, false) else (elem, res)\n",
    "    ) list (List.hd list, true)\n",
    "  );;\n",
    "\n",
    "(* Soluzione 2: usiamo funzioni higher-oder.\n",
    " * Nota importante: questa soluzione non è perfettamente funzionale e non rispetta\n",
    " * la specifica della lista ciclica. Viene inserita solamente come esempio concettuale\n",
    " * di come usare le funzioni higher-order per risolvere questo problema.\n",
    " *\n",
    " * La funzione enumerate ovvia al problema di avere l'indice trasformando ogni elemento\n",
    " * della lista in una coppia, in modo da poter applicare funzioni higher-order che operano\n",
    " * su un singolo elemento alla volta avendo però anche l'informazione non \"locale\" (ovvero\n",
    " * che non puoi ottenere dal solo elemento, ma che necessità anche del resto della lista)\n",
    " * della posizione.\n",
    " * In questo caso, abbiamo un problema analogo: oltre all'elemento, ci serve anche sapere\n",
    " * un'informazione non locale, ovvero l'elemento successivo. Per farlo, creiamo inizialmente\n",
    " * una nuova lista delle coppie di elementi consecutivi nella lista di partenza.\n",
    " * Per creare questa lista, usiamo la funzione zip tra list e la coda di list:\n",
    "\n",
    "                List.tl\n",
    "[1; 3; 10; 0] ----------> [3; 10; 0]\n",
    "\n",
    "list            [1     ; 3      ; 10     ; 0]\n",
    "List.tl list    [3     ; 10     ; 0      ]\n",
    "                           |\n",
    "                           | zip\n",
    "                           v\n",
    "zip             [(1, 3); (3, 10); (10, 0)]\n",
    "\n",
    " * Ora ci basta controllare se tutte queste coppie sono formate da elementi diversi: possiamo\n",
    " * inizialmente usare una List.map per ridurre queste coppie a dei booleani confrontando gli\n",
    " * elementi delle coppie, e poi controlliamo se tutti gli elementi della lista sono true o se\n",
    " * c'è almeno un false. (In realtà la funzione List.for_all include già una map al suo interno,\n",
    " * quindi non dobbiamo scriverla esplicitamente, ma concettualmente è quello che stiamo facendo).\n",
    " *)\n",
    "let no_dupl2 list =\n",
    "  List.for_all (fun (a, b) -> a != b) (zip1 list (List.tl list));;\n",
    "\n",
    "no_dupl1 [1; 3; 10; 1];;\n",
    "no_dupl1 [1; 3; 10; 0];;"
   ]
  },
  {
   "cell_type": "markdown",
   "id": "ac0588f2",
   "metadata": {},
   "source": [
    "**Nota finale:**\n",
    "Negli esercizi precedenti, abbiamo usato le `fold` (sia `left` che `right`) con un patter abbastanza comune: vogliamo calcolare un certo _valore_ a partire dalla lista (le due nuove liste per gli es. 3 e 4, il booleano risultato nell'es. 5), ma oltre al valore accumulato fino a quel punto abbiamo bisogno anche di _informazioni aggiuntive_ (l'indice dell'elemento negli es. 3 e 4, l'elemento successivo nell'es. 5).\n",
    "Per fare questo, il pattern prevede di usare come accumulatore una __coppia__ che contenga sia il valore risultato che l'informazione aggiuntiva. In questo modo, la funzione che processa un singolo elemento ha acesso sia al risultato parziale fino a quel momento (es. la lista da generare) che all'informazione aggiuntiva (es. il contatore). Si deve quindi occupare di produrre una nuova __coppia__, con il nuovo risultato parziale (la lista da generare, estesa con il nuovo valore) e l'informazione aggiuntiva aggiornata (il contatore incrementato).\n",
    "Il valore calcolato dalla `fold` alla fine è quindi una coppia, di cui però ci interessa solo un elemento (la lista), mentre l'altro (il contatore) era informazione aggiuntiva necessaria solo per il calcolo: usiamo quindi la funzione di utilità `snd` (o `fst`, se ci interessa il primo elemento della coppia) per selezionare il valore che ci interessa."
   ]
  },
  {
   "cell_type": "markdown",
   "id": "dd83069e",
   "metadata": {},
   "source": [
    "**Fold, graficamente:**\n",
    "segue una rappresentazione grafica di `fold_left` e `fold_right`. `z` è il valore iniziale dell'accumulatore, e `f` è la funzione che prende l'accumulatore corrente e lo \"fonde\" con un elemento della lista per creare il nuovo accumulatore. Fonte: [pagina su fold di HaskellWiki](https://wiki.haskell.org/Fold)\n",
    "\n",
    "![Fold left](fold-left.png \"Fold left\")\n",
    "\n",
    "![Fold right](fold-right.png \"Fold right\")"
   ]
  }
 ],
 "metadata": {
  "kernelspec": {
   "display_name": "OCaml default",
   "language": "OCaml",
   "name": "ocaml-jupyter"
  },
  "language_info": {
   "codemirror_mode": "text/x-ocaml",
   "file_extension": ".ml",
   "mimetype": "text/x-ocaml",
   "name": "OCaml",
   "nbconverter_exporter": null,
   "pygments_lexer": "OCaml",
   "version": "4.08.1"
  }
 },
 "nbformat": 4,
 "nbformat_minor": 5
}
