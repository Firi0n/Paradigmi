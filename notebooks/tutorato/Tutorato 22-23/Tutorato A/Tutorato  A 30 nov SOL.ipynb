{
 "cells": [
  {
   "cell_type": "markdown",
   "id": "75efa519",
   "metadata": {},
   "source": [
    "# MiniCaml: Funzioni a dominio Finito."
   ]
  },
  {
   "cell_type": "markdown",
   "id": "b925a699",
   "metadata": {},
   "source": [
    "Una funzione (unaria e non ricorsiva) a *dominio finito* è una funzione che è definita solo per un numero\n",
    "finito di elementi. Ad esempio si consideri la seguente funzione con una sintassi nello stile di OCaml\n",
    "\n",
    "    fun y -> y + 1 for y in [0; 1; 2; 3; 4];;\n",
    "\n",
    "La funzione è definita solamente per valori del parametro attuale che appartengono all’insieme `{0, 1, 2, 3, 4}`,\n",
    "insieme che è calcolato al momento della definizione della funzione stessa."
   ]
  },
  {
   "cell_type": "markdown",
   "id": "d83b30e0",
   "metadata": {},
   "source": [
    "## Es. 1: Sintassi\n",
    "\n",
    "Si estenda l'AST di Minicaml (riportato sotto) con un nuovo costrutto per le funzioni a dominio finito. Quante e quali sottoespressioni deve contenere?"
   ]
  },
  {
   "cell_type": "markdown",
   "id": "396197e8",
   "metadata": {},
   "source": [
    "### Soluzione:\n",
    "\n",
    "Una definizione di funzione (anonima) con dominio finito, come \n",
    "\n",
    "    fun y -> y + 1 for y in [0; 1; 2; 3; 4]\n",
    "è simile a una normale definizione di funzione aninima in MiniCaml, come \n",
    "\n",
    "    fun y -> y + 1\n",
    "che si formalizza in sintassi astratta con il costruttore `Fun` (`Fun (\"y\", Sum(Ide(y), EInt(1))`).\n",
    "Il nuovo costrutto che vogliamo introdurre sarà quindi simile a `Fun`, possiamo chiamarlo `FunFD`, e come `Fun` richiederà una coppia `ide * exp`. Oltre all'argomento e al corpo della funzione, l'espressione che ci interessa contiene però anche un dominio, che possiamo formalizzare come una lista di espressioni `exp list`. \n",
    "\n",
    "Se intendiamo il tipo `exp` come un albero, allora un'espressione costruita con `FunFD` ha un numero non deciso a priori di figli, proprio perchè dentro la definizione del dominio ci può essere un numero arbitrario (ma finito) di sottoespressioni."
   ]
  },
  {
   "cell_type": "markdown",
   "id": "3e3fb885",
   "metadata": {
    "cell_style": "split"
   },
   "source": [
    "### Albero della sintassi astratta"
   ]
  },
  {
   "cell_type": "code",
   "execution_count": 2,
   "id": "d0765a9b",
   "metadata": {},
   "outputs": [
    {
     "data": {
      "text/plain": [
       "type ide = string\n"
      ]
     },
     "execution_count": 2,
     "metadata": {},
     "output_type": "execute_result"
    },
    {
     "data": {
      "text/plain": [
       "type exp =\n",
       "    EInt of int\n",
       "  | CstTrue\n",
       "  | CstFalse\n",
       "  | EString of string\n",
       "  | Den of ide\n",
       "  | Sum of exp * exp\n",
       "  | Diff of exp * exp\n",
       "  | Prod of exp * exp\n",
       "  | Div of exp * exp\n",
       "  | IsZero of exp\n",
       "  | Eq of exp * exp\n",
       "  | LessThan of exp * exp\n",
       "  | GreaterThan of exp * exp\n",
       "  | And of exp * exp\n",
       "  | Or of exp * exp\n",
       "  | Not of exp\n",
       "  | IfThenElse of exp * exp * exp\n",
       "  | Let of ide * exp * exp\n",
       "  | Letrec of ide * ide * exp * exp\n",
       "  | Fun of ide * exp\n",
       "  | FunFD of ide * exp * exp list\n",
       "  | Apply of exp * exp\n"
      ]
     },
     "execution_count": 2,
     "metadata": {},
     "output_type": "execute_result"
    }
   ],
   "source": [
    "(* Identificatori *)\n",
    "type ide = string;;\n",
    "\n",
    "(* Abstract Expressions = espressioni nella sintassi astratta, \n",
    "   compongono l'Albero di Sintassi Astratta *)\n",
    "type exp = \n",
    "    | EInt of int\n",
    "    | CstTrue \n",
    "    | CstFalse\n",
    "    | EString of string\n",
    "    | Den of ide\n",
    "    (* Operatori binari da interi a interi*)\n",
    "    | Sum of exp * exp\n",
    "    | Diff of exp * exp\n",
    "    | Prod of exp * exp\n",
    "    | Div of exp * exp\n",
    "    (* Operatori da interi a booleani *)\n",
    "    | IsZero of exp\n",
    "    | Eq of exp * exp\n",
    "    | LessThan of exp*exp\n",
    "    | GreaterThan of exp*exp\n",
    "    (* Operatori su booleani *)\n",
    "    | And of exp*exp\n",
    "    | Or of exp*exp\n",
    "    | Not of exp\n",
    "    (* Controllo del flusso, funzioni *)\n",
    "    | IfThenElse of exp * exp * exp\n",
    "    | Let of ide * exp * exp\n",
    "    | Letrec of ide * ide  * exp * exp\n",
    "    | Fun of ide * exp\n",
    "    | FunFD of ide * exp * (exp list)\n",
    "    | Apply of exp * exp"
   ]
  },
  {
   "cell_type": "markdown",
   "id": "f3ecf452",
   "metadata": {},
   "source": [
    "## Es 2: Valori e Tipi\n",
    "\n",
    "Estendere la nozione di valore (`evT`), di tipo (`tname`) per includere le funzioni a dominio finito, e aggiornare `getype` e `typecheck` di conseguenza."
   ]
  },
  {
   "cell_type": "markdown",
   "id": "59b1b929",
   "metadata": {},
   "source": [
    "### Soluzione:\n",
    "\n",
    "Una normale funzione anonima (costruita con `Fun`) viene valutata come un valore `Closure`, che contiene una tripla argomento, corpo e ambiente di definitione. Allo stesso modo una funzione a dmonio finito possiamo valutarla come un nuovo valore `FDClosure`, che conterrà le stesse informazioni di una closure, e in aggiunta anche un dominio.\n",
    "\n",
    "Ci sono due alternative su come includere il dominio dentro una `FDClosure`:\n",
    "- Includere una lista di **valori**, `evT list`, che quindi vengono valutati una sola volta, quando la funzione viene definita.\n",
    "- Includere una lista di espressioni, la stessa presente nella definzione `FunFD`. Come precisato dalla consegna, il valore di queste espressioni che compongono il dominio deve essere valutato nell'ambiente di definizione, non in quello di esecuzione. Quindi ogni volta che verrà valutata una applicazione di una funzione a dominio finito bisognerà valutare le espressioni del dominio nell'ambiente presente dentro closure.\n",
    "\n",
    "Entrambe le soluzioni sono corrette, ma la seconda ci obbliga a ricalcolare più volte gli stessi valori nello stesso ambientem, quindi sceglieremo la prima. \n",
    "\n",
    "Per il tipo, possiamo aggiunge un nuovo tipo a `tname`, e aggiornare le funzioni `getType` e `type_check` trivialmente. Alternativamente, possiamo anche decidere che una `FDClosure` debba essere di tipo `TClosure`, il resto del codice non cambia. Notate che il concetto di \"tipo\" di una closure non viene mai usato nell'interprete, è presente solo per completezza, quindi non c'è nessun motivo per preferire una scelta all'altra. \n",
    "\n",
    "Al contrario, se anzichè voler introdurre un nuovo costrutto funzionale stessimo introducendo un nuovo tipo di dato, come i float, i record, gli insiemi o quant'altro, definire dei nuovi tipi appropriati sarebbe fondamentale, perchè l'interprete quando manipola i dati chiama sempre delle primitive, e le primitive chiamano il typechecker."
   ]
  },
  {
   "cell_type": "markdown",
   "id": "41facdac",
   "metadata": {},
   "source": [
    "### Ambiente"
   ]
  },
  {
   "cell_type": "code",
   "execution_count": 3,
   "id": "958aae80",
   "metadata": {},
   "outputs": [
    {
     "data": {
      "text/plain": [
       "type 't env = ide -> 't\n"
      ]
     },
     "execution_count": 3,
     "metadata": {},
     "output_type": "execute_result"
    },
    {
     "data": {
      "text/plain": [
       "type evT =\n",
       "    Int of int\n",
       "  | Bool of bool\n",
       "  | String of string\n",
       "  | Closure of ide * exp * evT env\n",
       "  | FDClosure of ide * exp * evT env * evT list\n",
       "  | RecClosure of ide * ide * exp * evT env\n",
       "  | UnBound\n"
      ]
     },
     "execution_count": 3,
     "metadata": {},
     "output_type": "execute_result"
    },
    {
     "data": {
      "text/plain": [
       "val emptyenv : 'a -> evT = <fun>\n"
      ]
     },
     "execution_count": 3,
     "metadata": {},
     "output_type": "execute_result"
    },
    {
     "data": {
      "text/plain": [
       "val bind : evT env -> ide -> evT -> ide -> evT = <fun>\n"
      ]
     },
     "execution_count": 3,
     "metadata": {},
     "output_type": "execute_result"
    },
    {
     "data": {
      "text/plain": [
       "type tname =\n",
       "    TInt\n",
       "  | TBool\n",
       "  | TString\n",
       "  | TClosure\n",
       "  | TRecClosure\n",
       "  | TFDClosure\n",
       "  | TUnBound\n"
      ]
     },
     "execution_count": 3,
     "metadata": {},
     "output_type": "execute_result"
    },
    {
     "data": {
      "text/plain": [
       "val getType : evT -> tname = <fun>\n"
      ]
     },
     "execution_count": 3,
     "metadata": {},
     "output_type": "execute_result"
    }
   ],
   "source": [
    "(* Ambiente polimorfo *)\n",
    "type 't env = ide -> 't\n",
    "\n",
    "(* Evaluation types = tipi  esprimibili *)\n",
    "type evT = \n",
    "    | Int of int \n",
    "    | Bool of bool \n",
    "    | String of string \n",
    "    | Closure of ide * exp * evT env \n",
    "    | FDClosure of ide * exp * evT env * evT list\n",
    "    | RecClosure of ide * ide * exp * evT env\n",
    "    | UnBound\n",
    "    \n",
    "\n",
    "(* Ambiente vuoto *)\n",
    "let emptyenv = function x -> UnBound\n",
    "\n",
    "(* Binding fra una stringa x e un valore primitivo evT *)\n",
    "let bind (s: evT env) (x: ide) (v: evT) = \n",
    "    function (i: ide) -> if (i = x) then v else (s i)\n",
    "\n",
    "(* I tipi *)\n",
    "type tname =  TInt | TBool | TString | TClosure | TRecClosure | TFDClosure | TUnBound\n",
    "\n",
    "(* Funzione da evT a tname che associa a ogni valore il suo descrittore di tipo  *)\n",
    "let getType (x: evT) : tname =\n",
    "    match x with\n",
    "    | Int(n) -> TInt\n",
    "    | Bool(b) -> TBool\n",
    "    | String(s) -> TString\n",
    "    | Closure(i,e,en) -> TClosure\n",
    "    | FDClosure _ -> TFDClosure\n",
    "    | RecClosure(i,j,e,en) -> TRecClosure\n",
    "    | UnBound -> TUnBound"
   ]
  },
  {
   "cell_type": "markdown",
   "id": "c774521e",
   "metadata": {},
   "source": [
    "### Typechecking"
   ]
  },
  {
   "cell_type": "code",
   "execution_count": 12,
   "id": "0c24a4e7",
   "metadata": {},
   "outputs": [
    {
     "data": {
      "text/plain": [
       "val typecheck : tname * evT -> bool = <fun>\n"
      ]
     },
     "execution_count": 12,
     "metadata": {},
     "output_type": "execute_result"
    },
    {
     "data": {
      "text/plain": [
       "exception RuntimeError of string\n"
      ]
     },
     "execution_count": 12,
     "metadata": {},
     "output_type": "execute_result"
    }
   ],
   "source": [
    "(* Type-checking *)\n",
    "let typecheck ((x, y) : (tname*evT)) = \n",
    "    match x with\n",
    "    | TInt -> (match y with \n",
    "               | Int(u) -> true\n",
    "               | _ -> false\n",
    "               )\n",
    "    | TBool -> (match y with \n",
    "                | Bool(u) -> true\n",
    "                | _ -> false\n",
    "                )\n",
    "    | TString -> (match y with\n",
    "                 | String(u) -> true\n",
    "                 | _ -> false\n",
    "                 )\n",
    "    | TClosure -> (match y with\n",
    "                   | Closure(i,e,n) -> true\n",
    "                   | _ -> false\n",
    "                   )\n",
    "    | TFDClosure -> (match y with\n",
    "                   | FDClosure _ -> true\n",
    "                   | _ -> false\n",
    "                   )\n",
    "    | TRecClosure -> (match y with\n",
    "                     | RecClosure(i,j,e,n) -> true\n",
    "                     | _ -> false\n",
    "                     )\n",
    "    |TUnBound -> (match y with\n",
    "                 | UnBound -> true\n",
    "                 | _ -> false\n",
    "                 )\n",
    "\n",
    "(* Errori a runtime *)\n",
    "exception RuntimeError of string"
   ]
  },
  {
   "cell_type": "markdown",
   "id": "ddd4291d",
   "metadata": {},
   "source": [
    "## Es 3: Interprete\n",
    "\n",
    "Estendere la funzione di valutazione (`eval`) per includere le funzioni a dominio finito.\n",
    "\n",
    "**HINT**: Bisogna estende due passaggi dell'interprete, specificando come funziona la *definizione* di una funzione a dominio finito, e come funziona *l'applicazione*. Ricordate che i valori del dominio vanno valutati a tempo di definizione."
   ]
  },
  {
   "cell_type": "markdown",
   "id": "cfb40a54",
   "metadata": {},
   "source": [
    "### Soluzione\n",
    "\n",
    "Dobbiamo estendere l'interprete in due punti diversi del codice, la definizione di una funzione FD e l'applicazione di una funzione FD.\n",
    "\n",
    "Per la definizione, abbiamo già deciso che un'espressione `FunFD` dovrebbe essere valutata come una `FDClosure`. Dentro la `FDClosure` mettiamo l'argomento, il corpo e l'ambiente presente al momento della definizione, cioè `s`. Quando dopo continueremo la valutazione ed eseguiremo altre chiamate ricorsive di `eval`, il parametro `s` sarà cambiato, poichè indica l'ambiente che viene di volta in volta aggiornato. Per questo motivo dentro la closure dobbiamo salvare l'ambiente al momento della definizione, per \"preservarlo\" dai possibili cambiamenti che avverrano continuando l'esecuzione.\n",
    "\n",
    "Dentro la `FDClosure` va incluso anche il dominio, ovvero una lista di valori. Per trasformare la lista di espressioni di `FunFD` nella lista di valori di `FDClosure` possiamo seguire due strade:\n",
    "- Usare la funzione List.map, mappando quindi una lista di espressioni in una lista di valori, uno per uno\n",
    "- Definire una eval ad hoc che valuti tutte le espressioni di una lista, tipo\n",
    "      let rec evalAll s list = \n",
    "          match list with\n",
    "          | [] -> []\n",
    "          | e::es -> (eval e s) :: (evalAll s es)\n",
    "\n",
    "Entrambe le scelte sono giuste, in generale usando funzioni di ordine superiore come `List.map` si scrive meno codice, quindi è meno probabile fare errori.\n",
    "\n",
    "Per l'applicazione, presa un'espressione `Apply(eF, eArg)`, bisogna prima di tutto valutare `eF` per ottenere un valore (parte del codice già presente), e poi fare matching su questo valore. Noi dobbiamo implementare il caso in cui `eval eF` sia una `FDClosure(arg, fbody, fDecEnv, domain)`. Come per gli altri casi, valutiamo l'**espressione** `eArg` per ottenere il **valore** `aVal`, che è il nostro parametro attuale. Dobbiamo quindi controllare che `aVal` sia nel dominio della `FDClosure`, che si può fare con un'opportuna funzione di libreria come `List.find_opt` o `List.exists`. Se `aVal` non appartiene al dominio, lanciamo un errore. Se `aVal` appartiene al dominio, dobbiamo procedere con una normale esecuzione della funzione: partiamo dall'ambiente di definizione della closure, leghiamo il nome `arg` al valore `aVal`, ed eseguiamo in questo ambiente il corpo della funzione."
   ]
  },
  {
   "cell_type": "markdown",
   "id": "af6caa9a",
   "metadata": {},
   "source": [
    "### Takeaway:\n",
    "- Per svolgere gli esercizi su Minicaml, è fondamentale studiare i costrutti già presenti e prenderli come modello.\n",
    "- `eval` gestisce il \"controllo\" (`if` e funzioni), mentre le primitive gestiscono i \"dati\", effettuando anche il type checking dinamico.\n",
    "- una closure deve contenere tutte le informazioni necessarie a eseguire una funzione\n",
    "- Eseguire una funzione vuol dire semplicemente eseguire il body in un nuovo abiente, che è l'ambiente di definizione più l'associazione `parametro formale = parametro attuale`."
   ]
  },
  {
   "cell_type": "markdown",
   "id": "39713ea5",
   "metadata": {},
   "source": [
    "### Primitive"
   ]
  },
  {
   "cell_type": "code",
   "execution_count": 13,
   "id": "765e44a1",
   "metadata": {},
   "outputs": [
    {
     "data": {
      "text/plain": [
       "val is_zero : evT -> evT = <fun>\n"
      ]
     },
     "execution_count": 13,
     "metadata": {},
     "output_type": "execute_result"
    },
    {
     "data": {
      "text/plain": [
       "val int_eq : evT * evT -> evT = <fun>\n"
      ]
     },
     "execution_count": 13,
     "metadata": {},
     "output_type": "execute_result"
    },
    {
     "data": {
      "text/plain": [
       "val int_plus : evT * evT -> evT = <fun>\n"
      ]
     },
     "execution_count": 13,
     "metadata": {},
     "output_type": "execute_result"
    },
    {
     "data": {
      "text/plain": [
       "val int_sub : evT * evT -> evT = <fun>\n"
      ]
     },
     "execution_count": 13,
     "metadata": {},
     "output_type": "execute_result"
    },
    {
     "data": {
      "text/plain": [
       "val int_times : evT * evT -> evT = <fun>\n"
      ]
     },
     "execution_count": 13,
     "metadata": {},
     "output_type": "execute_result"
    },
    {
     "data": {
      "text/plain": [
       "val int_div : evT * evT -> evT = <fun>\n"
      ]
     },
     "execution_count": 13,
     "metadata": {},
     "output_type": "execute_result"
    },
    {
     "data": {
      "text/plain": [
       "val less_than : evT * evT -> evT = <fun>\n"
      ]
     },
     "execution_count": 13,
     "metadata": {},
     "output_type": "execute_result"
    },
    {
     "data": {
      "text/plain": [
       "val greater_than : evT * evT -> evT = <fun>\n"
      ]
     },
     "execution_count": 13,
     "metadata": {},
     "output_type": "execute_result"
    },
    {
     "data": {
      "text/plain": [
       "val bool_and : evT * evT -> evT = <fun>\n"
      ]
     },
     "execution_count": 13,
     "metadata": {},
     "output_type": "execute_result"
    },
    {
     "data": {
      "text/plain": [
       "val bool_or : evT * evT -> evT = <fun>\n"
      ]
     },
     "execution_count": 13,
     "metadata": {},
     "output_type": "execute_result"
    },
    {
     "data": {
      "text/plain": [
       "val bool_not : evT -> evT = <fun>\n"
      ]
     },
     "execution_count": 13,
     "metadata": {},
     "output_type": "execute_result"
    }
   ],
   "source": [
    "(* PRIMITIVE del linguaggio *)\n",
    "\n",
    "(* Controlla se un numero è zero *)\n",
    "let is_zero(x) = match (typecheck(TInt,x),x) with\n",
    "    | (true, Int(v)) -> Bool(v = 0)\n",
    "    | (_, _) -> raise ( RuntimeError \"Wrong type\")\n",
    "\n",
    "(* Uguaglianza fra interi *)\n",
    "let int_eq(x,y) =   \n",
    "    match (typecheck(TInt,x), typecheck(TInt,y), x, y) with\n",
    "    | (true, true, Int(v), Int(w)) -> Bool(v = w)\n",
    "    | (_,_,_,_) -> raise ( RuntimeError \"Wrong type\")\n",
    "\n",
    "(* Somma fra interi *)\t   \n",
    "let int_plus(x, y) = \n",
    "    match(typecheck(TInt,x), typecheck(TInt,y), x, y) with\n",
    "    | (true, true, Int(v), Int(w)) -> Int(v + w)\n",
    "    | (_,_,_,_) -> raise ( RuntimeError \"Wrong type\")\n",
    "\n",
    "(* Differenza fra interi *)\n",
    "let int_sub(x, y) = \n",
    "    match(typecheck(TInt,x), typecheck(TInt,y), x, y) with\n",
    "    | (true, true, Int(v), Int(w)) -> Int(v - w)\n",
    "    | (_,_,_,_) -> raise ( RuntimeError \"Wrong type\")\n",
    "\n",
    "(* Prodotto fra interi *)\n",
    "let int_times(x, y) =\n",
    "    match(typecheck(TInt,x), typecheck(TInt,y), x, y) with\n",
    "    | (true, true, Int(v), Int(w)) -> Int(v * w)\n",
    "    | (_,_,_,_) -> raise ( RuntimeError \"Wrong type\")\n",
    "    \n",
    "(* Divisione fra interi *)\n",
    "let int_div(x, y) =\n",
    "    match(typecheck(TInt,x), typecheck(TInt,y), x, y) with\n",
    "    | (true, true, Int(v), Int(w)) -> \n",
    "                    if w<>0 then Int(v / w)\n",
    "                            else raise (RuntimeError \"Division by zero\")\n",
    "    | (_,_,_,_) -> raise ( RuntimeError \"Wrong type\")\n",
    "\n",
    "(* Operazioni di confronto *)\n",
    "let less_than(x, y) = \n",
    "    match (typecheck(TInt,x), typecheck(TInt,y), x, y) with\n",
    "    | (true, true, Int(v), Int(w)) -> Bool(v < w)\n",
    "    | (_,_,_,_) -> raise ( RuntimeError \"Wrong type\")\n",
    "\n",
    "let greater_than(x, y) = \n",
    "    match (typecheck(TInt,x), typecheck(TInt,y), x, y) with\n",
    "    | (true, true, Int(v), Int(w)) -> Bool(v > w)\n",
    "    | (_,_,_,_) -> raise ( RuntimeError \"Wrong type\")\n",
    "\n",
    "(* Operazioni logiche *)\n",
    "let bool_and(x,y) = \n",
    "    match (typecheck(TBool,x), typecheck(TBool,y), x, y) with\n",
    "    | (true, true, Bool(v), Bool(w)) -> Bool(v && w)\n",
    "    | (_,_,_,_) -> raise ( RuntimeError \"Wrong type\")\n",
    "\n",
    "let bool_or(x,y) = \n",
    "    match (typecheck(TBool,x), typecheck(TBool,y), x, y) with\n",
    "    | (true, true, Bool(v), Bool(w)) -> Bool(v || w)\n",
    "    | (_,_,_,_) -> raise ( RuntimeError \"Wrong type\")\n",
    "\n",
    "let bool_not(x) = \n",
    "    match (typecheck(TBool,x), x) with\n",
    "    | (true, Bool(v)) -> Bool(not(v))\n",
    "    | (_,_) -> raise ( RuntimeError \"Wrong type\")"
   ]
  },
  {
   "cell_type": "markdown",
   "id": "025a4a4b",
   "metadata": {},
   "source": [
    "### Interprete"
   ]
  },
  {
   "cell_type": "code",
   "execution_count": 24,
   "id": "d4b51bc8",
   "metadata": {},
   "outputs": [
    {
     "data": {
      "text/plain": [
       "val eval : exp -> evT env -> evT = <fun>\n"
      ]
     },
     "execution_count": 24,
     "metadata": {},
     "output_type": "execute_result"
    }
   ],
   "source": [
    "(* Interprete *)\n",
    "let rec eval (e:exp) (s:evT env) : evT = \n",
    "    match e with\n",
    "    | EInt(n) -> Int(n)\n",
    "    | CstTrue -> Bool(true)\n",
    "    | CstFalse -> Bool(false)\n",
    "    | EString(s) -> String(s)\n",
    "    | Den(i) -> (s i)\n",
    "\n",
    "    | Prod(e1,e2) -> int_times((eval e1 s), (eval e2 s))\n",
    "    | Sum(e1, e2) -> int_plus((eval e1 s), (eval e2 s))\n",
    "    | Diff(e1, e2) -> int_sub((eval e1 s), (eval e2 s))\n",
    "    | Div(e1, e2) -> int_div((eval e1 s), (eval e2 s))\n",
    "\n",
    "    | IsZero(e1) -> is_zero (eval e1 s)\n",
    "    | Eq(e1, e2) -> int_eq((eval e1 s), (eval e2 s))\n",
    "    | LessThan(e1, e2) -> less_than((eval e1 s),(eval e2 s))\n",
    "    | GreaterThan(e1, e2) -> greater_than((eval e1 s),(eval e2 s))\n",
    "\n",
    "    | And(e1, e2) -> bool_and((eval e1 s),(eval e2 s))\n",
    "    | Or(e1, e2) -> bool_or((eval e1 s),(eval e2 s))\n",
    "    | Not(e1) -> bool_not(eval e1 s)\n",
    "\n",
    "    | IfThenElse(e1,e2,e3) -> \n",
    "        let g = eval e1 s in \n",
    "            (match (typecheck(TBool,g),g) with\n",
    "            |(true, Bool(true)) -> eval e2 s\n",
    "            |(true, Bool(false)) -> eval e3 s\n",
    "            |(_,_) -> raise ( RuntimeError \"Wrong type\")\n",
    "            )\n",
    "    | Let(i, e, ebody) -> eval ebody (bind s i (eval e s))\n",
    "    | Fun(arg, ebody) -> Closure(arg,ebody,s)\n",
    "    | FunFD(arg, ebody, edomain) -> \n",
    "        let domain = List.map (fun e -> eval e s) edomain\n",
    "        in if List.for_all (fun v -> typecheck(TInt,v)) domain\n",
    "            then FDClosure(arg, ebody, s, domain)\n",
    "            else raise ( RuntimeError \"wrong type\")\n",
    "    | Letrec(f, arg, fBody, leBody) ->\n",
    "        let benv = bind (s) (f) (RecClosure(f, arg, fBody,s)) in\n",
    "            eval leBody benv\n",
    "    | Apply(eF, eArg) ->\n",
    "        let fclosure = eval eF s in \n",
    "            (match fclosure with \n",
    "            | Closure(arg, fbody, fDecEnv) -> \n",
    "                let aVal = eval eArg s in \n",
    "                let aenv = bind fDecEnv arg aVal in \n",
    "                eval fbody aenv \n",
    "            | RecClosure(f, arg, fbody, fDecEnv) -> \n",
    "                let aVal = eval eArg s in\n",
    "                let rEnv = bind fDecEnv f fclosure in\n",
    "                let aenv = bind rEnv arg aVal in \n",
    "                eval fbody aenv\n",
    "            | FDClosure(arg, fbody, fDecEnv, domain) -> \n",
    "                let aVal = eval eArg s in \n",
    "                if List.exists (fun v -> v = aVal) domain\n",
    "                then\n",
    "                    let aenv = bind fDecEnv arg aVal in \n",
    "                    eval fbody aenv \n",
    "                else \n",
    "                    raise (RuntimeError \"input outside domain\")\n",
    "            | _ -> raise ( RuntimeError \"Wrong type\")\n",
    "            )"
   ]
  },
  {
   "cell_type": "code",
   "execution_count": 36,
   "id": "df9d34cb",
   "metadata": {},
   "outputs": [
    {
     "data": {
      "text/plain": [
       "val eFun : exp =\n",
       "  FunFD (\"x\", Sum (Den \"x\", EInt 1), [EInt 0; EInt 1; Sum (EInt 1, EInt 1)])\n"
      ]
     },
     "execution_count": 36,
     "metadata": {},
     "output_type": "execute_result"
    },
    {
     "data": {
      "text/plain": [
       "val eAppl : exp =\n",
       "  Apply\n",
       "   (FunFD (\"x\", Sum (Den \"x\", EInt 1),\n",
       "     [EInt 0; EInt 1; Sum (EInt 1, EInt 1)]),\n",
       "   EInt 1)\n"
      ]
     },
     "execution_count": 36,
     "metadata": {},
     "output_type": "execute_result"
    },
    {
     "data": {
      "text/plain": [
       "- : evT = Int 2\n"
      ]
     },
     "execution_count": 36,
     "metadata": {},
     "output_type": "execute_result"
    }
   ],
   "source": [
    "let eFun = FunFD(\"x\", Sum(Den(\"x\"), EInt(1)), [EInt(0); EInt(1); Sum(EInt(1), EInt(1))]);;\n",
    "\n",
    "let eAppl = Apply(e1, EInt(1));;\n",
    "\n",
    "eval eAppl emptyenv;;"
   ]
  }
 ],
 "metadata": {
  "kernelspec": {
   "display_name": "OCaml default",
   "language": "OCaml",
   "name": "ocaml-jupyter"
  },
  "language_info": {
   "codemirror_mode": "text/x-ocaml",
   "file_extension": ".ml",
   "mimetype": "text/x-ocaml",
   "name": "OCaml",
   "nbconverter_exporter": null,
   "pygments_lexer": "OCaml",
   "version": "4.08.1"
  },
  "rise": {
   "enable_chalkboard": true,
   "scroll": true
  }
 },
 "nbformat": 4,
 "nbformat_minor": 5
}
