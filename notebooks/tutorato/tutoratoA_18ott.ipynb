{
 "cells": [
  {
   "cell_type": "markdown",
   "id": "b5cf01d5",
   "metadata": {},
   "source": [
    "#### Ex 1: is_function\n",
    "Scrivere una funzione `is_function` che prenda in input una relazione `r` (cioè una lista di coppie `(x, y)` di interi) e restituisca `true` se `r` è una funzione parziale, `false` altrimenti.\n",
    "\n",
    "Per esempio, se `r1 = [(1,1); (2,2); (3,3); (4,4)]` e `r2 = [(1,2); (2,4); (3,6); (1,0) ]`, `is_function r1` dovrà restituire `true`, `is_function r2` dovrà resituire `false`"
   ]
  },
  {
   "cell_type": "code",
   "execution_count": 2,
   "id": "774a06a7",
   "metadata": {
    "slideshow": {
     "slide_type": "subslide"
    }
   },
   "outputs": [
    {
     "data": {
      "text/plain": [
       "val is_function : ('a * 'b) list -> bool = <fun>\n"
      ]
     },
     "execution_count": 2,
     "metadata": {},
     "output_type": "execute_result"
    },
    {
     "data": {
      "text/plain": [
       "- : bool = true\n"
      ]
     },
     "execution_count": 2,
     "metadata": {},
     "output_type": "execute_result"
    },
    {
     "data": {
      "text/plain": [
       "- : bool = false\n"
      ]
     },
     "execution_count": 2,
     "metadata": {},
     "output_type": "execute_result"
    }
   ],
   "source": [
    "(* Per verificare che list sia una funzione, dobbiamo verirficare che non assegni \n",
    "due otuput diversi allo stesso input. Cioè, all'interno di list non devono esserci due elementi\n",
    "(x1, y1) e (x2, y2) tali che x1=x2 ma y1 <> y2. Dobbiamo perciò controllare solo le coppie\n",
    "che condividono la stessa x.\n",
    "*)\n",
    "let is_function list = \n",
    "    (*per avere tutte le coppie che condividono lo stessa x affiancate, possiamo\n",
    "      ordinare la lista in base al primo elemento. La funzione List.sort si aspetta in input\n",
    "      una funzione binaria f, tale che se a < b, f a b sia minore di zero, se a > b allora \n",
    "      f a b sia maggiore di zero etc.\n",
    "      Visto che noi vogliamo che la coppia (x1, y1) preceda la coppia (x2, y2) solo in base\n",
    "      al primo elemento, possiamo scrivere una funzione f che si dimentichi delle y e confronti\n",
    "      solo le x.*)\n",
    "    let sorted = List.sort (fun (x1, _) (x2, _) -> compare x1 x2) list in\n",
    "    (*per controllare che due elementi (adiacenti) non abbiano la stessa x\n",
    "      ma y diverse, usiamo il pattern matching per catturare i primi 2 elementi\n",
    "      in testa alla lista, non solo il primo elemento*)\n",
    "    let rec aux list = match list with\n",
    "        |[] -> true\n",
    "        |[(x, y)] -> true\n",
    "        |(x1, y1)::(x2, y2)::t -> \n",
    "                    (*mettendo y1 = y2 in and con il risultato della chiamata ricorsiva,\n",
    "                    la funzione viene chiamata solo se y1=y2 è verificato.\n",
    "                    Cioè è del tutto equivalente a scrivere\n",
    "                    if x1 = x2 then (if y1 = y2 then aux .. else false) else ..*)\n",
    "                    if x1 = x2 then (y1 = y2) && aux ((x2, y2)::t)\n",
    "                                    else aux ((x2, y2)::t)\n",
    "    in\n",
    "    aux sorted;;\n",
    "    \n",
    "is_function [(1,1); (2,2); (3,3); (4,4)];;\n",
    "is_function [(1,2); (2,4); (3,6); (1,0)];;"
   ]
  },
  {
   "cell_type": "markdown",
   "id": "8ace906b",
   "metadata": {},
   "source": [
    "#### Ex 2: Quicksort\n",
    "Scrivere una funzione `quicksort` che usi l'algoritmo quicksort per ordinare gli elementi di una lista.\n",
    "\n",
    "Hint: L'operazione `partition pivot list` del quicksort, nel paradigma funzionale, consiste nel costruire due nuove liste, una con tutti gli elementi di `list` minori o uguali a `pivot`, l'altra con tutti gli elementi maggiori\n"
   ]
  },
  {
   "cell_type": "code",
   "execution_count": 6,
   "id": "384962e2",
   "metadata": {},
   "outputs": [
    {
     "data": {
      "text/plain": [
       "val quicksort : 'a list -> 'a list = <fun>\n"
      ]
     },
     "execution_count": 6,
     "metadata": {},
     "output_type": "execute_result"
    },
    {
     "data": {
      "text/plain": [
       "val quicksort2 : 'a list -> 'a list = <fun>\n"
      ]
     },
     "execution_count": 6,
     "metadata": {},
     "output_type": "execute_result"
    },
    {
     "data": {
      "text/plain": [
       "- : int list = [2; 3; 3; 4; 4; 5; 6; 11]\n"
      ]
     },
     "execution_count": 6,
     "metadata": {},
     "output_type": "execute_result"
    }
   ],
   "source": [
    "(*L'algoritmo che vogliamo implementare è:\n",
    "    Se la lista è di 0 o 1 elemento, allora è già ordinata\n",
    "    Se la lista è di più di 1 elemento, allora \n",
    "      1: prendiamo il primo elemento come pivot e dividiamo il resto \n",
    "        della lista in due sottoliste, left e right. left e right \n",
    "        devono contenere, rispettivamente, tutti gli elementi <= \n",
    "        del pivot, o tutti gli elementi maggiori.\n",
    "      2: Ordiniamo ricorsivamente  left e right.\n",
    "      3: Restituiamo left (ordinato) concatenato col pivot concatenato con right (ordinato)\n",
    "*)\n",
    "let rec quicksort list = \n",
    "    (*la funztione partion divide list in due sottoliste.\n",
    "      Esegue uan fold su list, e come accumulatore usa una coppia di liste, left e right,\n",
    "      inizialmente entrambe vuote. Ogni elemento di list che incontra viene aggiungo a left o right,\n",
    "      e alla fine l'accumulatore (cioè (left, right)) conterrà tutti gli elementi di list*)\n",
    "    let partition list pivot = \n",
    "        List.fold_left (\n",
    "            fun (left, right) el -> if el <= pivot \n",
    "                                    then (el::left, right) \n",
    "                                    else (left, el::right)\n",
    "        ) ([], []) list\n",
    "    in\n",
    "    match list with\n",
    "    |[] -> []\n",
    "    |[x] -> [x]\n",
    "    |h::t ->\n",
    "            (*scegliamo h come pivot, e facciamo la partition di t (senza h!)*)\n",
    "            let left, right = partition t h in\n",
    "                quicksort left @ [h] @ quicksort right;;\n",
    "\n",
    "(*Al posto di implementare a mano la funzione partition, possiamo usare la funzione \n",
    "    di ordine superiore List.partition. Quest'ultima accetta in input un predicato e una lista, \n",
    "    e restituisce una coppia di liste: la prima contiene tutti gli elementi che soddisfano il predicato,\n",
    "    la seconda tutti quelli che non lo soddisfano. \n",
    "    (Per predicato si intende uan funzione di un solo argomento che restituisca true o false)\n",
    "    *)\n",
    "let rec quicksort2 list =\n",
    " match list with\n",
    "    |[] -> []\n",
    "    |[x] -> [x]\n",
    "    |h::t -> let left, right = List.partition (fun el -> el <= h) t in\n",
    "                quicksort left @ [h] @ quicksort right;;\n",
    "\n",
    "quicksort2 [2;4;5;3;6;4;11;3;];;"
   ]
  },
  {
   "cell_type": "markdown",
   "id": "00e52b7c",
   "metadata": {},
   "source": [
    "#### Ex 3: Leaves\n",
    "Data la definizione di albero binario riportata sotto, scrivere una funzione `leaves` che, preso in input un albero, restituisca una lista con tutte le sue foglie."
   ]
  },
  {
   "cell_type": "code",
   "execution_count": 9,
   "id": "0da7df4a",
   "metadata": {},
   "outputs": [
    {
     "data": {
      "text/plain": [
       "type 'a binary_tree = Empty | Node of 'a * 'a binary_tree * 'a binary_tree\n"
      ]
     },
     "execution_count": 9,
     "metadata": {},
     "output_type": "execute_result"
    },
    {
     "data": {
      "text/plain": [
       "val leaves : 'a binary_tree -> 'a list = <fun>\n"
      ]
     },
     "execution_count": 9,
     "metadata": {},
     "output_type": "execute_result"
    },
    {
     "data": {
      "text/plain": [
       "val leaves2 : 'a binary_tree -> 'a list = <fun>\n"
      ]
     },
     "execution_count": 9,
     "metadata": {},
     "output_type": "execute_result"
    }
   ],
   "source": [
    "type 'a binary_tree =\n",
    "    | Empty\n",
    "    | Node of 'a * 'a binary_tree * 'a binary_tree;;\n",
    "    \n",
    "let rec leaves tree = match tree with\n",
    "    | Empty -> [] (*se l'albero è vuoto, non ha foglie*)\n",
    "    | Node(x, Empty, Empty) -> [x] (*se c'è una sola foglia, restituiamo la lista con una sola foglia*)\n",
    "    | Node(_, left, right) -> leaves left @ leaves right;;\n",
    "            (*se almeno uno fra left o right sono non vuoti, allora restituiamo \n",
    "            tutte le foglie del sottoalbero di sinitra più tutte le foglie del sottoalbero di destra*)\n",
    "\n",
    "(*La soluzione precedente ricalca esattamente una definizione \"insiemistica\", \n",
    "  dove [] è l'insieme vuoto e @ è l'unione. L'operatore @ però non è computazionalmente \n",
    "  efficiente, perchè richiede tempo lineare per concatenare due liste.\n",
    "  Una soluzione più efficiente è quella di implementare una \"fold\" dell'albero,\n",
    "  ovvero una operazione che percorre tutti i nodi dell'albero e costruisce man mano \n",
    "  la soluzione all'interno di un parametro accumulatore. \n",
    "  In questo caso l'accumulatore sarà una lista dentro la quale conserveremo tutte le foglie\n",
    "  incontrate, ma lo stesso identico algoritmo può essere usato anche per calcolare\n",
    "  la somma di tutti gli elementi, il minimo di tutti gli elementi, etc ..,\n",
    "  come si fa per la fold_left o fold_right.*)\n",
    "let leaves2 tree = \n",
    "    let rec aux tree acc = \n",
    "        match tree with\n",
    "        |Empty -> acc \n",
    "        |Node(x, Empty, Empty) -> x::acc\n",
    "        |Node(_, left, right) -> \n",
    "            (*prima raccolgo dentro leaves_left tutte le foglie\n",
    "            del sottoalbero sinistro, poi ad esse aggiungo\n",
    "            tutte le foglie del sottoalbero destro*)\n",
    "            let leaves_left = aux left acc in\n",
    "            let leaves = aux right leaves_left in\n",
    "            leaves\n",
    "    in\n",
    "    aux tree [];; (*inizialmente l'accumulatore è vuoto*)"
   ]
  }
 ],
 "metadata": {
  "kernelspec": {
   "display_name": "OCaml default",
   "language": "OCaml",
   "name": "ocaml-jupyter"
  },
  "language_info": {
   "codemirror_mode": "text/x-ocaml",
   "file_extension": ".ml",
   "mimetype": "text/x-ocaml",
   "name": "OCaml",
   "nbconverter_exporter": null,
   "pygments_lexer": "OCaml",
   "version": "4.08.1"
  }
 },
 "nbformat": 4,
 "nbformat_minor": 5
}
