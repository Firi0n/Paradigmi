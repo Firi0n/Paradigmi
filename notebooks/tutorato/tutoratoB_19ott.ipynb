{
 "cells": [
  {
   "cell_type": "markdown",
   "id": "2645438c",
   "metadata": {},
   "source": [
    "#### Ex 1:  Compress\n",
    "Scrivere una funzione `compress` che, presa una lista, elimini gli elementi duplicati consecutivi\n",
    "\n",
    "```\n",
    "compress [\"a\"; \"a\"; \"a\"; \"a\"; \"b\"; \"c\"; \"c\"; \"a\"; \"a\"; \"d\"; \"e\"; \"e\"; \"e\"; \"e\"];;\n",
    "- : string list = [\"a\"; \"b\"; \"c\"; \"a\"; \"d\"; \"e\"]\n",
    "```"
   ]
  },
  {
   "cell_type": "code",
   "execution_count": 1,
   "id": "b5fe0b3b",
   "metadata": {},
   "outputs": [
    {
     "data": {
      "text/plain": [
       "val compress : 'a list -> 'a list = <fun>\n"
      ]
     },
     "execution_count": 1,
     "metadata": {},
     "output_type": "execute_result"
    },
    {
     "data": {
      "text/plain": [
       "- : string list = [\"a\"; \"b\"; \"c\"; \"a\"; \"d\"; \"e\"]\n"
      ]
     },
     "execution_count": 1,
     "metadata": {},
     "output_type": "execute_result"
    }
   ],
   "source": [
    "(*Dovendo scartare elementi duplicati consecutivi, \n",
    "  possiamo sfruttare un pattern che riconosca \n",
    "  i primi *due* elementi della lista*)\n",
    "let rec compress list = \n",
    "    match list with\n",
    "    |[] -> []\n",
    "    |[x] -> [x]\n",
    "    |x::y::t -> if x <> y \n",
    "                (*se sono distinti, conservo x\n",
    "                  e mi richiamo ricorsivamente*)\n",
    "                then x::(compress (y::t)) \n",
    "                (*se sono uguali, scarto x,\n",
    "                  e mi richiamo ricorsivamente*)\n",
    "                else (compress (y::t));;\n",
    "                (*se effettuassi la chiamata ricorsiva su t, e non su y::t,\n",
    "                  perderei l'informazione di y. Quindi il pattern matchin riiconosce\n",
    "                  gli elementi x e y, ma ogni chiamata ricorsiva opera solo sull'\n",
    "                  elemento x*)\n",
    "\n",
    "compress [\"a\"; \"a\"; \"a\"; \"a\"; \"b\"; \"c\"; \"c\"; \"a\"; \"a\"; \"d\"; \"e\"; \"e\"; \"e\"; \"e\"];;"
   ]
  },
  {
   "cell_type": "markdown",
   "id": "a0744bb6",
   "metadata": {},
   "source": [
    "#### Ex 2: Run Length Encoding\n",
    "\n",
    "Scrivere una funzione `rle` che effettui il **Run Length Encoding** di una lista (https://www.geeksforgeeks.org/run-length-encoding/). \n",
    "```\n",
    "rle [\"a\"; \"a\"; \"a\"; \"a\"; \"b\"; \"c\"; \"c\"; \"a\"; \"a\"; \"d\"; \"e\"; \"e\"; \"e\"; \"e\"];;\n",
    "- : (int * string) list =\n",
    "[(\"a\", 4); (\"b\", 1); (\"c\", 2); (\"a\", 2); (\"d\", 1); (\"e\", 4)]\n",
    "```"
   ]
  },
  {
   "cell_type": "code",
   "execution_count": 2,
   "id": "0bbd0675",
   "metadata": {},
   "outputs": [
    {
     "data": {
      "text/plain": [
       "val rle : 'a list -> ('a * int) list = <fun>\n"
      ]
     },
     "execution_count": 2,
     "metadata": {},
     "output_type": "execute_result"
    },
    {
     "data": {
      "text/plain": [
       "- : (string * int) list =\n",
       "[(\"a\", 4); (\"b\", 1); (\"c\", 2); (\"a\", 2); (\"d\", 1); (\"e\", 4)]\n"
      ]
     },
     "execution_count": 2,
     "metadata": {},
     "output_type": "execute_result"
    }
   ],
   "source": [
    "(* Come nella funzione precedente, possiamo usare un \n",
    "  pattern che riconosca i primi 2 elementi della lista,\n",
    "  per poter controllare se sono uguali o distinti.\n",
    "  Questa informazione però non è sufficiente, è necessario anche\n",
    "  sapere quanti caratteri uguali si sono incontrati fin'ora,\n",
    "  per questo va usato un parametro aggiuntivo count.\n",
    "*)\n",
    "let rle list = \n",
    "    let rec aux list count = \n",
    "        match list with\n",
    "        |[] -> []\n",
    "        |[x] -> [(x, count+1)] (*ho incontrato count occorrenze di x prima di ora*)\n",
    "        (*grazie al costrutto as, definisco 4 variabili in una volta sola:\n",
    "        x è il primo elemento, y il secondo, t è la *lista* (forse vuota)\n",
    "        di elementi dopo y, e rest è definito come y::t, cioè la lista di elementi\n",
    "        da y in poi*)\n",
    "        |x::(y::t as rest) -> if x = y \n",
    "                            (*se sono uguali, non devo aggiungere x al risultato,\n",
    "                              devo solo aumentare count*)    \n",
    "                            then (aux rest (count+1))\n",
    "                            (*se sono diversi, devo aggiungere x al risultato,\n",
    "                              sotto forma di coppia (elemento * numero di occorrenze)\n",
    "                              Dopo di che continuo a percorrere la lista resettando\n",
    "                              count a 0*)\n",
    "                            else (x, count+1)::(aux rest 0)\n",
    "    in\n",
    "    aux list 0;;\n",
    "\n",
    "rle [\"a\"; \"a\"; \"a\"; \"a\"; \"b\"; \"c\"; \"c\"; \"a\"; \"a\"; \"d\"; \"e\"; \"e\"; \"e\"; \"e\"];;"
   ]
  },
  {
   "cell_type": "markdown",
   "id": "b9b33f10",
   "metadata": {},
   "source": [
    "#### Ex 3: Ordinare le liste per frequenza\n",
    "\n",
    "Data una lista di liste, come `let l = [[1;1;1;1]; [1; 2]; [1;2;3;4;5]; [1]; [3;3;3;3]; [6; 7]]`, a ogni elemento `e` di `l` è associata una lunghezza (`List.length e`). Diciamo che una lunghezza `x` è più **frequente** di una lunghezza `y` se ci sono più elementi di lunghezza `x` che elementi di lunghezza `y`. Ad esempio in `l`, ci sono 2 liste di lunghezza 4 e solo una lista di lunghezza 1, quindi 4 è più frequente di 1.\n",
    "\n",
    "Scrivere una funzione `sort_by_frequency` che, presa una lista di liste come input, ordini quella lista per frequenza crescente delle lunghezze, ovvero mettendo prima le liste con lunghezze più rare (i.e. con una frequenza più bassa) e poi quelle con lunghezze più comuni.\n",
    "\n",
    "```\n",
    "sort_by_frequency [[1;1;1;1]; [1; 2]; [1;2;3;4;5]; [1]; [3;3;3;3]; [6; 7]];;\n",
    "- : int list list =\n",
    "[[1; 2; 3; 4; 5]; [1]; [1; 1; 1; 1]; [1; 2]; [3; 3; 3; 3]; [6; 7]]\n",
    "```\n",
    "\n",
    "Hint: Una volta ottenuta una lista di tutte le lunghezze delle liste in `l`, applicando la funzione di RLE dell'esercizio precedente si ottiene una lista di coppie, che associa a ogni lunghezza `x` la sua frequenza `f`. Consultando questa lista di coppie è possibile associare a ogni lista in `l` la frequenza della propria lunghezza. Le funzioni List.sort e List.assoc possono essere utili."
   ]
  },
  {
   "cell_type": "code",
   "execution_count": 4,
   "id": "045bc17d",
   "metadata": {},
   "outputs": [
    {
     "data": {
      "text/plain": [
       "val sort_by_frequency : 'a list list -> 'a list list = <fun>\n"
      ]
     },
     "execution_count": 4,
     "metadata": {},
     "output_type": "execute_result"
    },
    {
     "data": {
      "text/plain": [
       "- : int list list =\n",
       "[[1; 2; 3; 4; 5]; [1]; [1; 1; 1; 1]; [1; 2]; [3; 3; 3; 3]; [6; 7]]\n"
      ]
     },
     "execution_count": 4,
     "metadata": {},
     "output_type": "execute_result"
    }
   ],
   "source": [
    "(*\n",
    "  L'algoritmo che vogliamo implementare è composto da due parti\n",
    "   1) Ottenere, per ogni lunghezza la frequenza sua frequenza\n",
    "   2) Ottenere, per ogni lista, la frequenza della lunghezza della lista\n",
    "   3) Ordinare le liste in base alla frequenza\n",
    "  \n",
    "  Per implementare il primo passo, dobbiamo sapere la frequenza di ogni lunghezza,\n",
    "  ovvero sapere quante occorrenze ha una lunghezza. Possiamo costruire una lista \"length\"\n",
    "  che contenga, anzichè altre liste, solo la lunghezza di queste liste. Per contare quindi\n",
    "  quante occorrenze abbia ciascun elemento di \"lengths\", sono possibili 2 approcci:\n",
    "   -Ordinare la lista, così da avere gli elementi duplicati affiancati,\n",
    "    e poterli quindi contare in una seconda passata. (Complessità O(nlogn) in tempo)\n",
    "   -Effettuare un'unica passata della lista, usando una hashmap per sapere quante volte\n",
    "    è stato visitato ogni elemento. (Complessità O(n) in tempo, ma O(n) anche in spazio)\n",
    "  In questo esercizio useremo il primo approccio, ordinano \"lengths\" e poi contando le \n",
    "  occorrenze di ogni elemento, Ottieniamo così una lista di coppie \"frequencies\", dove\n",
    "  ogni coppia è costituita da (lunghezza, frequenza).\n",
    "  \n",
    "  Per implementare il secondo passo, data la lista \"frequencies\", dobbiamo sapere di una lista \"l\"\n",
    "  quale è la frequenza della sua lunghezza, ovverro dobbiamo calcolare la lunghezza di l e\n",
    "  cercare a quale frequenza è associata quella lunghezza (i.e. dobbiamo cercare una coppia\n",
    "  (len, freq) all'interno di frequencies, tale che len sia proprio la lunghezza di l)\n",
    "\n",
    "  Per implementare il terzo passo, basta utilizzare la funzione List.sort. Essa si aspetta in input\n",
    "  una lista da ordinare e una funzione binaria f, tale che se a < b, f a b sia minore di zero,\n",
    "  se a > b allora f a b sia maggiore di zero etc. Quindi, volendo ordinare le liste in base alla frequenza,\n",
    "  dobbiamo scrivere una funzione f che, date due liste l1 e l2, restituisca un numero < 0 se la frequenza di l1\n",
    "  è minore della frequenza di l2, e così via\n",
    "*)\n",
    "\n",
    "let sort_by_frequency lists = \n",
    "    (*-----PASSO 1--------*)\n",
    "    (*Usiamo la funzione map per sostituire ogni lista in lists con la sua lunghezza*)\n",
    "    let lengths = List.map (fun list -> List.length list) lists in\n",
    "    (*Usiamo la funzione sort con il parametro compare, dove compare è una funzione tale che:\n",
    "      se a < b, compare a b <0, se a > b allora compare a b > 0, se a = b,\n",
    "      compare a b = 0\n",
    "      Usare List.sort compare su una lista di interi vuol dire quindi ordinarli secondo\n",
    "      la normale nozione di ordinamento \"<\"*)\n",
    "    let sorted_lengths = List.sort compare lengths in\n",
    "    (*Ora che le lunghezze uguali sono affiancate, basta eseguire la funzione rle definita prima\n",
    "      per ottenere una associazione fra lunghezze e frequenze.\n",
    "      Ovvero, si passa da \n",
    "          [1; 1; 1; 2; 3; 4; 4; 4;] a [(1, 3); (2, 1); (3, 1); (4, 3);]\n",
    "      dove ogni lunghezza si trova in una coppia insieme alla sua frequenza \n",
    "      (cioè insieme al suo numero di occorrenze)*)\n",
    "    let frequencies = rle sorted_lengths in\n",
    "    \n",
    "    (*-----PASSO 2--------*)\n",
    "    let get_frequency list = \n",
    "      (*cerca la lunghezza length dentro la lista di coppie\n",
    "        association, e restituisce la frequenza*)\n",
    "      let rec search_frequency length association = \n",
    "       match association with\n",
    "        |[] -> failwith \"Non dovremmo mai raggiungere la fine di frequencies\"\n",
    "        |(len, freq)::t -> if len = length then freq\n",
    "                           else search_frequency length t\n",
    "      in\n",
    "      \n",
    "      (*calcoliamo la lunghezza di list e poi cerca a quale\n",
    "        frequenza è associata quella lunghezza*)\n",
    "      let length = List.length list in\n",
    "      search_frequency length frequencies\n",
    "    in\n",
    "    \n",
    "    (*-----PASSO 3--------*)\n",
    "    (*Ordiniamo le liste all'interno di lists in base alla loro frequenza,\n",
    "      ovvero ordinandole secondo compare sulla frequenza della lunghezza \n",
    "      di ogni lista*)\n",
    "    List.sort (\n",
    "      fun l1 l2 -> compare (get_frequency l1) (get_frequency l2)\n",
    "    ) lists;;\n",
    "    \n",
    "sort_by_frequency [[1;1;1;1]; [1; 2]; [1;2;3;4;5]; [1]; [3;3;3;3]; [6; 7]];;\n",
    "    "
   ]
  }
 ],
 "metadata": {
  "kernelspec": {
   "display_name": "OCaml default",
   "language": "OCaml",
   "name": "ocaml-jupyter"
  },
  "language_info": {
   "codemirror_mode": "text/x-ocaml",
   "file_extension": ".ml",
   "mimetype": "text/x-ocaml",
   "name": "OCaml",
   "nbconverter_exporter": null,
   "pygments_lexer": "OCaml",
   "version": "4.08.1"
  }
 },
 "nbformat": 4,
 "nbformat_minor": 5
}
