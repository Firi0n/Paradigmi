{
 "cells": [
  {
   "cell_type": "markdown",
   "id": "791dab2f",
   "metadata": {},
   "source": [
    "## Es. 1:\n",
    "Scrivere una funzione `sum n` che calcoli **ricorsivamente** la somma di tutti i numeri da 0 a n. Usarla poi per calcolare `sum 1000000`"
   ]
  },
  {
   "cell_type": "code",
   "execution_count": null,
   "id": "27405a57",
   "metadata": {},
   "outputs": [],
   "source": [
    "let rec sum n = ???"
   ]
  },
  {
   "cell_type": "markdown",
   "id": "c8df242f",
   "metadata": {},
   "source": [
    "## Es. 2:\n",
    "Scrivere una funzione `square_evens l` che prende una lista  `l` e restituisce una lista `l'`, contenente **solo** gli elementi pari di `l`, elevati al quadrato.\n",
    "\n",
    "    square_evens [4; 1; 5; 4; 10] = [16; 16; 100]\n",
    " \n",
    " Scrivere due versioni di `square_evens`, una usando ricorsione e pattern matching, una usando funzioni di ordine superiore (non necessariamente `fold`)."
   ]
  },
  {
   "cell_type": "code",
   "execution_count": null,
   "id": "0a212f48",
   "metadata": {},
   "outputs": [],
   "source": []
  },
  {
   "cell_type": "markdown",
   "id": "6e1d33b9",
   "metadata": {},
   "source": [
    "## Es. 3: \n",
    "\n",
    "Scrivere una funzione `drop n l` che prende un intero e una lista, e scarta tutti gli elementi di `l` con **indice** multiplo di n. Usare sia la ricorsione che `fold_left` o `fold_right`.\n",
    "\n",
    "    drop 2 [1; 2; 3; 17; 42] = [1; 3; 42]"
   ]
  },
  {
   "cell_type": "code",
   "execution_count": null,
   "id": "c5d2fe5b",
   "metadata": {},
   "outputs": [],
   "source": []
  },
  {
   "cell_type": "markdown",
   "id": "ce20293b",
   "metadata": {},
   "source": [
    "## Es. 4:\n",
    "Scrivere una funzione `ordered l` che restituisca `true` se e solo se `l` è una lista ordinata.\n",
    "\n",
    "    ordered [1; 2; 4; 10] = true\n",
    "    ordered [1; 3; 2; 10] = false"
   ]
  },
  {
   "cell_type": "code",
   "execution_count": null,
   "id": "e91309d5",
   "metadata": {},
   "outputs": [],
   "source": []
  }
 ],
 "metadata": {
  "kernelspec": {
   "display_name": "OCaml default",
   "language": "OCaml",
   "name": "ocaml-jupyter"
  },
  "language_info": {
   "codemirror_mode": "text/x-ocaml",
   "file_extension": ".ml",
   "mimetype": "text/x-ocaml",
   "name": "OCaml",
   "nbconverter_exporter": null,
   "pygments_lexer": "OCaml",
   "version": "4.08.1"
  }
 },
 "nbformat": 4,
 "nbformat_minor": 5
}
