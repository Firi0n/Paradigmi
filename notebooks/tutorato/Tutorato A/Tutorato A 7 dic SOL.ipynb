{
 "cells": [
  {
   "cell_type": "markdown",
   "id": "0164a0c5",
   "metadata": {},
   "source": [
    "## Esercizio: \n",
    "Si estenda il linguaggio MiniCaml visto a lezione con il costrutto CodaLimitata per la definizione di code\n",
    "con lunghezza massima prefissata. In aggiunta, il linguaggio è esteso con le operazioni primitive `insert` e\n",
    "`remove`, che rispettano la politica FIFO, e `peek`, che restituisce l’elemento in cima alla coda. Si mostri come\n",
    "deve essere modificato l’interprete OCaml del linguaggio"
   ]
  },
  {
   "cell_type": "markdown",
   "id": "67b9072b",
   "metadata": {},
   "source": [
    "### Soluzione:"
   ]
  },
  {
   "cell_type": "markdown",
   "id": "e1691864",
   "metadata": {},
   "source": [
    "Per qualsiasi estensione di minicaml, **la funzione `eval` è la prima a cui pensare, sebbene sia l'ultima da scrivere**. In questo caso, vogliamo che `eval` assegni un valore alle nuove espressioni su queue, quindi ci serviranno dei nuovi nodi dell'AST (dentro `exp`) e dei nuovi valori di MiniCaml dentro (`evT`). **Precisazione**, non è sempre questo il caso. Se dovessimo ad esempio estendere MiniCaml con un costrutto\n",
    "\n",
    "    if(guard) exp elif (guard) exp  ... elif(guard) exp else exp\n",
    "vogliamo che `eval` valuti le guardie ed esegua l'espressione corrispondente. In questo caso non abbiamo bisogno di estendere `evT`, perchè non c'è nessun nuovo valore che MiniCaml può trattare"
   ]
  },
  {
   "cell_type": "markdown",
   "id": "de4294b2",
   "metadata": {},
   "source": [
    "Ritornando al nostro esercizio, dobbiamo aggiungere all'AST tutte le espressioni necessarie per la creazione, inserzione, rimozione e peek su code. Possiamo immaginare che la lunghezza massima di una queue venga determinata dall'utente al momento della creazione, e quindi definiamo il costrutto `EQueue of exp`, dove exp sarà la nostra lunghezza massima. Questo costrutto insomma permette di creare code vuote con una lunghezza massima prefissata. Un'alternativa postrebbe essere `EQueue of exp * exp list`, dove la creazione di una coda contiene sia la lunghezza massima che il suo contenuto iniziale. Nel dubbio, seguiamo l'alternativa più semplice."
   ]
  },
  {
   "cell_type": "code",
   "execution_count": null,
   "id": "571cad2c",
   "metadata": {},
   "outputs": [],
   "source": [
    "type exp = \n",
    "| ...\n",
    "| EQueue of exp\n",
    "| EPeek of exp\n",
    "| ERemove of exp\n",
    "| EInsert of exp * exp"
   ]
  },
  {
   "cell_type": "markdown",
   "id": "9d38b98d",
   "metadata": {},
   "source": [
    "Come detto, dobbiamo aggiungere un nuovo valore dentro `evT`, che rappresenti una queue di valori con lunghezza massima prefissata. Aggiungiamo anche il corrispettivo tipo di MiniCaml, e aggiorniamo `gettype` e `typecheck`.\n",
    "\n",
    "Ipotizziamo che le primitive `insert`, `peek` e `remove` siano già implementate. Durante il compito, chiedete sempre se dovete implementare le primitive o meno."
   ]
  },
  {
   "cell_type": "code",
   "execution_count": null,
   "id": "c5c4d13d",
   "metadata": {},
   "outputs": [],
   "source": [
    "type evT = \n",
    "| ...\n",
    "| Queue of int * evT list\n",
    "\n",
    "type tname = ... | TQueue\n",
    "\n",
    "let gettype v = \n",
    "    match v with\n",
    "    | ... \n",
    "    | Queue -> TQueue\n",
    "\n",
    "let typecheck (v, t) = \n",
    "    match t with\n",
    "    | ... \n",
    "    | TQueue -> ( match v with\n",
    "                  Queue _ -> true\n",
    "                  _ -> false)"
   ]
  },
  {
   "cell_type": "markdown",
   "id": "a0edb056",
   "metadata": {},
   "source": [
    "Per la funzione di valutazione, dobbiamo fare caso a:\n",
    "- Nell'espressione `EQueue(eSize)`, dobbiamo controllare che `eSize` valuti ad un intero, e associarle una queue vuota.\n",
    "- Nell'espressione `EInsert(eQueue, eEl)` dobbiamo controllare che `eQueue` valuti ad una queue, e che tale queue non sia già piena.\n",
    "- Nelle espressioni `EPeek` e `ERemove` dobbiamo solo controllare che `eQueue` valuti ad una queue. In alternativa, potremmo anche direttamente chiamare la primitiva corrispondente, scrivendo a caratteri cubitali: \n",
    "\n",
    "    > \"Assumo che la primitiva esegua anche le necessarie operazioni di typechecking, ad esempio chiamando `typecheck(TQueue, v)`\"\n",
    "\n",
    "   In un modo o nell'altro, rendete sempre chiaro che sapete come funziona l'interprete, non scrivete semplicemente \"questa parte è già implementata\"."
   ]
  },
  {
   "cell_type": "code",
   "execution_count": null,
   "id": "5b4d60b3",
   "metadata": {},
   "outputs": [],
   "source": [
    "let rec eval e s = \n",
    "    match e with \n",
    "    | ... -> \n",
    "    |EQueue(eSize) -> \n",
    "        let size = eval eSize s in\n",
    "        if typecheck(TInt, size)\n",
    "            then Queue(size, [])\n",
    "            else raise Error(\"Queue size must be integer\")\n",
    "    |EPeek(eQueue) -> \n",
    "        let queue = eval eQueue s in\n",
    "        if typecheck(TQueue, queue)\n",
    "            then peek(queue)\n",
    "            else raise Error(\"Wrong type\")\n",
    "    |ERemove(eQueue) -> \n",
    "        let queue = eval eQueue s in\n",
    "        if typecheck(TQueue, queue)\n",
    "            then remove(queue)\n",
    "            else raise Error(\"Wrong type\")\n",
    "    |EInsert(eQueue, eEl) -> \n",
    "        let queue = eval eQueue s in\n",
    "        let el = eval eEl s in\n",
    "        match queue with\n",
    "        |Queue(n, l) ->\n",
    "            if List.length l < n \n",
    "                then insert(queue, el)\n",
    "                else raise Error(\"Full Queue\")\n",
    "        | _ -> raise Error(\"Wrong type\")"
   ]
  }
 ],
 "metadata": {
  "kernelspec": {
   "display_name": "OCaml default",
   "language": "OCaml",
   "name": "ocaml-jupyter"
  },
  "language_info": {
   "codemirror_mode": "text/x-ocaml",
   "file_extension": ".ml",
   "mimetype": "text/x-ocaml",
   "name": "OCaml",
   "nbconverter_exporter": null,
   "pygments_lexer": "OCaml",
   "version": "4.08.1"
  }
 },
 "nbformat": 4,
 "nbformat_minor": 5
}
