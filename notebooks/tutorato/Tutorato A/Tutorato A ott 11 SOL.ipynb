{
 "cells": [
  {
   "cell_type": "markdown",
   "id": "05385bd2",
   "metadata": {},
   "source": [
    "## Es. 1:\n",
    "Scrivere una funzione `power b e` che calcoli **ricorsivamente** la `e`-esima potenza di `b`, cioè $b ^ e$."
   ]
  },
  {
   "cell_type": "code",
   "execution_count": null,
   "id": "077cdae7",
   "metadata": {},
   "outputs": [],
   "source": [
    "let rec power base exponent =\n",
    "  if exponent = 0 then\n",
    "    1\n",
    "  else\n",
    "    base * power base (exponent - 1);;\n",
    "\n",
    "power 3 10;;"
   ]
  },
  {
   "cell_type": "markdown",
   "id": "8a5184f1",
   "metadata": {},
   "source": [
    "## Es. 2:\n",
    "Scrivere una funzione `sum n` che calcoli **ricorsivamente** la somma di tutti i numeri da 0 a n. Usarla poi per calcolare `sum 1000000`"
   ]
  },
  {
   "cell_type": "markdown",
   "id": "a577c9b7",
   "metadata": {},
   "source": [
    "### Soluzione:"
   ]
  },
  {
   "cell_type": "code",
   "execution_count": null,
   "id": "34c93b4b",
   "metadata": {},
   "outputs": [],
   "source": [
    "let rec sum n = \n",
    " match n with \n",
    " | 0 -> 0\n",
    " | n -> n + sum (n - 1);;\n",
    " \n",
    "\n",
    " sum 1000000;;"
   ]
  },
  {
   "cell_type": "markdown",
   "id": "2aeb3a1a",
   "metadata": {},
   "source": [
    "Questo tipo di stack overflow è un effetto tipico della ricorsione, che non avviene usando uno stile di programmazione imperativo, con while e for. Come risolvere questo problema, e ottenere del codice funzionale equivalente a un ciclio while? Possiamo usare la **tail recurion**, ovvero uan funzione ricorsiva che \"termina\" con la chiamata ricorsiva. Nel codice di sopra, la funzione `sum` \"termina\" con una somma, nel senso che  l'espressione top level è una somma. Per avere una funzione tail recursive, dobbiamo quindi riscrivere `sum`, facendo in modo tale che l'espressione top level sia la chiamata ricorsiva.\n",
    "\n",
    "Nel codice di `sum`, noi ottenevamo il risultato parziale (`sum (n-1)`), e poi lo combinavamo con il valore attuale (`n + sum(n-1)`). Per portare questa somma, \"`n` più il risultato parziale\", all'interno della chiamata ricorsiva, dobbiamo aggiungere un argomento, chiamato `tot`.\n",
    "L'intuizione è che dentro `tot` conserviamo il risultato parziale, e quindi la chiamata ricorsiva passa da `n + sum(n-1)` a `sum(n-1, n + tot)`. Ovviamente, se `tot` contiene il risultato parziale, quando arriviano al caso base `n = 0` dobbiamo semplicemente restituire `tot`, perchè abbiamo finito tutte le chiamate ricorsive. La funzione così definita è tail recursive. "
   ]
  },
  {
   "cell_type": "markdown",
   "id": "cd7ef7b4",
   "metadata": {},
   "source": [
    "Proviamo la prima soluzione che ci viene in mente, ovvero una funzione ricorsiva `sum n` che restituisca `n + sum (n-1)`. Per distinguere il caso base (`n = 0`) dal caso induttivo, possiamo usare un costrutto match su `n` oppure un costrutto `if n = 0 then ... else ...`\n",
    "Questo modo di procedere è giusto, e il codice presentato è semanticamente corretto, ma eseguendo `sum 1000000` possiamo vedere che va in stack overflow. Infatti questo codice esegue una chiamata ricorsiva per ogni intero da `n` fino a `0`, ed evidentemente nello stack non è presente spazio sufficiente per ospitare un milione di frame. "
   ]
  },
  {
   "cell_type": "code",
   "execution_count": null,
   "id": "b9e4df5e",
   "metadata": {},
   "outputs": [],
   "source": [
    "let rec sum2 n tot = \n",
    "    match n with\n",
    "            | 0 -> tot\n",
    "            | n -> sum2 (n-1) (tot + n)\n",
    ";;\n",
    "\n",
    "sum2 1000000 0;;"
   ]
  },
  {
   "cell_type": "markdown",
   "id": "1d5c879e",
   "metadata": {},
   "source": [
    "Se la consegna però richiede una funzione `sum: int -> int`, non possiamo semplicemente presentare una funzione con più argomenti. La soluzione standard è di chiamare la funzione scritta sopra `aux`, dandone tutti gli argomenti che ci servono, e fatto ciò il ruolo della funzione `sum` voluta dalla consegna sarà solo quello di chiamare `aux`"
   ]
  },
  {
   "cell_type": "code",
   "execution_count": null,
   "id": "439e034e",
   "metadata": {},
   "outputs": [],
   "source": [
    "let sum2 n =\n",
    "    let rec aux n tot =\n",
    "        match n with\n",
    "        | 0 -> tot\n",
    "        | n -> aux (n-1) (tot + n)\n",
    "    in aux n 0;;\n",
    "    \n",
    "sum2 1000000;;"
   ]
  },
  {
   "cell_type": "markdown",
   "id": "5b216d7a",
   "metadata": {},
   "source": [
    "### Takeaway:\n",
    "- Delle volte è utile usare più argomenti di quelli previsti dalla specifica, e basta definire una funzione ausiliaria con gli argomenti necessari e poi chiamare quella funzione.\n",
    "- Il parametro `tot` che abbiamo aggiunto è concettualmente simile a una variabile `tot` che aggiurneremmo in un ciclio while per calcolare il risultato in un linguaggio imperativo. Lì dove il paradigma imperativo modifica lo stato delle variabili fra un ciclio e l'altro, il paradigma funzionale modifica il valore degli argomenti fra una chiamata ricorsiva e l'altra. In un certo senso, OCaml ci obbliga a \"esplicitare\", come argomenti aggiuntivi, quali sono i side effect che useremmo in un linguaggio imperativo."
   ]
  },
  {
   "cell_type": "markdown",
   "id": "ec9a521c",
   "metadata": {},
   "source": [
    "## Es. 3:\n",
    "Scrivere una funzione `sum_squares l` che prende una lista  `l` e restituisce la somma dei quadrati degli elementi di `l`\n",
    "\n",
    "    sum_squares [2; 1; 5; 3] = 39"
   ]
  },
  {
   "cell_type": "code",
   "execution_count": null,
   "id": "fdffa509",
   "metadata": {},
   "outputs": [],
   "source": [
    "let rec sum_squares l = \n",
    "    match l with \n",
    "    |[] -> 0\n",
    "    |x :: xs -> (x*x) + sum_squares xs;;\n",
    "\n",
    "sum_squares [2; 1; 5; 3]"
   ]
  },
  {
   "cell_type": "markdown",
   "id": "484fafa7",
   "metadata": {},
   "source": [
    "## Es. 4: \n",
    "\n",
    "Scrivere una funzione `drop_evens l` che prende una lista di interi `l` e scarta tutti gli elementi di `l` con valore pari.\n",
    "\n",
    "    drop_evens [1; 2; 3; 17; 42] = [1; 3; 17]"
   ]
  },
  {
   "cell_type": "code",
   "execution_count": null,
   "id": "4d5fd406",
   "metadata": {},
   "outputs": [],
   "source": [
    "let rec drop_evens l = \n",
    "    match l with\n",
    "    |[] -> []\n",
    "    | x::xs -> if x mod 2 = 1 then x::(drop_evens xs)\n",
    "               else (drop_evens xs);;\n",
    "\n",
    "drop_evens [1; 2; 3; 17; 42]"
   ]
  },
  {
   "cell_type": "markdown",
   "id": "e3426c05",
   "metadata": {},
   "source": [
    "## Es. 5:\n",
    "Scrivere una funzione `ordered l` che restituisca `true` se e solo se `l` è una lista ordinata.\n",
    "\n",
    "    ordered [1; 2; 4; 10] = true\n",
    "    ordered [1; 3; 2; 10] = false"
   ]
  },
  {
   "cell_type": "code",
   "execution_count": null,
   "id": "a3763241",
   "metadata": {},
   "outputs": [],
   "source": [
    "let rec ordered l = \n",
    "    match l with \n",
    "    | [] -> true\n",
    "    | x::[] -> true\n",
    "    | x::y::xs -> (x <= y) && (ordered (y::xs));;\n",
    "    \n",
    "    ordered [1; 2; 4; 10] ;;\n",
    "    ordered [1; 3; 2; 10] ;;"
   ]
  }
 ],
 "metadata": {
  "kernelspec": {
   "display_name": "OCaml default",
   "language": "OCaml",
   "name": "ocaml-jupyter"
  },
  "language_info": {
   "codemirror_mode": "text/x-ocaml",
   "file_extension": ".ml",
   "mimetype": "text/x-ocaml",
   "name": "OCaml",
   "nbconverter_exporter": null,
   "pygments_lexer": "OCaml",
   "version": "4.08.1"
  }
 },
 "nbformat": 4,
 "nbformat_minor": 5
}
