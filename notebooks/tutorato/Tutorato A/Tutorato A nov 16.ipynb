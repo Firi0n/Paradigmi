{
 "cells": [
  {
   "cell_type": "markdown",
   "id": "e9240ba0",
   "metadata": {
    "slideshow": {
     "slide_type": "slide"
    }
   },
   "source": [
    "# Minicaml: Coppie e Destructuring assignment\n",
    "\n",
    "In questa esercitazione, vediamo insieme alcuni dettagli dell'interprete di Minicaml, e lo estendiamo con la possibilità di **creare coppie di valori** e di **dichiarare due variabili contemporaneamente**.\n",
    "\n",
    "Un esempio di sintassi concreta di questi due nuovi costrutti può essere:\n",
    "\n",
    "    (4, 2)                       (*coppia di interi*)\n",
    "    (4, \"ciao\")                  (*coppia di un intero e una stringa*)\n",
    "    let x = (4, 2) in ...        (*assegnamo a x una coppia*)\n",
    "    let foo n = (n, n) in ...    (*foo è una funzione che resitutisce coppie*)   \n",
    "    \n",
    "    let a, b = (4, 2) in a + b   (*dichiariamo due variabili a e b, assegnandovi il primo e secondo valore della coppia*)\n",
    "    let a, b = foo 5 in a + b    (*dichiariamo due variabili a e b, assegnandovi il risultato della chiamata foo 5*)\n",
    "    let a, b = 10 in a + b       (*Errore: 10 non è una coppia, il destructuring assignment da' errore*)"
   ]
  },
  {
   "cell_type": "markdown",
   "id": "3087eaea",
   "metadata": {
    "slideshow": {
     "slide_type": "slide"
    }
   },
   "source": [
    "## Esercizio 1: Sintassi\n",
    "\n",
    "Questa è la definizione della sintassi astratta dell'interprete di Minicaml. Il tipo `exp` è un albero: \n",
    " - I nodi costruiti con `EInt` sono foglie, perchè non hanno sottoespressioni, hanno solo una \"etichetta\" intera\n",
    " - I nodi costruiti con `Sum` sono nodi interni, perchè hanno due sottoespressioni\n",
    " - I nodi costruiti con `IfThenElse` sono nodi interni, perchè hanno 3 sottoespressioni: guardia, ramo then e ramo else\n",
    " - I nodi costruiti con `Let` sono nodi interni, perchè hanno 3 sottoespressioni: variabile da definire, valore della variabile,  continuazione\n",
    " - E così via..\n",
    "\n",
    "Esempio di come si può esprimere la sintassi concreta in singassi astratta:\n",
    "\n",
    "    let x = 6*7 in x+2     ->     Let(\"x\", Prod(EInt(6), EInt(7)), Sum(Den(\"x\"), EInt(2)))"
   ]
  },
  {
   "cell_type": "markdown",
   "id": "42852360",
   "metadata": {
    "slideshow": {
     "slide_type": "slide"
    }
   },
   "source": [
    "Estendere questa definizione con due nuovi costrutti, uno per costruire le coppie, uno per il destructuring assignment. \n",
    "\n",
    "**HINT**: Per il destructuring assignment, prendere ispirazione dal `let` che già esiste! Cosa va aggiunto? "
   ]
  },
  {
   "cell_type": "code",
   "execution_count": null,
   "id": "713f924a",
   "metadata": {},
   "outputs": [],
   "source": [
    "(* Identificatori *)\n",
    "type ide = string;;\n",
    "\n",
    "\n",
    "(* Abstract Expressions = espressioni nella sintassi astratta, \n",
    "   compongono l'Albero di Sintassi Astratta *)\n",
    "type exp = \n",
    "    | EInt of int\n",
    "    | CstTrue \n",
    "    | CstFalse\n",
    "    | EString of string\n",
    "    | Den of ide\n",
    "    (* Operatori binari da interi a interi*)\n",
    "    | Sum of exp * exp\n",
    "    | Diff of exp * exp\n",
    "    | Prod of exp * exp\n",
    "    | Div of exp * exp\n",
    "    (* Operatori da interi a booleani *)\n",
    "    | IsZero of exp\n",
    "    | Eq of exp * exp\n",
    "    | LessThan of exp*exp\n",
    "    | GreaterThan of exp*exp\n",
    "    (* Operatori su booleani *)\n",
    "    | And of exp*exp\n",
    "    | Or of exp*exp\n",
    "    | Not of exp\n",
    "    (* Controllo del flusso, funzioni *)\n",
    "    | IfThenElse of exp * exp * exp\n",
    "    | Let of ide * exp * exp\n",
    "    | Letrec of ide * ide  * exp * exp\n",
    "    | Fun of ide * exp\n",
    "    | Apply of exp * exp"
   ]
  },
  {
   "cell_type": "markdown",
   "id": "217e156d",
   "metadata": {
    "slideshow": {
     "slide_type": "slide"
    }
   },
   "source": [
    "## Esercizio 2: valori \n",
    "\n",
    "Questa è la definizione di ambiente e di valori esprimibili (`evT`):\n",
    "\n",
    "* L'ambiente associa identificatori a valori. L'ambiente è implementato come una funzione vera e propria \"aggiornabile\" tramite la funzione `bind`\n",
    "* I valori che Minicaml può manipolare sono interi, booleani, stringhe e closure. Ognuno di questi valori di Minicaml viene implementato con un corrispondente tipo di OCaml\n",
    "\n",
    "Estendere la definizione di `evT` con tutti i nuovi tipi necessari per manipolare le coppie. Quanti sono?"
   ]
  },
  {
   "cell_type": "code",
   "execution_count": null,
   "id": "3b422cc7",
   "metadata": {},
   "outputs": [],
   "source": [
    "(* Ambiente polimorfo *)\n",
    "type 't env = ide -> 't\n",
    "\n",
    "(* Evaluation types = tipi  esprimibili *)\n",
    "type evT = \n",
    "    | Int of int \n",
    "    | Bool of bool \n",
    "    | String of string \n",
    "    | Closure of ide * exp * evT env \n",
    "    | RecClosure of ide * ide * exp * evT env\n",
    "    | UnBound\n",
    "    \n",
    "(* Ambiente vuoto *)\n",
    "let emptyenv = function x -> UnBound\n",
    "\n",
    "(* Binding fra una stringa x e un valore primitivo evT *)\n",
    "let bind (s: evT env) (x: ide) (v: evT) = \n",
    "    function (i: ide) -> if (i = x) then v else (s i)"
   ]
  },
  {
   "cell_type": "markdown",
   "id": "f8313692",
   "metadata": {
    "slideshow": {
     "slide_type": "slide"
    }
   },
   "source": [
    "## Esercizio 2.5: Type Checking (facoltativo)\n",
    "\n",
    "Estendere la definizione di tipi di minicaml `tname` con un tipo per le coppie, ed estendere le altre funzioni di conseguenza."
   ]
  },
  {
   "cell_type": "code",
   "execution_count": null,
   "id": "a2cc7063",
   "metadata": {},
   "outputs": [],
   "source": [
    "(* I tipi *)\n",
    "type tname =  TInt | TBool | TString | TClosure | TRecClosure | TUnBound\n",
    "\n",
    "(* Funzione da evT a tname che associa a ogni valore il suo descrittore di tipo  *)\n",
    "let getType (x: evT) : tname =\n",
    "    match x with\n",
    "    | Int(n) -> TInt\n",
    "    | Bool(b) -> TBool\n",
    "    | String(s) -> TString\n",
    "    | Closure(i,e,en) -> TClosure\n",
    "    | RecClosure(i,j,e,en) -> TRecClosure\n",
    "    | UnBound -> TUnBound\n",
    "    \n",
    "(* Type-checking *)\n",
    "let typecheck ((x, y) : (tname*evT)) = \n",
    "    match x with\n",
    "    | TInt -> (match y with \n",
    "               | Int(u) -> true\n",
    "               | _ -> false\n",
    "               )\n",
    "    | TBool -> (match y with \n",
    "                | Bool(u) -> true\n",
    "                | _ -> false\n",
    "                )\n",
    "    | TString -> (match y with\n",
    "                 | String(u) -> true\n",
    "                 | _ -> false\n",
    "                 )\n",
    "    | TClosure -> (match y with\n",
    "                   | Closure(i,e,n) -> true\n",
    "                   | _ -> false\n",
    "                   )\n",
    "    | TRecClosure -> (match y with\n",
    "                     | RecClosure(i,j,e,n) -> true\n",
    "                     | _ -> false\n",
    "                     )\n",
    "    |TUnBound -> (match y with\n",
    "                 | UnBound -> true\n",
    "                 | _ -> false\n",
    "                 )"
   ]
  },
  {
   "cell_type": "markdown",
   "id": "fa3f17ef",
   "metadata": {
    "slideshow": {
     "slide_type": "slide"
    }
   },
   "source": [
    "## Eccezione in caso di errori durante l'esecuzione"
   ]
  },
  {
   "cell_type": "code",
   "execution_count": null,
   "id": "816b6472",
   "metadata": {},
   "outputs": [],
   "source": [
    "(* Errori a runtime *)\n",
    "exception RuntimeError of string"
   ]
  },
  {
   "cell_type": "markdown",
   "id": "dc4564e3",
   "metadata": {
    "slideshow": {
     "slide_type": "slide"
    }
   },
   "source": [
    "## Operazioni primitive"
   ]
  },
  {
   "cell_type": "code",
   "execution_count": null,
   "id": "52f8b6cc",
   "metadata": {},
   "outputs": [],
   "source": [
    "(* PRIMITIVE del linguaggio *)\n",
    "\n",
    "(* Controlla se un numero è zero *)\n",
    "let is_zero(x) = match (typecheck(TInt,x),x) with\n",
    "    | (true, Int(v)) -> Bool(v = 0)\n",
    "    | (_, _) -> raise ( RuntimeError \"Wrong type\")\n",
    "\n",
    "(* Uguaglianza fra interi *)\n",
    "let int_eq(x,y) =   \n",
    "    match (typecheck(TInt,x), typecheck(TInt,y), x, y) with\n",
    "    | (true, true, Int(v), Int(w)) -> Bool(v = w)\n",
    "    | (_,_,_,_) -> raise ( RuntimeError \"Wrong type\")\n",
    "\n",
    "(* Somma fra interi *)\t   \n",
    "let int_plus(x, y) = \n",
    "    match(typecheck(TInt,x), typecheck(TInt,y), x, y) with\n",
    "    | (true, true, Int(v), Int(w)) -> Int(v + w)\n",
    "    | (_,_,_,_) -> raise ( RuntimeError \"Wrong type\")\n",
    "\n",
    "(* Differenza fra interi *)\n",
    "let int_sub(x, y) = \n",
    "    match(typecheck(TInt,x), typecheck(TInt,y), x, y) with\n",
    "    | (true, true, Int(v), Int(w)) -> Int(v - w)\n",
    "    | (_,_,_,_) -> raise ( RuntimeError \"Wrong type\")\n",
    "\n",
    "(* Prodotto fra interi *)\n",
    "let int_times(x, y) =\n",
    "    match(typecheck(TInt,x), typecheck(TInt,y), x, y) with\n",
    "    | (true, true, Int(v), Int(w)) -> Int(v * w)\n",
    "    | (_,_,_,_) -> raise ( RuntimeError \"Wrong type\")\n",
    "    \n",
    "(* Divisione fra interi *)\n",
    "let int_div(x, y) =\n",
    "    match(typecheck(TInt,x), typecheck(TInt,y), x, y) with\n",
    "    | (true, true, Int(v), Int(w)) -> \n",
    "                    if w<>0 then Int(v / w)\n",
    "                            else raise (RuntimeError \"Division by zero\")\n",
    "    | (_,_,_,_) -> raise ( RuntimeError \"Wrong type\")\n",
    "\n",
    "(* Operazioni di confronto *)\n",
    "let less_than(x, y) = \n",
    "    match (typecheck(TInt,x), typecheck(TInt,y), x, y) with\n",
    "    | (true, true, Int(v), Int(w)) -> Bool(v < w)\n",
    "    | (_,_,_,_) -> raise ( RuntimeError \"Wrong type\")\n",
    "\n",
    "let greater_than(x, y) = \n",
    "    match (typecheck(TInt,x), typecheck(TInt,y), x, y) with\n",
    "    | (true, true, Int(v), Int(w)) -> Bool(v > w)\n",
    "    | (_,_,_,_) -> raise ( RuntimeError \"Wrong type\")\n",
    "\n",
    "(* Operazioni logiche *)\n",
    "let bool_and(x,y) = \n",
    "    match (typecheck(TBool,x), typecheck(TBool,y), x, y) with\n",
    "    | (true, true, Bool(v), Bool(w)) -> Bool(v && w)\n",
    "    | (_,_,_,_) -> raise ( RuntimeError \"Wrong type\")\n",
    "\n",
    "let bool_or(x,y) = \n",
    "    match (typecheck(TBool,x), typecheck(TBool,y), x, y) with\n",
    "    | (true, true, Bool(v), Bool(w)) -> Bool(v || w)\n",
    "    | (_,_,_,_) -> raise ( RuntimeError \"Wrong type\")\n",
    "\n",
    "let bool_not(x) = \n",
    "    match (typecheck(TBool,x), x) with\n",
    "    | (true, Bool(v)) -> Bool(not(v))\n",
    "    | (_,_) -> raise ( RuntimeError \"Wrong type\")"
   ]
  },
  {
   "cell_type": "markdown",
   "id": "29858d1e",
   "metadata": {
    "slideshow": {
     "slide_type": "slide"
    }
   },
   "source": [
    "## Esercizio 3: Interprete\n",
    "\n",
    "Questa è la definizione del cuore dell'interprete, ovvero la funzione `eval e s`, che prende un espressione `e` e la valuta in un ambiente `s`, restituendo un valore di tipo `evT`.\n",
    "\n",
    "La funzione `eval` è una visita post order dell'albero: per restituire il valore di un nodo interno, calcola ricorsivamente il valore delle sottoespressioni, e poi li \"combina\" in qualche modo per restituire il valore del noto interno.\n",
    " - `eval Sum(e1, e2) s` calcola il valore di `e1`, il valore di `e2`, e li somma\n",
    " - `eval Apply(eF, eArg) s` calcola il valore di `ef` (che sarà una closure), il valore di `e2`, e applica la closure al valore di `e2`\n",
    " - `eval Let(\"x\", e, body) s` calcola il valore di `e`, aggiorna l'ambiente `s` con un binding fra `x` e il valore di `e`, e in questo nuovo ambiente esegue il body. \n",
    " \n",
    "Estendere questa funzione con le espressioni definite nell'esercizio 1, facendo uso dei valori definiti nell'esercizio 2. Come prima, per il destructuring assignment prendere ispirazione dalla semantica di `let`"
   ]
  },
  {
   "cell_type": "code",
   "execution_count": null,
   "id": "2f74de38",
   "metadata": {},
   "outputs": [],
   "source": [
    "(* Interprete *)\n",
    "let rec eval (e:exp) (s:evT env) : evT = \n",
    "    match e with\n",
    "    | EInt(n) -> Int(n)\n",
    "    | CstTrue -> Bool(true)\n",
    "    | CstFalse -> Bool(false)\n",
    "    | EString(s) -> String(s)\n",
    "    | Den(i) -> (s i)\n",
    "\n",
    "    | Prod(e1,e2) -> int_times((eval e1 s), (eval e2 s))\n",
    "    | Sum(e1, e2) -> int_plus((eval e1 s), (eval e2 s))\n",
    "    | Diff(e1, e2) -> int_sub((eval e1 s), (eval e2 s))\n",
    "    | Div(e1, e2) -> int_div((eval e1 s), (eval e2 s))\n",
    "\n",
    "    | IsZero(e1) -> is_zero (eval e1 s)\n",
    "    | Eq(e1, e2) -> int_eq((eval e1 s), (eval e2 s))\n",
    "    | LessThan(e1, e2) -> less_than((eval e1 s),(eval e2 s))\n",
    "    | GreaterThan(e1, e2) -> greater_than((eval e1 s),(eval e2 s))\n",
    "\n",
    "    | And(e1, e2) -> bool_and((eval e1 s),(eval e2 s))\n",
    "    | Or(e1, e2) -> bool_or((eval e1 s),(eval e2 s))\n",
    "    | Not(e1) -> bool_not(eval e1 s)\n",
    "\n",
    "    | IfThenElse(e1,e2,e3) -> \n",
    "        let g = eval e1 s in \n",
    "            (match (typecheck(TBool,g),g) with\n",
    "            |(true, Bool(true)) -> eval e2 s\n",
    "            |(true, Bool(false)) -> eval e3 s\n",
    "            |(_,_) -> raise ( RuntimeError \"Wrong type\")\n",
    "            )\n",
    "    | Let(i, e, ebody) -> eval ebody (bind s i (eval e s))\n",
    "    | Fun(arg, ebody) -> Closure(arg,ebody,s)\n",
    "    | Letrec(f, arg, fBody, leBody) ->\n",
    "        let benv = bind (s) (f) (RecClosure(f, arg, fBody,s)) in\n",
    "            eval leBody benv\n",
    "    | Apply(eF, eArg) ->\n",
    "        let fclosure = eval eF s in \n",
    "            (match fclosure with \n",
    "            | Closure(arg, fbody, fDecEnv) -> \n",
    "                let aVal = eval eArg s in \n",
    "                let aenv = bind fDecEnv arg aVal in \n",
    "                eval fbody aenv \n",
    "            | RecClosure(f, arg, fbody, fDecEnv) -> \n",
    "                let aVal = eval eArg s in\n",
    "                let rEnv = bind fDecEnv f fclosure in\n",
    "                let aenv = bind rEnv arg aVal in \n",
    "                eval fbody aenv\n",
    "            | _ -> raise ( RuntimeError \"Wrong type\")\n",
    "            );;"
   ]
  }
 ],
 "metadata": {
  "celltoolbar": "Slideshow",
  "kernelspec": {
   "display_name": "OCaml default",
   "language": "OCaml",
   "name": "ocaml-jupyter"
  },
  "language_info": {
   "codemirror_mode": "text/x-ocaml",
   "file_extension": ".ml",
   "mimetype": "text/x-ocaml",
   "name": "OCaml",
   "nbconverter_exporter": null,
   "pygments_lexer": "OCaml",
   "version": "4.08.1"
  },
  "rise": {
   "enable_chalkboard": true,
   "scroll": true
  }
 },
 "nbformat": 4,
 "nbformat_minor": 5
}
