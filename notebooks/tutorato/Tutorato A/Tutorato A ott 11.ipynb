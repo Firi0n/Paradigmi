{
 "cells": [
  {
   "cell_type": "markdown",
   "id": "d0d85c70",
   "metadata": {
    "cell_style": "center"
   },
   "source": [
    "# Ricorsione e liste"
   ]
  },
  {
   "cell_type": "markdown",
   "id": "05385bd2",
   "metadata": {},
   "source": [
    "## Es. 1:\n",
    "Scrivere una funzione `power b e` che calcoli **ricorsivamente** la `e`-esima potenza di `b`, cioè $b ^ e$."
   ]
  },
  {
   "cell_type": "code",
   "execution_count": null,
   "id": "077cdae7",
   "metadata": {},
   "outputs": [],
   "source": []
  },
  {
   "cell_type": "markdown",
   "id": "8a5184f1",
   "metadata": {},
   "source": [
    "## Es. 2:\n",
    "Scrivere una funzione `sum n` che calcoli **ricorsivamente** la somma di tutti i numeri da 0 a n. Usarla poi per calcolare `sum 1000000`"
   ]
  },
  {
   "cell_type": "code",
   "execution_count": null,
   "id": "34c93b4b",
   "metadata": {},
   "outputs": [],
   "source": []
  },
  {
   "cell_type": "markdown",
   "id": "ec9a521c",
   "metadata": {},
   "source": [
    "## Es. 3:\n",
    "Scrivere una funzione `sum_squares l` che prende una lista  `l` e restituisce la somma dei quadrati degli elementi di `l`\n",
    "\n",
    "    sum_squares [2; 1; 5; 3] = 39"
   ]
  },
  {
   "cell_type": "code",
   "execution_count": null,
   "id": "fdffa509",
   "metadata": {},
   "outputs": [],
   "source": []
  },
  {
   "cell_type": "markdown",
   "id": "484fafa7",
   "metadata": {},
   "source": [
    "## Es. 4: \n",
    "\n",
    "Scrivere una funzione `drop_evens l` che prende una lista di interi `l` e scarta tutti gli elementi di `l` con valore pari.\n",
    "\n",
    "    drop_evens [1; 2; 3; 17; 42] = [1; 3; 17]"
   ]
  },
  {
   "cell_type": "code",
   "execution_count": null,
   "id": "4d5fd406",
   "metadata": {},
   "outputs": [],
   "source": []
  },
  {
   "cell_type": "markdown",
   "id": "e3426c05",
   "metadata": {},
   "source": [
    "## Es. 5:\n",
    "Scrivere una funzione `ordered l` che restituisca `true` se e solo se `l` è una lista ordinata.\n",
    "\n",
    "    ordered [1; 2; 4; 10] = true\n",
    "    ordered [1; 3; 2; 10] = false"
   ]
  },
  {
   "cell_type": "code",
   "execution_count": null,
   "id": "a3763241",
   "metadata": {},
   "outputs": [],
   "source": []
  }
 ],
 "metadata": {
  "kernelspec": {
   "display_name": "OCaml default",
   "language": "OCaml",
   "name": "ocaml-jupyter"
  },
  "language_info": {
   "codemirror_mode": "text/x-ocaml",
   "file_extension": ".ml",
   "mimetype": "text/x-ocaml",
   "name": "OCaml",
   "nbconverter_exporter": null,
   "pygments_lexer": "OCaml",
   "version": "4.08.1"
  }
 },
 "nbformat": 4,
 "nbformat_minor": 5
}
