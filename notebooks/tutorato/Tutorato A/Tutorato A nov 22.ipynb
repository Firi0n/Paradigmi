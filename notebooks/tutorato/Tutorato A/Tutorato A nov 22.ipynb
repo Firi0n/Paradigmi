{
 "cells": [
  {
   "cell_type": "markdown",
   "id": "e9240ba0",
   "metadata": {
    "slideshow": {
     "slide_type": "slide"
    }
   },
   "source": [
    "# Minicaml: Stack-safe Recursion\n",
    "\n",
    "In questa esercitazione estenderemo l'interprete con la possibilità di definire **funzioni ricorsive sicure**, cioè che prevengano lo stack overflow. \n",
    "\n",
    "Prendiamo per esempio la funzione\n",
    "\n",
    "    let rec g x =  \n",
    "        1 * (g x) \n",
    "    in g 5\n",
    "\n",
    "Questa funzione diverge sempre, perchè se facciamo una chiamata `g 5` essa chiamerà ricorsivamente `g 5` all'infinito. Anche la funzione \n",
    "\n",
    "    let rec f x = \n",
    "        if x mod 2 = 1 then f (x - 1)\n",
    "        else f (x + 1)\n",
    "    in ...\n",
    "    \n",
    "diverge sempre, perchè se facciamo una chiamata `f 3` essa chiamerà `f 2`, `f 3`, `f 2`, `f 3`...\n",
    "\n",
    "Quando eseguiamo queste funzioni, è necessario fare tutte le chiamate ricorsive fino a raggiungere l'inevitabile stack overflow? In realtà, ci basta notare che, nella valutazione di `f 2`, c'è una chiamata a `f 3`, che è già stato chiamato in precedenza. In altre parole, sappiamo che una funzione ricorsiva (unaria) diverge se effettua una chiamata identica a una già fatta in precedenza.\n",
    "\n",
    "L'esercizio di oggi prevede di definire funzioni ricorsive *sicure*, che tengano traccia dei valori sui quali la funzione è già stata chiamata. Se nell'eseguire una funzione ricorsiva `f` so che è già stata chiamata sui valori `v1, v2, v2, v4`, quando effettuo una chiamata a `f v1` posso restituire errore immediatamente, perchè tanto la funzione divergerà.\n",
    "\n",
    "    let safe rec f x = \n",
    "        if x mod 2 = 1 then f (x - 1)\n",
    "        else f (x + 1)\n",
    "    in f 2  (*da errore \"funzione ricorsiva ciclica\" senza effettuare stack overflow*)\n",
    "    \n",
    "**NOTA:** Questo esercizio ci permetterà di riconoscere *alcune* funzioni che divergono, ma non tutte! Una funzione\n",
    "\n",
    "    let rec f x = f (x + 1)\n",
    "    \n",
    "diverge sempre anche se non effettua mai chiamate identiche. D'altro canto, scoprire se una funzione diverge prima di eseguirla è impossibile..."
   ]
  },
  {
   "cell_type": "markdown",
   "id": "42852360",
   "metadata": {
    "slideshow": {
     "slide_type": "slide"
    }
   },
   "source": [
    "## Esercizio 1: Sintassi\n",
    "\n",
    "Questa è la definizione della sintassi astratta dell'interprete di Minicaml.\n",
    "Estendere questa definizione con un nuovo costrutto, per dichiarare funzioni ricorsive sicure\n",
    "\n",
    "    let safe rec f x =  \n",
    "        1 + (f x) \n",
    "    in f 5\n"
   ]
  },
  {
   "cell_type": "code",
   "execution_count": null,
   "id": "713f924a",
   "metadata": {},
   "outputs": [],
   "source": [
    "(* Identificatori *)\n",
    "type ide = string;;\n",
    "\n",
    "\n",
    "(* Abstract Expressions = espressioni nella sintassi astratta, \n",
    "   compongono l'Albero di Sintassi Astratta *)\n",
    "type exp = \n",
    "    | EInt of int\n",
    "    | CstTrue \n",
    "    | CstFalse\n",
    "    | EString of string\n",
    "    | Den of ide\n",
    "    (* Operatori binari da interi a interi*)\n",
    "    | Sum of exp * exp\n",
    "    | Diff of exp * exp\n",
    "    | Prod of exp * exp\n",
    "    | Div of exp * exp\n",
    "    (* Operatori da interi a booleani *)\n",
    "    | IsZero of exp\n",
    "    | Eq of exp * exp\n",
    "    | LessThan of exp*exp\n",
    "    | GreaterThan of exp*exp\n",
    "    (* Operatori su booleani *)\n",
    "    | And of exp*exp\n",
    "    | Or of exp*exp\n",
    "    | Not of exp\n",
    "    (* Controllo del flusso, funzioni *)\n",
    "    | IfThenElse of exp * exp * exp\n",
    "    | Let of ide * exp * exp\n",
    "    | Letrec of ide * ide  * exp * exp\n",
    "    | Fun of ide * exp\n",
    "    | Apply of exp * exp"
   ]
  },
  {
   "cell_type": "markdown",
   "id": "217e156d",
   "metadata": {
    "slideshow": {
     "slide_type": "slide"
    }
   },
   "source": [
    "## Esercizio 2: Valori \n",
    "\n",
    "Questa è la definizione di ambiente e di valori esprimibili (`evT`).\n",
    "\n",
    "Oltre a booleani, interi e simili, fra i valori possibili ci sono i valori funzione, le **closure**. Una closure contiene tutti le componenti necessarie ad applicare una funzione (eccezion fatta per il valore in input, ovviamente)\n",
    "- `Closure(x, body, env)` contiene una espressione `body` in cui può comparire una variabile libera `x`. Inoltre, contiene anche un ambiente `env`, l'ambiente di definizione della funzione, che ci dà informazioni sul valore di tutte le variabili che sono in `body`, tranne `x`. In pratica, una closure è una \"espressione con un buco\", e `x` è il nome di quel buco. Durante una applicazione sapremo il valore `v` di input, e possiamo quindi riempire il buco e valutare il body.\n",
    "- `RecClosure(f, x, body, env)`contiene tutte le informazioni di una normale closure. Inoltre, contiene anche il nome della funzione ricorsiva `f` che stiamo definendo, visto che dentro `body` potremmo trovare una chiamata alla funzione `f` stessa. In pratica, una recclosure è una \"espressione con due buchi\", che chiamiamo `x` e `f`. Durante una applicazione potremo \"riempire\" `x` con `v` e `f` con la recClosure stessa.\n",
    "\n",
    "Una funzione sicura deve tenere traccia di quali valori sono stati già forniti come input durante una serie di chiamate ricorsive. Estendere la definizione di `evT` con una nuova `SafeClosure` adatta allo scopo.\n",
    "\n",
    "**Hint:** Se non sapete come proseguire, studiate la funzione di valutazione, e capite che informazioni serve mantenere in una `SafeClosure`"
   ]
  },
  {
   "cell_type": "code",
   "execution_count": null,
   "id": "3b422cc7",
   "metadata": {},
   "outputs": [],
   "source": [
    "(* Ambiente polimorfo *)\n",
    "type 't env = ide -> 't\n",
    "\n",
    "(* Evaluation types = tipi  esprimibili *)\n",
    "type evT = \n",
    "    | Int of int \n",
    "    | Bool of bool \n",
    "    | String of string \n",
    "    | Closure of ide * exp * evT env \n",
    "    | RecClosure of ide * ide * exp * evT env\n",
    "    | UnBound\n",
    "    \n",
    "(* Ambiente vuoto *)\n",
    "let emptyenv = function x -> UnBound\n",
    "\n",
    "(* Binding fra una stringa x e un valore primitivo evT *)\n",
    "let bind (s: evT env) (x: ide) (v: evT) = \n",
    "    function (i: ide) -> if (i = x) then v else (s i)"
   ]
  },
  {
   "cell_type": "markdown",
   "id": "f8313692",
   "metadata": {
    "slideshow": {
     "slide_type": "slide"
    }
   },
   "source": [
    "## Type Checking "
   ]
  },
  {
   "cell_type": "code",
   "execution_count": null,
   "id": "a2cc7063",
   "metadata": {},
   "outputs": [],
   "source": [
    "(* I tipi *)\n",
    "type tname =  TInt | TBool | TString | TClosure | TRecClosure | TUnBound\n",
    "\n",
    "(* Funzione da evT a tname che associa a ogni valore il suo descrittore di tipo  *)\n",
    "let getType (x: evT) : tname =\n",
    "    match x with\n",
    "    | Int(n) -> TInt\n",
    "    | Bool(b) -> TBool\n",
    "    | String(s) -> TString\n",
    "    | Closure(i,e,en) -> TClosure\n",
    "    | RecClosure(i,j,e,en) -> TRecClosure\n",
    "    | UnBound -> TUnBound\n",
    "    \n",
    "(* Type-checking *)\n",
    "let typecheck ((x, y) : (tname*evT)) = \n",
    "    match x with\n",
    "    | TInt -> (match y with \n",
    "               | Int(u) -> true\n",
    "               | _ -> false\n",
    "               )\n",
    "    | TBool -> (match y with \n",
    "                | Bool(u) -> true\n",
    "                | _ -> false\n",
    "                )\n",
    "    | TString -> (match y with\n",
    "                 | String(u) -> true\n",
    "                 | _ -> false\n",
    "                 )\n",
    "    | TClosure -> (match y with\n",
    "                   | Closure(i,e,n) -> true\n",
    "                   | _ -> false\n",
    "                   )\n",
    "    | TRecClosure -> (match y with\n",
    "                     | RecClosure(i,j,e,n) -> true\n",
    "                     | _ -> false\n",
    "                     )\n",
    "    |TUnBound -> (match y with\n",
    "                 | UnBound -> true\n",
    "                 | _ -> false\n",
    "                 )"
   ]
  },
  {
   "cell_type": "markdown",
   "id": "fa3f17ef",
   "metadata": {
    "slideshow": {
     "slide_type": "slide"
    }
   },
   "source": [
    "## Eccezione in caso di errori durante l'esecuzione"
   ]
  },
  {
   "cell_type": "code",
   "execution_count": null,
   "id": "816b6472",
   "metadata": {},
   "outputs": [],
   "source": [
    "(* Errori a runtime *)\n",
    "exception RuntimeError of string"
   ]
  },
  {
   "cell_type": "markdown",
   "id": "dc4564e3",
   "metadata": {
    "slideshow": {
     "slide_type": "slide"
    }
   },
   "source": [
    "## Operazioni primitive"
   ]
  },
  {
   "cell_type": "code",
   "execution_count": null,
   "id": "52f8b6cc",
   "metadata": {},
   "outputs": [],
   "source": [
    "(* PRIMITIVE del linguaggio *)\n",
    "\n",
    "(* Controlla se un numero è zero *)\n",
    "let is_zero(x) = match (typecheck(TInt,x),x) with\n",
    "    | (true, Int(v)) -> Bool(v = 0)\n",
    "    | (_, _) -> raise ( RuntimeError \"Wrong type\")\n",
    "\n",
    "(* Uguaglianza fra interi *)\n",
    "let int_eq(x,y) =   \n",
    "    match (typecheck(TInt,x), typecheck(TInt,y), x, y) with\n",
    "    | (true, true, Int(v), Int(w)) -> Bool(v = w)\n",
    "    | (_,_,_,_) -> raise ( RuntimeError \"Wrong type\")\n",
    "\n",
    "(* Somma fra interi *)\t   \n",
    "let int_plus(x, y) = \n",
    "    match(typecheck(TInt,x), typecheck(TInt,y), x, y) with\n",
    "    | (true, true, Int(v), Int(w)) -> Int(v + w)\n",
    "    | (_,_,_,_) -> raise ( RuntimeError \"Wrong type\")\n",
    "\n",
    "(* Differenza fra interi *)\n",
    "let int_sub(x, y) = \n",
    "    match(typecheck(TInt,x), typecheck(TInt,y), x, y) with\n",
    "    | (true, true, Int(v), Int(w)) -> Int(v - w)\n",
    "    | (_,_,_,_) -> raise ( RuntimeError \"Wrong type\")\n",
    "\n",
    "(* Prodotto fra interi *)\n",
    "let int_times(x, y) =\n",
    "    match(typecheck(TInt,x), typecheck(TInt,y), x, y) with\n",
    "    | (true, true, Int(v), Int(w)) -> Int(v * w)\n",
    "    | (_,_,_,_) -> raise ( RuntimeError \"Wrong type\")\n",
    "    \n",
    "(* Divisione fra interi *)\n",
    "let int_div(x, y) =\n",
    "    match(typecheck(TInt,x), typecheck(TInt,y), x, y) with\n",
    "    | (true, true, Int(v), Int(w)) -> \n",
    "                    if w<>0 then Int(v / w)\n",
    "                            else raise (RuntimeError \"Division by zero\")\n",
    "    | (_,_,_,_) -> raise ( RuntimeError \"Wrong type\")\n",
    "\n",
    "(* Operazioni di confronto *)\n",
    "let less_than(x, y) = \n",
    "    match (typecheck(TInt,x), typecheck(TInt,y), x, y) with\n",
    "    | (true, true, Int(v), Int(w)) -> Bool(v < w)\n",
    "    | (_,_,_,_) -> raise ( RuntimeError \"Wrong type\")\n",
    "\n",
    "let greater_than(x, y) = \n",
    "    match (typecheck(TInt,x), typecheck(TInt,y), x, y) with\n",
    "    | (true, true, Int(v), Int(w)) -> Bool(v > w)\n",
    "    | (_,_,_,_) -> raise ( RuntimeError \"Wrong type\")\n",
    "\n",
    "(* Operazioni logiche *)\n",
    "let bool_and(x,y) = \n",
    "    match (typecheck(TBool,x), typecheck(TBool,y), x, y) with\n",
    "    | (true, true, Bool(v), Bool(w)) -> Bool(v && w)\n",
    "    | (_,_,_,_) -> raise ( RuntimeError \"Wrong type\")\n",
    "\n",
    "let bool_or(x,y) = \n",
    "    match (typecheck(TBool,x), typecheck(TBool,y), x, y) with\n",
    "    | (true, true, Bool(v), Bool(w)) -> Bool(v || w)\n",
    "    | (_,_,_,_) -> raise ( RuntimeError \"Wrong type\")\n",
    "\n",
    "let bool_not(x) = \n",
    "    match (typecheck(TBool,x), x) with\n",
    "    | (true, Bool(v)) -> Bool(not(v))\n",
    "    | (_,_) -> raise ( RuntimeError \"Wrong type\")"
   ]
  },
  {
   "cell_type": "markdown",
   "id": "29858d1e",
   "metadata": {
    "slideshow": {
     "slide_type": "slide"
    }
   },
   "source": [
    "## Esercizio 3: Interprete\n",
    "\n",
    "Questa è la definizione della funzione di valutazione. È possibile vedere che il \"ciclo di vita\" di una funzione ha due step:\n",
    "- Quando viene dichiarata, con un `let rec` o con un `fun`, viene creata una closure e salvata nell'ambiente\n",
    "- Quando viene usata, con una `apply`, si prende la closure e si \"applica\" al parametro attuale.\n",
    "Nel caso di una funzione non ricorsiva, \"applicare\" vuol dire estendere l'ambiente (quello della closure) con un nuovo binding fra parametro formale (quello della closure) e parametro attuale (quello della `apply`).  Nel caso di una funzione ricorsiva, in aggiunta bisogna anche fare un binding fra il nome della funzione `f` e la closure stessa, perchè dentro il body ci potrebbe essere una variabile libera `f`.\n",
    " \n",
    "Estendere `eval` per trattare le funzioni sicure. Per estendere Minicaml con costrutti funzionali, bisogna specificare la semantica dei due step di cui sopra\n",
    "- Per la definizione, dare la semantica dell'espressione definita nell'esercizio 1\n",
    "- Per l'applicazione, estendere il codice di `Apply(eF, eArg)` con il caso in cui `eF` valuta a una `SafeClosure`\n",
    "\n",
    "**HINT:** usare `List.mem` per controllare se un elemento è in una lista!"
   ]
  },
  {
   "cell_type": "code",
   "execution_count": null,
   "id": "2f74de38",
   "metadata": {},
   "outputs": [],
   "source": [
    "(* Interprete *)\n",
    "let rec eval (e:exp) (s:evT env) : evT = \n",
    "    match e with\n",
    "    | EInt(n) -> Int(n)\n",
    "    | CstTrue -> Bool(true)\n",
    "    | CstFalse -> Bool(false)\n",
    "    | EString(s) -> String(s)\n",
    "    | Den(i) -> (s i)\n",
    "\n",
    "    | Prod(e1,e2) -> int_times((eval e1 s), (eval e2 s))\n",
    "    | Sum(e1, e2) -> int_plus((eval e1 s), (eval e2 s))\n",
    "    | Diff(e1, e2) -> int_sub((eval e1 s), (eval e2 s))\n",
    "    | Div(e1, e2) -> int_div((eval e1 s), (eval e2 s))\n",
    "\n",
    "    | IsZero(e1) -> is_zero (eval e1 s)\n",
    "    | Eq(e1, e2) -> int_eq((eval e1 s), (eval e2 s))\n",
    "    | LessThan(e1, e2) -> less_than((eval e1 s),(eval e2 s))\n",
    "    | GreaterThan(e1, e2) -> greater_than((eval e1 s),(eval e2 s))\n",
    "\n",
    "    | And(e1, e2) -> bool_and((eval e1 s),(eval e2 s))\n",
    "    | Or(e1, e2) -> bool_or((eval e1 s),(eval e2 s))\n",
    "    | Not(e1) -> bool_not(eval e1 s)\n",
    "\n",
    "    | IfThenElse(e1,e2,e3) -> \n",
    "        let g = eval e1 s in \n",
    "            (match (typecheck(TBool,g),g) with\n",
    "            |(true, Bool(true)) -> eval e2 s\n",
    "            |(true, Bool(false)) -> eval e3 s\n",
    "            |(_,_) -> raise ( RuntimeError \"Wrong type\")\n",
    "            )\n",
    "    | Let(i, e, ebody) -> eval ebody (bind s i (eval e s))\n",
    "    | Fun(arg, ebody) -> Closure(arg,ebody,s)\n",
    "    | Letrec(f, arg, fBody, leBody) ->\n",
    "        let benv = bind (s) (f) (RecClosure(f, arg, fBody,s)) in\n",
    "            eval leBody benv\n",
    "    | Apply(eF, eArg) ->\n",
    "        let fclosure = eval eF s in \n",
    "            (match fclosure with \n",
    "            | Closure(arg, fbody, fDecEnv) -> \n",
    "                let aVal = eval eArg s in \n",
    "                let aenv = bind fDecEnv arg aVal in \n",
    "                eval fbody aenv \n",
    "            | RecClosure(f, arg, fbody, fDecEnv) -> \n",
    "                let aVal = eval eArg s in\n",
    "                let rEnv = bind fDecEnv f fclosure in\n",
    "                let aenv = bind rEnv arg aVal in \n",
    "                eval fbody aenv\n",
    "            | _ -> raise ( RuntimeError \"Wrong type\")\n",
    "            )\n",
    "    "
   ]
  }
 ],
 "metadata": {
  "celltoolbar": "Slideshow",
  "kernelspec": {
   "display_name": "OCaml default",
   "language": "OCaml",
   "name": "ocaml-jupyter"
  },
  "language_info": {
   "codemirror_mode": "text/x-ocaml",
   "file_extension": ".ml",
   "mimetype": "text/x-ocaml",
   "name": "OCaml",
   "nbconverter_exporter": null,
   "pygments_lexer": "OCaml",
   "version": "4.08.1"
  },
  "rise": {
   "enable_chalkboard": true,
   "scroll": true
  }
 },
 "nbformat": 4,
 "nbformat_minor": 5
}
