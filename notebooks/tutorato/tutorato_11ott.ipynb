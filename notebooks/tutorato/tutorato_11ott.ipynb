{
 "cells": [
  {
   "cell_type": "markdown",
   "id": "0061b8ed",
   "metadata": {},
   "source": [
    "#### Es 1: Eliminare un elemento ogni n\n",
    "Eliminare tutti gli elementi con indice multiplo di \"n\" da una lista "
   ]
  },
  {
   "cell_type": "code",
   "execution_count": 5,
   "id": "360c13b6",
   "metadata": {},
   "outputs": [
    {
     "data": {
      "text/plain": [
       "val drop : int -> 'a list -> 'a list = <fun>\n"
      ]
     },
     "execution_count": 5,
     "metadata": {},
     "output_type": "execute_result"
    },
    {
     "data": {
      "text/plain": [
       "val l : int list = [1; 2; 3; 4; 5; 6]\n"
      ]
     },
     "execution_count": 5,
     "metadata": {},
     "output_type": "execute_result"
    },
    {
     "data": {
      "text/plain": [
       "- : int list = [1; 2; 4; 5]\n"
      ]
     },
     "execution_count": 5,
     "metadata": {},
     "output_type": "execute_result"
    }
   ],
   "source": [
    "let drop n list = \n",
    "    (*Usiamo una funzione ausiliara riscorsiva,\n",
    "      che accetta parametri aggiuntivi non presenti in drop:\n",
    "      aux prende in input una lista e un contatore, che viene usato\n",
    "      nelle chiamate ricorsive per tenere conto dell'indice dell'elemento \n",
    "      in testa alla lista.\n",
    "    *)\n",
    "    let rec aux i list = match list with \n",
    "        | [] -> []\n",
    "        | h::t -> if i mod n = 0 (*n è un argomento di drop, quindi visibile in aux*)\n",
    "                    then (aux (i+1) t) \n",
    "                    else h::(aux (i+1) t) in\n",
    "    aux 1 list;;\n",
    "\n",
    "let l = [1;2;3;4;5;6;];;\n",
    "drop 3 l;;"
   ]
  },
  {
   "cell_type": "markdown",
   "id": "1dc7c853",
   "metadata": {},
   "source": [
    "#### Es 2: Slice\n",
    "Dati due indici interi, i e k, lo slice è definito come la lista che contiene gli elementi tra l'i-esimo e il k-esimo della lista originale (inclusi i limiti i e k). Scrivere il programma che estrae lo slice da una lista"
   ]
  },
  {
   "cell_type": "code",
   "execution_count": 2,
   "id": "69c376a8",
   "metadata": {},
   "outputs": [
    {
     "data": {
      "text/plain": [
       "val slice : int -> int -> 'a list -> 'a list = <fun>\n"
      ]
     },
     "execution_count": 2,
     "metadata": {},
     "output_type": "execute_result"
    },
    {
     "data": {
      "text/plain": [
       "val slice2 : int -> int -> 'a list -> 'a list = <fun>\n"
      ]
     },
     "execution_count": 2,
     "metadata": {},
     "output_type": "execute_result"
    },
    {
     "data": {
      "text/plain": [
       "val slice3 : int -> int -> 'a list -> 'a list = <fun>\n"
      ]
     },
     "execution_count": 2,
     "metadata": {},
     "output_type": "execute_result"
    },
    {
     "data": {
      "text/plain": [
       "val l : int list = [1; 2; 3; 4; 5; 6; 7]\n"
      ]
     },
     "execution_count": 2,
     "metadata": {},
     "output_type": "execute_result"
    },
    {
     "data": {
      "text/plain": [
       "- : int list = [3; 4; 5; 6]\n"
      ]
     },
     "execution_count": 2,
     "metadata": {},
     "output_type": "execute_result"
    },
    {
     "data": {
      "text/plain": [
       "- : int list = [3; 4; 5; 6]\n"
      ]
     },
     "execution_count": 2,
     "metadata": {},
     "output_type": "execute_result"
    },
    {
     "data": {
      "text/plain": [
       "- : int list = [3; 4; 5; 6]\n"
      ]
     },
     "execution_count": 2,
     "metadata": {},
     "output_type": "execute_result"
    }
   ],
   "source": [
    "(*Definiamo slice come composizione di due funzioni, drop e take*)\n",
    "let slice i k list = \n",
    "    (*drop n list scarta i primi n elementi da una lista*)\n",
    "    let rec drop n list = match list with\n",
    "        |[] -> []\n",
    "        |x::t as l -> if n = 0 then l \n",
    "                     else drop (n-1) t\n",
    "    in\n",
    "    (*take n list prende i primi n elementi da una lista, \n",
    "      cioè scarta gli element dall'n+1-esimo in avanti*)\n",
    "    let rec take n list = match list with \n",
    "        |[] -> []\n",
    "        |x::t -> if n = 0 then []\n",
    "                 else x::take (n-1) t\n",
    "    in\n",
    "    (*slice richiede di eseguire prima take e poi drop (o viceversa)\n",
    "    Nel paradigma funzionale eseguire in sequenza due azioni \n",
    "    vuol dire comporne le funzioni*)\n",
    "    drop i (take (k+1) list);;\n",
    "    (*take (k-i+1) ( drop(i) list) è completamente equivalentemente*)\n",
    "\n",
    "\n",
    "(*Le funzioni drop e take possono essere definite con la fold_l (o la fold_r)\n",
    "    Poichè la funzione drop definita sopra è ricorsiva sia sull'argomento n che\n",
    "    sull'argomento list, l'accumulatore della foldl dovrà contenere due informazioni:\n",
    "    -list, il risultato che stiamo effettivamente costruendo, \n",
    "    -counter, per tener conto di quanti elementi sono ancora da scartare/prendere*)\n",
    "let slice2 i k list = \n",
    "    let drop n list = \n",
    "        (*come accumulatore usiamo una coppia, quindi il risultato della foldl sarà\n",
    "        una coppia (a' list * int). Il secondo valore è inutile, quindi non lo assegnamo\n",
    "        a nessuna variabile*)\n",
    "        let l, _ = List.fold_left (\n",
    "            fun (list, counter) el -> if counter == 0 then (el::list, counter)\n",
    "                                      else (list, counter-1)\n",
    "        ) ([],n) list in\n",
    "        (*usando (::) nella foldl, otteniamo e5::e4::e3::e2::e1, quindi la lista va invertita*)\n",
    "        List.rev l \n",
    "    in\n",
    "    let take n list = \n",
    "        let l, _ = List.fold_left (\n",
    "            fun (list, counter) el -> if counter == 0 then (list, counter)\n",
    "                                      else (el::list, counter-1)\n",
    "        ) ([],n) list in\n",
    "        List.rev l\n",
    "    in\n",
    "    drop i (take (k+1) list);;\n",
    "\n",
    "\n",
    "\n",
    "(*La soluzione precedente percorre due volte tutta la lista, anche se lo splice è di pochi elementi\n",
    "  Una alternativa, più specfica per questo problema, è definire una nuova versione della foldl, che \n",
    "  accumuli gli elementi di una lista solo fino all'n-esimo, e lasci il resto della lista inalterato*)\n",
    "let slice3 i k list = \n",
    "    (*foldl_until n accumula solo i primi n elementi di una lista, restituendo una tupla come risultato:\n",
    "      il primo valore è il risultato dell'accumulazione, il secondo è il resto della lista, non visitato *)\n",
    "    let rec foldl_until n f acc list = \n",
    "        match list with\n",
    "            |[] -> (acc, [])\n",
    "            |x::t -> if n = 0 then (acc, x::t)\n",
    "             else foldl_until (n-1) f (f acc x) t \n",
    "    in \n",
    "    (*sfruttando foldl_until, possiamo riscrivere \n",
    "        drop i (take (k+1) list)\n",
    "      come: *)\n",
    "    (*la funzione f da passare a alla foldl è più semplice di quella precedente, perchè\n",
    "      non deve occuparsi del parametro n*)\n",
    "    let taken, _ = foldl_until (k+1) (fun acc el -> el::acc) [] list in\n",
    "    let taken = List.rev taken in (*questo let non è ricorsivo, quindi il \"taken\" a \n",
    "                                    destra dell'uguale è quello definito nella riga precedente*)\n",
    "    (*per droppare i primi i elementi, basta conservare la seconda parte del risultato della \n",
    "      foldl_until, e scartare il primo. Poichè il risultato dell'accumulazione non ci interessa,\n",
    "      come funzione accumulatrice possiamo mettere una funzione costante che restituisce sempre []*)\n",
    "    let _, dropped = foldl_until i (fun _ _ -> []) [] taken in\n",
    "    dropped;;\n",
    "\n",
    "\n",
    "\n",
    "let l = [1;2;3;4;5;6;7;];;\n",
    "slice 2 5 l;; \n",
    "slice2 2 5 l;;\n",
    "slice3 2 5 l;;"
   ]
  },
  {
   "cell_type": "markdown",
   "id": "de03094d",
   "metadata": {},
   "source": [
    "#### Es 3: Replicate\n",
    "Replicare gli elementi di una lista un dato numero di volte"
   ]
  },
  {
   "cell_type": "code",
   "execution_count": 3,
   "id": "af7e4c77",
   "metadata": {},
   "outputs": [
    {
     "data": {
      "text/plain": [
       "val prepend : int -> 'a -> 'a list -> 'a list = <fun>\n"
      ]
     },
     "execution_count": 3,
     "metadata": {},
     "output_type": "execute_result"
    },
    {
     "data": {
      "text/plain": [
       "val replicate : 'a list -> int -> 'a list = <fun>\n"
      ]
     },
     "execution_count": 3,
     "metadata": {},
     "output_type": "execute_result"
    },
    {
     "data": {
      "text/plain": [
       "val replicate2 : 'a list -> int -> 'a list = <fun>\n"
      ]
     },
     "execution_count": 3,
     "metadata": {},
     "output_type": "execute_result"
    },
    {
     "data": {
      "text/plain": [
       "val l : int list = [1; 2; 3; 4]\n"
      ]
     },
     "execution_count": 3,
     "metadata": {},
     "output_type": "execute_result"
    },
    {
     "data": {
      "text/plain": [
       "- : int list = [1; 1; 1; 2; 2; 2; 3; 3; 3; 4; 4; 4]\n"
      ]
     },
     "execution_count": 3,
     "metadata": {},
     "output_type": "execute_result"
    },
    {
     "data": {
      "text/plain": [
       "- : int list = [1; 1; 1; 2; 2; 2; 3; 3; 3; 4; 4; 4]\n"
      ]
     },
     "execution_count": 3,
     "metadata": {},
     "output_type": "execute_result"
    }
   ],
   "source": [
    "(*definiamo una funzione prepend che aggiunge n copie\n",
    "  dell'elemento x in testa a una lista*)\n",
    "let rec prepend n x list =\n",
    "    if n = 0 then list \n",
    "    else prepend (n-1) x (x :: list) ;;\n",
    "\n",
    "(*usiamo una funzione ausiaria che, visitando la lista originale,\n",
    "  costruisce il risultato dentro acc*)\n",
    "let replicate list n =\n",
    "    let rec aux acc = function\n",
    "      | [] -> acc\n",
    "      | h :: t -> aux (prepend n h acc) t in \n",
    "    aux [] (List.rev list);;\n",
    "\n",
    "(*usando la foldr gli elementi di una lista vengono processati dall'ultimo al primo, \n",
    "  quindi con funzioni come (::) o prepend, aggiungiamo l'ultimo elemento in testa alla lista vuota,\n",
    "  il penultimo in testa all'ultimo, il terzultimo in testa al penultimo e così via*)\n",
    "let replicate2 list n = \n",
    "    (*essendo prepend una funzione int -> 'a -> 'a list -> 'a list,\n",
    "      prepend n è esattamente la funzione f :('a ->'b -> 'b) che la \n",
    "      foldr si aspetta come parametro*)\n",
    "    List.fold_right (prepend n) list [];;\n",
    "\n",
    "let l = [1;2;3;4;];;\n",
    "replicate l 3;;\n",
    "replicate2 l 3;;"
   ]
  },
  {
   "cell_type": "markdown",
   "id": "89fa4627",
   "metadata": {},
   "source": [
    "#### Es 4: Ordinare le liste per lunghezza\n",
    "Supponiamo di considerare una lista i cui elementi sono essi stessi delle liste. Si scriva un programma che ordini gli elementi di questa lista in termini  della lunghezza delle liste da quella di lunghezza più piccola a quelle più grandi."
   ]
  },
  {
   "cell_type": "code",
   "execution_count": 4,
   "id": "1caa1df5",
   "metadata": {},
   "outputs": [
    {
     "data": {
      "text/plain": [
       "val insert : ('a -> 'a -> int) -> 'a -> 'a list -> 'a list = <fun>\n"
      ]
     },
     "execution_count": 4,
     "metadata": {},
     "output_type": "execute_result"
    },
    {
     "data": {
      "text/plain": [
       "val sort : ('a -> 'a -> int) -> 'a list -> 'a list = <fun>\n"
      ]
     },
     "execution_count": 4,
     "metadata": {},
     "output_type": "execute_result"
    },
    {
     "data": {
      "text/plain": [
       "val length_sort : 'a list list -> 'a list list = <fun>\n"
      ]
     },
     "execution_count": 4,
     "metadata": {},
     "output_type": "execute_result"
    },
    {
     "data": {
      "text/plain": [
       "val length_sort2 : 'a list list -> 'a list list = <fun>\n"
      ]
     },
     "execution_count": 4,
     "metadata": {},
     "output_type": "execute_result"
    }
   ],
   "source": [
    "(*Implementiamo l'insertion-sort in maniera parametrica alla funzione cmp,\n",
    "  così da poter riutilizzare lo stesso codice con diversi ordinamenti degli elementi*)\n",
    "\n",
    "(*insert cmp e list inserisce e all'interno della lista ordinata list*)\n",
    "let rec insert cmp e = function\n",
    "    | [] -> [e]\n",
    "    | h :: t as l -> if cmp e h <= 0 then e :: l else h :: insert cmp e t  \n",
    "(*sort cmp list comincia a ordinare la lista dalla fine,\n",
    "  inserendo ogni elemento all'interno del suffisso già ordinato*)\n",
    "let rec sort cmp = function\n",
    "    | [] -> []\n",
    "    | h :: t -> insert cmp h (sort cmp t)\n",
    "  \n",
    "(* Associamo a ogni lista la sua lunghezza, usiamo le lunghezze per ordinare la lista,\n",
    "  e rimuoviamo le lunghezze. Così facendo non effettuiamo chiamate ripetute a List.length*)\n",
    "let length_sort lists =\n",
    "   let lists = List.map (fun list -> List.length list, list) lists in\n",
    "   let lists = sort (fun a b -> compare (fst a) (fst b)) lists in\n",
    "   List.map snd lists;;\n",
    "\n",
    "(* Esegue le stesse operazioni della funzione precedente, concatenando le operazioni \n",
    "  grazie all'operatore |>\n",
    "  x |> f |> g è equivalente a g (f (x))*)\n",
    "let length_sort2 lists = \n",
    "       lists \n",
    "    |> List.map (fun l -> (List.length l, l)) \n",
    "    |> sort (fun (l1, _) (l2, _) -> compare l1 l2) \n",
    "    |> List.map snd;;"
   ]
  }
 ],
 "metadata": {
  "kernelspec": {
   "display_name": "OCaml default",
   "language": "OCaml",
   "name": "ocaml-jupyter"
  },
  "language_info": {
   "codemirror_mode": "text/x-ocaml",
   "file_extension": ".ml",
   "mimetype": "text/x-ocaml",
   "name": "OCaml",
   "nbconverter_exporter": null,
   "pygments_lexer": "OCaml",
   "version": "4.08.1"
  }
 },
 "nbformat": 4,
 "nbformat_minor": 5
}
