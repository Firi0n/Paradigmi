{
 "cells": [
  {
   "cell_type": "markdown",
   "id": "8c88acdd",
   "metadata": {},
   "source": [
    "### Ex 1: \n",
    "Si consideri l'interprete big step delle espressioni aritmetiche visto a lezione.\n",
    "\n",
    "Si estenda la definizione dell'AST (modificando il codice qui sotto) in modo che possa descrivere identificatori `Ide` e un costrutto `sumall (x;n1;n2) e` tale che la sintassi del linguaggio diventi:\n",
    "\n",
    "```\n",
    "Exp ::= n | Ide | Exp op Exp | (Exp) | sumall ( Ide ; n ; n ) Exp\n",
    "Ide ::= x | y | z | ...\n",
    "op ::= + | - | * | / \n",
    "```\n",
    "\n",
    "**NOTA:** Per gli identificatori, definire il tipo `ide` come alias del tipo `string`"
   ]
  },
  {
   "cell_type": "markdown",
   "id": "10d8e50d",
   "metadata": {},
   "source": [
    "#### Soluzione:\n",
    "\n",
    "L'espressione `sumall (x; 1; 10) 5*x` deve essere intesa come \"Sommatoria per x che va da 1 a 10 di 5*x\", ovvero:\n",
    "```\n",
    "5*1 + 5*2 + 5*3 + ... + 5*9 + 5*10\n",
    "```\n",
    "Vale la pena notare che l'espressione `sumall (x;5;5) x-1` non richiede di calcolare alcuna somma, poichè l'espressione `x-1` deve essere valutata una sola volta, quando x è uguale a 1. Quindi l'espressione `sumall (x;5;5) x-1`, nel nostro linguaggio delle espressioni, è concettualmente simile a `let x = 5 in x-1` in Ocaml.\n",
    "\n",
    "Come richiede la consegna, dobbiamo estendere la sintassi astratta con due nuovi costruttori, ovvero due nuovi nodi possibili con cui poter costruire un AST:\n",
    "- `Ide`, una foglia dell'AST, che non contiene nessuna altra sotto espressione. Un nodo Ide dentro l'AST indica un identificatore (o variabile che dir si voglia), e contiene un valore di tipo string, cioè il nome della variabile. Aver aggiunto il nodo Ide permette di formalizzare in un AST espressioni come `2*x` o `i+j/2`, rispettivamente come `Op(Mul, Val(2), Ide(\"x\"))` e `Op(Div, Op(Add, Ide(\"i\"), Ide(\"j\")), Val(2))`. (Queste espressioni sono sintatticamente corrette, ma non hanno alcun significato, perchè manca un **quantificatore** che associ un valore a ogni variabile libera.)\n",
    "- `Sumall`, un nodo dell'AST che contiene una singola sottoespressione `e`, e altre 3 informazioni aggiuntive: il nome della variabile legata, e i due estremi dell'intervallo di valori che la variabile legata dovrà assumere. Scegliamo di rappresentare i due estremi come interi, per semplicità, ma sarebbe ragionevole anche rappresentarli come sottoespressioni di tipo Val. Aver aggiunto il nodo Sumall permette di formalizzare in un AST espressioni come \n",
    "    \n",
    "    `sumall (k, 1, 5) k-1` in `Sumall(\"x\", 1, 5, Op(Sub, Ide(\"k\"),Val(1)))`."
   ]
  },
  {
   "cell_type": "code",
   "execution_count": 1,
   "id": "edb3478a",
   "metadata": {},
   "outputs": [
    {
     "data": {
      "text/plain": [
       "type op = Add | Sub | Mul | Div\n"
      ]
     },
     "execution_count": 1,
     "metadata": {},
     "output_type": "execute_result"
    },
    {
     "data": {
      "text/plain": [
       "type ide = string\n"
      ]
     },
     "execution_count": 1,
     "metadata": {},
     "output_type": "execute_result"
    },
    {
     "data": {
      "text/plain": [
       "type exp =\n",
       "    Val of int\n",
       "  | Op of op * exp * exp\n",
       "  | Ide of ide\n",
       "  | Sumall of ide * int * int * exp\n"
      ]
     },
     "execution_count": 1,
     "metadata": {},
     "output_type": "execute_result"
    }
   ],
   "source": [
    "type op = Add | Sub | Mul | Div ;;\n",
    "type ide = string;;\n",
    "type exp = \n",
    "    | Val of int\n",
    "    | Op of op*exp*exp\n",
    "    | Ide of ide\n",
    "    | Sumall of ide*int*int*exp;;\n",
    "    (*Se definissimo sumall come ide*int*int*op, non potremmo rappresentare \n",
    "      una sommatoria come \"sumall (n; 1; 100) n\". Scegliamo quindi exp come \n",
    "      sottoespressione di sumall perchè è la più generale possibile.*)\n",
    "    (*Potremmo in teoria definire sumall come ide*exp*exp*exp, consentendo anche\n",
    "      espressioni come \"sumall (x; 1+1; 5*10) x*x\". Questa sintassi astratta sarebbe\n",
    "      però in contrasto con la sintassi data nella consegna.*)"
   ]
  },
  {
   "cell_type": "code",
   "execution_count": 3,
   "id": "0a644099",
   "metadata": {},
   "outputs": [
    {
     "data": {
      "text/plain": [
       "- : exp = Sumall (\"x\", 1, 5, Op (Sub, Ide \"k\", Val 1))\n"
      ]
     },
     "execution_count": 3,
     "metadata": {},
     "output_type": "execute_result"
    }
   ],
   "source": [
    "(*Secondo questa sintassi astratta, l'espressione\n",
    "  sommatoria per k che va da 1 a 5 di k-1\n",
    "  (aka sumall (k, 1, 5) k-1)\n",
    "  può essere formalizzata con il seguente AST:*)\n",
    "Sumall (\"x\", 1, 5, Op(Sub, Ide(\"k\"),Val(1)))"
   ]
  },
  {
   "cell_type": "markdown",
   "id": "9ced2db6",
   "metadata": {},
   "source": [
    "#### Ex 2:\n",
    "Nel linguaggio esteso come da esercizio precedente, si implementi una funzione `subst (e:exp) (x:ide) (v:exp)` dove `e` è un'espressione, `x` è un identificatore e `v` è un'espressione che deve descrivere un valore (`Val n`). La funzione calcola l'espressione $e\\{x:=v\\}$ in cui tutte le occorrenze \"libere\" di `x` in `e` sono sostituite con `v`. \n",
    "\n",
    "**ATTENZIONE:** Il costrutto `sumall (x;n1;n2) e` lega le occorrenza di `x` in `e`. La sostituzione deve operare solo sulle occorrenze libere della variabile. "
   ]
  },
  {
   "cell_type": "code",
   "execution_count": 5,
   "id": "09564494",
   "metadata": {},
   "outputs": [
    {
     "data": {
      "text/plain": [
       "val subst : exp -> ide -> exp -> exp = <fun>\n"
      ]
     },
     "execution_count": 5,
     "metadata": {},
     "output_type": "execute_result"
    }
   ],
   "source": []
  },
  {
   "cell_type": "markdown",
   "id": "3c970cad",
   "metadata": {},
   "source": [
    "**TEST:** applicare la funzione `subst` in modo da calcolare $((x+y)+(\\mbox{sumall }x;1;10) \\, x) \\{x:=5\\}$ che deve restituire $((5+y)+(\\mbox{sumall }x;1;10)\\, x)$."
   ]
  },
  {
   "cell_type": "code",
   "execution_count": 10,
   "id": "03de182e",
   "metadata": {},
   "outputs": [
    {
     "data": {
      "text/plain": [
       "val e1 : exp =\n",
       "  Op (Add, Op (Add, Ide \"x\", Ide \"y\"), Sumall (\"x\", 1, 10, Ide \"x\"))\n"
      ]
     },
     "execution_count": 10,
     "metadata": {},
     "output_type": "execute_result"
    },
    {
     "data": {
      "text/plain": [
       "- : exp = Op (Add, Op (Add, Val 5, Ide \"y\"), Sumall (\"x\", 1, 10, Ide \"x\"))\n"
      ]
     },
     "execution_count": 10,
     "metadata": {},
     "output_type": "execute_result"
    }
   ],
   "source": [
    "let e1 = Op (Add, (Op (Add, Ide \"x\", Ide \"y\")), (Sumall (\"x\",1,10,Ide \"x\"))) ;;\n",
    "subst e1 \"x\" (Val 5);;"
   ]
  },
  {
   "cell_type": "markdown",
   "id": "806ed348",
   "metadata": {},
   "source": [
    "#### Ex 3:\n",
    "\n",
    "Si modifichi il codice (riportato qui sotto) dell'interprete big step delle espressioni in modo tenere conto della semantica estesa con il costrutto `sumall`, definita come segue. Per l'operazione di sostituzione $e \\{x := v\\}$ utilizzare la funzione `subst` definita nell'esercizio precedente.\n",
    "\n",
    "$$\n",
    "n \\rightarrow_{bs} n\n",
    "\\qquad\n",
    "\\frac{E_1 \\rightarrow_{bs} n_1 \\quad E_2 \\rightarrow_{bs} n_2 \\quad n_1 \\mbox{op } n_2 = n}{E_1 \\, op \\, E_1 \\rightarrow_{bs} n}\n",
    "$$\n",
    "\n",
    "$$\n",
    "\\frac{e\\{x:=n\\} \\rightarrow_{bs} n'}\n",
    "{\\mbox{sumall } ( x ; n ; n ) \\, e \\rightarrow_{bs} n'}\n",
    "$$\n",
    "\n",
    "$$\n",
    "\\frac{n_1<n_2 \\quad e\\{x:=n_1\\} \\rightarrow_{bs} n' \\quad \\mbox{sumall } ( x ; n_1+1 ; n_2 ) \\, e \\rightarrow_{bs} n'' \\quad n = n' + n''}\n",
    "{\\mbox{sumall } ( x ; n_1 ; n_2 ) \\, e \\rightarrow_{bs} n}\n",
    "$$\n",
    "\n",
    "**NOTA1:** non sono previste regole per gli identificatori (sono gestiti dalla sostituzione).\n",
    "\n",
    "**NOTA2:** la semantica non prevede transizioni in caso di identificatori liberi (non legati da `sumall`) o indici numerici usati nel costrutto `sumall` non sono ben definiti"
   ]
  },
  {
   "cell_type": "code",
   "execution_count": 26,
   "id": "b5fe0b3b",
   "metadata": {},
   "outputs": [
    {
     "data": {
      "text/plain": [
       "val eval : exp -> exp = <fun>\n"
      ]
     },
     "execution_count": 26,
     "metadata": {},
     "output_type": "execute_result"
    }
   ],
   "source": [
    "(* interprete big-step *)\n",
    "let rec eval e =\n",
    "    match e with\n",
    "    | Val n -> Val n\n",
    "    | Op (op,e1,e2) -> \n",
    "        (* chiamate ricorsive che calcolano le derivazioni per e1 ed e2 *)\n",
    "        match (eval e1, eval e2) with\n",
    "        | (Val n1, Val n2) -> (match op with   (* calcola n1 op n2 *)\n",
    "                               | Add -> Val (n1+n2)\n",
    "                               | Sub -> Val (n1-n2)\n",
    "                               | Mul -> Val (n1*n2)\n",
    "                               | Div -> Val (n1/n2)\n",
    "                               )\n",
    "        (* caso (inutile) aggiunto solo per rendere esaustivo il pattern matching *)\n",
    "        | _ -> failwith \"Errore impossibile che si verifichi\" ;;"
   ]
  },
  {
   "cell_type": "markdown",
   "id": "a0744bb6",
   "metadata": {},
   "source": [
    "**TEST:** calcolare il risultato delle seguenti espressioni:\n",
    "\n",
    "* sumall (x; 1; 10) x\n",
    "* 100 + sumall (x;1;10) (sumall (y;1;10) x*y)\n",
    "\n",
    "Risultati attesi: 55 e 3125"
   ]
  },
  {
   "cell_type": "code",
   "execution_count": 28,
   "id": "0bbd0675",
   "metadata": {},
   "outputs": [
    {
     "data": {
      "text/plain": [
       "val e2 : exp = Sumall (\"x\", 1, 10, Ide \"x\")\n"
      ]
     },
     "execution_count": 28,
     "metadata": {},
     "output_type": "execute_result"
    },
    {
     "data": {
      "text/plain": [
       "val e3 : exp =\n",
       "  Op (Add, Val 100,\n",
       "   Sumall (\"x\", 1, 10, Sumall (\"y\", 1, 10, Op (Mul, Ide \"x\", Ide \"y\"))))\n"
      ]
     },
     "execution_count": 28,
     "metadata": {},
     "output_type": "execute_result"
    },
    {
     "data": {
      "text/plain": [
       "- : exp = Val 55\n"
      ]
     },
     "execution_count": 28,
     "metadata": {},
     "output_type": "execute_result"
    },
    {
     "data": {
      "text/plain": [
       "- : exp = Val 3125\n"
      ]
     },
     "execution_count": 28,
     "metadata": {},
     "output_type": "execute_result"
    }
   ],
   "source": [
    "let e2 = Sumall (\"x\",1,10,Ide \"x\");;\n",
    "let e3 = Op (Add, Val 100, \n",
    "                 (Sumall (\"x\",1,10,(Sumall (\"y\",1,10, Op ( Mul, Ide \"x\", Ide \"y\")))))) ;;\n",
    "                 \n",
    "eval e2;;\n",
    "eval e3;;"
   ]
  },
  {
   "cell_type": "markdown",
   "id": "b9b33f10",
   "metadata": {},
   "source": [
    "#### Esercizio supplementare:\n",
    "\n",
    "Scrivere una funzione `check` che analizzi staticamente la correttezza di una espressione nel linguaggio esteso. La funzione prende l'espressione e restituisce `true` se essa non contiene variabili libere e tutti i `sumall` hanno indici che garantiscono la terminazione del calcolo, `false` altrimenti."
   ]
  },
  {
   "cell_type": "code",
   "execution_count": 30,
   "id": "045bc17d",
   "metadata": {},
   "outputs": [
    {
     "data": {
      "text/plain": [
       "val check : exp -> bool = <fun>\n"
      ]
     },
     "execution_count": 30,
     "metadata": {},
     "output_type": "execute_result"
    }
   ],
   "source": []
  },
  {
   "cell_type": "markdown",
   "id": "5e7fe1e1",
   "metadata": {},
   "source": [
    "**TEST:** applicare la funzione `check` alle seguenti espressioni:\n",
    "\n",
    "* $((5+y)+(\\mbox{sumall }x;1;10) \\, x)$\n",
    "* $(5+(\\mbox{sumall }x;1;10) \\, x)$\n",
    "* $(5+(\\mbox{sumall }x;10;1) \\, x)$\n",
    "\n",
    "Risultati attesi: `false`,`true`,`false`"
   ]
  },
  {
   "cell_type": "code",
   "execution_count": 32,
   "id": "b94e6a21",
   "metadata": {},
   "outputs": [
    {
     "data": {
      "text/plain": [
       "val e4 : exp =\n",
       "  Op (Add, Op (Add, Val 5, Ide \"y\"), Sumall (\"x\", 1, 10, Ide \"x\"))\n"
      ]
     },
     "execution_count": 32,
     "metadata": {},
     "output_type": "execute_result"
    },
    {
     "data": {
      "text/plain": [
       "val e5 : exp = Op (Add, Val 5, Sumall (\"x\", 1, 10, Ide \"x\"))\n"
      ]
     },
     "execution_count": 32,
     "metadata": {},
     "output_type": "execute_result"
    },
    {
     "data": {
      "text/plain": [
       "val e6 : exp = Op (Add, Val 5, Sumall (\"x\", 10, 1, Ide \"x\"))\n"
      ]
     },
     "execution_count": 32,
     "metadata": {},
     "output_type": "execute_result"
    },
    {
     "data": {
      "text/plain": [
       "- : bool = false\n"
      ]
     },
     "execution_count": 32,
     "metadata": {},
     "output_type": "execute_result"
    },
    {
     "data": {
      "text/plain": [
       "- : bool = true\n"
      ]
     },
     "execution_count": 32,
     "metadata": {},
     "output_type": "execute_result"
    },
    {
     "data": {
      "text/plain": [
       "- : bool = false\n"
      ]
     },
     "execution_count": 32,
     "metadata": {},
     "output_type": "execute_result"
    }
   ],
   "source": [
    "let e4 = Op (Add, (Op (Add, Val 5, Ide \"y\")), (Sumall (\"x\",1,10,Ide \"x\"))) ;;\n",
    "let e5 = Op (Add, Val 5, (Sumall (\"x\",1,10,Ide \"x\"))) ;;\n",
    "let e6 = Op (Add, Val 5, (Sumall (\"x\",10,1,Ide \"x\"))) ;;\n",
    "\n",
    "check e4;;\n",
    "check e5;;\n",
    "check e6;;"
   ]
  }
 ],
 "metadata": {
  "kernelspec": {
   "display_name": "OCaml default",
   "language": "OCaml",
   "name": "ocaml-jupyter"
  },
  "language_info": {
   "codemirror_mode": "text/x-ocaml",
   "file_extension": ".ml",
   "mimetype": "text/x-ocaml",
   "name": "OCaml",
   "nbconverter_exporter": null,
   "pygments_lexer": "OCaml",
   "version": "4.08.1"
  }
 },
 "nbformat": 4,
 "nbformat_minor": 5
}
