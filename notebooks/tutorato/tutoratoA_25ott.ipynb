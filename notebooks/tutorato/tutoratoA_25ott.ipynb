{
 "cells": [
  {
   "cell_type": "markdown",
   "id": "af3356b1",
   "metadata": {},
   "source": [
    "## MiniCaML: Costrutto try-with\n",
    "\n",
    "\n",
    "Estendere l'interprete visto a lezione per implementare una rudimentale gestione delle eccezioni:\n",
    " - Definire un insieme di eccezioni, contenente almeno `VarUnbound` e `NonBooleanGuard`\n",
    " - Definire un costrutto try-with che permetta all'utente di restituire un valore alternativo quando viene sollevata un'eccezione\n",
    " \n",
    " \n",
    " Esempio (in Ocaml):\n",
    " ```\n",
    " let safe_inverse n = \n",
    "     try \n",
    "         1 / n\n",
    "     with\n",
    "         Division_by_zero -> 0\n",
    " ```"
   ]
  },
  {
   "cell_type": "markdown",
   "id": "f0552ff2",
   "metadata": {},
   "source": [
    "## Soluzione:\n",
    "\n",
    "Quando estendiamo un interprete per implementare un nuovo costrutto del linguaggio, nella maggior parte dei casi si procende in 2 step: \n",
    "- **Estendere la sintassi**: In questo caso creando un nuovo tipo di espressione nell'Albero della sintassi astratta\n",
    "- **Estendere la semantica**: In questo caso creando nuovi valori evT che rappresentino i vari errori"
   ]
  },
  {
   "cell_type": "markdown",
   "id": "1922df24",
   "metadata": {
    "slideshow": {
     "slide_type": "-"
    }
   },
   "source": [
    "### Tipi ed Espressioni"
   ]
  },
  {
   "cell_type": "markdown",
   "id": "6f99ff5c",
   "metadata": {},
   "source": [
    "Estendiamo la sintassi aggiungendo un nuovo nodo all'AST, il nodo `TryWith`.\n",
    "`TryWith` è composto da \n",
    "- un'espressione `e1`, che potrebbe sollevare una eccezione quando viene valutata\n",
    "- una eccezione `excep`\n",
    "- una espressione `e2`, che va valutata quando viene sollevata una eccezione `exec` durante la valutazione di `e1`\n",
    "\n",
    "Definiamo `TryWith` come altro costruttore in `exp` e definiamo un altro tipo variant `my_exception` per contenere 3 diversi tipi di eccezioni: Variabili non definite, Costrutti if con una guardia non booleana, e Divisioni per zero. Questi eccezioni sono solo **elementi sintattici**, rappresentano quello che l'utente scriverebbe dopo la keyword `with` in MiniCaml."
   ]
  },
  {
   "cell_type": "code",
   "execution_count": 25,
   "id": "9f99aebb",
   "metadata": {},
   "outputs": [
    {
     "data": {
      "text/plain": [
       "type ide = string\n"
      ]
     },
     "execution_count": 25,
     "metadata": {},
     "output_type": "execute_result"
    },
    {
     "data": {
      "text/plain": [
       "type tname = TInt | TBool | TString | TClosure | TRecClosure | TUnBound\n"
      ]
     },
     "execution_count": 25,
     "metadata": {},
     "output_type": "execute_result"
    },
    {
     "data": {
      "text/plain": [
       "type my_exception = ExVarUnbound | ExNonBoolGuard | ExDivByZero\n"
      ]
     },
     "execution_count": 25,
     "metadata": {},
     "output_type": "execute_result"
    },
    {
     "data": {
      "text/plain": [
       "type exp =\n",
       "    EInt of int\n",
       "  | CstTrue\n",
       "  | CstFalse\n",
       "  | EString of string\n",
       "  | Den of ide\n",
       "  | Sum of exp * exp\n",
       "  | Diff of exp * exp\n",
       "  | Prod of exp * exp\n",
       "  | Div of exp * exp\n",
       "  | IsZero of exp\n",
       "  | Eq of exp * exp\n",
       "  | LessThan of exp * exp\n",
       "  | GreaterThan of exp * exp\n",
       "  | And of exp * exp\n",
       "  | Or of exp * exp\n",
       "  | Not of exp\n",
       "  | IfThenElse of exp * exp * exp\n",
       "  | Let of ide * exp * exp\n",
       "  | Letrec of ide * ide * exp * exp\n",
       "  | Fun of ide * exp\n",
       "  | Apply of exp * exp\n",
       "  | TryWith of exp * my_exception * exp\n"
      ]
     },
     "execution_count": 25,
     "metadata": {},
     "output_type": "execute_result"
    }
   ],
   "source": [
    "(* Identificatori *)\n",
    "type ide = string;;\n",
    "\n",
    "(* I tipi *)\n",
    "type tname =  TInt | TBool | TString | TClosure | TRecClosure | TUnBound\n",
    "\n",
    "\n",
    "(* Eccezioni, built-in nel linguaggio, non definibili dall'utente di MiniCaml*)\n",
    "type my_exception = ExVarUnbound | ExNonBoolGuard | ExDivByZero\n",
    "\n",
    "(* Abstract Expressions = espressioni nella sintassi astratta, \n",
    "   compongono l'Albero di Sintassi Astratta *)\n",
    "type exp = \n",
    "    | EInt of int\n",
    "    | CstTrue \n",
    "    | CstFalse\n",
    "    | EString of string\n",
    "    | Den of ide\n",
    "    (* Operatori binari da interi a interi*)\n",
    "    | Sum of exp * exp\n",
    "    | Diff of exp * exp\n",
    "    | Prod of exp * exp\n",
    "    | Div of exp * exp\n",
    "    (* Operatori da interi a booleani *)\n",
    "    | IsZero of exp\n",
    "    | Eq of exp * exp\n",
    "    | LessThan of exp*exp\n",
    "    | GreaterThan of exp*exp\n",
    "    (* Operatori su booleani *)\n",
    "    | And of exp*exp\n",
    "    | Or of exp*exp\n",
    "    | Not of exp\n",
    "    (* Controllo del flusso, funzioni *)\n",
    "    | IfThenElse of exp * exp * exp\n",
    "    | Let of ide * exp * exp\n",
    "    | Letrec of ide * ide  * exp * exp\n",
    "    | Fun of ide * exp\n",
    "    | Apply of exp * exp\n",
    "    (*Costrutto try-with*)\n",
    "    | TryWith of exp*my_exception*exp"
   ]
  },
  {
   "cell_type": "markdown",
   "id": "d063f988",
   "metadata": {},
   "source": [
    "### Ambiente"
   ]
  },
  {
   "cell_type": "markdown",
   "id": "3916e437",
   "metadata": {},
   "source": [
    "Passiamo ora al secondo step, la semantica. Come dovrebbe essere valutata una espressione `TryWith(e1, excep, e2)`? Per gestire le eccezioni secondo l'approccio funzionale, possiamo introdurre dei **valori semantici** di errore, oltre a `UnBound`, quali `NonBoolGuard` e `DivByZero`. Ci aspettiamo che l'espressione `Div(EInt(42), EInt(2))` venga valutata al valore `EInt(21)`, mentre l'espressione `Div(EInt(42), EInt(0))` venga valutata al valore `DivByZero`. (Questo è lo stesso approccio seguito nell'aritmetica a virgola mobile IEEE 754, dove dividento un numero per zero viene restituita una particolare sequenza binaria, interpretata come `NaN`, Not a Number).\n",
    "\n",
    "Quindi una espressione, quando è presente un errore, viene valutata a un valore di errore come quelli elencati. Diventa allora immediato definire la semantica di `TryWith(e1, excep, e2)`: Se il risultato di `e1` è un valore \"normale\", allora va restituito quel valore; se invece il risultato di `e2` è un valore di errore, allora bisogna valutare `e2` se e solo se l'eccezione (semantica) incontrata coincide con l'eccezione (sintattica) `excep`."
   ]
  },
  {
   "cell_type": "code",
   "execution_count": 26,
   "id": "d4a67839",
   "metadata": {},
   "outputs": [
    {
     "data": {
      "text/plain": [
       "type 't env = ide -> 't\n"
      ]
     },
     "execution_count": 26,
     "metadata": {},
     "output_type": "execute_result"
    },
    {
     "data": {
      "text/plain": [
       "type evT =\n",
       "    Int of int\n",
       "  | Bool of bool\n",
       "  | String of string\n",
       "  | Closure of ide * exp * evT env\n",
       "  | RecClosure of ide * ide * exp * evT env\n",
       "  | UnBound\n",
       "  | NonBoolGuard\n",
       "  | DivByZero\n"
      ]
     },
     "execution_count": 26,
     "metadata": {},
     "output_type": "execute_result"
    },
    {
     "data": {
      "text/plain": [
       "val emptyenv : 'a -> evT = <fun>\n"
      ]
     },
     "execution_count": 26,
     "metadata": {},
     "output_type": "execute_result"
    },
    {
     "data": {
      "text/plain": [
       "val bind : evT env -> ide -> evT -> ide -> evT = <fun>\n"
      ]
     },
     "execution_count": 26,
     "metadata": {},
     "output_type": "execute_result"
    }
   ],
   "source": [
    "(* Ambiente polimorfo *)\n",
    "type 't env = ide -> 't\n",
    "\n",
    "(* Evaluation types = tipi  esprimibili *)\n",
    "type evT = \n",
    "    | Int of int \n",
    "    | Bool of bool \n",
    "    | String of string \n",
    "    | Closure of ide * exp * evT env \n",
    "    | RecClosure of ide * ide * exp * evT env\n",
    "    | UnBound\n",
    "    | NonBoolGuard\n",
    "    | DivByZero\n",
    "\n",
    "(* Ambiente vuoto *)\n",
    "let emptyenv = function x -> UnBound\n",
    "\n",
    "(* Binding fra una stringa x e un valore primitivo evT *)\n",
    "let bind (s: evT env) (x: ide) (v: evT) = \n",
    "    function (i: ide) -> if (i = x) then v else (s i)"
   ]
  },
  {
   "cell_type": "markdown",
   "id": "5413736b",
   "metadata": {},
   "source": [
    "### Typechecking"
   ]
  },
  {
   "cell_type": "markdown",
   "id": "8037e6a9",
   "metadata": {},
   "source": [
    "Non serve fare alcuna modifica alla funzione di typechecking."
   ]
  },
  {
   "cell_type": "code",
   "execution_count": 27,
   "id": "be45c58c",
   "metadata": {},
   "outputs": [
    {
     "data": {
      "text/plain": [
       "val typecheck : tname * evT -> bool = <fun>\n"
      ]
     },
     "execution_count": 27,
     "metadata": {},
     "output_type": "execute_result"
    },
    {
     "data": {
      "text/plain": [
       "exception RuntimeError of string\n"
      ]
     },
     "execution_count": 27,
     "metadata": {},
     "output_type": "execute_result"
    }
   ],
   "source": [
    "(* Type-checking *)\n",
    "let typecheck ((x, y) : (tname*evT)) = \n",
    "    match x with\n",
    "    | TInt -> (match y with \n",
    "               | Int(u) -> true\n",
    "               | _ -> false\n",
    "               )\n",
    "    | TBool -> (match y with \n",
    "                | Bool(u) -> true\n",
    "                | _ -> false\n",
    "                )\n",
    "    | TString -> (match y with\n",
    "                 | String(u) -> true\n",
    "                 | _ -> false\n",
    "                 )\n",
    "    | TClosure -> (match y with\n",
    "                   | Closure(i,e,n) -> true\n",
    "                   | _ -> false\n",
    "                   )\n",
    "    | TRecClosure -> (match y with\n",
    "                     | RecClosure(i,j,e,n) -> true\n",
    "                     | _ -> false\n",
    "                     )\n",
    "    |TUnBound -> (match y with\n",
    "                 | UnBound -> true\n",
    "                 | _ -> false\n",
    "                 )\n",
    "\n",
    "(* Errori a runtime *)\n",
    "exception RuntimeError of string"
   ]
  },
  {
   "cell_type": "markdown",
   "id": "5b86e826",
   "metadata": {},
   "source": [
    "### Primitive\n",
    "\n",
    "L'unica primitiva da modificare è quella della divisione."
   ]
  },
  {
   "cell_type": "code",
   "execution_count": 28,
   "id": "161ba9d7",
   "metadata": {},
   "outputs": [
    {
     "data": {
      "text/plain": [
       "val is_zero : evT -> evT = <fun>\n"
      ]
     },
     "execution_count": 28,
     "metadata": {},
     "output_type": "execute_result"
    },
    {
     "data": {
      "text/plain": [
       "val int_eq : evT * evT -> evT = <fun>\n"
      ]
     },
     "execution_count": 28,
     "metadata": {},
     "output_type": "execute_result"
    },
    {
     "data": {
      "text/plain": [
       "val int_plus : evT * evT -> evT = <fun>\n"
      ]
     },
     "execution_count": 28,
     "metadata": {},
     "output_type": "execute_result"
    },
    {
     "data": {
      "text/plain": [
       "val int_sub : evT * evT -> evT = <fun>\n"
      ]
     },
     "execution_count": 28,
     "metadata": {},
     "output_type": "execute_result"
    },
    {
     "data": {
      "text/plain": [
       "val int_times : evT * evT -> evT = <fun>\n"
      ]
     },
     "execution_count": 28,
     "metadata": {},
     "output_type": "execute_result"
    },
    {
     "data": {
      "text/plain": [
       "val int_div : evT * evT -> evT = <fun>\n"
      ]
     },
     "execution_count": 28,
     "metadata": {},
     "output_type": "execute_result"
    },
    {
     "data": {
      "text/plain": [
       "val less_than : evT * evT -> evT = <fun>\n"
      ]
     },
     "execution_count": 28,
     "metadata": {},
     "output_type": "execute_result"
    },
    {
     "data": {
      "text/plain": [
       "val greater_than : evT * evT -> evT = <fun>\n"
      ]
     },
     "execution_count": 28,
     "metadata": {},
     "output_type": "execute_result"
    },
    {
     "data": {
      "text/plain": [
       "val bool_and : evT * evT -> evT = <fun>\n"
      ]
     },
     "execution_count": 28,
     "metadata": {},
     "output_type": "execute_result"
    },
    {
     "data": {
      "text/plain": [
       "val bool_or : evT * evT -> evT = <fun>\n"
      ]
     },
     "execution_count": 28,
     "metadata": {},
     "output_type": "execute_result"
    },
    {
     "data": {
      "text/plain": [
       "val bool_not : evT -> evT = <fun>\n"
      ]
     },
     "execution_count": 28,
     "metadata": {},
     "output_type": "execute_result"
    }
   ],
   "source": [
    "(* PRIMITIVE del linguaggio *)\n",
    "\n",
    "(* Controlla se un numero è zero *)\n",
    "let is_zero(x) = match (typecheck(TInt,x),x) with\n",
    "    | (true, Int(v)) -> Bool(v = 0)\n",
    "    | (_, _) -> raise ( RuntimeError \"Wrong type\")\n",
    "\n",
    "(* Uguaglianza fra interi *)\n",
    "let int_eq(x,y) =   \n",
    "    match (typecheck(TInt,x), typecheck(TInt,y), x, y) with\n",
    "    | (true, true, Int(v), Int(w)) -> Bool(v = w)\n",
    "    | (_,_,_,_) -> raise ( RuntimeError \"Wrong type\")\n",
    "\n",
    "(* Somma fra interi *)\t   \n",
    "let int_plus(x, y) = \n",
    "    match(typecheck(TInt,x), typecheck(TInt,y), x, y) with\n",
    "    | (true, true, Int(v), Int(w)) -> Int(v + w)\n",
    "    | (_,_,_,_) -> raise ( RuntimeError \"Wrong type\")\n",
    "\n",
    "(* Differenza fra interi *)\n",
    "let int_sub(x, y) = \n",
    "    match(typecheck(TInt,x), typecheck(TInt,y), x, y) with\n",
    "    | (true, true, Int(v), Int(w)) -> Int(v - w)\n",
    "    | (_,_,_,_) -> raise ( RuntimeError \"Wrong type\")\n",
    "\n",
    "(* Prodotto fra interi *)\n",
    "let int_times(x, y) =\n",
    "    match(typecheck(TInt,x), typecheck(TInt,y), x, y) with\n",
    "    | (true, true, Int(v), Int(w)) -> Int(v * w)\n",
    "    | (_,_,_,_) -> raise ( RuntimeError \"Wrong type\")\n",
    "    \n",
    "(* Divisione fra interi *)\n",
    "let int_div(x, y) =\n",
    "    match(typecheck(TInt,x), typecheck(TInt,y), x, y) with\n",
    "    | (true, true, Int(v), Int(w)) -> \n",
    "                    if w<>0 then Int(v / w)\n",
    "                            (*Anzichè chiamare la funzione raise, che fa terminare l'interprete con un errore,\n",
    "                              restituiamo come risultato un valore di errore*)\n",
    "                            else DivByZero \n",
    "    | (_,_,_,_) -> raise ( RuntimeError \"Wrong type\")\n",
    "\n",
    "(* Operazioni di confronto *)\n",
    "let less_than(x, y) = \n",
    "    match (typecheck(TInt,x), typecheck(TInt,y), x, y) with\n",
    "    | (true, true, Int(v), Int(w)) -> Bool(v < w)\n",
    "    | (_,_,_,_) -> raise ( RuntimeError \"Wrong type\")\n",
    "\n",
    "let greater_than(x, y) = \n",
    "    match (typecheck(TInt,x), typecheck(TInt,y), x, y) with\n",
    "    | (true, true, Int(v), Int(w)) -> Bool(v > w)\n",
    "    | (_,_,_,_) -> raise ( RuntimeError \"Wrong type\")\n",
    "\n",
    "(* Operazioni logiche *)\n",
    "let bool_and(x,y) = \n",
    "    match (typecheck(TBool,x), typecheck(TBool,y), x, y) with\n",
    "    | (true, true, Bool(v), Bool(w)) -> Bool(v && w)\n",
    "    | (_,_,_,_) -> raise ( RuntimeError \"Wrong type\")\n",
    "\n",
    "let bool_or(x,y) = \n",
    "    match (typecheck(TBool,x), typecheck(TBool,y), x, y) with\n",
    "    | (true, true, Bool(v), Bool(w)) -> Bool(v || w)\n",
    "    | (_,_,_,_) -> raise ( RuntimeError \"Wrong type\")\n",
    "\n",
    "let bool_not(x) = \n",
    "    match (typecheck(TBool,x), x) with\n",
    "    | (true, Bool(v)) -> Bool(not(v))\n",
    "    | (_,_) -> raise ( RuntimeError \"Wrong type\")"
   ]
  },
  {
   "cell_type": "markdown",
   "id": "8265da43",
   "metadata": {},
   "source": [
    "### Interprete"
   ]
  },
  {
   "cell_type": "code",
   "execution_count": 29,
   "id": "d4b51bc8",
   "metadata": {},
   "outputs": [
    {
     "data": {
      "text/plain": [
       "val eval : exp -> evT env -> evT = <fun>\n"
      ]
     },
     "execution_count": 29,
     "metadata": {},
     "output_type": "execute_result"
    }
   ],
   "source": [
    "(* Interprete *)\n",
    "let rec eval (e:exp) (s:evT env) : evT = \n",
    "    match e with\n",
    "    | EInt(n) -> Int(n)\n",
    "    | CstTrue -> Bool(true)\n",
    "    | CstFalse -> Bool(false)\n",
    "    | EString(s) -> String(s)\n",
    "    (*È importante sottolineare che, essendo l'ambiente definito come una funzione, \n",
    "      se s è un ambiente e x è una variabile definita, la valutazione di Den(i) \n",
    "      restituisce il valore di errore Unbound*)\n",
    "    | Den(i) -> (s i)\n",
    "\n",
    "    | Prod(e1,e2) -> int_times((eval e1 s), (eval e2 s))\n",
    "    | Sum(e1, e2) -> int_plus((eval e1 s), (eval e2 s))\n",
    "    | Diff(e1, e2) -> int_sub((eval e1 s), (eval e2 s))\n",
    "    | Div(e1, e2) -> int_div((eval e1 s), (eval e2 s))\n",
    "\n",
    "    | IsZero(e1) -> is_zero (eval e1 s)\n",
    "    | Eq(e1, e2) -> int_eq((eval e1 s), (eval e2 s))\n",
    "    | LessThan(e1, e2) -> less_than((eval e1 s),(eval e2 s))\n",
    "    | GreaterThan(e1, e2) -> greater_than((eval e1 s),(eval e2 s))\n",
    "\n",
    "    | And(e1, e2) -> bool_and((eval e1 s),(eval e2 s))\n",
    "    | Or(e1, e2) -> bool_or((eval e1 s),(eval e2 s))\n",
    "    | Not(e1) -> bool_not(eval e1 s)\n",
    "\n",
    "    | IfThenElse(e1,e2,e3) -> \n",
    "        let g = eval e1 s in \n",
    "            (match (typecheck(TBool,g),g) with\n",
    "            |(true, Bool(true)) -> eval e2 s\n",
    "            |(true, Bool(false)) -> eval e3 s\n",
    "            (*Se la guardia non è un valore booleano, ovvero se \n",
    "              typecheck(TBool, g) restituisce false, allora il valore \n",
    "              dell'espressione ifthenelse deve essere il valore di errore NonBoolGuard*)\n",
    "            |(_,_) -> NonBoolGuard\n",
    "            )\n",
    "    | Let(i, e, ebody) -> eval ebody (bind s i (eval e s))\n",
    "    | Fun(arg, ebody) -> Closure(arg,ebody,s)\n",
    "    | Letrec(f, arg, fBody, leBody) ->\n",
    "        let benv = bind (s) (f) (RecClosure(f, arg, fBody,s)) in\n",
    "            eval leBody benv\n",
    "    | Apply(eF, eArg) ->\n",
    "        let fclosure = eval eF s in \n",
    "            (match fclosure with \n",
    "            | Closure(arg, fbody, fDecEnv) -> \n",
    "                let aVal = eval eArg s in \n",
    "                let aenv = bind fDecEnv arg aVal in \n",
    "                eval fbody aenv \n",
    "            | RecClosure(f, arg, fbody, fDecEnv) -> \n",
    "                let aVal = eval eArg s in\n",
    "                let rEnv = bind fDecEnv f fclosure in\n",
    "                let aenv = bind rEnv arg aVal in \n",
    "                eval fbody aenv\n",
    "            | _ -> raise ( RuntimeError \"Wrong type\")\n",
    "            )\n",
    "    (*TryWith valuta la prima espressione, \n",
    "      se non ottiene un errore, allora restituisce il valore della prima espressione\n",
    "      se ottiene un errore, che corrisponde al with, allora restituisce il valore della la seconda espressione,\n",
    "      se ottiene un errore che non corrisponde al with, allora restituisce quel valore di errore*)\n",
    "    | TryWith(e1, ex, e2) -> \n",
    "        let v = eval e1 s in\n",
    "        match (v, ex) with \n",
    "        | UnBound,      ExVarUnbound   -> eval e2 s\n",
    "        | NonBoolGuard, ExNonBoolGuard -> eval e2 s\n",
    "        | DivByZero, ExDivByZero       -> eval e2 s\n",
    "        | _, _ -> v;;\n",
    "        "
   ]
  },
  {
   "cell_type": "markdown",
   "id": "de7e3f7c",
   "metadata": {
    "slideshow": {
     "slide_type": "slide"
    }
   },
   "source": [
    "### Esempio di esecuzione"
   ]
  },
  {
   "cell_type": "code",
   "execution_count": 31,
   "id": "62d907ff",
   "metadata": {},
   "outputs": [
    {
     "data": {
      "text/plain": [
       "val eCorrect : exp =\n",
       "  TryWith (IfThenElse (CstTrue, EInt 42, EInt 0), ExNonBoolGuard, EInt (-1))\n"
      ]
     },
     "execution_count": 31,
     "metadata": {},
     "output_type": "execute_result"
    },
    {
     "data": {
      "text/plain": [
       "val eWithException : exp =\n",
       "  TryWith (IfThenElse (EString \"true\", EInt 42, EInt 0), ExNonBoolGuard,\n",
       "   EInt (-1))\n"
      ]
     },
     "execution_count": 31,
     "metadata": {},
     "output_type": "execute_result"
    },
    {
     "data": {
      "text/plain": [
       "val eWithUncoughtException : exp =\n",
       "  TryWith (IfThenElse (CstTrue, Div (EInt 42, EInt 0), EInt 0),\n",
       "   ExNonBoolGuard, EInt (-1))\n"
      ]
     },
     "execution_count": 31,
     "metadata": {},
     "output_type": "execute_result"
    },
    {
     "data": {
      "text/plain": [
       "- : evT = Int 42\n"
      ]
     },
     "execution_count": 31,
     "metadata": {},
     "output_type": "execute_result"
    },
    {
     "data": {
      "text/plain": [
       "- : evT = Int (-1)\n"
      ]
     },
     "execution_count": 31,
     "metadata": {},
     "output_type": "execute_result"
    },
    {
     "data": {
      "text/plain": [
       "- : evT = DivByZero\n"
      ]
     },
     "execution_count": 31,
     "metadata": {},
     "output_type": "execute_result"
    }
   ],
   "source": [
    "(*try \n",
    "    if true then 42 else 0\n",
    "with ExNonBoolGuard -> -1*)\n",
    "let eCorrect = TryWith(\n",
    "    IfThenElse(CstTrue,EInt(42),EInt(0)), \n",
    "    ExNonBoolGuard, \n",
    "    EInt(-1)\n",
    "    );;\n",
    "\n",
    "(*try \n",
    "    if \"true\" then 42 else 0\n",
    "with ExNonBoolGuard -> -1*)\n",
    "let eWithException = TryWith(\n",
    "    IfThenElse(EString(\"true\"),EInt(42),EInt(0)), \n",
    "    ExNonBoolGuard, \n",
    "    EInt(-1)\n",
    "    );;\n",
    "\n",
    "(*try \n",
    "    if true then 42/0 else 0\n",
    "with ExDivByZero -> -1*)\n",
    "let eWithUncoughtException = TryWith(\n",
    "    IfThenElse(CstTrue,\n",
    "                Div(EInt(42), EInt(0)),\n",
    "                EInt(0)), \n",
    "    ExNonBoolGuard, \n",
    "    EInt(-1)\n",
    "    );;\n",
    "eval eCorrect emptyenv;; (*Mi aspetto 42*)\n",
    "eval eWithException emptyenv;; (*Mi aspetto -1*)\n",
    "eval eWithUncoughtException emptyenv;; (*Mi aspetto il valore di errore non catturato da ExNonBoolGuard*)"
   ]
  },
  {
   "cell_type": "markdown",
   "id": "4c633cb1",
   "metadata": {},
   "source": [
    "Questo implementazione delle eccezioni in MiniCamel è in realtà incompleta. Dall'espressione\n",
    "```\n",
    "try \n",
    "    (42/0)*10\n",
    "with ExDivByZero -> -1\n",
    "```\n",
    "Ci si aspetta di ricevere il valore `-1`, perchè viene sollevata una eccezione che dovrebbe essere catturata dal `with`. Il problema è che il valore `DivByZero`, che viene creato, non viene passato immediatamente al costrutto try, ma viene usato come risultato parziale di quale che sia la sua espressione padre. In questo caso, il valore `DivByZero` viene usato da `Prod` e moltiplicato col valore 10, ma `DivByZero` non supera il typechecking e l'interprete si ferma.\n",
    "\n",
    "La soluzione corretta (implementata ad esmepio da NaN nell'aritmetica a virgola mobile, o dalle monadi in Haskell), sarebbe quella di riscrivere tutte le primitive per far si che, se ricevono in input un valore di errore, restituiscano in output quel valore di errore senza eseguire nessuna altra operazione."
   ]
  },
  {
   "cell_type": "code",
   "execution_count": 32,
   "id": "78dc6be4",
   "metadata": {},
   "outputs": [
    {
     "data": {
      "text/plain": [
       "val eWithInnerException : exp =\n",
       "  TryWith (Prod (Div (EInt 42, EInt 0), EInt 10), ExDivByZero, EInt (-1))\n"
      ]
     },
     "execution_count": 32,
     "metadata": {},
     "output_type": "execute_result"
    },
    {
     "ename": "error",
     "evalue": "runtime_error",
     "output_type": "error",
     "traceback": [
      "\u001b[31mException: RuntimeError \"Wrong type\".\nRaised at file \"[28]\", line 30, characters 25-53\nCalled from file \"[29]\", line 61, characters 16-25\nCalled from file \"toplevel/toploop.ml\", line 208, characters 17-27\n\u001b[0m"
     ]
    }
   ],
   "source": [
    "(*try \n",
    "    (42/0)*10\n",
    "with ExDivByZero -> -1*)\n",
    "let eWithInnerException = TryWith(\n",
    "    Prod(\n",
    "         Div(EInt(42), EInt(0)),\n",
    "         EInt(10)\n",
    "        ), \n",
    "    ExDivByZero, \n",
    "    EInt(-1)\n",
    "    );;\n",
    "\n",
    "eval eWithInnerException emptyenv;;"
   ]
  }
 ],
 "metadata": {
  "kernelspec": {
   "display_name": "OCaml default",
   "language": "OCaml",
   "name": "ocaml-jupyter"
  },
  "language_info": {
   "codemirror_mode": "text/x-ocaml",
   "file_extension": ".ml",
   "mimetype": "text/x-ocaml",
   "name": "OCaml",
   "nbconverter_exporter": null,
   "pygments_lexer": "OCaml",
   "version": "4.08.1"
  },
  "rise": {
   "enable_chalkboard": true,
   "scroll": true
  }
 },
 "nbformat": 4,
 "nbformat_minor": 5
}
