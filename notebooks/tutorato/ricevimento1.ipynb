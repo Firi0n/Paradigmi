{
 "cells": [
  {
   "cell_type": "markdown",
   "id": "0061b8ed",
   "metadata": {},
   "source": [
    "Es 1:\n",
    "Eliminare tutti gli elementi con indice multiplo di \"n\" da una lista "
   ]
  },
  {
   "cell_type": "code",
   "execution_count": null,
   "id": "360c13b6",
   "metadata": {},
   "outputs": [],
   "source": []
  },
  {
   "cell_type": "markdown",
   "id": "1dc7c853",
   "metadata": {},
   "source": [
    "Es 2:\n",
    "Dati due indici interi, i e k, lo slice è definito come la lista che contiene gli elementi tra l'i-esimo e il k-esimo della lista originale (inclusi i limiti i e k). Scrivere il programma che estrae lo slice da una lista"
   ]
  },
  {
   "cell_type": "code",
   "execution_count": null,
   "id": "69c376a8",
   "metadata": {},
   "outputs": [],
   "source": []
  },
  {
   "cell_type": "markdown",
   "id": "de03094d",
   "metadata": {},
   "source": [
    "Es 3:\n",
    "Replicare gli elementi di una lista un dato numero di volte"
   ]
  },
  {
   "cell_type": "code",
   "execution_count": null,
   "id": "af7e4c77",
   "metadata": {},
   "outputs": [],
   "source": []
  },
  {
   "cell_type": "markdown",
   "id": "89fa4627",
   "metadata": {},
   "source": [
    "Es 4:\n",
    "Supponiamo di considerare una lista i cui elementi sono essi stessi delle liste. Si scriva un programma che ordini gli elementi di questa lista in termini  della lunghezza delle liste da quella di lunghezza più piccola a quelle più grandi."
   ]
  },
  {
   "cell_type": "code",
   "execution_count": null,
   "id": "1caa1df5",
   "metadata": {},
   "outputs": [],
   "source": []
  }
 ],
 "metadata": {
  "kernelspec": {
   "display_name": "OCaml default",
   "language": "OCaml",
   "name": "ocaml-jupyter"
  },
  "language_info": {
   "codemirror_mode": "text/x-ocaml",
   "file_extension": ".ml",
   "mimetype": "text/x-ocaml",
   "name": "OCaml",
   "nbconverter_exporter": null,
   "pygments_lexer": "OCaml",
   "version": "4.08.1"
  }
 },
 "nbformat": 4,
 "nbformat_minor": 5
}
