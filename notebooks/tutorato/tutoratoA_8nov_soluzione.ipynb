{
 "cells": [
  {
   "cell_type": "markdown",
   "id": "00ab2072",
   "metadata": {},
   "source": [
    "## MiniCaml con Insiemi\n",
    "\n",
    "Vogliamo estendere l'interprete visto a lezione, implementando un costrutto che permetta di formare **insiemi di elementi dello stesso tipo**. Esempi di espressioni in questo linguaggio esteso potrebbero essere:\n",
    "```\n",
    "{int: 1, 2, 3, 4};;\n",
    "\n",
    "let x = {int: 1, 2, 3, 4} in \n",
    "    insert(6, x);;\n",
    "\n",
    "let x = {string: \"hello\", \"world\", \"from\", \"MiniCaml\" } in\n",
    "    if (\"hi\" in x) then 0 else 1\n",
    "\n",
    "let x = {string: \"hello\", \"world\", \"from\", \"MiniCaml\" } in\n",
    "let y = {string: \"hi\" \"world\"} in\n",
    "    intersection(x, y)\n",
    "```"
   ]
  },
  {
   "cell_type": "markdown",
   "id": "e0d15b64",
   "metadata": {},
   "source": [
    "### Es 1: Albero della sintassi astratta\n",
    "\n",
    "Estendere l'AST di MiniCaml con un **nuovo tipo** e le seguenti **nuove espressioni**:\n",
    "1. Espressioni per **costruire insiemi**: \n",
    "    - una per l'insieme vuoto (di un certo tipo) \n",
    "    - una per l'insieme singoletto contenente un dato elemento (di un certo tipo) \n",
    "    - e una per l'insieme contenente una data sequenza di elementi distinti (tutti di un certo tipo)\n",
    "    \n",
    "    __NOTA:__ Ogni insieme, anche se vuoto, mantiene sempre l'informazione sul tipo di elementi che può contenere. Quindi le espressioni `{int:}` e `{string:}` dovranno essere di tipi diversi...\n",
    "\n",
    "\n",
    "2. Un **operatore unario** su insiemi:\n",
    "    - `isEmpty`, che restituisca true solo se l'insieme è vuoto\n",
    "\n",
    "\n",
    "3. **Operatori fra insiemi ed elementi**:\n",
    "    - `Insert`, tale che `insert x A` resituisca $A \\cup \\{x\\}$\n",
    "    - `Remove`, tale che `remove x A` restituisca $A \\setminus \\{x\\}$\n",
    "    - `Member`, tale che `member x A` restituisca `true` sse $x \\in A$\n",
    "\n",
    "\n",
    "4. **Operatori binari** su insiemi:\n",
    "    - `Union`, tale che `union A B` restituisca $A \\cup B$\n",
    "    - `Intersection`, tale che `intersection A B` restituisca $A \\cap B$\n",
    "    - `Subset`, tale che `subset A B` restituisca `true` sse $A \\subset B$"
   ]
  },
  {
   "cell_type": "code",
   "execution_count": 1,
   "id": "5863c548",
   "metadata": {},
   "outputs": [
    {
     "data": {
      "text/plain": [
       "type ide = string\n"
      ]
     },
     "execution_count": 1,
     "metadata": {},
     "output_type": "execute_result"
    },
    {
     "data": {
      "text/plain": [
       "type tsub = TInt | TBool | TString\n"
      ]
     },
     "execution_count": 1,
     "metadata": {},
     "output_type": "execute_result"
    },
    {
     "data": {
      "text/plain": [
       "type tname =\n",
       "    TInt\n",
       "  | TBool\n",
       "  | TString\n",
       "  | TClosure\n",
       "  | TRecClosure\n",
       "  | TUnBound\n",
       "  | TSet of tsub\n"
      ]
     },
     "execution_count": 1,
     "metadata": {},
     "output_type": "execute_result"
    },
    {
     "data": {
      "text/plain": [
       "type exp =\n",
       "    EInt of int\n",
       "  | CstTrue\n",
       "  | CstFalse\n",
       "  | EString of string\n",
       "  | Den of ide\n",
       "  | Sum of exp * exp\n",
       "  | Diff of exp * exp\n",
       "  | Prod of exp * exp\n",
       "  | Div of exp * exp\n",
       "  | IsZero of exp\n",
       "  | Eq of exp * exp\n",
       "  | LessThan of exp * exp\n",
       "  | GreaterThan of exp * exp\n",
       "  | And of exp * exp\n",
       "  | Or of exp * exp\n",
       "  | Not of exp\n",
       "  | IfThenElse of exp * exp * exp\n",
       "  | Let of ide * exp * exp\n",
       "  | Letrec of ide * ide * exp * exp\n",
       "  | Fun of ide * exp\n",
       "  | Apply of exp * exp\n",
       "  | Empty of tsub\n",
       "  | Singleton of tsub * exp\n",
       "  | Of of tsub * exp list\n",
       "  | IsEmpty of exp\n",
       "  | GetMin of exp\n",
       "  | GetMax of exp\n",
       "  | Union of exp * exp\n",
       "  | Intersection of exp * exp\n",
       "  | Difference of exp * exp\n",
       "  | Insert of exp * exp\n",
       "  | Remove of exp * exp\n",
       "  | Contains of exp * exp\n",
       "  | IsSubset of exp * exp\n"
      ]
     },
     "execution_count": 1,
     "metadata": {},
     "output_type": "execute_result"
    }
   ],
   "source": [
    "(* Identificatori *)\n",
    "type ide = string;;\n",
    "\n",
    "(*############# tsub sono esattamente i tipi di dato ammissibili per un insieme: interi, stringhe e booleani *)\n",
    "type tsub = TInt | TBool | TString\n",
    "\n",
    "(* I tipi *)\n",
    "type tname =  TInt | TBool | TString | TClosure | TRecClosure | TUnBound \n",
    "    |TSet of tsub (*#############*)\n",
    "\n",
    "(* Abstract Expressions = espressioni nella sintassi astratta, \n",
    "   compongono l'Albero di Sintassi Astratta *)\n",
    "type exp = \n",
    "    | EInt of int\n",
    "    | CstTrue \n",
    "    | CstFalse\n",
    "    | EString of string\n",
    "    | Den of ide\n",
    "    (* Operatori binari da interi a interi*)\n",
    "    | Sum of exp * exp\n",
    "    | Diff of exp * exp\n",
    "    | Prod of exp * exp\n",
    "    | Div of exp * exp\n",
    "    (* Operatori da interi a booleani *)\n",
    "    | IsZero of exp\n",
    "    | Eq of exp * exp\n",
    "    | LessThan of exp*exp\n",
    "    | GreaterThan of exp*exp\n",
    "    (* Operatori su booleani *)\n",
    "    | And of exp*exp\n",
    "    | Or of exp*exp\n",
    "    | Not of exp\n",
    "    (* Controllo del flusso, funzioni *)\n",
    "    | IfThenElse of exp * exp * exp\n",
    "    | Let of ide * exp * exp\n",
    "    | Letrec of ide * ide  * exp * exp\n",
    "    | Fun of ide * exp\n",
    "    | Apply of exp * exp\n",
    "    (*###### Costruttori di insiemi *)\n",
    "    | Empty of tsub (* Insieme vuoto *)\n",
    "    | Singleton of tsub*exp (* Insieme con un solo elemento *)\n",
    "    | Of of tsub*exp list (* Insieme con uno o più elementi *)\n",
    "    (*##### Operatori unari su insiemi*)\n",
    "    | IsEmpty of exp \n",
    "    | GetMin of exp \n",
    "    | GetMax of exp\n",
    "    (*##### Operatori binari su insiemi *)\n",
    "    | Union of exp*exp\n",
    "    | Intersection of exp*exp \n",
    "    | Difference of exp*exp \n",
    "    | Insert of exp*exp\n",
    "    | Remove of exp*exp\n",
    "    | Contains of exp*exp\n",
    "    | IsSubset of exp*exp"
   ]
  },
  {
   "cell_type": "markdown",
   "id": "698e7859",
   "metadata": {},
   "source": [
    "### Es 2: Tipi esprimibili\n",
    "\n",
    "Estendere i tipi esprimibili e la funzione `getType` per comprendere anche i valori insieme."
   ]
  },
  {
   "cell_type": "code",
   "execution_count": 2,
   "id": "3f94324f",
   "metadata": {},
   "outputs": [
    {
     "data": {
      "text/plain": [
       "type 't env = ide -> 't\n"
      ]
     },
     "execution_count": 2,
     "metadata": {},
     "output_type": "execute_result"
    },
    {
     "data": {
      "text/plain": [
       "type evT =\n",
       "    Int of int\n",
       "  | Bool of bool\n",
       "  | String of string\n",
       "  | Closure of ide * exp * evT env\n",
       "  | RecClosure of ide * ide * exp * evT env\n",
       "  | Set of tsub * evT list\n",
       "  | UnBound\n"
      ]
     },
     "execution_count": 2,
     "metadata": {},
     "output_type": "execute_result"
    },
    {
     "data": {
      "text/plain": [
       "val emptyenv : 'a -> evT = <fun>\n"
      ]
     },
     "execution_count": 2,
     "metadata": {},
     "output_type": "execute_result"
    },
    {
     "data": {
      "text/plain": [
       "val bind : evT env -> ide -> evT -> ide -> evT = <fun>\n"
      ]
     },
     "execution_count": 2,
     "metadata": {},
     "output_type": "execute_result"
    },
    {
     "data": {
      "text/plain": [
       "val getType : evT -> tname = <fun>\n"
      ]
     },
     "execution_count": 2,
     "metadata": {},
     "output_type": "execute_result"
    }
   ],
   "source": [
    "(* Ambiente polimorfo *)\n",
    "type 't env = ide -> 't\n",
    "\n",
    "(* Evaluation types = tipi  esprimibili *)\n",
    "type evT = \n",
    "    | Int of int \n",
    "    | Bool of bool \n",
    "    | String of string \n",
    "    | Closure of ide * exp * evT env \n",
    "    | RecClosure of ide * ide * exp * evT env\n",
    "    | Set of tsub*(evT list)(*###############*)\n",
    "    | UnBound\n",
    "\n",
    "(* Ambiente vuoto *)\n",
    "let emptyenv = function x -> UnBound\n",
    "\n",
    "(* Binding fra una stringa x e un valore primitivo evT *)\n",
    "let bind (s: evT env) (x: ide) (v: evT) = \n",
    "    function (i: ide) -> if (i = x) then v else (s i)\n",
    "\n",
    "(* Funzione da evT a tname che associa a ogni valore il suo descrittore di tipo  *)\n",
    "let getType (x: evT) : tname =\n",
    "    match x with\n",
    "    | Int(n) -> TInt\n",
    "    | Bool(b) -> TBool\n",
    "    | String(s) -> TString\n",
    "    | Closure(i,e,en) -> TClosure\n",
    "    | RecClosure(i,j,e,en) -> TRecClosure\n",
    "    | Set(t,l) -> TSet(t)(*#########*)\n",
    "    | UnBound -> TUnBound"
   ]
  },
  {
   "cell_type": "markdown",
   "id": "c2a62fb8",
   "metadata": {},
   "source": [
    "### Es 3: Typechecking\n",
    "\n",
    "Estendere la funzione di typechecking in maniera tale che `typecheck(TSet, v)` restituisca `true` se e solo se `v` è un valore di tipo `TSet`, cioè è un insieme di valori, e tutti gli elementi contenuti in `v` sono del tipo adeguato."
   ]
  },
  {
   "cell_type": "code",
   "execution_count": 3,
   "id": "4cc93c01",
   "metadata": {},
   "outputs": [
    {
     "data": {
      "text/plain": [
       "exception RuntimeError of string\n"
      ]
     },
     "execution_count": 3,
     "metadata": {},
     "output_type": "execute_result"
    },
    {
     "data": {
      "text/plain": [
       "val upcast : tsub -> tname = <fun>\n"
      ]
     },
     "execution_count": 3,
     "metadata": {},
     "output_type": "execute_result"
    },
    {
     "data": {
      "text/plain": [
       "val downcast : tname -> tsub = <fun>\n"
      ]
     },
     "execution_count": 3,
     "metadata": {},
     "output_type": "execute_result"
    },
    {
     "data": {
      "text/plain": [
       "val allSameType : tname -> evT list -> bool = <fun>\n"
      ]
     },
     "execution_count": 3,
     "metadata": {},
     "output_type": "execute_result"
    },
    {
     "data": {
      "text/plain": [
       "val typecheck : tname * evT -> bool = <fun>\n"
      ]
     },
     "execution_count": 3,
     "metadata": {},
     "output_type": "execute_result"
    }
   ],
   "source": [
    "(* Errori a runtime *)\n",
    "exception RuntimeError of string\n",
    "\n",
    "(* Funzione di upcasting da tsub a tname #############*)\n",
    "let (upcast : tsub -> tname) = function x -> match x with\n",
    "    | TInt -> TInt\n",
    "    | TBool -> TBool\n",
    "    | TString -> TString\n",
    "\n",
    "(* Funzione di downcasting da tname a tsub ###########*)\n",
    "let (downcast : tname -> tsub) = function x -> match x with\n",
    "    | TInt -> TInt\n",
    "    | TBool -> TBool\n",
    "    | TString -> TString\n",
    "    | _ -> raise ( RuntimeError \"Cannot downcast\")\n",
    "\n",
    "\n",
    "let rec allSameType (typ : tname) (l : evT list) = \n",
    "    match l with\n",
    "    | [] -> true\n",
    "    | h::tl ->  (getType h = typ) && allSameType typ tl\n",
    "\n",
    "\n",
    "(* Type-checking *)\n",
    "let typecheck ((x, y) : (tname*evT)) = \n",
    "    match x with\n",
    "    | TInt -> (match y with \n",
    "               | Int(u) -> true\n",
    "               | _ -> false\n",
    "               )\n",
    "    | TBool -> (match y with \n",
    "                | Bool(u) -> true\n",
    "                | _ -> false\n",
    "                )\n",
    "    | TString -> (match y with\n",
    "                 | String(u) -> true\n",
    "                 | _ -> false\n",
    "                 )\n",
    "    | TClosure -> (match y with\n",
    "                   | Closure(i,e,n) -> true\n",
    "                   | _ -> false\n",
    "                   )\n",
    "    | TRecClosure -> (match y with\n",
    "                     | RecClosure(i,j,e,n) -> true\n",
    "                     | _ -> false\n",
    "                     )\n",
    "    |TSet(subT) -> (*#########*)\n",
    "            (match y with\n",
    "                | Set(t, l) -> \n",
    "                    if (subT = t) then \n",
    "                        allSameType (upcast t) l \n",
    "                    else false\n",
    "                | _ -> false\n",
    "                )\n",
    "    |TUnBound -> (match y with\n",
    "                 | UnBound -> true\n",
    "                 | _ -> false\n",
    "                 )"
   ]
  }
 ],
 "metadata": {
  "kernelspec": {
   "display_name": "OCaml default",
   "language": "OCaml",
   "name": "ocaml-jupyter"
  },
  "language_info": {
   "codemirror_mode": "text/x-ocaml",
   "file_extension": ".ml",
   "mimetype": "text/x-ocaml",
   "name": "OCaml",
   "nbconverter_exporter": null,
   "pygments_lexer": "OCaml",
   "version": "4.08.1"
  },
  "rise": {
   "enable_chalkboard": true,
   "scroll": true
  }
 },
 "nbformat": 4,
 "nbformat_minor": 5
}
