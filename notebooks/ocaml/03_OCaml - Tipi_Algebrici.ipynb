{
 "cells": [
  {
   "cell_type": "markdown",
   "id": "e9240ba0",
   "metadata": {
    "slideshow": {
     "slide_type": "slide"
    }
   },
   "source": [
    "# Tipi Algebrici (Record e Variant)"
   ]
  },
  {
   "cell_type": "markdown",
   "id": "d942b8fc",
   "metadata": {
    "slideshow": {
     "slide_type": "slide"
    }
   },
   "source": [
    "## Definire nuovi tipi\n",
    "\n",
    "In OCaml è possibile definire nuovi tipi di dato usando il costrutto `type`"
   ]
  },
  {
   "cell_type": "code",
   "execution_count": 1,
   "id": "748fd174",
   "metadata": {},
   "outputs": [
    {
     "data": {
      "text/plain": [
       "type data = int * int * int\n"
      ]
     },
     "execution_count": 1,
     "metadata": {},
     "output_type": "execute_result"
    }
   ],
   "source": [
    "type data = int*int*int ;;"
   ]
  },
  {
   "cell_type": "markdown",
   "id": "db859279",
   "metadata": {},
   "source": [
    "Abbiamo definito un alias per `int*int*int`..."
   ]
  },
  {
   "cell_type": "code",
   "execution_count": 2,
   "id": "1527fe74",
   "metadata": {},
   "outputs": [
    {
     "data": {
      "text/plain": [
       "val controlla_data : data -> bool = <fun>\n"
      ]
     },
     "execution_count": 2,
     "metadata": {},
     "output_type": "execute_result"
    }
   ],
   "source": [
    "let controlla_data (d:data) =\n",
    "    match d with\n",
    "    | gg,mm,aaaa -> gg>0 && gg<=31\n",
    "                 && mm>0 && mm<=12\n",
    "                 && aaaa>1900 && aaaa<=2030 ;;"
   ]
  },
  {
   "cell_type": "code",
   "execution_count": 3,
   "id": "cb0f434d",
   "metadata": {},
   "outputs": [
    {
     "data": {
      "text/plain": [
       "val accoda_data : data -> data list -> data list = <fun>\n"
      ]
     },
     "execution_count": 3,
     "metadata": {},
     "output_type": "execute_result"
    }
   ],
   "source": [
    "let accoda_data (d:data) lis =\n",
    "    if controlla_data(d) then d::lis else lis ;;"
   ]
  },
  {
   "cell_type": "markdown",
   "id": "0ec1dccd",
   "metadata": {
    "slideshow": {
     "slide_type": "notes"
    }
   },
   "source": [
    "L'uso degli alias può rendere il codice più leggibile, soprattutto quando abbiamo a che fare con tipi molto complicati (tuple di tuple...). Se etichettiamo il parametro di una funzione con un alias, come in questi esempi, l'algoritmo di inferenza di tipi di OCaml lo utilizzerà rendendoci la descrizione del tipo inferto più comprensibile."
   ]
  },
  {
   "cell_type": "markdown",
   "id": "e1328321",
   "metadata": {
    "slideshow": {
     "slide_type": "slide"
    }
   },
   "source": [
    "## Tipi algebrici\n",
    "\n",
    "OCaml consente di *comporre* tipi di dato per creare nuovi tipi"
   ]
  },
  {
   "cell_type": "markdown",
   "id": "a9235800",
   "metadata": {
    "slideshow": {
     "slide_type": "fragment"
    }
   },
   "source": [
    "Immaginiamo un tipo come un insieme di valori\n",
    "\n",
    "* `int` come l'insieme dei numeri interi, \n",
    "* `bool` come l'insieme {`true`,`false`}, \n",
    "* ecc..."
   ]
  },
  {
   "cell_type": "markdown",
   "id": "39295fbf",
   "metadata": {
    "slideshow": {
     "slide_type": "fragment"
    }
   },
   "source": [
    "Le operazioni di costruzione di nuovi tipi in OCaml sono ispirate alle operazioni insiemistiche: \n",
    "* *prodotto cartesiano* ($\\times$), a cui corrispondono le *tuple* e i *record*\n",
    "* *unione* ($\\cup$) (che è una *somma* di insiemi), a cui corrispondo i *variant*"
   ]
  },
  {
   "cell_type": "markdown",
   "id": "ade7921f",
   "metadata": {
    "slideshow": {
     "slide_type": "slide"
    }
   },
   "source": [
    "## Tipi prodotto: tuple e record\n",
    "\n",
    "Il prodotto cartesiano di due insiemi (es. $\\mathbb{N} \\times \\mathbb{N}$) è un insieme di coppie.\n",
    "\n",
    "* $(7,4) \\in \\mathbb{N}\\times \\mathbb{N}$\n",
    "\n",
    "Allo stesso modo il prodotto di due tipi (es. `int * int`) è un tipo di coppie\n",
    "\n",
    "* `(7,4) : int*int`\n",
    "\n",
    "Il discorso si estende a tuple di qualunque dimensione, come abbiamo già visto..."
   ]
  },
  {
   "cell_type": "markdown",
   "id": "78ca037b",
   "metadata": {
    "slideshow": {
     "slide_type": "slide"
    }
   },
   "source": [
    "## Record\n",
    "\n",
    "I record sono un modo più avanzato di definire tipi prodotto\n",
    "* sono simili a tuple, ma possiamo dare un nome agli elementi (detti *campi*)"
   ]
  },
  {
   "cell_type": "markdown",
   "id": "1f5a1404",
   "metadata": {
    "slideshow": {
     "slide_type": "notes"
    }
   },
   "source": [
    "Definiamo, ad esempio, un tipo record da usare per descrivere i punti nel piano cartesiano (cioè, in uno spazio bidimensionale). Ogni punto sarà descritto da una coordinata `x` e una coordinata `y` entrambe di tipo `float`."
   ]
  },
  {
   "cell_type": "code",
   "execution_count": 4,
   "id": "a86cd7d9",
   "metadata": {},
   "outputs": [
    {
     "data": {
      "text/plain": [
       "type punto_2d = { x : float; y : float; }\n"
      ]
     },
     "execution_count": 4,
     "metadata": {},
     "output_type": "execute_result"
    }
   ],
   "source": [
    "type punto_2d = { x: float; y: float; } ;;"
   ]
  },
  {
   "cell_type": "markdown",
   "id": "b93c2bf4",
   "metadata": {
    "slideshow": {
     "slide_type": "fragment"
    }
   },
   "source": [
    "Definito il tipo di un record, possiamo creare valori di quel tipo"
   ]
  },
  {
   "cell_type": "code",
   "execution_count": 5,
   "id": "139eb835",
   "metadata": {},
   "outputs": [
    {
     "data": {
      "text/plain": [
       "val p : punto_2d = {x = 3.; y = -4.}\n"
      ]
     },
     "execution_count": 5,
     "metadata": {},
     "output_type": "execute_result"
    }
   ],
   "source": [
    "let p = { x = 3.; y = -4. } ;;"
   ]
  },
  {
   "cell_type": "markdown",
   "id": "8b005d76",
   "metadata": {
    "cell_style": "center",
    "slideshow": {
     "slide_type": "slide"
    }
   },
   "source": [
    "Un valore di tipo record può essere decomposto usando il *pattern matching*\n",
    "\n",
    "Ad esempio, calcoliamo il quadrante del piano cartesiano in cui ricade un punto"
   ]
  },
  {
   "cell_type": "code",
   "execution_count": 6,
   "id": "db9014d8",
   "metadata": {
    "cell_style": "split"
   },
   "outputs": [
    {
     "data": {
      "text/plain": [
       "val quadrante : punto_2d -> int = <fun>\n"
      ]
     },
     "execution_count": 6,
     "metadata": {},
     "output_type": "execute_result"
    },
    {
     "data": {
      "text/plain": [
       "- : int = 2\n"
      ]
     },
     "execution_count": 6,
     "metadata": {},
     "output_type": "execute_result"
    }
   ],
   "source": [
    "let quadrante {x = x_pos; y = y_pos } =\n",
    "    match x_pos>=0.,y_pos>=0. with\n",
    "    | true,true -> 1\n",
    "    | false,true -> 2\n",
    "    | false,false -> 3\n",
    "    | true,false -> 4 ;;\n",
    "\n",
    "quadrante {x=(-3.); y=2.};;"
   ]
  },
  {
   "cell_type": "markdown",
   "id": "3ee0e351",
   "metadata": {
    "cell_style": "split",
    "slideshow": {
     "slide_type": "-"
    }
   },
   "source": [
    "![Quadranti](files/images/quadranti.png)"
   ]
  },
  {
   "cell_type": "markdown",
   "id": "9e638b47",
   "metadata": {
    "cell_style": "center"
   },
   "source": [
    "**ATTENZIONE:** Nell'esempio ci sono due pattern matching. Quello che decompone il record è implicito nel `let` e usa il pattern `{x = x_pos; y = y_pos }`"
   ]
  },
  {
   "cell_type": "markdown",
   "id": "c774bdb9",
   "metadata": {
    "slideshow": {
     "slide_type": "notes"
    }
   },
   "source": [
    "Infatti, analogamente a quanto accade per le tuple, anche con i record è possibile specificare un pattern direttamente nell'operazione `let`, in modo tale da destrutturare immediatamente il record nelle sue componenti."
   ]
  },
  {
   "cell_type": "markdown",
   "id": "02784ca7",
   "metadata": {
    "slideshow": {
     "slide_type": "slide"
    }
   },
   "source": [
    "Un po' più semplicemente, possiamo usare direttamente `x` e `y` come nomi di variabili"
   ]
  },
  {
   "cell_type": "code",
   "execution_count": 7,
   "id": "98a9ad16",
   "metadata": {},
   "outputs": [
    {
     "data": {
      "text/plain": [
       "val quadrante : punto_2d -> int = <fun>\n"
      ]
     },
     "execution_count": 7,
     "metadata": {},
     "output_type": "execute_result"
    }
   ],
   "source": [
    "let quadrante {x; y} =\n",
    "    match x>=0.,y>=0. with\n",
    "    | true,true -> 1\n",
    "    | false,true -> 2\n",
    "    | false,false -> 3\n",
    "    | true,false -> 4 ;;"
   ]
  },
  {
   "cell_type": "markdown",
   "id": "bfb55124",
   "metadata": {
    "slideshow": {
     "slide_type": "fragment"
    }
   },
   "source": [
    "Oppure possiamo accedere ai campi usando la *dot notation*: `p.x` e `p.y`"
   ]
  },
  {
   "cell_type": "code",
   "execution_count": 8,
   "id": "c6f776c2",
   "metadata": {},
   "outputs": [
    {
     "data": {
      "text/plain": [
       "val quadrante : punto_2d -> int = <fun>\n"
      ]
     },
     "execution_count": 8,
     "metadata": {},
     "output_type": "execute_result"
    }
   ],
   "source": [
    "let quadrante p =\n",
    "    match p.x>=0.,p.y>=0. with\n",
    "    | true,true -> 1\n",
    "    | false,true -> 2\n",
    "    | false,false -> 3\n",
    "    | true,false -> 4 ;;"
   ]
  },
  {
   "cell_type": "markdown",
   "id": "df694f69",
   "metadata": {
    "slideshow": {
     "slide_type": "slide"
    }
   },
   "source": [
    "La dot notation consente di usare più variabili di tipo record in modo semplice"
   ]
  },
  {
   "cell_type": "code",
   "execution_count": 9,
   "id": "731830a3",
   "metadata": {
    "cell_style": "center"
   },
   "outputs": [
    {
     "data": {
      "text/plain": [
       "val p : punto_2d = {x = 3.; y = 3.}\n"
      ]
     },
     "execution_count": 9,
     "metadata": {},
     "output_type": "execute_result"
    },
    {
     "data": {
      "text/plain": [
       "val q : punto_2d = {x = 6.; y = 7.}\n"
      ]
     },
     "execution_count": 9,
     "metadata": {},
     "output_type": "execute_result"
    },
    {
     "data": {
      "text/plain": [
       "- : float = 3.\n"
      ]
     },
     "execution_count": 9,
     "metadata": {},
     "output_type": "execute_result"
    }
   ],
   "source": [
    "let p = {x=3.; y=3.} ;;\n",
    "let q = {x=6.; y=7.} ;;\n",
    "p.x ;;"
   ]
  },
  {
   "cell_type": "markdown",
   "id": "2c0f1770",
   "metadata": {
    "cell_style": "center"
   },
   "source": [
    "Esempio: Distanza tra due punti nel piano ($d = \\sqrt{(x_2-x_1)^2+(y_2-y_1)^2}$ )"
   ]
  },
  {
   "cell_type": "code",
   "execution_count": 10,
   "id": "f40913f9",
   "metadata": {
    "cell_style": "center",
    "slideshow": {
     "slide_type": "fragment"
    }
   },
   "outputs": [
    {
     "data": {
      "text/plain": [
       "val distanza : punto_2d -> punto_2d -> float = <fun>\n"
      ]
     },
     "execution_count": 10,
     "metadata": {},
     "output_type": "execute_result"
    }
   ],
   "source": [
    "let distanza p1 p2 =\n",
    "    sqrt ( (p2.x -. p1.x)**2. +. (p2.y -. p1.y)**2. ) ;;"
   ]
  },
  {
   "cell_type": "code",
   "execution_count": 11,
   "id": "21f07df4",
   "metadata": {
    "cell_style": "center",
    "slideshow": {
     "slide_type": "-"
    }
   },
   "outputs": [
    {
     "data": {
      "text/plain": [
       "- : float = 5.\n"
      ]
     },
     "execution_count": 11,
     "metadata": {},
     "output_type": "execute_result"
    }
   ],
   "source": [
    "distanza p q ;;"
   ]
  },
  {
   "cell_type": "markdown",
   "id": "b432083c",
   "metadata": {
    "slideshow": {
     "slide_type": "notes"
    }
   },
   "source": [
    "Nella funzione `distanza` si è usata la funzione built-in `sqrt` che calcola la radice quadrata (già vista) e anche l'operatore `**` che calcola l'elevamento a potenza: dati `a` e `b` di tipo `float`, l'operazione `a**b` calcola `a` elevato alla `b`."
   ]
  },
  {
   "cell_type": "markdown",
   "id": "c67f56fe",
   "metadata": {
    "slideshow": {
     "slide_type": "slide"
    }
   },
   "source": [
    "Quando si usano record con molti campi, le operazioni possono diventare verbose"
   ]
  },
  {
   "cell_type": "code",
   "execution_count": 12,
   "id": "d5b3e9ce",
   "metadata": {},
   "outputs": [
    {
     "data": {
      "text/plain": [
       "type persona = {\n",
       "  nome : string;\n",
       "  cognome : string;\n",
       "  eta : int;\n",
       "  indirizzo : string;\n",
       "  citta : string;\n",
       "}\n"
      ]
     },
     "execution_count": 12,
     "metadata": {},
     "output_type": "execute_result"
    }
   ],
   "source": [
    "type persona = {nome: string; cognome: string; eta: int; indirizzo: string; citta: string} ;;"
   ]
  },
  {
   "cell_type": "code",
   "execution_count": 13,
   "id": "91047b8d",
   "metadata": {},
   "outputs": [
    {
     "data": {
      "text/plain": [
       "val mario : persona =\n",
       "  {nome = \"Mario\"; cognome = \"Rossi\"; eta = 45; indirizzo = \"Via Roma 10\";\n",
       "   citta = \"Pisa\"}\n"
      ]
     },
     "execution_count": 13,
     "metadata": {},
     "output_type": "execute_result"
    }
   ],
   "source": [
    "let mario = {nome=\"Mario\"; cognome=\"Rossi\"; eta=45; indirizzo=\"Via Roma 10\"; citta=\"Pisa\"} ;;"
   ]
  },
  {
   "cell_type": "markdown",
   "id": "bbe4e2cd",
   "metadata": {
    "slideshow": {
     "slide_type": "fragment"
    }
   },
   "source": [
    "Una piccola semplificazione è che possiamo definire una variabile in funzione di un'altra usando il costrutto di *functional update* `with`"
   ]
  },
  {
   "cell_type": "code",
   "execution_count": 14,
   "id": "8608bb9e",
   "metadata": {},
   "outputs": [
    {
     "data": {
      "text/plain": [
       "val bianca : persona =\n",
       "  {nome = \"Bianca\"; cognome = \"Rossi\"; eta = 13; indirizzo = \"Via Roma 10\";\n",
       "   citta = \"Pisa\"}\n"
      ]
     },
     "execution_count": 14,
     "metadata": {},
     "output_type": "execute_result"
    }
   ],
   "source": [
    "let bianca = { mario with nome = \"Bianca\"; eta=13 } ;;"
   ]
  },
  {
   "cell_type": "markdown",
   "id": "09103910",
   "metadata": {
    "slideshow": {
     "slide_type": "notes"
    }
   },
   "source": [
    "**ATTENZIONE:** Stiamo sempre lavorando con strutture dati *immutabili*. Quindi, anche utilizzando la functional update quello che si otterrà è un nuovo record distinto dal precedente (che rimane come era prima)."
   ]
  },
  {
   "cell_type": "markdown",
   "id": "b0130460",
   "metadata": {
    "slideshow": {
     "slide_type": "slide"
    }
   },
   "source": [
    "## Nota: record VS oggetti\n",
    "\n",
    "I record assomigliano ai dizionari di JavaScript, e si potrebbe pensare che \"assegnando\" funzioni ai loro elementi quello che si ottiene siano oggetti (come accadrebbe in JavaScript)."
   ]
  },
  {
   "cell_type": "code",
   "execution_count": 15,
   "id": "5dd4a38b",
   "metadata": {
    "slideshow": {
     "slide_type": "-"
    }
   },
   "outputs": [
    {
     "data": {
      "text/plain": [
       "type finto_oggetto = { n : int; update : int -> int; }\n"
      ]
     },
     "execution_count": 15,
     "metadata": {},
     "output_type": "execute_result"
    }
   ],
   "source": [
    "type finto_oggetto = { n: int; update: int -> int } ;;"
   ]
  },
  {
   "cell_type": "markdown",
   "id": "f39d9797",
   "metadata": {
    "slideshow": {
     "slide_type": "fragment"
    }
   },
   "source": [
    "La differenza con gli oggetti è che *i record sono immutabili*\n",
    "\n",
    "* le variabili non rappresentano uno \"stato interno\"... (base dell'object-orientation)\n",
    "\n",
    "Inoltre i campi funzione (metodi) *non possono accedere* agli altri campi (variabili d'istanza)"
   ]
  },
  {
   "cell_type": "markdown",
   "id": "f96ee2c9",
   "metadata": {
    "slideshow": {
     "slide_type": "slide"
    }
   },
   "source": [
    "Ad esempio:"
   ]
  },
  {
   "cell_type": "code",
   "execution_count": 16,
   "id": "68c2be50",
   "metadata": {},
   "outputs": [
    {
     "data": {
      "text/plain": [
       "val obj : finto_oggetto = {n = 10; update = <fun>}\n"
      ]
     },
     "execution_count": 16,
     "metadata": {},
     "output_type": "execute_result"
    },
    {
     "data": {
      "text/plain": [
       "- : bool = false\n"
      ]
     },
     "execution_count": 16,
     "metadata": {},
     "output_type": "execute_result"
    }
   ],
   "source": [
    "let obj = { n = 10; update = fun x -> x } ;;\n",
    "obj.n = 11 ;;  (* non posso assegnare... *)"
   ]
  },
  {
   "cell_type": "markdown",
   "id": "50c08f83",
   "metadata": {
    "slideshow": {
     "slide_type": "notes"
    }
   },
   "source": [
    "In questo esempio si è cercato di usare `=` per assegnare un nuovo valore al campo `n` del (finto) oggetto, come si farebbe in altri linguaggi. Qui chiaramente l'interprete ha risposto `false` in quanto l'operazione `=` è un confronto e con `obj.n = 11` non si è fatto altro che confrontare il valore di `n` con `11`.\n",
    "\n",
    "Vedremo più avanti che nella parte imperativa di OCaml esistono alcuni operatori di assegnamento, tra cui `<-`. Se proviamo ad utilizzarlo in questo caso otteniamo come risposta perentoria che il campo del record è immutabile."
   ]
  },
  {
   "cell_type": "code",
   "execution_count": 17,
   "id": "4da78827",
   "metadata": {
    "slideshow": {
     "slide_type": "notes"
    }
   },
   "outputs": [
    {
     "ename": "error",
     "evalue": "compile_error",
     "output_type": "error",
     "traceback": [
      "File \"[17]\", line 1, characters 0-11:\n1 | obj.n <- 11 ;;\n    ^^^^^^^^^^^\nError: The record field n is not mutable\n"
     ]
    }
   ],
   "source": [
    "obj.n <- 11 ;;"
   ]
  },
  {
   "cell_type": "markdown",
   "id": "042ba9f8",
   "metadata": {
    "slideshow": {
     "slide_type": "notes"
    }
   },
   "source": [
    "Nell'esempio successivo, invece, vediamo che i campi funzione non possono accedere agli altri campi del record, come invece potrebbe fare un metodo di un (vero) oggetto."
   ]
  },
  {
   "cell_type": "code",
   "execution_count": 18,
   "id": "1c127c2e",
   "metadata": {},
   "outputs": [
    {
     "ename": "error",
     "evalue": "compile_error",
     "output_type": "error",
     "traceback": [
      "File \"[18]\", line 1, characters 38-39:\n1 | let obj = { n = 10; update = fun x -> n + x } ;;\n                                          ^\nError: Unbound value n\n"
     ]
    }
   ],
   "source": [
    "let obj = { n = 10; update = fun x -> n + x } ;;"
   ]
  },
  {
   "cell_type": "markdown",
   "id": "fcc6416c",
   "metadata": {
    "slideshow": {
     "slide_type": "slide"
    }
   },
   "source": [
    "## Tipi unione (o somma): variant\n",
    "\n",
    "L'unione di due insiemi è... l'unione di due insiemi!\n",
    "\n",
    "* $C = A \\cup B$\n",
    "* $x \\in C$ se e solo se $x \\in A$ oppure $x \\in B$\n",
    "\n",
    "L'unione di due tipi `t1` e `t2` è un nuovo tipo `t` che idealmente \"include\" tutti i valori di tipo `t1` e `t2`"
   ]
  },
  {
   "cell_type": "markdown",
   "id": "5767027e",
   "metadata": {
    "slideshow": {
     "slide_type": "fragment"
    }
   },
   "source": [
    "Mentre in alcuni linguaggi (ad es. TypeScript) si possono unire direttamente due tipi, scrivendo ad esempio:\n",
    "\n",
    "```\n",
    "TYPESCRIPT: type t = string | int\n",
    "```\n",
    "\n",
    "l'operazione di unione prevista da OCaml prevede di *etichettare* i valori dei tipi da unire"
   ]
  },
  {
   "cell_type": "markdown",
   "id": "a05963ea",
   "metadata": {
    "slideshow": {
     "slide_type": "slide"
    }
   },
   "source": [
    "Ad esempio, per unire i tipi `string` e `int`, dobbiamo scegliere due etichette (ad esempio `Txt` e `Num`) e usarle in questo modo:"
   ]
  },
  {
   "cell_type": "code",
   "execution_count": 19,
   "id": "334d6059",
   "metadata": {},
   "outputs": [
    {
     "data": {
      "text/plain": [
       "type numero_testo = Txt of string | Num of int\n"
      ]
     },
     "execution_count": 19,
     "metadata": {},
     "output_type": "execute_result"
    }
   ],
   "source": [
    "type numero_testo =\n",
    "    | Txt of string\n",
    "    | Num of int ;;"
   ]
  },
  {
   "cell_type": "markdown",
   "id": "014a91e5",
   "metadata": {},
   "source": [
    "In sostanza, ogni riga della definizione corrisponde a un caso possibile di tipo di valore, ed è caratterizzato da una etichetta distinta (detta *costruttore*)\n",
    "\n",
    "**ATTENZIONE:** I costruttori devono necessariamente iniziare con la lettera maiuscola"
   ]
  },
  {
   "cell_type": "markdown",
   "id": "04a5a2ca",
   "metadata": {
    "slideshow": {
     "slide_type": "slide"
    }
   },
   "source": [
    "Anche i valori del nuovo tipo dovranno essere etichettati nello stesso modo:"
   ]
  },
  {
   "cell_type": "code",
   "execution_count": 20,
   "id": "53d7d360",
   "metadata": {},
   "outputs": [
    {
     "data": {
      "text/plain": [
       "val x : numero_testo = Txt \"34\"\n"
      ]
     },
     "execution_count": 20,
     "metadata": {},
     "output_type": "execute_result"
    },
    {
     "data": {
      "text/plain": [
       "val y : numero_testo = Num 26\n"
      ]
     },
     "execution_count": 20,
     "metadata": {},
     "output_type": "execute_result"
    }
   ],
   "source": [
    "let x = Txt \"34\" ;;\n",
    "let y = Num 26 ;;"
   ]
  },
  {
   "cell_type": "markdown",
   "id": "cb063dc3",
   "metadata": {
    "slideshow": {
     "slide_type": "fragment"
    }
   },
   "source": [
    "Dato un valore, è possibile ricostruire a quale dei tipi appartenga, tra quelli che sono stati uniti, usando i costruttori nel pattern matching"
   ]
  },
  {
   "cell_type": "code",
   "execution_count": 21,
   "id": "1d472e59",
   "metadata": {
    "slideshow": {
     "slide_type": "-"
    }
   },
   "outputs": [
    {
     "data": {
      "text/plain": [
       "- : string = \"testo\"\n"
      ]
     },
     "execution_count": 21,
     "metadata": {},
     "output_type": "execute_result"
    }
   ],
   "source": [
    "match x with\n",
    "| Txt s -> \"testo\"\n",
    "| Num n -> \"numero\" ;;"
   ]
  },
  {
   "cell_type": "markdown",
   "id": "c2ed470a",
   "metadata": {
    "slideshow": {
     "slide_type": "notes"
    }
   },
   "source": [
    "L'utilizzo dei costruttori `Txt` e `Num` nei pattern fa innanzitutto capire all'interprete di OCaml che la variabile `x` ha tipo `numero_testo`. A questo punto i vari pattern consentiranno di fare cose diverse in funzione del costruttore trovato in `x`.\n",
    "\n",
    "In questo esempio, visto che `x` era associato al valore `Txt \"34\"`, il risultato ottenuto è la stringa`\"testo\"`."
   ]
  },
  {
   "cell_type": "markdown",
   "id": "c639c982",
   "metadata": {
    "slideshow": {
     "slide_type": "slide"
    }
   },
   "source": [
    "Qualche esempio di funzione che usa il tipo `numero_testo`:"
   ]
  },
  {
   "cell_type": "code",
   "execution_count": 22,
   "id": "71e4d9e3",
   "metadata": {},
   "outputs": [
    {
     "data": {
      "text/plain": [
       "val int_of_nt : numero_testo -> int = <fun>\n"
      ]
     },
     "execution_count": 22,
     "metadata": {},
     "output_type": "execute_result"
    },
    {
     "data": {
      "text/plain": [
       "val string_of_nt : numero_testo -> string = <fun>\n"
      ]
     },
     "execution_count": 22,
     "metadata": {},
     "output_type": "execute_result"
    },
    {
     "data": {
      "text/plain": [
       "- : int = 4\n"
      ]
     },
     "execution_count": 22,
     "metadata": {},
     "output_type": "execute_result"
    }
   ],
   "source": [
    "let int_of_nt x =\n",
    "    match x with\n",
    "    | Txt s -> int_of_string s\n",
    "    | Num n -> n ;;\n",
    "    \n",
    "let string_of_nt x =\n",
    "    match x with\n",
    "    | Txt s -> s\n",
    "    | Num n -> string_of_int n ;;\n",
    "    \n",
    "int_of_nt (Txt \"4\") ;;"
   ]
  },
  {
   "cell_type": "markdown",
   "id": "6c32ec27",
   "metadata": {
    "slideshow": {
     "slide_type": "notes"
    }
   },
   "source": [
    "Queste funzioni consentono semplicemente di estrarre una rappresentazione intera o testuale da un qualunque valore di tipo `numero_testo`, indipendentemente dal fatto che al suo interno sia usato il costruttore `Txt` seguito da una string, o il costruttore `Num` seguito da un numero."
   ]
  },
  {
   "cell_type": "markdown",
   "id": "5d355864",
   "metadata": {
    "slideshow": {
     "slide_type": "slide"
    }
   },
   "source": [
    "Nella dichiarazione di un tipo unione, la parte `of <tipo>` è facoltativa\n",
    "\n",
    "* si possono definire casi che consistono solo del costruttore\n",
    "* sono come \"singoletti\" nell'insiemistica"
   ]
  },
  {
   "cell_type": "markdown",
   "id": "dc16f821",
   "metadata": {
    "slideshow": {
     "slide_type": "slide"
    }
   },
   "source": [
    "Usando i soli costruttori, si possono definire *tipi enumerazione*\n",
    "\n",
    "* In molti linguaggi chiamati *enum*"
   ]
  },
  {
   "cell_type": "code",
   "execution_count": 23,
   "id": "97f7fb04",
   "metadata": {},
   "outputs": [
    {
     "data": {
      "text/plain": [
       "type giorno = Lun | Mar | Mer | Gio | Ven | Sab | Dom\n"
      ]
     },
     "execution_count": 23,
     "metadata": {},
     "output_type": "execute_result"
    }
   ],
   "source": [
    "type giorno = Lun | Mar | Mer | Gio | Ven | Sab | Dom ;;"
   ]
  },
  {
   "cell_type": "code",
   "execution_count": 24,
   "id": "8e3893c8",
   "metadata": {},
   "outputs": [
    {
     "data": {
      "text/plain": [
       "- : giorno = Gio\n"
      ]
     },
     "execution_count": 24,
     "metadata": {},
     "output_type": "execute_result"
    }
   ],
   "source": [
    "Gio ;;"
   ]
  },
  {
   "cell_type": "code",
   "execution_count": 25,
   "id": "ef02ebda",
   "metadata": {
    "slideshow": {
     "slide_type": "fragment"
    }
   },
   "outputs": [
    {
     "data": {
      "text/plain": [
       "val is_weekend : giorno -> bool = <fun>\n"
      ]
     },
     "execution_count": 25,
     "metadata": {},
     "output_type": "execute_result"
    }
   ],
   "source": [
    "let is_weekend g =\n",
    "    match g with\n",
    "    | Sab | Dom -> true\n",
    "    | _ -> false ;;"
   ]
  },
  {
   "cell_type": "markdown",
   "id": "6b715084",
   "metadata": {
    "slideshow": {
     "slide_type": "slide"
    }
   },
   "source": [
    "Un esempio più complesso: \n",
    "* tipo `int` esteso con `NaN`, $+ \\infty$ e $- \\infty$"
   ]
  },
  {
   "cell_type": "code",
   "execution_count": 26,
   "id": "a9c83776",
   "metadata": {},
   "outputs": [
    {
     "data": {
      "text/plain": [
       "type int_ext = Num of int | NaN | Plus_inf | Minus_inf\n"
      ]
     },
     "execution_count": 26,
     "metadata": {},
     "output_type": "execute_result"
    }
   ],
   "source": [
    "type int_ext =\n",
    "    | Num of int\n",
    "    | NaN\n",
    "    | Plus_inf\n",
    "    | Minus_inf ;;"
   ]
  },
  {
   "cell_type": "markdown",
   "id": "5b88f051",
   "metadata": {
    "slideshow": {
     "slide_type": "notes"
    }
   },
   "source": [
    "In questo caso abbiamo combinato costruttori associati a un tipo (`Num of int`) con costruttori \"singoletti\" che descrivono casi particolari:\n",
    "\n",
    "* `NaN` (sta per *Not a Number*) è il \"numero\" che si ottiene da un'operazione tra interi che restituisce un risultato non definito... ad esempio, la divisione $\\frac{0}{0}$.\n",
    "* `Plus_inf` rappresenta $+ \\infty$\n",
    "* `Minus_inf` rappresenta $- \\infty$"
   ]
  },
  {
   "cell_type": "markdown",
   "id": "eb20aeb1",
   "metadata": {
    "slideshow": {
     "slide_type": "slide"
    }
   },
   "source": [
    "Definiamo un po' di operazioni artimetiche sul nuovo tipo"
   ]
  },
  {
   "cell_type": "code",
   "execution_count": 27,
   "id": "2fa66245",
   "metadata": {
    "slideshow": {
     "slide_type": "-"
    }
   },
   "outputs": [
    {
     "data": {
      "text/plain": [
       "val sum : int_ext -> int_ext -> int_ext = <fun>\n"
      ]
     },
     "execution_count": 27,
     "metadata": {},
     "output_type": "execute_result"
    }
   ],
   "source": [
    "let sum x y =\n",
    "    match x,y with\n",
    "    | NaN,_ | _,NaN -> NaN\n",
    "    | Plus_inf,Minus_inf | Minus_inf,Plus_inf -> NaN\n",
    "    | Plus_inf,_ | _,Plus_inf -> Plus_inf\n",
    "    | Minus_inf,_ | _,Minus_inf -> Minus_inf\n",
    "    | Num n1,Num n2 -> Num (n1+n2) ;;"
   ]
  },
  {
   "cell_type": "markdown",
   "id": "27d1c4af",
   "metadata": {
    "slideshow": {
     "slide_type": "notes"
    }
   },
   "source": [
    "La somma di due `int_ext` deve tenere conto che uno o entrabi gli operandi potrebbero essere `NaN`, `Plus_inf` o `Minus_inf`. Nella funzione `sum`, i casi del pattern matching sono ordinati in modo da gestire prima tutti questi casi particolari, e lasciare come ultima opzione il caso \"standard\" in cui i due operandi sono in realtà degli interi normali."
   ]
  },
  {
   "cell_type": "markdown",
   "id": "bba59418",
   "metadata": {
    "slideshow": {
     "slide_type": "-"
    }
   },
   "source": [
    "**ATTENZIONE:** nessun warning: il pattern matching è esausivo\n",
    "\n",
    "* non abbiamo scordato casi!"
   ]
  },
  {
   "cell_type": "markdown",
   "id": "3a4b1462",
   "metadata": {
    "slideshow": {
     "slide_type": "notes"
    }
   },
   "source": [
    "Il controllo di esaustività dei pattern operato dal compilatore è utile per prevenire molti bug. E' infatti impossibile scordarsi di considerare qualche caso (a meno che non ignoriamo il warning che otterremmo). Inoltro, il controllo fa sì che ci venga anche segnalato se abbiamo inserito dei casi ridondanti, ossia due pattern che possono matchare lo stesso valore. Anche questo è spesso segnale di un errore di programmazione."
   ]
  },
  {
   "cell_type": "markdown",
   "id": "82f18e9a",
   "metadata": {
    "slideshow": {
     "slide_type": "slide"
    }
   },
   "source": [
    "Ancora:"
   ]
  },
  {
   "cell_type": "code",
   "execution_count": 28,
   "id": "40bf2762",
   "metadata": {},
   "outputs": [
    {
     "data": {
      "text/plain": [
       "val div : int_ext -> int_ext -> int_ext = <fun>\n"
      ]
     },
     "execution_count": 28,
     "metadata": {},
     "output_type": "execute_result"
    }
   ],
   "source": [
    "let div x y =\n",
    "    match x,y with\n",
    "    | NaN,_ | _,NaN -> NaN\n",
    "    | Plus_inf,Plus_inf | Minus_inf,Minus_inf -> NaN\n",
    "    | Plus_inf,Minus_inf | Minus_inf,Plus_inf -> NaN\n",
    "    | Plus_inf,_ -> Plus_inf\n",
    "    | Minus_inf,_ -> Minus_inf\n",
    "    | _,Plus_inf | _,Minus_inf -> Num 0\n",
    "    | Num 0,Num 0 -> NaN\n",
    "    | Num n,Num 0 -> if n>0 then Plus_inf else Minus_inf \n",
    "    | Num n1,Num n2 -> Num (n1/n2) ;;"
   ]
  },
  {
   "cell_type": "markdown",
   "id": "9dba0f8b",
   "metadata": {
    "slideshow": {
     "slide_type": "notes"
    }
   },
   "source": [
    "L'implementazione dell'operazione di divisione è più complicata e critica dell'implementazione della somma. I casi da considerare sono di più, e soprattutto la divisione è un'operazione che può generare `NaN`,`Plus_inf` e `Minus_inf` a partire da operandi interi \"normali\""
   ]
  },
  {
   "cell_type": "code",
   "execution_count": 29,
   "id": "688f91d3",
   "metadata": {
    "cell_style": "split",
    "slideshow": {
     "slide_type": "fragment"
    }
   },
   "outputs": [
    {
     "data": {
      "text/plain": [
       "- : int_ext = Plus_inf\n"
      ]
     },
     "execution_count": 29,
     "metadata": {},
     "output_type": "execute_result"
    }
   ],
   "source": [
    "div (Num 3) (Num 0) ;;"
   ]
  },
  {
   "cell_type": "markdown",
   "id": "a6fcddd4",
   "metadata": {
    "cell_style": "split"
   },
   "source": [
    "$3/0$\n"
   ]
  },
  {
   "cell_type": "code",
   "execution_count": 30,
   "id": "9b52b28f",
   "metadata": {
    "cell_style": "split"
   },
   "outputs": [
    {
     "data": {
      "text/plain": [
       "- : int_ext = Num 5\n"
      ]
     },
     "execution_count": 30,
     "metadata": {},
     "output_type": "execute_result"
    }
   ],
   "source": [
    "sum (Num 5) (div (Num 3) (Plus_inf)) ;;"
   ]
  },
  {
   "cell_type": "markdown",
   "id": "b3ee187d",
   "metadata": {
    "cell_style": "split"
   },
   "source": [
    "$5 + (3 \\,/ \\!+\\!\\infty)$"
   ]
  },
  {
   "cell_type": "markdown",
   "id": "cf5525f9",
   "metadata": {
    "slideshow": {
     "slide_type": "slide"
    }
   },
   "source": [
    "### Tipi opzione e tipi polimorfi\n",
    "\n",
    "Un esempio di tipo variant molto utilizzato (e *built-in* in OCaml) è il tipo opzione\n",
    "\n",
    "* consente di specificare un valore che può essere assente\n",
    "* usa i costruttori `Some` e `None`"
   ]
  },
  {
   "cell_type": "code",
   "execution_count": 31,
   "id": "c8ab2516",
   "metadata": {},
   "outputs": [
    {
     "data": {
      "text/plain": [
       "- : int option = Some 4\n"
      ]
     },
     "execution_count": 31,
     "metadata": {},
     "output_type": "execute_result"
    }
   ],
   "source": [
    "Some 4;;"
   ]
  },
  {
   "cell_type": "code",
   "execution_count": 32,
   "id": "171bf522",
   "metadata": {},
   "outputs": [
    {
     "data": {
      "text/plain": [
       "- : 'a option = None\n"
      ]
     },
     "execution_count": 32,
     "metadata": {},
     "output_type": "execute_result"
    }
   ],
   "source": [
    "None ;;"
   ]
  },
  {
   "cell_type": "markdown",
   "id": "1eb2fecc",
   "metadata": {
    "slideshow": {
     "slide_type": "notes"
    }
   },
   "source": [
    "E' imporante osservare il tipo di un valore di tipo opzione. Nel primo caso abbiamo `int option` (che in qualche modo significa \"intero opzionale\"), mentre nel secondo caso abbiamo `'a option`, in quanto il costruttore `None` è lo stesso qualunque sia il tipo che stiamo estendendo.\n",
    "\n",
    "E' lo stesso principio di funzionamento già visto per le liste... la lista `[4]` ha tipo `int list`, mentre la lista vuota `[]` ha tipo `'a list`."
   ]
  },
  {
   "cell_type": "markdown",
   "id": "ba892503",
   "metadata": {
    "slideshow": {
     "slide_type": "slide"
    }
   },
   "source": [
    "I tipi opzione consentono di definire funzioni che restituiscono `None` in casi particolari"
   ]
  },
  {
   "cell_type": "code",
   "execution_count": 33,
   "id": "fda8d55b",
   "metadata": {},
   "outputs": [
    {
     "data": {
      "text/plain": [
       "val massimo : 'a list -> 'a option = <fun>\n"
      ]
     },
     "execution_count": 33,
     "metadata": {},
     "output_type": "execute_result"
    }
   ],
   "source": [
    "let rec massimo lis =\n",
    "    match lis with\n",
    "    | [] -> None   \n",
    "    | x::lis' ->  match massimo lis' with\n",
    "                    | None -> Some x \n",
    "                    | Some max -> if x>max then Some x\n",
    "                                    else Some max ;;           "
   ]
  },
  {
   "cell_type": "markdown",
   "id": "cf08d62f",
   "metadata": {
    "slideshow": {
     "slide_type": "notes"
    }
   },
   "source": [
    "La funzione `massimo` è polimorfa, in quanto l'unica operazione che viene eseguita sugli elementi della lista che prende come parametro è l'operazione di confronto `>` (che si applica a valori di qualunque tipo).\n",
    "\n",
    "Questa funzione restituisce `None` in caso di lista vuota, in quanto il massimo di una lista priva di elementi non è definito."
   ]
  },
  {
   "cell_type": "code",
   "execution_count": 34,
   "id": "a959294f",
   "metadata": {
    "slideshow": {
     "slide_type": "fragment"
    }
   },
   "outputs": [
    {
     "data": {
      "text/plain": [
       "- : int option = Some 4\n"
      ]
     },
     "execution_count": 34,
     "metadata": {},
     "output_type": "execute_result"
    },
    {
     "data": {
      "text/plain": [
       "- : string option = Some \"cane\"\n"
      ]
     },
     "execution_count": 34,
     "metadata": {},
     "output_type": "execute_result"
    },
    {
     "data": {
      "text/plain": [
       "- : 'a option = None\n"
      ]
     },
     "execution_count": 34,
     "metadata": {},
     "output_type": "execute_result"
    }
   ],
   "source": [
    "massimo [3;4;2] ;;\n",
    "massimo [\"albero\";\"cane\";\"bambino\"] ;;\n",
    "massimo [] ;;"
   ]
  },
  {
   "cell_type": "markdown",
   "id": "f8ce6ea6",
   "metadata": {
    "slideshow": {
     "slide_type": "slide"
    }
   },
   "source": [
    "I tipi opzione sono (pre-)definiti in questo modo:"
   ]
  },
  {
   "cell_type": "code",
   "execution_count": 35,
   "id": "89abd5ae",
   "metadata": {
    "slideshow": {
     "slide_type": "-"
    }
   },
   "outputs": [
    {
     "data": {
      "text/plain": [
       "type 'a option = Some of 'a | None\n"
      ]
     },
     "execution_count": 35,
     "metadata": {},
     "output_type": "execute_result"
    }
   ],
   "source": [
    "type 'a option =\n",
    "    | Some of 'a\n",
    "    | None ;;"
   ]
  },
  {
   "cell_type": "markdown",
   "id": "d5b37f88",
   "metadata": {},
   "source": [
    "questo esempio mostra come sia possibile definire *tipi polimorfi*\n",
    "\n",
    "* usando le variabili di tipo `'a`, `'b`, ..."
   ]
  },
  {
   "cell_type": "markdown",
   "id": "da93d620",
   "metadata": {
    "slideshow": {
     "slide_type": "notes"
    }
   },
   "source": [
    "Le variabili di tipo sono utilizzate come veri e propri parametri nella definizione del tipo (*polimorfismo parametrico*)."
   ]
  },
  {
   "cell_type": "markdown",
   "id": "63245f58",
   "metadata": {
    "slideshow": {
     "slide_type": "notes"
    }
   },
   "source": [
    "## Tipi record e variant insieme\n",
    "\n",
    "Ovviamente, si possono creare tipi strutturati combinando a piacere record, variant, tuple, ecc... mostriamo giusto un esempio, per completezza, di punto multidimensionale che può rappresentare un punto nel piano (2 dimensioni) o nello spazio (3 dimensioni) usando diversi costruttori. Le coordinate del punto, in ognuno dei due casi, sono raccolte in un record:"
   ]
  },
  {
   "cell_type": "code",
   "execution_count": 36,
   "id": "de354e68",
   "metadata": {
    "slideshow": {
     "slide_type": "notes"
    }
   },
   "outputs": [
    {
     "data": {
      "text/plain": [
       "type punto_multidimensionale =\n",
       "    DueDim of { x : float; y : float; }\n",
       "  | TreDim of { x : float; y : float; z : float; }\n"
      ]
     },
     "execution_count": 36,
     "metadata": {},
     "output_type": "execute_result"
    }
   ],
   "source": [
    "type punto_multidimensionale = \n",
    "    | DueDim of {x: float; y: float; }\n",
    "    | TreDim of {x: float; y: float; z: float; }"
   ]
  },
  {
   "cell_type": "code",
   "execution_count": 37,
   "id": "0e7be9a6",
   "metadata": {
    "slideshow": {
     "slide_type": "notes"
    }
   },
   "outputs": [
    {
     "data": {
      "text/plain": [
       "val p1 : punto_multidimensionale = DueDim {x = 10.; y = 10.}\n"
      ]
     },
     "execution_count": 37,
     "metadata": {},
     "output_type": "execute_result"
    },
    {
     "data": {
      "text/plain": [
       "val p2 : punto_multidimensionale = TreDim {x = 4.; y = 6.; z = 8.}\n"
      ]
     },
     "execution_count": 37,
     "metadata": {},
     "output_type": "execute_result"
    }
   ],
   "source": [
    "let p1 = DueDim {x=10.; y=10.} ;;\n",
    "let p2 = TreDim {x=4.; y=6.; z=8.} ;;"
   ]
  },
  {
   "cell_type": "markdown",
   "id": "b3724619",
   "metadata": {
    "slideshow": {
     "slide_type": "slide"
    }
   },
   "source": [
    "## Tipi ricorsivi\n",
    "Un'importante generalizzazione dei tipi unione sono i *tipi ricorsivi*\n",
    "\n",
    "* sono tipi variant definiti in termini di se stessi\n",
    "\n",
    "Vediamoli usati per definire il tipo di una lista di interi:"
   ]
  },
  {
   "cell_type": "code",
   "execution_count": 38,
   "id": "579179ee",
   "metadata": {},
   "outputs": [
    {
     "data": {
      "text/plain": [
       "type lista_di_int = Nil | Elem of int * lista_di_int\n"
      ]
     },
     "execution_count": 38,
     "metadata": {},
     "output_type": "execute_result"
    },
    {
     "data": {
      "text/plain": [
       "val lst : lista_di_int = Elem (3, Elem (4, Elem (6, Nil)))\n"
      ]
     },
     "execution_count": 38,
     "metadata": {},
     "output_type": "execute_result"
    }
   ],
   "source": [
    "type lista_di_int =\n",
    "    | Nil\n",
    "    | Elem of int * lista_di_int ;;\n",
    "    \n",
    "let lst = Elem (3 ,Elem (4, Elem (6,Nil))) ;;"
   ]
  },
  {
   "cell_type": "markdown",
   "id": "f779a089",
   "metadata": {
    "slideshow": {
     "slide_type": "notes"
    }
   },
   "source": [
    "Una lista di interi è fatta di elementi di tipo `int` concatenati l'uno all'altro. Ogni elemento, quindi, deve prevedere anche un \"riferimento\" all'elemento successivo. L'ultimo elemento della lista avrà riferimento nullo (o meglio, a un elemento nullo), in quanto non esiste un successivo.\n",
    "\n",
    "Il tipo `lista_di_int` deve quindi essere il tipo di una qualunque lista di interi (indipendentemente dalla sua lunghezza). Per questo è definito ricorsivamente...\n",
    "\n",
    "Abbiamo due casi:\n",
    "\n",
    "* la lista è vuota: possiamo rappresentarla con un singolo elemento nullo che rappresenteremo con il costruttore `Nil`\n",
    "* la lista non è vuota: allora esiste un primo elemento che rappresenteremo con il costruttore `Elem`. Tale elemento prevederà un intero e un riferimento all'elemento successivo. L'elemento successivo, però, altri non è che il primo elemento di un'altra lista: la lista di tutti gli elementi che seguono l'elemento corrente. Qundi possiamo vedere il riferimento al prossimo elemento come un riferimento ad un'altra lista dello stesso tipo di quella che stiamo descrivendo. Per questo motivo al costruttore `Elem` è associato il tipo `int * lista_di_int`.\n",
    "\n",
    "In un valore di tipo `lista_di_interi` in realtà non abbiamo dei veri e propri riferimenti tra gli elementi. Dal momento che la ricorsione è usata all'interno di una coppia `int * lista_di_int`, la concatenazione degli elementi sarà realizzata tramite *annidamento* di coppie, come negli esempi mostrati sopra."
   ]
  },
  {
   "cell_type": "markdown",
   "id": "2d7a4662",
   "metadata": {
    "slideshow": {
     "slide_type": "slide"
    }
   },
   "source": [
    "Ora possiamo definire una funzione che corrisponde all'operatore `::` delle liste di OCaml"
   ]
  },
  {
   "cell_type": "code",
   "execution_count": 39,
   "id": "49505aa5",
   "metadata": {
    "slideshow": {
     "slide_type": "-"
    }
   },
   "outputs": [
    {
     "data": {
      "text/plain": [
       "val cons : int -> lista_di_int -> lista_di_int = <fun>\n"
      ]
     },
     "execution_count": 39,
     "metadata": {},
     "output_type": "execute_result"
    },
    {
     "data": {
      "text/plain": [
       "- : lista_di_int = Elem (5, Elem (3, Elem (4, Elem (6, Nil))))\n"
      ]
     },
     "execution_count": 39,
     "metadata": {},
     "output_type": "execute_result"
    }
   ],
   "source": [
    "let cons x lis =\n",
    "    Elem (x,lis) ;;\n",
    "\n",
    "cons 5 lst;;"
   ]
  },
  {
   "cell_type": "markdown",
   "id": "6bd3e3de",
   "metadata": {
    "slideshow": {
     "slide_type": "fragment"
    }
   },
   "source": [
    "E possiamo definire altre operazioni su `lista_di_int`:"
   ]
  },
  {
   "cell_type": "code",
   "execution_count": 40,
   "id": "22f358d8",
   "metadata": {},
   "outputs": [
    {
     "data": {
      "text/plain": [
       "val somma_lista : lista_di_int -> int = <fun>\n"
      ]
     },
     "execution_count": 40,
     "metadata": {},
     "output_type": "execute_result"
    },
    {
     "data": {
      "text/plain": [
       "- : int = 13\n"
      ]
     },
     "execution_count": 40,
     "metadata": {},
     "output_type": "execute_result"
    }
   ],
   "source": [
    "let rec somma_lista lis = \n",
    "    match lis with\n",
    "    | Nil -> 0\n",
    "    | Elem (x,lis') -> x + somma_lista lis' ;;\n",
    "    \n",
    "somma_lista ( Elem (3 ,Elem (4, Elem (6,Nil))));;"
   ]
  },
  {
   "cell_type": "markdown",
   "id": "1eeb3387",
   "metadata": {
    "slideshow": {
     "slide_type": "slide"
    }
   },
   "source": [
    "Il tipo built-in `'a list`, in effetti, è un caso particolare di variant ricorsivo polimorfo"
   ]
  },
  {
   "cell_type": "code",
   "execution_count": 41,
   "id": "f186076e",
   "metadata": {},
   "outputs": [
    {
     "data": {
      "text/plain": [
       "type 'a my_list = Empty | Cons of 'a * 'a my_list\n"
      ]
     },
     "execution_count": 41,
     "metadata": {},
     "output_type": "execute_result"
    }
   ],
   "source": [
    "type 'a my_list =\n",
    "   | Empty                       (* corrisponde a [] *)\n",
    "   | Cons of 'a * 'a my_list ;;  (* corrisponde a _::_ *)"
   ]
  },
  {
   "cell_type": "markdown",
   "id": "32f64f89",
   "metadata": {
    "slideshow": {
     "slide_type": "notes"
    }
   },
   "source": [
    "Il tipo `'a my_list` qui presentato è una reimplementazione del tipo `'a list` di OCaml. La mostriamo solo per far vedere che `'a list` è effettivamente a tutti gli effetti un tipo variant ricorsivo polimorfo."
   ]
  },
  {
   "cell_type": "code",
   "execution_count": 42,
   "id": "98e84bcc",
   "metadata": {},
   "outputs": [
    {
     "data": {
      "text/plain": [
       "- : 'a my_list = Empty\n"
      ]
     },
     "execution_count": 42,
     "metadata": {},
     "output_type": "execute_result"
    },
    {
     "data": {
      "text/plain": [
       "- : int my_list = Cons (3, Cons (4, Cons (1, Empty)))\n"
      ]
     },
     "execution_count": 42,
     "metadata": {},
     "output_type": "execute_result"
    },
    {
     "data": {
      "text/plain": [
       "- : string my_list = Cons (\"a\", Cons (\"b\", Empty))\n"
      ]
     },
     "execution_count": 42,
     "metadata": {},
     "output_type": "execute_result"
    }
   ],
   "source": [
    "Empty ;;\n",
    "Cons (3, Cons (4, Cons (1,Empty))) ;; (* corrisponde a 3::4::1 *)\n",
    "Cons (\"a\", Cons (\"b\",Empty)) ;;       (* corrisponde a \"a\"::\"b\"::[] *)"
   ]
  },
  {
   "cell_type": "markdown",
   "id": "6f50751a",
   "metadata": {
    "slideshow": {
     "slide_type": "notes"
    }
   },
   "source": [
    "Per semplificare la lettura, OCaml usa una sintassi ad-hoc per i valori di tipo `'a list`, che conosciamo bene: `[x1;x2;...]`"
   ]
  },
  {
   "cell_type": "markdown",
   "id": "97f78763",
   "metadata": {
    "slideshow": {
     "slide_type": "slide"
    }
   },
   "source": [
    "### Tipi ricorsivi e... Alberi\n",
    "Grazie ai tipi ricorsivi è semplice definire alberi"
   ]
  },
  {
   "cell_type": "markdown",
   "id": "87785090",
   "metadata": {
    "slideshow": {
     "slide_type": "notes"
    }
   },
   "source": [
    "L'idea è esattamente quella già illustrata nell'esempio precedente delle liste di interi. Descrivamo ad esempio il tipo degli alberi binari con valori interi, `albero_bin`. Andiamo a descrivere le varie tipologie di elementi (in questo caso nodi intermedi o foglie) tramite costruttori diversi, e nel caso dei nodi intermedi (che sono collegati a sottoalberi) andiamo a riferirci ricorsivamente al tipo `albero_bin`."
   ]
  },
  {
   "cell_type": "code",
   "execution_count": 43,
   "id": "31491188",
   "metadata": {},
   "outputs": [
    {
     "data": {
      "text/plain": [
       "type albero_bin = Nodo of int * albero_bin * albero_bin | Foglia of int\n"
      ]
     },
     "execution_count": 43,
     "metadata": {},
     "output_type": "execute_result"
    }
   ],
   "source": [
    "type albero_bin = \n",
    "  | Nodo of int*albero_bin*albero_bin \n",
    "  | Foglia of int ;;"
   ]
  },
  {
   "cell_type": "markdown",
   "id": "e88fffda",
   "metadata": {
    "slideshow": {
     "slide_type": "notes"
    }
   },
   "source": [
    "Definiamo un valore di tipo `albero_bin` un passo alla volta... dalle foglie alla radice:"
   ]
  },
  {
   "cell_type": "code",
   "execution_count": 44,
   "id": "95078ff7",
   "metadata": {},
   "outputs": [
    {
     "data": {
      "text/plain": [
       "val n1 : albero_bin = Foglia 4\n"
      ]
     },
     "execution_count": 44,
     "metadata": {},
     "output_type": "execute_result"
    },
    {
     "data": {
      "text/plain": [
       "val n2 : albero_bin = Foglia 6\n"
      ]
     },
     "execution_count": 44,
     "metadata": {},
     "output_type": "execute_result"
    },
    {
     "data": {
      "text/plain": [
       "val n3 : albero_bin = Nodo (2, Foglia 4, Foglia 6)\n"
      ]
     },
     "execution_count": 44,
     "metadata": {},
     "output_type": "execute_result"
    },
    {
     "data": {
      "text/plain": [
       "val n4 : albero_bin = Foglia 8\n"
      ]
     },
     "execution_count": 44,
     "metadata": {},
     "output_type": "execute_result"
    },
    {
     "data": {
      "text/plain": [
       "val n5 : albero_bin = Nodo (5, Nodo (2, Foglia 4, Foglia 6), Foglia 8)\n"
      ]
     },
     "execution_count": 44,
     "metadata": {},
     "output_type": "execute_result"
    }
   ],
   "source": [
    "let n1 = Foglia 4 ;;\n",
    "let n2 = Foglia 6 ;;\n",
    "let n3 = Nodo (2,n1,n2) ;;\n",
    "let n4 = Foglia 8 ;;\n",
    "let n5 = Nodo (5,n3,n4) ;;"
   ]
  },
  {
   "cell_type": "markdown",
   "id": "ea6c2ca4",
   "metadata": {
    "slideshow": {
     "slide_type": "slide"
    }
   },
   "source": [
    "Vediamo alcune operazioni su alberi:"
   ]
  },
  {
   "cell_type": "code",
   "execution_count": 45,
   "id": "36d1b7a4",
   "metadata": {
    "slideshow": {
     "slide_type": "-"
    }
   },
   "outputs": [
    {
     "data": {
      "text/plain": [
       "val visita_ant : albero_bin -> int list = <fun>\n"
      ]
     },
     "execution_count": 45,
     "metadata": {},
     "output_type": "execute_result"
    },
    {
     "data": {
      "text/plain": [
       "- : int list = [5; 2; 4; 6; 8]\n"
      ]
     },
     "execution_count": 45,
     "metadata": {},
     "output_type": "execute_result"
    }
   ],
   "source": [
    "let rec visita_ant a =\n",
    "    match a with\n",
    "    | Foglia v -> [v]\n",
    "    | Nodo (v,sx,dx) -> v::((visita_ant sx)@(visita_ant dx)) ;;\n",
    "    \n",
    "visita_ant n5 ;;"
   ]
  },
  {
   "cell_type": "code",
   "execution_count": 46,
   "id": "51ca8049",
   "metadata": {
    "slideshow": {
     "slide_type": "fragment"
    }
   },
   "outputs": [
    {
     "data": {
      "text/plain": [
       "val somma_albero : albero_bin -> int = <fun>\n"
      ]
     },
     "execution_count": 46,
     "metadata": {},
     "output_type": "execute_result"
    },
    {
     "data": {
      "text/plain": [
       "- : int = 25\n"
      ]
     },
     "execution_count": 46,
     "metadata": {},
     "output_type": "execute_result"
    }
   ],
   "source": [
    "let rec somma_albero a =\n",
    "    match a with\n",
    "    | Foglia v -> v\n",
    "    | Nodo (v,sx,dx) -> v + somma_albero sx + somma_albero dx ;;\n",
    "    \n",
    "somma_albero n5 ;;"
   ]
  },
  {
   "cell_type": "markdown",
   "id": "4323da3e",
   "metadata": {
    "cell_style": "center",
    "slideshow": {
     "slide_type": "slide"
    }
   },
   "source": [
    "### Tipi ricorsivi e... Abstract Syntax Tree (AST)"
   ]
  },
  {
   "cell_type": "markdown",
   "id": "a03be0b5",
   "metadata": {
    "cell_style": "split",
    "slideshow": {
     "slide_type": "-"
    }
   },
   "source": [
    "Tipo di albero utile per questo corso: \n",
    "\n",
    "* gli alberi di sintassi astratta (*Abstract Syntax Tree - AST*)\n",
    "\n",
    "Risultato del *parsing* di un linguaggio formale:\n",
    "\n",
    "* rappresentano la struttura sintattica di un programma/espressione/termine appartenente a un certo linguaggio\n",
    "* linguaggio definito tramite una grammatica (es. formato BNF)"
   ]
  },
  {
   "cell_type": "markdown",
   "id": "1df31e94",
   "metadata": {
    "cell_style": "split"
   },
   "source": [
    "In JavaScript:\n",
    "\n",
    "```\n",
    "C::= ... | if (E) C [else C] | ...\n",
    "```\n",
    " \n",
    "```\n",
    "if (x>y) max=x else max=y\n",
    "```\n",
    "\n",
    "![Quadranti](files/images/if-ast.png)\n"
   ]
  },
  {
   "cell_type": "markdown",
   "id": "5a51836c",
   "metadata": {
    "slideshow": {
     "slide_type": "slide"
    }
   },
   "source": [
    "Esempio: le espressioni aritmetiche (su interi)\n",
    "\n",
    "```\n",
    "Exp ::= n | Exp op Exp | -Exp | (Exp)\n",
    "op ::= + | - | * | / | %\n",
    "```"
   ]
  },
  {
   "cell_type": "markdown",
   "id": "8a6509f9",
   "metadata": {
    "slideshow": {
     "slide_type": "notes"
    }
   },
   "source": [
    "La rappresentazione come albero di sintassi astratta si basa sulla definizione di un tipo variant con un costruttore per ogni produzione (caso) della grammatica in formato BNF. Possiamo non rappresentare le parentesi: le parentesi servono infatti solo per capire quale operatore si applichi per primo, e questo viene rappresentato dalla posizione dei corrispondenti nodi nell'AST."
   ]
  },
  {
   "cell_type": "code",
   "execution_count": 47,
   "id": "d5a5836c",
   "metadata": {},
   "outputs": [
    {
     "data": {
      "text/plain": [
       "type op = Add | Sub | Mul | Div | Mod\n"
      ]
     },
     "execution_count": 47,
     "metadata": {},
     "output_type": "execute_result"
    },
    {
     "data": {
      "text/plain": [
       "type exp = Val of int | Op of op * exp * exp | UMin of exp\n"
      ]
     },
     "execution_count": 47,
     "metadata": {},
     "output_type": "execute_result"
    }
   ],
   "source": [
    "type op = Add | Sub | Mul | Div | Mod ;;\n",
    "type exp =\n",
    "    | Val of int\n",
    "    | Op of op*exp*exp\n",
    "    | UMin of exp ;;"
   ]
  },
  {
   "cell_type": "markdown",
   "id": "49601750",
   "metadata": {
    "slideshow": {
     "slide_type": "notes"
    }
   },
   "source": [
    "Ogni costruttore è associato a un tipo che rappresenta le informazioni espresse dalla corrispondente produzione nella grammatica. Ad esempio, il costruttore `Val`, che rappresenta la produzione `Exp ::= n` è associato al tipo `int` (per poter memorizzare `n`), mentre il costruttore `Op`, che rappresenta la produzione `Exp ::= Exp op Exp`, è associato al tipo `op*exp*exp` in modo da poter memorizzare il simbolo dell'operatore e le due espressioni a cui tale operatore si applica (che sono quindi sottoalberi dell'AST)."
   ]
  },
  {
   "cell_type": "markdown",
   "id": "6e3887e7",
   "metadata": {
    "slideshow": {
     "slide_type": "slide"
    }
   },
   "source": [
    "Sintassi astratta:\n",
    "\n",
    "```\n",
    "3 * 7 - 5\n",
    "```"
   ]
  },
  {
   "cell_type": "code",
   "execution_count": 48,
   "id": "96bca6b1",
   "metadata": {},
   "outputs": [
    {
     "data": {
      "text/plain": [
       "val exp1 : exp = Op (Sub, Op (Mul, Val 3, Val 7), Val 5)\n"
      ]
     },
     "execution_count": 48,
     "metadata": {},
     "output_type": "execute_result"
    }
   ],
   "source": [
    "let exp1 = Op (Sub, (Op (Mul, Val 3, Val 7)), Val 5) ;;"
   ]
  },
  {
   "cell_type": "markdown",
   "id": "84c7f6d5",
   "metadata": {},
   "source": [
    "```\n",
    "-3 * (7-5)\n",
    "```"
   ]
  },
  {
   "cell_type": "code",
   "execution_count": 49,
   "id": "56bf8bf1",
   "metadata": {},
   "outputs": [
    {
     "data": {
      "text/plain": [
       "val exp2 : exp = Op (Mul, UMin (Val 3), Op (Sub, Val 7, Val 5))\n"
      ]
     },
     "execution_count": 49,
     "metadata": {},
     "output_type": "execute_result"
    }
   ],
   "source": [
    "let exp2 = Op (Mul, UMin (Val 3), (Op (Sub, Val 7, Val 5))) ;;"
   ]
  },
  {
   "cell_type": "markdown",
   "id": "00e934c8",
   "metadata": {
    "slideshow": {
     "slide_type": "notes"
    }
   },
   "source": [
    "Per fare un paio di esempi di uso degli AST rappresentati come tipi algebrici in OCaml, vediamo una funziona che trasforma l'AST di una espressione in una stringa, e una funzione che calcola il risultato (valuta) una espressione."
   ]
  },
  {
   "cell_type": "markdown",
   "id": "35cd98d8",
   "metadata": {
    "slideshow": {
     "slide_type": "slide"
    }
   },
   "source": [
    "Rappresentazione come stringa:"
   ]
  },
  {
   "cell_type": "code",
   "execution_count": 50,
   "id": "bda2c2c1",
   "metadata": {
    "slideshow": {
     "slide_type": "-"
    }
   },
   "outputs": [
    {
     "data": {
      "text/plain": [
       "val symbol : op -> string = <fun>\n"
      ]
     },
     "execution_count": 50,
     "metadata": {},
     "output_type": "execute_result"
    },
    {
     "data": {
      "text/plain": [
       "val to_string : exp -> string = <fun>\n"
      ]
     },
     "execution_count": 50,
     "metadata": {},
     "output_type": "execute_result"
    }
   ],
   "source": [
    "let symbol o =\n",
    "    match o with\n",
    "    | Add -> \"+\" | Sub -> \"-\" | Mul -> \"*\" | Div -> \"/\" | Mod -> \"%\" ;;\n",
    "let rec to_string e =\n",
    "    match e with\n",
    "    | Val n -> string_of_int n\n",
    "    | Op (o,e1,e2) -> \"(\"^ (to_string e1) ^ (symbol o) ^ (to_string e2) ^\")\"\n",
    "    | UMin e' -> \"(-\"^(to_string e')^\")\" ;;"
   ]
  },
  {
   "cell_type": "code",
   "execution_count": 51,
   "id": "c9a88619",
   "metadata": {},
   "outputs": [
    {
     "data": {
      "text/plain": [
       "- : string = \"((3*7)-5)\"\n"
      ]
     },
     "execution_count": 51,
     "metadata": {},
     "output_type": "execute_result"
    },
    {
     "data": {
      "text/plain": [
       "- : string = \"((-3)*(7-5))\"\n"
      ]
     },
     "execution_count": 51,
     "metadata": {},
     "output_type": "execute_result"
    }
   ],
   "source": [
    "to_string exp1 ;;\n",
    "to_string exp2 ;;"
   ]
  },
  {
   "cell_type": "markdown",
   "id": "5b23c48d",
   "metadata": {
    "slideshow": {
     "slide_type": "slide"
    }
   },
   "source": [
    "Valutazione delle espressioni:"
   ]
  },
  {
   "cell_type": "code",
   "execution_count": 52,
   "id": "9d48f98c",
   "metadata": {
    "slideshow": {
     "slide_type": "-"
    }
   },
   "outputs": [
    {
     "data": {
      "text/plain": [
       "val eval : exp -> int = <fun>\n"
      ]
     },
     "execution_count": 52,
     "metadata": {},
     "output_type": "execute_result"
    }
   ],
   "source": [
    "let rec eval e =\n",
    "    match e with\n",
    "    | Val n -> n\n",
    "    | Op (o,e1,e2) -> \n",
    "        (match o with\n",
    "        | Add -> (eval e1) + (eval e2)\n",
    "        | Sub -> (eval e1) - (eval e2)\n",
    "        | Mul -> (eval e1) * (eval e2)\n",
    "        | Div -> (eval e1) / (eval e2)\n",
    "        | Mod -> (eval e1) mod (eval e2)\n",
    "        )\n",
    "    | UMin e' -> - (eval e') ;;"
   ]
  },
  {
   "cell_type": "code",
   "execution_count": 53,
   "id": "8a5b080b",
   "metadata": {},
   "outputs": [
    {
     "data": {
      "text/plain": [
       "- : int = 16\n"
      ]
     },
     "execution_count": 53,
     "metadata": {},
     "output_type": "execute_result"
    },
    {
     "data": {
      "text/plain": [
       "- : int = -6\n"
      ]
     },
     "execution_count": 53,
     "metadata": {},
     "output_type": "execute_result"
    }
   ],
   "source": [
    "eval exp1 ;;\n",
    "eval exp2 ;;"
   ]
  }
 ],
 "metadata": {
  "celltoolbar": "Slideshow",
  "kernelspec": {
   "display_name": "OCaml default",
   "language": "OCaml",
   "name": "ocaml-jupyter"
  },
  "language_info": {
   "codemirror_mode": "text/x-ocaml",
   "file_extension": ".ml",
   "mimetype": "text/x-ocaml",
   "name": "OCaml",
   "nbconverter_exporter": null,
   "pygments_lexer": "OCaml",
   "version": "4.08.1"
  },
  "rise": {
   "enable_chalkboard": true,
   "scroll": true
  }
 },
 "nbformat": 4,
 "nbformat_minor": 5
}
