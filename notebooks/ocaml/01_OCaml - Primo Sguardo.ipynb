{
 "cells": [
  {
   "cell_type": "markdown",
   "id": "e9240ba0",
   "metadata": {
    "slideshow": {
     "slide_type": "slide"
    }
   },
   "source": [
    "# Un primo sguardo a OCaml"
   ]
  },
  {
   "cell_type": "markdown",
   "id": "62baea61",
   "metadata": {
    "slideshow": {
     "slide_type": "notes"
    }
   },
   "source": [
    "In questa dispensa saranno illustrate alcune caratteristiche di base del linguaggio OCaml, in particolare relative al paradigma di programmazione funzionale, che quello su cui OCaml si basa principalmente. Il linguaggio prevede comunque aspetti di programmazione imperativa e a oggetti che saranno brevemente illustrate.\n",
    "\n",
    "#### Riferimenti\n",
    "\n",
    "Questa dispensa si basa in parte su materiale ed esempi di codice tratti da:\n",
    "\n",
    "- <A href=\"https://dev.realworldocaml.org/\">Real World OCaml</A> (Versione 2), di Yaron Minsky, Anil Madhavapeddy e Jason Hickey\n",
    "\n",
    "La licenza per l'utilizzo del testo e degli esempi di codice è disponibile nel sito indicato.\n",
    "\n",
    "A differenza del libro \"Real World OCaml\", in questa dispensa utilizzeremo la libreria standard di OCaml, e non la più moderna libreria <a href=\"https://opensource.janestreet.com/base/\">Base</a> utilizzata nel libro.\n",
    "\n",
    "Inoltre, alcuni aspetti del linguaggio possono essere approfonditi consultando il manuale ufficiale di OCaml, disponibile a questo indirizzo:\n",
    "\n",
    "- <A href=\"https://ocaml.org/manual/index.html\">https://ocaml.org/manual/index.html</A>"
   ]
  },
  {
   "cell_type": "markdown",
   "id": "a9235800",
   "metadata": {
    "slideshow": {
     "slide_type": "slide"
    }
   },
   "source": [
    "## Introduzione a OCaml\n",
    "\n",
    "Per introdurre OCaml è bene partire dai sui antenati:\n",
    "\n",
    "**ML (Meta Language)** proposto da Robin Milner nel 1972 e sviluppato negli anni '80\n",
    "\n",
    "- linguaggio funzionale *fortemente tipato* con avanzate funzionalità di \"type inference\"\n",
    "- prevede funzionalità caratteristiche della programmazione funzionale: funzioni come valori, variabili immutabili, polimorfismo, pattern matching, ...\n",
    "- diventato linguaggio funzionale di riferimento"
   ]
  },
  {
   "cell_type": "markdown",
   "id": "08168c8e",
   "metadata": {
    "slideshow": {
     "slide_type": "slide"
    }
   },
   "source": [
    "**Caml (Categorical Abstract Machine Language)** sviluppato negli anni '80/'90 all'INRIA in Francia\n",
    "\n",
    "- versione di ML dotata di una implementazione particolarmente efficiente \n",
    "- introduce la possibilità di definire moduli e fornisce una serie di librerie di programmazione\n",
    "\n",
    "**OCaml (Objective Caml)** nato nel 1996 all'INRIA in Francia\n",
    "\n",
    "- estende Caml con funzionalità di programmazione orientata agli oggetti"
   ]
  },
  {
   "cell_type": "markdown",
   "id": "2bc45ce3",
   "metadata": {
    "slideshow": {
     "slide_type": "slide"
    }
   },
   "source": [
    "### Perché NON studiare OCaml\n",
    "\n",
    "OCaml *NON è* un linguaggio tra i più *popolari*\n",
    "\n",
    "- su Google Trends si vede che le ricerche di \"python\", \"javascript\", \"java\" sono migliaia di volte più frequenti che quelle di \"ocaml\""
   ]
  },
  {
   "cell_type": "markdown",
   "id": "a8da8730",
   "metadata": {
    "slideshow": {
     "slide_type": "fragment"
    }
   },
   "source": [
    "OCaml *NON è* un linguaggio tra i più *semplici* da imparare, usare e leggere\n",
    "\n",
    "- i linguaggi maggiormente incentrati sui costrutti della programmazione imperativa solitamente sono più intuitivi"
   ]
  },
  {
   "cell_type": "markdown",
   "id": "845a54a4",
   "metadata": {
    "slideshow": {
     "slide_type": "fragment"
    }
   },
   "source": [
    "OCaml (probabilmente) *NON sarà* il linguaggio del *futuro*\n",
    "\n",
    "- è in circolazione da qualche decennio\n",
    "- esistono dei settori in cui ha successo (dove conta la qualità del codice) ...\n",
    "- ... ma è difficile immaginare che il suo utilizzo esploderà in futuro"
   ]
  },
  {
   "cell_type": "markdown",
   "id": "e17ef001",
   "metadata": {
    "slideshow": {
     "slide_type": "slide"
    }
   },
   "source": [
    "### Perché, invece, È BENE studiare OCaml\n",
    "\n",
    "OCaml ci consentirà di vedere la *programmazione funzionale realizzata al meglio*\n",
    "\n",
    "- vedremo bene le caratteristiche (vantaggi e svantaggi) di questo paradigma"
   ]
  },
  {
   "cell_type": "markdown",
   "id": "fb0e2efa",
   "metadata": {
    "slideshow": {
     "slide_type": "fragment"
    }
   },
   "source": [
    "Molti *linguaggi \"moderni\"* stanno incorporando (a volte in malo modo) aspetti di programmazione funzionale presenti in OCaml da *decenni*\n",
    "\n",
    "- studiare OCaml consentirà di comprendere questi aspetti una volta per tutte"
   ]
  },
  {
   "cell_type": "markdown",
   "id": "483d887e",
   "metadata": {
    "slideshow": {
     "slide_type": "fragment"
    }
   },
   "source": [
    "OCaml consente di implementare in modo abbastanza naturale le semantiche statiche e dinamiche dei linguaggi di programmazione\n",
    "\n",
    "- lo useremo per *sviluppare interpreti* di linguaggi su paradigmi diversi\n",
    "- vedremo \"sotto al cofano\" di questi linguaggi"
   ]
  },
  {
   "cell_type": "markdown",
   "id": "c0c751fa",
   "metadata": {
    "slideshow": {
     "slide_type": "slide"
    }
   },
   "source": [
    "## Un esecutore di OCaml, per cominciare...\n",
    "\n",
    "Per vedere le varie caratteristiche del linguaggio, utilizziamo un interprete di OCaml (o **interactive toplevel**), quali:\n",
    "\n",
    "- `ocaml`: l'interprete standard eseguibile da linea di comando dopo l'installazione di OCaml\n",
    "- `utop`: un interprete con un'interfaccia più avanzata da installare separatamente\n",
    "- <A HREF=\"https://try.ocamlpro.com/\">https://try.ocamlpro.com/</A>: un interprete online\n",
    "- *questo stesso documento* (versione Jupyter Notebook): eseguendo gli esempi di codice presenti nel testo"
   ]
  },
  {
   "cell_type": "markdown",
   "id": "d20a201b",
   "metadata": {
    "slideshow": {
     "slide_type": "slide"
    }
   },
   "source": [
    "### Come si usa l'interactive toplevel di OCaml\n",
    "Il toplevel di OCaml esegue un REPL (Read-Eval-Print loop) \n",
    "\n",
    "Fornisce una linea di comando in cui è possibile scrivere espressioni (nella sintassi di OCaml)\n",
    "\n",
    "- l'interprete *compila* e *valuta* immediatamente ogni espressione, fornendone il risultato e una informazione sul suo *tipo* (o un messaggio di errore)\n",
    "- il risultato dell'espressione può essere legato a un nome, ottenendo una *dichiarazione* (di \"variabili\", funzioni, ...)\n",
    "- un'espressione può utilizzare risorse (\"variabili\", funzioni,...) che siano state dichiarate precedentemente"
   ]
  },
  {
   "cell_type": "markdown",
   "id": "a2bd273f",
   "metadata": {
    "slideshow": {
     "slide_type": "slide"
    }
   },
   "source": [
    "**Vediamolo all'opera**\n",
    "\n",
    "Una dichiarazione:"
   ]
  },
  {
   "cell_type": "code",
   "execution_count": 1,
   "id": "70c33a81",
   "metadata": {},
   "outputs": [
    {
     "data": {
      "text/plain": [
       "val x : int = 12\n"
      ]
     },
     "execution_count": 1,
     "metadata": {},
     "output_type": "execute_result"
    }
   ],
   "source": [
    "let x = 12;;"
   ]
  },
  {
   "cell_type": "markdown",
   "id": "528429b3",
   "metadata": {},
   "source": [
    "E un'espressione:"
   ]
  },
  {
   "cell_type": "code",
   "execution_count": 2,
   "id": "99b0f29c",
   "metadata": {},
   "outputs": [
    {
     "data": {
      "text/plain": [
       "- : int = 15\n"
      ]
     },
     "execution_count": 2,
     "metadata": {},
     "output_type": "execute_result"
    }
   ],
   "source": [
    "x + 5 ;;"
   ]
  },
  {
   "cell_type": "markdown",
   "id": "043c5996",
   "metadata": {
    "slideshow": {
     "slide_type": "notes"
    }
   },
   "source": [
    "In questi primissimi esempi ci sono già alcune cose che possono essere osservate. Innanzitutto, la sintassi della dichiarazione con il costrutto `let` è piuttosto comune, e presente in altri linguaggi quali, in particolare, JavaScript. Più precisamente, `let` crea un *binding*, ossia un legame, tra un *nome* e un *valore*. Caratteristica fondamentale della programmazione funzionale è che anche le funzioni sono valori. Quindi `let` potrà essere usato anche per dichiarare funzioni.\n",
    "\n",
    "La risposta fornita dall'interprete è simile nei due casi. Dopo il simbolo `:` abbiamo il tipo dell'espressione che OCaml ha *inferito* (ossia, OCaml ha dedotto il tipo di quello che sarà il risultato della valutazione dell'espressione stessa). Entrambe le espressioni, `10` e `x+5`, hanno tipo `int`. Vedremo in seguito che OCaml inferisce questa informazione di tipo esaminando la struttura dell'espressione, e non calcolandone il risultato. Inoltre, dopo il simbolo `=` abbiamo il risultato vero e proprio della valutazione dell'espressione.\n",
    "\n",
    "Quello che cambia, nei due esempi di output forniti dall'interprete, è la prima parte. Nell'esempio di dichiarazione, l'inteprete con `val x` informa di aver creato un nuovo binding per la variabile `x` al valore `10`. Nel secondo esempio, non essendo stato usato il costrutto `let`, l'interprete informa tramite il simbolo `-` di non aver creato alcun binding. Si è limitato ad inferire il tipo dell'espressione e calcolarne il risultato.\n",
    "\n",
    "Altra cosa da osservare è il fatto che in entrambi gli esempi mostrati si è usato il terminatore `;;` che consente al toplevel di OCaml di capire che si è terminato l'inserimento dell'espressione. Non è sempre necessario inserire questo terminatore. Ad esempio, rimuovendolo da entrambi gli esempi di codice inclusi in questo documento interattivo, il risultato che si ottiene non cambia.\n",
    "\n",
    "Questo non è vero per altri interpreti di OCaml (ad esempio il toplevel di default `ocaml`) che non valutano l'espressione fintanto che non è stato inserito il terminatore `;;`. Inoltre, anche in questo documento interattivo, quando si volesse inserire più di una espressione in una unica cella di codice, sarebbe necessario usare il terminatore tra un'espressione e l'altra."
   ]
  },
  {
   "cell_type": "markdown",
   "id": "bb906692",
   "metadata": {
    "slideshow": {
     "slide_type": "slide"
    }
   },
   "source": [
    "## Formato delle variabili\n",
    "I nomi (o identificatori) delle variabili dichiarate tramite il costrutto `let`:\n",
    "\n",
    "- possono contenere lettere, numeri e i caratteri `_` e `'`\n",
    "- devono iniziare con una lettera minuscola o con `_`"
   ]
  },
  {
   "cell_type": "markdown",
   "id": "d0ffa5d9",
   "metadata": {},
   "source": [
    "Esempi corretti:"
   ]
  },
  {
   "cell_type": "code",
   "execution_count": 3,
   "id": "610ed9ad",
   "metadata": {},
   "outputs": [
    {
     "data": {
      "text/plain": [
       "val x : int = 7\n"
      ]
     },
     "execution_count": 3,
     "metadata": {},
     "output_type": "execute_result"
    }
   ],
   "source": [
    "let x = 3 + 4 ;;"
   ]
  },
  {
   "cell_type": "code",
   "execution_count": 4,
   "id": "14030535",
   "metadata": {},
   "outputs": [
    {
     "data": {
      "text/plain": [
       "val x_plus_3 : int = 10\n"
      ]
     },
     "execution_count": 4,
     "metadata": {},
     "output_type": "execute_result"
    }
   ],
   "source": [
    "let x_plus_3 = x + 3 ;;"
   ]
  },
  {
   "cell_type": "code",
   "execution_count": 5,
   "id": "40b5d6c9",
   "metadata": {},
   "outputs": [
    {
     "data": {
      "text/plain": [
       "val x' : int = 8\n"
      ]
     },
     "execution_count": 5,
     "metadata": {},
     "output_type": "execute_result"
    }
   ],
   "source": [
    "let x' = x + 1 ;;"
   ]
  },
  {
   "cell_type": "markdown",
   "id": "1463dbce",
   "metadata": {
    "slideshow": {
     "slide_type": "slide"
    }
   },
   "source": [
    "Esempi errati:"
   ]
  },
  {
   "cell_type": "code",
   "execution_count": 6,
   "id": "c52ad6e4",
   "metadata": {},
   "outputs": [
    {
     "ename": "error",
     "evalue": "compile_error",
     "output_type": "error",
     "traceback": [
      "File \"[6]\", line 1, characters 4-9:\n1 | let Seven = 3 + 4 ;;\n        ^^^^^\nError: Unbound constructor Seven\n"
     ]
    }
   ],
   "source": [
    "let Seven = 3 + 4 ;;"
   ]
  },
  {
   "cell_type": "code",
   "execution_count": 7,
   "id": "4b8367a8",
   "metadata": {},
   "outputs": [
    {
     "ename": "error",
     "evalue": "compile_error",
     "output_type": "error",
     "traceback": [
      "File \"[7]\", line 1, characters 4-6:\n1 | let 7x = 7 ;;\n        ^^\nError: Unknown modifier 'x' for literal 7x\n"
     ]
    }
   ],
   "source": [
    "let 7x = 7 ;;"
   ]
  },
  {
   "cell_type": "code",
   "execution_count": 8,
   "id": "0ba52f90",
   "metadata": {},
   "outputs": [
    {
     "ename": "error",
     "evalue": "compile_error",
     "output_type": "error",
     "traceback": [
      "File \"[8]\", line 1, characters 6-10:\n1 | let x-plus-3 = x + 3 ;;\n          ^^^^\nError: Syntax error\n"
     ]
    }
   ],
   "source": [
    "let x-plus-3 = x + 3 ;;"
   ]
  },
  {
   "cell_type": "markdown",
   "id": "bfde44a0",
   "metadata": {
    "slideshow": {
     "slide_type": "slide"
    }
   },
   "source": [
    "## Tutto è un'espressione\n",
    "Coerentemente con il paradigma funzionale, che non prevede uno \"stato\" del programma modificabile, i costrutti fondamentali del linguaggio non sono *comandi*, ma *espressioni*\n",
    "\n",
    "Le espressioni possono contenere *dichiarazioni* (o meglio \"bindings\")"
   ]
  },
  {
   "cell_type": "markdown",
   "id": "65642b37",
   "metadata": {
    "slideshow": {
     "slide_type": "slide"
    }
   },
   "source": [
    "## Tipi di base (basic types)\n",
    "OCaml è un linguaggio *fortemente tipato*. I tipi di dato di base sono i seguenti:\n",
    "\n",
    "- `int`:     numeri interi\n",
    "- `float`:   numeri frazionari *floating point* a doppia precisione\n",
    "- `bool`:    valori di verità (booleani): `true` o `false`\n",
    "- `char`:    singoli caratteri (racchiusi tra apici: `'a'` )\n",
    "- `string`:  stringhe (racchiuse tra virgolette: `\"abcd\"` )\n",
    "- `unit`:    tipo usato in casi particolari (simile a `void` in altri linguaggi), prevede come unico valore `()`"
   ]
  },
  {
   "cell_type": "markdown",
   "id": "8e39309b",
   "metadata": {
    "slideshow": {
     "slide_type": "slide"
    }
   },
   "source": [
    "### Operazioni su `int` e `float`\n",
    "Le operazioni su numeri frazionari (`float`) si scrivono diversamente da quelle su interi (`int`)\n",
    "\n",
    "Si scrivono seguite da un punto: `+.` `-.` `*.` `/.`"
   ]
  },
  {
   "cell_type": "code",
   "execution_count": 9,
   "id": "3b510cb2",
   "metadata": {},
   "outputs": [
    {
     "data": {
      "text/plain": [
       "- : int = 8\n"
      ]
     },
     "execution_count": 9,
     "metadata": {},
     "output_type": "execute_result"
    }
   ],
   "source": [
    "3 + 5 ;; (*operazione su interi: tipo int*)"
   ]
  },
  {
   "cell_type": "code",
   "execution_count": 10,
   "id": "f0c9f1ee",
   "metadata": {},
   "outputs": [
    {
     "data": {
      "text/plain": [
       "- : float = 8.4\n"
      ]
     },
     "execution_count": 10,
     "metadata": {},
     "output_type": "execute_result"
    }
   ],
   "source": [
    "3.2 +. 5.2 ;; (*operazione su frazionari: tipo float *)"
   ]
  },
  {
   "cell_type": "markdown",
   "id": "9254f582",
   "metadata": {
    "slideshow": {
     "slide_type": "-"
    }
   },
   "source": [
    "Il tipo degli operandi deve essere *coerente* con quello dell'operazione, altrimenti il compilatore segnala un errore"
   ]
  },
  {
   "cell_type": "markdown",
   "id": "475bda69",
   "metadata": {
    "slideshow": {
     "slide_type": "notes"
    }
   },
   "source": [
    "I valori di tipo `float` che hanno la parte frazionaria (dopo la virgola) nulla sono rappresentati da OCaml con niente dopo il punto. Ad esempio, il numero `3.0` viene in realtà rappresentato come `3.`."
   ]
  },
  {
   "cell_type": "markdown",
   "id": "f02f12ff",
   "metadata": {
    "slideshow": {
     "slide_type": "slide"
    }
   },
   "source": [
    "### Conversione di tipo tra `int` e `float`\n",
    "\n",
    "OCaml non prevede conversioni di tipo implicite (ossia, automatiche)\n",
    "\n",
    "- ad esempio, il valore `3` non può essere mai usato al posto di `3.0`\n",
    "\n",
    "Le conversioni devono essere esplicitate usando `float_of_int` e `int_of_float`\n"
   ]
  },
  {
   "cell_type": "code",
   "execution_count": 11,
   "id": "9f1e57d4",
   "metadata": {},
   "outputs": [
    {
     "data": {
      "text/plain": [
       "- : float = 3.\n"
      ]
     },
     "execution_count": 11,
     "metadata": {},
     "output_type": "execute_result"
    },
    {
     "data": {
      "text/plain": [
       "- : int = 3\n"
      ]
     },
     "execution_count": 11,
     "metadata": {},
     "output_type": "execute_result"
    }
   ],
   "source": [
    "float_of_int 3 ;;\n",
    "int_of_float 3.0 ;;"
   ]
  },
  {
   "cell_type": "code",
   "execution_count": 12,
   "id": "c1e338b0",
   "metadata": {},
   "outputs": [
    {
     "data": {
      "text/plain": [
       "- : float = 5.4\n"
      ]
     },
     "execution_count": 12,
     "metadata": {},
     "output_type": "execute_result"
    }
   ],
   "source": [
    "(float_of_int 3) +. 2.4 ;;"
   ]
  },
  {
   "cell_type": "markdown",
   "id": "8999faa6",
   "metadata": {
    "slideshow": {
     "slide_type": "notes"
    }
   },
   "source": [
    "### Conversioni di tipo (type cast) nella maggior parte dei linguaggi fortemente tipati\n",
    "\n",
    "Nella maggior parte dei linguaggi di programmazione fortemente tipati (ad esempio, in C e in Java) il compilatore può effettuare delle conversioni di tipo implicite. In questi linguaggi, ad esempio, è possibile scrivere un'espressione quale `3 + 2.5` assumendo che il compilatore interpreterà automaticamente il valore `3` come se fosse `3.0`. Questa conversione avviene nel momento in cui il compilatore si accorge che l'altro operando dell'operazione di somma è un valore (o un'espressione) di tipo `float`.\n",
    "\n",
    "Più precisamente, le conversioni implicite consentono di *promuovere* un valore o un'espressione facendole assumere un tipo più *generale*. Ad esempio, il tipo del valore `3` può essere promosso implicitamente da `int` a `float`, mentre il tipo del valore `3.0` non può essere implicitamente declassato da `float` a `int`. Il tipo `int`, infatti, è un tipo meno generale di `float`, in quanto non è in grado di rappresentare la grande maggioranza dei valori tipabili come `float`. Ad esempio, il valore `2.5`, che è tipabile come `float` non ha una rappresentazione esatta tipabile come `int`.\n",
    "\n",
    "Sempre in linguaggi quali C e Java, è possibile forzare le conversioni da un tipo più generale a uno meno generale utilizzando un *type cast*. Questo avviene, di solito, premettendo al valore a cui applicare la forzatura, il nome del tipo di destinazione racchiuso tra parentesi. Ad esempio, l'espressione `(int) 3.2` in C o in Java forza il compilatore a considerare il valore `3.2` come se fosse di tipo `int`. In questo modo, tale valore potrà essere utilizzato ovunque sia richiesto esplicitamente un valore di tipo `int` (ad esempio, passato a una funzione che preveda un parametro di tale tipo).\n",
    "\n",
    "Il type cast in questi linguaggi ha due effetti concreti: in primo luogo applica una forzatura nella fase di *type checking* svolta dal compilatore, consentendo, ad esempio, di completare la compilazione; in secondo luogo, fa sì che a tempo di esecuzione un valore debba concretamente essere trasformato. Ad esempio, il valore `3.2` dell'esempio dovrà, a tempo di esecuzione, essere trasformato in un valore intero. Questo solitamente causa una *perdita di precisione*. Nel caso di `(int) 3.2` il risultato concreto che si otterrà (ad esempio in Java) è che il valore `3.2` sarà trasformato nel valore intero `3` tramite un troncamento della parte decimale del numero, che introduce quindi una approssimazione nel calcolo che si sta operando.\n",
    "\n",
    "### Conversioni di tipo in OCaml\n",
    "\n",
    "In OCaml non sono previste conversioni di tipo implicite. È possibile effettuare delle conversioni esplicite da `int` a `float` e viceversa utilizzando le funzioni `float_of_int` e `int_of_float` menzionate sopra. I motivi per cui in OCaml si è scelto di proibire le conversioni implicite sono essenzialmente due: il primo è che le conversioni implicite sono spesso la causa di errori di programmazione difficili da scovare; il secondo è che (come vedremo) OCaml fa un uso molto sofisticato delle informazioni sui tipi, per consentire il quale ha la necessità di determinare in modo accurato il tipo di ogni espressione contenuta nel programma. Le conversioni implicite possono introdurre delle ambiguità in tali elaborazioni e quindi non sono contemplate nel linguaggio.\n",
    "\n"
   ]
  },
  {
   "cell_type": "markdown",
   "id": "79500091",
   "metadata": {
    "slideshow": {
     "slide_type": "slide"
    }
   },
   "source": [
    "### Operazioni su `bool`\n",
    "Vediamo la sintassi delle espressioni booleane con qualche esempio:"
   ]
  },
  {
   "cell_type": "code",
   "execution_count": 13,
   "id": "a52a054a",
   "metadata": {},
   "outputs": [
    {
     "data": {
      "text/plain": [
       "val x : bool = true\n"
      ]
     },
     "execution_count": 13,
     "metadata": {},
     "output_type": "execute_result"
    }
   ],
   "source": [
    "let x = true ;;"
   ]
  },
  {
   "cell_type": "code",
   "execution_count": 14,
   "id": "7469d68b",
   "metadata": {},
   "outputs": [
    {
     "data": {
      "text/plain": [
       "- : bool = false\n"
      ]
     },
     "execution_count": 14,
     "metadata": {},
     "output_type": "execute_result"
    },
    {
     "data": {
      "text/plain": [
       "- : bool = true\n"
      ]
     },
     "execution_count": 14,
     "metadata": {},
     "output_type": "execute_result"
    },
    {
     "data": {
      "text/plain": [
       "- : bool = false\n"
      ]
     },
     "execution_count": 14,
     "metadata": {},
     "output_type": "execute_result"
    }
   ],
   "source": [
    "x && false ;;\n",
    "x || false ;;\n",
    "not x;;     (* not è l'operazione di negazione -- come ! in molti altri linguaggi *)"
   ]
  },
  {
   "cell_type": "code",
   "execution_count": 15,
   "id": "07f7ddd0",
   "metadata": {},
   "outputs": [
    {
     "data": {
      "text/plain": [
       "- : bool = false\n"
      ]
     },
     "execution_count": 15,
     "metadata": {},
     "output_type": "execute_result"
    },
    {
     "data": {
      "text/plain": [
       "- : bool = true\n"
      ]
     },
     "execution_count": 15,
     "metadata": {},
     "output_type": "execute_result"
    }
   ],
   "source": [
    "1 = 2 ;;   (* ATTENZIONE, il confronto si fa con =, non con == ! *)\n",
    "1 <> 2 ;;  (* mentre per vedere se due espressioni sono diverse si usa <>, non != *)"
   ]
  },
  {
   "cell_type": "markdown",
   "id": "015f51fd",
   "metadata": {
    "slideshow": {
     "slide_type": "notes"
    }
   },
   "source": [
    "La sintassi degli operatori logici è cambiata nel tempo ed è diversa in diversi \"dialetti\" del linguaggio ML. In alcuni linguaggi (e anche in alcune vecchie versioni di OCaml), al posto di `&&` e `||` capita di trovare `and` e `or`, oppure `&` e `|`. Se si riscontrano problemi con questi operatori, è bene controllare la documentazione ufficiale del linguaggio (e della versione) che si sta utilizzando.\n",
    "\n",
    "Inoltre, come in molti altri linguaggi di programmazione, le operazioni logiche `&&` e `||` sono *cortocircuitate*. Questo significa che se nella valutazione di una espressione `e1 && e2` la sotto espressione `e1` risulta essere `false`, dal momento che questo porterà l'intera espressione `e1 && e2` ad essere `false`, l'interprete evita di valutare (inutilmente) `e2`. Analogamente, nella valutazione di una espressione `e1 || e2` la sotto espressione `e1` risulta essere `true`, l'interprete evita di valutare (inutilmente) `e2` dando immediatamente `true` come risultato complessivo.\n",
    "\n",
    "Questo modo di valutare le operazioni logiche migliora l'efficienza dell'esecuzione del programma e, in alcuni casi, può essere sfruttata per semplificare la scrittura dei programmi.\n"
   ]
  },
  {
   "cell_type": "markdown",
   "id": "eeeaa474",
   "metadata": {
    "slideshow": {
     "slide_type": "slide"
    }
   },
   "source": [
    "### Operazioni su `char` e `string`\n",
    "Anche in questo caso, vediamo alcuni esempi:"
   ]
  },
  {
   "cell_type": "code",
   "execution_count": 16,
   "id": "f5848143",
   "metadata": {},
   "outputs": [
    {
     "data": {
      "text/plain": [
       "val c : char = 'a'\n"
      ]
     },
     "execution_count": 16,
     "metadata": {},
     "output_type": "execute_result"
    },
    {
     "data": {
      "text/plain": [
       "- : int = 97\n"
      ]
     },
     "execution_count": 16,
     "metadata": {},
     "output_type": "execute_result"
    }
   ],
   "source": [
    "let c = 'a' ;;\n",
    "int_of_char c ;; (* conversione esplicita, esiste anche char_of_int *) "
   ]
  },
  {
   "cell_type": "code",
   "execution_count": 17,
   "id": "58fae10f",
   "metadata": {},
   "outputs": [
    {
     "data": {
      "text/plain": [
       "val h : string = \"hello\"\n"
      ]
     },
     "execution_count": 17,
     "metadata": {},
     "output_type": "execute_result"
    },
    {
     "data": {
      "text/plain": [
       "val hw : string = \"helloworld\"\n"
      ]
     },
     "execution_count": 17,
     "metadata": {},
     "output_type": "execute_result"
    }
   ],
   "source": [
    "let h = \"hello\" ;;\n",
    "let hw = h ^ \"world\" ;; (* concatenazione con simbolo ^ *)"
   ]
  },
  {
   "cell_type": "code",
   "execution_count": 18,
   "id": "2b0c4a95",
   "metadata": {},
   "outputs": [
    {
     "data": {
      "text/plain": [
       "- : int = 10\n"
      ]
     },
     "execution_count": 18,
     "metadata": {},
     "output_type": "execute_result"
    }
   ],
   "source": [
    "int_of_string \"10\";; (* conversione esplicita, esistono anche per float, bool *)"
   ]
  },
  {
   "cell_type": "markdown",
   "id": "b2f25ac6",
   "metadata": {},
   "source": [
    "Ulteriori operazioni tramite l'OCaml API (https://ocaml.org/api/index.html)"
   ]
  },
  {
   "cell_type": "markdown",
   "id": "f17cc160",
   "metadata": {
    "slideshow": {
     "slide_type": "slide"
    }
   },
   "source": [
    "## I tipi tupla\n",
    "OCaml prevede diverse tipologie di *tipi strutturati*. Uno tra i più semplici sono i *tipi tupla*.\n",
    "\n",
    "Una tupla (o ennupla) è una sequenza di valori separati da virgole."
   ]
  },
  {
   "cell_type": "code",
   "execution_count": 19,
   "id": "f0f4c45e",
   "metadata": {},
   "outputs": [
    {
     "data": {
      "text/plain": [
       "val t : int * string * float = (10, \"hello\", 12.5)\n"
      ]
     },
     "execution_count": 19,
     "metadata": {},
     "output_type": "execute_result"
    }
   ],
   "source": [
    "let t = (10,\"hello\",12.5) ;; "
   ]
  },
  {
   "cell_type": "markdown",
   "id": "27af8a36",
   "metadata": {
    "slideshow": {
     "slide_type": "fragment"
    }
   },
   "source": [
    "Il tipo di una tupla è il *prodotto* dei tipi degli elementi che la compongono\n",
    "\n",
    "I concetti di tupla e prodotto provengono dalla *teoria degli insiemi*.\n",
    "\n",
    "Se immaginiamo i tipi come insiemi di valori:\n",
    "\n",
    "- il tipo tupla corrisponde al loro *prodotto cartesiano*\n",
    "- una singola tupla è un elemento di tale prodotto cartesiano"
   ]
  },
  {
   "cell_type": "markdown",
   "id": "5c8db4a1",
   "metadata": {
    "slideshow": {
     "slide_type": "notes"
    }
   },
   "source": [
    "Ad esempio, possiamo immaginare che i tipi `int` e `float` corrispondano rispettivamente (in maniera approssimata) agli insiemi dei numeri interi $\\mathbb{Z}$ e reali $\\mathbb{R}$. Il tipo `int*float` corrisponde all'insieme $\\mathbb{Z}\\times\\mathbb{R} = \\{(n,m) | n \\in \\mathbb{Z}, m \\in \\mathbb{R}\\}$, dove $\\times$ è il simbolo che descrive solitamente l'operazione di prodotto cartesiano tra insiemi. Quindi dire che il valore `(3,4.2)` è di tipo `int*float` corrisponde in realtà a dire $(3,4.2) \\in \\mathbb{Z}\\times\\mathbb{R}$."
   ]
  },
  {
   "cell_type": "markdown",
   "id": "c9a9530a",
   "metadata": {
    "slideshow": {
     "slide_type": "slide"
    }
   },
   "source": [
    "### Esempio: piano cartesiano\n",
    "Ad esempio, supponiamo di voler rappresentare i punti del piano cartesiano\n",
    "\n",
    "- sono coppie di numeri reali, ossia elementi di $\\mathbb{R} \\times \\mathbb{R}$\n",
    "\n",
    "Definiamo un punto in OCaml rappresentato come coppia di `float`"
   ]
  },
  {
   "cell_type": "code",
   "execution_count": 20,
   "id": "b27bcfdf",
   "metadata": {},
   "outputs": [
    {
     "data": {
      "text/plain": [
       "val p : float * float = (3., 5.)\n"
      ]
     },
     "execution_count": 20,
     "metadata": {},
     "output_type": "execute_result"
    }
   ],
   "source": [
    "let p = ( 3.0 , 5.0 ) ;;  (* le parentesi in realtà non sono necessarie *)"
   ]
  },
  {
   "cell_type": "markdown",
   "id": "caca7b27",
   "metadata": {},
   "source": [
    "Ha tipo `float * float`"
   ]
  },
  {
   "cell_type": "markdown",
   "id": "79b2aefd",
   "metadata": {
    "slideshow": {
     "slide_type": "slide"
    }
   },
   "source": [
    "Una cosa interessante è che possiamo *destrutturare* una tupla, usando `let` in modo particolare per risalire ai singoli elementi:"
   ]
  },
  {
   "cell_type": "code",
   "execution_count": 21,
   "id": "8fe4381b",
   "metadata": {},
   "outputs": [
    {
     "data": {
      "text/plain": [
       "val x : float = 3.\n",
       "val y : float = 5.\n"
      ]
     },
     "execution_count": 21,
     "metadata": {},
     "output_type": "execute_result"
    },
    {
     "data": {
      "text/plain": [
       "- : float = 8.\n"
      ]
     },
     "execution_count": 21,
     "metadata": {},
     "output_type": "execute_result"
    }
   ],
   "source": [
    "let (x,y) = p;;\n",
    "x +. y;;"
   ]
  },
  {
   "cell_type": "markdown",
   "id": "666f728f",
   "metadata": {},
   "source": [
    "Vedremo che questo tipo di operazioni di destrutturazione fanno parte dei potenti meccanismi di *pattern matching* di OCaml"
   ]
  },
  {
   "cell_type": "markdown",
   "id": "c9a3e8bd",
   "metadata": {
    "slideshow": {
     "slide_type": "notes"
    }
   },
   "source": [
    "Nello scrivere `let (x,y) = p` è importante scrivere a sinistra dell'uguale un *pattern* (in questo caso una tupla contenente variabili) che abbia la stessa struttura del valore ottenuto dall'espressione a destra dell'uguale (in questo caso `p`). In altre parole, dal momento che il tipo di `p` è `float * float`, il pattern che specifichiamo nel `let` dovrà essere una tupla con due variabili. Così facendo, `x` sarà legata al primo elemento di `p`, `y` sarà legata al secondo, e così via."
   ]
  },
  {
   "cell_type": "markdown",
   "id": "90008a92",
   "metadata": {
    "slideshow": {
     "slide_type": "slide"
    }
   },
   "source": [
    "## Funzioni\n",
    "Sempre in coerenza con il paradigma funzionale, in OCaml le funzioni sono *valori*:\n",
    "\n",
    "- possiamo ottenere una funzione come risultato della valutazione di un'espressione\n",
    "- possiamo passare una funzione come parametro ad un'altra funzione\n",
    "- una funzione può essere restituita come risultato di un'altra funzione\n",
    "- ... e molto altro (vedremo) ...\n",
    "\n"
   ]
  },
  {
   "cell_type": "markdown",
   "id": "df8284cf",
   "metadata": {
    "slideshow": {
     "slide_type": "slide"
    }
   },
   "source": [
    "### Partendo dal $\\lambda$-calcolo (con espressioni su interi)\n",
    "Il modo \"base\" di definire una funzione riprende quanto visto nel $\\lambda$-calcolo\n",
    "\n",
    "Ad esempio, la funzione $\\lambda x . x + 1$ può essere definita in OCaml come segue:"
   ]
  },
  {
   "cell_type": "code",
   "execution_count": 22,
   "id": "ae28b783",
   "metadata": {},
   "outputs": [
    {
     "data": {
      "text/plain": [
       "- : int -> int = <fun>\n"
      ]
     },
     "execution_count": 22,
     "metadata": {},
     "output_type": "execute_result"
    }
   ],
   "source": [
    "fun x -> x + 1 ;;"
   ]
  },
  {
   "cell_type": "markdown",
   "id": "8c11df39",
   "metadata": {
    "slideshow": {
     "slide_type": "fragment"
    }
   },
   "source": [
    "e la sua applicazione $(\\lambda x.x + 1) 10$ diventa, letteralmente:"
   ]
  },
  {
   "cell_type": "code",
   "execution_count": 23,
   "id": "d350f971",
   "metadata": {},
   "outputs": [
    {
     "data": {
      "text/plain": [
       "- : int = 11\n"
      ]
     },
     "execution_count": 23,
     "metadata": {},
     "output_type": "execute_result"
    }
   ],
   "source": [
    "(fun x -> x + 1) 10 ;;"
   ]
  },
  {
   "cell_type": "markdown",
   "id": "4d8de8f8",
   "metadata": {
    "slideshow": {
     "slide_type": "notes"
    }
   },
   "source": [
    "Ci sono un paio di osservazioni da fare sull'output dell'interprete OCaml. In primo luogo, nell'esempio con la definizione della funzione, l'interprete ha restituito un output simile a quello che avevamo visto negli esempi di espressioni mostrati in precedenza: abbiamo il simbolo `-`, che denota che non è stato effettuato alcun binding (non abbiamo dichiarato una variabile), poi abbiamo il tipo inferito dell'espressione, in questo caso `int -> int`, che descrive una funzione che prende un intero come parametro e restituisce un intero. Infine, dopo il simbolo `=` abbiamo il risultato della valutazione dell'espressione, che è genericamente `<fun>`, non essendo possibile per l'interprete rappresentare in generale i \"valori-funzione\" in formato testuale.\n",
    "    \n",
    "Nel secondo esempio, con l'applicazione della funzione, l'interprete risponde nuovamente con `-` (nessun binding), `int` (il tipo del risultato della valutazione dell'espressione) e `11` (il risultato vero e proprio).\n",
    "    \n",
    "Entrambi questi esempi si configurano come vere e proprie espressioni: ne può essere inferito un tipo e possono essere valutate dando come risultato un valore."
   ]
  },
  {
   "cell_type": "markdown",
   "id": "1f8caa64",
   "metadata": {
    "slideshow": {
     "slide_type": "slide"
    }
   },
   "source": [
    "### Funzioni (OCaml vs JS)\n",
    "\n",
    "Lo stesso modo \"base\" di definire funzioni è presente anche in *JavaScript*, usando il costrutto `function()` per definire una *funzione anonima*\n",
    "\n",
    "Abbiamo che $\\lambda x . x+1$ in JavaScript diventa (attenzione alle parentesi):\n",
    "\n",
    "`JAVASCRIPT: (function(x) { return(x+1) })`\n",
    "\n",
    "mentre $(\\lambda x . x+1) 10$ in JavaScript diventa (attenzione alle parentesi):\n",
    "\n",
    "`JAVASCRIPT: (function(x) { return(x+1) }) (10)`"
   ]
  },
  {
   "cell_type": "markdown",
   "id": "f2ca990c",
   "metadata": {
    "slideshow": {
     "slide_type": "fragment"
    }
   },
   "source": [
    "*ANCHE JAVASCRIPT È NATO COME LINGUAGGIO FUNZIONALE!*"
   ]
  },
  {
   "cell_type": "markdown",
   "id": "51f249ab",
   "metadata": {
    "slideshow": {
     "slide_type": "slide"
    }
   },
   "source": [
    "Un altro modo \"base\" per definire funzioni anonime in *JavaScript*\n",
    "\n",
    "* tramite le *arrow expressions*:\n",
    "\n",
    "$\\lambda x . x + 1$ corrisponde a \n",
    "\n",
    "```\n",
    "JAVASCRIPT: x => x + 1\n",
    "```\n",
    "\n",
    "$(\\lambda x . x + 1) 10$ corrisponde a \n",
    "\n",
    "```\n",
    "JAVASCRIPT: (x => x + 1) (10)\n",
    "```"
   ]
  },
  {
   "cell_type": "markdown",
   "id": "139bc0d1",
   "metadata": {
    "slideshow": {
     "slide_type": "fragment"
    }
   },
   "source": [
    "*È CHIARO CHE QUESTE OPERAZIONI SONO ISPIRATE AL $\\lambda$-CALCOLO...*"
   ]
  },
  {
   "cell_type": "markdown",
   "id": "40ff6a17",
   "metadata": {
    "slideshow": {
     "slide_type": "notes"
    }
   },
   "source": [
    "Lo stesso accade in molti altri linguaggi \"non funzionali\". In Java, ad esempio, da qualche anno sono state introdotte le cosiddette \"lambda expressions\", che sono un'altra variante dello stesso concetto preso dal $\\lambda$-calcolo."
   ]
  },
  {
   "cell_type": "markdown",
   "id": "d5ad5c48",
   "metadata": {
    "slideshow": {
     "slide_type": "slide"
    }
   },
   "source": [
    "### Funzioni: altri esempi dal $\\lambda$-calcolo\n",
    "Continuando a tenere il $\\lambda$-calcolo come riferimento, possiamo vedere qualche altro esempio riformulato in OCaml\n",
    "\n",
    "$\\lambda x. \\lambda y. x+y$"
   ]
  },
  {
   "cell_type": "code",
   "execution_count": 24,
   "id": "40050f97",
   "metadata": {},
   "outputs": [
    {
     "data": {
      "text/plain": [
       "- : int -> int -> int = <fun>\n"
      ]
     },
     "execution_count": 24,
     "metadata": {},
     "output_type": "execute_result"
    }
   ],
   "source": [
    "fun x -> fun y -> x+y ;;"
   ]
  },
  {
   "cell_type": "markdown",
   "id": "bcff2215",
   "metadata": {
    "slideshow": {
     "slide_type": "fragment"
    }
   },
   "source": [
    "$\\lambda f. \\lambda n. f n +1$"
   ]
  },
  {
   "cell_type": "code",
   "execution_count": 25,
   "id": "2056c50a",
   "metadata": {},
   "outputs": [
    {
     "data": {
      "text/plain": [
       "- : ('a -> int) -> 'a -> int = <fun>\n"
      ]
     },
     "execution_count": 25,
     "metadata": {},
     "output_type": "execute_result"
    }
   ],
   "source": [
    "fun f -> fun n -> f n + 1 ;;"
   ]
  },
  {
   "cell_type": "markdown",
   "id": "5cc1e41e",
   "metadata": {
    "slideshow": {
     "slide_type": "notes"
    }
   },
   "source": [
    "### Un primo assaggio di type inference\n",
    "\n",
    "Questi esempi ci consentono di fare qualche osservazione su come sia definito il tipo delle funzioni. \n",
    "\n",
    "Nel primo esempio, `fun x -> fun y -> x+y` è una funzione che prende `x` e restituisce la funzione `fun y -> x+y`. Quest'ultima è una funzione che prende `y` e restituisce il risultato di `x+y`. Essendo `x` e `y` sommati usando l'operatore `+`, che accetta solo operandi di tipo `int`, il compilatore inferisce che `x` e `y` debbano avere tipo `int`, quindi `fun y -> x+y` deve avere tipo `int -> int` (prende un intero `y` e restituisce un intero ottenuto da `x+y`). Una volta inferito il tipo di `x` e di `fun y -> x+y`, il compilatore può ora inferire anche il tipo dell'intera funzione `fun x -> fun y -> x+y` come segue: `int -> (int -> int)` (la funzione prende un intero `x` e restituisce una funzione da `int` a `int`). Dal momento che l'operatore `->` è associativo a destra, le parentesi nel tipo possono essere rimosse, ottenendo quindi `int -> int -> int`.\n",
    "\n",
    "Nel secondo esempio, la funzione `fun f -> fun n -> f n + n` viene esaminata in modo analogo alla precedente. Questa volta però il \"corpo\" della funzione `f n + n` consente di dedurre che `n` è un `int` (perché e operando di `+`), mentre `f` è una funzione, in quanto viene applicata ad `n` (in `f n`). Il fatto che `f` sia applicata al valore intero `n` e il fatto che il risultato di `f n` sia poi usato come operando di `+` consentono di inferire il tipo di `f` come `int -> int`. A questo punto, il tipo della funzione `fun f -> fun n -> f n + n` risulta essere `(int -> int) -> int -> int`. In questo caso le parentesi sono necessarie in quanto il primo `int -> int` descrive il tipo del parametro `f`. "
   ]
  },
  {
   "cell_type": "markdown",
   "id": "4c3bf14c",
   "metadata": {
    "slideshow": {
     "slide_type": "slide"
    }
   },
   "source": [
    "### Ancora un esempio\n",
    "Vediamo ancora un esempio, sempre tenendo il $\\lambda$-calcolo come riferimento \n",
    "\n",
    "$(\\lambda f . \\lambda n . f n + 1) (\\lambda x . 2x) 10$"
   ]
  },
  {
   "cell_type": "code",
   "execution_count": 26,
   "id": "c7cd39b8",
   "metadata": {},
   "outputs": [
    {
     "data": {
      "text/plain": [
       "- : int = 21\n"
      ]
     },
     "execution_count": 26,
     "metadata": {},
     "output_type": "execute_result"
    }
   ],
   "source": [
    "(fun f -> fun n -> f n + 1)(fun x -> 2 * x) 10 ;;"
   ]
  },
  {
   "cell_type": "markdown",
   "id": "28d6f439",
   "metadata": {},
   "source": [
    "Questo è un esempio di funzione *higher-order* (di ordine superiore), ossia una funzione che prende un'altra funzione (`f`) come parametro e la usa nel proprio corpo\n",
    "\n",
    "* il valore calcolato da OCaml è lo stesso che si ottiene valutando l'espressione del $\\lambda$-calcolo tramite la *$\\beta$-riduzione*"
   ]
  },
  {
   "cell_type": "markdown",
   "id": "d3ebfa46",
   "metadata": {
    "slideshow": {
     "slide_type": "notes"
    }
   },
   "source": [
    "Richiamiamo innanzitutto le regole della $\\beta$-riduzione:\n",
    "\n",
    "$$\n",
    "(\\lambda x .e_1) e_2 \\rightarrow e_1 [x/e_2]\n",
    "\\qquad \n",
    "\\frac{e_1 \\rightarrow e'}{e_1e_2 \\rightarrow e'e_2}\n",
    "\\qquad \n",
    "\\frac{e_2 \\rightarrow e'}{e_1e_2 \\rightarrow e_1e'}\n",
    "\\qquad \n",
    "\\frac{e \\rightarrow e'}{\\lambda x . e \\rightarrow \\lambda x . e'}\n",
    "$$\n",
    "\n",
    "Ne segue che l'espressione $(\\lambda f . \\lambda n . f n + 1) (\\lambda x . 2x) 10$ abbia la seguente semantica:\n",
    "\n",
    "$$\n",
    "\\begin{array}{lr}\n",
    "(\\lambda f . \\lambda n . f n + 1) (\\lambda x . 2x) 10  & \\mbox{ricordando che } e1 \\, e2 \\, e3 = (e1 \\, e2) \\, e3\\\\\n",
    "\\rightarrow (\\lambda n . (\\lambda x . 2x) n + 1) 10 &  \\\\\n",
    "\\rightarrow (\\lambda n . 2n + 1) 10 & \\\\\n",
    "\\rightarrow 20 + 1 = 21\n",
    "\\end{array}\n",
    "$$\n",
    "\n",
    "E si ottiene esattamente il risultato calcolato da OCaml."
   ]
  },
  {
   "cell_type": "markdown",
   "id": "555667ab",
   "metadata": {
    "slideshow": {
     "slide_type": "slide"
    }
   },
   "source": [
    "### Funzioni con più parametri\n",
    "Il costrutto `fun` può prevedere più di un parametro"
   ]
  },
  {
   "cell_type": "code",
   "execution_count": 27,
   "id": "e5869d7f",
   "metadata": {},
   "outputs": [
    {
     "data": {
      "text/plain": [
       "- : int = 7\n"
      ]
     },
     "execution_count": 27,
     "metadata": {},
     "output_type": "execute_result"
    }
   ],
   "source": [
    "(fun x y -> x+y) 3 4 ;; (* equivale a (fun x -> fun y -> x+y) 3 4 *)"
   ]
  },
  {
   "cell_type": "markdown",
   "id": "eb846420",
   "metadata": {},
   "source": [
    "Questo però è *zucchero sintattico*: \n",
    "\n",
    "- è solo una semplificazione che evita di scrivere una sequenza di `fun`"
   ]
  },
  {
   "cell_type": "markdown",
   "id": "1f879306",
   "metadata": {
    "slideshow": {
     "slide_type": "notes"
    }
   },
   "source": [
    "In generale, con il termine *zucchero sintattico* (o syntactic sugar) si intende dire che un certo costrutto è stato previsto in un linguaggio di programmazione solo per semplificare la scrittura di certe operazioni. In realtà, le stesse operazioni possono essere scritte usando anche altri costrutti del linguaggio ottenendo comunque lo stesso identico risultato. \n",
    "\n",
    "Ad esempio, molti linguaggi di programmazione (come ad esempio C, Java o Javascript) prevedono un costrutto di assegnamento con incremento `+=` che può essere usato in questo modo:\n",
    "\n",
    "```\n",
    "JAVASCRIPT: X += 1\n",
    "```\n",
    "\n",
    "ma che è solo una semplificazione sintattica dell'operazione di incremento\n",
    "\n",
    "```\n",
    "JAVASCRIPT: X = X + 1\n",
    "```\n",
    "\n",
    "Nel caso del costrutto `fun` di OCaml abbiamo che\n",
    "\n",
    "```\n",
    "(fun x y -> x+y)\n",
    "```\n",
    "\n",
    "è zucchero sintattico per\n",
    "\n",
    "```\n",
    "(fun x -> fun y -> x+y)\n",
    "```"
   ]
  },
  {
   "cell_type": "markdown",
   "id": "9a844cd2",
   "metadata": {
    "slideshow": {
     "slide_type": "slide"
    }
   },
   "source": [
    "## Il $\\lambda$-calcolo in OCaml (sintatticamente)\n",
    "La codifica *sintattica* del $\\lambda$-calcolo in OCaml si può formalizzare così: \n",
    "$\\newcommand{\\encode}[1]{[\\![#1]\\!]}$\n",
    "\n",
    "**Definizione \\[Encoding $\\lambda$-calcolo in OCaml\\].** Dato un qualunque termine del $\\lambda$-calcolo $T$, la corrispondente espressione in OCaml è $[ \\! [T] \\! ]$, dove $[ \\! [\\ldots] \\! ]$ è la funzione definita ricorsivamente sulla struttura dei $\\lambda$-termini come segue:\n",
    "\n",
    "$$\n",
    "\\begin{array}{rl}\n",
    "\\encode{n} \\, = & n\\\\\n",
    "\\encode{x} \\, = & x\\\\\n",
    "\\encode{T' \\, op \\, T''} \\, = & \\encode{T'} \\, op \\, \\encode{T''}\\\\\n",
    "\\encode{\\lambda x. T'} \\, = & \\mbox{fun } x \\mbox{ -> } \\encode{T}\\\\\n",
    "\\encode{T' \\, T''}\\, = & \\encode{T'} \\, \\encode{T''}\\\\\n",
    "\\end{array}\n",
    "$$\n",
    "\n",
    "Dove $n$ è un qualunque numero intero, $x$ è un qualunque identificatore (nome) e $op$ è un operatore artimetico $(+,-,*,/,...)$"
   ]
  },
  {
   "cell_type": "markdown",
   "id": "d38cabff",
   "metadata": {
    "slideshow": {
     "slide_type": "notes"
    }
   },
   "source": [
    "Stiamo considerando un $\\lambda$-calcolo che consente anche di includere espressioni su numeri interi. La definizione dell'encoding quindi segue la definizione sintattica di questa variante del formalismo.\n",
    "\n",
    "La funzione $\\encode{...}$ ha come dominio l'insieme delle espressioni (o termini) del $\\lambda$-calcolo e come codominio le espressioni OCaml. È una funzione iniettiva (qualunque espressione del $\\lambda$-calcolo può essere tradotta) ma non suriettiva (OCaml ha una sintassi molto più ricca del $\\lambda$-calcolo).\n",
    "\n",
    "In realtà $\\encode{...}$ è una funzione molto semplice, che traduce letteralmente l'espressione del $\\lambda$-calcolo trasformando i vari $\\lambda x .$ in `fun x ->` e lasciando tutto il resto sostanzialmente inalterato.\n",
    "\n",
    "È importante notare che la funzione $\\encode{...}$ è definita *ricorsivamente sulla struttura dei $\\lambda$-termini*. Questo significa che nella definizione di $\\encode{...}$ abbiamo un caso per ogni termine di base ($n$ e $x$) e un caso per ogni operazione ($T' \\, op \\, T''$, $\\lambda x. T'$ e $T' \\, T''$. Nei casi che corrispondono a termini di base la funzione fornisce direttamente un risultato (casi base della ricorsione), mentre nei casi corrispondenti a operazioni la funzione viene richiamata ricorsivamente sugli operandi di tale operazione (ad esempio, $T'$ e $T''$ nel caso di $T' \\, op \\, T''$). Quindi la ricorsione in questo caso è usata per definire il risultato della funzione $\\encode{...}$ su una certa espressione sulla base del risultato della stessa funzione $\\encode{...}$ applicata a sottoespressioni."
   ]
  },
  {
   "cell_type": "markdown",
   "id": "80a7bbf0",
   "metadata": {
    "slideshow": {
     "slide_type": "slide"
    }
   },
   "source": [
    "### Il $\\lambda$-calcolo in OCaml: esempi\n",
    "\n",
    "Tanto per vedere che la traduzione è effettivamente banale..."
   ]
  },
  {
   "cell_type": "markdown",
   "id": "96545f67",
   "metadata": {
    "cell_style": "split",
    "slideshow": {
     "slide_type": "-"
    }
   },
   "source": [
    "$$\n",
    "\\begin{array}{l}\n",
    "\\encode{\\lambda x. \\lambda y. x+y} = \\\\\n",
    "\\mbox{fun x -> }\\encode{\\lambda y. x+y} = \\\\\n",
    "\\mbox{fun x -> fun y -> } \\encode{x+y} = \\\\\n",
    "\\mbox{fun x -> fun y -> } \\encode{x} \\mbox { + } \\encode{y} = \\\\\n",
    "\\mbox{fun x -> fun y -> x + } \\encode{y} = \\\\\n",
    "\\mbox{fun x -> fun y -> x + y}\\\\\n",
    "\\end{array}\n",
    "$$"
   ]
  },
  {
   "cell_type": "markdown",
   "id": "5fc8ab7b",
   "metadata": {
    "cell_style": "split"
   },
   "source": [
    "$$\n",
    "\\begin{array}{l}\n",
    "\\encode{\\lambda f. \\lambda n. f n + 1} = \\\\\n",
    "\\mbox{fun f -> }\\encode{\\lambda n. f n + 1} = \\\\\n",
    "\\mbox{fun f -> fun n -> } \\encode{f n + 1} = \\\\\n",
    "\\mbox{fun f -> fun n -> } \\encode{f n} \\mbox{ + } \\encode{1} = \\\\\n",
    "\\mbox{fun f -> fun n -> } \\encode{f} \\encode{n} \\mbox{ + } \\encode{1} = \\\\\n",
    "\\mbox{fun f -> fun n -> f n + 1}\\\\\n",
    "\\end{array}\n",
    "$$"
   ]
  },
  {
   "cell_type": "markdown",
   "id": "5d9f3ce5",
   "metadata": {
    "slideshow": {
     "slide_type": "notes"
    }
   },
   "source": [
    "$$\n",
    "\\begin{array}{l}\n",
    "\\encode{(\\lambda f . \\lambda n . f n + 1) (\\lambda x . 2x) 10} = \\\\\n",
    "\\encode{(\\lambda f . \\lambda n . f n + 1) (\\lambda x . 2x)} \\encode{10} = \\\\\n",
    "\\encode{(\\lambda f . \\lambda n . f n + 1) (\\lambda x . 2x)} \\mbox{10} = \\\\\n",
    "\\encode{(\\lambda f . \\lambda n . f n + 1)} \\encode{(\\lambda x . 2x)} \\mbox{10} = \\\\\n",
    "\\encode{(\\lambda f . \\lambda n . f n + 1)} \\encode{(\\lambda x . 2x} \\mbox{10} = \\\\\n",
    "\\encode{(\\lambda f . \\lambda n . f n + 1)} \\mbox{(fun x ->} \\encode{2x} \\mbox{) 10} = \\\\\n",
    "\\encode{(\\lambda f . \\lambda n . f n + 1)} \\mbox{(fun x -> 2x) 10} = \\\\\n",
    "\\mbox{(fun f ->} \\encode{\\lambda n . f n + 1}\\mbox{) (fun x -> 2x) 10} = \\\\\n",
    "\\mbox{(fun f -> fun n ->} \\encode{f n + 1}\\mbox{) (fun x -> 2x) 10} = \\\\\n",
    "\\mbox{(fun f -> fun n ->} \\encode{f n} + \\encode{1} \\mbox{) (fun x -> 2x) 10} = \\\\\n",
    "\\mbox{(fun f -> fun n ->} \\encode{f n} \\mbox{+ 1) (fun x -> 2x) 10} = \\\\\n",
    "\\mbox{(fun f -> fun n ->} \\encode{f} \\encode{n} \\mbox{+ 1) (fun x -> 2x) 10} = \\\\\n",
    "\\mbox{(fun f -> fun n ->} \\encode{f} \\mbox{n + 1) (fun x -> 2x) 10} = \\\\\n",
    "\\mbox{(fun f -> fun n -> f n + 1) (fun x -> 2x) 10} \\\\\n",
    "\\end{array}\n",
    "$$"
   ]
  },
  {
   "cell_type": "markdown",
   "id": "c88e4d56",
   "metadata": {
    "slideshow": {
     "slide_type": "slide"
    }
   },
   "source": [
    "## Altro modo (più comune) di definire funzioni: `let`\n",
    "Le funzioni sono valori, e possono essere usate in una dichiarazione con `let`"
   ]
  },
  {
   "cell_type": "code",
   "execution_count": 28,
   "id": "d36c6300",
   "metadata": {},
   "outputs": [
    {
     "data": {
      "text/plain": [
       "val somma : int -> int -> int = <fun>\n"
      ]
     },
     "execution_count": 28,
     "metadata": {},
     "output_type": "execute_result"
    },
    {
     "data": {
      "text/plain": [
       "- : int = 7\n"
      ]
     },
     "execution_count": 28,
     "metadata": {},
     "output_type": "execute_result"
    }
   ],
   "source": [
    "let somma = fun x y -> x+y ;;\n",
    "somma 3 4 ;;"
   ]
  },
  {
   "cell_type": "markdown",
   "id": "b07fabb8",
   "metadata": {
    "slideshow": {
     "slide_type": "fragment"
    }
   },
   "source": [
    "Più semplicemente, si può evitare di scrivere `fun` e `->` (zucchero sintattico)"
   ]
  },
  {
   "cell_type": "code",
   "execution_count": 29,
   "id": "38e18ef2",
   "metadata": {},
   "outputs": [
    {
     "data": {
      "text/plain": [
       "val somma : int -> int -> int = <fun>\n"
      ]
     },
     "execution_count": 29,
     "metadata": {},
     "output_type": "execute_result"
    },
    {
     "data": {
      "text/plain": [
       "- : int = 7\n"
      ]
     },
     "execution_count": 29,
     "metadata": {},
     "output_type": "execute_result"
    }
   ],
   "source": [
    "let somma x y = x+y ;;\n",
    "somma 3 4;;"
   ]
  },
  {
   "cell_type": "markdown",
   "id": "19632fd2",
   "metadata": {
    "slideshow": {
     "slide_type": "fragment"
    }
   },
   "source": [
    "*QUESTO È IL MODO PIÙ COMUNE DI DEFINIRE FUNZIONI!*"
   ]
  },
  {
   "cell_type": "markdown",
   "id": "71ccfa22",
   "metadata": {
    "slideshow": {
     "slide_type": "slide"
    }
   },
   "source": [
    "### Definire funzioni con `function`\n",
    "\n",
    "Esiste in realtà un altro modo ancora di definire funzioni, che utilizza, al posto del costrutto `fun`, il costrutto `function`"
   ]
  },
  {
   "cell_type": "code",
   "execution_count": 30,
   "id": "8c5b814c",
   "metadata": {
    "slideshow": {
     "slide_type": "-"
    }
   },
   "outputs": [
    {
     "data": {
      "text/plain": [
       "- : int -> int = <fun>\n"
      ]
     },
     "execution_count": 30,
     "metadata": {},
     "output_type": "execute_result"
    }
   ],
   "source": [
    "function x -> x + 1 ;;"
   ]
  },
  {
   "cell_type": "markdown",
   "id": "59c2af84",
   "metadata": {
    "slideshow": {
     "slide_type": "-"
    }
   },
   "source": [
    "A differenza di `fun`, le funzioni definite con `function` possono prevedere un unico parametro. A questo livello il costrutto `function` non risultata particolarmente utile. Quando parleremo di *pattern matching* vedremo che questo costrutto può semplificare leggermente la scrittura di alcuni tipi di funzioni."
   ]
  },
  {
   "cell_type": "markdown",
   "id": "46913891",
   "metadata": {
    "slideshow": {
     "slide_type": "slide"
    }
   },
   "source": [
    "### Nota: non esiste il `return`\n",
    "\n",
    "Il corpo di una funzione in OCaml è un'*espressione*"
   ]
  },
  {
   "cell_type": "code",
   "execution_count": 31,
   "id": "79061c90",
   "metadata": {},
   "outputs": [
    {
     "data": {
      "text/plain": [
       "val media : float -> float -> float = <fun>\n"
      ]
     },
     "execution_count": 31,
     "metadata": {},
     "output_type": "execute_result"
    }
   ],
   "source": [
    "let media x y =\n",
    "    x +. y /. 2.0"
   ]
  },
  {
   "cell_type": "markdown",
   "id": "243f33c6",
   "metadata": {},
   "source": [
    "Al momento della chiamata, l'intero corpo della funzione (l'espressione `base *. altezza /. 2.0`) viene valutato e il valore ottenuto come risultato sarà il risultato della funzione"
   ]
  },
  {
   "cell_type": "markdown",
   "id": "516ff97e",
   "metadata": {
    "slideshow": {
     "slide_type": "slide"
    }
   },
   "source": [
    "Il *comando* `return` ha senso nella programmazione imperativa, in cui il corpo di una funzione è una sequenza di comandi\n",
    "\n",
    "- in quel contesto `return` interrompe l'esecuzione e fornisce l'espressione da valutare nello stato raggiunto per determinare il risultato della funzione\n",
    "\n",
    "Ad esempio, in JavaScript:\n",
    "\n",
    "```\n",
    "function area_triangolo ( x , y ) {\n",
    "    let somma = x + y;\n",
    "    return somma / 2;\n",
    "}\n",
    "```\n",
    "\n",
    "il comando `return` interrompe la funzione e fa restituire il risultato dell'espressione `somma / 2` valutata nello stato in cui la variabile `somma` è già stata assegnata"
   ]
  },
  {
   "cell_type": "markdown",
   "id": "500ee9f7",
   "metadata": {
    "slideshow": {
     "slide_type": "slide"
    }
   },
   "source": [
    "## \"Scope\" delle dichiarazioni e funzioni ausiliarie \n",
    "Una dichiarazione di variabile aggiorna l'ambiente globale gestito dal toplevel di OCaml e diventa utilizzabile da tutte le espressioni successive"
   ]
  },
  {
   "cell_type": "code",
   "execution_count": 32,
   "id": "4ce220ef",
   "metadata": {},
   "outputs": [
    {
     "data": {
      "text/plain": [
       "val x : int = 10\n"
      ]
     },
     "execution_count": 32,
     "metadata": {},
     "output_type": "execute_result"
    },
    {
     "data": {
      "text/plain": [
       "val y : int = 50\n"
      ]
     },
     "execution_count": 32,
     "metadata": {},
     "output_type": "execute_result"
    }
   ],
   "source": [
    "let x = 10 ;;\n",
    "let y = 5 * x ;;"
   ]
  },
  {
   "cell_type": "markdown",
   "id": "863f11ef",
   "metadata": {
    "slideshow": {
     "slide_type": "slide"
    }
   },
   "source": [
    "Il costrutto `let ... in` dichiara variabili il cui *scope* è una sola espressione"
   ]
  },
  {
   "cell_type": "code",
   "execution_count": 33,
   "id": "ce32b40e",
   "metadata": {
    "slideshow": {
     "slide_type": "-"
    }
   },
   "outputs": [
    {
     "data": {
      "text/plain": [
       "- : int = 50\n"
      ]
     },
     "execution_count": 33,
     "metadata": {},
     "output_type": "execute_result"
    },
    {
     "ename": "error",
     "evalue": "compile_error",
     "output_type": "error",
     "traceback": [
      "File \"[33]\", line 2, characters 12-13:\n2 | let w = 5 * z ;;    (* mentre qui no! *)\n                ^\nError: Unbound value z\n"
     ]
    }
   ],
   "source": [
    "let z = 10 in z * z / 2 ;; (* z è utilizzabile solo qui... *)\n",
    "let w = 5 * z ;;    (* mentre qui no! *)"
   ]
  },
  {
   "cell_type": "markdown",
   "id": "e2e8d808",
   "metadata": {
    "slideshow": {
     "slide_type": "notes"
    }
   },
   "source": [
    "Le dichiarazioni di variabili con scope limitato (variabili locali) è ottenuto in molti altri linguaggi (come JavaScript, C, Java) creando blocchi di comandi `{ ... }` e dichiarando la variabile all'interno del blocco. Il costrutto `let ... in` (dall'inglese, \"sia ... in\") sottolinea il fatto che lo scope è un'unica espressione (quella dopo `in`) e inoltre conferisce al programma un \"sapore\" più matematico richiamando il fatto che queste variabili sono in realtà molto simili alle incognite di una espressione algebrica... *Sia $x$ uguale a 10 nell'espressione $x^2/2$...*."
   ]
  },
  {
   "cell_type": "markdown",
   "id": "187efd51",
   "metadata": {
    "slideshow": {
     "slide_type": "fragment"
    }
   },
   "source": [
    "Questo meccanismo può essere usato anche per definire *funzioni ausiliarie*"
   ]
  },
  {
   "cell_type": "code",
   "execution_count": 34,
   "id": "339bc694",
   "metadata": {},
   "outputs": [
    {
     "data": {
      "text/plain": [
       "- : int = 40\n"
      ]
     },
     "execution_count": 34,
     "metadata": {},
     "output_type": "execute_result"
    }
   ],
   "source": [
    "let f x = 2*x\n",
    "in\n",
    "    f (f 10) ;;"
   ]
  },
  {
   "cell_type": "markdown",
   "id": "28531b72",
   "metadata": {
    "slideshow": {
     "slide_type": "slide"
    }
   },
   "source": [
    "Esempio: soluzione equazioni di secondo grado  \n",
    "\n",
    "- $ax^2 + bx +c = 0$ con $a,b,c \\in \\mathbb{R}$\n",
    "- formula risolutiva: $\\frac{-b \\pm \\sqrt{\\Delta}}{2a}$ dove $\\Delta = b^2-4ac$"
   ]
  },
  {
   "cell_type": "code",
   "execution_count": 78,
   "id": "388bf965",
   "metadata": {},
   "outputs": [
    {
     "data": {
      "text/plain": [
       "val sol : float -> float -> float -> float * float = <fun>\n"
      ]
     },
     "execution_count": 78,
     "metadata": {},
     "output_type": "execute_result"
    }
   ],
   "source": [
    "let sol a b c =\n",
    "    let delta =\n",
    "        b*.b -. 4.*.a*.c\n",
    "    in\n",
    "        ( (-.b +. sqrt delta) /. (2.*.a) , (-.b -. sqrt delta) /. (2.*.a) ) ;; "
   ]
  },
  {
   "cell_type": "code",
   "execution_count": 36,
   "id": "8970354b",
   "metadata": {},
   "outputs": [
    {
     "data": {
      "text/plain": [
       "- : float * float = (3., 2.)\n"
      ]
     },
     "execution_count": 36,
     "metadata": {},
     "output_type": "execute_result"
    }
   ],
   "source": [
    "sol 1. (-5.) 6. ;;"
   ]
  },
  {
   "cell_type": "markdown",
   "id": "9a76067a",
   "metadata": {},
   "source": [
    "La funzione `sol` prende i coefficienti $a$, $b$ e $c$ dell'equazione e restituisce una coppia con le due soluzioni\n",
    "\n",
    "- il discriminante $\\Delta$ viene calcolato una volta sola come variabile locale `delta`"
   ]
  },
  {
   "cell_type": "markdown",
   "id": "be162ef4",
   "metadata": {
    "slideshow": {
     "slide_type": "notes"
    }
   },
   "source": [
    "Nella funzione `sol` viene utilizzata la funzione `sqrt` è che predefinita in OCaml e restituisce la radice quadrata di un numero (di tipo `float`)."
   ]
  },
  {
   "cell_type": "markdown",
   "id": "78d779e8",
   "metadata": {
    "slideshow": {
     "slide_type": "slide"
    }
   },
   "source": [
    "Altra versione più sofisticata..."
   ]
  },
  {
   "cell_type": "code",
   "execution_count": 37,
   "id": "fae6ab36",
   "metadata": {
    "slideshow": {
     "slide_type": "-"
    }
   },
   "outputs": [
    {
     "data": {
      "text/plain": [
       "val sol : float -> float -> float -> float * float = <fun>\n"
      ]
     },
     "execution_count": 37,
     "metadata": {},
     "output_type": "execute_result"
    }
   ],
   "source": [
    "let sol a b c =\n",
    "    let delta =\n",
    "        b*.b -. 4.*.a*.c\n",
    "    in\n",
    "    let sol' op =\n",
    "        ( op (-.b) (sqrt delta) ) /. (2.*.a)\n",
    "    in\n",
    "        (sol' (+.) , sol' (-.)) ;;"
   ]
  },
  {
   "cell_type": "code",
   "execution_count": 38,
   "id": "50885a7c",
   "metadata": {
    "slideshow": {
     "slide_type": "-"
    }
   },
   "outputs": [
    {
     "data": {
      "text/plain": [
       "- : float * float = (3., 2.)\n"
      ]
     },
     "execution_count": 38,
     "metadata": {},
     "output_type": "execute_result"
    }
   ],
   "source": [
    "sol 1. (-.5.) 6. ;;"
   ]
  },
  {
   "cell_type": "markdown",
   "id": "430b5f2e",
   "metadata": {},
   "source": [
    "La funzione ausiliaria `sol'` viene usata per calcolare entrambe le soluzioni:\n",
    "\n",
    "- il parametro `op` è l'operazione (somma o sottrazione) da usare nei due casi\n",
    "- `(+.)` e `(-.)` sono le funzioni somma e sottrazione in forma *prefissa*"
   ]
  },
  {
   "cell_type": "code",
   "execution_count": 39,
   "id": "5b6007ab",
   "metadata": {},
   "outputs": [
    {
     "data": {
      "text/plain": [
       "- : float = 5.5\n"
      ]
     },
     "execution_count": 39,
     "metadata": {},
     "output_type": "execute_result"
    }
   ],
   "source": [
    "(+.) 3.5 2.0 ;;"
   ]
  },
  {
   "cell_type": "markdown",
   "id": "e4c6415f",
   "metadata": {
    "slideshow": {
     "slide_type": "notes"
    }
   },
   "source": [
    "Si usa la terminologia \"forma prefissa\" per indicare un operatore il cui simbolo viene messo a sinistra di entrambi (se non due) gli operandi, mentre si dice \"forma infissa\" per indicare un operatore il cui simbolo viene messo in mezzo agli operandi. Per gli operatori aritmetici di OCaml si possono usare entrambe le forme. Quando sono usati in forma prefissa è necessario racchiuderli tra parentesi (altrimenti il compilatore non lo capisce e assume siano usati in forma infissa).\n",
    "\n",
    "Questa versione della funzione `sol` sfrutta la possibilità di definire funzioni higher order per evitare di scrivere due volte una espressione (per calcolare una delle due soluzioni) che deve essere ripetuta più volte con una piccola variante di esecuzione tra una volta e l'altra. Visto che le due soluzioni si calcolano nella stessa maniera se non per una operazione che una volta è una somma e l'altra una sottrazione, è possibile rendere l'espressione parametrica rispetto a quella singola operazione."
   ]
  },
  {
   "cell_type": "markdown",
   "id": "9f615d64",
   "metadata": {
    "slideshow": {
     "slide_type": "slide"
    }
   },
   "source": [
    "## Funzioni *Curryed*\n",
    "\n",
    "Il nome della funzione e i vari parametri sono separati da spazi, senza parentesi e virgole (diversamente da molti altri linguaggi)"
   ]
  },
  {
   "cell_type": "code",
   "execution_count": 79,
   "id": "b19d820a",
   "metadata": {},
   "outputs": [
    {
     "data": {
      "text/plain": [
       "val somma : int -> int -> int = <fun>\n"
      ]
     },
     "execution_count": 79,
     "metadata": {},
     "output_type": "execute_result"
    },
    {
     "data": {
      "text/plain": [
       "- : int = 7\n"
      ]
     },
     "execution_count": 79,
     "metadata": {},
     "output_type": "execute_result"
    }
   ],
   "source": [
    "let somma x y = x+y ;;\n",
    "somma 3 4 ;;"
   ]
  },
  {
   "cell_type": "markdown",
   "id": "f7ab95d4",
   "metadata": {
    "slideshow": {
     "slide_type": "-"
    }
   },
   "source": [
    "Le funzioni definite usando la notazione con gli spazi si dicono Curryed\n",
    "\n",
    "- dal nome del matematico *Haskell Curry*, uno dei padri della programmazione funzionale"
   ]
  },
  {
   "cell_type": "markdown",
   "id": "647b6007",
   "metadata": {
    "slideshow": {
     "slide_type": "slide"
    }
   },
   "source": [
    "In realtà, nulla vieta di usare parentesi e virgole:"
   ]
  },
  {
   "cell_type": "code",
   "execution_count": 41,
   "id": "29e5e0ca",
   "metadata": {},
   "outputs": [
    {
     "data": {
      "text/plain": [
       "val somma : int * int -> int = <fun>\n"
      ]
     },
     "execution_count": 41,
     "metadata": {},
     "output_type": "execute_result"
    },
    {
     "data": {
      "text/plain": [
       "- : int = 7\n"
      ]
     },
     "execution_count": 41,
     "metadata": {},
     "output_type": "execute_result"
    }
   ],
   "source": [
    "let somma (x, y) = x+y ;;\n",
    "somma (3,4);;"
   ]
  },
  {
   "cell_type": "markdown",
   "id": "e90e3487",
   "metadata": {},
   "source": [
    "ma così stiamo scrivendo una funzione con un unico parametro di tipo `int * int` (una coppia)\n",
    "\n",
    "- alla chiamata si passa una coppia alla funzione\n",
    "- la coppia viene *destrutturata* nelle variabili `x` e `y`\n",
    "\n",
    "La notazione Curryed (cioè senza virgole) è quella comunemente usata per le funzioni in OCaml"
   ]
  },
  {
   "cell_type": "markdown",
   "id": "ebe37761",
   "metadata": {
    "slideshow": {
     "slide_type": "notes"
    }
   },
   "source": [
    "Anche la notazione Curryed è in realtà un richiamo al $\\lambda$-calcolo, in cui l'applicazione di funzione si scrive $f x$ senza parentesi ne virgole."
   ]
  },
  {
   "cell_type": "markdown",
   "id": "823c5f00",
   "metadata": {
    "slideshow": {
     "slide_type": "slide"
    }
   },
   "source": [
    "## Applicazione parziale di funzione\n",
    "La notazione Curryed consente di applicare una funzione *parzialmente*, passandole solo una parte dei parametri"
   ]
  },
  {
   "cell_type": "code",
   "execution_count": 42,
   "id": "8ffd66ff",
   "metadata": {},
   "outputs": [
    {
     "data": {
      "text/plain": [
       "val somma : int -> int -> int = <fun>\n"
      ]
     },
     "execution_count": 42,
     "metadata": {},
     "output_type": "execute_result"
    }
   ],
   "source": [
    "let somma x y = x+y ;;"
   ]
  },
  {
   "cell_type": "markdown",
   "id": "a2557af5",
   "metadata": {
    "slideshow": {
     "slide_type": "-"
    }
   },
   "source": [
    "Ad esempio, passiamo un solo argomento a `somma`:"
   ]
  },
  {
   "cell_type": "code",
   "execution_count": 43,
   "id": "b39e5752",
   "metadata": {},
   "outputs": [
    {
     "data": {
      "text/plain": [
       "- : int -> int = <fun>\n"
      ]
     },
     "execution_count": 43,
     "metadata": {},
     "output_type": "execute_result"
    }
   ],
   "source": [
    "somma 10;;"
   ]
  },
  {
   "cell_type": "markdown",
   "id": "7efdbd00",
   "metadata": {},
   "source": [
    "Il risultato è una funzione di tipo `int -> int`..."
   ]
  },
  {
   "cell_type": "markdown",
   "id": "931c6d6f",
   "metadata": {
    "slideshow": {
     "slide_type": "slide"
    }
   },
   "source": [
    "Per capire meglio, ragioniamoci con il $\\lambda$-calcolo.\n",
    "\n",
    "La funzione `somma` corrisponde a \n",
    "\n",
    "$$\\lambda x. \\lambda y. x+y$$\n",
    "\n",
    "L'applicazione parziale `somma 10` corrisponde a\n",
    "\n",
    "$$(\\lambda x. \\lambda y. x+y) 10$$\n",
    "\n",
    "Applicando la semantica del $\\lambda$-calcolo otteniamo\n",
    "\n",
    "$$(\\lambda x. \\lambda y. x+y) 10 = \\lambda y. 10+y$$\n",
    "\n",
    "Quindi il risultato è una funzione che prende un intero `y` e lo somma a `10`!"
   ]
  },
  {
   "cell_type": "markdown",
   "id": "dbc91790",
   "metadata": {
    "slideshow": {
     "slide_type": "slide"
    }
   },
   "source": [
    "Torniamo in OCaml. \n",
    "\n",
    "Nulla proibisce di scrivere:"
   ]
  },
  {
   "cell_type": "code",
   "execution_count": 44,
   "id": "eba2e816",
   "metadata": {},
   "outputs": [
    {
     "data": {
      "text/plain": [
       "val somma_dieci : int -> int = <fun>\n"
      ]
     },
     "execution_count": 44,
     "metadata": {},
     "output_type": "execute_result"
    }
   ],
   "source": [
    "let somma_dieci = somma 10 ;;"
   ]
  },
  {
   "cell_type": "markdown",
   "id": "ed87b104",
   "metadata": {
    "slideshow": {
     "slide_type": "fragment"
    }
   },
   "source": [
    "A questo punto possiamo usare (quante volte vogliamo) la funzione `somma_dieci` passandole il (secondo) valore da sommare "
   ]
  },
  {
   "cell_type": "code",
   "execution_count": 45,
   "id": "3046d92e",
   "metadata": {},
   "outputs": [
    {
     "data": {
      "text/plain": [
       "- : int = 15\n"
      ]
     },
     "execution_count": 45,
     "metadata": {},
     "output_type": "execute_result"
    }
   ],
   "source": [
    "somma_dieci 5;;"
   ]
  },
  {
   "cell_type": "code",
   "execution_count": 46,
   "id": "1dc3d00c",
   "metadata": {},
   "outputs": [
    {
     "data": {
      "text/plain": [
       "- : int = 20\n"
      ]
     },
     "execution_count": 46,
     "metadata": {},
     "output_type": "execute_result"
    }
   ],
   "source": [
    "somma_dieci 10;;"
   ]
  },
  {
   "cell_type": "markdown",
   "id": "dcc2103c",
   "metadata": {
    "slideshow": {
     "slide_type": "notes"
    }
   },
   "source": [
    "L'applicazione parziale di funzione è un meccanismo molto potente tipico dei linguaggi di programmazione funzionali. Consente di ottenere infinte funzioni diverse a partire da un'unica definizione. Riferendosi all'esempio della funzione `somma`, è possibile ottenere infinite funzioni diverse (`somma_uno`,`somma_cinque`,`somma_cento`,....) passando un diverso (singolo) parametro alla stessa funzione.\n",
    "\n",
    "Questo meccanismo non va confuso con la possibilità (presente in molti linguaggi) di definire funzioni con parametri opzionali, o funzioni con parametri a cui è associato un valore di default. In questi casi, infatti, la funzione che applichiamo è sempre la stessa, ma avremo semplicemente la possibilità di evitare di scrivere qualche parametro il cui valore non è particolarmente rilevante."
   ]
  },
  {
   "cell_type": "markdown",
   "id": "5c0c2c22",
   "metadata": {
    "slideshow": {
     "slide_type": "slide"
    }
   },
   "source": [
    "## Controllo del flusso di esecuzione\n",
    "La maggior parte dei linguaggi di programmazione ha come costrutti fondamentali per il controllo del flusso di esecuzione del programma:\n",
    "\n",
    "- un *comando* di scelta condizionale (ad es. `if`)\n",
    "- un *comando* di iterazione (ad es. `while`)"
   ]
  },
  {
   "cell_type": "markdown",
   "id": "0b18943f",
   "metadata": {
    "slideshow": {
     "slide_type": "fragment"
    }
   },
   "source": [
    "Questi *comandi* sono legati al <font color=red>paradigma imperativo</font>, la cui operazione fondamentale è *l'assegnamento*\n",
    "\n",
    "- un `if` consente di scegliere, ad esempio, tra due assegnamenti\n",
    "- un `while` consente di ripetere un assegnamento più volte"
   ]
  },
  {
   "cell_type": "markdown",
   "id": "73082804",
   "metadata": {
    "slideshow": {
     "slide_type": "fragment"
    }
   },
   "source": [
    "Questi costrutti hanno senso nel paradigma imperativo, in cui si assume uno stato del programma che viene aggiornato passo-passo"
   ]
  },
  {
   "cell_type": "markdown",
   "id": "15f57de7",
   "metadata": {
    "slideshow": {
     "slide_type": "slide"
    }
   },
   "source": [
    "### <font color=\"red\">Controllo del flusso di esecuzione in OCaml</font>\n",
    "In OCaml (nel suo <font color=red>cuore funzionale</font>) i costrutti di base per il controllo del flusso sono:\n",
    "\n",
    "- una *espressione* di scelta condizionale (`if`)\n",
    "- la RICORSIONE"
   ]
  },
  {
   "cell_type": "markdown",
   "id": "db3ea095",
   "metadata": {
    "slideshow": {
     "slide_type": "fragment"
    }
   },
   "source": [
    "Questo perché non esistono operazioni di assegnamento: le variabili, una volta dichiarate, sono *immutabili*, ossia non possono più cambiare valore\n",
    "\n",
    "- le variabili hanno un ruolo simile a quello delle incognite nelle espressioni algebriche (es: $y = 3 x^2 + 2 x -1$)"
   ]
  },
  {
   "cell_type": "markdown",
   "id": "be6c716c",
   "metadata": {
    "slideshow": {
     "slide_type": "fragment"
    }
   },
   "source": [
    "Non potendo ri-assegnare variabili, non ha senso eseguire dei cicli\n",
    "\n",
    "- Si può ripetere un calcolo chiamando più volte la stessa funzione (= ricorsione)"
   ]
  },
  {
   "cell_type": "markdown",
   "id": "d094f237",
   "metadata": {
    "slideshow": {
     "slide_type": "slide"
    }
   },
   "source": [
    "## Espressione di scelta condizionale `if`\n",
    "\n",
    "In OCaml `if` è un'espressione, e deve sempre prevedere due rami: `then` e `else`\n",
    "\n",
    "- i due rami dovranno contenere a loro volta *espressioni dello stesso tipo* \n",
    "- l'`if` potrà essere usato \"a destra\" di una dichiarazione"
   ]
  },
  {
   "cell_type": "code",
   "execution_count": 47,
   "id": "efa86c19",
   "metadata": {},
   "outputs": [
    {
     "data": {
      "text/plain": [
       "val x : int = 23\n"
      ]
     },
     "execution_count": 47,
     "metadata": {},
     "output_type": "execute_result"
    },
    {
     "data": {
      "text/plain": [
       "val y : int = 1\n"
      ]
     },
     "execution_count": 47,
     "metadata": {},
     "output_type": "execute_result"
    }
   ],
   "source": [
    "let x = 23 ;;\n",
    "let y = if x>10 then 1 else 0 ;; "
   ]
  },
  {
   "cell_type": "markdown",
   "id": "8906c107",
   "metadata": {
    "slideshow": {
     "slide_type": "fragment"
    }
   },
   "source": [
    "L'`if` in OCaml assomiglia all'operatore di scelta condizionale `( _ ? _ : _ )` presente in molti linguaggi di programmazione (quali JavaScript, C e Java):\n",
    "\n",
    "`JAVASCRIPT: var y = ( x>10 ? 1 : -1 )`\n",
    "\n"
   ]
  },
  {
   "cell_type": "markdown",
   "id": "8406e5fc",
   "metadata": {
    "slideshow": {
     "slide_type": "notes"
    }
   },
   "source": [
    "È bene sottolineare di nuovo che i rami `then` e `else` devono sempre essere presenti entrambi, e devono contenere espressioni dello stesso tipo. Se così non fosse, si potrebbe scrivere, ad esempio, la seguente funzione:\n",
    "\n",
    "```\n",
    "let f x =\n",
    "    if x>0 then x\n",
    "           else \"errore\"\n",
    "```\n",
    "\n",
    "e OCaml non sarebbe in grado di inferirne il tipo (`int -> ???`) in quanto la funzione restituisce a volte l'intero `x` (che è per certo di tipo `int` visto che abbiamo fatto `x>0`) e a volte la stringa `\"errore\"`.\n",
    "\n",
    "Un discorso simile vale per la necessità di avere sia il ramo `then` che `else`. Se nell'`if` della funzione `f`, ad esempio, mancasse il ramo `else` la funzione non sarebbe completamente definita... Che cosa restituisce se `x` non è maggiore di zero? Va tenuto conto che non è possibile inserire altre espressioni *dopo* l'`if` (cioè non si può scrivere, prendendo come esempio JavaScript, `if (x>9) return x; ... altro ...`) in quanto in OCaml il corpo della funzione deve essere una unica espressione. Quindi, affinché la funzione sia totale è necessario che gli `if` siano completi."
   ]
  },
  {
   "cell_type": "markdown",
   "id": "4cf7d3ee",
   "metadata": {
    "slideshow": {
     "slide_type": "slide"
    }
   },
   "source": [
    "## Ricorsione\n",
    "\n",
    "Per definire funzioni ricorsive è necessario utilizzare il costrutto `let rec`"
   ]
  },
  {
   "cell_type": "code",
   "execution_count": 48,
   "id": "0e819269",
   "metadata": {},
   "outputs": [
    {
     "ename": "error",
     "evalue": "compile_error",
     "output_type": "error",
     "traceback": [
      "File \"[48]\", line 2, characters 28-32:\n2 |     if n<=0 then 1 else n * fact (n-1) ;;\n                                ^^^^\nError: Unbound value fact\nHint: If this is a recursive definition,\nyou should add the 'rec' keyword on line 1\n"
     ]
    }
   ],
   "source": [
    "let fact n = \n",
    "    if n<=0 then 1 else n * fact (n-1) ;;"
   ]
  },
  {
   "cell_type": "code",
   "execution_count": 49,
   "id": "4d513d90",
   "metadata": {
    "slideshow": {
     "slide_type": "fragment"
    }
   },
   "outputs": [
    {
     "data": {
      "text/plain": [
       "val fact : int -> int = <fun>\n"
      ]
     },
     "execution_count": 49,
     "metadata": {},
     "output_type": "execute_result"
    }
   ],
   "source": [
    "let rec fact n = \n",
    "    if n<=0 then 1 else n * fact (n-1);;"
   ]
  },
  {
   "cell_type": "markdown",
   "id": "99635dfc",
   "metadata": {
    "slideshow": {
     "slide_type": "notes"
    }
   },
   "source": [
    "Il fatto che i costrutti principali per il controllo del flusso siano `if` e ricorsione rende le definizioni di funzione in OCaml concettualmente molto simili a come le stesse funzioni sarebbero definite in termini matematici. Ad esempio, la funzione che calcola il fattoriale, in termini matematici si scrive\n",
    "\n",
    "$$\n",
    "fact(n) = \n",
    "  \\begin{cases} \n",
    "    1 & \\mbox{se } n \\leq 0\\\\\n",
    "    n \\cdot fact(n-1) & \\mbox{altrimenti}\n",
    "  \\end{cases}\n",
    "$$\n",
    "\n",
    "che sostanzialmente prevede una scelta tra due casi e la definizione in termini di se stessa (ricorsione) in uno dei due (come nella versione OCaml)."
   ]
  },
  {
   "cell_type": "markdown",
   "id": "7edaddeb",
   "metadata": {
    "slideshow": {
     "slide_type": "slide"
    }
   },
   "source": [
    "### Perché è necessario aggiungere `rec` ?\n",
    "\n",
    "Abbiamo visto che la definizione di funzione tramite `let`:\n",
    "\n",
    "`let f x = x + 1` è in realtà una abbreviazione di `let f = fun x -> x+1`\n",
    "\n",
    "Quindi l'espressione che definisce la funzione `fun x -> x + 1` non ha visibilità del nome `f` (che è in corso di dichiarazione)\n",
    "\n",
    "Chiaramente questo crea problemi se la funzione è ricorsiva... \n",
    "\n",
    "- e `rec` esplicita il fatto che la funzione dovrà essere ricorsiva."
   ]
  },
  {
   "cell_type": "markdown",
   "id": "f9beeb78",
   "metadata": {
    "slideshow": {
     "slide_type": "slide"
    }
   },
   "source": [
    "### Un paio di esempi di funzioni ricorsive\n",
    "Successione di Fibonacci (restituisce l'n-esimo valore della successione):"
   ]
  },
  {
   "cell_type": "code",
   "execution_count": 50,
   "id": "7b78ccf1",
   "metadata": {},
   "outputs": [
    {
     "data": {
      "text/plain": [
       "val fibonacci : int -> int = <fun>\n"
      ]
     },
     "execution_count": 50,
     "metadata": {},
     "output_type": "execute_result"
    }
   ],
   "source": [
    "let rec fibonacci n =\n",
    "    if n=0 || n=1 then n\n",
    "    else fibonacci (n-1) + fibonacci (n-2);;"
   ]
  },
  {
   "cell_type": "markdown",
   "id": "7fb118c3",
   "metadata": {
    "slideshow": {
     "slide_type": "fragment"
    }
   },
   "source": [
    "Massimo Comune Divisore con il metodo di Euclide:"
   ]
  },
  {
   "cell_type": "code",
   "execution_count": 51,
   "id": "02fa9185",
   "metadata": {},
   "outputs": [
    {
     "data": {
      "text/plain": [
       "val mcd : int -> int -> int = <fun>\n"
      ]
     },
     "execution_count": 51,
     "metadata": {},
     "output_type": "execute_result"
    }
   ],
   "source": [
    "let rec mcd n m =\n",
    "    if m=0 then n else mcd m (n mod m);;"
   ]
  },
  {
   "cell_type": "markdown",
   "id": "d082529e",
   "metadata": {
    "slideshow": {
     "slide_type": "fragment"
    }
   },
   "source": [
    "Vedremo esempi più interessanti quanto introdurremo strutture dati e pattern matching..."
   ]
  },
  {
   "cell_type": "markdown",
   "id": "69206e6d",
   "metadata": {
    "slideshow": {
     "slide_type": "slide"
    }
   },
   "source": [
    "### Funzioni mutuamente ricorsive (con `and`)\n",
    "\n",
    "Ogni funzione può richiamare solo funzioni definite precedentemente.\n",
    "\n",
    "Funzioni *mutuamente ricorsive* vanno definite una dopo l'altra separate da `and`"
   ]
  },
  {
   "cell_type": "code",
   "execution_count": 1,
   "id": "51c8a206",
   "metadata": {},
   "outputs": [
    {
     "data": {
      "text/plain": [
       "val pari : int -> bool = <fun>\n",
       "val dispari : int -> bool = <fun>\n"
      ]
     },
     "execution_count": 1,
     "metadata": {},
     "output_type": "execute_result"
    }
   ],
   "source": [
    "let rec pari n =\n",
    "  match n with\n",
    "    | 0 -> true\n",
    "    | x -> dispari (x-1)\n",
    "    \n",
    "and dispari n =\n",
    "  match n with\n",
    "    | 0 -> false\n",
    "    | x -> pari (x-1) ;;"
   ]
  },
  {
   "cell_type": "code",
   "execution_count": 2,
   "id": "ae061eac",
   "metadata": {},
   "outputs": [
    {
     "data": {
      "text/plain": [
       "- : bool = true\n"
      ]
     },
     "execution_count": 2,
     "metadata": {},
     "output_type": "execute_result"
    },
    {
     "data": {
      "text/plain": [
       "- : bool = false\n"
      ]
     },
     "execution_count": 2,
     "metadata": {},
     "output_type": "execute_result"
    }
   ],
   "source": [
    "pari 6;;\n",
    "dispari 6;;"
   ]
  },
  {
   "cell_type": "markdown",
   "id": "e8862275",
   "metadata": {
    "slideshow": {
     "slide_type": "slide"
    }
   },
   "source": [
    "## Type Inference\n",
    "\n",
    "Abbiamo già visto che il toplevel di OCaml ci fornisce il tipo di ogni espressione che inseriamo"
   ]
  },
  {
   "cell_type": "code",
   "execution_count": 52,
   "id": "22e93513",
   "metadata": {},
   "outputs": [
    {
     "data": {
      "text/plain": [
       "val raggio : float = 5.\n"
      ]
     },
     "execution_count": 52,
     "metadata": {},
     "output_type": "execute_result"
    },
    {
     "data": {
      "text/plain": [
       "val area_cerchio : float = 78.5\n"
      ]
     },
     "execution_count": 52,
     "metadata": {},
     "output_type": "execute_result"
    },
    {
     "data": {
      "text/plain": [
       "val testo : string = \"l'area del cerchio è 78.5\"\n"
      ]
     },
     "execution_count": 52,
     "metadata": {},
     "output_type": "execute_result"
    }
   ],
   "source": [
    "let raggio = 5.;;\n",
    "let area_cerchio = raggio**2. *. 3.14 ;;\n",
    "let testo = \"l'area del cerchio è \" ^ string_of_float area_cerchio ;;"
   ]
  },
  {
   "cell_type": "markdown",
   "id": "8e2e9ddf",
   "metadata": {},
   "source": [
    "Il tipo di una espressione viene inferito analizzando:\n",
    "\n",
    "- i valori inseriti\n",
    "- gli operatori usati"
   ]
  },
  {
   "cell_type": "markdown",
   "id": "96cdea65",
   "metadata": {
    "slideshow": {
     "slide_type": "notes"
    }
   },
   "source": [
    "I valori (letterali) presenti hanno un tipo ben definito, e anche gli operatori hanno dei tipi specifici a cui possono essere applicati (ad esempio, `+` agli `int` e `+.` ai `float`). A partire da queste certezze, il compilatore di OCaml può dedurre il tipo delle variabili utilizzate nell'espressione (ad esempio, in `x+y` le variabili `x` e `y` devono necessariamente avere tipo `int` perché sono operandi di un `+`).\n",
    "\n",
    "Esaminando l'espressione partendo dai singoli valori e dalle singole variabili e facendo dei passi di deduzione che riguardano via via sottoespressioni sempre più ampie (che corrisponde a \"risalire\" l'albero di sintassi astratta dell'espressione) il compilatore procede creandosi un elenco di associazioni \"variabile -> tipo\" che si porta dietro durante l'analisi dell'espressione.\n",
    "\n",
    "Può accadere che analizzando sottoespressioni diverse il compilatore incontri due volte la stessa variabile. Quando, risalendo nell'albero di sintassi astratta, arriverà a considerare l'espressione completa, dovrà confrontare i tipi delle due istanze della stessa variabile incontrate. Se questi due tipi sono uguali (entrambi `int`) o *unificabili* (uno più generico dell'altro... vedremo più avanti) il compilatore può procedere prendendo il tipo meno generico dei due. Se invece i due tipi sono completamente diversi (come `int` e `float`) allora il compilatore dovrà segnalare un errore di tipo.\n",
    "\n",
    "Ad esempio, l'espressione `(x+1)-(x+4)` supera il controllo di tipi, perché il compilatore inferisce il tipo `int` per entrambe le istanze di `x`. Invece l'espressione `(x+1)-(x+.4.0)` non supera il controllo in quanto la prima istanza di `x` viene associata al tipo `int` mentre la seconda al tipo `float` (e anche perché il `-` viene applicato a un secondo operando di tipo `float`)."
   ]
  },
  {
   "cell_type": "markdown",
   "id": "b5f7b0a7",
   "metadata": {
    "slideshow": {
     "slide_type": "slide"
    }
   },
   "source": [
    "### Type Inference e Funzioni\n",
    "Nel caso di espressioni che definiscano (o utilizzino) funzioni, inferire il tipo è un po' più complicato, anche se l'approccio rimane lo stesso\n",
    "\n",
    "Si analizzano:\n",
    "\n",
    "- i valori inseriti \n",
    "- gli operatori usati\n",
    "- gli argomenti/valori di ritorno delle funzioni"
   ]
  },
  {
   "cell_type": "code",
   "execution_count": 53,
   "id": "a461a438",
   "metadata": {},
   "outputs": [
    {
     "data": {
      "text/plain": [
       "val f : int -> int = <fun>\n"
      ]
     },
     "execution_count": 53,
     "metadata": {},
     "output_type": "execute_result"
    }
   ],
   "source": [
    "let f x = x+1 ;;"
   ]
  },
  {
   "cell_type": "code",
   "execution_count": 80,
   "id": "1ea6cacf",
   "metadata": {},
   "outputs": [
    {
     "data": {
      "text/plain": [
       "val y : int = 11\n"
      ]
     },
     "execution_count": 80,
     "metadata": {},
     "output_type": "execute_result"
    }
   ],
   "source": [
    "let y = f 10 ;;"
   ]
  },
  {
   "cell_type": "markdown",
   "id": "55bca8f7",
   "metadata": {
    "slideshow": {
     "slide_type": "slide"
    }
   },
   "source": [
    "Vediamo un esempio un po' più articolato:"
   ]
  },
  {
   "cell_type": "code",
   "execution_count": 55,
   "id": "3dc77089",
   "metadata": {},
   "outputs": [
    {
     "data": {
      "text/plain": [
       "val sum_if_true : (int -> bool) -> int -> int -> int = <fun>\n"
      ]
     },
     "execution_count": 55,
     "metadata": {},
     "output_type": "execute_result"
    }
   ],
   "source": [
    "let sum_if_true test first second =\n",
    "    (if test first then first else 0)\n",
    "    + (if test second then second else 0);;"
   ]
  },
  {
   "cell_type": "markdown",
   "id": "b7f4a90e",
   "metadata": {
    "slideshow": {
     "slide_type": "fragment"
    }
   },
   "source": [
    "Il tipo inferito è `(int -> bool) -> int -> int -> int` poiché:\n",
    "\n",
    "- i due rami dell'`if` devono avere lo stesso tipo (quindi `first` e `second` sono `int` come `0`)\n",
    "- essendo usata nella guardia di un `if` la funzione `test` deve restituire un `bool`\n",
    "- il risultato di `+` è sempre di tipo `int`"
   ]
  },
  {
   "cell_type": "markdown",
   "id": "c951c1e2",
   "metadata": {
    "slideshow": {
     "slide_type": "notes"
    }
   },
   "source": [
    "Questa è una funzione *higher order* che prende una funzione `test` che effettua un controllo sui due parametri `first` e `second` e calcola una somma. I parametri `first` e `second` prendono parte alla somma solo se superano il controllo operato dalla funzione `test` (ossia solo se il risultato di `test` è `true`) altrimenti vengono sostituiti da `0`.\n",
    "\n",
    "Una funzione che, come `test`, restituisce `true` o `false` come risultato di un controllo svolto sui suoi parametri viene comunemente detta *predicato*. Quindi, in questo esempio possiamo dire che `test` è un predicato che effettua un controllo su `first` e `second`.\n",
    "\n",
    "Il fatto che `sum_if_true` preveda il predicato `test` come parametro fa sì che tale funzione possa essere utilizzata con predicati diversi a seconda delle necessità. Passando funzioni opportune, si potrà usare `sum_if_true` per sommare solo valori pari, oppure solo valori positivi, o altro..."
   ]
  },
  {
   "cell_type": "markdown",
   "id": "84d1b79f",
   "metadata": {
    "slideshow": {
     "slide_type": "slide"
    }
   },
   "source": [
    "Vediamo qualche esempio di uso di `sum_if_true`:"
   ]
  },
  {
   "cell_type": "code",
   "execution_count": 56,
   "id": "bf1d7993",
   "metadata": {},
   "outputs": [
    {
     "data": {
      "text/plain": [
       "- : int = 4\n"
      ]
     },
     "execution_count": 56,
     "metadata": {},
     "output_type": "execute_result"
    }
   ],
   "source": [
    "sum_if_true (fun x -> x mod 2=0) 3 4;; (* somma se pari -- mod calcola il modulo *)"
   ]
  },
  {
   "cell_type": "code",
   "execution_count": 57,
   "id": "3cb7f605",
   "metadata": {},
   "outputs": [
    {
     "data": {
      "text/plain": [
       "- : int = 3\n"
      ]
     },
     "execution_count": 57,
     "metadata": {},
     "output_type": "execute_result"
    }
   ],
   "source": [
    "sum_if_true (fun x -> x>0) 3 (-4);; (* somma se positivo *)"
   ]
  },
  {
   "cell_type": "code",
   "execution_count": 58,
   "id": "f8eec064",
   "metadata": {},
   "outputs": [
    {
     "data": {
      "text/plain": [
       "val potenza_di_due : int -> bool = <fun>\n"
      ]
     },
     "execution_count": 58,
     "metadata": {},
     "output_type": "execute_result"
    },
    {
     "data": {
      "text/plain": [
       "- : int = 4\n"
      ]
     },
     "execution_count": 58,
     "metadata": {},
     "output_type": "execute_result"
    }
   ],
   "source": [
    "let rec potenza_di_due x =\n",
    "    if x = 1 then true\n",
    "    else if x < 1 || x mod 2 = 1 then false\n",
    "         else potenza_di_due (x/2);;\n",
    "         \n",
    "sum_if_true potenza_di_due 3 4;; (* somma se potenza di due *)"
   ]
  },
  {
   "cell_type": "markdown",
   "id": "197ac66b",
   "metadata": {
    "slideshow": {
     "slide_type": "notes"
    }
   },
   "source": [
    "L'ultimo esempio, `potenza_di_due`, mostra innanzitutto che le funzioni passate come parametro non deve necessariamente essere anonime, ma possono essere qualunque funzione definibile in OCaml. Anche, come in questo caso, una funzione ricorsiva. Nell'esempio specifico, per verificare se un numero è potenza di due, lo dimezza ripetutamente andando ogni volta a vedere se è pari. Non appena si ottiene un numero dispari (`x mod 2 = 1`) o si arriva a zero, allora il numero non è una potenza di due, e si restituisce `false`. Se invece si raggiunge il valore uno sempre ottenendo numeri pari, allora il numero era una potenza di due."
   ]
  },
  {
   "cell_type": "markdown",
   "id": "ee3f6c41",
   "metadata": {
    "slideshow": {
     "slide_type": "slide"
    }
   },
   "source": [
    "### Type inference e polimorfismo\n",
    "In certi casi il tipo di una funzione non può essere identificato in modo *concreto* (ossia facendo riferimento ai tipi di base `int`,`float`,... )"
   ]
  },
  {
   "cell_type": "code",
   "execution_count": 59,
   "id": "e480d49a",
   "metadata": {},
   "outputs": [
    {
     "data": {
      "text/plain": [
       "val id : 'a -> 'a = <fun>\n"
      ]
     },
     "execution_count": 59,
     "metadata": {},
     "output_type": "execute_result"
    }
   ],
   "source": [
    "let id x = x ;; (* funzione identità *)"
   ]
  },
  {
   "cell_type": "markdown",
   "id": "909506e7",
   "metadata": {},
   "source": [
    "la funzione `id` è *polimorfa*: si può applicare ad argomenti di tipi diversi\n",
    "\n",
    "- il risultato avrà per certo lo stesso tipo dell'argomento passato (qualunque sia)\n",
    "\n",
    "Il costrutto `'a` è una *variabile di tipo*:\n",
    "\n",
    "- indica che possono essere usati valori di qualunque tipo\n",
    "- se presente più volte, i valori corrispondenti dovranno avere tutti lo stesso tipo"
   ]
  },
  {
   "cell_type": "markdown",
   "id": "9c742637",
   "metadata": {
    "slideshow": {
     "slide_type": "slide"
    }
   },
   "source": [
    "Qualche esempio d'uso:"
   ]
  },
  {
   "cell_type": "code",
   "execution_count": 60,
   "id": "6b6578c2",
   "metadata": {
    "slideshow": {
     "slide_type": "-"
    }
   },
   "outputs": [
    {
     "data": {
      "text/plain": [
       "- : int = 4\n"
      ]
     },
     "execution_count": 60,
     "metadata": {},
     "output_type": "execute_result"
    }
   ],
   "source": [
    "id 4 ;;"
   ]
  },
  {
   "cell_type": "code",
   "execution_count": 61,
   "id": "4b3dddcd",
   "metadata": {},
   "outputs": [
    {
     "data": {
      "text/plain": [
       "- : char = 'a'\n"
      ]
     },
     "execution_count": 61,
     "metadata": {},
     "output_type": "execute_result"
    }
   ],
   "source": [
    "id 'a' ;;"
   ]
  },
  {
   "cell_type": "code",
   "execution_count": 62,
   "id": "d7b3db45",
   "metadata": {},
   "outputs": [
    {
     "data": {
      "text/plain": [
       "- : string = \"ciao\"\n"
      ]
     },
     "execution_count": 62,
     "metadata": {},
     "output_type": "execute_result"
    }
   ],
   "source": [
    "id \"ciao\" ;;"
   ]
  },
  {
   "cell_type": "markdown",
   "id": "68ab6cdf",
   "metadata": {
    "slideshow": {
     "slide_type": "slide"
    }
   },
   "source": [
    "### Altro esempio di funzione polimorfa\n",
    "Restituisce il primo argomento se supera il test, altrimenti il secondo"
   ]
  },
  {
   "cell_type": "code",
   "execution_count": 63,
   "id": "404a2220",
   "metadata": {},
   "outputs": [
    {
     "data": {
      "text/plain": [
       "val first_if_true : ('a -> bool) -> 'a -> 'a -> 'a = <fun>\n"
      ]
     },
     "execution_count": 63,
     "metadata": {},
     "output_type": "execute_result"
    }
   ],
   "source": [
    "let first_if_true test first second = \n",
    "    if test first then first else second ;;"
   ]
  },
  {
   "cell_type": "markdown",
   "id": "62714b62",
   "metadata": {
    "slideshow": {
     "slide_type": "fragment"
    }
   },
   "source": [
    "Qualche esempio d'uso:"
   ]
  },
  {
   "cell_type": "code",
   "execution_count": 64,
   "id": "f49e4e34",
   "metadata": {},
   "outputs": [
    {
     "data": {
      "text/plain": [
       "- : int = 5\n"
      ]
     },
     "execution_count": 64,
     "metadata": {},
     "output_type": "execute_result"
    }
   ],
   "source": [
    "first_if_true (fun x -> x mod 2 = 0) 3 5;; (* controlla se pari *)"
   ]
  },
  {
   "cell_type": "code",
   "execution_count": 65,
   "id": "4b8aa6c0",
   "metadata": {},
   "outputs": [
    {
     "data": {
      "text/plain": [
       "val lettera : char -> bool = <fun>\n"
      ]
     },
     "execution_count": 65,
     "metadata": {},
     "output_type": "execute_result"
    },
    {
     "data": {
      "text/plain": [
       "- : char = 'e'\n"
      ]
     },
     "execution_count": 65,
     "metadata": {},
     "output_type": "execute_result"
    }
   ],
   "source": [
    "let lettera c = (c >= 'a' && c <= 'z') || (c >= 'A' && c <= 'Z') ;;\n",
    "\n",
    "first_if_true lettera 'e' '-';; (* controlla se è lettera dell'alfabeto *)"
   ]
  },
  {
   "cell_type": "markdown",
   "id": "165b34d9",
   "metadata": {
    "slideshow": {
     "slide_type": "slide"
    }
   },
   "source": [
    "### Ancora esempi di funzioni polimorfe\n",
    "Funzione `maggiore`:"
   ]
  },
  {
   "cell_type": "code",
   "execution_count": 66,
   "id": "f140bf45",
   "metadata": {},
   "outputs": [
    {
     "data": {
      "text/plain": [
       "val maggiore : 'a -> 'a -> 'a = <fun>\n"
      ]
     },
     "execution_count": 66,
     "metadata": {},
     "output_type": "execute_result"
    }
   ],
   "source": [
    "let maggiore x y =\n",
    "    if x > y then x else y ;;"
   ]
  },
  {
   "cell_type": "code",
   "execution_count": 67,
   "id": "46d28fcb",
   "metadata": {},
   "outputs": [
    {
     "data": {
      "text/plain": [
       "- : int = 6\n"
      ]
     },
     "execution_count": 67,
     "metadata": {},
     "output_type": "execute_result"
    }
   ],
   "source": [
    "maggiore 6 5 ;;"
   ]
  },
  {
   "cell_type": "code",
   "execution_count": 68,
   "id": "52c4b2dc",
   "metadata": {},
   "outputs": [
    {
     "data": {
      "text/plain": [
       "- : float = 9.4\n"
      ]
     },
     "execution_count": 68,
     "metadata": {},
     "output_type": "execute_result"
    }
   ],
   "source": [
    "maggiore 3.5 9.4"
   ]
  },
  {
   "cell_type": "code",
   "execution_count": 69,
   "id": "c888ac04",
   "metadata": {},
   "outputs": [
    {
     "data": {
      "text/plain": [
       "- : string = \"gatto\"\n"
      ]
     },
     "execution_count": 69,
     "metadata": {},
     "output_type": "execute_result"
    }
   ],
   "source": [
    "maggiore \"albero\" \"gatto\";;"
   ]
  },
  {
   "cell_type": "code",
   "execution_count": 70,
   "id": "3ec66228",
   "metadata": {},
   "outputs": [
    {
     "data": {
      "text/plain": [
       "- : bool = true\n"
      ]
     },
     "execution_count": 70,
     "metadata": {},
     "output_type": "execute_result"
    }
   ],
   "source": [
    "maggiore true false ;;"
   ]
  },
  {
   "cell_type": "markdown",
   "id": "6a4d2286",
   "metadata": {
    "slideshow": {
     "slide_type": "slide"
    }
   },
   "source": [
    "Che succede se proviamo ad applicare `maggiore` a due funzioni?"
   ]
  },
  {
   "cell_type": "code",
   "execution_count": 71,
   "id": "77d08635",
   "metadata": {
    "slideshow": {
     "slide_type": "fragment"
    }
   },
   "outputs": [
    {
     "ename": "error",
     "evalue": "runtime_error",
     "output_type": "error",
     "traceback": [
      "\u001b[31mException: Invalid_argument \"compare: functional value\".\nRaised by primitive operation at file \"[66]\", line 2, characters 7-12\nCalled from file \"toplevel/toploop.ml\", line 208, characters 17-27\n\u001b[0m"
     ]
    }
   ],
   "source": [
    "maggiore (fun x -> x) (fun x -> x+1) ;;"
   ]
  },
  {
   "cell_type": "markdown",
   "id": "0825e801",
   "metadata": {},
   "source": [
    "Viene sollevata un'*eccezione*\n",
    "\n",
    "- in generale non è possibile confrontare funzioni (è un problema *indecidibile*)\n",
    "- dal punto di vista dei tipi questo uso di maggiore è corretto; quindi questa espressione supera il controllo dei tipi a tempo di compilazione\n",
    "- un'eccezione corrisponde a una situazione anomala che si verifica *a tempo di esecuzione*"
   ]
  },
  {
   "cell_type": "markdown",
   "id": "81889e6c",
   "metadata": {
    "slideshow": {
     "slide_type": "notes"
    }
   },
   "source": [
    "Dal momento che nella funzione `maggiore` le variabili `x` e `y` non vengono mai usate se non per confrontarle fra loro con `>` (che può essere usato con qualunque tipo di valori), il loro tipo viene inferito come `'a` (ma deve essere lo stesso per entrambe). Quindi in generale la funzione `maggiore` supera il controllo dei tipi e può essere messa in esecuzione.\n",
    "\n",
    "A tempo di esecuzione, però, l'operazione di confronto `>` solleva un'eccezione quando viene usata per confrontare funzioni. Questo perché in generale **non è possibile confrontare funzioni**... Innanzitutto, non è chiaro che cosa possa significare che una funzione sia \"maggiore\" di un'altra. In secondo luogo, se anche provassimo a confrontare due funzioni per l'uguaglianza, otterremmo un'eccezione, come in questo esempio:"
   ]
  },
  {
   "cell_type": "code",
   "execution_count": 72,
   "id": "f32e4e01",
   "metadata": {
    "slideshow": {
     "slide_type": "notes"
    }
   },
   "outputs": [
    {
     "ename": "error",
     "evalue": "runtime_error",
     "output_type": "error",
     "traceback": [
      "\u001b[31mException: Invalid_argument \"compare: functional value\".\nRaised by primitive operation at unknown location\nCalled from file \"toplevel/toploop.ml\", line 208, characters 17-27\n\u001b[0m"
     ]
    }
   ],
   "source": [
    "(fun x -> x) = (fun y -> y);;"
   ]
  },
  {
   "cell_type": "markdown",
   "id": "32f01856",
   "metadata": {
    "slideshow": {
     "slide_type": "notes"
    }
   },
   "source": [
    "Questa impossibilità non è dovuta a una debolezza dell'interprete di OCaml, ma al fatto che determinare l'uguaglianza di due funzioni è un **problema indecidibile**. Dire che due funzioni sono uguali (o equivalenti) significa dire che per qualunque possibile combinazione di valori che passiamo alla prima, il risultato che otteniamo è sempre lo stesso che otterremmo passando gli stessi valori alla seconda. (In termini matematici, chiamando le due funzioni $f$ e $g$, dovrebbe valere $\\forall x.f(x)=g(x)$).\n",
    "\n",
    "È un risultato ben noto della teoria della calcolabilità, che se fosse possibile scrivere un algoritmo capace di determinare in generale se due funzioni sono equivalenti, allora sarebbe possibile sfruttarlo per risolvere il *problema della fermata*, che è il più classico tra gli esempi di problemi indecidibili."
   ]
  },
  {
   "cell_type": "markdown",
   "id": "292509d9",
   "metadata": {
    "slideshow": {
     "slide_type": "slide"
    }
   },
   "source": [
    "Usando le *annotazioni di tipo* è possibile restringere (o eliminare) il polimorfismo:"
   ]
  },
  {
   "cell_type": "code",
   "execution_count": 73,
   "id": "8f6da124",
   "metadata": {},
   "outputs": [
    {
     "data": {
      "text/plain": [
       "val maggiore : int -> int -> int = <fun>\n"
      ]
     },
     "execution_count": 73,
     "metadata": {},
     "output_type": "execute_result"
    }
   ],
   "source": [
    "let maggiore (x : int) (y : int) : int =\n",
    "    if x > y then x else y ;;"
   ]
  },
  {
   "cell_type": "markdown",
   "id": "4542dcc1",
   "metadata": {},
   "source": [
    "Così si previene che questa funzione venga usata per confrontare funzioni\n",
    "\n",
    "E se volessimo usare la funzione `maggiore` solo su valori di tipo `int` o `string`?"
   ]
  },
  {
   "cell_type": "markdown",
   "id": "f696dd9d",
   "metadata": {
    "slideshow": {
     "slide_type": "fragment"
    }
   },
   "source": [
    "Servono due funzioni distinte (con nomi diversi... *no overloading*):"
   ]
  },
  {
   "cell_type": "code",
   "execution_count": 74,
   "id": "2840e4cd",
   "metadata": {},
   "outputs": [
    {
     "data": {
      "text/plain": [
       "val maggiore_int : int -> int -> int = <fun>\n"
      ]
     },
     "execution_count": 74,
     "metadata": {},
     "output_type": "execute_result"
    },
    {
     "data": {
      "text/plain": [
       "val maggiore_string : string -> string -> string = <fun>\n"
      ]
     },
     "execution_count": 74,
     "metadata": {},
     "output_type": "execute_result"
    }
   ],
   "source": [
    "let maggiore_int (x : int) (y : int) : int =\n",
    "    if x > y then x else y ;;\n",
    "let maggiore_string (x : string) (y : string) : string =\n",
    "    if x > y then x else y ;;"
   ]
  },
  {
   "cell_type": "markdown",
   "id": "1979e58e",
   "metadata": {
    "slideshow": {
     "slide_type": "notes"
    }
   },
   "source": [
    "Le annotazioni di tipo, oltre ad essere utili in alcuni casi per rendere più comprensibile il codice, e oltre a far sì che il compilatore controlli che il tipo delle variabili e delle funzioni sia esattamente quello che ci aspettiamo, consente anche di \"restringere\" il tipo inferito per una certa variabile.\n",
    "\n",
    "In questi esempi, il compilatore inferirebbe tipo `'a` per `x` e `y`, ma con l'annotazione di tipo viene forzato a considerare un tipo più restrittivo (`int` e `string`, rispettivamente nei due casi).\n",
    "\n",
    "Le due funzioni che andiamo a definire devono avere necessariamente nomi diversi. Non è infatti possibile definire (come accade ad esempio in C# e Java) funzioni che hanno lo stesso nome e che si distinguono solo per il numero o i tipi dei loro parametri (cioè, la loro firma). Vedremo che questa possibilità, presente soprattutto nei linguaggi *object-oriented*, prende il nome di *overloading* in quanto il nome della funzione viene \"sovraccaricato\" di significati (corrisponde a più di una implementazione)."
   ]
  },
  {
   "cell_type": "markdown",
   "id": "47be3094",
   "metadata": {
    "slideshow": {
     "slide_type": "slide"
    }
   },
   "source": [
    "### Type Inference: OCaml vs TypeScript\n",
    "Il linguaggio TypeScript ha un sistema di type inference con tipi polimorfi simile a quello di OCaml\n",
    "\n",
    "Esistono tuttavia alcune differenze importanti...\n",
    "\n",
    "Innanzitutto, i tipi di base sono diversi:\n",
    "\n",
    "- In OCaml: `int`,`float`,`bool`,...\n",
    "- In TypeScript: `number`,`boolean`,`any`,`unknown`,...\n",
    "\n",
    "In generale: \n",
    "\n",
    "- OCaml necessita di inferire con precisione il tipo di ogni espressione\n",
    "- TypeScript tende a essere *più permissivo* (vedi tipi `any` e `unknown`)"
   ]
  },
  {
   "cell_type": "markdown",
   "id": "3a05fee8",
   "metadata": {
    "slideshow": {
     "slide_type": "slide"
    }
   },
   "source": [
    "Ad esempio, la funzione identità:"
   ]
  },
  {
   "cell_type": "code",
   "execution_count": 75,
   "id": "8ceee168",
   "metadata": {},
   "outputs": [
    {
     "data": {
      "text/plain": [
       "val id : 'a -> 'a = <fun>\n"
      ]
     },
     "execution_count": 75,
     "metadata": {},
     "output_type": "execute_result"
    }
   ],
   "source": [
    "let id x = x ;;"
   ]
  },
  {
   "cell_type": "markdown",
   "id": "977374fb",
   "metadata": {},
   "source": [
    "In TypeScript si può scrivere usando `any`:\n",
    "\n",
    "``` \n",
    "function id (x: any) : any {\n",
    "    return x\n",
    "}\n",
    "```\n",
    "però questo disabilita qualunque controllo di tipi sulla funzione `id`\n",
    "\n",
    "- Usando `any` il compilatore accetterebbe l'espressione `12 * id(\"hello\")`\n"
   ]
  },
  {
   "cell_type": "markdown",
   "id": "a8521091",
   "metadata": {
    "slideshow": {
     "slide_type": "notes"
    }
   },
   "source": [
    "Inoltre, la soluzione con `any` non tiene conto del fatto che il tipo del risultato è lo stesso di quello del parametro `x` (qualunque esso sia). In generale, agli occhi del compilatore di TypeScript la funzione `id` prende un parametro di qualunque tipo e restituisce un risultato di qualunque tipo (anche diverso dal precedente). In OCaml, invece, dal momento che il tipo inferito è `'a -> 'a`, il compilatore è consapevole che qualunque sia il tipo del parametro passato alla funzione, il risultato che si otterrà sarà dello stesso tipo."
   ]
  },
  {
   "cell_type": "markdown",
   "id": "c6997733",
   "metadata": {
    "slideshow": {
     "slide_type": "slide"
    }
   },
   "source": [
    "In modo migliore, in TypeScript si possono usare i *Generics*:\n",
    "\n",
    "```\n",
    "function id<T> (x: T) : T {\n",
    "    return x\n",
    "}\n",
    "```\n",
    "in questo modo il compilatore può fare gli adeguati controlli sui tipi\n",
    "\n",
    "D'altra parte:\n",
    "\n",
    "- siamo stati costretti a *scrivere esplicitamente* la variabile di tipo `T` nel codice\n",
    "- mentre OCaml è in grado di *inferire* le variabili di tipo (es. `'a`)"
   ]
  },
  {
   "cell_type": "markdown",
   "id": "c8eb2c3c",
   "metadata": {
    "slideshow": {
     "slide_type": "slide"
    }
   },
   "source": [
    "Un altro esempio: la funzione `maggiore` su `int` e `char`. In OCaml servono due funzioni diverse:"
   ]
  },
  {
   "cell_type": "code",
   "execution_count": 76,
   "id": "8a4a3d22",
   "metadata": {},
   "outputs": [
    {
     "data": {
      "text/plain": [
       "val maggiore_int : int -> int -> int = <fun>\n"
      ]
     },
     "execution_count": 76,
     "metadata": {},
     "output_type": "execute_result"
    },
    {
     "data": {
      "text/plain": [
       "val maggiore_string : string -> string -> string = <fun>\n"
      ]
     },
     "execution_count": 76,
     "metadata": {},
     "output_type": "execute_result"
    }
   ],
   "source": [
    "let maggiore_int (x : int) (y : int) : int =\n",
    "    if x > y then x else y ;;\n",
    "let maggiore_string (x : string) (y : string) : string =\n",
    "    if x > y then x else y ;;"
   ]
  },
  {
   "cell_type": "markdown",
   "id": "b9869837",
   "metadata": {},
   "source": [
    "In TypeScript possiamo scriverne una sola usando il *tipo unione* `number | string`\n",
    "\n",
    "```\n",
    "function maggiore ( x : number | string, \n",
    "                    y : number | string ) : number | string {\n",
    "    if (x>y) return x else return y\n",
    "}\n",
    "```\n",
    "ma questo introduce qualche problema..."
   ]
  },
  {
   "cell_type": "markdown",
   "id": "5f5a2be7",
   "metadata": {
    "slideshow": {
     "slide_type": "slide"
    }
   },
   "source": [
    "La funzione `maggiore` in TypeScript con il tipo unione `number | string`:\n",
    "\n",
    "- può essere applicata ad un numero e una stringa: \n",
    "    - `maggiore(3,\"hello\")`\n",
    "- anche conoscendo gli argomenti passati alla funzione, il compilatore non può predire esattamente il tipo del risultato: \n",
    "    - `maggiore(2,4)/2` causa un errore di tipo a tempo di compilazione"
   ]
  },
  {
   "cell_type": "markdown",
   "id": "b00b800c",
   "metadata": {
    "slideshow": {
     "slide_type": "fragment"
    }
   },
   "source": [
    "Tutto sommato forse è meglio fare due funzioni diverse..."
   ]
  },
  {
   "cell_type": "markdown",
   "id": "2e020bbe",
   "metadata": {
    "slideshow": {
     "slide_type": "notes"
    }
   },
   "source": [
    "Vedremo che anche OCaml prevede dei tipi unione, ma con un funzionamento diverso (e dei vincoli sintattici più forti) rispetto a quelli di TypeScript. "
   ]
  },
  {
   "cell_type": "markdown",
   "id": "fd896a93",
   "metadata": {
    "slideshow": {
     "slide_type": "slide"
    }
   },
   "source": [
    "### OCaml vs TypeScript: morale della favola\n",
    "\n",
    "OCaml è più *rigoroso*: \n",
    "\n",
    "- il suo sistema di tipi è concepito per poter determinare precisamente il tipo (anche polimorfo) di ogni espressione\n",
    "- a tal fine non prevede cose come le conversioni di tipo implicite o tipi \"ambigui\" (come `any` o `number | string`), che semplificano la vita, ma possono indurre a errori di programmazione difficili da scovare\n",
    "\n",
    "TypeScript, d'altra parte, cerca *compromessi*:\n",
    "\n",
    "- per non introdurre troppe limitazioni rispetto a JavaScript, concede un po' di libertà al programmatore\n",
    "- questo semplifica la programmazione, ma apre alla possibilità che il programmatore poco attento commetta qualche errore evitabile"
   ]
  },
  {
   "cell_type": "markdown",
   "id": "8ef6f734",
   "metadata": {
    "slideshow": {
     "slide_type": "notes"
    }
   },
   "source": [
    "Da questa discussione NON si vuole trarre la conclusione che il sistema di tipi di uno dei due linguaggi sia migliore rispetto a quello dell'altro. OCaml e TypeScript sono linguaggi concepiti con obiettivi profondamente diversi, ed ognuno fa un uso dei tipi appropriato per i propri scopi."
   ]
  }
 ],
 "metadata": {
  "celltoolbar": "Slideshow",
  "kernelspec": {
   "display_name": "OCaml default",
   "language": "OCaml",
   "name": "ocaml-jupyter"
  },
  "language_info": {
   "codemirror_mode": "text/x-ocaml",
   "file_extension": ".ml",
   "mimetype": "text/x-ocaml",
   "name": "OCaml",
   "nbconverter_exporter": null,
   "pygments_lexer": "OCaml",
   "version": "4.08.1"
  },
  "rise": {
   "enable_chalkboard": true,
   "scroll": true
  }
 },
 "nbformat": 4,
 "nbformat_minor": 5
}
