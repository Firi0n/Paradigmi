{
 "cells": [
  {
   "cell_type": "markdown",
   "id": "e9240ba0",
   "metadata": {
    "slideshow": {
     "slide_type": "slide"
    }
   },
   "source": [
    "# Programmazione imperativa in OCaml (cenni)"
   ]
  },
  {
   "cell_type": "markdown",
   "id": "a9235800",
   "metadata": {
    "slideshow": {
     "slide_type": "slide"
    }
   },
   "source": [
    "## Introduzione\n",
    "\n",
    "Fino ad ora abbiamo scritto codice secondo il paradigma funzionale: \n",
    "\n",
    "Abbiamo principalmente definito *funzioni pure*\n",
    "\n",
    "- Calcolano il risultato sulla base dei propri parametri e delle variabili disponibili nella chiusura\n",
    "\n",
    "e variabili/strutture dati *immutabili*\n",
    "\n",
    "- Non è possibile modificarle assegnando nuovi valori"
   ]
  },
  {
   "cell_type": "markdown",
   "id": "621f47f4",
   "metadata": {
    "slideshow": {
     "slide_type": "slide"
    }
   },
   "source": [
    "Nella *programmazione imperativa* invece:\n",
    "\n",
    "* le variabili sono *mutabili* (si possono assegnare a piacimento)\n",
    "* le funzioni causano *side effect* (possono modificare l'ambiente globale)\n",
    "\n",
    "Esempi di side effects:\n",
    "\n",
    "* lettura/assegnamento di una variabile globale (o non locale)\n",
    "* stampa di un messaggio di output / lettura di un input\n",
    "* sollevamento di una eccezione \n",
    "\n",
    "Tutto questo rende le funzioni *impure*\n",
    "\n",
    "* il loro effetto non è più solo calcolare un risultato\n",
    "* il risultato può essere influenzato da fattori esterni (variabili globali/input/...)\n"
   ]
  },
  {
   "cell_type": "markdown",
   "id": "53122634",
   "metadata": {
    "slideshow": {
     "slide_type": "slide"
    }
   },
   "source": [
    "OCaml è concepito principalmente per la programmazione funzionale...\n",
    "\n",
    "* ... ma include anche tutti i *costrutti imperativi* principali\n",
    "\n",
    "Ne accenneremo brevemente alcuni:\n",
    "\n",
    "* *array* e *record mutabili*\n",
    "* *riferimenti*\n",
    "* *cicli*\n",
    "* *eccezioni*\n",
    "\n",
    "Inoltre, OCaml prevede la possibilità di definire *classi e oggetti* in pieno stile object-oriented\n",
    "\n",
    "* questo per il momento non lo vediamo"
   ]
  },
  {
   "cell_type": "markdown",
   "id": "3c990e42",
   "metadata": {
    "slideshow": {
     "slide_type": "slide"
    }
   },
   "source": [
    "## Array\n",
    "\n",
    "Gli array in OCaml:\n",
    "\n",
    "- contengono tutti elementi dello stesso tipo\n",
    "- hanno dimensione fissata al momento della creazione (come in C, Java, ...)\n",
    "- possono essere acceduti tramite indici numerici (non sono associativi)\n",
    "\n",
    "Definizione di un nuovo array:\n",
    "   \n",
    "- letterale (elencandone gli elementi tra `[|` e `|]`"
   ]
  },
  {
   "cell_type": "code",
   "execution_count": 1,
   "id": "30e5e430",
   "metadata": {},
   "outputs": [
    {
     "data": {
      "text/plain": [
       "val a : int array = [|3; 5; 2|]\n"
      ]
     },
     "execution_count": 1,
     "metadata": {},
     "output_type": "execute_result"
    }
   ],
   "source": [
    "let a = [|3;5;2|] ;;"
   ]
  },
  {
   "cell_type": "markdown",
   "id": "e0ddb966",
   "metadata": {},
   "source": [
    "- tramite `Array.make` (con parametri la dimensione e il valore iniziale)"
   ]
  },
  {
   "cell_type": "code",
   "execution_count": 2,
   "id": "df7f66a2",
   "metadata": {},
   "outputs": [
    {
     "data": {
      "text/plain": [
       "- : int array = [|0; 0; 0; 0; 0; 0; 0; 0; 0; 0|]\n"
      ]
     },
     "execution_count": 2,
     "metadata": {},
     "output_type": "execute_result"
    }
   ],
   "source": [
    "Array.make 10 0;;"
   ]
  },
  {
   "cell_type": "markdown",
   "id": "09bb48fb",
   "metadata": {
    "slideshow": {
     "slide_type": "slide"
    }
   },
   "source": [
    "La lunghezza di un array può essere ottenuta tramite `Array.length`"
   ]
  },
  {
   "cell_type": "code",
   "execution_count": 3,
   "id": "bce8dc2b",
   "metadata": {},
   "outputs": [
    {
     "data": {
      "text/plain": [
       "val n : int = 3\n"
      ]
     },
     "execution_count": 3,
     "metadata": {},
     "output_type": "execute_result"
    }
   ],
   "source": [
    "let n = Array.length a;;"
   ]
  },
  {
   "cell_type": "markdown",
   "id": "75f19b87",
   "metadata": {
    "slideshow": {
     "slide_type": "fragment"
    }
   },
   "source": [
    "Accedere agli elementi di un array (con indici in `0,...,(n-1)`):\n",
    "\n",
    "- in lettura, con la sintassi `.(i)`"
   ]
  },
  {
   "cell_type": "code",
   "execution_count": 4,
   "id": "fe3ea7ed",
   "metadata": {},
   "outputs": [
    {
     "data": {
      "text/plain": [
       "val e : int = 5\n"
      ]
     },
     "execution_count": 4,
     "metadata": {},
     "output_type": "execute_result"
    }
   ],
   "source": [
    "let e = a.(1) ;;"
   ]
  },
  {
   "cell_type": "markdown",
   "id": "9a28b157",
   "metadata": {},
   "source": [
    "- in scrittura, con la sintassi `<-`"
   ]
  },
  {
   "cell_type": "code",
   "execution_count": 5,
   "id": "f1b92656",
   "metadata": {},
   "outputs": [
    {
     "data": {
      "text/plain": [
       "- : unit = ()\n"
      ]
     },
     "execution_count": 5,
     "metadata": {},
     "output_type": "execute_result"
    },
    {
     "data": {
      "text/plain": [
       "- : int array = [|3; 6; 2|]\n"
      ]
     },
     "execution_count": 5,
     "metadata": {},
     "output_type": "execute_result"
    }
   ],
   "source": [
    "a.(1) <- 6 ;;\n",
    "a;;"
   ]
  },
  {
   "cell_type": "markdown",
   "id": "d1012e78",
   "metadata": {
    "slideshow": {
     "slide_type": "slide"
    }
   },
   "source": [
    "### Un commento su `<-`\n",
    "\n",
    "Il costrutto `<-` è un *COMANDO di ASSEGNAMENTO*\n",
    "\n",
    "- è la prima volta che *modifichiamo* qualcosa!\n",
    "\n",
    "Non è l'unico costrutto di assegnamento\n",
    "\n",
    "- ne vedremo altri con sintassi diversa\n",
    "\n",
    "Il *tipo dei comandi* in OCaml è `unit`\n",
    "\n",
    "- in realtà non sono comandi, ma *espressioni con side effect*\n",
    "- simile a `void` in altri linguaggi di programmazione\n",
    "- descrive le cose che non possono essere valutate a valori\n",
    "- l'unico valore del tipo `unit` è `()`\n"
   ]
  },
  {
   "cell_type": "markdown",
   "id": "2b1cce66",
   "metadata": {
    "slideshow": {
     "slide_type": "slide"
    }
   },
   "source": [
    "## Record mutabili\n",
    "\n",
    "È possibile rendere mutabili uno o più campi tramite il modificatore `mutable`"
   ]
  },
  {
   "cell_type": "code",
   "execution_count": 6,
   "id": "995aae79",
   "metadata": {},
   "outputs": [
    {
     "data": {
      "text/plain": [
       "type persona = { nome : string; cognome : string; mutable eta : int; }\n"
      ]
     },
     "execution_count": 6,
     "metadata": {},
     "output_type": "execute_result"
    }
   ],
   "source": [
    "type persona = \n",
    "{\n",
    "    nome: string;\n",
    "    cognome: string;\n",
    "    mutable eta: int;\n",
    "}"
   ]
  },
  {
   "cell_type": "code",
   "execution_count": 7,
   "id": "ca0bf615",
   "metadata": {},
   "outputs": [
    {
     "data": {
      "text/plain": [
       "val mario : persona = {nome = \"mario\"; cognome = \"rossi\"; eta = 30}\n"
      ]
     },
     "execution_count": 7,
     "metadata": {},
     "output_type": "execute_result"
    }
   ],
   "source": [
    "let mario = {nome=\"mario\"; cognome=\"rossi\"; eta=30 } ;;"
   ]
  },
  {
   "cell_type": "markdown",
   "id": "76431165",
   "metadata": {
    "slideshow": {
     "slide_type": "slide"
    }
   },
   "source": [
    "Anche in questo caso per l'assegnamento si usa `<-`"
   ]
  },
  {
   "cell_type": "code",
   "execution_count": 8,
   "id": "be5cd8ae",
   "metadata": {
    "slideshow": {
     "slide_type": "-"
    }
   },
   "outputs": [
    {
     "data": {
      "text/plain": [
       "- : unit = ()\n"
      ]
     },
     "execution_count": 8,
     "metadata": {},
     "output_type": "execute_result"
    },
    {
     "data": {
      "text/plain": [
       "- : persona = {nome = \"mario\"; cognome = \"rossi\"; eta = 31}\n"
      ]
     },
     "execution_count": 8,
     "metadata": {},
     "output_type": "execute_result"
    }
   ],
   "source": [
    "mario.eta <- 31 ;;\n",
    "mario ;;"
   ]
  },
  {
   "cell_type": "code",
   "execution_count": 9,
   "id": "4c474331",
   "metadata": {
    "slideshow": {
     "slide_type": "fragment"
    }
   },
   "outputs": [
    {
     "data": {
      "text/plain": [
       "val invecchia : persona -> unit = <fun>\n"
      ]
     },
     "execution_count": 9,
     "metadata": {},
     "output_type": "execute_result"
    },
    {
     "data": {
      "text/plain": [
       "- : unit = ()\n"
      ]
     },
     "execution_count": 9,
     "metadata": {},
     "output_type": "execute_result"
    },
    {
     "data": {
      "text/plain": [
       "- : persona = {nome = \"mario\"; cognome = \"rossi\"; eta = 32}\n"
      ]
     },
     "execution_count": 9,
     "metadata": {},
     "output_type": "execute_result"
    }
   ],
   "source": [
    "let invecchia p =\n",
    "    p.eta <- p.eta + 1;;\n",
    "    \n",
    "invecchia mario;;\n",
    "mario ;;"
   ]
  },
  {
   "cell_type": "markdown",
   "id": "c881e889",
   "metadata": {
    "slideshow": {
     "slide_type": "slide"
    }
   },
   "source": [
    "## Riferimenti (refs)\n",
    "\n",
    "Oltre ad array e record mutabili, è possibile definire anche singole variabili mutabili usando il tipo `ref`\n",
    "\n",
    "Ad esempio:"
   ]
  },
  {
   "cell_type": "code",
   "execution_count": 10,
   "id": "6bfdbd4c",
   "metadata": {},
   "outputs": [
    {
     "data": {
      "text/plain": [
       "val x : int ref = {contents = 12}\n"
      ]
     },
     "execution_count": 10,
     "metadata": {},
     "output_type": "execute_result"
    }
   ],
   "source": [
    "let x = ref 12 ;;"
   ]
  },
  {
   "cell_type": "markdown",
   "id": "e54c18b8",
   "metadata": {},
   "source": [
    "Si definisce la variabile `x` che contiene un *riferimento*\n",
    "\n",
    "* il riferimento punta a un record con un solo campo mutabile `contents` inizializzato con il valore passato"
   ]
  },
  {
   "cell_type": "markdown",
   "id": "32e71297",
   "metadata": {
    "slideshow": {
     "slide_type": "slide"
    }
   },
   "source": [
    "È possibile accedere alla variabile `ref` come record"
   ]
  },
  {
   "cell_type": "code",
   "execution_count": 11,
   "id": "3e1f7dec",
   "metadata": {},
   "outputs": [
    {
     "data": {
      "text/plain": [
       "- : int = 12\n"
      ]
     },
     "execution_count": 11,
     "metadata": {},
     "output_type": "execute_result"
    },
    {
     "data": {
      "text/plain": [
       "- : unit = ()\n"
      ]
     },
     "execution_count": 11,
     "metadata": {},
     "output_type": "execute_result"
    }
   ],
   "source": [
    "x.contents ;;\n",
    "x.contents <- 13;;"
   ]
  },
  {
   "cell_type": "markdown",
   "id": "6b463d79",
   "metadata": {
    "slideshow": {
     "slide_type": "fragment"
    }
   },
   "source": [
    "Ma in realtà c'è una *sintassi specifica*, più semplice:"
   ]
  },
  {
   "cell_type": "code",
   "execution_count": 12,
   "id": "0af3e796",
   "metadata": {},
   "outputs": [
    {
     "data": {
      "text/plain": [
       "- : int = 13\n"
      ]
     },
     "execution_count": 12,
     "metadata": {},
     "output_type": "execute_result"
    },
    {
     "data": {
      "text/plain": [
       "- : unit = ()\n"
      ]
     },
     "execution_count": 12,
     "metadata": {},
     "output_type": "execute_result"
    }
   ],
   "source": [
    "!x ;;            (* corrisponde a x.contents *)\n",
    "x := 14 ;;       (* corrisponde a x.contents <- 14 *)"
   ]
  },
  {
   "cell_type": "markdown",
   "id": "523bba77",
   "metadata": {
    "slideshow": {
     "slide_type": "fragment"
    }
   },
   "source": [
    "L'operazione `!` è detta *dereferenziazione*"
   ]
  },
  {
   "cell_type": "markdown",
   "id": "a18c8de2",
   "metadata": {
    "slideshow": {
     "slide_type": "slide"
    }
   },
   "source": [
    "Con `ref` si creano effettivamente dei riferimenti\n",
    "\n",
    "* dei puntatori ad aree di memoria\n",
    "\n",
    "Copiando il riferimento in una nuova variabile, entrambe le variabili punteranno alla stessa area di memoria"
   ]
  },
  {
   "cell_type": "code",
   "execution_count": 13,
   "id": "165bd0ea",
   "metadata": {
    "slideshow": {
     "slide_type": "-"
    }
   },
   "outputs": [
    {
     "data": {
      "text/plain": [
       "val x : int ref = {contents = 0}\n"
      ]
     },
     "execution_count": 13,
     "metadata": {},
     "output_type": "execute_result"
    },
    {
     "data": {
      "text/plain": [
       "val y : int ref = {contents = 0}\n"
      ]
     },
     "execution_count": 13,
     "metadata": {},
     "output_type": "execute_result"
    },
    {
     "data": {
      "text/plain": [
       "- : unit = ()\n"
      ]
     },
     "execution_count": 13,
     "metadata": {},
     "output_type": "execute_result"
    },
    {
     "data": {
      "text/plain": [
       "- : int = 100\n"
      ]
     },
     "execution_count": 13,
     "metadata": {},
     "output_type": "execute_result"
    }
   ],
   "source": [
    "let x = ref 0;;\n",
    "let y = x;;\n",
    "y:=100;;\n",
    "!x;;"
   ]
  },
  {
   "cell_type": "markdown",
   "id": "aafb8626",
   "metadata": {},
   "source": [
    "Modificando `y` anche `x` risulta modificata"
   ]
  },
  {
   "cell_type": "markdown",
   "id": "18f38eee",
   "metadata": {
    "slideshow": {
     "slide_type": "slide"
    }
   },
   "source": [
    "## Sequenze di comandi e cicli\n",
    "\n",
    "Una sequenza di comandi/espressioni può essere definita tramite il separatore `;`"
   ]
  },
  {
   "cell_type": "code",
   "execution_count": 14,
   "id": "20ff94fa",
   "metadata": {},
   "outputs": [
    {
     "data": {
      "text/plain": [
       "val x : int ref = {contents = 0}\n"
      ]
     },
     "execution_count": 14,
     "metadata": {},
     "output_type": "execute_result"
    },
    {
     "data": {
      "text/plain": [
       "val y : int ref = {contents = 0}\n"
      ]
     },
     "execution_count": 14,
     "metadata": {},
     "output_type": "execute_result"
    },
    {
     "data": {
      "text/plain": [
       "- : int * int = (2, 2)\n"
      ]
     },
     "execution_count": 14,
     "metadata": {},
     "output_type": "execute_result"
    }
   ],
   "source": [
    "let x = ref 0;;\n",
    "let y = x;;\n",
    "x := !x+1 ; y := !y+1 ; (!x,!y) ;; (* sequenza di espressioni *)"
   ]
  },
  {
   "cell_type": "markdown",
   "id": "7564921b",
   "metadata": {},
   "source": [
    "Le espressioni vengono valutate una dopo l'altra e l'ultima fornisce il risultato finale"
   ]
  },
  {
   "cell_type": "markdown",
   "id": "4a28fed5",
   "metadata": {
    "slideshow": {
     "slide_type": "slide"
    }
   },
   "source": [
    "In una sequenza di espressioni `E1 ; E2 ; .... ; En`:\n",
    "\n",
    "- tutte le espressioni precedenti all'ultima devono (dovrebbero...) avere tipo `unit`\n",
    "- le espressioni `E1 ; E2 ; .... ; E(n-1)` causano solo side effects (ad esempio, modificando le strutture dati mutabili)\n",
    "- l'espressione `En` calcola il risultato vero e proprio"
   ]
  },
  {
   "cell_type": "code",
   "execution_count": 15,
   "id": "0096cf94",
   "metadata": {},
   "outputs": [
    {
     "data": {
      "text/plain": [
       "- : int * int = (4, 4)\n"
      ]
     },
     "execution_count": 15,
     "metadata": {},
     "output_type": "execute_result"
    }
   ],
   "source": [
    "x := !x+1 ; y := !y+1 ; (!x,!y) ;;"
   ]
  },
  {
   "cell_type": "code",
   "execution_count": 16,
   "id": "ec87e229",
   "metadata": {
    "slideshow": {
     "slide_type": "fragment"
    }
   },
   "outputs": [
    {
     "name": "stderr",
     "output_type": "stream",
     "text": [
      "File \"[16]\", line 1, characters 0-3:\n",
      "1 | 4+3 ; 5+2 ;;\n",
      "    ^^^\n",
      "Warning 10: this expression should have type unit.\n",
      "File \"[16]\", line 1, characters 0-3:\n",
      "1 | 4+3 ; 5+2 ;;\n",
      "    ^^^\n",
      "Warning 10: this expression should have type unit.\n"
     ]
    },
    {
     "data": {
      "text/plain": [
       "- : int = 7\n"
      ]
     },
     "execution_count": 16,
     "metadata": {},
     "output_type": "execute_result"
    }
   ],
   "source": [
    "4+3 ; 5+2 ;;"
   ]
  },
  {
   "cell_type": "markdown",
   "id": "29f0cbcd",
   "metadata": {
    "slideshow": {
     "slide_type": "slide"
    }
   },
   "source": [
    "Sfruttando la funzione `print_endline` che stampa una stringa sulla console, il sequenziamento `;` può essere utile per stampare *messaggi di debug*"
   ]
  },
  {
   "cell_type": "code",
   "execution_count": 17,
   "id": "0de6417e",
   "metadata": {
    "cell_style": "split"
   },
   "outputs": [
    {
     "data": {
      "text/plain": [
       "val abs : int -> int = <fun>\n"
      ]
     },
     "execution_count": 17,
     "metadata": {},
     "output_type": "execute_result"
    },
    {
     "name": "stdout",
     "output_type": "stream",
     "text": [
      "ramo ELSE\n"
     ]
    },
    {
     "data": {
      "text/plain": [
       "- : int = 5\n"
      ]
     },
     "execution_count": 17,
     "metadata": {},
     "output_type": "execute_result"
    }
   ],
   "source": [
    "let abs x =\n",
    "    if x>0 then (\n",
    "        print_endline \"ramo THEN\" ;\n",
    "        x\n",
    "    )\n",
    "    else (\n",
    "        print_endline \"ramo ELSE\" ;\n",
    "        -x\n",
    "    );;\n",
    "\n",
    "abs (-5) ;;"
   ]
  },
  {
   "cell_type": "code",
   "execution_count": 18,
   "id": "8e3650e4",
   "metadata": {
    "cell_style": "split"
   },
   "outputs": [
    {
     "data": {
      "text/plain": [
       "val abs : int -> int = <fun>\n"
      ]
     },
     "execution_count": 18,
     "metadata": {},
     "output_type": "execute_result"
    },
    {
     "name": "stdout",
     "output_type": "stream",
     "text": [
      "ramo ELSE\n"
     ]
    },
    {
     "data": {
      "text/plain": [
       "- : int = 5\n"
      ]
     },
     "execution_count": 18,
     "metadata": {},
     "output_type": "execute_result"
    }
   ],
   "source": [
    "let abs x =\n",
    "    if x>0 then begin\n",
    "        print_endline \"ramo THEN\" ;\n",
    "        x\n",
    "    end\n",
    "    else begin\n",
    "        print_endline \"ramo ELSE\" ;\n",
    "        -x\n",
    "    end;;\n",
    "\n",
    "abs (-5) ;;"
   ]
  },
  {
   "cell_type": "markdown",
   "id": "e4d67a55",
   "metadata": {
    "slideshow": {
     "slide_type": "-"
    }
   },
   "source": [
    "**NOTA**: le parentesi tonde e `begin...end` sono modi alternativi per creare un \"blocco\""
   ]
  },
  {
   "cell_type": "markdown",
   "id": "ac7ae7b2",
   "metadata": {
    "slideshow": {
     "slide_type": "slide"
    }
   },
   "source": [
    "### NOTA: `;` vs `in`\n",
    "\n",
    "Viene la tentazione di usare `;` per separare dichiarazioni di variabili dal loro uso..."
   ]
  },
  {
   "cell_type": "code",
   "execution_count": 46,
   "id": "badc64b0",
   "metadata": {
    "slideshow": {
     "slide_type": "-"
    }
   },
   "outputs": [
    {
     "data": {
      "text/plain": [
       "val f : int -> int = <fun>\n"
      ]
     },
     "execution_count": 46,
     "metadata": {},
     "output_type": "execute_result"
    },
    {
     "name": "stderr",
     "output_type": "stream",
     "text": [
      "File \"[46]\", line 2, characters 8-10:\n",
      "2 | let m = 10 ; f(m) ;;\n",
      "            ^^\n",
      "Warning 10: this expression should have type unit.\n"
     ]
    },
    {
     "ename": "error",
     "evalue": "compile_error",
     "output_type": "error",
     "traceback": [
      "File \"[46]\", line 2, characters 15-16:\n2 | let m = 10 ; f(m) ;;\n                   ^\nError: Unbound value m\n"
     ]
    }
   ],
   "source": [
    "let f n = n+1 ;; (* funzione giocattolo, giusto per l'esempio *)\n",
    "let m = 10 ; f(m) ;;"
   ]
  },
  {
   "cell_type": "markdown",
   "id": "5daaa272",
   "metadata": {
    "slideshow": {
     "slide_type": "fragment"
    }
   },
   "source": [
    "invece bisogna usare `in`"
   ]
  },
  {
   "cell_type": "code",
   "execution_count": 20,
   "id": "e8711202",
   "metadata": {},
   "outputs": [
    {
     "data": {
      "text/plain": [
       "- : int = 11\n"
      ]
     },
     "execution_count": 20,
     "metadata": {},
     "output_type": "execute_result"
    }
   ],
   "source": [
    "let m = 10 in f(m) ;;"
   ]
  },
  {
   "cell_type": "markdown",
   "id": "c0a167bd",
   "metadata": {
    "slideshow": {
     "slide_type": "slide"
    }
   },
   "source": [
    "### Cicli `for`\n",
    "\n",
    "La sintassi del comando `for` è la seguente:\n",
    "\n",
    "```\n",
    "for <variable> = <start> to <end> do\n",
    "  ...\n",
    "done\n",
    "```\n",
    "\n",
    "oppure \n",
    "\n",
    "```\n",
    "for <variable> = <start> downto <end> do\n",
    "  ...\n",
    "done\n",
    "```\n",
    "\n",
    "dove `<start>` e `<end>` sono valori interi entro cui far variare la `<variabile>`"
   ]
  },
  {
   "cell_type": "markdown",
   "id": "39cfc0e8",
   "metadata": {
    "slideshow": {
     "slide_type": "slide"
    }
   },
   "source": [
    "Esempio giocattolo:"
   ]
  },
  {
   "cell_type": "code",
   "execution_count": 21,
   "id": "fe079a13",
   "metadata": {},
   "outputs": [
    {
     "name": "stdout",
     "output_type": "stream",
     "text": [
      "1\n",
      "2\n",
      "3\n",
      "4\n",
      "5\n",
      "6\n",
      "7\n",
      "8\n",
      "9\n",
      "10\n"
     ]
    },
    {
     "data": {
      "text/plain": [
       "- : unit = ()\n"
      ]
     },
     "execution_count": 21,
     "metadata": {},
     "output_type": "execute_result"
    }
   ],
   "source": [
    "for i = 1 to 10 do\n",
    "    print_endline (string_of_int i)\n",
    "done ;;"
   ]
  },
  {
   "cell_type": "markdown",
   "id": "feb5f1ed",
   "metadata": {
    "slideshow": {
     "slide_type": "slide"
    }
   },
   "source": [
    "Esempio: media dei valori di un array"
   ]
  },
  {
   "cell_type": "code",
   "execution_count": 22,
   "id": "7305f8b2",
   "metadata": {
    "slideshow": {
     "slide_type": "-"
    }
   },
   "outputs": [
    {
     "data": {
      "text/plain": [
       "val media : int array -> int = <fun>\n"
      ]
     },
     "execution_count": 22,
     "metadata": {},
     "output_type": "execute_result"
    },
    {
     "data": {
      "text/plain": [
       "- : int = 6\n"
      ]
     },
     "execution_count": 22,
     "metadata": {},
     "output_type": "execute_result"
    }
   ],
   "source": [
    "let media arr =\n",
    "    let s = ref 0 in\n",
    "    for i = 0 to (Array.length arr)-1 do\n",
    "        s := !s + arr.(i)\n",
    "    done ;\n",
    "    !s / Array.length arr ;;\n",
    "    \n",
    "media [|4;6;8|] ;;"
   ]
  },
  {
   "cell_type": "markdown",
   "id": "febc9974",
   "metadata": {
    "slideshow": {
     "slide_type": "slide"
    }
   },
   "source": [
    "### Cicli `while`\n",
    "\n",
    "La sintassi del comando `while` è la seguente:\n",
    "\n",
    "```\n",
    "while <condizione> do\n",
    "  ...\n",
    "done\n",
    "```\n",
    "\n",
    "dove `<condizione>` è una espressione di tipo `boolean`"
   ]
  },
  {
   "cell_type": "code",
   "execution_count": 23,
   "id": "0e74afa4",
   "metadata": {
    "slideshow": {
     "slide_type": "fragment"
    }
   },
   "outputs": [
    {
     "name": "stdout",
     "output_type": "stream",
     "text": [
      "10\n",
      "5\n",
      "2\n",
      "1\n"
     ]
    },
    {
     "data": {
      "text/plain": [
       "- : unit = ()\n"
      ]
     },
     "execution_count": 23,
     "metadata": {},
     "output_type": "execute_result"
    }
   ],
   "source": [
    "let x=ref 10 in\n",
    "while !x>0 do\n",
    "    print_endline (string_of_int !x) ;\n",
    "    x := !x/2\n",
    "done"
   ]
  },
  {
   "cell_type": "markdown",
   "id": "4aa62cca",
   "metadata": {
    "slideshow": {
     "slide_type": "slide"
    }
   },
   "source": [
    "Esempio: restituisce la posizione del primo valore negativo in un array, se presente"
   ]
  },
  {
   "cell_type": "code",
   "execution_count": 24,
   "id": "e78207c0",
   "metadata": {},
   "outputs": [
    {
     "data": {
      "text/plain": [
       "val primo_negativo : int array -> int option = <fun>\n"
      ]
     },
     "execution_count": 24,
     "metadata": {},
     "output_type": "execute_result"
    },
    {
     "data": {
      "text/plain": [
       "- : int option = Some 2\n"
      ]
     },
     "execution_count": 24,
     "metadata": {},
     "output_type": "execute_result"
    }
   ],
   "source": [
    "let primo_negativo arr =\n",
    "    let pos = ref 0 in\n",
    "    let trovato = ref false in \n",
    "    while !pos < Array.length arr && not !trovato do\n",
    "        if arr.(!pos)<0 \n",
    "            then trovato := true\n",
    "            else pos := !pos + 1\n",
    "    done;\n",
    "    if (!trovato) \n",
    "        then Some !pos\n",
    "        else None ;;\n",
    "    \n",
    "primo_negativo [| 3; 4; -1; 6; -3; -6 |] ;;"
   ]
  },
  {
   "cell_type": "markdown",
   "id": "21334515",
   "metadata": {
    "slideshow": {
     "slide_type": "slide"
    }
   },
   "source": [
    "### Commenti sui cicli...\n",
    "\n",
    "OCaml *non incoraggia* l'uso dei cicli:\n",
    "\n",
    "- la sintassi non è molto *friendly*\n",
    "- non è possibile interromperli brutalmente (non esiste `break` o `return`)\n",
    "- il `for` non è flessibile sull'uso degli indici (no incremento di 2 per volta)\n",
    "\n",
    "D'altra parte *incoraggia* fortemente l'uso di un approccio funzionale\n",
    "\n",
    "- ottimizzazione delle funzioni *tail-recursive*\n",
    "- funzioni `iter`, `for_all`,`exists`,`map`,`filter`,`fold_right`,`fold_left` in `List` e `Array` per \"ciclare\" su liste e array\n"
   ]
  },
  {
   "cell_type": "markdown",
   "id": "a2283cfe",
   "metadata": {
    "slideshow": {
     "slide_type": "slide"
    }
   },
   "source": [
    "## Eccezioni\n",
    "\n",
    "Le eccezioni sono un modo usato in molti linguaggi di programmazione per gestire le situazioni anomale e di errore nei programmi"
   ]
  },
  {
   "cell_type": "code",
   "execution_count": 25,
   "id": "24b1d2ee",
   "metadata": {},
   "outputs": [
    {
     "ename": "error",
     "evalue": "runtime_error",
     "output_type": "error",
     "traceback": [
      "\u001b[31mException: Division_by_zero.\nRaised by primitive operation at unknown location\nCalled from file \"toplevel/toploop.ml\", line 208, characters 17-27\n\u001b[0m"
     ]
    }
   ],
   "source": [
    "3 / 0 ;;"
   ]
  },
  {
   "cell_type": "markdown",
   "id": "66653165",
   "metadata": {
    "slideshow": {
     "slide_type": "fragment"
    }
   },
   "source": [
    "Esistono vari tipi di eccezioni predefinite (ad es. `Division_by_zero`) e si possono  definire le proprie\n",
    "* specificando un costruttore e, facoltativamente, un tipo (come nei tipi variant)"
   ]
  },
  {
   "cell_type": "code",
   "execution_count": 26,
   "id": "ef3c020e",
   "metadata": {},
   "outputs": [
    {
     "data": {
      "text/plain": [
       "exception Lista_vuota\n"
      ]
     },
     "execution_count": 26,
     "metadata": {},
     "output_type": "execute_result"
    },
    {
     "data": {
      "text/plain": [
       "exception Stringa_errata of string\n"
      ]
     },
     "execution_count": 26,
     "metadata": {},
     "output_type": "execute_result"
    }
   ],
   "source": [
    "exception Lista_vuota ;;\n",
    "exception Stringa_errata of string ;;"
   ]
  },
  {
   "cell_type": "markdown",
   "id": "c6567a88",
   "metadata": {
    "slideshow": {
     "slide_type": "slide"
    }
   },
   "source": [
    "Le eccezioni si sollevano con `raise`..."
   ]
  },
  {
   "cell_type": "code",
   "execution_count": 27,
   "id": "7c24528f",
   "metadata": {},
   "outputs": [
    {
     "ename": "error",
     "evalue": "runtime_error",
     "output_type": "error",
     "traceback": [
      "\u001b[31mException: Lista_vuota.\nCalled from file \"toplevel/toploop.ml\", line 208, characters 17-27\n\u001b[0m"
     ]
    }
   ],
   "source": [
    "raise Lista_vuota;;"
   ]
  },
  {
   "cell_type": "code",
   "execution_count": 28,
   "id": "72199ba4",
   "metadata": {},
   "outputs": [
    {
     "ename": "error",
     "evalue": "runtime_error",
     "output_type": "error",
     "traceback": [
      "\u001b[31mException: Stringa_errata \"test\".\nCalled from file \"toplevel/toploop.ml\", line 208, characters 17-27\n\u001b[0m"
     ]
    }
   ],
   "source": [
    "raise (Stringa_errata \"test\") ;;"
   ]
  },
  {
   "cell_type": "markdown",
   "id": "a775f5f7",
   "metadata": {
    "slideshow": {
     "slide_type": "slide"
    }
   },
   "source": [
    "... e possono essere usate, ad esempio, per interrompere una funzione in caso di errore"
   ]
  },
  {
   "cell_type": "code",
   "execution_count": 29,
   "id": "726b1b8e",
   "metadata": {},
   "outputs": [
    {
     "data": {
      "text/plain": [
       "val minimo : 'a list -> 'a = <fun>\n"
      ]
     },
     "execution_count": 29,
     "metadata": {},
     "output_type": "execute_result"
    }
   ],
   "source": [
    "let minimo lis =\n",
    "    let rec minimo_ric m lis' =\n",
    "        match lis' with\n",
    "        | [] -> m\n",
    "        | x::lis' -> minimo_ric (if x<m then x else m) lis'\n",
    "    in \n",
    "    match lis with\n",
    "    | [] -> raise Lista_vuota\n",
    "    | x::lis' -> minimo_ric x lis'\n",
    ";;"
   ]
  },
  {
   "cell_type": "code",
   "execution_count": 30,
   "id": "39e1d0cd",
   "metadata": {},
   "outputs": [
    {
     "data": {
      "text/plain": [
       "- : int = 2\n"
      ]
     },
     "execution_count": 30,
     "metadata": {},
     "output_type": "execute_result"
    }
   ],
   "source": [
    "minimo [4;3;5;6;2;9] ;;"
   ]
  },
  {
   "cell_type": "code",
   "execution_count": 31,
   "id": "a510e7f2",
   "metadata": {
    "slideshow": {
     "slide_type": "-"
    }
   },
   "outputs": [
    {
     "ename": "error",
     "evalue": "runtime_error",
     "output_type": "error",
     "traceback": [
      "\u001b[31mException: Lista_vuota.\nRaised at file \"[29]\", line 8, characters 18-29\nCalled from file \"toplevel/toploop.ml\", line 208, characters 17-27\n\u001b[0m"
     ]
    }
   ],
   "source": [
    "minimo [] ;;"
   ]
  },
  {
   "cell_type": "markdown",
   "id": "07f9bfc1",
   "metadata": {
    "slideshow": {
     "slide_type": "slide"
    }
   },
   "source": [
    "Altro esempio: giorni della settimana"
   ]
  },
  {
   "cell_type": "code",
   "execution_count": 32,
   "id": "a3ca40a4",
   "metadata": {},
   "outputs": [
    {
     "data": {
      "text/plain": [
       "val giorno_num : string -> int = <fun>\n"
      ]
     },
     "execution_count": 32,
     "metadata": {},
     "output_type": "execute_result"
    }
   ],
   "source": [
    "let giorno_num g =\n",
    "    match g with\n",
    "    | \"lun\" -> 1 | \"mar\" -> 2 | \"mer\" -> 3 | \"gio\" -> 4 \n",
    "    | \"ven\" -> 5 | \"sab\" -> 6 | \"dom\" -> 7\n",
    "    | _ -> raise (Stringa_errata g) ;;"
   ]
  },
  {
   "cell_type": "code",
   "execution_count": 33,
   "id": "34647492",
   "metadata": {},
   "outputs": [
    {
     "data": {
      "text/plain": [
       "- : int = 4\n"
      ]
     },
     "execution_count": 33,
     "metadata": {},
     "output_type": "execute_result"
    }
   ],
   "source": [
    "giorno_num \"gio\" ;;"
   ]
  },
  {
   "cell_type": "code",
   "execution_count": 34,
   "id": "6844a512",
   "metadata": {},
   "outputs": [
    {
     "ename": "error",
     "evalue": "runtime_error",
     "output_type": "error",
     "traceback": [
      "\u001b[31mException: Stringa_errata \"lunedì\".\nRaised at file \"[32]\", line 5, characters 17-35\nCalled from file \"toplevel/toploop.ml\", line 208, characters 17-27\n\u001b[0m"
     ]
    }
   ],
   "source": [
    "giorno_num \"lunedì\" ;;"
   ]
  },
  {
   "cell_type": "markdown",
   "id": "43e8bded",
   "metadata": {
    "slideshow": {
     "slide_type": "slide"
    }
   },
   "source": [
    "Inoltre, è possibile intercettare e gestire eccezioni con il costrutto `try ... with`.\n",
    "\n",
    "La sintassi (simile a quella del pattern matching) è la seguente:\n",
    "\n",
    "```\n",
    "try <espressione> with\n",
    "| <pat1> -> <esp1>\n",
    "| <pat2> -> <esp2>\n",
    "...\n",
    "| <patN> -> <espN>\n",
    "```\n",
    "\n",
    "e la semantica è che se `<espressione>` causa un'eccezione che fa match con il pattern `<patI>`, viene valutata l'espressione `<espI>`\n",
    "\n",
    "* *NOTA:* non c'è controllo di esaustività dei pattern"
   ]
  },
  {
   "cell_type": "markdown",
   "id": "d39345a7",
   "metadata": {
    "slideshow": {
     "slide_type": "notes"
    }
   },
   "source": [
    "Nel costrutto `try ... with` non avrebbe senso testare l'esaustività dei pattern, in quanto, essendo le eccezioni personalizzabili, le possibili eccezioni che possono essere sollevate sono infinite. L'unico modo per raggiungere l'esaustività sarebbe di includere sempre il pattern wildcard `_` come ultimo caso possibile.\n",
    "\n",
    "Inoltre, spesso i gestori di eccezioni definiti con il costrutto `try ... with` si preoccupano di catturare una o un gruppo specifico di eccezioni, lasciando che eventuali altre \"passino\" venendo poi catturate da un controllo più esterno, oppure portando all'interruzione del programma, senza essere gestite internamente. \n",
    "\n",
    "Per tutti questi motivi un controllo di esaustività di questi pattern sarebbe privo di senso."
   ]
  },
  {
   "cell_type": "markdown",
   "id": "9b0152c7",
   "metadata": {
    "slideshow": {
     "slide_type": "slide"
    }
   },
   "source": [
    "Esempio (un po' forzato, si farebbe `List.for_all (fun x -> x>=0) lis`):"
   ]
  },
  {
   "cell_type": "code",
   "execution_count": 35,
   "id": "f3296719",
   "metadata": {},
   "outputs": [
    {
     "data": {
      "text/plain": [
       "val tutti_positivi : int list -> bool = <fun>\n"
      ]
     },
     "execution_count": 35,
     "metadata": {},
     "output_type": "execute_result"
    }
   ],
   "source": [
    "let tutti_positivi lis =\n",
    "  try \n",
    "    minimo lis >= 0\n",
    "  with\n",
    "  | Lista_vuota -> true ;;"
   ]
  },
  {
   "cell_type": "code",
   "execution_count": 36,
   "id": "572a44f3",
   "metadata": {},
   "outputs": [
    {
     "data": {
      "text/plain": [
       "- : bool = false\n"
      ]
     },
     "execution_count": 36,
     "metadata": {},
     "output_type": "execute_result"
    }
   ],
   "source": [
    "tutti_positivi [3;2;-5];;"
   ]
  },
  {
   "cell_type": "code",
   "execution_count": 37,
   "id": "569af64c",
   "metadata": {},
   "outputs": [
    {
     "data": {
      "text/plain": [
       "- : bool = true\n"
      ]
     },
     "execution_count": 37,
     "metadata": {},
     "output_type": "execute_result"
    }
   ],
   "source": [
    "tutti_positivi [];;"
   ]
  },
  {
   "cell_type": "markdown",
   "id": "4560960b",
   "metadata": {
    "slideshow": {
     "slide_type": "notes"
    }
   },
   "source": [
    "La funzione `tutti_positivi` verifica se gli elementi di un array sono tutti positivi andandone a calcolare il minimo con la funzione `minimo` definita in precedenza. Qualora la lista sia vuota, l'eccezione sollevata dalla funzione `minimo` viene catturata e il risultato sarà `true` (Nota: qualunque proprietà è soddisfatta da tutti gli elementi di una lista vuota...)"
   ]
  },
  {
   "cell_type": "markdown",
   "id": "8e6600a8",
   "metadata": {
    "slideshow": {
     "slide_type": "slide"
    }
   },
   "source": [
    "Altro esempio: trova il minimo (come numero) in una lista di giorni in formato testuale"
   ]
  },
  {
   "cell_type": "code",
   "execution_count": 47,
   "id": "e19cb438",
   "metadata": {},
   "outputs": [
    {
     "data": {
      "text/plain": [
       "val primo_giorno : string list -> int option = <fun>\n"
      ]
     },
     "execution_count": 47,
     "metadata": {},
     "output_type": "execute_result"
    }
   ],
   "source": [
    "let primo_giorno lis =\n",
    "    try\n",
    "        Some (minimo (List.map giorno_num lis))   (* giorno_num definita in precedenza *)\n",
    "    with\n",
    "    | Stringa_errata s -> print_endline (\"Stringa errata: \"^s) ; None\n",
    "    | Lista_vuota -> print_endline \"Lista vuota\" ; None\n",
    "    | _ -> print_endline \"Errore\" ; None    (* caso _ aggiunto cattura eventuali altre eccezioni... *)"
   ]
  },
  {
   "cell_type": "code",
   "execution_count": 39,
   "id": "33e388cb",
   "metadata": {},
   "outputs": [
    {
     "data": {
      "text/plain": [
       "- : int option = Some 4\n"
      ]
     },
     "execution_count": 39,
     "metadata": {},
     "output_type": "execute_result"
    }
   ],
   "source": [
    "primo_giorno [\"sab\"; \"gio\"; \"ven\"] ;;"
   ]
  },
  {
   "cell_type": "code",
   "execution_count": 40,
   "id": "67851952",
   "metadata": {},
   "outputs": [
    {
     "name": "stdout",
     "output_type": "stream",
     "text": [
      "Stringa errata: sabato\n"
     ]
    },
    {
     "data": {
      "text/plain": [
       "- : int option = None\n"
      ]
     },
     "execution_count": 40,
     "metadata": {},
     "output_type": "execute_result"
    }
   ],
   "source": [
    "primo_giorno [\"sabato\"; \"giovedì\"; \"venerdì\"] ;;"
   ]
  },
  {
   "cell_type": "code",
   "execution_count": 41,
   "id": "58054d4b",
   "metadata": {},
   "outputs": [
    {
     "name": "stdout",
     "output_type": "stream",
     "text": [
      "Lista vuota\n"
     ]
    },
    {
     "data": {
      "text/plain": [
       "- : int option = None\n"
      ]
     },
     "execution_count": 41,
     "metadata": {},
     "output_type": "execute_result"
    }
   ],
   "source": [
    "primo_giorno [] ;;"
   ]
  },
  {
   "cell_type": "markdown",
   "id": "afae120d",
   "metadata": {
    "slideshow": {
     "slide_type": "notes"
    }
   },
   "source": [
    "Anche in questo esempio sfruttiamo l'eccezione sollevata da `minimo`. Innanzitutto, la lista di stringhe viene data in pasto alla funzione `List.map` che, applicando la funzione `giorno_num` ad ogni elemento, produce una lista di numeri che rappresentano i vari giorni. A questo punto `minimo` calcola il numero minimo, che viene restituito come tipo `int option`, quindi preceduto dal costruttore `Some`.\n",
    "\n",
    "Le funzioni `giorno_map` e `minimo` possono sollevare eccezioni. La prima nel caso in cui una stringa sia scritta in modo errato, e la seconda nel caso in cui la lista sia vuota. Entrambe le eccezioni vengono gestite tramite il costrutto `try ... with` visualizzando un messaggio di errore e restituendo `None`. In questo caso, sebbene non sia essenziale, è stato aggiungo anche il pattern `_` per catturare eventuali altre eccezioni (che comunque non dovrebbero verificarsi)."
   ]
  },
  {
   "cell_type": "markdown",
   "id": "f1e692d1",
   "metadata": {
    "slideshow": {
     "slide_type": "slide"
    }
   },
   "source": [
    "OCaml fornisce inoltre alcuni altri costrutti per sollevare eccezioni alternativi a `raise`"
   ]
  },
  {
   "cell_type": "code",
   "execution_count": 42,
   "id": "cdb1ec05",
   "metadata": {
    "slideshow": {
     "slide_type": "-"
    }
   },
   "outputs": [
    {
     "ename": "error",
     "evalue": "runtime_error",
     "output_type": "error",
     "traceback": [
      "\u001b[31mException: Failure \"messaggio di errore\".\nRaised at file \"stdlib.ml\", line 29, characters 22-33\nCalled from file \"toplevel/toploop.ml\", line 208, characters 17-27\n\u001b[0m"
     ]
    }
   ],
   "source": [
    "failwith \"messaggio di errore\" ;;"
   ]
  },
  {
   "cell_type": "markdown",
   "id": "c30ed147",
   "metadata": {},
   "source": [
    "corrisponde a `raise (Failure \"messaggio di errore\")`, ma più breve"
   ]
  },
  {
   "cell_type": "markdown",
   "id": "9ac81945",
   "metadata": {
    "slideshow": {
     "slide_type": "slide"
    }
   },
   "source": [
    "Inoltre, `assert <condizione>` solleva un'eccezione se `<condizione>` è falsa"
   ]
  },
  {
   "cell_type": "code",
   "execution_count": 43,
   "id": "a3a9b0de",
   "metadata": {
    "slideshow": {
     "slide_type": "-"
    }
   },
   "outputs": [
    {
     "data": {
      "text/plain": [
       "val dividi : int -> int -> int = <fun>\n"
      ]
     },
     "execution_count": 43,
     "metadata": {},
     "output_type": "execute_result"
    }
   ],
   "source": [
    "let dividi n m = assert (m<>0) ; n/m ;;"
   ]
  },
  {
   "cell_type": "code",
   "execution_count": 44,
   "id": "d9f82859",
   "metadata": {},
   "outputs": [
    {
     "data": {
      "text/plain": [
       "- : int = 2\n"
      ]
     },
     "execution_count": 44,
     "metadata": {},
     "output_type": "execute_result"
    }
   ],
   "source": [
    "dividi 4 2;;"
   ]
  },
  {
   "cell_type": "code",
   "execution_count": 45,
   "id": "49f1e532",
   "metadata": {},
   "outputs": [
    {
     "ename": "error",
     "evalue": "runtime_error",
     "output_type": "error",
     "traceback": [
      "\u001b[31mException: Assert_failure (\"[43]\", 1, 17).\nRaised at file \"[43]\", line 1, characters 17-30\nCalled from file \"toplevel/toploop.ml\", line 208, characters 17-27\n\u001b[0m"
     ]
    }
   ],
   "source": [
    "dividi 4 0;;"
   ]
  },
  {
   "cell_type": "markdown",
   "id": "6b2dbe5f",
   "metadata": {
    "slideshow": {
     "slide_type": "notes"
    }
   },
   "source": [
    "L'eccezione sollevata da `assert` fornisce indicazioni sulla riga di codice in cui si trova la condizione che è stata violata."
   ]
  }
 ],
 "metadata": {
  "celltoolbar": "Slideshow",
  "kernelspec": {
   "display_name": "OCaml default",
   "language": "OCaml",
   "name": "ocaml-jupyter"
  },
  "language_info": {
   "codemirror_mode": "text/x-ocaml",
   "file_extension": ".ml",
   "mimetype": "text/x-ocaml",
   "name": "OCaml",
   "nbconverter_exporter": null,
   "pygments_lexer": "OCaml",
   "version": "4.08.1"
  },
  "rise": {
   "enable_chalkboard": true,
   "scroll": true
  }
 },
 "nbformat": 4,
 "nbformat_minor": 5
}
