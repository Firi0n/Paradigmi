{
 "cells": [
  {
   "cell_type": "markdown",
   "id": "e9240ba0",
   "metadata": {
    "slideshow": {
     "slide_type": "slide"
    }
   },
   "source": [
    "# Liste e Pattern Matching"
   ]
  },
  {
   "cell_type": "markdown",
   "id": "a9235800",
   "metadata": {
    "slideshow": {
     "slide_type": "slide"
    }
   },
   "source": [
    "## Liste\n",
    "\n",
    "In OCaml le liste sono un tipo di dato predefinito\n",
    "\n",
    "Lista = *sequenza finita e immutabile di valori dello stesso tipo*"
   ]
  },
  {
   "cell_type": "code",
   "execution_count": 1,
   "id": "7241a4fa",
   "metadata": {},
   "outputs": [
    {
     "data": {
      "text/plain": [
       "val numeri : int list = [3; 5; -1; 9; 14; 21]\n"
      ]
     },
     "execution_count": 1,
     "metadata": {},
     "output_type": "execute_result"
    }
   ],
   "source": [
    "let numeri = [3; 5; -1; 9; 14; 21] ;;"
   ]
  },
  {
   "cell_type": "markdown",
   "id": "ac2da0ee",
   "metadata": {},
   "source": [
    "Se gli elementi sono di tipo `XYZ`, il tipo della lista è `XYZ list`"
   ]
  },
  {
   "cell_type": "markdown",
   "id": "ccea6160",
   "metadata": {
    "slideshow": {
     "slide_type": "fragment"
    }
   },
   "source": [
    "Inoltre, la lista vuota si rappresenta semplicemente come `[]` e ha tipo generico:"
   ]
  },
  {
   "cell_type": "code",
   "execution_count": 2,
   "id": "b8c7c2fb",
   "metadata": {},
   "outputs": [
    {
     "data": {
      "text/plain": [
       "val lista_vuota : 'a list = []\n"
      ]
     },
     "execution_count": 2,
     "metadata": {},
     "output_type": "execute_result"
    }
   ],
   "source": [
    "let lista_vuota = [] ;;"
   ]
  },
  {
   "cell_type": "markdown",
   "id": "41750486",
   "metadata": {
    "slideshow": {
     "slide_type": "notes"
    }
   },
   "source": [
    "Da questi esempi è evidente che una lista si rappresenta come una sequenza di valori racchiusi tra parentesi quadre e separati da punto e virgola. Il fatto che sia una sequenza *immutabile* significa che non sarà possibile modificare (aggiungere, rimuovere o modificare) gli elementi della lista. Ogni operazione che vedremo sulle liste potrà leggere ed elaborare gli elementi, e costruire nuove liste a partire da quelle esistenti, ma sempre senza possibilità di modificarle."
   ]
  },
  {
   "cell_type": "markdown",
   "id": "0c538eb4",
   "metadata": {
    "slideshow": {
     "slide_type": "slide"
    }
   },
   "source": [
    "Le liste possono contenere elementi di qualunque tipo.\n",
    "\n",
    "Una lista di stringhe:"
   ]
  },
  {
   "cell_type": "code",
   "execution_count": 3,
   "id": "91500af4",
   "metadata": {},
   "outputs": [
    {
     "data": {
      "text/plain": [
       "val stringhe : string list = [\"cane\"; \"gatto\"; \"rana\"; \"gnu\"]\n"
      ]
     },
     "execution_count": 3,
     "metadata": {},
     "output_type": "execute_result"
    }
   ],
   "source": [
    "let stringhe = [\"cane\"; \"gatto\"; \"rana\"; \"gnu\"];;"
   ]
  },
  {
   "cell_type": "markdown",
   "id": "96ff56d4",
   "metadata": {},
   "source": [
    "Una lista di tuple (tutte dello stesso tipo):"
   ]
  },
  {
   "cell_type": "code",
   "execution_count": 4,
   "id": "9b5a9d2e",
   "metadata": {},
   "outputs": [
    {
     "data": {
      "text/plain": [
       "val tuple : (int * string) list = [(1, \"lun\"); (2, \"mar\"); (3, \"mer\")]\n"
      ]
     },
     "execution_count": 4,
     "metadata": {},
     "output_type": "execute_result"
    }
   ],
   "source": [
    "let tuple = [ (1,\"lun\"); (2,\"mar\"); (3,\"mer\") ] ;;"
   ]
  },
  {
   "cell_type": "markdown",
   "id": "d316edc4",
   "metadata": {},
   "source": [
    "Una lista di funzioni (tutte dello stesso tipo)"
   ]
  },
  {
   "cell_type": "code",
   "execution_count": 5,
   "id": "797fa825",
   "metadata": {},
   "outputs": [
    {
     "data": {
      "text/plain": [
       "val funzioni : (int -> int) list = [<fun>; <fun>; <fun>]\n"
      ]
     },
     "execution_count": 5,
     "metadata": {},
     "output_type": "execute_result"
    }
   ],
   "source": [
    "let funzioni = [ (fun x -> x+1) ; (fun x -> x-1) ; (fun x -> x) ] ;;"
   ]
  },
  {
   "cell_type": "markdown",
   "id": "d513d3fc",
   "metadata": {
    "slideshow": {
     "slide_type": "notes"
    }
   },
   "source": [
    "Nell'ultimo esempio, in realtà, gli elementi della lista (funzioni) non hanno tutti lo stesso tipo. Mentre le prime due hanno tipo `int -> int`, la terza ha tipo `'a -> 'a`. Essendo però `'a -> 'a` compatibile con `int -> int` e più generico, i tipi delle tre funzioni possono essere unificati nel tipo più specifico `int -> int`. Approfondiremo questo aspetto tra poco."
   ]
  },
  {
   "cell_type": "markdown",
   "id": "51349e18",
   "metadata": {
    "slideshow": {
     "slide_type": "slide"
    }
   },
   "source": [
    "Inoltre, è anche possibile creare liste di liste:"
   ]
  },
  {
   "cell_type": "code",
   "execution_count": 6,
   "id": "88b5640b",
   "metadata": {},
   "outputs": [
    {
     "data": {
      "text/plain": [
       "val liste : int list list =\n",
       "  [[1; 2; 3]; [1; 3; 2]; [2; 1; 3]; [2; 3; 1]; [3; 1; 2]; [3; 2; 1]]\n"
      ]
     },
     "execution_count": 6,
     "metadata": {},
     "output_type": "execute_result"
    }
   ],
   "source": [
    "let liste = [ [1; 2; 3] ; [1; 3; 2] ; [2; 1; 3] ; [2; 3; 1] ; [3; 1; 2] ; [3; 2; 1] ] ;;"
   ]
  },
  {
   "cell_type": "markdown",
   "id": "cfd1a039",
   "metadata": {
    "slideshow": {
     "slide_type": "slide"
    }
   },
   "source": [
    "## Riflessione sul tipo di una lista\n",
    "OCaml inferisce il tipo di una lista *unificando* i tipi dei suoi elementi:"
   ]
  },
  {
   "cell_type": "code",
   "execution_count": 7,
   "id": "febcf158",
   "metadata": {},
   "outputs": [
    {
     "data": {
      "text/plain": [
       "- : 'a list = []\n"
      ]
     },
     "execution_count": 7,
     "metadata": {},
     "output_type": "execute_result"
    }
   ],
   "source": [
    "[] ;;"
   ]
  },
  {
   "cell_type": "code",
   "execution_count": 8,
   "id": "629444be",
   "metadata": {},
   "outputs": [
    {
     "data": {
      "text/plain": [
       "- : 'a list list = [[]; []]\n"
      ]
     },
     "execution_count": 8,
     "metadata": {},
     "output_type": "execute_result"
    }
   ],
   "source": [
    "[[]; []] ;;"
   ]
  },
  {
   "cell_type": "code",
   "execution_count": 9,
   "id": "8e980df0",
   "metadata": {},
   "outputs": [
    {
     "data": {
      "text/plain": [
       "- : int list list = [[]; []; [3]]\n"
      ]
     },
     "execution_count": 9,
     "metadata": {},
     "output_type": "execute_result"
    }
   ],
   "source": [
    "[[]; []; [3]] ;;"
   ]
  },
  {
   "cell_type": "code",
   "execution_count": 10,
   "id": "72ffa2ab",
   "metadata": {},
   "outputs": [
    {
     "data": {
      "text/plain": [
       "- : string list list = [[]; []; [\"ciao\"]]\n"
      ]
     },
     "execution_count": 10,
     "metadata": {},
     "output_type": "execute_result"
    }
   ],
   "source": [
    "[[]; []; [\"ciao\"]] ;;"
   ]
  },
  {
   "cell_type": "markdown",
   "id": "fd369ef8",
   "metadata": {
    "slideshow": {
     "slide_type": "notes"
    }
   },
   "source": [
    "Anche in questi esempi, come in quello della lista di funzioni visto poco sopra, si vede il meccanismo di unificazione dei tipi in opera. Le liste che contengono solo liste vuote hanno tipo (generico) `'a list list`. Non appena alle liste vuote si aggiunge una lista non vuota (di `int` e `string`, negli esempi) il tipo dell'intera lista viene reso più specifico (diventando `int list list` e `string list list`, rispettivamente).\n",
    "\n",
    "Quello che fa il l'unificazione dei tipi è trovare il *tipo più generico possibile* che sia compatibile con tutti gli elementi della lista. Fintanto che nella lista vengono inserite solo liste vuote `[]` il tipo può rimanere generico (in quanto una lista vuota può essere di `int`, `string`, o qualunque altro tipo). Nel momento in cui nella lista venga incluso una lista non vuota (es. `[3]`), allora il tipo più generico possibile diventa il tipo di quella specifica lista, in quanto essa non può avere altri tipi se non quello dato dagli elementi che contiene (ad es. `int list`)."
   ]
  },
  {
   "cell_type": "markdown",
   "id": "e99c14ed",
   "metadata": {
    "slideshow": {
     "slide_type": "slide"
    }
   },
   "source": [
    "Con le funzioni:"
   ]
  },
  {
   "cell_type": "code",
   "execution_count": 11,
   "id": "f6ca8f22",
   "metadata": {
    "slideshow": {
     "slide_type": "-"
    }
   },
   "outputs": [
    {
     "data": {
      "text/plain": [
       "val f : 'a -> 'b -> int = <fun>\n"
      ]
     },
     "execution_count": 11,
     "metadata": {},
     "output_type": "execute_result"
    }
   ],
   "source": [
    "let f x y = 3;;"
   ]
  },
  {
   "cell_type": "code",
   "execution_count": 12,
   "id": "287c162e",
   "metadata": {},
   "outputs": [
    {
     "data": {
      "text/plain": [
       "val g : int -> 'a -> int = <fun>\n"
      ]
     },
     "execution_count": 12,
     "metadata": {},
     "output_type": "execute_result"
    }
   ],
   "source": [
    "let g x y = x+1 ;;"
   ]
  },
  {
   "cell_type": "code",
   "execution_count": 13,
   "id": "d7a9c63b",
   "metadata": {},
   "outputs": [
    {
     "data": {
      "text/plain": [
       "val h : 'a -> int -> int = <fun>\n"
      ]
     },
     "execution_count": 13,
     "metadata": {},
     "output_type": "execute_result"
    }
   ],
   "source": [
    "let h x y = y+1 ;;"
   ]
  },
  {
   "cell_type": "code",
   "execution_count": 14,
   "id": "f87e6c06",
   "metadata": {},
   "outputs": [
    {
     "data": {
      "text/plain": [
       "val lista : (int -> 'a -> int) list = [<fun>; <fun>]\n"
      ]
     },
     "execution_count": 14,
     "metadata": {},
     "output_type": "execute_result"
    }
   ],
   "source": [
    "let lista = [f ; g];;"
   ]
  },
  {
   "cell_type": "code",
   "execution_count": 15,
   "id": "91e689c0",
   "metadata": {},
   "outputs": [
    {
     "data": {
      "text/plain": [
       "val lista2 : (int -> int -> int) list = [<fun>; <fun>; <fun>]\n"
      ]
     },
     "execution_count": 15,
     "metadata": {},
     "output_type": "execute_result"
    }
   ],
   "source": [
    "let lista2 = h::lista;;"
   ]
  },
  {
   "cell_type": "markdown",
   "id": "187f2072",
   "metadata": {
    "slideshow": {
     "slide_type": "notes"
    }
   },
   "source": [
    "Questi esempi con le funzioni consentono di osservare nuovamente il funzionamento dell'unificazione dei tipi. Le tre funzioni `f`, `g` e `h` hanno tipi generici diversi. La lista `lista` ha un tipo che è il più generico possibile che sia compatibile con i tipi di `f` e `g`, ossia `(int -> 'a -> int) list`. Aggiungendo alla lista `h` (in `lista2`) il tipo deve essere ulteriormente specializzato per tenere conto del fatto che `h` ha un secondo parametro di tipo `int`.\n",
    "\n",
    "È interessante vedere quale sia il tipo di una lista che contenga solo `g` e `h`:"
   ]
  },
  {
   "cell_type": "code",
   "execution_count": 16,
   "id": "834654c9",
   "metadata": {
    "slideshow": {
     "slide_type": "notes"
    }
   },
   "outputs": [
    {
     "data": {
      "text/plain": [
       "val lista3 : (int -> int -> int) list = [<fun>; <fun>]\n"
      ]
     },
     "execution_count": 16,
     "metadata": {},
     "output_type": "execute_result"
    }
   ],
   "source": [
    "let lista3 = [g ; h] ;;"
   ]
  },
  {
   "cell_type": "markdown",
   "id": "c9265b5d",
   "metadata": {
    "slideshow": {
     "slide_type": "notes"
    }
   },
   "source": [
    "Nonostante sia `g` che `h` abbiano un tipo polimorfo (generico), il fatto che `g` preveda un primo parametro di tipo `int` e `h` un secondo parametro di tipo `int` implica che la lista abbia tipo `int -> int -> int list`, cioè che si tratti di una lista di funzioni con due parametri *entrambi interi*.\n",
    "\n",
    "Il tipo inferito da OCaml tramite il meccanismo di unificazione descritto da questi esempi, prende il nome di *most general unifier*, ossia (come già detto) è il tipo più generico possibile che tenga conto di tutti i vincoli imposti dai tipi che sono stati unificati."
   ]
  },
  {
   "cell_type": "markdown",
   "id": "7b7e36d1",
   "metadata": {
    "slideshow": {
     "slide_type": "slide"
    }
   },
   "source": [
    "## L'operatore cons `::`\n",
    "Una lista può essere *costruita* a partire da un'altra usando l'operatore `::` (\"cons\")\n",
    "\n",
    "**Definizione (`::`).** Data una lista `l` di tipo `T list` e un elemento `e` di tipo `T`, si denota con `e :: l` la lista in cui il primo elemento è `e` seguito dagli elementi in `l`"
   ]
  },
  {
   "cell_type": "code",
   "execution_count": 17,
   "id": "0348b6f7",
   "metadata": {},
   "outputs": [
    {
     "data": {
      "text/plain": [
       "val l1 : int list = [3; 2; 1]\n"
      ]
     },
     "execution_count": 17,
     "metadata": {},
     "output_type": "execute_result"
    },
    {
     "data": {
      "text/plain": [
       "val l2 : int list = [4; 3; 2; 1]\n"
      ]
     },
     "execution_count": 17,
     "metadata": {},
     "output_type": "execute_result"
    }
   ],
   "source": [
    "let l1 = [3;2;1] ;;\n",
    "let l2 = 4 :: l1 ;;"
   ]
  },
  {
   "cell_type": "markdown",
   "id": "d3a12aa6",
   "metadata": {
    "slideshow": {
     "slide_type": "slide"
    }
   },
   "source": [
    "La notazione `[1; 2; 3; 4]` è in realtà \"zucchero sintattico\" per la notazione"
   ]
  },
  {
   "cell_type": "code",
   "execution_count": 18,
   "id": "9f727e53",
   "metadata": {},
   "outputs": [
    {
     "data": {
      "text/plain": [
       "val lis : int list = [1; 2; 3; 4]\n"
      ]
     },
     "execution_count": 18,
     "metadata": {},
     "output_type": "execute_result"
    }
   ],
   "source": [
    "let lis = 1 :: (2 :: (3 :: (4 :: [] ))) ;;"
   ]
  },
  {
   "cell_type": "markdown",
   "id": "9c96d509",
   "metadata": {
    "slideshow": {
     "slide_type": "-"
    }
   },
   "source": [
    "che può essere scritta più semplicemente così (essendo `::` associativo a destra):"
   ]
  },
  {
   "cell_type": "code",
   "execution_count": 19,
   "id": "5f8a6df9",
   "metadata": {},
   "outputs": [
    {
     "data": {
      "text/plain": [
       "val lis : int list = [1; 2; 3; 4]\n"
      ]
     },
     "execution_count": 19,
     "metadata": {},
     "output_type": "execute_result"
    }
   ],
   "source": [
    "let lis = 1 :: 2 :: 3 :: 4 :: [] ;;"
   ]
  },
  {
   "cell_type": "markdown",
   "id": "44e0c211",
   "metadata": {
    "slideshow": {
     "slide_type": "fragment"
    }
   },
   "source": [
    "Questa rappresentazione evidenza la natura *induttiva* (incrementale) delle liste\n",
    "\n",
    "* a partire dalla lista vuota `[]`, si concatena in testa `4`, poi `3`, poi `2`, poi `1`"
   ]
  },
  {
   "cell_type": "markdown",
   "id": "50f1148d",
   "metadata": {
    "slideshow": {
     "slide_type": "slide"
    }
   },
   "source": [
    "**ATTENZIONE:** \n",
    "\n",
    "È comune dire che `::` *aggiunga* un elemento in testa alla lista, ma non è esatto:\n",
    "\n",
    "* Le liste sono immutabili, quindi `e :: l` concettualmente è una *lista diversa* con dentro `e` e gli elementi di `l`\n",
    "\n",
    "Il fatto che le liste siano immutabili fa sì che OCaml non debba copiare gli elementi di `l` nella nuova lista\n",
    "\n",
    "Vediamo perché..."
   ]
  },
  {
   "cell_type": "markdown",
   "id": "98f27c6a",
   "metadata": {
    "slideshow": {
     "slide_type": "slide"
    }
   },
   "source": [
    "Le liste in OCaml sono concepite come *liste concatenate singole*\n",
    "\n",
    "La lista `lis1 = [2; 3; 4]` corrisponde a:\n",
    "\n",
    "![Lista1](files/images/Lista1.png)"
   ]
  },
  {
   "cell_type": "markdown",
   "id": "c3fc5832",
   "metadata": {
    "slideshow": {
     "slide_type": "fragment"
    }
   },
   "source": [
    "La lista `lis2 = 1 :: lis1` può essere ottenuta concatenando in testa:\n",
    "\n",
    "![Lista2](files/images/Lista2.png)"
   ]
  },
  {
   "cell_type": "markdown",
   "id": "a19503ec",
   "metadata": {},
   "source": [
    "Essendo immutabili (= no modifiche ai valori) per il programmatore è come se fossero due liste diverse\n",
    "\n",
    "* no spreco di memoria"
   ]
  },
  {
   "cell_type": "markdown",
   "id": "23859638",
   "metadata": {
    "slideshow": {
     "slide_type": "slide"
    }
   },
   "source": [
    "## Concatenazione di liste (append - `@`)\n",
    "Date due liste `lis1` e `lis2`, l'operazione *append* `lis1 @ lis2` descrive la loro concatenazione in un'unica lista  "
   ]
  },
  {
   "cell_type": "code",
   "execution_count": 20,
   "id": "2ad3f88e",
   "metadata": {},
   "outputs": [
    {
     "data": {
      "text/plain": [
       "val lis1 : int list = [1; 2; 3]\n"
      ]
     },
     "execution_count": 20,
     "metadata": {},
     "output_type": "execute_result"
    },
    {
     "data": {
      "text/plain": [
       "val lis2 : int list = [4; 5; 6]\n"
      ]
     },
     "execution_count": 20,
     "metadata": {},
     "output_type": "execute_result"
    },
    {
     "data": {
      "text/plain": [
       "val lis3 : int list = [1; 2; 3; 4; 5; 6]\n"
      ]
     },
     "execution_count": 20,
     "metadata": {},
     "output_type": "execute_result"
    }
   ],
   "source": [
    "let lis1 = [1;2;3] ;;\n",
    "let lis2 = [4;5;6] ;;\n",
    "let lis3 = lis1 @ lis2 ;;"
   ]
  },
  {
   "cell_type": "markdown",
   "id": "7315ce30",
   "metadata": {
    "slideshow": {
     "slide_type": "slide"
    }
   },
   "source": [
    "Internamente, la concatenazione crea una copia della prima lista\n",
    "\n",
    "Date `lis1 = [1; 2; 3]` e `lis2 = [4; 5; 6]`:"
   ]
  },
  {
   "cell_type": "markdown",
   "id": "400bb40c",
   "metadata": {},
   "source": [
    "![Lista3](files/images/Lista3.png)"
   ]
  },
  {
   "cell_type": "markdown",
   "id": "7123cc7f",
   "metadata": {
    "slideshow": {
     "slide_type": "fragment"
    }
   },
   "source": [
    "Ecco il risultato di `let lis3 = lis1 @ lis2`:"
   ]
  },
  {
   "cell_type": "markdown",
   "id": "9ec80f00",
   "metadata": {},
   "source": [
    "![Lista4](files/images/Lista4.png)"
   ]
  },
  {
   "cell_type": "markdown",
   "id": "05c7503d",
   "metadata": {
    "slideshow": {
     "slide_type": "slide"
    }
   },
   "source": [
    "## Altre operazioni su liste (OCaml API)\n",
    "Il modulo `List` dell'OCaml API (https://ocaml.org/api/List.html) fornisce moltissime funzioni per l'elaborazione di liste. Ad esempio:"
   ]
  },
  {
   "cell_type": "code",
   "execution_count": 21,
   "id": "724d81d8",
   "metadata": {},
   "outputs": [
    {
     "data": {
      "text/plain": [
       "- : int = 3\n"
      ]
     },
     "execution_count": 21,
     "metadata": {},
     "output_type": "execute_result"
    }
   ],
   "source": [
    "List.length [5;2;1] ;; (* lunghezza della lista *)"
   ]
  },
  {
   "cell_type": "code",
   "execution_count": 22,
   "id": "7e4133f0",
   "metadata": {},
   "outputs": [
    {
     "data": {
      "text/plain": [
       "- : int = 5\n"
      ]
     },
     "execution_count": 22,
     "metadata": {},
     "output_type": "execute_result"
    },
    {
     "data": {
      "text/plain": [
       "- : int list = [2; 1]\n"
      ]
     },
     "execution_count": 22,
     "metadata": {},
     "output_type": "execute_result"
    }
   ],
   "source": [
    "List.hd [5;2;1] ;; (* head - primo elemento della lista *)\n",
    "List.tl [5;2;1] ;; (* tail - elementi successivi al primo *)"
   ]
  },
  {
   "cell_type": "code",
   "execution_count": 23,
   "id": "377b6231",
   "metadata": {},
   "outputs": [
    {
     "data": {
      "text/plain": [
       "- : int list = [1; 2; 5]\n"
      ]
     },
     "execution_count": 23,
     "metadata": {},
     "output_type": "execute_result"
    }
   ],
   "source": [
    "List.rev [5;2;1] ;; (* rovescia la lista *)"
   ]
  },
  {
   "cell_type": "markdown",
   "id": "a016e365",
   "metadata": {},
   "source": [
    "Interessante anche vedere il codice sorgente di tutte queste funzioni:\n",
    "\n",
    "* https://github.com/ocaml/ocaml/blob/trunk/stdlib/list.ml"
   ]
  },
  {
   "cell_type": "markdown",
   "id": "05f314cc",
   "metadata": {
    "slideshow": {
     "slide_type": "slide"
    }
   },
   "source": [
    "## Pattern Matching\n",
    "Per accedere agli elementi di una lista è necessaria un'operazione di *destrutturazione*\n",
    "\n",
    "* OCaml ha un potente meccanismo di *Pattern Matching* (non solo per liste)\n",
    "\n",
    "**Sintassi:**\n",
    "\n",
    "```\n",
    "match EXP with\n",
    "| P_1 -> EXP_1\n",
    "| P_2 -> EXP_2\n",
    "...\n",
    "| P_N -> EXP_N\n",
    "```\n",
    "\n",
    "**Semantica informale:** \n",
    "\n",
    "* il risultato di `EXP` viene confrontato con i pattern `P_1, ..., P_n`\n",
    "* se `P_i` è il primo pattern con cui *fa match*, si valuta l'espressione `EXP_i`"
   ]
  },
  {
   "cell_type": "markdown",
   "id": "a63b70fd",
   "metadata": {
    "slideshow": {
     "slide_type": "slide"
    }
   },
   "source": [
    "## Sintassi dei pattern\n",
    "Considerando i tipi visti fino ad ora (tipi di base, tuple e liste) la sintassi dei pattern è data da:\n",
    "\n",
    "* valori di tipi base (non funzioni): `true`,`false`,`0`,`1`,`2`,`2.3`,`4.5`,`'a'`,`'b'`,`'c'`,`\"abc\"`\n",
    "* variabili: `x`,`y`,`z`,...\n",
    "* tuple: `(P_1,...,P_N)`\n",
    "* liste di lunghezza fissata: `[P_1,...,P_N]`\n",
    "* liste con *cons*: `P_1 :: P_2`\n",
    "* wildcard: `_`\n",
    "\n",
    "dove `P_1`,....`P_N` sono a loro volta dei pattern"
   ]
  },
  {
   "cell_type": "markdown",
   "id": "f0db7a46",
   "metadata": {
    "slideshow": {
     "slide_type": "slide"
    }
   },
   "source": [
    "**Definizione (Match)** Un valore `v` fa *match* con un pattern `P` se:\n",
    "\n",
    "* `P=_`\n",
    "* `P=v`\n",
    "* esiste un modo di istanziare le variabili in `P` ottenendo `P'` tale che `P'=v` \n",
    "\n",
    "Esempi:\n",
    "\n",
    "| Pattern | Fanno match | Non fanno match |\n",
    "| --- | --- | --- |\n",
    "| `1` | `1` | `0`,`2`,`3` |\n",
    "| `(3,2)` | `(3,2)` | `(2,3)`,`(4,2)` |\n",
    "| `(x,y)` | `(3,2)`,`(2,3)`,`(4,2)` | `(1,3,2)`,`(1,4,3,2)` |\n",
    "| `(x,2)` | `(3,2)`,`(4,2)`,`(\"ciao\",2)` | `(2,3)`, `(4,2,1)` |\n",
    "| `[]` | `[]` | `[3]`,`[1;5]`,`['a','b','c']` |\n",
    "| `[3]` o (`3::[]`) | `[3]` | `[]`,`[1;5]`,`['a','b','c']` |\n",
    "| `3::x` | `[3]`,`[3;4;5]` | `[]`,`[1;5]`,`['a','b','c']` |\n",
    "| `x::y` | `[3]`,`[3;4;5]`,`[1;5]`,`['a','b','c']` | `[]` |\n",
    "| `_` | `5`,`true`,`\"abc\"`,`(3,\"hello\")`, `[3;2;4]`, `[]` |  |"
   ]
  },
  {
   "cell_type": "markdown",
   "id": "02ca1653",
   "metadata": {
    "slideshow": {
     "slide_type": "slide"
    }
   },
   "source": [
    "Esempi con tipi di dato di base:"
   ]
  },
  {
   "cell_type": "code",
   "execution_count": 24,
   "id": "ea2ae814",
   "metadata": {},
   "outputs": [
    {
     "data": {
      "text/plain": [
       "val negazione : bool -> bool = <fun>\n"
      ]
     },
     "execution_count": 24,
     "metadata": {},
     "output_type": "execute_result"
    }
   ],
   "source": [
    "let negazione b =\n",
    "    match b with\n",
    "    | true -> false\n",
    "    | false -> true ;;"
   ]
  },
  {
   "cell_type": "code",
   "execution_count": 25,
   "id": "9760742c",
   "metadata": {
    "slideshow": {
     "slide_type": "fragment"
    }
   },
   "outputs": [
    {
     "data": {
      "text/plain": [
       "val fibonacci : int -> int = <fun>\n"
      ]
     },
     "execution_count": 25,
     "metadata": {},
     "output_type": "execute_result"
    }
   ],
   "source": [
    "let rec fibonacci n =\n",
    "    match n with\n",
    "    | 0 -> 0\n",
    "    | 1 -> 1\n",
    "    | _ -> fibonacci (n-1) + fibonacci (n-2);;"
   ]
  },
  {
   "cell_type": "markdown",
   "id": "c14e168a",
   "metadata": {},
   "source": [
    "La wildcard `_` messa in fondo cattura tutti gli altri casi"
   ]
  },
  {
   "cell_type": "markdown",
   "id": "a616270e",
   "metadata": {
    "slideshow": {
     "slide_type": "slide"
    }
   },
   "source": [
    "Qualche esempio con le tuple:"
   ]
  },
  {
   "cell_type": "code",
   "execution_count": 26,
   "id": "ca06de0c",
   "metadata": {},
   "outputs": [
    {
     "data": {
      "text/plain": [
       "val my_or : bool -> bool -> bool = <fun>\n"
      ]
     },
     "execution_count": 26,
     "metadata": {},
     "output_type": "execute_result"
    }
   ],
   "source": [
    "let my_or x y =\n",
    "    match (x,y) with\n",
    "    | (false,false) -> false\n",
    "    | _ -> true;;"
   ]
  },
  {
   "cell_type": "code",
   "execution_count": 27,
   "id": "a11e22f3",
   "metadata": {
    "slideshow": {
     "slide_type": "fragment"
    }
   },
   "outputs": [
    {
     "data": {
      "text/plain": [
       "val first_true : bool * bool * bool -> int = <fun>\n"
      ]
     },
     "execution_count": 27,
     "metadata": {},
     "output_type": "execute_result"
    }
   ],
   "source": [
    "let first_true t =\n",
    "    match t with\n",
    "    | (true,_,_) -> 1\n",
    "    | (false,true,_) -> 2\n",
    "    | (false,false,true) -> 3\n",
    "    | (false,false,false) -> -1;;"
   ]
  },
  {
   "cell_type": "markdown",
   "id": "e6184894",
   "metadata": {
    "slideshow": {
     "slide_type": "slide"
    }
   },
   "source": [
    "Qualche esempio con le liste:"
   ]
  },
  {
   "cell_type": "code",
   "execution_count": 28,
   "id": "00fa9ffc",
   "metadata": {},
   "outputs": [
    {
     "data": {
      "text/plain": [
       "val is_empty : 'a list -> bool = <fun>\n"
      ]
     },
     "execution_count": 28,
     "metadata": {},
     "output_type": "execute_result"
    }
   ],
   "source": [
    "let is_empty lis =\n",
    "    match lis with\n",
    "    | [] -> true\n",
    "    | _ -> false"
   ]
  },
  {
   "cell_type": "code",
   "execution_count": 29,
   "id": "4eda9ad5",
   "metadata": {
    "slideshow": {
     "slide_type": "fragment"
    }
   },
   "outputs": [
    {
     "data": {
      "text/plain": [
       "val inizia_con_zero : int list -> bool = <fun>\n"
      ]
     },
     "execution_count": 29,
     "metadata": {},
     "output_type": "execute_result"
    }
   ],
   "source": [
    "let inizia_con_zero lis =\n",
    "    match lis with\n",
    "    | [] -> false\n",
    "    | 0::lis' -> true\n",
    "    | x::lis' -> false"
   ]
  },
  {
   "cell_type": "code",
   "execution_count": 30,
   "id": "5c1d4449",
   "metadata": {
    "slideshow": {
     "slide_type": "fragment"
    }
   },
   "outputs": [
    {
     "data": {
      "text/plain": [
       "val lunghezza_uno : 'a list -> bool = <fun>\n"
      ]
     },
     "execution_count": 30,
     "metadata": {},
     "output_type": "execute_result"
    }
   ],
   "source": [
    "let lunghezza_uno lis =\n",
    "    match lis with\n",
    "    | [] -> false\n",
    "    | x::[] -> true\n",
    "    | x::lis' -> false"
   ]
  },
  {
   "cell_type": "markdown",
   "id": "da62cc04",
   "metadata": {
    "slideshow": {
     "slide_type": "fragment"
    }
   },
   "source": [
    "I casi `false` negli ultimi due esempi possono essere accorpati in `_`"
   ]
  },
  {
   "cell_type": "markdown",
   "id": "f57ccfd9",
   "metadata": {
    "slideshow": {
     "slide_type": "notes"
    }
   },
   "source": [
    "È opportuno sottolineare che nel pattern `x::lis'` avremo sempre che `x` è un elemento (il primo) della lista che si sta facendo match, mentre `lis'` è la *lista* degli elementi che seguono. Quindi, nel caso di una lista di interi, `x` avrà tipo `int` mentre `lis'` avrà tipo `int list`. "
   ]
  },
  {
   "cell_type": "markdown",
   "id": "e81c3ed1",
   "metadata": {
    "slideshow": {
     "slide_type": "slide"
    }
   },
   "source": [
    "## Pattern matching ed esaustività\n",
    "\n",
    "È opportuno (ma non obbligatorio) che i pattern siano *esaustivi*:\n",
    "\n",
    "* per qualunque valore ci deve essere (almeno) un pattern con cui fa match\n",
    "\n",
    "Esempio non esaustivo (warning a tempo di compilazione):"
   ]
  },
  {
   "cell_type": "code",
   "execution_count": 31,
   "id": "a4a48c09",
   "metadata": {},
   "outputs": [
    {
     "name": "stderr",
     "output_type": "stream",
     "text": [
      "File \"[31]\", line 2, characters 4-156:\n",
      "2 | ....match n with\n",
      "3 |     | 1 -> \"lunedì\"  | 2 -> \"martedì\"  | 3 -> \"mercoledì\"\n",
      "4 |     | 4 -> \"giovedì\" | 5 -> \"venerdì\"\n",
      "5 |     | 6 -> \"sabato\"  | 7 -> \"domenica\"\n",
      "Warning 8: this pattern-matching is not exhaustive.\n",
      "Here is an example of a case that is not matched:\n",
      "0\n"
     ]
    },
    {
     "data": {
      "text/plain": [
       "val giorno : int -> string = <fun>\n"
      ]
     },
     "execution_count": 31,
     "metadata": {},
     "output_type": "execute_result"
    }
   ],
   "source": [
    "let giorno n =\n",
    "    match n with\n",
    "    | 1 -> \"lunedì\"  | 2 -> \"martedì\"  | 3 -> \"mercoledì\"\n",
    "    | 4 -> \"giovedì\" | 5 -> \"venerdì\"\n",
    "    | 6 -> \"sabato\"  | 7 -> \"domenica\""
   ]
  },
  {
   "cell_type": "markdown",
   "id": "f22a5515",
   "metadata": {
    "slideshow": {
     "slide_type": "slide"
    }
   },
   "source": [
    "A tempo di esecuzione:\n",
    "\n",
    "va tutto bene fintanto che i valori passati alla funzione sono tra quelli \"matchabili\""
   ]
  },
  {
   "cell_type": "code",
   "execution_count": 32,
   "id": "b8daab23",
   "metadata": {
    "slideshow": {
     "slide_type": "-"
    }
   },
   "outputs": [
    {
     "data": {
      "text/plain": [
       "- : string = \"domenica\"\n"
      ]
     },
     "execution_count": 32,
     "metadata": {},
     "output_type": "execute_result"
    }
   ],
   "source": [
    "giorno 7;;"
   ]
  },
  {
   "cell_type": "markdown",
   "id": "61b391b0",
   "metadata": {
    "slideshow": {
     "slide_type": "fragment"
    }
   },
   "source": [
    "altrimenti viene sollevata un'eccezione"
   ]
  },
  {
   "cell_type": "code",
   "execution_count": 33,
   "id": "55b0c8f5",
   "metadata": {},
   "outputs": [
    {
     "ename": "error",
     "evalue": "runtime_error",
     "output_type": "error",
     "traceback": [
      "\u001b[31mException: Match_failure (\"[31]\", 2, 4).\nCalled from file \"toplevel/toploop.ml\", line 208, characters 17-27\n\u001b[0m"
     ]
    }
   ],
   "source": [
    "giorno 8;;"
   ]
  },
  {
   "cell_type": "markdown",
   "id": "ed7e3f5c",
   "metadata": {
    "slideshow": {
     "slide_type": "slide"
    }
   },
   "source": [
    "### Pattern matching e costrutto `function`\n",
    "\n",
    "Come già detto in precedenza, il costrutto `function` è alternativo a `fun` nelle definizione di funzioni. Rispetto a `fun` function ha la limitazione di prevedere un unico parametro."
   ]
  },
  {
   "cell_type": "code",
   "execution_count": 84,
   "id": "d79c46ba",
   "metadata": {
    "slideshow": {
     "slide_type": "-"
    }
   },
   "outputs": [
    {
     "data": {
      "text/plain": [
       "- : int -> int = <fun>\n"
      ]
     },
     "execution_count": 84,
     "metadata": {},
     "output_type": "execute_result"
    }
   ],
   "source": [
    "function x -> x + 1 ;;"
   ]
  },
  {
   "cell_type": "markdown",
   "id": "3189f968",
   "metadata": {
    "slideshow": {
     "slide_type": "slide"
    }
   },
   "source": [
    "L'utilità di `function` sta nel fatto che include un meccanismo di pattern matching sul suo (unico) parametro. Anziché scrivere:"
   ]
  },
  {
   "cell_type": "code",
   "execution_count": 86,
   "id": "a96d88bf",
   "metadata": {
    "slideshow": {
     "slide_type": "-"
    }
   },
   "outputs": [
    {
     "data": {
      "text/plain": [
       "val isEmpty : 'a list -> bool = <fun>\n"
      ]
     },
     "execution_count": 86,
     "metadata": {},
     "output_type": "execute_result"
    }
   ],
   "source": [
    "let isEmpty lis =\n",
    "    match lis with\n",
    "    | [] -> true\n",
    "    | x::lis' -> false ;;"
   ]
  },
  {
   "cell_type": "markdown",
   "id": "b5781171",
   "metadata": {
    "slideshow": {
     "slide_type": "-"
    }
   },
   "source": [
    "Si può invece scrivere:"
   ]
  },
  {
   "cell_type": "code",
   "execution_count": 87,
   "id": "a8917e4e",
   "metadata": {
    "slideshow": {
     "slide_type": "-"
    }
   },
   "outputs": [
    {
     "data": {
      "text/plain": [
       "val isEmpty : 'a list -> bool = <fun>\n"
      ]
     },
     "execution_count": 87,
     "metadata": {},
     "output_type": "execute_result"
    }
   ],
   "source": [
    "let isEmpty = function\n",
    "    | [] -> true\n",
    "    | x::lis' -> false ;;"
   ]
  },
  {
   "cell_type": "markdown",
   "id": "74b022e5",
   "metadata": {
    "slideshow": {
     "slide_type": "notes"
    }
   },
   "source": [
    "andando quindi a definire un elenco di pattern al posto del parametro della funzione. (Infatti `lis` non è più nominato... dopo `function` ci sono direttamente i pattern.)\n",
    "\n",
    "Se la funzione deve prevedere più di un parametro, function lavora solo sull'ultimo. Ossia la funzione:"
   ]
  },
  {
   "cell_type": "code",
   "execution_count": 89,
   "id": "0ffc822a",
   "metadata": {
    "slideshow": {
     "slide_type": "notes"
    }
   },
   "outputs": [
    {
     "data": {
      "text/plain": [
       "val is_first : 'a -> 'a list -> bool = <fun>\n"
      ]
     },
     "execution_count": 89,
     "metadata": {},
     "output_type": "execute_result"
    }
   ],
   "source": [
    "let is_first n lis =\n",
    "    match lis with \n",
    "    | [] -> false;\n",
    "    | x::lis' -> x=n ;;"
   ]
  },
  {
   "cell_type": "markdown",
   "id": "260ba96e",
   "metadata": {
    "slideshow": {
     "slide_type": "notes"
    }
   },
   "source": [
    "Può essere riscritta (visto che il parametro su cui si fa pattern matching è l'ultimo) come segue:"
   ]
  },
  {
   "cell_type": "code",
   "execution_count": 90,
   "id": "ee3eac32",
   "metadata": {
    "slideshow": {
     "slide_type": "notes"
    }
   },
   "outputs": [
    {
     "data": {
      "text/plain": [
       "val is_first : 'a -> 'a list -> bool = <fun>\n"
      ]
     },
     "execution_count": 90,
     "metadata": {},
     "output_type": "execute_result"
    }
   ],
   "source": [
    "let is_first n = function\n",
    "    | [] -> false\n",
    "    | x::lis' -> x=n ;;"
   ]
  },
  {
   "cell_type": "markdown",
   "id": "57ab1de9",
   "metadata": {
    "slideshow": {
     "slide_type": "slide"
    }
   },
   "source": [
    "## La vera potenza del Pattern Matching\n",
    "\n",
    "Abbiamo usato il pattern matching come strumento di *selezione condizionale*:\n",
    "\n",
    "* l'abbiamo usato un po' come il costrutto `switch` presente in molti altri linguaggi (ad es. JavaScript)\n",
    "* rispetto ad uno `switch` (o a un `if`) ci ha consentito di esprimere condizioni sulla struttura (ad es. lista non vuota, usando il pattern `x::lis`)\n",
    "\n",
    "La vera potenza del pattern matching è che consente di \"smontare\" le strutture dati:\n",
    "\n",
    "* elaborare i singoli elementi di una tupla\n",
    "* elaborare i singoli elementi di una lista\n",
    "* estrarre una sottolista\n",
    "\n",
    "Questo grazie alle variabili presenti nei pattern!"
   ]
  },
  {
   "cell_type": "markdown",
   "id": "e7eb4a45",
   "metadata": {
    "slideshow": {
     "slide_type": "slide"
    }
   },
   "source": [
    "Quando un valore fa match con un pattern `P_i` che contiene variabili, quelle variabili vengono istanziate e sono utilizzabili nell'espressione `EXP_i`"
   ]
  },
  {
   "cell_type": "code",
   "execution_count": 34,
   "id": "ec3115bb",
   "metadata": {},
   "outputs": [
    {
     "data": {
      "text/plain": [
       "val primo : 'a * 'b -> 'a = <fun>\n"
      ]
     },
     "execution_count": 34,
     "metadata": {},
     "output_type": "execute_result"
    }
   ],
   "source": [
    "let primo t =\n",
    "    match t with\n",
    "    | (x,_) -> x ;;"
   ]
  },
  {
   "cell_type": "code",
   "execution_count": 35,
   "id": "6e93a53f",
   "metadata": {},
   "outputs": [
    {
     "data": {
      "text/plain": [
       "val somma : int * int -> int = <fun>\n"
      ]
     },
     "execution_count": 35,
     "metadata": {},
     "output_type": "execute_result"
    }
   ],
   "source": [
    "let somma t =\n",
    "    match t with\n",
    "    | (x,y) -> x+y ;;"
   ]
  },
  {
   "cell_type": "markdown",
   "id": "0f46491c",
   "metadata": {
    "slideshow": {
     "slide_type": "fragment"
    }
   },
   "source": [
    "Abbiamo già visto che, sfruttando il pattern matching implicito in `let`, queste funzioni possono essere scritte più semplicemente così:"
   ]
  },
  {
   "cell_type": "code",
   "execution_count": 36,
   "id": "82190628",
   "metadata": {},
   "outputs": [
    {
     "data": {
      "text/plain": [
       "val primo : 'a * 'b -> 'a = <fun>\n"
      ]
     },
     "execution_count": 36,
     "metadata": {},
     "output_type": "execute_result"
    },
    {
     "data": {
      "text/plain": [
       "val somma : int * int -> int = <fun>\n"
      ]
     },
     "execution_count": 36,
     "metadata": {},
     "output_type": "execute_result"
    }
   ],
   "source": [
    "let primo (x,y) = x ;;\n",
    "let somma (x,y) = x+y ;;"
   ]
  },
  {
   "cell_type": "markdown",
   "id": "ba03c94b",
   "metadata": {
    "slideshow": {
     "slide_type": "slide"
    }
   },
   "source": [
    "Un primo esempio con le liste:"
   ]
  },
  {
   "cell_type": "code",
   "execution_count": 37,
   "id": "44f51396",
   "metadata": {},
   "outputs": [
    {
     "name": "stderr",
     "output_type": "stream",
     "text": [
      "File \"[37]\", line 2, characters 4-37:\n",
      "2 | ....match lis with\n",
      "3 |     | x::lis' -> x...\n",
      "Warning 8: this pattern-matching is not exhaustive.\n",
      "Here is an example of a case that is not matched:\n",
      "[]\n"
     ]
    },
    {
     "data": {
      "text/plain": [
       "val testa : 'a list -> 'a = <fun>\n"
      ]
     },
     "execution_count": 37,
     "metadata": {},
     "output_type": "execute_result"
    }
   ],
   "source": [
    "let testa lis =\n",
    "    match lis with\n",
    "    | x::lis' -> x ;;"
   ]
  },
  {
   "cell_type": "markdown",
   "id": "25b90ec1",
   "metadata": {},
   "source": [
    "A causa del pattern matching non esaustivo, questa è una *funzione parziale*\n",
    "\n",
    "* funziona solo su liste non vuote"
   ]
  },
  {
   "cell_type": "markdown",
   "id": "4e47f9e1",
   "metadata": {
    "slideshow": {
     "slide_type": "notes"
    }
   },
   "source": [
    "### Accorpare casi del pattern matching\n",
    "\n",
    "E' possibile accorpare casi del pattern matching per associarli alla stessa espressione\n"
   ]
  },
  {
   "cell_type": "code",
   "execution_count": 38,
   "id": "e8f0f6c6",
   "metadata": {
    "slideshow": {
     "slide_type": "notes"
    }
   },
   "outputs": [
    {
     "data": {
      "text/plain": [
       "val giorno_festivo : int -> string = <fun>\n"
      ]
     },
     "execution_count": 38,
     "metadata": {},
     "output_type": "execute_result"
    }
   ],
   "source": [
    "let giorno_festivo n = \n",
    "    match n with\n",
    "    | 1 | 2 | 3 | 4 | 5 -> \"feriale\"\n",
    "    | 6 | 7 -> \"festivo\"\n",
    "    | _ -> \"ERRORE\" ;;"
   ]
  },
  {
   "cell_type": "markdown",
   "id": "bfec60f9",
   "metadata": {
    "slideshow": {
     "slide_type": "notes"
    }
   },
   "source": [
    "Ma se si usano variabili, bisogna che siano presenti in tutti i pattern accorpati"
   ]
  },
  {
   "cell_type": "code",
   "execution_count": 39,
   "id": "0c6ff581",
   "metadata": {
    "slideshow": {
     "slide_type": "notes"
    }
   },
   "outputs": [
    {
     "data": {
      "text/plain": [
       "val somma_coppia : int * int -> int = <fun>\n"
      ]
     },
     "execution_count": 39,
     "metadata": {},
     "output_type": "execute_result"
    }
   ],
   "source": [
    "let rec somma_coppia c =\n",
    "    match c with\n",
    "    | (x,0) | (0,x) -> x\n",
    "    | (x,y) -> x+y ;; "
   ]
  },
  {
   "cell_type": "markdown",
   "id": "861b9460",
   "metadata": {
    "slideshow": {
     "slide_type": "notes"
    }
   },
   "source": [
    "Altrimenti bisogna separare i casi, o sostituire le variabili (se non servono) con `_`"
   ]
  },
  {
   "cell_type": "code",
   "execution_count": 40,
   "id": "5d39ced9",
   "metadata": {
    "slideshow": {
     "slide_type": "notes"
    }
   },
   "outputs": [
    {
     "ename": "error",
     "evalue": "compile_error",
     "output_type": "error",
     "traceback": [
      "File \"[40]\", line 3, characters 6-22:\n3 |     | x::[] | x::y::[] -> true\n          ^^^^^^^^^^^^^^^^\nError: Variable y must occur on both sides of this | pattern\n"
     ]
    }
   ],
   "source": [
    "let lunghezza_uno_due lis =\n",
    "    match lis with\n",
    "    | x::[] | x::y::[] -> true\n",
    "    | _ -> false ;;"
   ]
  },
  {
   "cell_type": "markdown",
   "id": "59ec89db",
   "metadata": {
    "slideshow": {
     "slide_type": "notes"
    }
   },
   "source": [
    "In questo esempio sono stati accorpati i pattern `x::[]` e `x::y::[]`, e il problema è che la variabile `y` è usata solo in uno dei due casi pattern. Questo non piace al compilatore, in quanto `y` potrebbe essere usata nell'espressione associata a questi due pattern, e se così fosse quando la lista ha lunghezza uno l'espressione si troverebbe ad usare una variabile a cui non è associato alcun valore.\n",
    "\n",
    "Ad esempio, se avessimo avuto:\n",
    "\n",
    "```\n",
    "| x::[] | x::y::[] -> x+y\n",
    "```\n",
    "\n",
    "nel caso in cui la lista avesse fatto match con `x::[]`, la variabile `y` nell'espressione `x+y` non sarebbe stata definita.\n",
    "\n",
    "Nell'esempio della funzione `lunghezza_uno_due` in realtà questo problema non accade, in quanto l'espressione associata ai pattern è semplicemente `true`, e quindi non usa nessuna variabile. Il compilatore, però, effettua i controlli sulle variabili nei pattern senza tenere conto dell'espressione a destra di `->`, e per questo segnala l'errore.\n",
    "\n",
    "Per risolvere la situazione, una prima soluzione è di separare i pattern in due casi distinti:"
   ]
  },
  {
   "cell_type": "code",
   "execution_count": 41,
   "id": "4a74407f",
   "metadata": {
    "slideshow": {
     "slide_type": "notes"
    }
   },
   "outputs": [
    {
     "data": {
      "text/plain": [
       "val lunghezza_uno_due : 'a list -> bool = <fun>\n"
      ]
     },
     "execution_count": 41,
     "metadata": {},
     "output_type": "execute_result"
    }
   ],
   "source": [
    "let lunghezza_uno_due lis =\n",
    "    match lis with\n",
    "    | x::[] -> true \n",
    "    | x::y::[] -> true\n",
    "    | _ -> false ;;"
   ]
  },
  {
   "cell_type": "markdown",
   "id": "1557fcd2",
   "metadata": {
    "slideshow": {
     "slide_type": "notes"
    }
   },
   "source": [
    "Una seconda soluzione, visto che `x` e `y` in realtà non servono a nulla, è di utilizzare la wildcard `_` al posto delle variabili, come segue:"
   ]
  },
  {
   "cell_type": "code",
   "execution_count": 42,
   "id": "61453902",
   "metadata": {
    "slideshow": {
     "slide_type": "notes"
    }
   },
   "outputs": [
    {
     "data": {
      "text/plain": [
       "val lunghezza_uno_due : 'a list -> bool = <fun>\n"
      ]
     },
     "execution_count": 42,
     "metadata": {},
     "output_type": "execute_result"
    }
   ],
   "source": [
    "let lunghezza_uno_due lis =\n",
    "    match lis with\n",
    "    | _::[] | _::_::[] -> true\n",
    "    | _ -> false ;;"
   ]
  },
  {
   "cell_type": "markdown",
   "id": "e8d00add",
   "metadata": {
    "slideshow": {
     "slide_type": "slide"
    }
   },
   "source": [
    "## Funzioni ricorsive su liste\n",
    "Il pattern matching ci consente ora di scrivere funzioni (ricorsive) che processano liste"
   ]
  },
  {
   "cell_type": "code",
   "execution_count": 43,
   "id": "0c77e99a",
   "metadata": {},
   "outputs": [
    {
     "data": {
      "text/plain": [
       "val length : 'a list -> int = <fun>\n"
      ]
     },
     "execution_count": 43,
     "metadata": {},
     "output_type": "execute_result"
    }
   ],
   "source": [
    "let rec length lis =\n",
    "    match lis with\n",
    "    | [] -> 0\n",
    "    | x::lis' -> 1 + length lis' ;;"
   ]
  },
  {
   "cell_type": "code",
   "execution_count": 44,
   "id": "4874daa5",
   "metadata": {
    "slideshow": {
     "slide_type": "fragment"
    }
   },
   "outputs": [
    {
     "data": {
      "text/plain": [
       "val somma : int list -> int = <fun>\n"
      ]
     },
     "execution_count": 44,
     "metadata": {},
     "output_type": "execute_result"
    }
   ],
   "source": [
    "let rec somma lis =\n",
    "    match lis with\n",
    "    | [] -> 0\n",
    "    | x::lis' -> x + somma lis' ;;"
   ]
  },
  {
   "cell_type": "code",
   "execution_count": 45,
   "id": "f8ba9b1a",
   "metadata": {
    "slideshow": {
     "slide_type": "fragment"
    }
   },
   "outputs": [
    {
     "data": {
      "text/plain": [
       "val contains : 'a -> 'a list -> bool = <fun>\n"
      ]
     },
     "execution_count": 45,
     "metadata": {},
     "output_type": "execute_result"
    }
   ],
   "source": [
    "let rec contains x lis =\n",
    "    match lis with\n",
    "    | [] -> false\n",
    "    | y::lis' -> if y=x then true\n",
    "                 else contains x lis'"
   ]
  },
  {
   "cell_type": "markdown",
   "id": "d83faaa5",
   "metadata": {
    "slideshow": {
     "slide_type": "slide"
    }
   },
   "source": [
    "Implementazione di `@`:"
   ]
  },
  {
   "cell_type": "code",
   "execution_count": 46,
   "id": "e87f34d0",
   "metadata": {
    "slideshow": {
     "slide_type": "-"
    }
   },
   "outputs": [
    {
     "data": {
      "text/plain": [
       "val append : 'a list -> 'a list -> 'a list = <fun>\n"
      ]
     },
     "execution_count": 46,
     "metadata": {},
     "output_type": "execute_result"
    }
   ],
   "source": [
    "let rec append l1 l2 =\n",
    "  match l1 with\n",
    "    [] -> l2\n",
    "  | x :: l1' -> x :: (append l1' l2)"
   ]
  },
  {
   "cell_type": "markdown",
   "id": "61cc55f6",
   "metadata": {},
   "source": [
    "Richiede tempo lineare nella lunghezza di `l1`"
   ]
  },
  {
   "cell_type": "markdown",
   "id": "9c89900d",
   "metadata": {
    "slideshow": {
     "slide_type": "slide"
    }
   },
   "source": [
    "Rovesciare una lista\n",
    "\n",
    "Soluzione poco efficiente (perché usa `@`):"
   ]
  },
  {
   "cell_type": "code",
   "execution_count": 47,
   "id": "f8cb8deb",
   "metadata": {},
   "outputs": [
    {
     "data": {
      "text/plain": [
       "val rev : 'a list -> 'a list = <fun>\n"
      ]
     },
     "execution_count": 47,
     "metadata": {},
     "output_type": "execute_result"
    }
   ],
   "source": [
    "let rec rev lis =\n",
    "    match lis with\n",
    "    | [] -> []\n",
    "    | x::lis' -> (rev lis') @ [x] ;;"
   ]
  },
  {
   "cell_type": "markdown",
   "id": "df48882c",
   "metadata": {
    "slideshow": {
     "slide_type": "fragment"
    }
   },
   "source": [
    "Soluzione più efficiente che usa un parametro `lis2` di accumulazione del risultato (*accumulatore*):"
   ]
  },
  {
   "cell_type": "code",
   "execution_count": 48,
   "id": "049f498a",
   "metadata": {},
   "outputs": [
    {
     "data": {
      "text/plain": [
       "val rev : 'a list -> 'a list = <fun>\n"
      ]
     },
     "execution_count": 48,
     "metadata": {},
     "output_type": "execute_result"
    }
   ],
   "source": [
    "let rev lis =\n",
    "    let rec rev_accum lis1 lis2 =\n",
    "        match lis1 with\n",
    "        | [] -> lis2\n",
    "        | x::lis1' -> rev_accum lis1' (x::lis2)\n",
    "    in\n",
    "        rev_accum lis [] ;;"
   ]
  },
  {
   "cell_type": "markdown",
   "id": "92397304",
   "metadata": {
    "slideshow": {
     "slide_type": "notes"
    }
   },
   "source": [
    "La funzione `rev_accum` ad ogni chiamata ricorsiva prende l'elemento in testa alla lista `lis1` e lo \"sposta\" in testa alla lista `lis2`. Quindi gli elementi vengono presi uno dopo l'altro da `lis1` e aggiunti uno prima dell'altro in `lis2`, con il risultato di rovesciare la lista.\n",
    "\n",
    "In questo esempio il parametro `lis2` è detto *accumulatore* in quanto è un parametro che viene usato per costruire passo passo il risultato. Nell'ambito della programmazione funzionale, in cui la ricorsione è fondamentale e largamente usata, i parametri di accumulazione vengono spesso utilizzati in quanto consentono di definire funzioni con la ricorsione in coda (*tail-recursive*), ossia in cui la chiamata ricorsiva è l'ultima operazione svolta.\n",
    "\n",
    "Questo è il caso anche della funzione `rev_accum`, in cui, nel caso ricorsivo, la cui chiamata ricorsiva è l'ultima operazione effettivamente svolta, dopo aver creato il risultato parziale `x::lis2` nel parametro di accumulazione.\n",
    "\n",
    "L'utilizzo della tail-recursion è molto importante nelle funzioni che prevedono una lunga sequenza di chiamate ricorsive. Essa infatti, grazie ad ottimizzazioni che vengono svolte a tempo di esecuzione, consente di allocare nello stack un unico record di attivazione \"riciclandolo\" ad ogni chiamata ricorsiva. Come conseguenza, il programma viene eseguito più velocemente (si risparmia il tempo di allocare un nuovo record di attivazione), consumando meno memoria e, soprattutto, senza correre il rischio di riempire tutta la memoria a disposizione dello stack (*stack overflow*) con un conseguente arresto del programma."
   ]
  },
  {
   "cell_type": "markdown",
   "id": "81fb3922",
   "metadata": {
    "slideshow": {
     "slide_type": "slide"
    }
   },
   "source": [
    "## Un esempio non banale: area di un poligono irregolare\n",
    "\n",
    "Scriviamo un programma per calcolare l'area di un qualunque poligono usando il metodo descritto qui:\n",
    "\n",
    "* https://www.wikihow.it/Calcolare-l%27Area-di-un-Poligono\n",
    "\n",
    "![Area_poligono](files/images/area_poligono.jpg)           "
   ]
  },
  {
   "cell_type": "markdown",
   "id": "aa9a379a",
   "metadata": {
    "slideshow": {
     "slide_type": "slide"
    }
   },
   "source": [
    "In sostanza, il metodo prevede di:\n",
    "\n",
    "* prendere i vertici *in senso antiorario* come lista di coordinate cartesiane $(x_1,y_1) , \\ldots , (x_n,y_n)$, copiando il primo vertice in fondo alla lista:\n",
    "\n",
    "`[ (-3,-2); (-1,4); (6,1); (3,10); (-4,9); (-3,-2)  ]`\n",
    "\n",
    "* calcolare la somma dei prodotti di ogni $x_i$ con $y_{i+1}$\n",
    "\n",
    "`(-3*4) + (-1*1) + (6*10) + (3*9) + (-4*-2) = 82`\n",
    "\n",
    "* calcolare la somma dei prodotti di ogni $y_i$ con $x_{i+1}$\n",
    "\n",
    "`(-2*-1) + (4*6) + (1*3) + (10*-4) + (9*-3) = -38`\n",
    "\n",
    "* sottrarre il secondo dal primo e dividere per due\n",
    "\n",
    "`(82-(-38))/2 = (82+38)/2 = 120/2 = 60`\n",
    "\n"
   ]
  },
  {
   "cell_type": "markdown",
   "id": "0d54a5ef",
   "metadata": {
    "slideshow": {
     "slide_type": "slide"
    }
   },
   "source": [
    "Soluzione completa:"
   ]
  },
  {
   "cell_type": "code",
   "execution_count": 49,
   "id": "c5b86d90",
   "metadata": {
    "slideshow": {
     "slide_type": "-"
    }
   },
   "outputs": [
    {
     "data": {
      "text/plain": [
       "val poligono : (int * int) list =\n",
       "  [(-3, -2); (-1, 4); (6, 1); (3, 10); (-4, 9)]\n"
      ]
     },
     "execution_count": 49,
     "metadata": {},
     "output_type": "execute_result"
    },
    {
     "data": {
      "text/plain": [
       "val area : (int * int) list -> float = <fun>\n"
      ]
     },
     "execution_count": 49,
     "metadata": {},
     "output_type": "execute_result"
    },
    {
     "data": {
      "text/plain": [
       "- : float = 60.\n"
      ]
     },
     "execution_count": 49,
     "metadata": {},
     "output_type": "execute_result"
    }
   ],
   "source": [
    "let poligono = [ (-3,-2); (-1,4); (6,1); (3,10); (-4,9) ] ;;\n",
    "\n",
    "let area pol = \n",
    "    let rec passo1 (x0,y0) lis = \n",
    "        match lis with\n",
    "        | [] -> 1  (* non viene mai eseguito *)\n",
    "        | (x,y)::[] -> x*y0\n",
    "        | (x1,y1)::(x2,y2)::lis' -> x1*y2 + passo1 (x0,y0) ((x2,y2)::lis')\n",
    "    in\n",
    "    let rec passo2 (x0,y0) lis =\n",
    "        match lis with\n",
    "        | [] -> 1  (* non viene mai eseguito *)\n",
    "        | (x,y)::[] -> y*x0\n",
    "        | (x1,y1)::(x2,y2)::lis' -> y1*x2 + passo2 (x0,y0) ((x2,y2)::lis')\n",
    "    in\n",
    "    match pol with\n",
    "    | [] -> 0.\n",
    "    | p0::lis -> float_of_int (passo1 p0 pol - passo2 p0 pol) /. 2. ;;\n",
    "(* invece che copiare il primo elemento in fondo, lo passiamo come parametro *)\n",
    "    \n",
    "area poligono;;"
   ]
  },
  {
   "cell_type": "markdown",
   "id": "08460b71",
   "metadata": {
    "slideshow": {
     "slide_type": "notes"
    }
   },
   "source": [
    "Questa funzione esegue le due sommatorie previste dal metodo tramite due funzioni ricorsive `passo1` e `passo2`. Queste due funzioni dovrebbero lavorare sulla lista in cui il primo elemento è stato copiato in fondo. Questo richiederebbe innanzitutto di eseguire `pol @ [p0]`, dove `p0=(x0,y0)` è il primo elemento di `pol`. Questo però sarebbe inefficiente e consumerebbe memoria (per copiare tutto `pol`. La soluzione adottata, invece, passa `p0` come parametro a `passo1` e `passo2`. Queste due funzioni continueranno a passarsi `p0` da una chiamata all'altra mentre scorrono la lista. Arrivate in fondo alla lista utilizzeranno il `p0` ricevuto come parametro come se fosse l'ultimo elemento della lista.\n",
    "\n",
    "Le funzioni `passo1` e `passo2` sono sostanzialmente identiche. L'unica cosa che cambia è che la prima ad ogni passo calcola `x1*y2`, mentre la seconda calcola `x2*y1`.\n",
    "\n",
    "L'espressione che avvia il calcolo è quella nell'ultima riga del programma. Se `pol` non è vuota, tramite il pattern `p0::lis` viene identificato il primo elemento di tale lista e viene utilizzato per chiamare `passo1` e `passo2`. Viene eseguita la sottrazione tra i risultati ottenuti dalle due funzioni e poi viene eseguita la divisione per due.\n",
    "\n",
    "Mentre `passo1`, `passo2` e la sottrazione vengono eseguite lavorando su dati di tipo `int` (nota: le coordinate dei punti nella lista sono dati come valori interi) la divisione per due viene eseguita ricorrendo all'operazione su `float`. Questo perché a differenza delle somme, moltiplicazioni e sottrazioni usate in `passo1` e `passo2`, l'operazione di divisione su interi `/` potrebbe introdurre un'approssimazione (l'area potrebbe non essere intera). Per questo motivo è più corretto usare `/.` dopo avere eseguito l'opportuna conversione da `int` a `float`.\n",
    "\n",
    "Vediamo ora però come migliorare questa soluzione evitando di scandire due volte la lista (una volta per `passo1` e una volta per `passo2`)."
   ]
  },
  {
   "cell_type": "markdown",
   "id": "22aaa20e",
   "metadata": {
    "slideshow": {
     "slide_type": "slide"
    }
   },
   "source": [
    "Soluzione migliorata (accorpa `passo1` e `passo2` in un'unica funzione ricorsiva):"
   ]
  },
  {
   "cell_type": "code",
   "execution_count": 50,
   "id": "b627f1c4",
   "metadata": {
    "slideshow": {
     "slide_type": "-"
    }
   },
   "outputs": [
    {
     "data": {
      "text/plain": [
       "val poligono : (int * int) list =\n",
       "  [(-3, -2); (-1, 4); (6, 1); (3, 10); (-4, 9)]\n"
      ]
     },
     "execution_count": 50,
     "metadata": {},
     "output_type": "execute_result"
    },
    {
     "data": {
      "text/plain": [
       "val area : (int * int) list -> float = <fun>\n"
      ]
     },
     "execution_count": 50,
     "metadata": {},
     "output_type": "execute_result"
    },
    {
     "data": {
      "text/plain": [
       "- : float = 60.\n"
      ]
     },
     "execution_count": 50,
     "metadata": {},
     "output_type": "execute_result"
    }
   ],
   "source": [
    "let poligono = [ (-3,-2); (-1,4); (6,1); (3,10); (-4,9) ] ;;\n",
    "\n",
    "let area pol = \n",
    "    let rec calcolo (x0,y0) lis = \n",
    "        match lis with\n",
    "        | [] -> (1,1) (* non viene mai eseguito *)\n",
    "        | (x,y)::[] -> (x*y0 , y*x0)\n",
    "        | (x1,y1)::(x2,y2)::lis' -> \n",
    "            let (ris1,ris2) = calcolo (x0,y0) ((x2,y2)::lis')\n",
    "            in (ris1 + x1*y2 , ris2 + y1*x2)\n",
    "    in\n",
    "    match pol with\n",
    "    | [] -> 0.\n",
    "    | p0::lis -> let (ris1,ris2) = calcolo p0 pol\n",
    "                 in float_of_int (ris1 - ris2) /. 2. ;;\n",
    "    \n",
    "area poligono;;"
   ]
  },
  {
   "cell_type": "markdown",
   "id": "b8a5c336",
   "metadata": {
    "slideshow": {
     "slide_type": "notes"
    }
   },
   "source": [
    "In questa soluzione le funzioni `passo1` e `passo2` sono state sostituite da un'unica funzione ricorsiva `calcolo` che esegue i due conteggi scandendo un'unica volta la lista e portandosi dietro una coppia di valori, anziché un solo valore. Nel primo elemento della coppia verrà calcolato il risultato che corrispondeva a `passo1`, e nel secondo quello che corrispondeva a `passo2`."
   ]
  },
  {
   "cell_type": "markdown",
   "id": "56710819",
   "metadata": {
    "slideshow": {
     "slide_type": "slide"
    }
   },
   "source": [
    "## Funzioni higher-order su liste\n",
    "\n",
    "Abbiamo visto che nella programmazione funzionale la ricorsione è l'unico modo con cui possiamo ripetere un calcolo più volte\n",
    "\n",
    "* Per scandire o elaborare una lista è inevitabile ricorrere alla ricorsione\n",
    "* Esistono però degli schemi ricorrenti nelle funzioni che processano liste...\n",
    "\n",
    "Questi schemi possono essere modellati come utili funzioni higher-order"
   ]
  },
  {
   "cell_type": "markdown",
   "id": "bf3297f1",
   "metadata": {
    "slideshow": {
     "slide_type": "slide"
    }
   },
   "source": [
    "Vediamo qualche esempio:"
   ]
  },
  {
   "cell_type": "code",
   "execution_count": 51,
   "id": "4fd9fd8d",
   "metadata": {},
   "outputs": [
    {
     "data": {
      "text/plain": [
       "val contiene_zero : int list -> bool = <fun>\n"
      ]
     },
     "execution_count": 51,
     "metadata": {},
     "output_type": "execute_result"
    }
   ],
   "source": [
    "let rec contiene_zero lis =\n",
    "    match lis with\n",
    "    | [] -> false\n",
    "    | x::lis' -> if x=0 then true\n",
    "                 else contiene_zero lis' ;;"
   ]
  },
  {
   "cell_type": "code",
   "execution_count": 52,
   "id": "5ec9a62a",
   "metadata": {},
   "outputs": [
    {
     "data": {
      "text/plain": [
       "val contiene_positivo : int list -> bool = <fun>\n"
      ]
     },
     "execution_count": 52,
     "metadata": {},
     "output_type": "execute_result"
    }
   ],
   "source": [
    "let rec contiene_positivo lis =\n",
    "    match lis with\n",
    "    | [] -> false\n",
    "    | x::lis' -> if x>0 then true\n",
    "                 else contiene_positivo lis' ;;"
   ]
  },
  {
   "cell_type": "code",
   "execution_count": 53,
   "id": "d6df9c43",
   "metadata": {},
   "outputs": [
    {
     "data": {
      "text/plain": [
       "val contiene_pari : int list -> bool = <fun>\n"
      ]
     },
     "execution_count": 53,
     "metadata": {},
     "output_type": "execute_result"
    }
   ],
   "source": [
    "let rec contiene_pari lis =\n",
    "    match lis with\n",
    "    | [] -> false\n",
    "    | x::lis' -> if x mod 2 = 0 then true\n",
    "                 else contiene_pari lis' ;;"
   ]
  },
  {
   "cell_type": "markdown",
   "id": "c5abd985",
   "metadata": {
    "slideshow": {
     "slide_type": "slide"
    }
   },
   "source": [
    "Tutte queste funzioni:\n",
    "\n",
    "* scandiscono la lista (usando la ricorsione)\n",
    "* valutano una *condizione* su ogni elemento (essere uguale a `x`, essere positivo, essere pari, ...)\n",
    "* restituiscono `true` se incontrano un elemento in cui la condizione è vera\n",
    "* restituiscono `false` se arrivano in fondo alla lista"
   ]
  },
  {
   "cell_type": "markdown",
   "id": "db824529",
   "metadata": {
    "slideshow": {
     "slide_type": "fragment"
    }
   },
   "source": [
    "L'unica differenza tra le tre funzioni `contiene_zero`, `contiene_positivo` e `contiene_pari` è nella condizione testata su ogni elemento"
   ]
  },
  {
   "cell_type": "markdown",
   "id": "c98ba880",
   "metadata": {
    "slideshow": {
     "slide_type": "fragment"
    }
   },
   "source": [
    "**IDEA:** \n",
    "\n",
    "* astraiamo il test della condizione come un *predicato* (funzione `XXX -> bool`)\n",
    "* scriviamo un'unica funzione che prende tale predicato come parametro e verifica se ESISTA un elemento che lo soddisfi"
   ]
  },
  {
   "cell_type": "markdown",
   "id": "45556c31",
   "metadata": {
    "slideshow": {
     "slide_type": "slide"
    }
   },
   "source": [
    "### Exists\n",
    "\n",
    "Ecco la funzione (higher-order) che rappresenta questo schema"
   ]
  },
  {
   "cell_type": "code",
   "execution_count": 54,
   "id": "7881dc7a",
   "metadata": {},
   "outputs": [
    {
     "data": {
      "text/plain": [
       "val exists : ('a -> bool) -> 'a list -> bool = <fun>\n"
      ]
     },
     "execution_count": 54,
     "metadata": {},
     "output_type": "execute_result"
    }
   ],
   "source": [
    "let rec exists p lis =\n",
    "    match lis with\n",
    "    | [] -> false\n",
    "    | x::lis' -> if p x then true\n",
    "                 else exists p lis' ;;"
   ]
  },
  {
   "cell_type": "markdown",
   "id": "27d5ba55",
   "metadata": {
    "slideshow": {
     "slide_type": "fragment"
    }
   },
   "source": [
    "ora possiamo ridefinire le funzioni `contiene_zero`, `contiene_positivo` e `contiene_pari` usando la ricorsione in modo implicito (nascosta dentro a `exists`)"
   ]
  },
  {
   "cell_type": "code",
   "execution_count": 55,
   "id": "09ee795d",
   "metadata": {},
   "outputs": [
    {
     "data": {
      "text/plain": [
       "val contiene_zero : int list -> bool = <fun>\n"
      ]
     },
     "execution_count": 55,
     "metadata": {},
     "output_type": "execute_result"
    },
    {
     "data": {
      "text/plain": [
       "val contiene_positivo : int list -> bool = <fun>\n"
      ]
     },
     "execution_count": 55,
     "metadata": {},
     "output_type": "execute_result"
    },
    {
     "data": {
      "text/plain": [
       "val contiene_pari : int list -> bool = <fun>\n"
      ]
     },
     "execution_count": 55,
     "metadata": {},
     "output_type": "execute_result"
    }
   ],
   "source": [
    "let contiene_zero lis = exists (fun x -> x=0) lis ;;\n",
    "let contiene_positivo lis = exists (fun x -> x>0) lis ;;\n",
    "let contiene_pari lis = exists (fun x -> x mod 2 = 0) lis ;;"
   ]
  },
  {
   "cell_type": "markdown",
   "id": "811eb532",
   "metadata": {
    "slideshow": {
     "slide_type": "slide"
    }
   },
   "source": [
    "Anche la funzione `contains`, che verifica se un certo elemento è presente, può essere espressa in termini di `exists`:"
   ]
  },
  {
   "cell_type": "code",
   "execution_count": 56,
   "id": "f0b74bcb",
   "metadata": {
    "slideshow": {
     "slide_type": "-"
    }
   },
   "outputs": [
    {
     "data": {
      "text/plain": [
       "val contains : 'a -> 'a list -> bool = <fun>\n"
      ]
     },
     "execution_count": 56,
     "metadata": {},
     "output_type": "execute_result"
    }
   ],
   "source": [
    "let contains x lis = exists (fun y -> x=y) lis ;;"
   ]
  },
  {
   "cell_type": "markdown",
   "id": "51b34188",
   "metadata": {
    "slideshow": {
     "slide_type": "fragment"
    }
   },
   "source": [
    "In questo caso la funzione `exists` riceve la *chiusura* del predicato\n",
    "\n",
    "* include il valore corrente di `x`"
   ]
  },
  {
   "cell_type": "markdown",
   "id": "eac6dcaf",
   "metadata": {
    "slideshow": {
     "slide_type": "fragment"
    }
   },
   "source": [
    "Vediamo un altro modo \"creativo\" di definire `contains` con il paradigma funzionale\n",
    "\n",
    "* usando un'applicazione parziale di funzione"
   ]
  },
  {
   "cell_type": "code",
   "execution_count": 57,
   "id": "ed149696",
   "metadata": {},
   "outputs": [
    {
     "data": {
      "text/plain": [
       "val uguale : 'a -> 'a -> bool = <fun>\n"
      ]
     },
     "execution_count": 57,
     "metadata": {},
     "output_type": "execute_result"
    },
    {
     "data": {
      "text/plain": [
       "val contains : 'a -> 'a list -> bool = <fun>\n"
      ]
     },
     "execution_count": 57,
     "metadata": {},
     "output_type": "execute_result"
    }
   ],
   "source": [
    "let uguale x y = x=y;;\n",
    "let contains x lis = exists (uguale x) lis;;"
   ]
  },
  {
   "cell_type": "markdown",
   "id": "9aeb23c8",
   "metadata": {
    "slideshow": {
     "slide_type": "slide"
    }
   },
   "source": [
    "### Forall\n",
    "\n",
    "In modo simile possiamo definire una funzione higher-order che testa un predicato su *tutti* gli elementi della lista"
   ]
  },
  {
   "cell_type": "code",
   "execution_count": 58,
   "id": "bf7bf991",
   "metadata": {},
   "outputs": [
    {
     "data": {
      "text/plain": [
       "val forall : ('a -> bool) -> 'a list -> bool = <fun>\n"
      ]
     },
     "execution_count": 58,
     "metadata": {},
     "output_type": "execute_result"
    }
   ],
   "source": [
    "let rec forall p lis =\n",
    "    match lis with\n",
    "    | [] -> true\n",
    "    | x::lis' -> if p x then forall p lis'\n",
    "                 else false ;;"
   ]
  },
  {
   "cell_type": "markdown",
   "id": "62a6ec8e",
   "metadata": {
    "slideshow": {
     "slide_type": "fragment"
    }
   },
   "source": [
    "e possiamo definire le funzioni `tutti_zeri`, `tutti_positivi` e `tutti_pari`"
   ]
  },
  {
   "cell_type": "code",
   "execution_count": 59,
   "id": "162e16e2",
   "metadata": {},
   "outputs": [
    {
     "data": {
      "text/plain": [
       "val tutti_zeri : int list -> bool = <fun>\n"
      ]
     },
     "execution_count": 59,
     "metadata": {},
     "output_type": "execute_result"
    },
    {
     "data": {
      "text/plain": [
       "val tutti_positivi : int list -> bool = <fun>\n"
      ]
     },
     "execution_count": 59,
     "metadata": {},
     "output_type": "execute_result"
    },
    {
     "data": {
      "text/plain": [
       "val tutti_pari : int list -> bool = <fun>\n"
      ]
     },
     "execution_count": 59,
     "metadata": {},
     "output_type": "execute_result"
    }
   ],
   "source": [
    "let tutti_zeri lis = forall (fun x -> x=0) lis ;;\n",
    "let tutti_positivi lis = forall (fun x -> x>0) lis ;;\n",
    "let tutti_pari lis = forall (fun x -> x mod 2 = 0) lis ;;"
   ]
  },
  {
   "cell_type": "markdown",
   "id": "88ef9804",
   "metadata": {
    "slideshow": {
     "slide_type": "slide"
    }
   },
   "source": [
    "### Filter\n",
    "\n",
    "Un'altra operazione frequente sulle liste è quella di selezionare (filtrare) gli elementi secondo una condizione\n",
    "\n",
    "* restituendo la lista degli elementi che la soddisfano\n",
    "\n",
    "Anche in questo caso, possiamo definire una funzione higher-order che astrae la condizione con un predicato"
   ]
  },
  {
   "cell_type": "code",
   "execution_count": 60,
   "id": "581ef7c2",
   "metadata": {},
   "outputs": [
    {
     "data": {
      "text/plain": [
       "val filter : ('a -> bool) -> 'a list -> 'a list = <fun>\n"
      ]
     },
     "execution_count": 60,
     "metadata": {},
     "output_type": "execute_result"
    }
   ],
   "source": [
    "let rec filter p lis =\n",
    "    match lis with\n",
    "    | [] -> []\n",
    "    | x::lis' -> if p x then x::filter p lis'\n",
    "                 else filter p lis' ;;"
   ]
  },
  {
   "cell_type": "markdown",
   "id": "39ea4ef2",
   "metadata": {},
   "source": [
    "Questa volta la funzione restituisce una lista"
   ]
  },
  {
   "cell_type": "markdown",
   "id": "c719771b",
   "metadata": {
    "slideshow": {
     "slide_type": "slide"
    }
   },
   "source": [
    "Possiamo usare `filter` per definire le funzioni `estrai_zeri`, `estrai_positivi` e `estra_pari`, sempre usando la ricorsione in modo implicito."
   ]
  },
  {
   "cell_type": "code",
   "execution_count": 61,
   "id": "86ae5601",
   "metadata": {},
   "outputs": [
    {
     "data": {
      "text/plain": [
       "val estrai_zeri : int list -> int list = <fun>\n"
      ]
     },
     "execution_count": 61,
     "metadata": {},
     "output_type": "execute_result"
    },
    {
     "data": {
      "text/plain": [
       "val estrai_positivi : int list -> int list = <fun>\n"
      ]
     },
     "execution_count": 61,
     "metadata": {},
     "output_type": "execute_result"
    },
    {
     "data": {
      "text/plain": [
       "val estrai_pari : int list -> int list = <fun>\n"
      ]
     },
     "execution_count": 61,
     "metadata": {},
     "output_type": "execute_result"
    }
   ],
   "source": [
    "let estrai_zeri lis = filter (fun x -> x=0) lis ;;\n",
    "let estrai_positivi lis = filter (fun x -> x>0) lis ;;\n",
    "let estrai_pari lis = filter (fun x -> x mod 2 = 0) lis ;;"
   ]
  },
  {
   "cell_type": "markdown",
   "id": "8838ef73",
   "metadata": {
    "slideshow": {
     "slide_type": "slide"
    }
   },
   "source": [
    "### Map\n",
    "\n",
    "Altra elaborazione frequente: applicare la stessa operazione a tutti gli elementi\n",
    "\n",
    "* produce una nuova lista con tanti elementi quanto quella processata\n",
    "* il tipo degli elementi può essere diverso\n",
    "* per astrarre sull'operazione abbiamo bisogno di una funzione, non di un predicato"
   ]
  },
  {
   "cell_type": "code",
   "execution_count": 62,
   "id": "2953bfe0",
   "metadata": {
    "slideshow": {
     "slide_type": "-"
    }
   },
   "outputs": [
    {
     "data": {
      "text/plain": [
       "val map : ('a -> 'b) -> 'a list -> 'b list = <fun>\n"
      ]
     },
     "execution_count": 62,
     "metadata": {},
     "output_type": "execute_result"
    }
   ],
   "source": [
    "let rec map f lis =\n",
    "    match lis with\n",
    "    | [] -> []\n",
    "    | x::lis' -> f x::map f lis' ;;"
   ]
  },
  {
   "cell_type": "markdown",
   "id": "6feca22a",
   "metadata": {
    "slideshow": {
     "slide_type": "slide"
    }
   },
   "source": [
    "Qualche esempio d'uso:"
   ]
  },
  {
   "cell_type": "code",
   "execution_count": 63,
   "id": "e6be4505",
   "metadata": {},
   "outputs": [
    {
     "data": {
      "text/plain": [
       "- : int list = [2; 3; 4]\n"
      ]
     },
     "execution_count": 63,
     "metadata": {},
     "output_type": "execute_result"
    }
   ],
   "source": [
    "map (fun x -> x+1) [1;2;3] ;;"
   ]
  },
  {
   "cell_type": "code",
   "execution_count": 64,
   "id": "1dc0da09",
   "metadata": {},
   "outputs": [
    {
     "data": {
      "text/plain": [
       "val primo : ('a * 'b) list -> 'a list = <fun>\n"
      ]
     },
     "execution_count": 64,
     "metadata": {},
     "output_type": "execute_result"
    },
    {
     "data": {
      "text/plain": [
       "- : int list = [3; 4; 9]\n"
      ]
     },
     "execution_count": 64,
     "metadata": {},
     "output_type": "execute_result"
    }
   ],
   "source": [
    "let primo lis = map (fun (x,y) -> x) lis ;;\n",
    "primo [ (3,2); (4,7); (9,2)] ;;"
   ]
  },
  {
   "cell_type": "markdown",
   "id": "0b679de0",
   "metadata": {
    "slideshow": {
     "slide_type": "slide"
    }
   },
   "source": [
    "### Fold-right\n",
    "Le funzioni higher-order viste fino ad ora lavoravano sui singoli elementi della lista in modo indipendente:\n",
    "\n",
    "* `filter` valuta ogni elemento e sceglie se inserirlo nel risultato (indipendentemente dagli altri)\n",
    "* `map` applica una funzione ad ogni elemento (indipendentemente dagli altri)\n",
    "* ..."
   ]
  },
  {
   "cell_type": "markdown",
   "id": "66dfe090",
   "metadata": {
    "slideshow": {
     "slide_type": "fragment"
    }
   },
   "source": [
    "Spesso si vuole elaborare tutti gli elementi della lista per calcolare un unico risultato\n",
    "\n",
    "Ad esempio:\n",
    "\n",
    "* Calcolare la *somma* degli elementi di una lista\n",
    "* Calcolare *minimo e massimo* di una lista\n",
    "* *Concatenare tutti gli elementi* di una lista di stringhe"
   ]
  },
  {
   "cell_type": "markdown",
   "id": "42531a4b",
   "metadata": {
    "slideshow": {
     "slide_type": "slide"
    }
   },
   "source": [
    "Intuitivamente, queste elaborazioni richiedono di scandire la lista portandosi dietro una o più variabili che memorizzano il *risultato parziale* via via calcolato\n",
    "\n",
    "Ad esempio, nell'approccio imperativo (in JavaScript e con array...) useremmo un `for`:\n",
    "\n",
    "```\n",
    "function somma(a) {\n",
    "    var s = 0\n",
    "    for (var i in a)\n",
    "        s += a[i] \n",
    "    return s\n",
    "}\n",
    "```\n",
    "Lo stesso per calcolare minimo e massimo, concatenare tutti gli elementi, ecc..."
   ]
  },
  {
   "cell_type": "markdown",
   "id": "ca3fe491",
   "metadata": {
    "slideshow": {
     "slide_type": "fragment"
    }
   },
   "source": [
    "L'importante è capire:\n",
    "\n",
    "* che variabili \"portarsi dietro\" nel ciclo\n",
    "* come aggiornarle ad ogni iterazione"
   ]
  },
  {
   "cell_type": "markdown",
   "id": "7d2a55fb",
   "metadata": {
    "slideshow": {
     "slide_type": "slide"
    }
   },
   "source": [
    "Anche seguendo un approccio *ricorsivo*, nella scansione di una lista è fondamentale capire come portarsi dietro il risultato parziale e come aggiornalo ad ogni passo\n",
    "\n",
    "Il risultato parziale non sarà memorizzato in una variabile, ma passato da una chiamata all'altra come parametro o valore di ritorno"
   ]
  },
  {
   "cell_type": "code",
   "execution_count": 65,
   "id": "78c47082",
   "metadata": {
    "slideshow": {
     "slide_type": "-"
    }
   },
   "outputs": [
    {
     "data": {
      "text/plain": [
       "val somma : int list -> int = <fun>\n"
      ]
     },
     "execution_count": 65,
     "metadata": {},
     "output_type": "execute_result"
    },
    {
     "data": {
      "text/plain": [
       "- : int = 9\n"
      ]
     },
     "execution_count": 65,
     "metadata": {},
     "output_type": "execute_result"
    }
   ],
   "source": [
    "let rec somma lis =\n",
    "    match lis with\n",
    "    | [] -> 0\n",
    "    | x::lis' -> x + somma lis' ;;\n",
    "somma [3;2;4] ;;"
   ]
  },
  {
   "cell_type": "markdown",
   "id": "6e88bd5c",
   "metadata": {},
   "source": [
    "In questo esempio, ogni chiamata a `somma` restituisce la somma della porzione di lista che va dall'elemento corrente fino in fondo\n",
    "\n",
    "* il risultato parziale è restituito dalla funzione"
   ]
  },
  {
   "cell_type": "markdown",
   "id": "b5139ac7",
   "metadata": {
    "slideshow": {
     "slide_type": "slide"
    }
   },
   "source": [
    "Vediamo che cosa succede nello *stack*:\n",
    "\n",
    "![Somma_ric_1](files/images/Somma_ric_1.png)"
   ]
  },
  {
   "cell_type": "markdown",
   "id": "e6fa0cf0",
   "metadata": {
    "slideshow": {
     "slide_type": "slide"
    }
   },
   "source": [
    "A cui segue:\n",
    "\n",
    "![Somma_ric_2](files/images/Somma_ric_2.png)\n",
    "\n",
    "Quindi:\n",
    "* gli elementi della lista vengono in realtà sommati dall'ultimo al primo (da *destra*)\n",
    "* ad ogni passo si applica la funzione/operatore `(+)` che somma due numeri"
   ]
  },
  {
   "cell_type": "markdown",
   "id": "6c6382e0",
   "metadata": {
    "slideshow": {
     "slide_type": "slide"
    }
   },
   "source": [
    "Cerchiamo di estrarre lo schema ricorsivo su cui si basa la funzione `somma`\n",
    "\n",
    "```\n",
    "somma [3;2;4]\n",
    "3 + somma [2;4]\n",
    "3 + (2 + somma [4])\n",
    "3 + (2 + (4 + somma []))\n",
    "3 + (2 + (4 + 0))\n",
    "```\n",
    "\n",
    "Generalizziamo `(+) = f`\n",
    "\n",
    "```\n",
    "f 3 (f 2 (f 4 0))\n",
    "```\n",
    "\n",
    "Generalizziamo `lis = [x1;x2;...;xN]` e caso base restituisce `a` invece che `0`\n",
    "\n",
    "```\n",
    "f x1 (f x2 (... (f xN a)..))\n",
    "```\n"
   ]
  },
  {
   "cell_type": "markdown",
   "id": "f6cbd47b",
   "metadata": {
    "slideshow": {
     "slide_type": "slide"
    }
   },
   "source": [
    "La funzione `fold_right` realizza lo schema ricorsivo che abbiamo identificato"
   ]
  },
  {
   "cell_type": "code",
   "execution_count": 66,
   "id": "efc365ae",
   "metadata": {
    "slideshow": {
     "slide_type": "-"
    }
   },
   "outputs": [
    {
     "data": {
      "text/plain": [
       "val fold_right : ('a -> 'b -> 'b) -> 'a list -> 'b -> 'b = <fun>\n"
      ]
     },
     "execution_count": 66,
     "metadata": {},
     "output_type": "execute_result"
    }
   ],
   "source": [
    "let rec fold_right f lis a =\n",
    "    match lis with\n",
    "    | [] -> a\n",
    "    | x::lis' -> f x (fold_right f lis' a) ;;"
   ]
  },
  {
   "cell_type": "markdown",
   "id": "b75ee4ee",
   "metadata": {
    "slideshow": {
     "slide_type": "-"
    }
   },
   "source": [
    "Prevede i parametri (oltre alla lista `lis`):\n",
    "\n",
    "* `f`: la funzione da applicare ad ogni passo\n",
    "* `a`: il risultato corrispondente al caso base (lista vuota `[]`)\n",
    "\n",
    "Ad ogni passo, applica `f` all'elemento e al risultato ottenuto sul resto della lista"
   ]
  },
  {
   "cell_type": "markdown",
   "id": "b014a264",
   "metadata": {
    "slideshow": {
     "slide_type": "slide"
    }
   },
   "source": [
    "Usiamo `fold_right` per definire `somma` usando la ricorsione in modo implicito:"
   ]
  },
  {
   "cell_type": "code",
   "execution_count": 67,
   "id": "2e38e31b",
   "metadata": {},
   "outputs": [
    {
     "data": {
      "text/plain": [
       "val somma : int list -> int = <fun>\n"
      ]
     },
     "execution_count": 67,
     "metadata": {},
     "output_type": "execute_result"
    },
    {
     "data": {
      "text/plain": [
       "- : int = 9\n"
      ]
     },
     "execution_count": 67,
     "metadata": {},
     "output_type": "execute_result"
    }
   ],
   "source": [
    "let somma lis = fold_right (+) lis 0 ;;\n",
    "somma [3;2;4] ;;"
   ]
  },
  {
   "cell_type": "markdown",
   "id": "883eb17e",
   "metadata": {
    "slideshow": {
     "slide_type": "slide"
    }
   },
   "source": [
    "Altri esempi d'uso di `fold_right`:"
   ]
  },
  {
   "cell_type": "code",
   "execution_count": 68,
   "id": "e6cf5bb5",
   "metadata": {},
   "outputs": [
    {
     "data": {
      "text/plain": [
       "val concat : string list -> string = <fun>\n"
      ]
     },
     "execution_count": 68,
     "metadata": {},
     "output_type": "execute_result"
    },
    {
     "data": {
      "text/plain": [
       "- : string = \"abcdefgh\"\n"
      ]
     },
     "execution_count": 68,
     "metadata": {},
     "output_type": "execute_result"
    }
   ],
   "source": [
    "let concat lis = fold_right (^) lis \"\" ;;\n",
    "\n",
    "concat [\"abc\"; \"def\"; \"gh\"] ;;"
   ]
  },
  {
   "cell_type": "code",
   "execution_count": 69,
   "id": "788a14e3",
   "metadata": {
    "slideshow": {
     "slide_type": "fragment"
    }
   },
   "outputs": [
    {
     "data": {
      "text/plain": [
       "val stringa_piu_lunga : string list -> string = <fun>\n"
      ]
     },
     "execution_count": 69,
     "metadata": {},
     "output_type": "execute_result"
    },
    {
     "data": {
      "text/plain": [
       "- : string = \"hello\"\n"
      ]
     },
     "execution_count": 69,
     "metadata": {},
     "output_type": "execute_result"
    }
   ],
   "source": [
    "let stringa_piu_lunga lis =\n",
    "    let f x s =\n",
    "        if String.length x > String.length s then x else s\n",
    "    in\n",
    "        fold_right f lis \"\" ;;\n",
    "        \n",
    "stringa_piu_lunga [\"ciao\";\"hello\";\"hi\"] ;;"
   ]
  },
  {
   "cell_type": "markdown",
   "id": "28af70d2",
   "metadata": {
    "slideshow": {
     "slide_type": "slide"
    }
   },
   "source": [
    "Calcolare minimo e massimo di una lista\n",
    "\n",
    "* che cosa è utile portarsi dietro durante la scansione della lista? \n",
    "* che funzione si deve applicare ad ogni passo?\n",
    "* inoltre: qual è il valore del caso base `[]` ??"
   ]
  },
  {
   "cell_type": "markdown",
   "id": "cbe8f61b",
   "metadata": {
    "slideshow": {
     "slide_type": "fragment"
    }
   },
   "source": [
    "Idea: si estrae il primo elemento e lo si usa come caso base"
   ]
  },
  {
   "cell_type": "code",
   "execution_count": 70,
   "id": "b2708228",
   "metadata": {
    "slideshow": {
     "slide_type": "fragment"
    }
   },
   "outputs": [
    {
     "data": {
      "text/plain": [
       "val minimo_massimo : int list -> int * int = <fun>\n"
      ]
     },
     "execution_count": 70,
     "metadata": {},
     "output_type": "execute_result"
    },
    {
     "data": {
      "text/plain": [
       "- : int * int = (2, 4)\n"
      ]
     },
     "execution_count": 70,
     "metadata": {},
     "output_type": "execute_result"
    }
   ],
   "source": [
    "let minimo_massimo lis =\n",
    "    let f x (min,max) =\n",
    "        if x<min then (x,max)\n",
    "        else if x>max then (min,x)\n",
    "        else (min,max)\n",
    "    in\n",
    "        match lis with \n",
    "        | [] -> (0,0)\n",
    "        | x::lis' -> fold_right f lis' (x,x) ;;\n",
    "\n",
    "minimo_massimo [3;2;4] ;;"
   ]
  },
  {
   "cell_type": "markdown",
   "id": "ccd2ba09",
   "metadata": {
    "slideshow": {
     "slide_type": "notes"
    }
   },
   "source": [
    "In questa implementazione della funzione `minimo_massimo` viene restituita la coppia `(0,0)` nel caso in cui la lista sia vuota. Dal momento che il primo elemento viene estratto ed usato come primo candidato minimo e massimo, la funzione ricorsiva viene utilizzata su `lis'`, quindi la ricorsione parte a tutti gli effetti dal secondo elemento della lista."
   ]
  },
  {
   "cell_type": "markdown",
   "id": "35dab704",
   "metadata": {
    "slideshow": {
     "slide_type": "slide"
    }
   },
   "source": [
    "### Fold-left\n",
    "\n",
    "Tornando all'esempio della somma, si può definire una funzione ricorsiva anche così:"
   ]
  },
  {
   "cell_type": "code",
   "execution_count": 71,
   "id": "b214d7c3",
   "metadata": {
    "slideshow": {
     "slide_type": "-"
    }
   },
   "outputs": [
    {
     "data": {
      "text/plain": [
       "val somma : int -> int list -> int = <fun>\n"
      ]
     },
     "execution_count": 71,
     "metadata": {},
     "output_type": "execute_result"
    },
    {
     "data": {
      "text/plain": [
       "- : int = 9\n"
      ]
     },
     "execution_count": 71,
     "metadata": {},
     "output_type": "execute_result"
    }
   ],
   "source": [
    "let rec somma a lis =\n",
    "    match lis with\n",
    "    | [] -> a\n",
    "    | x::lis' -> somma (a+x) lis' ;;\n",
    "    \n",
    "somma 0 [3;2;4] ;;"
   ]
  },
  {
   "cell_type": "markdown",
   "id": "7f8057b9",
   "metadata": {
    "slideshow": {
     "slide_type": "-"
    }
   },
   "source": [
    "Il risultato parziale viene:\n",
    "\n",
    "* *passato come parametro* (inizialmente zero)\n",
    "* aggiornato man mano che si incontrano nuovi elementi scandendo la lista dall'inizio alla fine (da *sinistra*)"
   ]
  },
  {
   "cell_type": "markdown",
   "id": "785b6728",
   "metadata": {
    "slideshow": {
     "slide_type": "slide"
    }
   },
   "source": [
    "Vediamo che cosa succede nello *stack*:\n",
    "\n",
    "![Somma_ric_3](files/images/Somma_ric_3.png)"
   ]
  },
  {
   "cell_type": "markdown",
   "id": "44ae6e42",
   "metadata": {
    "slideshow": {
     "slide_type": "slide"
    }
   },
   "source": [
    "A cui segue:\n",
    "\n",
    "![Somma_ric_4](files/images/Somma_ric_4.png)\n",
    "\n",
    "Quindi:\n",
    "\n",
    "* gli elementi della lista vengono sommati dal primo all'ultimo (da *sinistra*)\n",
    "* ad ogni passo si applica la funzione/operatore `(+)` che somma due numeri\n",
    "* il risultato \"scende\" immutato lungo lo stack (la funzione è *tail recursive*, quindi l'uso dello stack si può ottimizzare...)"
   ]
  },
  {
   "cell_type": "markdown",
   "id": "485ee4fd",
   "metadata": {
    "slideshow": {
     "slide_type": "notes"
    }
   },
   "source": [
    "Come già detto nel capitolo precedente, il fatto che la funzione sia abbia la chiamata ricorsiva in coda (tail-recursive) fa si che in realtà venga utilizzato un unico record di attivazione nello stack. Questo minimizza l'uso della memoria e previene il problema dello *stack overflow*. "
   ]
  },
  {
   "cell_type": "markdown",
   "id": "cea337a1",
   "metadata": {
    "slideshow": {
     "slide_type": "slide"
    }
   },
   "source": [
    "Estraiamo lo schema ricorsivo su cui si basa la nuova versione della funzione `somma`\n",
    "\n",
    "```\n",
    "somma 0 [3;2;4]\n",
    "somma (0 + 3) [2;4]\n",
    "somma ((0 + 3) + 2) [4]\n",
    "somma (((0 + 3) + 2) + 4) []\n",
    "(((0 + 3) + 2) + 4)\n",
    "```\n",
    "\n",
    "Generalizziamo `(+) = f`\n",
    "\n",
    "```\n",
    "f (f (f 0 3) 2) 4\n",
    "```\n",
    "\n",
    "Generalizziamo ancora `lis = [x1;x2;...;xN]` e valore iniziale `a` invece che `0`\n",
    "\n",
    "```\n",
    "f (f (... (f (f a x1) x2) ...) xN-1) xN\n",
    "```\n"
   ]
  },
  {
   "cell_type": "markdown",
   "id": "87ae5ebd",
   "metadata": {
    "slideshow": {
     "slide_type": "slide"
    }
   },
   "source": [
    "La funzione `fold_left` realizza lo schema ricorsivo che abbiamo identificato"
   ]
  },
  {
   "cell_type": "code",
   "execution_count": 72,
   "id": "292332f3",
   "metadata": {
    "slideshow": {
     "slide_type": "-"
    }
   },
   "outputs": [
    {
     "data": {
      "text/plain": [
       "val fold_left : ('a -> 'b -> 'a) -> 'a -> 'b list -> 'a = <fun>\n"
      ]
     },
     "execution_count": 72,
     "metadata": {},
     "output_type": "execute_result"
    }
   ],
   "source": [
    "let rec fold_left f a lis =\n",
    "    match lis with\n",
    "    | [] -> a\n",
    "    | x::lis' -> fold_left f (f a x) lis' ;;"
   ]
  },
  {
   "cell_type": "markdown",
   "id": "8798f4ce",
   "metadata": {
    "slideshow": {
     "slide_type": "-"
    }
   },
   "source": [
    "Prevede i parametri (oltre alla lista `lis`):\n",
    "\n",
    "* `f`: la funzione da applicare ad ogni passo\n",
    "* `a`: il valore iniziale da cui partire con il calcolo\n",
    "\n",
    "Ad ogni passo, richiama ricorsivamente `f` passandogli un valore via via aggiornato"
   ]
  },
  {
   "cell_type": "markdown",
   "id": "201ef048",
   "metadata": {
    "slideshow": {
     "slide_type": "slide"
    }
   },
   "source": [
    "Ora possiamo usare `fold_left` per definire `somma` usando la ricorsione in modo implicito"
   ]
  },
  {
   "cell_type": "code",
   "execution_count": 73,
   "id": "b9428ea5",
   "metadata": {},
   "outputs": [
    {
     "data": {
      "text/plain": [
       "val somma : int list -> int = <fun>\n"
      ]
     },
     "execution_count": 73,
     "metadata": {},
     "output_type": "execute_result"
    },
    {
     "data": {
      "text/plain": [
       "- : int = 9\n"
      ]
     },
     "execution_count": 73,
     "metadata": {},
     "output_type": "execute_result"
    }
   ],
   "source": [
    "let somma lis = fold_left (+) 0 lis ;;\n",
    "somma [3;2;4] ;;"
   ]
  },
  {
   "cell_type": "markdown",
   "id": "f46e5e32",
   "metadata": {
    "slideshow": {
     "slide_type": "slide"
    }
   },
   "source": [
    "Altri esempi d'uso di `fold_left` (gli stessi già visti con `fold_right`):"
   ]
  },
  {
   "cell_type": "code",
   "execution_count": 74,
   "id": "03ed2934",
   "metadata": {},
   "outputs": [
    {
     "data": {
      "text/plain": [
       "val concat : string list -> string = <fun>\n"
      ]
     },
     "execution_count": 74,
     "metadata": {},
     "output_type": "execute_result"
    },
    {
     "data": {
      "text/plain": [
       "- : string = \"abcdefgh\"\n"
      ]
     },
     "execution_count": 74,
     "metadata": {},
     "output_type": "execute_result"
    }
   ],
   "source": [
    "let concat lis = fold_left (^) \"\" lis ;;\n",
    "\n",
    "concat [\"abc\"; \"def\"; \"gh\"] ;;"
   ]
  },
  {
   "cell_type": "code",
   "execution_count": 75,
   "id": "c94fbc5e",
   "metadata": {
    "slideshow": {
     "slide_type": "fragment"
    }
   },
   "outputs": [
    {
     "data": {
      "text/plain": [
       "val stringa_piu_lunga : string list -> string = <fun>\n"
      ]
     },
     "execution_count": 75,
     "metadata": {},
     "output_type": "execute_result"
    },
    {
     "data": {
      "text/plain": [
       "- : string = \"hello\"\n"
      ]
     },
     "execution_count": 75,
     "metadata": {},
     "output_type": "execute_result"
    }
   ],
   "source": [
    "let stringa_piu_lunga lis =\n",
    "    let f s x =\n",
    "        if String.length x > String.length s then x else s\n",
    "    in\n",
    "        fold_left f \"\" lis ;;\n",
    "        \n",
    "stringa_piu_lunga [\"ciao\";\"hello\";\"hi\"] ;;"
   ]
  },
  {
   "cell_type": "markdown",
   "id": "89687af3",
   "metadata": {
    "slideshow": {
     "slide_type": "slide"
    }
   },
   "source": [
    "Calcolare minimo e massimo di una lista:"
   ]
  },
  {
   "cell_type": "code",
   "execution_count": 76,
   "id": "11cbdbda",
   "metadata": {
    "slideshow": {
     "slide_type": "-"
    }
   },
   "outputs": [
    {
     "data": {
      "text/plain": [
       "val minimo_massimo : int list -> int * int = <fun>\n"
      ]
     },
     "execution_count": 76,
     "metadata": {},
     "output_type": "execute_result"
    },
    {
     "data": {
      "text/plain": [
       "- : int * int = (2, 4)\n"
      ]
     },
     "execution_count": 76,
     "metadata": {},
     "output_type": "execute_result"
    }
   ],
   "source": [
    "let minimo_massimo lis =\n",
    "    let f (min,max) x =\n",
    "        if x<min then (x,max)\n",
    "        else if x>max then (min,x)\n",
    "        else (min,max)\n",
    "    in\n",
    "        match lis with \n",
    "        | [] -> (0,0)\n",
    "        | x::lis' -> fold_left f (x,x) lis' ;;\n",
    "\n",
    "minimo_massimo [3;2;4] ;;"
   ]
  },
  {
   "cell_type": "markdown",
   "id": "d77486db",
   "metadata": {},
   "source": [
    "**ATTENZIONE:** rispetto alla versione con `fold_right`, i parametri di `f` sono invertiti e anche quelli di `fold_left` hanno un ordine diverso"
   ]
  },
  {
   "cell_type": "markdown",
   "id": "27904632",
   "metadata": {
    "slideshow": {
     "slide_type": "slide"
    }
   },
   "source": [
    "### Fold-right VS Fold-left\n",
    "\n",
    "Ma quindi `fold_right` e `fold_left` sono intercambiabili?\n",
    "\n",
    "* No!\n",
    "\n",
    "Innanzitutto:\n",
    "\n",
    "* `fold_left` è tail recursive (quindi si può ottimizzare l'uso dello stack)\n",
    "* `fold_right` non lo è (anche se esistono implementazioni tail recursive)\n",
    "\n",
    "Ma soprattutto, in alcuni casi possono portare a risultati diversi!"
   ]
  },
  {
   "cell_type": "markdown",
   "id": "268e9786",
   "metadata": {
    "slideshow": {
     "slide_type": "slide"
    }
   },
   "source": [
    "Esempio: funzione identità su liste (fa una \"copia\" della lista)"
   ]
  },
  {
   "cell_type": "code",
   "execution_count": 77,
   "id": "fa1eb825",
   "metadata": {},
   "outputs": [
    {
     "data": {
      "text/plain": [
       "val id_lista1 : 'a list -> 'a list = <fun>\n"
      ]
     },
     "execution_count": 77,
     "metadata": {},
     "output_type": "execute_result"
    },
    {
     "data": {
      "text/plain": [
       "val id_lista2 : 'a list -> 'a list = <fun>\n"
      ]
     },
     "execution_count": 77,
     "metadata": {},
     "output_type": "execute_result"
    },
    {
     "data": {
      "text/plain": [
       "- : int list = [1; 2; 3]\n"
      ]
     },
     "execution_count": 77,
     "metadata": {},
     "output_type": "execute_result"
    },
    {
     "data": {
      "text/plain": [
       "- : int list = [3; 2; 1]\n"
      ]
     },
     "execution_count": 77,
     "metadata": {},
     "output_type": "execute_result"
    }
   ],
   "source": [
    "let id_lista1 lis =\n",
    "    let f x l = x::l\n",
    "    in fold_right f lis [];;\n",
    "    \n",
    "let id_lista2 lis =\n",
    "    let f l x = x::l\n",
    "    in fold_left f [] lis;;\n",
    "\n",
    "id_lista1 [1;2;3] ;;\n",
    "id_lista2 [1;2;3] ;;"
   ]
  },
  {
   "cell_type": "markdown",
   "id": "6b991cb9",
   "metadata": {},
   "source": [
    "La versione con `fold_left` ha **ROVESCIATO** la lista\n",
    "\n",
    "* `::` aggiunge in testa! Per copiare la lista gli elementi gli vanno dati dall'ultimo al primo"
   ]
  },
  {
   "cell_type": "markdown",
   "id": "60761dcb",
   "metadata": {
    "slideshow": {
     "slide_type": "slide"
    }
   },
   "source": [
    "## Un paio di esempi con `fold_right` e `fold_left`\n",
    "\n",
    "* Crea una nuova lista sommando gli elementi a partire dal fondo"
   ]
  },
  {
   "cell_type": "code",
   "execution_count": 78,
   "id": "017c9c97",
   "metadata": {
    "cell_style": "split"
   },
   "outputs": [
    {
     "data": {
      "text/plain": [
       "val somma_dal_fondo : int list -> int list = <fun>\n"
      ]
     },
     "execution_count": 78,
     "metadata": {},
     "output_type": "execute_result"
    }
   ],
   "source": [
    "let somma_dal_fondo lis =\n",
    "    let f x l = \n",
    "        match l with\n",
    "        | [] -> [x]\n",
    "        | x'::l' -> x+x'::l\n",
    "    in\n",
    "        fold_right f lis [] ;;"
   ]
  },
  {
   "cell_type": "code",
   "execution_count": 79,
   "id": "f26f788d",
   "metadata": {
    "cell_style": "split"
   },
   "outputs": [
    {
     "data": {
      "text/plain": [
       "- : int list = [10; 8; 6; 4; 2]\n"
      ]
     },
     "execution_count": 79,
     "metadata": {},
     "output_type": "execute_result"
    }
   ],
   "source": [
    "somma_dal_fondo [2;2;2;2;2] ;;"
   ]
  },
  {
   "cell_type": "markdown",
   "id": "2808b664",
   "metadata": {
    "slideshow": {
     "slide_type": "fragment"
    }
   },
   "source": [
    "* verifica se una lista è ordinata in modo crescente"
   ]
  },
  {
   "cell_type": "code",
   "execution_count": 80,
   "id": "d7f6b7a2",
   "metadata": {
    "cell_style": "split"
   },
   "outputs": [
    {
     "data": {
      "text/plain": [
       "val crescente : 'a list -> bool = <fun>\n"
      ]
     },
     "execution_count": 80,
     "metadata": {},
     "output_type": "execute_result"
    }
   ],
   "source": [
    "let crescente lis = \n",
    "    (* f si \"porta dietro\" il precedente *)\n",
    "    let f (prec,b) x = (x,b && prec<=x)  \n",
    "    in match lis with\n",
    "    | [] -> true\n",
    "    | x::lis' -> let (_,b) = \n",
    "                 fold_left f (x,true) lis' \n",
    "                 in b;;           "
   ]
  },
  {
   "cell_type": "code",
   "execution_count": 81,
   "id": "acf68436",
   "metadata": {
    "cell_style": "split"
   },
   "outputs": [
    {
     "data": {
      "text/plain": [
       "- : bool = true\n"
      ]
     },
     "execution_count": 81,
     "metadata": {},
     "output_type": "execute_result"
    },
    {
     "data": {
      "text/plain": [
       "- : bool = false\n"
      ]
     },
     "execution_count": 81,
     "metadata": {},
     "output_type": "execute_result"
    }
   ],
   "source": [
    "crescente [1;4;4;6;9] ;;\n",
    "crescente [3;5;4;7;9] ;;"
   ]
  },
  {
   "cell_type": "markdown",
   "id": "bb875b02",
   "metadata": {
    "slideshow": {
     "slide_type": "notes"
    }
   },
   "source": [
    "Quest'ultimo esempio mostra come sia possibile elaborare ad ogni passo due elementi consecutivi della lista. Questo di base non è previsto da `fold_right` e `fold_left`, in quanto la funzione ausiliaria `f` da loro utilizzata legge un solo elemento della lista per volta. E' però possibile aggiungere tra i dati da portarsi dietro per il calcolo un'informazione sul precedente valore della lista incontrato (`prec`, nell'esempio) facendolo aggiornare di volta in volta alla `f`.\n",
    "\n",
    "Nel caso di `fold_left`, che scandisce gli elementi dal primo all'ultimo, questo `prec` sarà effettivamente l'elemento che nella lista precede l'elemento corrente. Nel caso di `fold_right`, questo `prec` sarà invece l'elemento successivo a quello corrente, dal momento `fold_right` scandisce la lista in direzione inversa."
   ]
  },
  {
   "cell_type": "markdown",
   "id": "b4b464f8",
   "metadata": {
    "slideshow": {
     "slide_type": "slide"
    }
   },
   "source": [
    "## Le funzioni su liste nel modulo `List`\n",
    "\n",
    "Le funzioni higher-order su liste che abbiamo visto sono disponibili nel modulo `List` della libreria standard di OCaml (https://ocaml.org/api/List.html)\n",
    "\n",
    "* `exists` $\\Longrightarrow$ `List.exists`\n",
    "* `forall` $\\Longrightarrow$ `List.for_all`\n",
    "* `filter` $\\Longrightarrow$ `List.filter`\n",
    "* `map` $\\Longrightarrow$ `List.map`\n",
    "* `fold_right` $\\Longrightarrow$ `List.fold_right`\n",
    "* `fold_left` $\\Longrightarrow$ `List.fold_left`\n",
    "\n",
    "Oltre a molte altre funzioni utili:\n",
    "\n",
    "* `List.find`, `List.sort`, `List.partition`, `List.merge`,..."
   ]
  },
  {
   "cell_type": "markdown",
   "id": "8909307c",
   "metadata": {
    "slideshow": {
     "slide_type": "slide"
    }
   },
   "source": [
    "### Esempio: area di un poligono irregolare con `fold_right` e `List`\n",
    "\n",
    "Riprendendo l'esempio del poligono irregolare:"
   ]
  },
  {
   "cell_type": "code",
   "execution_count": 82,
   "id": "97521e3e",
   "metadata": {
    "slideshow": {
     "slide_type": "-"
    }
   },
   "outputs": [
    {
     "data": {
      "text/plain": [
       "val poligono : (int * int) list =\n",
       "  [(-3, -2); (-1, 4); (6, 1); (3, 10); (-4, 9)]\n"
      ]
     },
     "execution_count": 82,
     "metadata": {},
     "output_type": "execute_result"
    },
    {
     "data": {
      "text/plain": [
       "val area : (int * int) list -> float = <fun>\n"
      ]
     },
     "execution_count": 82,
     "metadata": {},
     "output_type": "execute_result"
    },
    {
     "data": {
      "text/plain": [
       "- : float = 60.\n"
      ]
     },
     "execution_count": 82,
     "metadata": {},
     "output_type": "execute_result"
    }
   ],
   "source": [
    "let poligono = [ (-3,-2); (-1,4); (6,1); (3,10); (-4,9) ] ;;\n",
    "\n",
    "let area pol =\n",
    "    let f (x1,y1) ((x2,y2),(ris1,ris2)) =\n",
    "        ((x1,y1),(ris1+x1*y2,ris2+x2*y1))\n",
    "    in\n",
    "    let (p,(ris1,ris2)) = List.fold_right f pol (List.hd pol,(0,0))\n",
    "    in\n",
    "    (float_of_int (ris1 - ris2)) /. 2.;;\n",
    "    \n",
    "area poligono;;"
   ]
  },
  {
   "cell_type": "markdown",
   "id": "dba4ac18",
   "metadata": {
    "slideshow": {
     "slide_type": "notes"
    }
   },
   "source": [
    "Questa implementazione della funzione `area` è molto più compatta di quelle date in precedenza, ma anche più difficile da comprendere a primo sguardo.\n",
    "\n",
    "Si usa `fold_right` per scandire la lista dalla coda alla testa. La funzione `f` che viene richiamata ad ogni passo prende come primo parametro l'elemento corrente (la coppia `(x1,y1)`) e i dati da \"portarsi dietro\" che includono l'elemento successivo a quello corrente `(x2,y2)` e i risultati parziali calcolati fino a quel momento `(ris1,ris2)`. Dal momento che i dati da portarsi dietro devono essere passati come unico parametro, queste due coppie diventano una coppia di coppie `((x2,y2),(ris1,ris2))`.\n",
    "\n",
    "La chiamata a `folr_right` inizializza queste informazioni a `List.hd` (il primo elemento della lista che, concettualmente, dovrebbe essere copiato in fondo, ma che invece sarà elaborato senza effettivamente aggiungerlo alla lista) e `(0,0)` in quanto il calcolo deve ancora iniziare.\n",
    "\n",
    "Ad ogni passo, `f` prende l'elemento corrente (dall'ultimo al primo) fa le moltiplicazioni con il successivo (`x1*y2` e `x2*y1`) e somma quanto ottenuto ai risultati parziali `ris1` e `ris2`. Il risultato di `f`, oltre a contenere i valori aggiornati di `ris1` e `ris2`, conterrà come primo elemento della coppia restituita, l'elemento corrente `(x1,y1)`, in modo che diventi, nella successiva chiamata di `f` operata dalla `fold_right`, l'elemento considerato come successivo.\n",
    "\n",
    "Il risultato finale che sarà restituito da `fold_right` è una coppia `(p,(ris1,ris2))` in cui `p` corrisponderà al primo elemento della lista (che ci stiamo portando dietro ricorsivamente), mentre `ris1` e `ris2` saranno gli effettivi risultati corrispondenti alle due fasi di elaborazione viste all'inizio.\n",
    "\n",
    "Il risultato della funzione `pol` sarà quindi `(float_of_int (ris1 - ris2)) /. 2.`, come nelle versioni della funzione `area` già illustrate in precedenza.\n",
    "\n",
    "Questa funzione è stata implementata usando `fold_right` in modo da rispecchiare l'ordine di esecuzione delle operazioni che si otteneva eseguendo le precedenti versioni mostrate. È possibile definirne una versione usando invece `fold_left`."
   ]
  },
  {
   "cell_type": "markdown",
   "id": "02ab1808",
   "metadata": {
    "slideshow": {
     "slide_type": "slide"
    }
   },
   "source": [
    "## Funzioni higher-order su liste in altri linguaggi\n",
    "\n",
    "Le funzioni higher-order su liste che abbiamo visto sono presenti (a volte parzialmente) anche in altri linguaggi.\n",
    "\n",
    "* In JavaScript, ad esempio, funzioni quali `map`, `filter`, `reduce` (equivale a `fold_left`) possono essere usate su array\n",
    "\n",
    "```\n",
    "JAVASCRIPT: \n",
    "const array1 = [1, 2, 3, 4];\n",
    "const reducer = (accum, current) => accum + current;\n",
    "console.log(array1.reduce(reducer)); // 1+2+3+4=10 \n",
    "```\n",
    "\n",
    "* In Java, dalla versione 8 (del 2014), sono stati introdotti elementi di programmazione funzionale (lambda expressions) e metodi higher-order per alcune strutture dati\n",
    "\n",
    "* ..."
   ]
  }
 ],
 "metadata": {
  "celltoolbar": "Slideshow",
  "kernelspec": {
   "display_name": "OCaml default",
   "language": "OCaml",
   "name": "ocaml-jupyter"
  },
  "language_info": {
   "codemirror_mode": "text/x-ocaml",
   "file_extension": ".ml",
   "mimetype": "text/x-ocaml",
   "name": "OCaml",
   "nbconverter_exporter": null,
   "pygments_lexer": "OCaml",
   "version": "4.08.1"
  },
  "rise": {
   "enable_chalkboard": true,
   "scroll": true
  }
 },
 "nbformat": 4,
 "nbformat_minor": 5
}
