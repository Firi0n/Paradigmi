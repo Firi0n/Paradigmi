{
 "cells": [
  {
   "cell_type": "markdown",
   "id": "e9240ba0",
   "metadata": {
    "slideshow": {
     "slide_type": "slide"
    }
   },
   "source": [
    "# Introduzione allo sviluppo di interpreti"
   ]
  },
  {
   "cell_type": "markdown",
   "id": "0e2d1093",
   "metadata": {
    "slideshow": {
     "slide_type": "slide"
    }
   },
   "source": [
    "## Componenti principali da realizzare in un interprete\n",
    "\n",
    "![FasiInteprete](files/images/fasi_interprete.png)"
   ]
  },
  {
   "cell_type": "markdown",
   "id": "2907d6f9",
   "metadata": {
    "slideshow": {
     "slide_type": "slide"
    }
   },
   "source": [
    "## Ciclo di interpretazione\n",
    "\n",
    "L'interprete esegue le operazioni elementari del programma *una dopo l'altra*\n",
    "\n",
    "Le fasi di *scanning/parsing* possono essere svolte a livello di:\n",
    "\n",
    "* *intero programma*\n",
    "* *singole istruzioni/espressioni*\n",
    "\n",
    "Lo stesso vale per i *controlli di tipo* (e altre analisi)\n",
    "\n",
    "* *analisi statica* (intero programma)\n",
    "* *controlli dinamici* (per ogni istruzione/espressione, all'esecuzione)\n",
    "* *analisi statica + controlli dinamici*"
   ]
  },
  {
   "cell_type": "markdown",
   "id": "1f2070a5",
   "metadata": {
    "slideshow": {
     "slide_type": "slide"
    }
   },
   "source": [
    "Ad esempio: L'interprete *JavaScript* (Node.js) prima esegue analizza la sintassi di *tutto il programma* e poi interpreta\n",
    "\n",
    "```\n",
    "console.log(1);\n",
    "console.log(2;  //manca la parentesi\n",
    "```\n",
    "\n",
    "*Risultato:* non stampa `1`, perchè prima di eseguire controlla la sintassi di tutto il programma:\n",
    "\n",
    "```\n",
    "console.log(2;\n",
    "            ^\n",
    "SyntaxError: missing ) after argument list\n",
    "```"
   ]
  },
  {
   "cell_type": "markdown",
   "id": "6811026c",
   "metadata": {
    "slideshow": {
     "slide_type": "slide"
    }
   },
   "source": [
    "Altro esempio: Il *toplevel di Ocaml* esegue il parsing ed esegue espressione per espressione"
   ]
  },
  {
   "cell_type": "code",
   "execution_count": 1,
   "id": "f942ab4e",
   "metadata": {},
   "outputs": [
    {
     "data": {
      "text/plain": [
       "val x : int = 10\n"
      ]
     },
     "execution_count": 1,
     "metadata": {},
     "output_type": "execute_result"
    },
    {
     "ename": "error",
     "evalue": "compile_error",
     "output_type": "error",
     "traceback": [
      "File \"[1]\", line 2, characters 0-4:\n2 | lett y = 20 ;; (* let scritto male... *)\n    ^^^^\nError: Unbound value lett\n"
     ]
    }
   ],
   "source": [
    "let x = 10 ;;\n",
    "lett y = 20 ;; (* let scritto male... *)"
   ]
  },
  {
   "cell_type": "markdown",
   "id": "9c5b79df",
   "metadata": {},
   "source": [
    "Prima ha parsato ed eseguito `let x = 10`, poi ha parsato `lett y = 20` trovando l'errore"
   ]
  },
  {
   "cell_type": "markdown",
   "id": "27cf5e92",
   "metadata": {
    "slideshow": {
     "slide_type": "slide"
    }
   },
   "source": [
    "## Un interprete (risolutore) di espressioni artimetiche"
   ]
  },
  {
   "cell_type": "markdown",
   "id": "a8707694",
   "metadata": {},
   "source": [
    "Sintassi delle espressioni aritmetiche (solo su interi, *non serve type checking*)\n",
    "\n",
    "```\n",
    "Exp ::= n | Exp op Exp | (Exp)\n",
    "op ::= + | - | * | / \n",
    "```"
   ]
  },
  {
   "cell_type": "markdown",
   "id": "5caa28b7",
   "metadata": {
    "slideshow": {
     "slide_type": "fragment"
    }
   },
   "source": [
    "Definiamo un tipo algebrico per rappresentare alberi di sintassi astratta (AST) per le espressioni definite da questa grammatica:"
   ]
  },
  {
   "cell_type": "code",
   "execution_count": 2,
   "id": "1a13bdf6",
   "metadata": {},
   "outputs": [
    {
     "data": {
      "text/plain": [
       "type op = Add | Sub | Mul | Div\n"
      ]
     },
     "execution_count": 2,
     "metadata": {},
     "output_type": "execute_result"
    },
    {
     "data": {
      "text/plain": [
       "type exp = Val of int | Op of op * exp * exp\n"
      ]
     },
     "execution_count": 2,
     "metadata": {},
     "output_type": "execute_result"
    }
   ],
   "source": [
    "type op = Add | Sub | Mul | Div ;;\n",
    "type exp =\n",
    "    | Val of int\n",
    "    | Op of op*exp*exp;;"
   ]
  },
  {
   "cell_type": "markdown",
   "id": "018c0861",
   "metadata": {
    "slideshow": {
     "slide_type": "slide"
    }
   },
   "source": [
    "Un paio di esempi di espressioni:\n",
    "\n",
    "```\n",
    "exp1 = (3*7)-5\n",
    "exp2 = 3*(7-5)\n",
    "```"
   ]
  },
  {
   "cell_type": "code",
   "execution_count": 3,
   "id": "633239a8",
   "metadata": {},
   "outputs": [
    {
     "data": {
      "text/plain": [
       "val exp1 : exp = Op (Sub, Op (Mul, Val 3, Val 7), Val 5)\n"
      ]
     },
     "execution_count": 3,
     "metadata": {},
     "output_type": "execute_result"
    },
    {
     "data": {
      "text/plain": [
       "val exp2 : exp = Op (Mul, Val 3, Op (Sub, Val 7, Val 5))\n"
      ]
     },
     "execution_count": 3,
     "metadata": {},
     "output_type": "execute_result"
    }
   ],
   "source": [
    "let exp1 = Op (Sub, (Op (Mul, Val 3, Val 7)), Val 5) ;;\n",
    "let exp2 = Op (Mul, Val 3, (Op (Sub, Val 7, Val 5))) ;;"
   ]
  },
  {
   "cell_type": "markdown",
   "id": "f5788e1c",
   "metadata": {
    "slideshow": {
     "slide_type": "slide"
    }
   },
   "source": [
    "Scriviamo innanzitutto una funzione di utilità che (ri)trasforma l'AST in formato testuale:"
   ]
  },
  {
   "cell_type": "code",
   "execution_count": 4,
   "id": "51ad54f7",
   "metadata": {
    "slideshow": {
     "slide_type": "-"
    }
   },
   "outputs": [
    {
     "data": {
      "text/plain": [
       "val to_string : exp -> string = <fun>\n"
      ]
     },
     "execution_count": 4,
     "metadata": {},
     "output_type": "execute_result"
    }
   ],
   "source": [
    "let rec to_string e =\n",
    "    let symbol o =\n",
    "        match o with | Add -> \"+\" | Sub -> \"-\" | Mul -> \"*\" | Div -> \"/\"\n",
    "    in \n",
    "    match e with\n",
    "    | Val n -> string_of_int n\n",
    "    | Op (o,e1,e2) -> \"(\"^ (to_string e1) ^ (symbol o) ^ (to_string e2) ^\")\" ;;"
   ]
  },
  {
   "cell_type": "code",
   "execution_count": 5,
   "id": "f1ac0fac",
   "metadata": {},
   "outputs": [
    {
     "data": {
      "text/plain": [
       "- : string = \"((3*7)-5)\"\n"
      ]
     },
     "execution_count": 5,
     "metadata": {},
     "output_type": "execute_result"
    },
    {
     "data": {
      "text/plain": [
       "- : string = \"(3*(7-5))\"\n"
      ]
     },
     "execution_count": 5,
     "metadata": {},
     "output_type": "execute_result"
    }
   ],
   "source": [
    "to_string exp1 ;;\n",
    "to_string exp2 ;; "
   ]
  },
  {
   "cell_type": "markdown",
   "id": "2f2172f0",
   "metadata": {
    "slideshow": {
     "slide_type": "slide"
    }
   },
   "source": [
    "## Lo Scanner (o Lexer, o tokenizzatore)\n",
    "\n",
    "Rappresentiamo ogni simbolo che può apparire in una espressione con un *token*"
   ]
  },
  {
   "cell_type": "code",
   "execution_count": 6,
   "id": "e70d658f",
   "metadata": {
    "slideshow": {
     "slide_type": "-"
    }
   },
   "outputs": [
    {
     "data": {
      "text/plain": [
       "type token =\n",
       "    Tkn_NUM of int\n",
       "  | Tkn_OP of string\n",
       "  | Tkn_LPAR\n",
       "  | Tkn_RPAR\n",
       "  | Tkn_END\n"
      ]
     },
     "execution_count": 6,
     "metadata": {},
     "output_type": "execute_result"
    }
   ],
   "source": [
    "type token =\n",
    "    | Tkn_NUM of int     (* numero n *)\n",
    "    | Tkn_OP of string   (* operatore + - * / *)\n",
    "    | Tkn_LPAR           (* simbolo ( *)\n",
    "    | Tkn_RPAR           (* simbolo ) *)\n",
    "    | Tkn_END;;          (* fine dell'espressione *)"
   ]
  },
  {
   "cell_type": "markdown",
   "id": "7ef60e96",
   "metadata": {
    "slideshow": {
     "slide_type": "slide"
    }
   },
   "source": [
    "Lo *scanner* trasforma:\n",
    "\n",
    "* la *rappresentazione testuale* dell'espressione (stringa)\n",
    "* in una *lista di token*\n",
    "\n",
    "Nell'eseguire questa trasformazione lo scanner *controlla* che nell'espressione non siano stati utilizzati *simboli non previsti*\n",
    "\n",
    "Lo scanner non effettua (ancora) un controllo grammaticale:\n",
    "\n",
    "* `)(3++(88` è corretta per lo scanner\n",
    "* `[(3+2)-1]` non è corretta per lo scanner (`[` e `]` sono simboli non previsti)"
   ]
  },
  {
   "cell_type": "markdown",
   "id": "a35eaa4d",
   "metadata": {
    "slideshow": {
     "slide_type": "slide"
    }
   },
   "source": [
    "### Implementazione dello scanner (funzione `tokenize`)\n",
    "\n",
    "Scandisce ricorsivamente la stringa un carattere per volta e produce il token corrispondente\n",
    "\n",
    "* Se trova più simboli numerici (`0-9`) uno dopo l'altro li *aggrega* in un unico token numerico (es. `Tkn_NUM 231`)\n",
    "* Solleva l'eccezione `ParseError` se incontra un simbolo non previsto"
   ]
  },
  {
   "cell_type": "code",
   "execution_count": 7,
   "id": "748740e9",
   "metadata": {
    "slideshow": {
     "slide_type": "-"
    }
   },
   "outputs": [
    {
     "data": {
      "text/plain": [
       "exception ParseError of string * string\n"
      ]
     },
     "execution_count": 7,
     "metadata": {},
     "output_type": "execute_result"
    }
   ],
   "source": [
    "exception ParseError of string*string;;"
   ]
  },
  {
   "cell_type": "code",
   "execution_count": 8,
   "id": "fdf924d9",
   "metadata": {
    "slideshow": {
     "slide_type": "slide"
    }
   },
   "outputs": [
    {
     "data": {
      "text/plain": [
       "val tokenize : string -> token list = <fun>\n"
      ]
     },
     "execution_count": 8,
     "metadata": {},
     "output_type": "execute_result"
    }
   ],
   "source": [
    "(* scanner *)\n",
    "let tokenize s =\n",
    "    (* funzione che scandisce ricorsivamente s, \n",
    "       dove pos è la posizione del carattere corrente *)\n",
    "    let rec tokenize_rec s pos =\n",
    "        if pos=String.length s then [Tkn_END] (* caso base: fine lista *)\n",
    "        else\n",
    "            let c = String.sub s pos 1 (* estrae il carattere corrente *)\n",
    "            in\n",
    "            (* si richiama ricorsivamente prima di gestire il carattere corrente *)\n",
    "            let tokens = tokenize_rec s (pos+1)\n",
    "            in\n",
    "                (* trasforma il carattere corrente in un token*)\n",
    "                match c with\n",
    "                | \" \" -> tokens\n",
    "                | \"(\" -> Tkn_LPAR::tokens\n",
    "                | \")\" -> Tkn_RPAR::tokens\n",
    "                | \"+\" | \"-\" | \"*\" | \"/\" -> (Tkn_OP c)::tokens\n",
    "                | \"0\" | \"1\" | \"2\" | \"3\" | \"4\" | \"5\" | \"6\" | \"7\" | \"8\" | \"9\" ->\n",
    "                    (* accorpa cifre consecutive *)\n",
    "                    (match tokens with\n",
    "                    | Tkn_NUM n::tokens' -> \n",
    "                           Tkn_NUM (int_of_string (c^(string_of_int n)))::tokens'\n",
    "                    | _ -> Tkn_NUM (int_of_string c)::tokens \n",
    "                    )\n",
    "                | _ -> raise (ParseError (\"Tokenizer\",\"unknown symbol: \"^c))    \n",
    "    in\n",
    "        tokenize_rec s 0 ;;    "
   ]
  },
  {
   "cell_type": "markdown",
   "id": "bc7a8d15",
   "metadata": {
    "slideshow": {
     "slide_type": "slide"
    }
   },
   "source": [
    "Esempio d'uso dello scanner:"
   ]
  },
  {
   "cell_type": "code",
   "execution_count": 9,
   "id": "64764007",
   "metadata": {
    "slideshow": {
     "slide_type": "-"
    }
   },
   "outputs": [
    {
     "data": {
      "text/plain": [
       "val t1 : token list =\n",
       "  [Tkn_LPAR; Tkn_NUM 34; Tkn_OP \"+\"; Tkn_NUM 41; Tkn_RPAR; Tkn_OP \"-\";\n",
       "   Tkn_LPAR; Tkn_NUM 2223; Tkn_OP \"*\"; Tkn_NUM 2; Tkn_RPAR; Tkn_END]\n"
      ]
     },
     "execution_count": 9,
     "metadata": {},
     "output_type": "execute_result"
    }
   ],
   "source": [
    "let t1 = tokenize \"(34 + 41) - (2223 * 2)\";;"
   ]
  },
  {
   "cell_type": "code",
   "execution_count": 10,
   "id": "9cb1a7c0",
   "metadata": {
    "slideshow": {
     "slide_type": "-"
    }
   },
   "outputs": [
    {
     "ename": "error",
     "evalue": "runtime_error",
     "output_type": "error",
     "traceback": [
      "\u001b[31mException: ParseError (\"Tokenizer\", \"unknown symbol: [\").\nRaised at file \"[8]\", line 26, characters 29-76\nCalled from file \"[8]\", line 11, characters 25-47\nCalled from file \"[8]\", line 11, characters 25-47\nCalled from file \"[8]\", line 11, characters 25-47\nCalled from file \"[8]\", line 11, characters 25-47\nCalled from file \"[8]\", line 11, characters 25-47\nCalled from file \"[8]\", line 11, characters 25-47\nCalled from file \"[8]\", line 11, characters 25-47\nCalled from file \"[8]\", line 11, characters 25-47\nCalled from file \"[8]\", line 11, characters 25-47\nCalled from file \"[8]\", line 11, characters 25-47\nCalled from file \"[8]\", line 11, characters 25-47\nCalled from file \"[8]\", line 11, characters 25-47\nCalled from file \"[8]\", line 11, characters 25-47\nCalled from unknown location\nCalled from file \"toplevel/toploop.ml\", line 208, characters 17-27\n\u001b[0m"
     ]
    }
   ],
   "source": [
    "let t2 = tokenize \"(34 + 41) - ([2223 * 2)\";;"
   ]
  },
  {
   "cell_type": "markdown",
   "id": "b26dac67",
   "metadata": {
    "slideshow": {
     "slide_type": "slide"
    }
   },
   "source": [
    "Funzioni di utilità per stampare un token o una lista di token:"
   ]
  },
  {
   "cell_type": "code",
   "execution_count": 11,
   "id": "5ab3a2c2",
   "metadata": {
    "slideshow": {
     "slide_type": "-"
    }
   },
   "outputs": [
    {
     "data": {
      "text/plain": [
       "val string_of_token : token -> string = <fun>\n"
      ]
     },
     "execution_count": 11,
     "metadata": {},
     "output_type": "execute_result"
    },
    {
     "data": {
      "text/plain": [
       "val print_token : token -> unit = <fun>\n"
      ]
     },
     "execution_count": 11,
     "metadata": {},
     "output_type": "execute_result"
    },
    {
     "data": {
      "text/plain": [
       "val print_tokenlist : token list -> unit = <fun>\n"
      ]
     },
     "execution_count": 11,
     "metadata": {},
     "output_type": "execute_result"
    }
   ],
   "source": [
    "let string_of_token t = \n",
    "    match t with\n",
    "    | Tkn_NUM n -> \"Tkn_NUM \"^(string_of_int n)\n",
    "    | Tkn_OP s -> \"Tkn_OP \"^s\n",
    "    | Tkn_LPAR -> \"Tkn_LPAR\"\n",
    "    | Tkn_RPAR -> \"Tkn_RPAR\"\n",
    "    | Tkn_END -> \"Tkn_END\" ;;\n",
    "    \n",
    "let print_token t = \n",
    "    print_endline (string_of_token t);;\n",
    "    \n",
    "let print_tokenlist tl = \n",
    "    List.iter (fun t -> (print_token t)) tl;;"
   ]
  },
  {
   "cell_type": "code",
   "execution_count": 12,
   "id": "f9def616",
   "metadata": {
    "slideshow": {
     "slide_type": "slide"
    }
   },
   "outputs": [
    {
     "name": "stdout",
     "output_type": "stream",
     "text": [
      "Tkn_LPAR\n",
      "Tkn_NUM 34\n",
      "Tkn_OP +\n",
      "Tkn_NUM 41\n",
      "Tkn_RPAR\n",
      "Tkn_OP -\n",
      "Tkn_LPAR\n",
      "Tkn_NUM 2223\n",
      "Tkn_OP *\n",
      "Tkn_NUM 2\n",
      "Tkn_RPAR\n",
      "Tkn_END\n"
     ]
    },
    {
     "data": {
      "text/plain": [
       "- : unit = ()\n"
      ]
     },
     "execution_count": 12,
     "metadata": {},
     "output_type": "execute_result"
    }
   ],
   "source": [
    "print_tokenlist t1;;  (* (34 + 41) - (2223 * 2) *)"
   ]
  },
  {
   "cell_type": "markdown",
   "id": "962d5175",
   "metadata": {
    "slideshow": {
     "slide_type": "slide"
    }
   },
   "source": [
    "### \"Problemi\" di questa implementazione dello scanner\n",
    "\n",
    "La funzione `tokenize_rec` è ricorsiva, ma *non tail-recursive*...\n",
    "\n",
    "* potenziali problemi con espressioni estremamente lunghe\n",
    "\n",
    "**ESERCIZIO:** Pensare ad *implementazioni alternative*:\n",
    "\n",
    "* tail-recursive (ci vuole un accumulatore...)\n",
    "* iterative (usando costrutti imperativi di OCaml)\n",
    "* usando la funzione `String.iter` per trasformare ogni carattere in un token e la funzione `List.fold_left` per accorpare i token numerici consecutivi (o qualcosa di simile). Richiede due passate..."
   ]
  },
  {
   "cell_type": "markdown",
   "id": "9988f29a",
   "metadata": {
    "slideshow": {
     "slide_type": "slide"
    }
   },
   "source": [
    "## Il Parser\n",
    "\n",
    "Il parser\n",
    "\n",
    "* *controlla* che l'espressione sia *sintatticamente corretta*\n",
    "    * appartenga al linguaggio definito dalle regole BNF\n",
    "* *genera* l'abstract syntax tree (*AST*)"
   ]
  },
  {
   "cell_type": "markdown",
   "id": "32fd9301",
   "metadata": {
    "slideshow": {
     "slide_type": "slide"
    }
   },
   "source": [
    "Come si realizza un parser:\n",
    "\n",
    "* la grammatica deve essere resa *non ambigua*\n",
    "* se il linguaggio è *molto semplice*, si implementa un *parser a discesa ricorsiva*\n",
    "* se il linguaggio *non è molto semplice*, si usa un *parser generator* (software che genera il codice del parser a partire dalla grammatica)\n",
    "    * Flex/<a href=\"https://www.gnu.org/software/bison/\">Bison</a> per generare un parser in C\n",
    "    * <a href=\"http://pegjs.org/\">PEG.js</a>, <a href=\"http://www.antlr.org/\">ATNLR4</a> o <a href=\"https://github.com/zaach/jison\">Jison</a> per generare un parser in JavaScript\n",
    "    * <a href=\"https://ocaml.org/manual/lexyacc.html\">ocamllex/ocamlyacc</a> o <a href=\"http://gallium.inria.fr/~fpottier/menhir/\">Menhir</a> per generare un parser in OCaml\n",
    "    * <a href=\"http://www.antlr.org/\">ATNLR4</a> o <a href=\"https://javacc.github.io/javacc/\">JavaCC</a> per generare un parser in Java\n",
    "    * ..."
   ]
  },
  {
   "cell_type": "markdown",
   "id": "f31ee554",
   "metadata": {
    "slideshow": {
     "slide_type": "slide"
    }
   },
   "source": [
    "Ridefiniamo la grammatica delle espressioni in modo *non ambiguo*\n",
    "\n",
    "* Da così:\n",
    "```\n",
    "Exp ::= n | Exp op Exp | (Exp)\n",
    "op ::= + | - | * | / \n",
    "```\n",
    "\n",
    "* A così:\n",
    "```\n",
    "Exp ::= Term + Exp | Term - Exp | Term\n",
    "Term ::= Factor * Term | Factor / Term | Factor\n",
    "Factor ::= n | (Exp)\n",
    "```\n",
    "ossia:\n",
    "```\n",
    "Exp ::= Term [ + Exp | - Exp ]\n",
    "Term ::= Factor [ * Term | / Term ]\n",
    "Factor ::= n | (Exp)\n",
    "```\n",
    "dove `[...]` indica che il contenuto è opzionale\n"
   ]
  },
  {
   "cell_type": "markdown",
   "id": "cff88cb6",
   "metadata": {
    "slideshow": {
     "slide_type": "slide"
    }
   },
   "source": [
    "### Implementazione del parser (funzione `parse`)\n",
    "\n",
    "Implementiamo un parser a discesa ricorsiva:\n",
    "\n",
    "* una *funzione* per ogni *categoria sintattica* (`exp`, `term` e `factor`)\n",
    "* le funzioni sono *mutuamente ricorsive*\n",
    "* le funzioni si richiamano l'una con l'altra e *consumano token* secondo quanto indicato dalla grammatica\n",
    "* ogni chiamata di funzione restituisce un nodo dell'AST\n",
    "    * l'*AST* viene in questo modo corrisponde all'*albero delle chiamate*"
   ]
  },
  {
   "cell_type": "code",
   "execution_count": 13,
   "id": "6c3716b7",
   "metadata": {
    "slideshow": {
     "slide_type": "slide"
    }
   },
   "outputs": [
    {
     "data": {
      "text/plain": [
       "val parse : string -> exp = <fun>\n"
      ]
     },
     "execution_count": 13,
     "metadata": {},
     "output_type": "execute_result"
    }
   ],
   "source": [
    "(* parser *)\n",
    "let parse s =\n",
    "\n",
    "   (* usiamo un riferimento per scandire la lista dei token (ottenuta da tokenize) *)\n",
    "    let tokens = ref (tokenize s) in\n",
    "    \n",
    "    (* restituisce il primo token senza rimuoverlo *)\n",
    "    let lookahead () = match !tokens with \n",
    "        | [] -> raise (ParseError (\"Parser\",\"lookahead error\"))\n",
    "        | t::_ -> t\n",
    "    in\n",
    "    \n",
    "    (* elimina il primo token *)\n",
    "    let consume () = match !tokens with \n",
    "        | [] -> raise (ParseError (\"Parser\",\"consume error\"))\n",
    "        | t::tkns -> tokens := tkns\n",
    "    in\n",
    "    \n",
    "    (* funzioni mutuamente ricorsive che seguono dalla grammatica *)\n",
    "    (* Exp ::= Term [ + Exp | - Exp ] *)\n",
    "    let rec exp () =\n",
    "        let t1 = term() in\n",
    "        match lookahead () with\n",
    "        | Tkn_OP \"+\" -> consume(); Op (Add,t1,exp())\n",
    "        | Tkn_OP \"-\" -> consume(); Op (Sub,t1,exp())\n",
    "        | _ -> t1\n",
    "        \n",
    "    (* Term ::= Factor [ + Term | - Term ] *)\n",
    "    and term () =\n",
    "        let f1 = factor() in\n",
    "        match lookahead() with\n",
    "        | Tkn_OP \"*\" -> consume(); Op (Mul,f1,term())\n",
    "        | Tkn_OP \"/\" -> consume(); Op (Div,f1,term())\n",
    "        | _ -> f1\n",
    "\n",
    "    (* Factor ::= n | ( Exp ) *)\n",
    "    and factor () =\n",
    "        match lookahead() with\n",
    "        | Tkn_NUM n -> consume(); Val n\n",
    "        | Tkn_LPAR -> consume(); let e = exp() in\n",
    "                      (match lookahead() with\n",
    "                      | Tkn_RPAR -> consume(); e\n",
    "                      | _ -> raise (ParseError (\"Parser\",\"RPAR error\"))\n",
    "                      )\n",
    "        | _ -> raise (ParseError (\"Parser\",\"NUM/LPAR error\"))\n",
    "    \n",
    "    (* Si comincia chiamando exp che fa tutto il lavoro e restituisce la radice dell'AST *)\n",
    "    in\n",
    "        let ast = exp() in\n",
    "        (* controlliamo che al termine sia rimasto solo Tkn_END *)\n",
    "        match lookahead() with\n",
    "        | Tkn_END -> ast\n",
    "        | x -> print_tokenlist !tokens; raise (ParseError (\"Parser\",\"parse error\"));;"
   ]
  },
  {
   "cell_type": "markdown",
   "id": "67d996c4",
   "metadata": {
    "slideshow": {
     "slide_type": "slide"
    }
   },
   "source": [
    "Esempi di esecuzione del parser:"
   ]
  },
  {
   "cell_type": "code",
   "execution_count": 14,
   "id": "b8061522",
   "metadata": {},
   "outputs": [
    {
     "data": {
      "text/plain": [
       "val ast : exp =\n",
       "  Op (Add, Val 32,\n",
       "   Op (Add, Op (Mul, Val 24, Op (Mul, Val 12, Op (Sub, Val 3, Val 1))),\n",
       "    Val 2))\n"
      ]
     },
     "execution_count": 14,
     "metadata": {},
     "output_type": "execute_result"
    }
   ],
   "source": [
    "let ast = parse \"32 + 24 * 12 * (3-1) +2\" ;;"
   ]
  },
  {
   "cell_type": "code",
   "execution_count": 15,
   "id": "5e1491cd",
   "metadata": {},
   "outputs": [
    {
     "ename": "error",
     "evalue": "runtime_error",
     "output_type": "error",
     "traceback": [
      "\u001b[31mException: ParseError (\"Parser\", \"RPAR error\").\nRaised at file \"[13]\", line 43, characters 35-71\nCalled from file \"[13]\", line 30, characters 17-25\nCalled from file \"[13]\", line 22, characters 17-23\nCalled from file \"[13]\", line 24, characters 46-51\nCalled from file \"[13]\", line 49, characters 18-23\nCalled from unknown location\nCalled from file \"toplevel/toploop.ml\", line 208, characters 17-27\n\u001b[0m"
     ]
    }
   ],
   "source": [
    "let err = parse \"16 + (7 - 2\" ;;"
   ]
  },
  {
   "cell_type": "markdown",
   "id": "a0f35c4d",
   "metadata": {
    "slideshow": {
     "slide_type": "slide"
    }
   },
   "source": [
    "### Discussione sui parser\n",
    "\n",
    "Implementare un parser non è sempre così semplice:\n",
    "\n",
    "* rendere la grammatica non ambigua non è sempre ovvio\n",
    "* con la discesa ricorsiva è facile imbattersi in situazioni di *ricorsione infinita*\n",
    "    * Es: se avessimo definito `Exp ::= Exp + Term | ...` la funzione `exp` per prima cosa si sarebbe chiamata ricorsivamente... \n",
    "* a volte non è sufficiente leggere un singolo token per capire quale regola grammaticale applicare\n",
    "    * *lookhaed dinamico*\n",
    "* ..."
   ]
  },
  {
   "cell_type": "markdown",
   "id": "e94c54e3",
   "metadata": {
    "slideshow": {
     "slide_type": "slide"
    }
   },
   "source": [
    "proprio per tutto questo: \n",
    "* esistono i *parser generator* (il cui funzionamento non è argomento di questo corso) \n",
    "* per i linguggi che vedremo *NON* implementeremo un parser\n",
    "    * *partiremo dall'AST*"
   ]
  },
  {
   "cell_type": "markdown",
   "id": "2d4580df",
   "metadata": {
    "slideshow": {
     "slide_type": "slide"
    }
   },
   "source": [
    "## L'interprete\n",
    "\n",
    "E ora implementiamo l'interprete delle espressioni. \n",
    "\n",
    "Si parte dalla *definizione della semantica*.\n",
    "\n",
    "L'abbiamo già definita almeno un paio di volte, in modi diversi:\n",
    "\n",
    "* facciamo un po' di ordine...\n"
   ]
  },
  {
   "cell_type": "markdown",
   "id": "d18d7484",
   "metadata": {
    "slideshow": {
     "slide_type": "slide"
    }
   },
   "source": [
    "### Structural Operational Semantics (SOS)\n",
    "\n",
    "La definizione di una relazione di transizione per descrivere il comportamento dei programmi (o espressioni) scritti in un certo linguaggio segue solitamente l'approccio della *Structural Operational Semantics (SOS)*, o Semantica Strutturale Operazionale.\n",
    "\n",
    "* *Semantics*: è una descrizione del \"significato\" del linguaggio. Nei linguaggi di programmazione il significato è dato dal comportamento dei programmi scritti in quel linguaggio\n",
    "* *Operational*: descrive il comportamento dei programmi tramite una relazione di transizione ($\\rightarrow$) che cattura le operazioni che vengono svolte passo-passo durante l'esecuzione\n",
    "* *Structural*: la relazione di transizione è definita usando regole di inferenza basate sulla struttura sintattica (una o più regole per ogni costurutto definito dalla grammatica del linguaggio)"
   ]
  },
  {
   "cell_type": "markdown",
   "id": "590e4c85",
   "metadata": {
    "cell_style": "center",
    "slideshow": {
     "slide_type": "slide"
    }
   },
   "source": [
    "### Approcci alla definizione: small-step e big-step\n",
    "\n",
    "Esistono due approcci principali alla definizione di una semantica in stile SOS"
   ]
  },
  {
   "cell_type": "markdown",
   "id": "89e97bdb",
   "metadata": {
    "cell_style": "center",
    "slideshow": {
     "slide_type": "fragment"
    }
   },
   "source": [
    "*Small-step* semantics: \n",
    "\n",
    "* ogni passo della relazione di transizione si esegue una singola operazione\n",
    "* una computazione è una sequenza di passi\n",
    "* esempio: $((3+(5*2))-1) \\rightarrow_{ss} ((3+10)-1) \\rightarrow_{ss} (13-1) \\rightarrow_{ss} 12$\n",
    "\n",
    "*LA COMPUTAZIONE SI SVILUPPA LUNGO LA SEQUENZA DI PASSI*"
   ]
  },
  {
   "cell_type": "markdown",
   "id": "27fe82df",
   "metadata": {
    "slideshow": {
     "slide_type": "slide"
    }
   },
   "source": [
    "*Big-step* semantics:\n",
    "\n",
    "* la relazione di transizione *descrive in un solo passo l'intera computazione*\n",
    "* le singole operazioni sono descritte nell'albero di derivazione di quella transizione\n",
    "* esempio: \n",
    "$$\\frac {\n",
    "    \\frac{\\frac{\\vdots}{3 \\rightarrow_{bs} 3} \\quad \\frac{\\vdots}{(5*2) \\rightarrow_{bs} 10} \\quad 3+10=13}{(3+(5*2)) \\rightarrow_{bs} 13} \\quad 1 \\rightarrow_{bs} 1 \\quad 13-1 = 12}\n",
    "{\n",
    "((3+(5*2))-1) \\rightarrow_{bs} 12\n",
    "}\n",
    "$$\n",
    "\n",
    "*LA COMPUTAZIONE SI SVILUPPA DISCENDENDO L'ALBERO DI DERIVAZIONE*"
   ]
  },
  {
   "cell_type": "markdown",
   "id": "0b3873d6",
   "metadata": {
    "slideshow": {
     "slide_type": "slide"
    }
   },
   "source": [
    "### Semantica delle espressioni"
   ]
  },
  {
   "cell_type": "markdown",
   "id": "30f982fe",
   "metadata": {},
   "source": [
    "Semantica *small-step*:\n",
    "\n",
    "$$\n",
    "n \\rightarrow_{ss} n \n",
    "\\qquad \n",
    "\\frac{E_1 \\rightarrow_{ss} E_1'}{E_1 \\, op \\, E_2 \\rightarrow_{ss} E_1' \\, op \\, E_2} \n",
    "$$\n",
    "\n",
    "$$\n",
    "\\frac{E_2 \\rightarrow_{ss} E_2'}{n \\, op \\, E_2 \\rightarrow_{ss} n \\, op \\, E_2'} \n",
    "\\qquad\n",
    "\\frac{n_1 \\mbox{op } n_2 = n}{n_1 \\, op \\, n_2 \\rightarrow_{ss} n} \n",
    "$$"
   ]
  },
  {
   "cell_type": "markdown",
   "id": "aa7911fa",
   "metadata": {},
   "source": [
    "Semantica *big-step*:\n",
    "\n",
    "$$\n",
    "n \\rightarrow_{bs} n\n",
    "\\qquad\n",
    "\\frac{E_1 \\rightarrow_{bs} n_1 \\quad E_2 \\rightarrow_{bs} n_2 \\quad n_1 \\mbox{op } n_2 = n}{E_1 \\, op \\, E_1 \\rightarrow_{bs} n}\n",
    "$$"
   ]
  },
  {
   "cell_type": "markdown",
   "id": "33fb784b",
   "metadata": {
    "slideshow": {
     "slide_type": "slide"
    }
   },
   "source": [
    "### Implementazione dell'inteprete (funzione `eval`) \n",
    "\n",
    "Consideriamo inizialmente la semantica *big-step* (più semplice)."
   ]
  },
  {
   "cell_type": "markdown",
   "id": "852081e9",
   "metadata": {
    "cell_style": "center"
   },
   "source": [
    "$$\n",
    "\\tiny\n",
    "n \\rightarrow_{bs} n \\qquad\n",
    "\\frac{E_1 \\rightarrow_{bs} n_1 \\quad E_2 \\rightarrow_{bs} n_2 \\quad n_1 \\mbox{op } n_2 = n}{E_1 \\, op \\, E_1 \\rightarrow_{bs} n}\n",
    "$$"
   ]
  },
  {
   "cell_type": "code",
   "execution_count": 16,
   "id": "ce877c83",
   "metadata": {
    "cell_style": "center",
    "slideshow": {
     "slide_type": "-"
    }
   },
   "outputs": [
    {
     "data": {
      "text/plain": [
       "val eval : exp -> exp = <fun>\n"
      ]
     },
     "execution_count": 16,
     "metadata": {},
     "output_type": "execute_result"
    }
   ],
   "source": [
    "(* interprete big-step *)\n",
    "let rec eval e =\n",
    "    match e with\n",
    "    | Val n -> Val n\n",
    "    | Op (op,e1,e2) -> \n",
    "        (* chiamate ricorsive che calcolano le derivazioni per e1 ed e2 *)\n",
    "        match (eval e1, eval e2) with\n",
    "        | (Val n1, Val n2) -> (match op with   (* calcola n1 op n2 *)\n",
    "                               | Add -> Val (n1+n2)\n",
    "                               | Sub -> Val (n1-n2)\n",
    "                               | Mul -> Val (n1*n2)\n",
    "                               | Div -> Val (n1/n2)\n",
    "                               )\n",
    "        (* caso (inutile) aggiunto solo per rendere esaustivo il pattern matching *)\n",
    "        | _ -> failwith \"Errore impossibile che si verifichi\" ;;"
   ]
  },
  {
   "cell_type": "markdown",
   "id": "d6f65402",
   "metadata": {
    "slideshow": {
     "slide_type": "slide"
    }
   },
   "source": [
    "**NOTA:** l'interprete non restituisce un intero (es. `n`), ma un *valore* nella rappresentazione AST (es. `Val n`)\n",
    "\n",
    "* per coerenza con $\\rightarrow_{bs}$ che è definita su $Exp \\times Val$ con $Val \\subset Exp$."
   ]
  },
  {
   "cell_type": "markdown",
   "id": "c0845c07",
   "metadata": {
    "slideshow": {
     "slide_type": "fragment"
    }
   },
   "source": [
    "Esempio d'uso dell'interprete:"
   ]
  },
  {
   "cell_type": "code",
   "execution_count": 17,
   "id": "0925170d",
   "metadata": {},
   "outputs": [
    {
     "data": {
      "text/plain": [
       "val exp : exp = Op (Add, Val 3, Op (Mul, Val 5, Val 2))\n"
      ]
     },
     "execution_count": 17,
     "metadata": {},
     "output_type": "execute_result"
    },
    {
     "data": {
      "text/plain": [
       "- : exp = Val 13\n"
      ]
     },
     "execution_count": 17,
     "metadata": {},
     "output_type": "execute_result"
    }
   ],
   "source": [
    "(* AST dell'espressione 3+(5*2) *)\n",
    "let exp = Op (Add , Val 3, Op ( Mul , Val 5, Val 2)) ;;\n",
    "\n",
    "eval exp;;"
   ]
  },
  {
   "cell_type": "markdown",
   "id": "8ef6d6f2",
   "metadata": {
    "slideshow": {
     "slide_type": "slide"
    }
   },
   "source": [
    "### Implementazione dell'inteprete (funzione `eval_ss`)\n",
    "\n",
    "Consideriamo ora la semantica *small-step*"
   ]
  },
  {
   "cell_type": "markdown",
   "id": "1e6761c5",
   "metadata": {},
   "source": [
    "$$\n",
    "\\tiny\n",
    "n \\rightarrow_{ss} n \n",
    "\\qquad \n",
    "\\frac{E_1 \\rightarrow_{ss} E_1'}{E_1 \\, op \\, E_2 \\rightarrow_{ss} E_1' \\, op \\, E_2} \n",
    "\\qquad \n",
    "\\frac{E_2 \\rightarrow_{ss} E_2'}{n \\, op \\, E_2 \\rightarrow_{ss} n \\, op \\, E_2'} \n",
    "\\qquad\n",
    "\\frac{n_1 \\mbox{op } n_2 = n}{n_1 \\, op \\, n_2 \\rightarrow_{ss} n} \n",
    "$$"
   ]
  },
  {
   "cell_type": "code",
   "execution_count": 18,
   "id": "44463906",
   "metadata": {
    "slideshow": {
     "slide_type": "-"
    }
   },
   "outputs": [
    {
     "data": {
      "text/plain": [
       "val eval_ss : exp -> exp = <fun>\n"
      ]
     },
     "execution_count": 18,
     "metadata": {},
     "output_type": "execute_result"
    }
   ],
   "source": [
    "(* interprete small-step *)\n",
    "let rec eval_ss e =\n",
    "        match e with\n",
    "        | Val n -> Val n\n",
    "        | Op (op,e1,e2) ->\n",
    "            (match (e1,e2) with\n",
    "            (* se gli operandi sono entrambi valori, calcola n1 op n2 *)\n",
    "            | (Val n1,Val n2) -> Val (match op with\n",
    "                                      | Add -> n1 + n2    | Sub -> n1 - n2\n",
    "                                      | Mul -> n1 * n2    | Div -> n1 / n2 )\n",
    "            (* se e1 può fare un passo (cioè se è un Op e non un valore) *)\n",
    "            | (Op (_,_,_),_) -> Op (op,(eval_ss e1),e2)\n",
    "            (* altrimenti, se e1 è un valore ma e2 può fare un passo *)\n",
    "            | (Val _,Op (_,_,_))  -> Op (op,e1,(eval_ss e2))\n",
    "            ) ;;"
   ]
  },
  {
   "cell_type": "markdown",
   "id": "c760dc1f",
   "metadata": {
    "slideshow": {
     "slide_type": "slide"
    }
   },
   "source": [
    "Esempio di esecuzione del nuovo interprete (small-step):"
   ]
  },
  {
   "cell_type": "code",
   "execution_count": 19,
   "id": "24936a67",
   "metadata": {
    "slideshow": {
     "slide_type": "-"
    }
   },
   "outputs": [
    {
     "data": {
      "text/plain": [
       "val exp : exp = Op (Add, Val 3, Op (Mul, Val 5, Val 2))\n"
      ]
     },
     "execution_count": 19,
     "metadata": {},
     "output_type": "execute_result"
    },
    {
     "data": {
      "text/plain": [
       "- : exp = Op (Add, Val 3, Val 10)\n"
      ]
     },
     "execution_count": 19,
     "metadata": {},
     "output_type": "execute_result"
    },
    {
     "data": {
      "text/plain": [
       "- : exp = Val 13\n"
      ]
     },
     "execution_count": 19,
     "metadata": {},
     "output_type": "execute_result"
    }
   ],
   "source": [
    "(* AST dell'espressione 3+(5*2) *)\n",
    "let exp = Op (Add , Val 3, Op ( Mul , Val 5, Val 2)) ;;\n",
    "\n",
    "eval_ss exp;;            (* fa un passo *)\n",
    "eval_ss (eval_ss exp);;  (* fa due passi *)"
   ]
  },
  {
   "cell_type": "markdown",
   "id": "ce44f0aa",
   "metadata": {},
   "source": [
    "Il risultato è lo stesso calcolato, in un solo passo, dall'interprete precedente (big-step):"
   ]
  },
  {
   "cell_type": "code",
   "execution_count": 43,
   "id": "19421c7c",
   "metadata": {
    "slideshow": {
     "slide_type": "-"
    }
   },
   "outputs": [
    {
     "data": {
      "text/plain": [
       "- : exp = Val 13\n"
      ]
     },
     "execution_count": 43,
     "metadata": {},
     "output_type": "execute_result"
    }
   ],
   "source": [
    "eval exp ;;"
   ]
  },
  {
   "cell_type": "markdown",
   "id": "83df9456",
   "metadata": {
    "slideshow": {
     "slide_type": "slide"
    }
   },
   "source": [
    "## Dalla semantica SOS al codice, sistematicamente\n",
    "\n",
    "Questi due esempi mostrano un *approccio sistematico di implementazione*:\n",
    "\n",
    "1. Si usa il *pattern matching* per considerare i vari tipi di *nodo dell'AST*\n",
    "2. Ogni tipo di *nodo* corrisponde a un *costrutto sintattico* definito dalla grammatica\n",
    "3. Per ogni caso del pattern matching (costrutto sintattico) si *identificano le regole della semantica* relative ad esso (la semantica è syntax-driven)\n",
    "4. Si verificano le *precondizioni* delle varie regole, possibilmente *richiamando ricorsivamente l'interprete* (per le regole che non sono assiomi)\n",
    "5. Quando si trova una regola le cui precondizioni sono verificate, si calcola *risultato della transizione*"
   ]
  },
  {
   "cell_type": "markdown",
   "id": "a98824b5",
   "metadata": {
    "slideshow": {
     "slide_type": "slide"
    }
   },
   "source": [
    "## Mettiamo le cose insieme\n",
    "\n",
    "Scanner + Parser + Interprete"
   ]
  },
  {
   "cell_type": "code",
   "execution_count": 35,
   "id": "377d228e",
   "metadata": {},
   "outputs": [
    {
     "data": {
      "text/plain": [
       "val exec1 : string -> exp = <fun>\n"
      ]
     },
     "execution_count": 35,
     "metadata": {},
     "output_type": "execute_result"
    },
    {
     "data": {
      "text/plain": [
       "val exec2 : string -> exp = <fun>\n"
      ]
     },
     "execution_count": 35,
     "metadata": {},
     "output_type": "execute_result"
    }
   ],
   "source": [
    "(* con inteprete big-step *)\n",
    "let exec1 s = eval (parse s) ;;  \n",
    "\n",
    "(* con inteprete small-step *)\n",
    "let exec2 s = \n",
    "    let rec eval_rec ast = (* chiusura transitiva *)\n",
    "        match ast with \n",
    "        | Val n -> Val n \n",
    "        | _ -> eval_rec ( eval_ss ast )\n",
    "    in\n",
    "        eval_rec (parse s) ;;"
   ]
  },
  {
   "cell_type": "code",
   "execution_count": 33,
   "id": "646987c7",
   "metadata": {},
   "outputs": [
    {
     "data": {
      "text/plain": [
       "- : exp = Val 11\n"
      ]
     },
     "execution_count": 33,
     "metadata": {},
     "output_type": "execute_result"
    },
    {
     "data": {
      "text/plain": [
       "- : exp = Val 11\n"
      ]
     },
     "execution_count": 33,
     "metadata": {},
     "output_type": "execute_result"
    }
   ],
   "source": [
    "exec1 \"3+2*(6-2)\" ;;\n",
    "exec2 \"3+2*(6-2)\" ;;"
   ]
  },
  {
   "cell_type": "markdown",
   "id": "d94229ce",
   "metadata": {
    "slideshow": {
     "slide_type": "slide"
    }
   },
   "source": [
    "Piccola variante: interprete small-step che mostra tutti i passi:"
   ]
  },
  {
   "cell_type": "code",
   "execution_count": 41,
   "id": "91f0c7b4",
   "metadata": {
    "slideshow": {
     "slide_type": "-"
    }
   },
   "outputs": [
    {
     "data": {
      "text/plain": [
       "val solve : string -> string = <fun>\n"
      ]
     },
     "execution_count": 41,
     "metadata": {},
     "output_type": "execute_result"
    },
    {
     "data": {
      "text/plain": [
       "- : string = \"(3+(2*(6-2))) = (3+(2*4)) = (3+8) = 11\"\n"
      ]
     },
     "execution_count": 41,
     "metadata": {},
     "output_type": "execute_result"
    }
   ],
   "source": [
    "let solve s =\n",
    "    let rec solve_rec ast =\n",
    "        match ast with\n",
    "        | Val n -> (to_string ast)\n",
    "        | _ -> (to_string ast)^\" = \"^(solve_rec (eval_ss ast)) \n",
    "    in\n",
    "        solve_rec (parse s);;\n",
    "\n",
    "solve \"3+2*(6-2)\" ;;"
   ]
  }
 ],
 "metadata": {
  "celltoolbar": "Slideshow",
  "kernelspec": {
   "display_name": "OCaml default",
   "language": "OCaml",
   "name": "ocaml-jupyter"
  },
  "language_info": {
   "codemirror_mode": "text/x-ocaml",
   "file_extension": ".ml",
   "mimetype": "text/x-ocaml",
   "name": "OCaml",
   "nbconverter_exporter": null,
   "pygments_lexer": "OCaml",
   "version": "4.08.1"
  },
  "rise": {
   "enable_chalkboard": true,
   "scroll": true
  }
 },
 "nbformat": 4,
 "nbformat_minor": 5
}
