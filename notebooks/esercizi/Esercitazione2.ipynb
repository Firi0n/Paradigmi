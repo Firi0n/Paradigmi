{
 "cells": [
  {
   "cell_type": "code",
   "execution_count": 17,
   "id": "ea0ea389",
   "metadata": {},
   "outputs": [
    {
     "data": {
      "text/plain": [
       "type point_2d_3d = P2dim of float * float | P3dim of float * float * float\n"
      ]
     },
     "execution_count": 17,
     "metadata": {},
     "output_type": "execute_result"
    },
    {
     "data": {
      "text/plain": [
       "type 'a box = Empty | Full of 'a\n"
      ]
     },
     "execution_count": 17,
     "metadata": {},
     "output_type": "execute_result"
    },
    {
     "data": {
      "text/plain": [
       "type 'a colored_tree =\n",
       "    Black of 'a\n",
       "  | Red of 'a * 'a colored_tree * 'a colored_tree\n",
       "  | Blue of 'a * 'a colored_tree * 'a colored_tree\n"
      ]
     },
     "execution_count": 17,
     "metadata": {},
     "output_type": "execute_result"
    }
   ],
   "source": [
    "type point_2d_3d =\n",
    "    | P2dim of float*float\n",
    "    | P3dim of float*float*float;;\n",
    "\n",
    "type 'a box =\n",
    "    | Empty\n",
    "    | Full of 'a;;\n",
    "    \n",
    "type 'a colored_tree =\n",
    "    | Black of 'a\n",
    "    | Red of 'a*('a colored_tree)*('a colored_tree)\n",
    "    | Blue of 'a*('a colored_tree)*('a colored_tree)"
   ]
  },
  {
   "cell_type": "code",
   "execution_count": 21,
   "id": "67eaeb7f",
   "metadata": {},
   "outputs": [
    {
     "data": {
      "text/plain": [
       "val f : 'a colored_tree -> 'a list * 'a list * 'a list = <fun>\n"
      ]
     },
     "execution_count": 21,
     "metadata": {},
     "output_type": "execute_result"
    }
   ],
   "source": [
    "let rec f a = match a with\n",
    "  | Black n -> ([n], [], [])\n",
    "  | Red (n, s, s') -> \n",
    "      let (r1, g1, b1) = f s in\n",
    "      let (r2, g2, b2) = f s' in\n",
    "      (r1 @ r2, n :: g1 @ g2, b1 @ b2)\n",
    "  | Blue (n, s, s') -> \n",
    "      let (r1, g1, b1) = f s in\n",
    "      let (r2, g2, b2) = f s' in\n",
    "      (r1 @ r2, g1 @ g2, n :: b1 @ b2)\n"
   ]
  },
  {
   "cell_type": "code",
   "execution_count": 6,
   "id": "3886e1fe",
   "metadata": {},
   "outputs": [
    {
     "data": {
      "text/plain": [
       "type btree = Void | Node of int * btree * btree\n"
      ]
     },
     "execution_count": 6,
     "metadata": {},
     "output_type": "execute_result"
    }
   ],
   "source": [
    "type btree =\n",
    "| Void\n",
    "| Node of int * btree * btree;;"
   ]
  },
  {
   "cell_type": "code",
   "execution_count": null,
   "id": "58df1ded",
   "metadata": {},
   "outputs": [],
   "source": []
  },
  {
   "cell_type": "code",
   "execution_count": 52,
   "id": "a3b34748",
   "metadata": {},
   "outputs": [
    {
     "data": {
      "text/plain": [
       "val union_list : 'a list list -> 'a list list -> 'a list list = <fun>\n"
      ]
     },
     "execution_count": 52,
     "metadata": {},
     "output_type": "execute_result"
    }
   ],
   "source": [
    "let rec union_list lis lis' = match lis, lis' with\n",
    "| [], [] -> []\n",
    "| l, [] -> l\n",
    "| [], r -> r\n",
    "| l::l',r::r' -> (l@r)::(union_list l' r')"
   ]
  },
  {
   "cell_type": "code",
   "execution_count": 53,
   "id": "8869b0c7",
   "metadata": {},
   "outputs": [
    {
     "data": {
      "text/plain": [
       "val flat : btree -> int list list = <fun>\n"
      ]
     },
     "execution_count": 53,
     "metadata": {},
     "output_type": "execute_result"
    }
   ],
   "source": [
    "let rec flat t = match t with\n",
    "| Void -> []\n",
    "| Node (n,s,s') -> [n]::(union_list (flat s)(flat s'));;"
   ]
  },
  {
   "cell_type": "code",
   "execution_count": 54,
   "id": "549bc867",
   "metadata": {},
   "outputs": [
    {
     "data": {
      "text/plain": [
       "val bt : btree =\n",
       "  Node (3, Node (5, Node (1, Void, Void), Void),\n",
       "   Node (-4, Node (6, Void, Void), Node (8, Void, Void)))\n"
      ]
     },
     "execution_count": 54,
     "metadata": {},
     "output_type": "execute_result"
    },
    {
     "data": {
      "text/plain": [
       "- : int list list = [[3]; [5; -4]; [1; 6; 8]]\n"
      ]
     },
     "execution_count": 54,
     "metadata": {},
     "output_type": "execute_result"
    }
   ],
   "source": [
    "let bt =\n",
    "Node (3,\n",
    "Node (5,\n",
    "Node(1,Void,Void),\n",
    "Void\n",
    "),\n",
    "Node (-4,\n",
    "Node(6,Void,Void),\n",
    "Node(8,Void,Void)\n",
    ")\n",
    ");;\n",
    "flat bt"
   ]
  },
  {
   "cell_type": "code",
   "execution_count": null,
   "id": "833de7a1",
   "metadata": {},
   "outputs": [],
   "source": []
  }
 ],
 "metadata": {
  "kernelspec": {
   "display_name": "OCaml default",
   "language": "OCaml",
   "name": "ocaml-jupyter"
  },
  "language_info": {
   "codemirror_mode": "text/x-ocaml",
   "file_extension": ".ml",
   "mimetype": "text/x-ocaml",
   "name": "OCaml",
   "nbconverter_exporter": null,
   "pygments_lexer": "OCaml",
   "version": "4.08.1"
  }
 },
 "nbformat": 4,
 "nbformat_minor": 5
}
