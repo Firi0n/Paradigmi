{
 "cells": [
  {
   "cell_type": "code",
   "execution_count": 2,
   "id": "87bb3040",
   "metadata": {},
   "outputs": [
    {
     "data": {
      "text/plain": [
       "val duemax : 'a list -> ('a * 'a) option = <fun>\n"
      ]
     },
     "execution_count": 2,
     "metadata": {},
     "output_type": "execute_result"
    }
   ],
   "source": [
    "let rec duemax lis = match lis with\n",
    "| [] -> None\n",
    "| x::[] -> Some(x,x)\n",
    "| x::y::[] -> if x>y then Some(x,y) else Some(y,x)\n",
    "| x::lis' -> match duemax lis' with\n",
    "            | None -> failwith \"Errore impossibile\"\n",
    "            | Some (a,b) -> if x>a then Some (x,a)\n",
    "                            else if x>b then Some (a,x)\n",
    "                            else Some (a,b);;"
   ]
  },
  {
   "cell_type": "code",
   "execution_count": null,
   "id": "d331d8ac",
   "metadata": {},
   "outputs": [],
   "source": []
  }
 ],
 "metadata": {
  "kernelspec": {
   "display_name": "OCaml default",
   "language": "OCaml",
   "name": "ocaml-jupyter"
  },
  "language_info": {
   "codemirror_mode": "text/x-ocaml",
   "file_extension": ".ml",
   "mimetype": "text/x-ocaml",
   "name": "OCaml",
   "nbconverter_exporter": null,
   "pygments_lexer": "OCaml",
   "version": "4.08.1"
  }
 },
 "nbformat": 4,
 "nbformat_minor": 5
}
