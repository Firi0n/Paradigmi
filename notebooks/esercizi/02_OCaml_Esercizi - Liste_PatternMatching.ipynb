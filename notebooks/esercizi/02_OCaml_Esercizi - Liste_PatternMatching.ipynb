{
 "cells": [
  {
   "cell_type": "markdown",
   "id": "e03e09f6",
   "metadata": {},
   "source": [
    "# Esercizi OCaml - 02 - Liste e Pattern Matching"
   ]
  },
  {
   "cell_type": "markdown",
   "id": "8256c3e0",
   "metadata": {},
   "source": [
    "## 1. Inferenza di tipi con le liste"
   ]
  },
  {
   "cell_type": "markdown",
   "id": "67be07c4",
   "metadata": {},
   "source": [
    "**Esercizio 1.1.** Che tipo hanno le seguenti espressioni? Cercare di inferirlo a mente (o su carta) e poi controllare se la risposta è corretta facendo valutare l'espressione all'interprete:\n",
    "\n",
    "1. `[(3,4);(2,1)]`\n",
    "2. `fun x lis -> x::lis`\n",
    "3. `fun x lis -> let b=x>0 in if b then lis else [b]`\n",
    "4. `fun x -> []::x`\n",
    "5. `let f n = n+1 in if true then [f] else [(fun x -> x); (fun x-> x-1)]`"
   ]
  },
  {
   "cell_type": "code",
   "execution_count": null,
   "id": "18f50fbc",
   "metadata": {},
   "outputs": [],
   "source": []
  },
  {
   "cell_type": "markdown",
   "id": "8bdc6bf5",
   "metadata": {},
   "source": [
    "## 2. Funzioni ricorsive su liste"
   ]
  },
  {
   "cell_type": "markdown",
   "id": "64016a45",
   "metadata": {},
   "source": [
    "**ATTENZIONE:**\n",
    "\n",
    "* Per risolvere i seguenti esercizi provare innanzitutto a definire delle funzioni ricorsive in modo esplicito (per intenderci con `let rec`) e poi provare a dare una soluzione diversa non utilizzando la ricorsione esplicita, ma ricorrendo alle funzioni higher-order viste a lezione (`List.map`,`List.filter`,`List.fold_right`,`List.fold_left`, eccetera...)\n",
    "* Nella soluzione è possibile (e in alcuni casi, consigliato) definire funzioni ausiliarie usando il costrutto `let ...  in`. Nelle soluzioni che si basano su ricorsione esplicita la funzione ricorsiva può essere quella principale o una (o più) di quelle ausiliarie."
   ]
  },
  {
   "cell_type": "markdown",
   "id": "1c7f55c5",
   "metadata": {
    "cell_style": "center"
   },
   "source": [
    "**Esercizio 2.1.** Scrivere una funzione `genera_lista` che prende un intero positivo `n` e restituisce una lista contenente la lista `[1; 2; ... n]`. Nel caso in cui `n` sia minore o uguale di zero restituisce la lista vuota."
   ]
  },
  {
   "cell_type": "code",
   "execution_count": 50,
   "id": "b8ef708f",
   "metadata": {},
   "outputs": [
    {
     "data": {
      "text/plain": [
       "val genera_lista : int -> int list = <fun>\n"
      ]
     },
     "execution_count": 50,
     "metadata": {},
     "output_type": "execute_result"
    },
    {
     "data": {
      "text/plain": [
       "- : int list = [1; 2; 3; 4; 5]\n"
      ]
     },
     "execution_count": 50,
     "metadata": {},
     "output_type": "execute_result"
    }
   ],
   "source": [
    "(*let rec _genera_lista n i = if n=0 then [] else (i+1) :: _genera_lista(n-1)(i+1);;\n",
    "let genera_lista x = _genera_lista x 0;;*)\n",
    "\n",
    "(*let rec genera_lista n = if n=0 then [] else genera_lista(n-1)@n::[];;*)\n",
    "\n",
    "let rec genera_lista x = match x with\n",
    "    | 0 -> []\n",
    "    | x -> genera_lista(x-1)@x::[];;\n",
    "\n",
    "genera_lista 5;;"
   ]
  },
  {
   "cell_type": "markdown",
   "id": "3050de41",
   "metadata": {},
   "source": [
    "**Esercizio 2.2.** Scrivere una funzione `media` che prende una lista di interi e calcola la media dei suoi elementi."
   ]
  },
  {
   "cell_type": "code",
   "execution_count": 58,
   "id": "e30c49f4",
   "metadata": {},
   "outputs": [
    {
     "data": {
      "text/plain": [
       "val somma : int list -> int = <fun>\n"
      ]
     },
     "execution_count": 58,
     "metadata": {},
     "output_type": "execute_result"
    },
    {
     "data": {
      "text/plain": [
       "val media : int list -> int = <fun>\n"
      ]
     },
     "execution_count": 58,
     "metadata": {},
     "output_type": "execute_result"
    },
    {
     "data": {
      "text/plain": [
       "- : int = 2\n"
      ]
     },
     "execution_count": 58,
     "metadata": {},
     "output_type": "execute_result"
    }
   ],
   "source": [
    "let rec somma x =  match x with\n",
    "    | [] -> 0\n",
    "    | x::x' -> (x + somma x') ;;\n",
    "    \n",
    "let media x = somma x / List.length x;;\n",
    "    \n",
    "media (1::4::3::[]);;"
   ]
  },
  {
   "cell_type": "markdown",
   "id": "bac65529",
   "metadata": {},
   "source": [
    "**Esercizio 2.3.** Scrivere una funzione `take` che prende una lista `lis` e un intero `n` e restituisce la lista contenente i primi `n` elementi di `lis`. Se `n` è minore di `0` restituisce la lista vuota."
   ]
  },
  {
   "cell_type": "code",
   "execution_count": 36,
   "id": "dc507399",
   "metadata": {},
   "outputs": [
    {
     "data": {
      "text/plain": [
       "val take : 'a list -> int -> 'a list = <fun>\n"
      ]
     },
     "execution_count": 36,
     "metadata": {},
     "output_type": "execute_result"
    },
    {
     "data": {
      "text/plain": [
       "- : int list = []\n"
      ]
     },
     "execution_count": 36,
     "metadata": {},
     "output_type": "execute_result"
    }
   ],
   "source": [
    "(*let rec take lis n = match n with\n",
    "    | 0 -> []\n",
    "    | n -> \n",
    "    match lis with\n",
    "        | [] -> []\n",
    "        | lis::lis' -> lis::take (lis') (n-1) ;;*)\n",
    "        \n",
    "let rec take lis n = match n, lis with\n",
    "    | n,_ when n<=0 -> []\n",
    "    | _, [] -> []\n",
    "    | n,lis::lis' -> lis::take (lis') (n-1) ;;\n",
    "    \n",
    "take ([4;5;6]) (-1)"
   ]
  },
  {
   "cell_type": "code",
   "execution_count": null,
   "id": "759ae9b5",
   "metadata": {
    "cell_style": "center"
   },
   "outputs": [],
   "source": [
    "#**Esercizio 2.4.** Scrivere una funzione `drop` che prende una lista `lis` e un intero `n` e restituisce una lista \n",
    "contenente gli elementi di `lis` ad eccezione dei primi `n`. Se `n` è minore di `0` restituisce `lis`."
   ]
  },
  {
   "cell_type": "code",
   "execution_count": 4,
   "id": "fd79d8a3",
   "metadata": {},
   "outputs": [
    {
     "data": {
      "text/plain": [
       "val drop : 'a list -> int -> 'a list = <fun>\n"
      ]
     },
     "execution_count": 4,
     "metadata": {},
     "output_type": "execute_result"
    }
   ],
   "source": [
    "let rec drop lis n = match n, lis with\n",
    "    | n,_ when n<=0 -> lis\n",
    "    | _, [] -> []\n",
    "    | n,lis::lis' -> drop (lis') (n-1) ;;"
   ]
  },
  {
   "cell_type": "markdown",
   "id": "bed0e953",
   "metadata": {},
   "source": [
    "**Esercizio 2.5.** Scrivere una funzione `somma_costante` che prende una lista di coppie di interi e verifica (restituendo `true` o `false`) se tutte le coppie hanno elementi la cui somma è sempre lo stesso valore."
   ]
  },
  {
   "cell_type": "code",
   "execution_count": 33,
   "id": "eb00b9bb",
   "metadata": {},
   "outputs": [
    {
     "data": {
      "text/plain": [
       "val somma_costante : (int * int) list -> bool = <fun>\n"
      ]
     },
     "execution_count": 33,
     "metadata": {},
     "output_type": "execute_result"
    },
    {
     "data": {
      "text/plain": [
       "- : bool = true\n"
      ]
     },
     "execution_count": 33,
     "metadata": {},
     "output_type": "execute_result"
    }
   ],
   "source": [
    "let rec somma_costante lis = match lis with\n",
    "    | [] -> true\n",
    "    | [_] -> true\n",
    "    | (x,y)::(x',y')::xs -> (x+y)=(x'+y') && somma_costante((x',y')::xs);;\n",
    "somma_costante [(5,5);(5,5);(6,6)]"
   ]
  },
  {
   "cell_type": "markdown",
   "id": "049cb76b",
   "metadata": {},
   "source": [
    "**Esercizio 2.6.** Scrivere una funzione `ord` che prende una lista e verifica (restituendo `true` o `false`) se i suoi elementi sono ordinati in modo crescente."
   ]
  },
  {
   "cell_type": "code",
   "execution_count": 35,
   "id": "1cdab5d9",
   "metadata": {},
   "outputs": [
    {
     "data": {
      "text/plain": [
       "val ord : 'a list -> bool = <fun>\n"
      ]
     },
     "execution_count": 35,
     "metadata": {},
     "output_type": "execute_result"
    },
    {
     "data": {
      "text/plain": [
       "- : bool = true\n"
      ]
     },
     "execution_count": 35,
     "metadata": {},
     "output_type": "execute_result"
    }
   ],
   "source": [
    "let rec ord lis = match lis with\n",
    "    | [] -> true\n",
    "    | [_] -> true\n",
    "    | x::y::xs -> x<=y && ord(y::xs);;\n",
    "ord [2;2;4]"
   ]
  },
  {
   "cell_type": "markdown",
   "id": "4a69ebea",
   "metadata": {},
   "source": [
    "**Esercizio 2.7.** Scrivere una funzione `min` che prende un elemento `x` e una lista `lis` e restituisce il minore tra `x` e il minimo della lista `lis`."
   ]
  },
  {
   "cell_type": "code",
   "execution_count": 50,
   "id": "72630209",
   "metadata": {},
   "outputs": [
    {
     "data": {
      "text/plain": [
       "val min_arr : float list -> float = <fun>\n"
      ]
     },
     "execution_count": 50,
     "metadata": {},
     "output_type": "execute_result"
    },
    {
     "data": {
      "text/plain": [
       "val min : float -> float list -> float = <fun>\n"
      ]
     },
     "execution_count": 50,
     "metadata": {},
     "output_type": "execute_result"
    },
    {
     "data": {
      "text/plain": [
       "- : float = 3.\n"
      ]
     },
     "execution_count": 50,
     "metadata": {},
     "output_type": "execute_result"
    }
   ],
   "source": [
    "let rec min_arr x = match x with\n",
    "    | [] -> infinity\n",
    "    | x::x' -> let y = min_arr x' in if x < y then x else y;;\n",
    "\n",
    "let min x lis = let y = min_arr lis in if x < y then x else y;;\n",
    "\n",
    "min 3. [5.;6.;4.]"
   ]
  },
  {
   "cell_type": "markdown",
   "id": "661e0048",
   "metadata": {},
   "source": [
    "**Esercizio 2.8.** Scrivere una funzione `remove` che prende un elemento `x` e una lista `lis` e restituisce una lista uguale a `lis` ma senza la prima occorrenza dell'elemento `x`."
   ]
  },
  {
   "cell_type": "code",
   "execution_count": 23,
   "id": "038e59f4",
   "metadata": {},
   "outputs": [
    {
     "data": {
      "text/plain": [
       "val remove : 'a -> 'a list -> 'a list = <fun>\n"
      ]
     },
     "execution_count": 23,
     "metadata": {},
     "output_type": "execute_result"
    },
    {
     "data": {
      "text/plain": [
       "- : int list = [5; 5]\n"
      ]
     },
     "execution_count": 23,
     "metadata": {},
     "output_type": "execute_result"
    }
   ],
   "source": [
    "let rec remove x lis = match lis with\n",
    "    | [] -> []\n",
    "    | l::l' -> if l = x then l' else l::remove x l';;\n",
    "remove 4 [5;4;5]"
   ]
  },
  {
   "cell_type": "markdown",
   "id": "a00da03d",
   "metadata": {},
   "source": [
    "**Esercizio 2.9.** Scrivere una funzione `sort` che prende una lista di elementi di qualunque tipo e restituisce una lista con gli stessi elementi ordinati in modo crescente. (Suggerimento: possono essere utili le funzioni `min` e `remove` degli esercizi precedenti)."
   ]
  },
  {
   "cell_type": "code",
   "execution_count": 21,
   "id": "1ad4ef38",
   "metadata": {},
   "outputs": [
    {
     "data": {
      "text/plain": [
       "val minmax : 'a list -> 'a list * 'a list -> 'a -> 'a list * 'a list = <fun>\n"
      ]
     },
     "execution_count": 21,
     "metadata": {},
     "output_type": "execute_result"
    },
    {
     "data": {
      "text/plain": [
       "val pv_quicksort : 'a list -> 'a -> 'a list = <fun>\n"
      ]
     },
     "execution_count": 21,
     "metadata": {},
     "output_type": "execute_result"
    },
    {
     "data": {
      "text/plain": [
       "val quicksort : 'a list -> 'a list = <fun>\n"
      ]
     },
     "execution_count": 21,
     "metadata": {},
     "output_type": "execute_result"
    },
    {
     "data": {
      "text/plain": [
       "- : int list = [2; 3; 4; 5; 5; 7]\n"
      ]
     },
     "execution_count": 21,
     "metadata": {},
     "output_type": "execute_result"
    }
   ],
   "source": [
    "(*let rec sorted_insert lis n = match lis with\n",
    " | [] -> [n]\n",
    " | x::xs -> if n<=x then n::x::xs else x::sorted_insert xs n;;\n",
    " \n",
    "let rec my_sort lis lis' = match lis with\n",
    " | [] -> lis'\n",
    " | x::xs -> sort xs (sorted_insert lis' x);;\n",
    " let sort lis = my_sort lis [];;\n",
    " *)\n",
    " \n",
    "let rec min_max lis tup n = match lis, tup with\n",
    " | [], _ -> tup\n",
    " | x::x', (l,r) -> if x<=n then minmax x' (x::l, r) n else minmax x' (l, x::r) n;;\n",
    " \n",
    "let rec pv_quicksort lis n = match min_max lis ([],[]) n with\n",
    " | ([],[]) -> [n]\n",
    " | (l::l',[]) -> (quicksort l' l)@[n]\n",
    " | ([],r::r') -> [n]@(quicksort r' r)\n",
    " | (l::l',r::r') -> (quicksort l' l)@[n]@(quicksort r' r);;\n",
    " \n",
    " let quicksort lis = match lis with\n",
    "  | [] -> []\n",
    "  | x::x' -> pv_quicksort x' x;;\n",
    "\n",
    "quicksort [5;5;4;3;2;7]"
   ]
  },
  {
   "cell_type": "markdown",
   "id": "29d8476c",
   "metadata": {},
   "source": [
    "**Esercizio 2.10.** Scrivere una funzione (o meglio, un predicato) `set` che prende una lista e verifica (restituendo `true` o `false`) se i suoi elementi sono tutti diversi tra loro, cioè se la lista è una corretta rappresentazione di un insieme. La funzione deve avere tipo `'a -> bool`, in modo da poter essere essere applicata ad insiemi con elementi di qualunque tipo."
   ]
  },
  {
   "cell_type": "code",
   "execution_count": 87,
   "id": "7d617cce",
   "metadata": {},
   "outputs": [
    {
     "data": {
      "text/plain": [
       "val element_in_list : 'a list -> 'a -> bool = <fun>\n"
      ]
     },
     "execution_count": 87,
     "metadata": {},
     "output_type": "execute_result"
    },
    {
     "data": {
      "text/plain": [
       "val set : 'a list -> bool = <fun>\n"
      ]
     },
     "execution_count": 87,
     "metadata": {},
     "output_type": "execute_result"
    },
    {
     "data": {
      "text/plain": [
       "- : bool = false\n"
      ]
     },
     "execution_count": 87,
     "metadata": {},
     "output_type": "execute_result"
    }
   ],
   "source": [
    "let rec element_in_list list x = match list with\n",
    "    | [] -> false\n",
    "    | l::l' -> if l==x then true else element_in_list l' x;;\n",
    "    \n",
    "let rec set list = match list with\n",
    "    | [] -> true\n",
    "    | l::l' -> if element_in_list l' l then false else set l';;\n",
    "    \n",
    "set [5;4;3;1;2;1]"
   ]
  },
  {
   "cell_type": "markdown",
   "id": "50cd639d",
   "metadata": {},
   "source": [
    "**Esercizio 2.11.** Un multi-insieme (o multiset) estende il concetto di insieme consentendo la possibilità di avere più occorrenze dello stesso elemento. Un multiset può essere definito come una lista di coppie `(x,n)` in cui `x` è l'elemento considerato e `n` è il numero di occorrenze di quell'elemento. Scrivere una funzione `multiset` che, data una lista di coppie di tipo `'a*int`, verifica se è una corretta rappresentazione di un multiset (contenente coppie che sono tutte diverse tra loro nel primo elemento). "
   ]
  },
  {
   "cell_type": "code",
   "execution_count": 90,
   "id": "21ea1764",
   "metadata": {},
   "outputs": [
    {
     "data": {
      "text/plain": [
       "val element_in_multiset : ('a * 'b) list -> 'c * 'd -> bool = <fun>\n"
      ]
     },
     "execution_count": 90,
     "metadata": {},
     "output_type": "execute_result"
    },
    {
     "data": {
      "text/plain": [
       "val multiset : ('a * 'b) list -> bool = <fun>\n"
      ]
     },
     "execution_count": 90,
     "metadata": {},
     "output_type": "execute_result"
    }
   ],
   "source": [
    "let rec element_in_multiset list x = match list with\n",
    "    | [] -> false\n",
    "    | (l,n)::l' -> if l==x then true else element_in_list l' x;;\n",
    "    \n",
    "let rec multiset list = match list with\n",
    "    | [] -> true\n",
    "    | (l,n)::l' -> if element_in_multiset l' l then false else set l';;"
   ]
  },
  {
   "cell_type": "markdown",
   "id": "14eb6b36",
   "metadata": {},
   "source": [
    "**Esercizio 2.12.** Scrivere una funzione `crea_multiset` che, data una lista di qualunque tipo anche con elementi ripetuti, la trasforma in un multiset verificabile tramite la funzione `multiset` dell'esercizio precedente."
   ]
  },
  {
   "cell_type": "code",
   "execution_count": 96,
   "id": "e7d643df",
   "metadata": {},
   "outputs": [
    {
     "data": {
      "text/plain": [
       "val insert_in_multiset : ('a * 'b) list -> 'c -> ('c * int) list = <fun>\n"
      ]
     },
     "execution_count": 96,
     "metadata": {},
     "output_type": "execute_result"
    },
    {
     "data": {
      "text/plain": [
       "val crea_multiset : 'a list -> ('a * int) list -> ('a * int) list = <fun>\n"
      ]
     },
     "execution_count": 96,
     "metadata": {},
     "output_type": "execute_result"
    },
    {
     "data": {
      "text/plain": [
       "- : (int * int) list =\n",
       "[(5, 3); (3, 1); (2, 1); (1, 3); (4, 1); (6, 1); (7, 1)]\n"
      ]
     },
     "execution_count": 96,
     "metadata": {},
     "output_type": "execute_result"
    }
   ],
   "source": [
    "let rec insert_in_multiset ms x = match ms with\n",
    "    | [] -> (x, 1)::[]\n",
    "    | (l,n)::l' -> if l==x then (l,n+1)::l' else (l,n)::insert_in_multiset l' x;;\n",
    "\n",
    "let rec crea_multiset lis ms = match lis with\n",
    "    | []-> ms\n",
    "    | x::xs -> crea_multiset xs (insert_in_multiset ms x);;\n",
    "    \n",
    "crea_multiset [5;5;3;2;1;1;1;4;5;6;7] []"
   ]
  },
  {
   "cell_type": "code",
   "execution_count": null,
   "id": "89396235",
   "metadata": {},
   "outputs": [],
   "source": []
  }
 ],
 "metadata": {
  "kernelspec": {
   "display_name": "OCaml default",
   "language": "OCaml",
   "name": "ocaml-jupyter"
  },
  "language_info": {
   "codemirror_mode": "text/x-ocaml",
   "file_extension": ".ml",
   "mimetype": "text/x-ocaml",
   "name": "OCaml",
   "nbconverter_exporter": null,
   "pygments_lexer": "OCaml",
   "version": "4.08.1"
  }
 },
 "nbformat": 4,
 "nbformat_minor": 5
}
