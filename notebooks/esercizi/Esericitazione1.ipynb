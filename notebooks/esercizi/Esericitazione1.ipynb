{
 "cells": [
  {
   "cell_type": "code",
   "execution_count": 2,
   "id": "8a20323b",
   "metadata": {},
   "outputs": [
    {
     "data": {
      "text/plain": [
       "val somma_positivi : int list -> int = <fun>\n"
      ]
     },
     "execution_count": 2,
     "metadata": {},
     "output_type": "execute_result"
    }
   ],
   "source": [
    "let rec somma_positivi l = match l with\n",
    "| [] -> 0\n",
    "| n::l' -> if n > 0 then n + somma_positivi l' else somma_positivi l';;"
   ]
  },
  {
   "cell_type": "code",
   "execution_count": 19,
   "id": "dd955dfd",
   "metadata": {},
   "outputs": [
    {
     "data": {
      "text/plain": [
       "val somma_liste : int list -> int list -> int list = <fun>\n"
      ]
     },
     "execution_count": 19,
     "metadata": {},
     "output_type": "execute_result"
    }
   ],
   "source": [
    "let rec somma_liste l l' = if List.length l <> List.length l' then [] else\n",
    "match l,l' with\n",
    "| x::x', y::y' -> (x+y)::somma_liste x' y'\n",
    "| _, _ -> [];;"
   ]
  },
  {
   "cell_type": "code",
   "execution_count": 20,
   "id": "0522491f",
   "metadata": {},
   "outputs": [
    {
     "data": {
      "text/plain": [
       "- : int list = [8; 6]\n"
      ]
     },
     "execution_count": 20,
     "metadata": {},
     "output_type": "execute_result"
    }
   ],
   "source": [
    "somma_liste [5;4] [3;2];;"
   ]
  },
  {
   "cell_type": "code",
   "execution_count": 3,
   "id": "5312e200",
   "metadata": {},
   "outputs": [
    {
     "data": {
      "text/plain": [
       "val parentesi : char -> int -> int = <fun>\n"
      ]
     },
     "execution_count": 3,
     "metadata": {},
     "output_type": "execute_result"
    }
   ],
   "source": [
    "let parentesi x n = match x with\n",
    "| '(' -> n+1\n",
    "| ')' -> n-1\n",
    "| _ -> failwith \"symbol not valid!\";;"
   ]
  },
  {
   "cell_type": "code",
   "execution_count": 8,
   "id": "ed61b8a9",
   "metadata": {},
   "outputs": [
    {
     "data": {
      "text/plain": [
       "val parentesi_bilanciate : char list -> int -> bool = <fun>\n"
      ]
     },
     "execution_count": 8,
     "metadata": {},
     "output_type": "execute_result"
    }
   ],
   "source": [
    "let rec parentesi_bilanciate l n = match l with\n",
    "| [] -> n=0\n",
    "| x::x' -> match (parentesi x n) with\n",
    "    | y when y < 0 -> false\n",
    "    | y -> parentesi_bilanciate x' y;;"
   ]
  },
  {
   "cell_type": "code",
   "execution_count": 10,
   "id": "fcf2873f",
   "metadata": {},
   "outputs": [
    {
     "data": {
      "text/plain": [
       "- : bool = true\n"
      ]
     },
     "execution_count": 10,
     "metadata": {},
     "output_type": "execute_result"
    }
   ],
   "source": [
    "parentesi_bilanciate ['(';'('; ')';'(';'(';')';')';')';] 0;;"
   ]
  },
  {
   "cell_type": "code",
   "execution_count": null,
   "id": "0cf441a8",
   "metadata": {},
   "outputs": [],
   "source": []
  }
 ],
 "metadata": {
  "kernelspec": {
   "display_name": "OCaml default",
   "language": "OCaml",
   "name": "ocaml-jupyter"
  },
  "language_info": {
   "codemirror_mode": "text/x-ocaml",
   "file_extension": ".ml",
   "mimetype": "text/x-ocaml",
   "name": "OCaml",
   "nbconverter_exporter": null,
   "pygments_lexer": "OCaml",
   "version": "4.08.1"
  }
 },
 "nbformat": 4,
 "nbformat_minor": 5
}
