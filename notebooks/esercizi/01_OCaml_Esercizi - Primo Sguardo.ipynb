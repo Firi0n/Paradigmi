{
 "cells": [
  {
   "cell_type": "markdown",
   "id": "e03e09f6",
   "metadata": {},
   "source": [
    "# Esercizi OCaml - 01 - Primo Sguardo"
   ]
  },
  {
   "cell_type": "markdown",
   "id": "8bdc6bf5",
   "metadata": {},
   "source": [
    "## 1. Definizione di funzioni"
   ]
  },
  {
   "cell_type": "markdown",
   "id": "1c7f55c5",
   "metadata": {
    "cell_style": "center"
   },
   "source": [
    "**Esercizio 1.1.** Scrivere una funzione `media` che prende due interi e ne calcola la media esatta (come `float`)."
   ]
  },
  {
   "cell_type": "code",
   "execution_count": 22,
   "id": "b8ef708f",
   "metadata": {},
   "outputs": [
    {
     "data": {
      "text/plain": [
       "val media : int -> int -> float = <fun>\n"
      ]
     },
     "execution_count": 22,
     "metadata": {},
     "output_type": "execute_result"
    }
   ],
   "source": [
    "let media x y = (float_of_int (x + y)) /. 2.0"
   ]
  },
  {
   "cell_type": "markdown",
   "id": "2376f6b4",
   "metadata": {},
   "source": [
    "**Esercizio 1.2.** Scrivere una funzione `maggiore` che prende due interi e restituisce una stringa contenente una frase che dice quale dei due sia maggiore dell'altro. Ad esempio, se i due interi sono `3` e `5`, la funzione restituisce `\"5 è maggiore di 3\"`."
   ]
  },
  {
   "cell_type": "code",
   "execution_count": 26,
   "id": "c2413ea6",
   "metadata": {},
   "outputs": [
    {
     "data": {
      "text/plain": [
       "val maggiore : int -> int -> string = <fun>\n"
      ]
     },
     "execution_count": 26,
     "metadata": {},
     "output_type": "execute_result"
    }
   ],
   "source": [
    "let maggiore x y = if x>y then \n",
    "    (string_of_int x) ^ \" è maggiore di \" ^ (string_of_int y) \n",
    "    else \n",
    "    (string_of_int y) ^ \" è maggiore di \" ^ (string_of_int x);;"
   ]
  },
  {
   "cell_type": "markdown",
   "id": "aa8f39e1",
   "metadata": {},
   "source": [
    "**Esercizio 1.3.** Scrivere una funzione `somma_prodotto` che prende due interi e restituisce una coppia i cui elementi sono la somma e il prodotto dei due parametri."
   ]
  },
  {
   "cell_type": "code",
   "execution_count": 31,
   "id": "d2015603",
   "metadata": {},
   "outputs": [
    {
     "data": {
      "text/plain": [
       "val somma_prodotto : int -> int -> int * int = <fun>\n"
      ]
     },
     "execution_count": 31,
     "metadata": {},
     "output_type": "execute_result"
    }
   ],
   "source": [
    "let somma_prodotto x y = x+y,x*y;;"
   ]
  },
  {
   "cell_type": "markdown",
   "id": "6eb9fea4",
   "metadata": {},
   "source": [
    "**Esercizio 1.4.** Scrivere una funzione `abs_apply` che prende una funzione `f` e un intero `n`, e restituisce il valore assoluto del risultato dell'applicazione di `f` a `n`."
   ]
  },
  {
   "cell_type": "code",
   "execution_count": 37,
   "id": "99ae82af",
   "metadata": {},
   "outputs": [
    {
     "data": {
      "text/plain": [
       "val change_sign : int -> int = <fun>\n"
      ]
     },
     "execution_count": 37,
     "metadata": {},
     "output_type": "execute_result"
    },
    {
     "data": {
      "text/plain": [
       "val abs_apply : (int -> int) -> int -> int = <fun>\n"
      ]
     },
     "execution_count": 37,
     "metadata": {},
     "output_type": "execute_result"
    },
    {
     "data": {
      "text/plain": [
       "val c : int = 5\n"
      ]
     },
     "execution_count": 37,
     "metadata": {},
     "output_type": "execute_result"
    }
   ],
   "source": [
    "let change_sign x = -x;;\n",
    "let abs_apply (f:int->int) (n:int) = let x = f n in if x>0 then x else -x;;"
   ]
  },
  {
   "cell_type": "markdown",
   "id": "93f688e4",
   "metadata": {},
   "source": [
    "**Esercizio 1.5.** Scrivere, applicando parzialmente la funzione `abs_apply` dell'esercizio precedente, una funzione che prende un intero `n` e calcola il valore assoluto di `n/2`."
   ]
  },
  {
   "cell_type": "code",
   "execution_count": 21,
   "id": "e5d156d7",
   "metadata": {},
   "outputs": [
    {
     "data": {
      "text/plain": [
       "val abs_apply : (int -> int) -> int -> int = <fun>\n"
      ]
     },
     "execution_count": 21,
     "metadata": {},
     "output_type": "execute_result"
    },
    {
     "data": {
      "text/plain": [
       "val bo : int -> int = <fun>\n"
      ]
     },
     "execution_count": 21,
     "metadata": {},
     "output_type": "execute_result"
    }
   ],
   "source": [
    "let abs_apply (f:int->int) (n:int) = let x = f n in if x>0 then x else -x;;\n",
    "let bo = abs_apply (fun x -> x/2);;"
   ]
  },
  {
   "cell_type": "markdown",
   "id": "9a1fefb8",
   "metadata": {},
   "source": [
    "**Esercizio 1.6.** Scrivere una funzione `sommatoria` che prende un intero `n` e (anche se negativo) calcola la somma dei numeri compresi tra `0` ed `n`."
   ]
  },
  {
   "cell_type": "code",
   "execution_count": 41,
   "id": "e6ddd85e",
   "metadata": {},
   "outputs": [
    {
     "data": {
      "text/plain": [
       "val sommatoriaPos : int -> int = <fun>\n"
      ]
     },
     "execution_count": 41,
     "metadata": {},
     "output_type": "execute_result"
    },
    {
     "data": {
      "text/plain": [
       "val sommatoria : int -> int = <fun>\n"
      ]
     },
     "execution_count": 41,
     "metadata": {},
     "output_type": "execute_result"
    },
    {
     "data": {
      "text/plain": [
       "- : int = -15\n"
      ]
     },
     "execution_count": 41,
     "metadata": {},
     "output_type": "execute_result"
    }
   ],
   "source": [
    "let rec sommatoriaPos x =  if x=0 then 0 else x + sommatoriaPos (x-1);;\n",
    "let sommatoria x = if x>0 then sommatoriaPos x else -sommatoriaPos (-x);;\n",
    "sommatoria (-5)"
   ]
  },
  {
   "cell_type": "markdown",
   "id": "d0a1b941",
   "metadata": {},
   "source": [
    "**Esercizio 1.7.** Scrivere una funzione `modulo` che prende due interi `n` e `m`, e calcola il resto della divisone di `n/m`. Non usare l'operazione `mod` di OCaml per effettuare il calcolo. Inoltre, `n` e/o `m` possono essere negativi. La funzione `modulo` in questi casi si deve comportare come l'operazione `mod` di OCaml."
   ]
  },
  {
   "cell_type": "code",
   "execution_count": 70,
   "id": "1e7812bf",
   "metadata": {},
   "outputs": [
    {
     "data": {
      "text/plain": [
       "val modulo : int -> int -> int = <fun>\n"
      ]
     },
     "execution_count": 70,
     "metadata": {},
     "output_type": "execute_result"
    }
   ],
   "source": [
    "let modulo x y = x - y*(x/y);;"
   ]
  },
  {
   "cell_type": "markdown",
   "id": "e54f3c57",
   "metadata": {},
   "source": [
    "**Esercizio 1.8.** Scrivere due funzioni `ping` e `pong` mutuamente ricorsive ed entrambe con un parametro formale `n` tale che `ping n` restituisce una stringa in cui le parole `PING` e `PONG` si alternano `n` volte. Ad esempio, `ping 3` restituisce `\"PING PONG PING\"` (iniziando da `PING`), mentre `pong 3` restituisce `\"PONG PING PONG\"` (iniziando da `PONG`)."
   ]
  },
  {
   "cell_type": "code",
   "execution_count": 48,
   "id": "98af9148",
   "metadata": {},
   "outputs": [
    {
     "data": {
      "text/plain": [
       "val pong : int -> string = <fun>\n"
      ]
     },
     "execution_count": 48,
     "metadata": {},
     "output_type": "execute_result"
    },
    {
     "data": {
      "text/plain": [
       "val ping : int -> string = <fun>\n"
      ]
     },
     "execution_count": 48,
     "metadata": {},
     "output_type": "execute_result"
    }
   ],
   "source": [
    "(*da chiedere*)\n",
    "let rec pong x = if x>1 then \"PONG \" ^ ping (x-1) else \"PONG\";;\n",
    "let rec ping x = if x>1 then \"PING \" ^ pong (x-1) else \"PING\";;"
   ]
  },
  {
   "cell_type": "markdown",
   "id": "a35200f2",
   "metadata": {},
   "source": [
    "## 2. Type inference"
   ]
  },
  {
   "cell_type": "markdown",
   "id": "da38259a",
   "metadata": {},
   "source": [
    "**Esercizio 2.1.** Che tipo hanno le seguenti espressioni? Cercare di inferirlo a mente (o su carta) e poi controllare se la risposta è corretta facendo valutare l'espressione all'interprete:\n",
    "\n",
    "1. `if 3>0 then \"abc\" else \"cba\"`\n",
    "2. `(4+1)>(6-1)`\n",
    "3. `fun x -> 2. *. x`\n",
    "4. `fun x -> fun y -> x + y`\n",
    "5. `fun x -> fun y -> (float_of_int x) +. y`\n",
    "6. `fun x -> fun y -> x (y + 1) + 1`\n",
    "7. `fun x -> fun y -> x (y + 1)`\n",
    "8. `fun x -> fun y -> (x,y)`\n",
    "9. `(fun x -> x 2)(fun y -> y+1)`\n",
    "10. `fun x -> fun y -> x y y`\n",
    "11. `fun x -> (x,x+1)`\n",
    "12. `(fun x -> 2. , fun x -> x 2.)`\n",
    "13. `fun x -> fun y -> if x > 0 then y else x+1`\n",
    "14. `fun x -> fun y -> if x=true then y 2 else y 1`\n",
    "15. `(fun x -> fun y -> if x=true then y 2 else y 1)(false)(fun x -> x+1)`\n",
    "16. `if (fun x -> x>0) 5 then (fun x -> x+1) else (fun x -> x-1)` \n",
    "17. `let x = 3.0 +. 1.1 in fun y -> x +. y`\n",
    "18. `let x = fun x -> x in x`\n",
    "19. `let x = ((fun x -> (x-1,x+1)) 4)`\n",
    "20. `let x y z = y (z+2) in x (fun x-> x+1)`"
   ]
  },
  {
   "cell_type": "code",
   "execution_count": 72,
   "id": "69f72867",
   "metadata": {},
   "outputs": [
    {
     "data": {
      "text/plain": [
       "- : string = \"abc\"\n"
      ]
     },
     "execution_count": 72,
     "metadata": {},
     "output_type": "execute_result"
    },
    {
     "data": {
      "text/plain": [
       "- : bool = false\n"
      ]
     },
     "execution_count": 72,
     "metadata": {},
     "output_type": "execute_result"
    },
    {
     "data": {
      "text/plain": [
       "- : float -> float = <fun>\n"
      ]
     },
     "execution_count": 72,
     "metadata": {},
     "output_type": "execute_result"
    },
    {
     "data": {
      "text/plain": [
       "- : int -> int -> int = <fun>\n"
      ]
     },
     "execution_count": 72,
     "metadata": {},
     "output_type": "execute_result"
    },
    {
     "data": {
      "text/plain": [
       "- : int -> float -> float = <fun>\n"
      ]
     },
     "execution_count": 72,
     "metadata": {},
     "output_type": "execute_result"
    },
    {
     "data": {
      "text/plain": [
       "- : (int -> int) -> int -> int = <fun>\n"
      ]
     },
     "execution_count": 72,
     "metadata": {},
     "output_type": "execute_result"
    },
    {
     "data": {
      "text/plain": [
       "- : (int -> 'a) -> int -> 'a = <fun>\n"
      ]
     },
     "execution_count": 72,
     "metadata": {},
     "output_type": "execute_result"
    },
    {
     "data": {
      "text/plain": [
       "- : 'a -> 'b -> 'a * 'b = <fun>\n"
      ]
     },
     "execution_count": 72,
     "metadata": {},
     "output_type": "execute_result"
    },
    {
     "data": {
      "text/plain": [
       "- : int = 3\n"
      ]
     },
     "execution_count": 72,
     "metadata": {},
     "output_type": "execute_result"
    },
    {
     "data": {
      "text/plain": [
       "- : ('a -> 'a -> 'b) -> 'a -> 'b = <fun>\n"
      ]
     },
     "execution_count": 72,
     "metadata": {},
     "output_type": "execute_result"
    },
    {
     "data": {
      "text/plain": [
       "- : int -> int * int = <fun>\n"
      ]
     },
     "execution_count": 72,
     "metadata": {},
     "output_type": "execute_result"
    },
    {
     "data": {
      "text/plain": [
       "- : 'a -> float * ((float -> 'b) -> 'b) = <fun>\n"
      ]
     },
     "execution_count": 72,
     "metadata": {},
     "output_type": "execute_result"
    },
    {
     "data": {
      "text/plain": [
       "- : int -> int -> int = <fun>\n"
      ]
     },
     "execution_count": 72,
     "metadata": {},
     "output_type": "execute_result"
    },
    {
     "data": {
      "text/plain": [
       "- : bool -> (int -> 'a) -> 'a = <fun>\n"
      ]
     },
     "execution_count": 72,
     "metadata": {},
     "output_type": "execute_result"
    },
    {
     "data": {
      "text/plain": [
       "- : int = 2\n"
      ]
     },
     "execution_count": 72,
     "metadata": {},
     "output_type": "execute_result"
    },
    {
     "data": {
      "text/plain": [
       "- : int -> int = <fun>\n"
      ]
     },
     "execution_count": 72,
     "metadata": {},
     "output_type": "execute_result"
    },
    {
     "data": {
      "text/plain": [
       "- : float -> float = <fun>\n"
      ]
     },
     "execution_count": 72,
     "metadata": {},
     "output_type": "execute_result"
    },
    {
     "data": {
      "text/plain": [
       "- : 'a -> 'a = <fun>\n"
      ]
     },
     "execution_count": 72,
     "metadata": {},
     "output_type": "execute_result"
    },
    {
     "data": {
      "text/plain": [
       "val x : int * int = (3, 5)\n"
      ]
     },
     "execution_count": 72,
     "metadata": {},
     "output_type": "execute_result"
    },
    {
     "data": {
      "text/plain": [
       "- : int -> int = <fun>\n"
      ]
     },
     "execution_count": 72,
     "metadata": {},
     "output_type": "execute_result"
    }
   ],
   "source": [
    "\n",
    "    if 3>0 then \"abc\" else \"cba\";;\n",
    "    (4+1)>(6-1);;\n",
    "    fun x -> 2. *. x;;\n",
    "    fun x -> fun y -> x + y;;\n",
    "    fun x -> fun y -> (float_of_int x) +. y;;\n",
    "    fun x -> fun y -> x (y + 1) + 1;;\n",
    "    fun x -> fun y -> x (y + 1);;\n",
    "    fun x -> fun y -> (x,y);;\n",
    "    (fun x -> x 2)(fun y -> y+1);;\n",
    "    fun x -> fun y -> x y y;;\n",
    "    fun x -> (x,x+1);;\n",
    "    (fun x -> 2. , fun x -> x 2.);;\n",
    "    fun x -> fun y -> if x > 0 then y else x+1;;\n",
    "    fun x -> fun y -> if x=true then y 2 else y 1;;\n",
    "    (fun x -> fun y -> if x=true then y 2 else y 1)(false)(fun x -> x+1);;\n",
    "    if (fun x -> x>0) 5 then (fun x -> x+1) else (fun x -> x-1);;\n",
    "    let x = 3.0 +. 1.1 in fun y -> x +. y;;\n",
    "    let x = fun x -> x in x;;\n",
    "    let x = ((fun x -> (x-1,x+1)) 4);;\n",
    "    let x y z = y (z+2) in x (fun x-> x+1);;\n"
   ]
  },
  {
   "cell_type": "markdown",
   "id": "a5426b9d",
   "metadata": {},
   "source": [
    "**Esercizio 2.2.** Dire quali delle seguenti espressioni sono ben tipate (determinandone il tipo) e verificare la risposta facendo valutare ogni espressione all'interprete:\n",
    "\n",
    "1. `3.2 + (7.1 / 9.3)`\n",
    "2. `(2.1 , 4)`\n",
    "3. `if 4>2 then 12 + 5 else 21`\n",
    "4. `if (3+1)=4 then 2.1 else if false then 3.4 else 5.1`\n",
    "5. `fun x -> if x then 5 else x+1`\n",
    "6. `if (fun x -> x>0) then true else false`\n",
    "7. `fun x -> (x,x)`\n",
    "8. `let y = fun x -> x+.x in y 2.4`\n",
    "9. `let x = fun x -> x+x in x (fun x -> x+1)`\n",
    "10. `let x = 3>0 in if x then 12 else ((fun x -> x+1)11)`"
   ]
  },
  {
   "cell_type": "code",
   "execution_count": 73,
   "id": "54c8a1f0",
   "metadata": {},
   "outputs": [
    {
     "ename": "error",
     "evalue": "compile_error",
     "output_type": "error",
     "traceback": [
      "File \"[73]\", line 2, characters 4-7:\n2 |     3.2 + (7.1 / 9.3);\n        ^^^\nError: This expression has type float but an expression was expected of type\n         int\n"
     ]
    }
   ],
   "source": [
    "\n",
    "    3.2 + (7.1 / 9.3);\n",
    "    (2.1 , 4);\n",
    "    if 4>2 then 12 + 5 else 21;\n",
    "    if (3+1)=4 then 2.1 else if false then 3.4 else 5.1;\n",
    "    fun x -> if x then 5 else x+1;\n",
    "    if (fun x -> x>0) then true else false;\n",
    "    fun x -> (x,x);\n",
    "    let y = fun x -> x+.x in y 2.4;\n",
    "    let x = fun x -> x+x in x (fun x -> x+1);\n",
    "    let x = 3>0 in if x then 12 else ((fun x -> x+1)11);\n"
   ]
  },
  {
   "cell_type": "code",
   "execution_count": null,
   "id": "559ddcce",
   "metadata": {},
   "outputs": [],
   "source": []
  }
 ],
 "metadata": {
  "kernelspec": {
   "display_name": "OCaml default",
   "language": "OCaml",
   "name": "ocaml-jupyter"
  },
  "language_info": {
   "codemirror_mode": "text/x-ocaml",
   "file_extension": ".ml",
   "mimetype": "text/x-ocaml",
   "name": "OCaml",
   "nbconverter_exporter": null,
   "pygments_lexer": "OCaml",
   "version": "4.08.1"
  }
 },
 "nbformat": 4,
 "nbformat_minor": 5
}
