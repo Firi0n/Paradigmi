{
 "cells": [
  {
   "cell_type": "code",
   "execution_count": 19,
   "id": "f7a634a7",
   "metadata": {},
   "outputs": [
    {
     "data": {
      "text/plain": [
       "val espandi : ('a * int) list -> 'a list list = <fun>\n"
      ]
     },
     "execution_count": 19,
     "metadata": {},
     "output_type": "execute_result"
    },
    {
     "data": {
      "text/plain": [
       "- : int list list = [[1]; [2; 2]; [3; 3; 3]]\n"
      ]
     },
     "execution_count": 19,
     "metadata": {},
     "output_type": "execute_result"
    }
   ],
   "source": [
    "let espandi lis = \n",
    "let rec myF x = match x with\n",
    "| (_,0)->[]\n",
    "| (a,b)->a::myF (a,b-1)\n",
    "in List.map myF lis;;\n",
    "\n",
    "espandi [(1,1);(2,2);(3,3)]\n",
    "\n"
   ]
  },
  {
   "cell_type": "code",
   "execution_count": null,
   "id": "9f747ffb",
   "metadata": {},
   "outputs": [],
   "source": []
  }
 ],
 "metadata": {
  "kernelspec": {
   "display_name": "OCaml default",
   "language": "OCaml",
   "name": "ocaml-jupyter"
  },
  "language_info": {
   "codemirror_mode": "text/x-ocaml",
   "file_extension": ".ml",
   "mimetype": "text/x-ocaml",
   "name": "OCaml",
   "nbconverter_exporter": null,
   "pygments_lexer": "OCaml",
   "version": "4.08.1"
  }
 },
 "nbformat": 4,
 "nbformat_minor": 5
}
