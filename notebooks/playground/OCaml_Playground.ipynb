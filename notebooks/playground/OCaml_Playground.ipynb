{
 "cells": [
  {
   "cell_type": "markdown",
   "id": "e03e09f6",
   "metadata": {},
   "source": [
    "## OCaml Playground\n",
    "\n",
    "Esempio di Jupyter notebook per sperimentare con OCaml"
   ]
  },
  {
   "cell_type": "code",
   "execution_count": 1,
   "id": "b8ef708f",
   "metadata": {},
   "outputs": [
    {
     "data": {
      "text/plain": [
       "val msg : string =\n",
       "  \"Benvenuta/o su OCaml Playground! Selezionami e premi SHIFT+ENTER per eseguirmi\"\n"
      ]
     },
     "execution_count": 1,
     "metadata": {},
     "output_type": "execute_result"
    }
   ],
   "source": [
    "let msg = \"Benvenuta/o su OCaml Playground! Selezionami e premi SHIFT+ENTER per eseguirmi\" ;;"
   ]
  },
  {
   "cell_type": "code",
   "execution_count": 2,
   "id": "9b052270",
   "metadata": {},
   "outputs": [
    {
     "ename": "error",
     "evalue": "compile_error",
     "output_type": "error",
     "traceback": [
      "File \"[2]\", line 1, characters 5-6:\n1 | https://pythonspeed.com/articles/docker-connection-refused/\n         ^\nError: Syntax error\n"
     ]
    }
   ],
   "source": [
    "https://pythonspeed.com/articles/docker-connection-refused/"
   ]
  },
  {
   "cell_type": "code",
   "execution_count": 3,
   "id": "254b24ba",
   "metadata": {},
   "outputs": [
    {
     "data": {
      "text/plain": [
       "val media : float * float -> float = <fun>\n"
      ]
     },
     "execution_count": 3,
     "metadata": {},
     "output_type": "execute_result"
    }
   ],
   "source": [
    "let media(x,y) = (x +. y) /. 2.0"
   ]
  },
  {
   "cell_type": "code",
   "execution_count": null,
   "id": "36c868da",
   "metadata": {},
   "outputs": [],
   "source": []
  }
 ],
 "metadata": {
  "kernelspec": {
   "display_name": "OCaml default",
   "language": "OCaml",
   "name": "ocaml-jupyter"
  },
  "language_info": {
   "codemirror_mode": "text/x-ocaml",
   "file_extension": ".ml",
   "mimetype": "text/x-ocaml",
   "name": "OCaml",
   "nbconverter_exporter": null,
   "pygments_lexer": "OCaml",
   "version": "4.08.1"
  }
 },
 "nbformat": 4,
 "nbformat_minor": 5
}
